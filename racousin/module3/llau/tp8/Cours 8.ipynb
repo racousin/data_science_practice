{
 "cells": [
  {
   "cell_type": "markdown",
   "metadata": {
    "slideshow": {
     "slide_type": "slide"
    }
   },
   "source": [
    "# Cours 9: Introduction à Keras"
   ]
  },
  {
   "cell_type": "markdown",
   "metadata": {
    "slideshow": {
     "slide_type": "-"
    }
   },
   "source": [
    "Arthur Llau, arthur@flowlity.com"
   ]
  },
  {
   "cell_type": "markdown",
   "metadata": {
    "slideshow": {
     "slide_type": "slide"
    }
   },
   "source": [
    "**Plan** : \n",
    "- Benchmark\n",
    "- Définition de l'architecture d'un modèle\n",
    "- Layers, Activation & Optimizer\n",
    "- Callbacks\n",
    "- NLP tricks\n",
    "- Vision tricks\n"
   ]
  },
  {
   "cell_type": "markdown",
   "metadata": {
    "slideshow": {
     "slide_type": "slide"
    }
   },
   "source": [
    "## I - Introduction - Benchmark : classification & régréssion"
   ]
  },
  {
   "cell_type": "code",
   "execution_count": 1,
   "metadata": {
    "slideshow": {
     "slide_type": "slide"
    }
   },
   "outputs": [],
   "source": [
    "import warnings\n",
    "import numpy as np\n",
    "\n",
    "import matplotlib.pyplot as plt\n",
    "\n",
    "from sklearn.metrics import roc_auc_score, mean_absolute_error\n",
    "from sklearn.datasets import make_classification,make_regression\n",
    "from sklearn.linear_model import LogisticRegression, LinearRegression\n",
    "from sklearn.model_selection import train_test_split\n",
    "\n",
    "warnings.filterwarnings('ignore')"
   ]
  },
  {
   "cell_type": "code",
   "execution_count": 2,
   "metadata": {
    "slideshow": {
     "slide_type": "slide"
    }
   },
   "outputs": [],
   "source": [
    "X,y = make_classification(n_samples = 100000, n_features = 100, shuffle = True, random_state = 1234)\n",
    "X_tr,X_te,y_tr,y_te = train_test_split(X, y, random_state = 2019) "
   ]
  },
  {
   "cell_type": "code",
   "execution_count": 3,
   "metadata": {
    "slideshow": {
     "slide_type": "slide"
    }
   },
   "outputs": [],
   "source": [
    "X,y = make_regression(n_samples = 100000, n_features = 100, shuffle = True, random_state = 1234, noise = True)\n",
    "S_tr,S_te,s_tr,s_te = train_test_split(X, y, random_state = 2019) "
   ]
  },
  {
   "cell_type": "markdown",
   "metadata": {
    "slideshow": {
     "slide_type": "slide"
    }
   },
   "source": [
    "**1.1** Evaluer une régréssion logistique avec la métrique AUC sur le jeu de test correspondant."
   ]
  },
  {
   "cell_type": "code",
   "execution_count": 4,
   "metadata": {
    "scrolled": true,
    "slideshow": {
     "slide_type": "slide"
    }
   },
   "outputs": [
    {
     "name": "stdout",
     "output_type": "stream",
     "text": [
      "Logistic Regression AUC : 0.8846408666970337\n"
     ]
    }
   ],
   "source": [
    "model1 = LogisticRegression()\n",
    "model1.fit(X_tr,y_tr)\n",
    "print ('Logistic Regression AUC : {}'.format(roc_auc_score(y_te, model1.predict(X_te))))"
   ]
  },
  {
   "cell_type": "markdown",
   "metadata": {
    "slideshow": {
     "slide_type": "slide"
    }
   },
   "source": [
    "**1.2** Evaluer une régréssion linéaire avec la métrique MAE sur le jeu de test correspondant."
   ]
  },
  {
   "cell_type": "code",
   "execution_count": 5,
   "metadata": {
    "slideshow": {
     "slide_type": "slide"
    }
   },
   "outputs": [
    {
     "name": "stdout",
     "output_type": "stream",
     "text": [
      "Linear Regression MAE : 0.8011711587804731\n"
     ]
    }
   ],
   "source": [
    "model1 = LinearRegression()\n",
    "model1.fit(S_tr,s_tr)\n",
    "print ('Linear Regression MAE : {}'.format(mean_absolute_error(s_te, model1.predict(S_te))))"
   ]
  },
  {
   "cell_type": "markdown",
   "metadata": {
    "slideshow": {
     "slide_type": "slide"
    }
   },
   "source": [
    "## Que trouve-t'on dans Keras ?\n"
   ]
  },
  {
   "cell_type": "markdown",
   "metadata": {
    "slideshow": {
     "slide_type": "slide"
    }
   },
   "source": [
    "Keras est une API de deep learning, interfacable avec plusieurs framework comme Tensorflow, CNTK, Theano ou MxNet"
   ]
  },
  {
   "cell_type": "markdown",
   "metadata": {
    "slideshow": {
     "slide_type": "slide"
    }
   },
   "source": [
    "Points positifs :\n",
    "-  Facilité de prise en main, user-friendly, ressemble à sklearn\n",
    "-  Modulaire : on construit le graphe couche par couche ou comme un graphe \n",
    "-  Permet de mettre en place rapidement des tests\n",
    "-  Grosse communauté donc plein de papiers implémentés\n",
    "-  Plus rapide que torch en prédiction"
   ]
  },
  {
   "cell_type": "markdown",
   "metadata": {
    "slideshow": {
     "slide_type": "slide"
    }
   },
   "source": [
    "## II - Définir l'architecture d'un modèle"
   ]
  },
  {
   "cell_type": "markdown",
   "metadata": {
    "slideshow": {
     "slide_type": "slide"
    }
   },
   "source": [
    "![](networkx.png)"
   ]
  },
  {
   "cell_type": "markdown",
   "metadata": {
    "slideshow": {
     "slide_type": "slide"
    }
   },
   "source": [
    "Il existe deux méthodes pour définir un modèle :\n",
    "- Sequential : couche par couche\n",
    "- API : architecture arbitraire\n"
   ]
  },
  {
   "cell_type": "code",
   "execution_count": 6,
   "metadata": {
    "slideshow": {
     "slide_type": "slide"
    }
   },
   "outputs": [
    {
     "name": "stderr",
     "output_type": "stream",
     "text": [
      "Using TensorFlow backend.\n"
     ]
    }
   ],
   "source": [
    "import os\n",
    "os.environ[\"KERAS_BACKEND\"] = \"torch\"\n",
    "\n",
    "from keras import layers\n",
    "from keras import models\n",
    "\n",
    "## Sequential, la plus simple\n",
    "#input_shape taille d'entrée (nombre de features dans le cas de données tabulaires),\n",
    "#si image (longueur,largeur,nb_couche)\n",
    "model = models.Sequential()\n",
    "model.add(layers.Dense(4, input_shape = (100,)))\n",
    "model.add(layers.Dense(1, activation= 'sigmoid'))\n"
   ]
  },
  {
   "cell_type": "code",
   "execution_count": 7,
   "metadata": {
    "slideshow": {
     "slide_type": "slide"
    }
   },
   "outputs": [],
   "source": [
    "\n",
    "#API qui permet de concatener des layers\n",
    "input_matrix = layers.Input((100,))\n",
    "x = layers.Dense(4)(input_matrix)\n",
    "output = layers.Dense(1)(x)\n",
    "model = models.Model(input_matrix, output)"
   ]
  },
  {
   "cell_type": "markdown",
   "metadata": {
    "slideshow": {
     "slide_type": "slide"
    }
   },
   "source": [
    "![exemple](model.png)"
   ]
  },
  {
   "cell_type": "code",
   "execution_count": 8,
   "metadata": {
    "scrolled": true,
    "slideshow": {
     "slide_type": "slide"
    }
   },
   "outputs": [],
   "source": [
    "object_a = layers.Input(shape=(280, 256))\n",
    "object_b = layers.Input(shape=(280, 256))\n",
    "\n",
    "shared_layer = layers.LSTM(64)\n",
    "#On construit deux layers indépendant\n",
    "layer_a = shared_layer(object_a)\n",
    "layer_b = shared_layer(object_b)\n",
    "#On les concatene\n",
    "merged_vector = layers.concatenate([layer_a, layer_b], axis=-1)\n",
    "#On ajoute l'output\n",
    "predictions = layers.Dense(1, activation='sigmoid')(merged_vector)\n",
    "\n",
    "model_concat = models.Model(inputs=[object_a, object_b], outputs=predictions)\n"
   ]
  },
  {
   "cell_type": "markdown",
   "metadata": {
    "slideshow": {
     "slide_type": "slide"
    }
   },
   "source": [
    "Une fois le modèle construit, il faut compiler. C'est-à-dire lui spécifier la fonction objectif (loss) et l'algorithme d'optimisation permettant de mettre à jour les poids du réseau. (optimizer)\n",
    "\n"
   ]
  },
  {
   "cell_type": "code",
   "execution_count": 9,
   "metadata": {
    "slideshow": {
     "slide_type": "slide"
    }
   },
   "outputs": [],
   "source": [
    "model.compile(loss = 'mean_squared_error', optimizer = 'adam', metrics = ['acc'])\n"
   ]
  },
  {
   "cell_type": "markdown",
   "metadata": {
    "slideshow": {
     "slide_type": "slide"
    }
   },
   "source": [
    "On peut afficher un résumé de l'architecture avec la commande suivante :"
   ]
  },
  {
   "cell_type": "code",
   "execution_count": 10,
   "metadata": {
    "scrolled": true,
    "slideshow": {
     "slide_type": "slide"
    }
   },
   "outputs": [
    {
     "name": "stdout",
     "output_type": "stream",
     "text": [
      "_________________________________________________________________\n",
      "Layer (type)                 Output Shape              Param #   \n",
      "=================================================================\n",
      "input_1 (InputLayer)         (None, 100)               0         \n",
      "_________________________________________________________________\n",
      "dense_3 (Dense)              (None, 4)                 404       \n",
      "_________________________________________________________________\n",
      "dense_4 (Dense)              (None, 1)                 5         \n",
      "=================================================================\n",
      "Total params: 409\n",
      "Trainable params: 409\n",
      "Non-trainable params: 0\n",
      "_________________________________________________________________\n"
     ]
    }
   ],
   "source": [
    "model.summary()"
   ]
  },
  {
   "cell_type": "markdown",
   "metadata": {
    "slideshow": {
     "slide_type": "slide"
    }
   },
   "source": [
    "*Pourquoi a-t'on 404 paramètres dans la couche d'entrée ?*"
   ]
  },
  {
   "cell_type": "markdown",
   "metadata": {
    "slideshow": {
     "slide_type": "slide"
    }
   },
   "source": [
    "On dispose  de 4 neurones, et 100 features, donc le nombre de paramètres est égale à nb neurones * nb features + nb neurones (biais)"
   ]
  },
  {
   "cell_type": "markdown",
   "metadata": {
    "slideshow": {
     "slide_type": "slide"
    }
   },
   "source": [
    "On peut sauvegarder l'architecture comme une image grâce à plot_model : "
   ]
  },
  {
   "cell_type": "code",
   "execution_count": 11,
   "metadata": {
    "slideshow": {
     "slide_type": "slide"
    }
   },
   "outputs": [],
   "source": [
    "\n",
    "from keras.utils import plot_model\n",
    "plot_model(model, to_file='model_init.png', show_shapes=True, show_layer_names=True)"
   ]
  },
  {
   "cell_type": "markdown",
   "metadata": {
    "slideshow": {
     "slide_type": "slide"
    }
   },
   "source": [
    "![](model_init.png)"
   ]
  },
  {
   "cell_type": "markdown",
   "metadata": {
    "slideshow": {
     "slide_type": "slide"
    }
   },
   "source": [
    "Il ne reste plus qu'à lui faire apprendre des données."
   ]
  },
  {
   "cell_type": "code",
   "execution_count": 12,
   "metadata": {
    "slideshow": {
     "slide_type": "slide"
    }
   },
   "outputs": [],
   "source": [
    "%%capture\n",
    "history = model.fit(X_tr,y_tr, epochs = 100, batch_size = 10000)\n",
    "# Batch = nombre d'échantillons que l'on envoie dans le réseau à chaque itération\n",
    "# Epoch = nombre de forward et backward totaux que l'on souhaite réaliser"
   ]
  },
  {
   "cell_type": "markdown",
   "metadata": {
    "slideshow": {
     "slide_type": "slide"
    }
   },
   "source": [
    "On peut récupérer les valeurs de loss et de la métrique durant l'évaluation"
   ]
  },
  {
   "cell_type": "code",
   "execution_count": 13,
   "metadata": {
    "slideshow": {
     "slide_type": "slide"
    }
   },
   "outputs": [
    {
     "data": {
      "text/plain": [
       "Text(0, 0.5, 'metric')"
      ]
     },
     "execution_count": 13,
     "metadata": {},
     "output_type": "execute_result"
    },
    {
     "data": {
      "image/png": "[encoded data removed]",
      "text/plain": [
       "<Figure size 1080x432 with 2 Axes>"
      ]
     },
     "metadata": {},
     "output_type": "display_data"
    }
   ],
   "source": [
    "plt.figure(figsize=(15,6))\n",
    "plt.subplot(121)\n",
    "plt.plot(range(100),history.history['loss'])\n",
    "plt.xlabel('epoch')\n",
    "plt.ylabel('loss')\n",
    "plt.subplot(122)\n",
    "plt.plot(range(100),history.history['acc'])\n",
    "plt.xlabel('epoch')\n",
    "plt.ylabel('metric')\n"
   ]
  },
  {
   "cell_type": "markdown",
   "metadata": {
    "slideshow": {
     "slide_type": "slide"
    }
   },
   "source": [
    "Pour **prédire**, rien de plus simple. model.predict(X)"
   ]
  },
  {
   "cell_type": "markdown",
   "metadata": {
    "slideshow": {
     "slide_type": "slide"
    }
   },
   "source": [
    "## III - Layers, Activations & Optimizer"
   ]
  },
  {
   "cell_type": "code",
   "execution_count": 14,
   "metadata": {
    "slideshow": {
     "slide_type": "skip"
    }
   },
   "outputs": [],
   "source": [
    "from keras.layers import *\n",
    "from keras.models import Sequential\n"
   ]
  },
  {
   "cell_type": "markdown",
   "metadata": {
    "slideshow": {
     "slide_type": "slide"
    }
   },
   "source": [
    "Pour des données tabulaires il y a principalement trois layers importants : Dense, Dropout, Activation."
   ]
  },
  {
   "cell_type": "code",
   "execution_count": 15,
   "metadata": {
    "slideshow": {
     "slide_type": "slide"
    }
   },
   "outputs": [
    {
     "name": "stdout",
     "output_type": "stream",
     "text": [
      "units : nombre de cellules\n",
      "\n",
      "activation : fonction d'activation\n"
     ]
    }
   ],
   "source": [
    "#Dense : Fully connected layer\n",
    "Dense(units = 30, activation=None, use_bias=True, kernel_initializer='glorot_uniform')\n",
    "print(\"\"\"units : nombre de cellules\n",
    "\n",
    "activation : fonction d'activation\"\"\")"
   ]
  },
  {
   "cell_type": "code",
   "execution_count": 16,
   "metadata": {
    "scrolled": true,
    "slideshow": {
     "slide_type": "slide"
    }
   },
   "outputs": [
    {
     "name": "stdout",
     "output_type": "stream",
     "text": [
      "rate : taux de dropout\n"
     ]
    }
   ],
   "source": [
    "#Dropout : Regularization en faisant sauter des neurones pendant l'apprentissage\n",
    "Dropout(rate = 0.3, seed=None)\n",
    "print(\"\"\"rate : taux de dropout\"\"\")"
   ]
  },
  {
   "cell_type": "code",
   "execution_count": 17,
   "metadata": {
    "slideshow": {
     "slide_type": "slide"
    }
   },
   "outputs": [],
   "source": [
    "model = Sequential()\n",
    "\n",
    "#La couche d'activation est équivalente à l'option activation dans une couche\n",
    "model.add(Dense(64, activation = 'relu'))\n",
    "# équivalent à \n",
    "model.add(Dense(64))\n",
    "model.add(Activation(activation='relu'))"
   ]
  },
  {
   "cell_type": "markdown",
   "metadata": {
    "slideshow": {
     "slide_type": "slide"
    }
   },
   "source": [
    "On trouve quatre activations principales :\n",
    "- linear : le signal n'est pas transformé\n",
    "- tanh : $\\frac{e^x−1}{e^x+1}$retourne une valeur entre -1 et 1  \n",
    "- sigmoid :  $ f(x)=\\frac{1}{1 + e^{- x}}$, retourne une valeur entre 0 et 1\n",
    "- relu : $max(0,x)$, on garde uniquement ce qui nous intéresse "
   ]
  },
  {
   "cell_type": "markdown",
   "metadata": {
    "slideshow": {
     "slide_type": "slide"
    }
   },
   "source": [
    "La denière couche du réseau est celle qui nous donne l'output désiré. Sa dimension, ainsi que son activation doivent être choisi pour répondre à la problématique voulu."
   ]
  },
  {
   "cell_type": "markdown",
   "metadata": {
    "slideshow": {
     "slide_type": "slide"
    }
   },
   "source": [
    "**Classification binaire** :\n",
    "\n",
    "- nombre de neurones : 1\n",
    "- activation : sigmoid $ f(x)=\\frac{1}{1 + e^{- x}}$\n",
    "- loss : binary_crossentropy\n",
    "\n"
   ]
  },
  {
   "cell_type": "markdown",
   "metadata": {
    "slideshow": {
     "slide_type": "slide"
    }
   },
   "source": [
    "**Classification multiclasses** :\n",
    "    \n",
    "- nombre de neurones : nombre de classes\n",
    "- activation : softmax\n",
    "- loss : categorical_crossentropy\n",
    "\n",
    "    \n",
    "    "
   ]
  },
  {
   "cell_type": "markdown",
   "metadata": {
    "slideshow": {
     "slide_type": "slide"
    }
   },
   "source": [
    "**Régréssion** :\n",
    "    \n",
    "- nombre de neurones : 1\n",
    "- activation : linéaire\n",
    "- loss : toute loss différentiable\n",
    "\n",
    "    \n",
    "    "
   ]
  },
  {
   "cell_type": "markdown",
   "metadata": {
    "slideshow": {
     "slide_type": "slide"
    }
   },
   "source": [
    "Le choix de l'algorithme d'optimisation est toujours une grande question. L'utilisation de l'algorithme peut être réalisé de deux façons."
   ]
  },
  {
   "cell_type": "code",
   "execution_count": 18,
   "metadata": {
    "slideshow": {
     "slide_type": "slide"
    }
   },
   "outputs": [],
   "source": [
    "from keras.optimizers import SGD\n",
    "#Avec les paramètres par défault\n",
    "model.compile(loss = 'mean_squared_error', optimizer='sgd')\n",
    "\n",
    "## Ou bien pour pouvoir customiser l'algorithme\n",
    "sgd = SGD(lr=0.01, decay=1e-6, momentum=0.9, nesterov=True)\n",
    "model.compile(loss='mean_squared_error', optimizer=sgd)"
   ]
  },
  {
   "cell_type": "markdown",
   "metadata": {
    "slideshow": {
     "slide_type": "slide"
    }
   },
   "source": [
    "Voici un rapide récapitulatif des principaux algorithmes d'optimisation  :\n",
    "-  SGD, le plus classique, fluctue autour du minimum\n",
    "-  RMSprop, bon choix pour les réseaux récurrent\n",
    "-  Adam, efficace dans la majorité des cas (https://arxiv.org/abs/1412.6980v8)\n"
   ]
  },
  {
   "cell_type": "markdown",
   "metadata": {
    "slideshow": {
     "slide_type": "slide"
    }
   },
   "source": [
    "**Question 1** : Dans le cas de la classification binaire construire un modèle permettant d'atteindre la valeur de la régréssion logistique, en l'évaluant sur le jeu de test correspondant. Et afficher les valeurs de loss et de métrique."
   ]
  },
  {
   "cell_type": "code",
   "execution_count": 19,
   "metadata": {
    "slideshow": {
     "slide_type": "slide"
    }
   },
   "outputs": [],
   "source": [
    "from keras.models import *\n",
    "from keras.layers import *\n"
   ]
  },
  {
   "cell_type": "code",
   "execution_count": 20,
   "metadata": {
    "slideshow": {
     "slide_type": "slide"
    }
   },
   "outputs": [],
   "source": [
    "BS = 10000\n",
    "EPOCHS = 100"
   ]
  },
  {
   "cell_type": "code",
   "execution_count": 21,
   "metadata": {
    "slideshow": {
     "slide_type": "slide"
    }
   },
   "outputs": [],
   "source": [
    "model = Sequential()\n",
    "model.add(Dense(100, input_shape = (X_tr.shape[1],)))\n",
    "model.add(Dense(64, activation = 'relu'))\n",
    "model.add(Dense(32, activation = 'sigmoid'))\n",
    "model.add(Dense(1, activation = 'sigmoid'))\n",
    "model.compile(optimizer = 'adam', loss = 'binary_crossentropy', metrics = ['accuracy'])"
   ]
  },
  {
   "cell_type": "code",
   "execution_count": 22,
   "metadata": {
    "scrolled": true,
    "slideshow": {
     "slide_type": "slide"
    }
   },
   "outputs": [
    {
     "name": "stdout",
     "output_type": "stream",
     "text": [
      "Epoch 1/100\n",
      "75000/75000 [==============================] - 0s 4us/step - loss: 0.7799 - acc: 0.4998\n",
      "Epoch 2/100\n",
      "75000/75000 [==============================] - 0s 1us/step - loss: 0.6670 - acc: 0.5639\n",
      "Epoch 3/100\n",
      "75000/75000 [==============================] - 0s 1us/step - loss: 0.6058 - acc: 0.7387\n",
      "Epoch 4/100\n",
      "75000/75000 [==============================] - 0s 1us/step - loss: 0.5502 - acc: 0.8053\n",
      "Epoch 5/100\n",
      "75000/75000 [==============================] - 0s 1us/step - loss: 0.4822 - acc: 0.8487\n",
      "Epoch 6/100\n",
      "75000/75000 [==============================] - 0s 1us/step - loss: 0.4163 - acc: 0.8660\n",
      "Epoch 7/100\n",
      "75000/75000 [==============================] - 0s 1us/step - loss: 0.3642 - acc: 0.8732\n",
      "Epoch 8/100\n",
      "75000/75000 [==============================] - 0s 1us/step - loss: 0.3281 - acc: 0.8795\n",
      "Epoch 9/100\n",
      "75000/75000 [==============================] - 0s 1us/step - loss: 0.3054 - acc: 0.8835\n",
      "Epoch 10/100\n",
      "75000/75000 [==============================] - 0s 1us/step - loss: 0.2912 - acc: 0.8868\n",
      "Epoch 11/100\n",
      "75000/75000 [==============================] - 0s 1us/step - loss: 0.2811 - acc: 0.8898\n",
      "Epoch 12/100\n",
      "75000/75000 [==============================] - 0s 1us/step - loss: 0.2727 - acc: 0.8915\n",
      "Epoch 13/100\n",
      "75000/75000 [==============================] - 0s 1us/step - loss: 0.2655 - acc: 0.8953\n",
      "Epoch 14/100\n",
      "75000/75000 [==============================] - 0s 1us/step - loss: 0.2590 - acc: 0.8979\n",
      "Epoch 15/100\n",
      "75000/75000 [==============================] - 0s 1us/step - loss: 0.2530 - acc: 0.9016\n",
      "Epoch 16/100\n",
      "75000/75000 [==============================] - 0s 1us/step - loss: 0.2482 - acc: 0.9042\n",
      "Epoch 17/100\n",
      "75000/75000 [==============================] - 0s 1us/step - loss: 0.2440 - acc: 0.9062\n",
      "Epoch 18/100\n",
      "75000/75000 [==============================] - 0s 1us/step - loss: 0.2406 - acc: 0.9075\n",
      "Epoch 19/100\n",
      "75000/75000 [==============================] - 0s 1us/step - loss: 0.2376 - acc: 0.9090\n",
      "Epoch 20/100\n",
      "75000/75000 [==============================] - 0s 1us/step - loss: 0.2352 - acc: 0.9095\n",
      "Epoch 21/100\n",
      "75000/75000 [==============================] - 0s 1us/step - loss: 0.2329 - acc: 0.9099\n",
      "Epoch 22/100\n",
      "75000/75000 [==============================] - 0s 1us/step - loss: 0.2309 - acc: 0.9110\n",
      "Epoch 23/100\n",
      "75000/75000 [==============================] - 0s 1us/step - loss: 0.2292 - acc: 0.9106\n",
      "Epoch 24/100\n",
      "75000/75000 [==============================] - 0s 1us/step - loss: 0.2275 - acc: 0.9121\n",
      "Epoch 25/100\n",
      "75000/75000 [==============================] - 0s 1us/step - loss: 0.2258 - acc: 0.9124\n",
      "Epoch 26/100\n",
      "75000/75000 [==============================] - 0s 1us/step - loss: 0.2243 - acc: 0.9128\n",
      "Epoch 27/100\n",
      "75000/75000 [==============================] - 0s 1us/step - loss: 0.2229 - acc: 0.9129\n",
      "Epoch 28/100\n",
      "75000/75000 [==============================] - 0s 1us/step - loss: 0.2216 - acc: 0.9135\n",
      "Epoch 29/100\n",
      "75000/75000 [==============================] - 0s 1us/step - loss: 0.2205 - acc: 0.9142\n",
      "Epoch 30/100\n",
      "75000/75000 [==============================] - 0s 1us/step - loss: 0.2193 - acc: 0.9143\n",
      "Epoch 31/100\n",
      "75000/75000 [==============================] - 0s 1us/step - loss: 0.2182 - acc: 0.9147\n",
      "Epoch 32/100\n",
      "75000/75000 [==============================] - 0s 1us/step - loss: 0.2173 - acc: 0.9151\n",
      "Epoch 33/100\n",
      "75000/75000 [==============================] - 0s 1us/step - loss: 0.2163 - acc: 0.9153\n",
      "Epoch 34/100\n",
      "75000/75000 [==============================] - 0s 1us/step - loss: 0.2155 - acc: 0.9162\n",
      "Epoch 35/100\n",
      "75000/75000 [==============================] - 0s 1us/step - loss: 0.2149 - acc: 0.9153\n",
      "Epoch 36/100\n",
      "75000/75000 [==============================] - 0s 1us/step - loss: 0.2141 - acc: 0.9162\n",
      "Epoch 37/100\n",
      "75000/75000 [==============================] - 0s 1us/step - loss: 0.2131 - acc: 0.9161\n",
      "Epoch 38/100\n",
      "75000/75000 [==============================] - 0s 1us/step - loss: 0.2124 - acc: 0.9163\n",
      "Epoch 39/100\n",
      "75000/75000 [==============================] - 0s 1us/step - loss: 0.2118 - acc: 0.9175\n",
      "Epoch 40/100\n",
      "75000/75000 [==============================] - 0s 1us/step - loss: 0.2109 - acc: 0.9170\n",
      "Epoch 41/100\n",
      "75000/75000 [==============================] - 0s 1us/step - loss: 0.2102 - acc: 0.9179\n",
      "Epoch 42/100\n",
      "75000/75000 [==============================] - 0s 1us/step - loss: 0.2095 - acc: 0.9178\n",
      "Epoch 43/100\n",
      "75000/75000 [==============================] - 0s 1us/step - loss: 0.2088 - acc: 0.9179\n",
      "Epoch 44/100\n",
      "75000/75000 [==============================] - 0s 1us/step - loss: 0.2084 - acc: 0.9179\n",
      "Epoch 45/100\n",
      "75000/75000 [==============================] - 0s 1us/step - loss: 0.2078 - acc: 0.9182\n",
      "Epoch 46/100\n",
      "75000/75000 [==============================] - 0s 1us/step - loss: 0.2073 - acc: 0.9188\n",
      "Epoch 47/100\n",
      "75000/75000 [==============================] - 0s 1us/step - loss: 0.2067 - acc: 0.9190\n",
      "Epoch 48/100\n",
      "75000/75000 [==============================] - 0s 1us/step - loss: 0.2061 - acc: 0.9189\n",
      "Epoch 49/100\n",
      "75000/75000 [==============================] - 0s 1us/step - loss: 0.2056 - acc: 0.9193\n",
      "Epoch 50/100\n",
      "75000/75000 [==============================] - 0s 1us/step - loss: 0.2049 - acc: 0.9200\n",
      "Epoch 51/100\n",
      "75000/75000 [==============================] - 0s 1us/step - loss: 0.2045 - acc: 0.9196\n",
      "Epoch 52/100\n",
      "75000/75000 [==============================] - 0s 1us/step - loss: 0.2040 - acc: 0.9199\n",
      "Epoch 53/100\n",
      "75000/75000 [==============================] - 0s 1us/step - loss: 0.2036 - acc: 0.9201\n",
      "Epoch 54/100\n",
      "75000/75000 [==============================] - 0s 1us/step - loss: 0.2032 - acc: 0.9202\n",
      "Epoch 55/100\n",
      "75000/75000 [==============================] - 0s 1us/step - loss: 0.2025 - acc: 0.9207\n",
      "Epoch 56/100\n",
      "75000/75000 [==============================] - 0s 1us/step - loss: 0.2020 - acc: 0.9206\n",
      "Epoch 57/100\n",
      "75000/75000 [==============================] - 0s 1us/step - loss: 0.2016 - acc: 0.9209\n",
      "Epoch 58/100\n",
      "75000/75000 [==============================] - 0s 1us/step - loss: 0.2010 - acc: 0.9212\n",
      "Epoch 59/100\n",
      "75000/75000 [==============================] - 0s 1us/step - loss: 0.2007 - acc: 0.9212\n",
      "Epoch 60/100\n",
      "75000/75000 [==============================] - 0s 1us/step - loss: 0.2001 - acc: 0.9216\n",
      "Epoch 61/100\n",
      "75000/75000 [==============================] - 0s 1us/step - loss: 0.1997 - acc: 0.9221\n",
      "Epoch 62/100\n",
      "75000/75000 [==============================] - 0s 1us/step - loss: 0.1991 - acc: 0.9221\n",
      "Epoch 63/100\n",
      "75000/75000 [==============================] - 0s 1us/step - loss: 0.1987 - acc: 0.9226\n",
      "Epoch 64/100\n",
      "75000/75000 [==============================] - 0s 1us/step - loss: 0.1980 - acc: 0.9228\n",
      "Epoch 65/100\n",
      "75000/75000 [==============================] - 0s 1us/step - loss: 0.1976 - acc: 0.9225\n",
      "Epoch 66/100\n",
      "75000/75000 [==============================] - 0s 1us/step - loss: 0.1972 - acc: 0.9233\n",
      "Epoch 67/100\n",
      "75000/75000 [==============================] - 0s 1us/step - loss: 0.1966 - acc: 0.9233A: 0s - loss: 0.1967 - acc: 0.923\n",
      "Epoch 68/100\n",
      "75000/75000 [==============================] - 0s 1us/step - loss: 0.1962 - acc: 0.9237\n",
      "Epoch 69/100\n",
      "75000/75000 [==============================] - 0s 1us/step - loss: 0.1955 - acc: 0.9241\n",
      "Epoch 70/100\n",
      "75000/75000 [==============================] - 0s 1us/step - loss: 0.1949 - acc: 0.9241\n",
      "Epoch 71/100\n",
      "75000/75000 [==============================] - 0s 1us/step - loss: 0.1944 - acc: 0.9246\n",
      "Epoch 72/100\n",
      "75000/75000 [==============================] - 0s 1us/step - loss: 0.1937 - acc: 0.9249\n",
      "Epoch 73/100\n",
      "75000/75000 [==============================] - 0s 1us/step - loss: 0.1932 - acc: 0.9249\n",
      "Epoch 74/100\n",
      "75000/75000 [==============================] - 0s 1us/step - loss: 0.1926 - acc: 0.9254\n",
      "Epoch 75/100\n",
      "75000/75000 [==============================] - 0s 1us/step - loss: 0.1919 - acc: 0.9256\n",
      "Epoch 76/100\n",
      "75000/75000 [==============================] - 0s 1us/step - loss: 0.1913 - acc: 0.9262\n",
      "Epoch 77/100\n",
      "75000/75000 [==============================] - 0s 1us/step - loss: 0.1905 - acc: 0.9267\n",
      "Epoch 78/100\n",
      "75000/75000 [==============================] - 0s 1us/step - loss: 0.1900 - acc: 0.9270\n",
      "Epoch 79/100\n",
      "75000/75000 [==============================] - 0s 1us/step - loss: 0.1892 - acc: 0.9273\n",
      "Epoch 80/100\n",
      "75000/75000 [==============================] - 0s 1us/step - loss: 0.1886 - acc: 0.9273\n",
      "Epoch 81/100\n",
      "75000/75000 [==============================] - 0s 1us/step - loss: 0.1879 - acc: 0.9282\n",
      "Epoch 82/100\n",
      "75000/75000 [==============================] - 0s 1us/step - loss: 0.1871 - acc: 0.9284\n",
      "Epoch 83/100\n",
      "75000/75000 [==============================] - 0s 1us/step - loss: 0.1861 - acc: 0.9290\n",
      "Epoch 84/100\n",
      "75000/75000 [==============================] - 0s 1us/step - loss: 0.1851 - acc: 0.9292\n",
      "Epoch 85/100\n",
      "75000/75000 [==============================] - 0s 1us/step - loss: 0.1844 - acc: 0.9299\n",
      "Epoch 86/100\n",
      "75000/75000 [==============================] - 0s 1us/step - loss: 0.1836 - acc: 0.9310\n",
      "Epoch 87/100\n",
      "75000/75000 [==============================] - 0s 1us/step - loss: 0.1825 - acc: 0.9314\n",
      "Epoch 88/100\n",
      "75000/75000 [==============================] - 0s 1us/step - loss: 0.1817 - acc: 0.9315\n",
      "Epoch 89/100\n",
      "75000/75000 [==============================] - 0s 1us/step - loss: 0.1804 - acc: 0.9327\n",
      "Epoch 90/100\n",
      "75000/75000 [==============================] - 0s 1us/step - loss: 0.1795 - acc: 0.9330\n",
      "Epoch 91/100\n",
      "75000/75000 [==============================] - 0s 1us/step - loss: 0.1785 - acc: 0.9340\n",
      "Epoch 92/100\n",
      "75000/75000 [==============================] - 0s 1us/step - loss: 0.1774 - acc: 0.9343\n",
      "Epoch 93/100\n",
      "75000/75000 [==============================] - 0s 1us/step - loss: 0.1762 - acc: 0.9354\n",
      "Epoch 94/100\n",
      "75000/75000 [==============================] - 0s 1us/step - loss: 0.1751 - acc: 0.9363\n",
      "Epoch 95/100\n",
      "75000/75000 [==============================] - 0s 1us/step - loss: 0.1737 - acc: 0.9370\n",
      "Epoch 96/100\n",
      "75000/75000 [==============================] - 0s 1us/step - loss: 0.1725 - acc: 0.9378\n",
      "Epoch 97/100\n",
      "75000/75000 [==============================] - 0s 1us/step - loss: 0.1712 - acc: 0.9391\n",
      "Epoch 98/100\n",
      "75000/75000 [==============================] - 0s 1us/step - loss: 0.1700 - acc: 0.9395\n",
      "Epoch 99/100\n",
      "75000/75000 [==============================] - 0s 1us/step - loss: 0.1686 - acc: 0.9408\n",
      "Epoch 100/100\n",
      "75000/75000 [==============================] - 0s 1us/step - loss: 0.1675 - acc: 0.9407\n"
     ]
    }
   ],
   "source": [
    "history = model.fit(X_tr, y_tr, batch_size = BS, epochs = EPOCHS)"
   ]
  },
  {
   "cell_type": "code",
   "execution_count": 23,
   "metadata": {
    "slideshow": {
     "slide_type": "slide"
    }
   },
   "outputs": [
    {
     "data": {
      "text/plain": [
       "Text(0, 0.5, 'metric')"
      ]
     },
     "execution_count": 23,
     "metadata": {},
     "output_type": "execute_result"
    },
    {
     "data": {
      "image/png": "[encoded data removed]",
      "text/plain": [
       "<Figure size 1080x432 with 2 Axes>"
      ]
     },
     "metadata": {},
     "output_type": "display_data"
    }
   ],
   "source": [
    "plt.figure(figsize=(15,6))\n",
    "plt.subplot(121)\n",
    "plt.plot(range(100),history.history['loss'])\n",
    "plt.xlabel('epoch')\n",
    "plt.ylabel('loss')\n",
    "plt.subplot(122)\n",
    "plt.plot(range(100),history.history['acc'])\n",
    "plt.xlabel('epoch')\n",
    "plt.ylabel('metric')\n"
   ]
  },
  {
   "cell_type": "code",
   "execution_count": 24,
   "metadata": {
    "slideshow": {
     "slide_type": "slide"
    }
   },
   "outputs": [
    {
     "name": "stdout",
     "output_type": "stream",
     "text": [
      "Model performance 0.9743885761094649\n"
     ]
    }
   ],
   "source": [
    "preds = model.predict(X_te)\n",
    "print ('Model performance {}'.format(roc_auc_score(y_te, preds)))"
   ]
  },
  {
   "cell_type": "markdown",
   "metadata": {
    "slideshow": {
     "slide_type": "slide"
    }
   },
   "source": [
    "**Question 2** : Dans le cas de la régréssion construire un modèle permettant d'atteindre la valeur de la régréssion linéaire, en l'évaluant sur le jeu de test correspondant. Et faites une figure des valeurs de loss et de métrique."
   ]
  },
  {
   "cell_type": "code",
   "execution_count": 25,
   "metadata": {
    "slideshow": {
     "slide_type": "slide"
    }
   },
   "outputs": [],
   "source": [
    "from keras import backend as K\n",
    "K.clear_session()"
   ]
  },
  {
   "cell_type": "code",
   "execution_count": 26,
   "metadata": {
    "slideshow": {
     "slide_type": "slide"
    }
   },
   "outputs": [],
   "source": [
    "model2 = Sequential()\n",
    "model2.add(Dense(100, input_shape = (S_tr.shape[1],)))\n",
    "model2.add(Dense(32, activation = 'relu'))\n",
    "model2.add(Dense(1, activation = 'relu'))\n",
    "model2.compile(optimizer = 'adam', loss = 'mae', metrics = ['mae'])"
   ]
  },
  {
   "cell_type": "code",
   "execution_count": 27,
   "metadata": {
    "scrolled": true,
    "slideshow": {
     "slide_type": "slide"
    }
   },
   "outputs": [
    {
     "name": "stdout",
     "output_type": "stream",
     "text": [
      "Epoch 1/1000\n",
      "75000/75000 [==============================] - 0s 3us/step - loss: 176.1094 - mean_absolute_error: 176.1094\n",
      "Epoch 2/1000\n",
      "75000/75000 [==============================] - 0s 1us/step - loss: 176.0957 - mean_absolute_error: 176.0957\n",
      "Epoch 3/1000\n",
      "75000/75000 [==============================] - 0s 1us/step - loss: 176.0803 - mean_absolute_error: 176.0803\n",
      "Epoch 4/1000\n",
      "75000/75000 [==============================] - 0s 1us/step - loss: 176.0642 - mean_absolute_error: 176.0642\n",
      "Epoch 5/1000\n",
      "75000/75000 [==============================] - 0s 1us/step - loss: 176.0474 - mean_absolute_error: 176.0474\n",
      "Epoch 6/1000\n",
      "75000/75000 [==============================] - 0s 1us/step - loss: 176.0299 - mean_absolute_error: 176.0299\n",
      "Epoch 7/1000\n",
      "75000/75000 [==============================] - 0s 1us/step - loss: 176.0114 - mean_absolute_error: 176.0114\n",
      "Epoch 8/1000\n",
      "75000/75000 [==============================] - 0s 1us/step - loss: 175.9917 - mean_absolute_error: 175.9917\n",
      "Epoch 9/1000\n",
      "75000/75000 [==============================] - 0s 1us/step - loss: 175.9706 - mean_absolute_error: 175.9706\n",
      "Epoch 10/1000\n",
      "75000/75000 [==============================] - 0s 1us/step - loss: 175.9481 - mean_absolute_error: 175.9481\n",
      "Epoch 11/1000\n",
      "75000/75000 [==============================] - 0s 1us/step - loss: 175.9241 - mean_absolute_error: 175.9241\n",
      "Epoch 12/1000\n",
      "75000/75000 [==============================] - 0s 1us/step - loss: 175.8983 - mean_absolute_error: 175.8983\n",
      "Epoch 13/1000\n",
      "75000/75000 [==============================] - 0s 1us/step - loss: 175.8710 - mean_absolute_error: 175.8710\n",
      "Epoch 14/1000\n",
      "75000/75000 [==============================] - 0s 1us/step - loss: 175.8418 - mean_absolute_error: 175.8418\n",
      "Epoch 15/1000\n",
      "75000/75000 [==============================] - 0s 1us/step - loss: 175.8110 - mean_absolute_error: 175.8110\n",
      "Epoch 16/1000\n",
      "75000/75000 [==============================] - 0s 1us/step - loss: 175.7784 - mean_absolute_error: 175.7784\n",
      "Epoch 17/1000\n",
      "75000/75000 [==============================] - 0s 1us/step - loss: 175.7440 - mean_absolute_error: 175.7440\n",
      "Epoch 18/1000\n",
      "75000/75000 [==============================] - 0s 1us/step - loss: 175.7078 - mean_absolute_error: 175.7078\n",
      "Epoch 19/1000\n",
      "75000/75000 [==============================] - 0s 1us/step - loss: 175.6698 - mean_absolute_error: 175.6698\n",
      "Epoch 20/1000\n",
      "75000/75000 [==============================] - 0s 1us/step - loss: 175.6299 - mean_absolute_error: 175.6299\n",
      "Epoch 21/1000\n",
      "75000/75000 [==============================] - 0s 1us/step - loss: 175.5880 - mean_absolute_error: 175.5880\n",
      "Epoch 22/1000\n",
      "75000/75000 [==============================] - 0s 1us/step - loss: 175.5442 - mean_absolute_error: 175.5442\n",
      "Epoch 23/1000\n",
      "75000/75000 [==============================] - 0s 1us/step - loss: 175.4985 - mean_absolute_error: 175.4985\n",
      "Epoch 24/1000\n",
      "75000/75000 [==============================] - 0s 1us/step - loss: 175.4508 - mean_absolute_error: 175.4508\n",
      "Epoch 25/1000\n",
      "75000/75000 [==============================] - 0s 1us/step - loss: 175.4013 - mean_absolute_error: 175.4013\n",
      "Epoch 26/1000\n",
      "75000/75000 [==============================] - 0s 1us/step - loss: 175.3498 - mean_absolute_error: 175.3498\n",
      "Epoch 27/1000\n",
      "75000/75000 [==============================] - 0s 1us/step - loss: 175.2966 - mean_absolute_error: 175.2966\n",
      "Epoch 28/1000\n",
      "75000/75000 [==============================] - 0s 1us/step - loss: 175.2418 - mean_absolute_error: 175.2418\n",
      "Epoch 29/1000\n",
      "75000/75000 [==============================] - 0s 1us/step - loss: 175.1852 - mean_absolute_error: 175.1852\n",
      "Epoch 30/1000\n",
      "75000/75000 [==============================] - 0s 1us/step - loss: 175.1270 - mean_absolute_error: 175.1270\n",
      "Epoch 31/1000\n",
      "75000/75000 [==============================] - 0s 1us/step - loss: 175.0673 - mean_absolute_error: 175.0673\n",
      "Epoch 32/1000\n",
      "75000/75000 [==============================] - 0s 1us/step - loss: 175.0059 - mean_absolute_error: 175.0059\n",
      "Epoch 33/1000\n",
      "75000/75000 [==============================] - 0s 1us/step - loss: 174.9429 - mean_absolute_error: 174.9429\n",
      "Epoch 34/1000\n",
      "75000/75000 [==============================] - 0s 1us/step - loss: 174.8782 - mean_absolute_error: 174.8782\n",
      "Epoch 35/1000\n",
      "75000/75000 [==============================] - 0s 1us/step - loss: 174.8118 - mean_absolute_error: 174.8118\n",
      "Epoch 36/1000\n",
      "75000/75000 [==============================] - 0s 1us/step - loss: 174.7435 - mean_absolute_error: 174.7435\n",
      "Epoch 37/1000\n",
      "75000/75000 [==============================] - 0s 1us/step - loss: 174.6732 - mean_absolute_error: 174.6732\n",
      "Epoch 38/1000\n",
      "75000/75000 [==============================] - 0s 1us/step - loss: 174.6009 - mean_absolute_error: 174.6009\n",
      "Epoch 39/1000\n",
      "75000/75000 [==============================] - 0s 1us/step - loss: 174.5262 - mean_absolute_error: 174.5262\n",
      "Epoch 40/1000\n",
      "75000/75000 [==============================] - 0s 1us/step - loss: 174.4491 - mean_absolute_error: 174.4491\n",
      "Epoch 41/1000\n",
      "75000/75000 [==============================] - 0s 1us/step - loss: 174.3693 - mean_absolute_error: 174.3693\n",
      "Epoch 42/1000\n",
      "75000/75000 [==============================] - 0s 1us/step - loss: 174.2868 - mean_absolute_error: 174.2868\n",
      "Epoch 43/1000\n",
      "75000/75000 [==============================] - 0s 1us/step - loss: 174.2014 - mean_absolute_error: 174.2014\n",
      "Epoch 44/1000\n",
      "75000/75000 [==============================] - 0s 1us/step - loss: 174.1129 - mean_absolute_error: 174.1129\n",
      "Epoch 45/1000\n",
      "75000/75000 [==============================] - 0s 1us/step - loss: 174.0213 - mean_absolute_error: 174.0213\n",
      "Epoch 46/1000\n",
      "75000/75000 [==============================] - 0s 1us/step - loss: 173.9264 - mean_absolute_error: 173.9264\n",
      "Epoch 47/1000\n",
      "75000/75000 [==============================] - 0s 1us/step - loss: 173.8281 - mean_absolute_error: 173.8281\n",
      "Epoch 48/1000\n",
      "75000/75000 [==============================] - 0s 1us/step - loss: 173.7262 - mean_absolute_error: 173.7262\n",
      "Epoch 49/1000\n",
      "75000/75000 [==============================] - 0s 1us/step - loss: 173.6207 - mean_absolute_error: 173.6207\n",
      "Epoch 50/1000\n",
      "75000/75000 [==============================] - 0s 1us/step - loss: 173.5113 - mean_absolute_error: 173.5113\n",
      "Epoch 51/1000\n",
      "75000/75000 [==============================] - 0s 1us/step - loss: 173.3979 - mean_absolute_error: 173.3979\n",
      "Epoch 52/1000\n",
      "75000/75000 [==============================] - 0s 1us/step - loss: 173.2805 - mean_absolute_error: 173.2805\n",
      "Epoch 53/1000\n",
      "75000/75000 [==============================] - 0s 1us/step - loss: 173.1588 - mean_absolute_error: 173.1588\n",
      "Epoch 54/1000\n",
      "75000/75000 [==============================] - 0s 1us/step - loss: 173.0327 - mean_absolute_error: 173.0327\n",
      "Epoch 55/1000\n",
      "75000/75000 [==============================] - 0s 1us/step - loss: 172.9021 - mean_absolute_error: 172.9021\n",
      "Epoch 56/1000\n",
      "75000/75000 [==============================] - 0s 1us/step - loss: 172.7668 - mean_absolute_error: 172.7668\n",
      "Epoch 57/1000\n",
      "75000/75000 [==============================] - 0s 1us/step - loss: 172.6266 - mean_absolute_error: 172.6266\n",
      "Epoch 58/1000\n",
      "75000/75000 [==============================] - 0s 1us/step - loss: 172.4815 - mean_absolute_error: 172.4815\n",
      "Epoch 59/1000\n",
      "75000/75000 [==============================] - 0s 1us/step - loss: 172.3312 - mean_absolute_error: 172.3312\n",
      "Epoch 60/1000\n",
      "75000/75000 [==============================] - 0s 1us/step - loss: 172.1757 - mean_absolute_error: 172.1757\n",
      "Epoch 61/1000\n",
      "75000/75000 [==============================] - 0s 1us/step - loss: 172.0148 - mean_absolute_error: 172.0148\n",
      "Epoch 62/1000\n",
      "75000/75000 [==============================] - 0s 1us/step - loss: 171.8483 - mean_absolute_error: 171.8483\n",
      "Epoch 63/1000\n",
      "75000/75000 [==============================] - 0s 1us/step - loss: 171.6761 - mean_absolute_error: 171.6761\n",
      "Epoch 64/1000\n",
      "75000/75000 [==============================] - 0s 1us/step - loss: 171.4981 - mean_absolute_error: 171.4981\n",
      "Epoch 65/1000\n",
      "75000/75000 [==============================] - 0s 1us/step - loss: 171.3140 - mean_absolute_error: 171.3140\n",
      "Epoch 66/1000\n",
      "75000/75000 [==============================] - 0s 1us/step - loss: 171.1237 - mean_absolute_error: 171.1237\n",
      "Epoch 67/1000\n",
      "75000/75000 [==============================] - 0s 1us/step - loss: 170.9270 - mean_absolute_error: 170.9270\n",
      "Epoch 68/1000\n",
      "75000/75000 [==============================] - 0s 1us/step - loss: 170.7239 - mean_absolute_error: 170.7239\n",
      "Epoch 69/1000\n",
      "75000/75000 [==============================] - 0s 1us/step - loss: 170.5141 - mean_absolute_error: 170.5141\n",
      "Epoch 70/1000\n",
      "75000/75000 [==============================] - 0s 1us/step - loss: 170.2975 - mean_absolute_error: 170.2975\n",
      "Epoch 71/1000\n",
      "75000/75000 [==============================] - 0s 1us/step - loss: 170.0741 - mean_absolute_error: 170.0741\n",
      "Epoch 72/1000\n",
      "75000/75000 [==============================] - 0s 1us/step - loss: 169.8438 - mean_absolute_error: 169.8438\n",
      "Epoch 73/1000\n",
      "75000/75000 [==============================] - 0s 1us/step - loss: 169.6063 - mean_absolute_error: 169.6063\n",
      "Epoch 74/1000\n",
      "75000/75000 [==============================] - 0s 1us/step - loss: 169.3616 - mean_absolute_error: 169.3616\n",
      "Epoch 75/1000\n",
      "75000/75000 [==============================] - 0s 1us/step - loss: 169.1094 - mean_absolute_error: 169.1094\n",
      "Epoch 76/1000\n",
      "75000/75000 [==============================] - 0s 1us/step - loss: 168.8498 - mean_absolute_error: 168.8498\n",
      "Epoch 77/1000\n",
      "75000/75000 [==============================] - 0s 1us/step - loss: 168.5825 - mean_absolute_error: 168.5825\n",
      "Epoch 78/1000\n",
      "75000/75000 [==============================] - 0s 1us/step - loss: 168.3074 - mean_absolute_error: 168.3074\n",
      "Epoch 79/1000\n",
      "75000/75000 [==============================] - 0s 1us/step - loss: 168.0245 - mean_absolute_error: 168.0245\n",
      "Epoch 80/1000\n",
      "75000/75000 [==============================] - 0s 1us/step - loss: 167.7336 - mean_absolute_error: 167.7336\n",
      "Epoch 81/1000\n",
      "75000/75000 [==============================] - 0s 1us/step - loss: 167.4344 - mean_absolute_error: 167.4344\n",
      "Epoch 82/1000\n",
      "75000/75000 [==============================] - 0s 1us/step - loss: 167.1271 - mean_absolute_error: 167.1271\n",
      "Epoch 83/1000\n",
      "75000/75000 [==============================] - 0s 1us/step - loss: 166.8114 - mean_absolute_error: 166.8114\n",
      "Epoch 84/1000\n",
      "75000/75000 [==============================] - 0s 1us/step - loss: 166.4872 - mean_absolute_error: 166.4872\n",
      "Epoch 85/1000\n",
      "75000/75000 [==============================] - 0s 1us/step - loss: 166.1543 - mean_absolute_error: 166.1543\n",
      "Epoch 86/1000\n",
      "75000/75000 [==============================] - 0s 1us/step - loss: 165.8126 - mean_absolute_error: 165.8126\n",
      "Epoch 87/1000\n",
      "75000/75000 [==============================] - 0s 1us/step - loss: 165.4622 - mean_absolute_error: 165.4622\n",
      "Epoch 88/1000\n",
      "75000/75000 [==============================] - 0s 1us/step - loss: 165.1029 - mean_absolute_error: 165.1029\n",
      "Epoch 89/1000\n",
      "75000/75000 [==============================] - 0s 1us/step - loss: 164.7344 - mean_absolute_error: 164.7344\n",
      "Epoch 90/1000\n",
      "75000/75000 [==============================] - 0s 1us/step - loss: 164.3569 - mean_absolute_error: 164.3569\n",
      "Epoch 91/1000\n",
      "75000/75000 [==============================] - 0s 1us/step - loss: 163.9701 - mean_absolute_error: 163.9701\n",
      "Epoch 92/1000\n",
      "75000/75000 [==============================] - 0s 1us/step - loss: 163.5741 - mean_absolute_error: 163.5741\n",
      "Epoch 93/1000\n",
      "75000/75000 [==============================] - 0s 1us/step - loss: 163.1687 - mean_absolute_error: 163.1687\n",
      "Epoch 94/1000\n",
      "75000/75000 [==============================] - 0s 1us/step - loss: 162.7537 - mean_absolute_error: 162.7537\n",
      "Epoch 95/1000\n",
      "75000/75000 [==============================] - 0s 1us/step - loss: 162.3291 - mean_absolute_error: 162.3291\n",
      "Epoch 96/1000\n",
      "75000/75000 [==============================] - 0s 1us/step - loss: 161.8947 - mean_absolute_error: 161.8947\n",
      "Epoch 97/1000\n",
      "75000/75000 [==============================] - 0s 1us/step - loss: 161.4508 - mean_absolute_error: 161.4508\n",
      "Epoch 98/1000\n",
      "75000/75000 [==============================] - 0s 1us/step - loss: 160.9972 - mean_absolute_error: 160.9972\n",
      "Epoch 99/1000\n",
      "75000/75000 [==============================] - 0s 1us/step - loss: 160.5336 - mean_absolute_error: 160.5336\n",
      "Epoch 100/1000\n",
      "75000/75000 [==============================] - 0s 1us/step - loss: 160.0601 - mean_absolute_error: 160.0601\n",
      "Epoch 101/1000\n",
      "75000/75000 [==============================] - 0s 1us/step - loss: 159.5766 - mean_absolute_error: 159.5766\n",
      "Epoch 102/1000\n",
      "75000/75000 [==============================] - 0s 1us/step - loss: 159.0830 - mean_absolute_error: 159.0830\n",
      "Epoch 103/1000\n",
      "75000/75000 [==============================] - 0s 1us/step - loss: 158.5797 - mean_absolute_error: 158.5797\n",
      "Epoch 104/1000\n",
      "75000/75000 [==============================] - 0s 1us/step - loss: 158.0661 - mean_absolute_error: 158.0661\n",
      "Epoch 105/1000\n",
      "75000/75000 [==============================] - 0s 1us/step - loss: 157.5423 - mean_absolute_error: 157.5423\n",
      "Epoch 106/1000\n",
      "75000/75000 [==============================] - 0s 1us/step - loss: 157.0085 - mean_absolute_error: 157.0085\n",
      "Epoch 107/1000\n",
      "75000/75000 [==============================] - 0s 1us/step - loss: 156.4645 - mean_absolute_error: 156.4645\n",
      "Epoch 108/1000\n",
      "75000/75000 [==============================] - 0s 1us/step - loss: 155.9106 - mean_absolute_error: 155.9106\n",
      "Epoch 109/1000\n",
      "75000/75000 [==============================] - 0s 1us/step - loss: 155.3464 - mean_absolute_error: 155.3464\n",
      "Epoch 110/1000\n",
      "75000/75000 [==============================] - 0s 1us/step - loss: 154.7722 - mean_absolute_error: 154.7722\n",
      "Epoch 111/1000\n",
      "75000/75000 [==============================] - 0s 1us/step - loss: 154.1878 - mean_absolute_error: 154.1878\n",
      "Epoch 112/1000\n",
      "75000/75000 [==============================] - 0s 1us/step - loss: 153.5933 - mean_absolute_error: 153.5933\n",
      "Epoch 113/1000\n",
      "75000/75000 [==============================] - 0s 1us/step - loss: 152.9886 - mean_absolute_error: 152.9886\n",
      "Epoch 114/1000\n",
      "75000/75000 [==============================] - 0s 1us/step - loss: 152.3737 - mean_absolute_error: 152.3737\n",
      "Epoch 115/1000\n",
      "75000/75000 [==============================] - 0s 1us/step - loss: 151.7485 - mean_absolute_error: 151.7485\n",
      "Epoch 116/1000\n",
      "75000/75000 [==============================] - 0s 1us/step - loss: 151.1133 - mean_absolute_error: 151.1133\n",
      "Epoch 117/1000\n",
      "75000/75000 [==============================] - 0s 1us/step - loss: 150.4686 - mean_absolute_error: 150.4686\n",
      "Epoch 118/1000\n",
      "75000/75000 [==============================] - 0s 1us/step - loss: 149.8143 - mean_absolute_error: 149.8143\n",
      "Epoch 119/1000\n",
      "75000/75000 [==============================] - 0s 1us/step - loss: 149.1506 - mean_absolute_error: 149.1506\n",
      "Epoch 120/1000\n",
      "75000/75000 [==============================] - 0s 1us/step - loss: 148.4774 - mean_absolute_error: 148.4774\n",
      "Epoch 121/1000\n",
      "75000/75000 [==============================] - 0s 1us/step - loss: 147.7948 - mean_absolute_error: 147.7948\n",
      "Epoch 122/1000\n",
      "75000/75000 [==============================] - 0s 1us/step - loss: 147.1028 - mean_absolute_error: 147.1028\n",
      "Epoch 123/1000\n",
      "75000/75000 [==============================] - 0s 1us/step - loss: 146.4016 - mean_absolute_error: 146.4016\n",
      "Epoch 124/1000\n",
      "75000/75000 [==============================] - 0s 1us/step - loss: 145.6917 - mean_absolute_error: 145.6917\n",
      "Epoch 125/1000\n",
      "75000/75000 [==============================] - 0s 1us/step - loss: 144.9733 - mean_absolute_error: 144.9733\n",
      "Epoch 126/1000\n",
      "75000/75000 [==============================] - 0s 1us/step - loss: 144.2469 - mean_absolute_error: 144.2469\n",
      "Epoch 127/1000\n",
      "75000/75000 [==============================] - 0s 1us/step - loss: 143.5123 - mean_absolute_error: 143.5123\n",
      "Epoch 128/1000\n",
      "75000/75000 [==============================] - 0s 1us/step - loss: 142.7697 - mean_absolute_error: 142.7697\n",
      "Epoch 129/1000\n",
      "75000/75000 [==============================] - 0s 1us/step - loss: 142.0190 - mean_absolute_error: 142.0190\n",
      "Epoch 130/1000\n",
      "75000/75000 [==============================] - 0s 1us/step - loss: 141.2605 - mean_absolute_error: 141.2605\n",
      "Epoch 131/1000\n",
      "75000/75000 [==============================] - 0s 1us/step - loss: 140.4943 - mean_absolute_error: 140.4943\n",
      "Epoch 132/1000\n",
      "75000/75000 [==============================] - 0s 1us/step - loss: 139.7201 - mean_absolute_error: 139.7201\n",
      "Epoch 133/1000\n",
      "75000/75000 [==============================] - 0s 1us/step - loss: 138.9389 - mean_absolute_error: 138.9389\n",
      "Epoch 134/1000\n",
      "75000/75000 [==============================] - 0s 1us/step - loss: 138.1509 - mean_absolute_error: 138.1509\n",
      "Epoch 135/1000\n",
      "75000/75000 [==============================] - 0s 1us/step - loss: 137.3562 - mean_absolute_error: 137.3562\n",
      "Epoch 136/1000\n",
      "75000/75000 [==============================] - 0s 1us/step - loss: 136.5549 - mean_absolute_error: 136.5549\n",
      "Epoch 137/1000\n",
      "75000/75000 [==============================] - 0s 1us/step - loss: 135.7479 - mean_absolute_error: 135.7479\n",
      "Epoch 138/1000\n",
      "75000/75000 [==============================] - 0s 1us/step - loss: 134.9351 - mean_absolute_error: 134.9351\n",
      "Epoch 139/1000\n",
      "75000/75000 [==============================] - 0s 1us/step - loss: 134.1179 - mean_absolute_error: 134.1179\n",
      "Epoch 140/1000\n",
      "75000/75000 [==============================] - 0s 1us/step - loss: 133.2966 - mean_absolute_error: 133.2966\n",
      "Epoch 141/1000\n",
      "75000/75000 [==============================] - 0s 1us/step - loss: 132.4711 - mean_absolute_error: 132.4711\n",
      "Epoch 142/1000\n",
      "75000/75000 [==============================] - 0s 1us/step - loss: 131.6426 - mean_absolute_error: 131.6426\n",
      "Epoch 143/1000\n",
      "75000/75000 [==============================] - 0s 1us/step - loss: 130.8106 - mean_absolute_error: 130.8106\n",
      "Epoch 144/1000\n",
      "75000/75000 [==============================] - 0s 1us/step - loss: 129.9762 - mean_absolute_error: 129.9762\n",
      "Epoch 145/1000\n",
      "75000/75000 [==============================] - 0s 1us/step - loss: 129.1406 - mean_absolute_error: 129.1406\n",
      "Epoch 146/1000\n",
      "75000/75000 [==============================] - 0s 1us/step - loss: 128.3040 - mean_absolute_error: 128.3040\n",
      "Epoch 147/1000\n",
      "75000/75000 [==============================] - 0s 1us/step - loss: 127.4667 - mean_absolute_error: 127.4667\n",
      "Epoch 148/1000\n",
      "75000/75000 [==============================] - 0s 1us/step - loss: 126.6301 - mean_absolute_error: 126.6301\n",
      "Epoch 149/1000\n",
      "75000/75000 [==============================] - 0s 1us/step - loss: 125.7946 - mean_absolute_error: 125.7946\n",
      "Epoch 150/1000\n",
      "75000/75000 [==============================] - 0s 1us/step - loss: 124.9603 - mean_absolute_error: 124.9603\n",
      "Epoch 151/1000\n",
      "75000/75000 [==============================] - 0s 1us/step - loss: 124.1289 - mean_absolute_error: 124.1289\n",
      "Epoch 152/1000\n",
      "75000/75000 [==============================] - 0s 1us/step - loss: 123.3012 - mean_absolute_error: 123.3012\n",
      "Epoch 153/1000\n",
      "75000/75000 [==============================] - 0s 1us/step - loss: 122.4773 - mean_absolute_error: 122.4773\n",
      "Epoch 154/1000\n",
      "75000/75000 [==============================] - 0s 1us/step - loss: 121.6564 - mean_absolute_error: 121.6564\n",
      "Epoch 155/1000\n",
      "75000/75000 [==============================] - 0s 1us/step - loss: 120.8408 - mean_absolute_error: 120.8408\n",
      "Epoch 156/1000\n",
      "75000/75000 [==============================] - 0s 1us/step - loss: 120.0315 - mean_absolute_error: 120.0315\n",
      "Epoch 157/1000\n",
      "75000/75000 [==============================] - 0s 1us/step - loss: 119.2295 - mean_absolute_error: 119.2295\n",
      "Epoch 158/1000\n",
      "75000/75000 [==============================] - 0s 1us/step - loss: 118.4340 - mean_absolute_error: 118.4340\n",
      "Epoch 159/1000\n",
      "75000/75000 [==============================] - 0s 1us/step - loss: 117.6462 - mean_absolute_error: 117.6462\n",
      "Epoch 160/1000\n",
      "75000/75000 [==============================] - 0s 1us/step - loss: 116.8688 - mean_absolute_error: 116.8688\n",
      "Epoch 161/1000\n",
      "75000/75000 [==============================] - 0s 1us/step - loss: 116.1021 - mean_absolute_error: 116.1021\n",
      "Epoch 162/1000\n",
      "75000/75000 [==============================] - 0s 1us/step - loss: 115.3462 - mean_absolute_error: 115.3462\n",
      "Epoch 163/1000\n",
      "75000/75000 [==============================] - 0s 1us/step - loss: 114.6033 - mean_absolute_error: 114.6033\n",
      "Epoch 164/1000\n",
      "75000/75000 [==============================] - 0s 1us/step - loss: 113.8745 - mean_absolute_error: 113.8745\n",
      "Epoch 165/1000\n",
      "75000/75000 [==============================] - 0s 1us/step - loss: 113.1619 - mean_absolute_error: 113.1619\n",
      "Epoch 166/1000\n",
      "75000/75000 [==============================] - 0s 1us/step - loss: 112.4646 - mean_absolute_error: 112.4646\n",
      "Epoch 167/1000\n",
      "75000/75000 [==============================] - 0s 1us/step - loss: 111.7846 - mean_absolute_error: 111.7846\n",
      "Epoch 168/1000\n",
      "75000/75000 [==============================] - 0s 1us/step - loss: 111.1240 - mean_absolute_error: 111.1240\n",
      "Epoch 169/1000\n",
      "75000/75000 [==============================] - 0s 1us/step - loss: 110.4836 - mean_absolute_error: 110.4836\n",
      "Epoch 170/1000\n",
      "75000/75000 [==============================] - 0s 1us/step - loss: 109.8619 - mean_absolute_error: 109.8619\n",
      "Epoch 171/1000\n",
      "75000/75000 [==============================] - 0s 1us/step - loss: 109.2603 - mean_absolute_error: 109.2603\n",
      "Epoch 172/1000\n",
      "75000/75000 [==============================] - 0s 1us/step - loss: 108.6788 - mean_absolute_error: 108.6788\n",
      "Epoch 173/1000\n",
      "75000/75000 [==============================] - 0s 1us/step - loss: 108.1187 - mean_absolute_error: 108.1187\n",
      "Epoch 174/1000\n",
      "75000/75000 [==============================] - 0s 1us/step - loss: 107.5806 - mean_absolute_error: 107.5806\n",
      "Epoch 175/1000\n",
      "75000/75000 [==============================] - 0s 1us/step - loss: 107.0663 - mean_absolute_error: 107.0663\n",
      "Epoch 176/1000\n",
      "75000/75000 [==============================] - 0s 1us/step - loss: 106.5754 - mean_absolute_error: 106.5754\n",
      "Epoch 177/1000\n",
      "75000/75000 [==============================] - 0s 1us/step - loss: 106.1074 - mean_absolute_error: 106.1074\n",
      "Epoch 178/1000\n",
      "75000/75000 [==============================] - 0s 1us/step - loss: 105.6617 - mean_absolute_error: 105.6617\n",
      "Epoch 179/1000\n",
      "75000/75000 [==============================] - 0s 1us/step - loss: 105.2362 - mean_absolute_error: 105.2362\n",
      "Epoch 180/1000\n",
      "75000/75000 [==============================] - 0s 1us/step - loss: 104.8297 - mean_absolute_error: 104.8297\n",
      "Epoch 181/1000\n",
      "75000/75000 [==============================] - 0s 1us/step - loss: 104.4436 - mean_absolute_error: 104.4436\n",
      "Epoch 182/1000\n",
      "75000/75000 [==============================] - 0s 1us/step - loss: 104.0756 - mean_absolute_error: 104.0756\n",
      "Epoch 183/1000\n",
      "75000/75000 [==============================] - 0s 1us/step - loss: 103.7254 - mean_absolute_error: 103.7254\n",
      "Epoch 184/1000\n",
      "75000/75000 [==============================] - 0s 1us/step - loss: 103.3923 - mean_absolute_error: 103.3923\n",
      "Epoch 185/1000\n",
      "75000/75000 [==============================] - 0s 1us/step - loss: 103.0742 - mean_absolute_error: 103.0742\n",
      "Epoch 186/1000\n",
      "75000/75000 [==============================] - 0s 1us/step - loss: 102.7696 - mean_absolute_error: 102.7696\n",
      "Epoch 187/1000\n",
      "75000/75000 [==============================] - 0s 1us/step - loss: 102.4777 - mean_absolute_error: 102.4777\n",
      "Epoch 188/1000\n",
      "75000/75000 [==============================] - 0s 1us/step - loss: 102.1984 - mean_absolute_error: 102.1984\n",
      "Epoch 189/1000\n",
      "75000/75000 [==============================] - 0s 1us/step - loss: 101.9317 - mean_absolute_error: 101.9317\n",
      "Epoch 190/1000\n",
      "75000/75000 [==============================] - 0s 1us/step - loss: 101.6749 - mean_absolute_error: 101.6749\n",
      "Epoch 191/1000\n",
      "75000/75000 [==============================] - 0s 1us/step - loss: 101.4284 - mean_absolute_error: 101.4284\n",
      "Epoch 192/1000\n",
      "75000/75000 [==============================] - 0s 1us/step - loss: 101.1907 - mean_absolute_error: 101.1907\n",
      "Epoch 193/1000\n",
      "75000/75000 [==============================] - 0s 1us/step - loss: 100.9627 - mean_absolute_error: 100.9627\n",
      "Epoch 194/1000\n",
      "75000/75000 [==============================] - 0s 1us/step - loss: 100.7426 - mean_absolute_error: 100.7426\n",
      "Epoch 195/1000\n",
      "75000/75000 [==============================] - 0s 1us/step - loss: 100.5298 - mean_absolute_error: 100.5298\n",
      "Epoch 196/1000\n",
      "75000/75000 [==============================] - 0s 1us/step - loss: 100.3244 - mean_absolute_error: 100.3244\n",
      "Epoch 197/1000\n",
      "75000/75000 [==============================] - 0s 1us/step - loss: 100.1240 - mean_absolute_error: 100.1240\n",
      "Epoch 198/1000\n",
      "75000/75000 [==============================] - 0s 1us/step - loss: 99.9270 - mean_absolute_error: 99.9270\n",
      "Epoch 199/1000\n",
      "75000/75000 [==============================] - 0s 1us/step - loss: 99.7355 - mean_absolute_error: 99.7355\n",
      "Epoch 200/1000\n",
      "75000/75000 [==============================] - 0s 1us/step - loss: 99.5486 - mean_absolute_error: 99.5486\n",
      "Epoch 201/1000\n",
      "75000/75000 [==============================] - 0s 1us/step - loss: 99.3640 - mean_absolute_error: 99.3640\n",
      "Epoch 202/1000\n",
      "75000/75000 [==============================] - 0s 1us/step - loss: 99.1809 - mean_absolute_error: 99.1809\n",
      "Epoch 203/1000\n",
      "75000/75000 [==============================] - 0s 1us/step - loss: 99.0005 - mean_absolute_error: 99.0005\n",
      "Epoch 204/1000\n",
      "75000/75000 [==============================] - 0s 1us/step - loss: 98.8223 - mean_absolute_error: 98.8223\n",
      "Epoch 205/1000\n",
      "75000/75000 [==============================] - 0s 1us/step - loss: 98.6449 - mean_absolute_error: 98.6449\n",
      "Epoch 206/1000\n",
      "75000/75000 [==============================] - 0s 1us/step - loss: 98.4677 - mean_absolute_error: 98.4677\n",
      "Epoch 207/1000\n",
      "75000/75000 [==============================] - 0s 1us/step - loss: 98.2923 - mean_absolute_error: 98.2923\n",
      "Epoch 208/1000\n",
      "75000/75000 [==============================] - 0s 1us/step - loss: 98.1177 - mean_absolute_error: 98.1177\n",
      "Epoch 209/1000\n",
      "75000/75000 [==============================] - 0s 1us/step - loss: 97.9426 - mean_absolute_error: 97.9426\n",
      "Epoch 210/1000\n",
      "75000/75000 [==============================] - 0s 1us/step - loss: 97.7677 - mean_absolute_error: 97.7677\n",
      "Epoch 211/1000\n",
      "75000/75000 [==============================] - 0s 1us/step - loss: 97.5940 - mean_absolute_error: 97.5940\n",
      "Epoch 212/1000\n",
      "75000/75000 [==============================] - 0s 1us/step - loss: 97.4206 - mean_absolute_error: 97.4206\n",
      "Epoch 213/1000\n",
      "75000/75000 [==============================] - 0s 1us/step - loss: 97.2476 - mean_absolute_error: 97.2476\n",
      "Epoch 214/1000\n",
      "75000/75000 [==============================] - 0s 1us/step - loss: 97.0748 - mean_absolute_error: 97.0748\n",
      "Epoch 215/1000\n",
      "75000/75000 [==============================] - 0s 1us/step - loss: 96.9019 - mean_absolute_error: 96.9019\n",
      "Epoch 216/1000\n",
      "75000/75000 [==============================] - 0s 1us/step - loss: 96.7303 - mean_absolute_error: 96.7303\n",
      "Epoch 217/1000\n",
      "75000/75000 [==============================] - 0s 1us/step - loss: 96.5594 - mean_absolute_error: 96.5594\n",
      "Epoch 218/1000\n",
      "75000/75000 [==============================] - 0s 1us/step - loss: 96.3887 - mean_absolute_error: 96.3887\n",
      "Epoch 219/1000\n",
      "75000/75000 [==============================] - 0s 1us/step - loss: 96.2198 - mean_absolute_error: 96.2198\n",
      "Epoch 220/1000\n",
      "75000/75000 [==============================] - 0s 1us/step - loss: 96.0521 - mean_absolute_error: 96.0521\n",
      "Epoch 221/1000\n",
      "75000/75000 [==============================] - 0s 1us/step - loss: 95.8854 - mean_absolute_error: 95.8854\n",
      "Epoch 222/1000\n",
      "75000/75000 [==============================] - 0s 1us/step - loss: 95.7200 - mean_absolute_error: 95.7200\n",
      "Epoch 223/1000\n",
      "75000/75000 [==============================] - 0s 1us/step - loss: 95.5569 - mean_absolute_error: 95.5569\n",
      "Epoch 224/1000\n",
      "75000/75000 [==============================] - 0s 1us/step - loss: 95.3958 - mean_absolute_error: 95.3958\n",
      "Epoch 225/1000\n",
      "75000/75000 [==============================] - 0s 1us/step - loss: 95.2368 - mean_absolute_error: 95.2368\n",
      "Epoch 226/1000\n",
      "75000/75000 [==============================] - 0s 1us/step - loss: 95.0800 - mean_absolute_error: 95.0800\n",
      "Epoch 227/1000\n",
      "75000/75000 [==============================] - 0s 1us/step - loss: 94.9258 - mean_absolute_error: 94.9258\n",
      "Epoch 228/1000\n",
      "75000/75000 [==============================] - 0s 1us/step - loss: 94.7746 - mean_absolute_error: 94.7746\n",
      "Epoch 229/1000\n",
      "75000/75000 [==============================] - 0s 1us/step - loss: 94.6259 - mean_absolute_error: 94.6259\n",
      "Epoch 230/1000\n",
      "75000/75000 [==============================] - 0s 1us/step - loss: 94.4811 - mean_absolute_error: 94.4811\n",
      "Epoch 231/1000\n",
      "75000/75000 [==============================] - 0s 1us/step - loss: 94.3395 - mean_absolute_error: 94.3395\n",
      "Epoch 232/1000\n",
      "75000/75000 [==============================] - 0s 1us/step - loss: 94.2009 - mean_absolute_error: 94.2009\n",
      "Epoch 233/1000\n",
      "75000/75000 [==============================] - 0s 1us/step - loss: 94.0660 - mean_absolute_error: 94.0660\n",
      "Epoch 234/1000\n",
      "75000/75000 [==============================] - 0s 1us/step - loss: 93.9352 - mean_absolute_error: 93.9352\n",
      "Epoch 235/1000\n",
      "75000/75000 [==============================] - 0s 1us/step - loss: 93.8075 - mean_absolute_error: 93.8075\n",
      "Epoch 236/1000\n",
      "75000/75000 [==============================] - 0s 1us/step - loss: 93.6840 - mean_absolute_error: 93.6840\n",
      "Epoch 237/1000\n",
      "75000/75000 [==============================] - 0s 1us/step - loss: 93.5645 - mean_absolute_error: 93.5645\n",
      "Epoch 238/1000\n",
      "75000/75000 [==============================] - 0s 1us/step - loss: 93.4489 - mean_absolute_error: 93.4489\n",
      "Epoch 239/1000\n",
      "75000/75000 [==============================] - 0s 1us/step - loss: 93.3369 - mean_absolute_error: 93.3369\n",
      "Epoch 240/1000\n",
      "75000/75000 [==============================] - 0s 1us/step - loss: 93.2283 - mean_absolute_error: 93.2283\n",
      "Epoch 241/1000\n",
      "75000/75000 [==============================] - 0s 1us/step - loss: 93.1226 - mean_absolute_error: 93.1226\n",
      "Epoch 242/1000\n",
      "75000/75000 [==============================] - 0s 1us/step - loss: 93.0208 - mean_absolute_error: 93.0208\n",
      "Epoch 243/1000\n",
      "75000/75000 [==============================] - 0s 1us/step - loss: 92.9219 - mean_absolute_error: 92.9219\n",
      "Epoch 244/1000\n",
      "75000/75000 [==============================] - 0s 1us/step - loss: 92.8258 - mean_absolute_error: 92.8258\n",
      "Epoch 245/1000\n",
      "75000/75000 [==============================] - 0s 1us/step - loss: 92.7331 - mean_absolute_error: 92.7331\n",
      "Epoch 246/1000\n",
      "75000/75000 [==============================] - 0s 1us/step - loss: 92.6428 - mean_absolute_error: 92.6428\n",
      "Epoch 247/1000\n",
      "75000/75000 [==============================] - 0s 1us/step - loss: 92.5553 - mean_absolute_error: 92.5553\n",
      "Epoch 248/1000\n",
      "75000/75000 [==============================] - 0s 1us/step - loss: 92.4700 - mean_absolute_error: 92.4700\n",
      "Epoch 249/1000\n",
      "75000/75000 [==============================] - 0s 1us/step - loss: 92.3869 - mean_absolute_error: 92.3869\n",
      "Epoch 250/1000\n",
      "75000/75000 [==============================] - 0s 1us/step - loss: 92.3074 - mean_absolute_error: 92.3074\n",
      "Epoch 251/1000\n",
      "75000/75000 [==============================] - 0s 1us/step - loss: 92.2292 - mean_absolute_error: 92.2292\n",
      "Epoch 252/1000\n",
      "75000/75000 [==============================] - 0s 1us/step - loss: 92.1537 - mean_absolute_error: 92.1537\n",
      "Epoch 253/1000\n",
      "75000/75000 [==============================] - 0s 1us/step - loss: 92.0812 - mean_absolute_error: 92.0812\n",
      "Epoch 254/1000\n",
      "75000/75000 [==============================] - 0s 1us/step - loss: 92.0092 - mean_absolute_error: 92.0092\n",
      "Epoch 255/1000\n",
      "75000/75000 [==============================] - 0s 1us/step - loss: 91.9403 - mean_absolute_error: 91.9403\n",
      "Epoch 256/1000\n",
      "75000/75000 [==============================] - 0s 1us/step - loss: 91.8734 - mean_absolute_error: 91.8734\n",
      "Epoch 257/1000\n",
      "75000/75000 [==============================] - 0s 1us/step - loss: 91.8075 - mean_absolute_error: 91.8075\n",
      "Epoch 258/1000\n",
      "75000/75000 [==============================] - 0s 1us/step - loss: 91.7449 - mean_absolute_error: 91.7449\n",
      "Epoch 259/1000\n",
      "75000/75000 [==============================] - 0s 1us/step - loss: 91.6828 - mean_absolute_error: 91.6828\n",
      "Epoch 260/1000\n",
      "75000/75000 [==============================] - 0s 1us/step - loss: 91.6232 - mean_absolute_error: 91.6232\n",
      "Epoch 261/1000\n",
      "75000/75000 [==============================] - 0s 1us/step - loss: 91.5645 - mean_absolute_error: 91.5645\n",
      "Epoch 262/1000\n",
      "75000/75000 [==============================] - 0s 1us/step - loss: 91.5080 - mean_absolute_error: 91.5080\n",
      "Epoch 263/1000\n",
      "75000/75000 [==============================] - 0s 1us/step - loss: 91.4526 - mean_absolute_error: 91.4526\n",
      "Epoch 264/1000\n",
      "75000/75000 [==============================] - 0s 1us/step - loss: 91.3987 - mean_absolute_error: 91.3987\n",
      "Epoch 265/1000\n",
      "75000/75000 [==============================] - 0s 1us/step - loss: 91.3468 - mean_absolute_error: 91.3468\n",
      "Epoch 266/1000\n",
      "75000/75000 [==============================] - 0s 1us/step - loss: 91.2958 - mean_absolute_error: 91.2958\n",
      "Epoch 267/1000\n",
      "75000/75000 [==============================] - 0s 1us/step - loss: 91.2472 - mean_absolute_error: 91.2472\n",
      "Epoch 268/1000\n",
      "75000/75000 [==============================] - 0s 1us/step - loss: 91.1989 - mean_absolute_error: 91.1989\n",
      "Epoch 269/1000\n",
      "75000/75000 [==============================] - 0s 1us/step - loss: 91.1530 - mean_absolute_error: 91.1530\n",
      "Epoch 270/1000\n",
      "75000/75000 [==============================] - 0s 1us/step - loss: 91.1077 - mean_absolute_error: 91.1077\n",
      "Epoch 271/1000\n",
      "75000/75000 [==============================] - 0s 1us/step - loss: 91.0643 - mean_absolute_error: 91.0643\n",
      "Epoch 272/1000\n",
      "75000/75000 [==============================] - 0s 1us/step - loss: 91.0215 - mean_absolute_error: 91.0215\n",
      "Epoch 273/1000\n",
      "75000/75000 [==============================] - 0s 1us/step - loss: 90.9807 - mean_absolute_error: 90.9807\n",
      "Epoch 274/1000\n",
      "75000/75000 [==============================] - 0s 1us/step - loss: 90.9408 - mean_absolute_error: 90.9408\n",
      "Epoch 275/1000\n",
      "75000/75000 [==============================] - 0s 1us/step - loss: 90.9025 - mean_absolute_error: 90.9025\n",
      "Epoch 276/1000\n",
      "75000/75000 [==============================] - 0s 1us/step - loss: 90.8649 - mean_absolute_error: 90.8649\n",
      "Epoch 277/1000\n",
      "75000/75000 [==============================] - 0s 1us/step - loss: 90.8289 - mean_absolute_error: 90.8289\n",
      "Epoch 278/1000\n",
      "75000/75000 [==============================] - 0s 1us/step - loss: 90.7938 - mean_absolute_error: 90.7938\n",
      "Epoch 279/1000\n",
      "75000/75000 [==============================] - 0s 1us/step - loss: 90.7600 - mean_absolute_error: 90.7600\n",
      "Epoch 280/1000\n",
      "75000/75000 [==============================] - 0s 1us/step - loss: 90.7272 - mean_absolute_error: 90.7272\n",
      "Epoch 281/1000\n",
      "75000/75000 [==============================] - 0s 1us/step - loss: 90.6949 - mean_absolute_error: 90.6949\n",
      "Epoch 282/1000\n",
      "75000/75000 [==============================] - 0s 1us/step - loss: 90.6642 - mean_absolute_error: 90.6642\n",
      "Epoch 283/1000\n",
      "75000/75000 [==============================] - 0s 1us/step - loss: 90.6333 - mean_absolute_error: 90.6333\n",
      "Epoch 284/1000\n",
      "75000/75000 [==============================] - 0s 1us/step - loss: 90.6042 - mean_absolute_error: 90.6042\n",
      "Epoch 285/1000\n",
      "75000/75000 [==============================] - 0s 1us/step - loss: 90.5755 - mean_absolute_error: 90.5755\n",
      "Epoch 286/1000\n",
      "75000/75000 [==============================] - 0s 1us/step - loss: 90.5469 - mean_absolute_error: 90.5469\n",
      "Epoch 287/1000\n",
      "75000/75000 [==============================] - 0s 1us/step - loss: 90.5200 - mean_absolute_error: 90.5200\n",
      "Epoch 288/1000\n",
      "75000/75000 [==============================] - 0s 1us/step - loss: 90.4928 - mean_absolute_error: 90.4928\n",
      "Epoch 289/1000\n",
      "75000/75000 [==============================] - 0s 1us/step - loss: 90.4671 - mean_absolute_error: 90.4671\n",
      "Epoch 290/1000\n",
      "75000/75000 [==============================] - 0s 1us/step - loss: 90.4413 - mean_absolute_error: 90.4413\n",
      "Epoch 291/1000\n",
      "75000/75000 [==============================] - 0s 1us/step - loss: 90.4166 - mean_absolute_error: 90.4166\n",
      "Epoch 292/1000\n",
      "75000/75000 [==============================] - 0s 1us/step - loss: 90.3918 - mean_absolute_error: 90.3918\n",
      "Epoch 293/1000\n",
      "75000/75000 [==============================] - 0s 1us/step - loss: 90.3680 - mean_absolute_error: 90.3680\n",
      "Epoch 294/1000\n",
      "75000/75000 [==============================] - 0s 1us/step - loss: 90.3440 - mean_absolute_error: 90.3440\n",
      "Epoch 295/1000\n",
      "75000/75000 [==============================] - 0s 1us/step - loss: 90.3216 - mean_absolute_error: 90.3216\n",
      "Epoch 296/1000\n",
      "75000/75000 [==============================] - 0s 1us/step - loss: 90.2979 - mean_absolute_error: 90.2979\n",
      "Epoch 297/1000\n",
      "75000/75000 [==============================] - 0s 1us/step - loss: 90.2767 - mean_absolute_error: 90.2767\n",
      "Epoch 298/1000\n",
      "75000/75000 [==============================] - 0s 1us/step - loss: 90.2542 - mean_absolute_error: 90.2542\n",
      "Epoch 299/1000\n",
      "75000/75000 [==============================] - 0s 1us/step - loss: 90.2330 - mean_absolute_error: 90.2330\n",
      "Epoch 300/1000\n",
      "75000/75000 [==============================] - 0s 1us/step - loss: 90.2119 - mean_absolute_error: 90.2119\n",
      "Epoch 301/1000\n",
      "75000/75000 [==============================] - 0s 1us/step - loss: 90.1908 - mean_absolute_error: 90.1908\n",
      "Epoch 302/1000\n",
      "75000/75000 [==============================] - 0s 1us/step - loss: 90.1705 - mean_absolute_error: 90.1705\n",
      "Epoch 303/1000\n",
      "75000/75000 [==============================] - 0s 1us/step - loss: 90.1504 - mean_absolute_error: 90.1504\n",
      "Epoch 304/1000\n",
      "75000/75000 [==============================] - 0s 1us/step - loss: 90.1303 - mean_absolute_error: 90.1303\n",
      "Epoch 305/1000\n",
      "75000/75000 [==============================] - 0s 1us/step - loss: 90.1111 - mean_absolute_error: 90.1111\n",
      "Epoch 306/1000\n",
      "75000/75000 [==============================] - 0s 1us/step - loss: 90.0919 - mean_absolute_error: 90.0919\n",
      "Epoch 307/1000\n",
      "75000/75000 [==============================] - 0s 1us/step - loss: 90.0733 - mean_absolute_error: 90.0733\n",
      "Epoch 308/1000\n",
      "75000/75000 [==============================] - 0s 1us/step - loss: 90.0543 - mean_absolute_error: 90.0543\n",
      "Epoch 309/1000\n",
      "75000/75000 [==============================] - 0s 1us/step - loss: 90.0363 - mean_absolute_error: 90.0363\n",
      "Epoch 310/1000\n",
      "75000/75000 [==============================] - 0s 1us/step - loss: 90.0185 - mean_absolute_error: 90.0185\n",
      "Epoch 311/1000\n",
      "75000/75000 [==============================] - 0s 1us/step - loss: 89.9996 - mean_absolute_error: 89.9996\n",
      "Epoch 312/1000\n",
      "75000/75000 [==============================] - 0s 1us/step - loss: 89.9829 - mean_absolute_error: 89.9829\n",
      "Epoch 313/1000\n",
      "75000/75000 [==============================] - 0s 1us/step - loss: 89.9656 - mean_absolute_error: 89.9656\n",
      "Epoch 314/1000\n",
      "75000/75000 [==============================] - 0s 1us/step - loss: 89.9488 - mean_absolute_error: 89.9488\n",
      "Epoch 315/1000\n",
      "75000/75000 [==============================] - 0s 1us/step - loss: 89.9318 - mean_absolute_error: 89.9318\n",
      "Epoch 316/1000\n",
      "75000/75000 [==============================] - 0s 1us/step - loss: 89.9163 - mean_absolute_error: 89.9163\n",
      "Epoch 317/1000\n",
      "75000/75000 [==============================] - 0s 1us/step - loss: 89.8991 - mean_absolute_error: 89.8991\n",
      "Epoch 318/1000\n",
      "75000/75000 [==============================] - 0s 1us/step - loss: 89.8836 - mean_absolute_error: 89.8836\n",
      "Epoch 319/1000\n",
      "75000/75000 [==============================] - 0s 1us/step - loss: 89.8674 - mean_absolute_error: 89.8674\n",
      "Epoch 320/1000\n",
      "75000/75000 [==============================] - 0s 1us/step - loss: 89.8517 - mean_absolute_error: 89.8517\n",
      "Epoch 321/1000\n",
      "75000/75000 [==============================] - 0s 1us/step - loss: 89.8366 - mean_absolute_error: 89.8366\n",
      "Epoch 322/1000\n",
      "75000/75000 [==============================] - 0s 1us/step - loss: 89.8208 - mean_absolute_error: 89.8208\n",
      "Epoch 323/1000\n",
      "75000/75000 [==============================] - 0s 1us/step - loss: 89.8062 - mean_absolute_error: 89.8062\n",
      "Epoch 324/1000\n",
      "75000/75000 [==============================] - 0s 1us/step - loss: 89.7914 - mean_absolute_error: 89.7914\n",
      "Epoch 325/1000\n",
      "75000/75000 [==============================] - 0s 1us/step - loss: 89.7766 - mean_absolute_error: 89.7766\n",
      "Epoch 326/1000\n",
      "75000/75000 [==============================] - 0s 1us/step - loss: 89.7628 - mean_absolute_error: 89.7628\n",
      "Epoch 327/1000\n",
      "75000/75000 [==============================] - 0s 1us/step - loss: 89.7484 - mean_absolute_error: 89.7484\n",
      "Epoch 328/1000\n",
      "75000/75000 [==============================] - 0s 1us/step - loss: 89.7344 - mean_absolute_error: 89.7344\n",
      "Epoch 329/1000\n",
      "75000/75000 [==============================] - 0s 1us/step - loss: 89.7207 - mean_absolute_error: 89.7207\n",
      "Epoch 330/1000\n",
      "75000/75000 [==============================] - 0s 1us/step - loss: 89.7077 - mean_absolute_error: 89.7077\n",
      "Epoch 331/1000\n",
      "75000/75000 [==============================] - 0s 1us/step - loss: 89.6932 - mean_absolute_error: 89.6932\n",
      "Epoch 332/1000\n",
      "75000/75000 [==============================] - 0s 1us/step - loss: 89.6809 - mean_absolute_error: 89.6809\n",
      "Epoch 333/1000\n",
      "75000/75000 [==============================] - 0s 1us/step - loss: 89.6676 - mean_absolute_error: 89.6676\n",
      "Epoch 334/1000\n",
      "75000/75000 [==============================] - 0s 1us/step - loss: 89.6547 - mean_absolute_error: 89.6547\n",
      "Epoch 335/1000\n",
      "75000/75000 [==============================] - 0s 1us/step - loss: 89.6419 - mean_absolute_error: 89.6419\n",
      "Epoch 336/1000\n",
      "75000/75000 [==============================] - 0s 1us/step - loss: 89.6301 - mean_absolute_error: 89.6301\n",
      "Epoch 337/1000\n",
      "75000/75000 [==============================] - 0s 1us/step - loss: 89.6167 - mean_absolute_error: 89.6167\n",
      "Epoch 338/1000\n",
      "75000/75000 [==============================] - 0s 1us/step - loss: 89.6050 - mean_absolute_error: 89.6050\n",
      "Epoch 339/1000\n",
      "75000/75000 [==============================] - 0s 1us/step - loss: 89.5926 - mean_absolute_error: 89.5926\n",
      "Epoch 340/1000\n",
      "75000/75000 [==============================] - 0s 1us/step - loss: 89.5808 - mean_absolute_error: 89.5808\n",
      "Epoch 341/1000\n",
      "75000/75000 [==============================] - 0s 1us/step - loss: 89.5694 - mean_absolute_error: 89.5694\n",
      "Epoch 342/1000\n",
      "75000/75000 [==============================] - 0s 1us/step - loss: 89.5573 - mean_absolute_error: 89.5573\n",
      "Epoch 343/1000\n",
      "75000/75000 [==============================] - 0s 1us/step - loss: 89.5463 - mean_absolute_error: 89.5463\n",
      "Epoch 344/1000\n",
      "75000/75000 [==============================] - 0s 1us/step - loss: 89.5352 - mean_absolute_error: 89.5352\n",
      "Epoch 345/1000\n",
      "75000/75000 [==============================] - 0s 1us/step - loss: 89.5241 - mean_absolute_error: 89.5241\n",
      "Epoch 346/1000\n",
      "75000/75000 [==============================] - 0s 1us/step - loss: 89.5130 - mean_absolute_error: 89.5130\n",
      "Epoch 347/1000\n",
      "75000/75000 [==============================] - 0s 1us/step - loss: 89.5029 - mean_absolute_error: 89.5029\n",
      "Epoch 348/1000\n",
      "75000/75000 [==============================] - 0s 1us/step - loss: 89.4921 - mean_absolute_error: 89.4921\n",
      "Epoch 349/1000\n",
      "75000/75000 [==============================] - 0s 1us/step - loss: 89.4814 - mean_absolute_error: 89.4814\n",
      "Epoch 350/1000\n",
      "75000/75000 [==============================] - 0s 1us/step - loss: 89.4728 - mean_absolute_error: 89.4728\n",
      "Epoch 351/1000\n",
      "75000/75000 [==============================] - 0s 1us/step - loss: 89.4615 - mean_absolute_error: 89.4615\n",
      "Epoch 352/1000\n",
      "75000/75000 [==============================] - 0s 1us/step - loss: 89.4514 - mean_absolute_error: 89.4514\n",
      "Epoch 353/1000\n",
      "75000/75000 [==============================] - 0s 1us/step - loss: 89.4421 - mean_absolute_error: 89.4421\n",
      "Epoch 354/1000\n",
      "75000/75000 [==============================] - 0s 1us/step - loss: 89.4328 - mean_absolute_error: 89.4328\n",
      "Epoch 355/1000\n",
      "75000/75000 [==============================] - 0s 1us/step - loss: 89.4221 - mean_absolute_error: 89.4221\n",
      "Epoch 356/1000\n",
      "75000/75000 [==============================] - 0s 1us/step - loss: 89.4134 - mean_absolute_error: 89.4134\n",
      "Epoch 357/1000\n",
      "75000/75000 [==============================] - 0s 1us/step - loss: 89.4043 - mean_absolute_error: 89.4043\n",
      "Epoch 358/1000\n",
      "75000/75000 [==============================] - 0s 1us/step - loss: 89.3944 - mean_absolute_error: 89.3944\n",
      "Epoch 359/1000\n",
      "75000/75000 [==============================] - 0s 1us/step - loss: 89.3858 - mean_absolute_error: 89.3858\n",
      "Epoch 360/1000\n",
      "75000/75000 [==============================] - 0s 1us/step - loss: 89.3773 - mean_absolute_error: 89.3773\n",
      "Epoch 361/1000\n",
      "75000/75000 [==============================] - 0s 1us/step - loss: 89.3683 - mean_absolute_error: 89.3683\n",
      "Epoch 362/1000\n",
      "75000/75000 [==============================] - 0s 1us/step - loss: 89.3590 - mean_absolute_error: 89.3590\n",
      "Epoch 363/1000\n",
      "75000/75000 [==============================] - 0s 1us/step - loss: 89.3511 - mean_absolute_error: 89.3511\n",
      "Epoch 364/1000\n",
      "75000/75000 [==============================] - 0s 1us/step - loss: 89.3425 - mean_absolute_error: 89.3425\n",
      "Epoch 365/1000\n",
      "75000/75000 [==============================] - 0s 1us/step - loss: 89.3344 - mean_absolute_error: 89.3344\n",
      "Epoch 366/1000\n",
      "75000/75000 [==============================] - 0s 1us/step - loss: 89.3256 - mean_absolute_error: 89.3256\n",
      "Epoch 367/1000\n",
      "75000/75000 [==============================] - 0s 1us/step - loss: 89.3183 - mean_absolute_error: 89.3183\n",
      "Epoch 368/1000\n",
      "75000/75000 [==============================] - 0s 1us/step - loss: 89.3099 - mean_absolute_error: 89.3099\n",
      "Epoch 369/1000\n",
      "75000/75000 [==============================] - 0s 1us/step - loss: 89.3019 - mean_absolute_error: 89.3019\n",
      "Epoch 370/1000\n",
      "75000/75000 [==============================] - 0s 1us/step - loss: 89.2949 - mean_absolute_error: 89.2949\n",
      "Epoch 371/1000\n",
      "75000/75000 [==============================] - 0s 1us/step - loss: 89.2865 - mean_absolute_error: 89.2865\n",
      "Epoch 372/1000\n",
      "75000/75000 [==============================] - 0s 1us/step - loss: 89.2791 - mean_absolute_error: 89.2791\n",
      "Epoch 373/1000\n",
      "75000/75000 [==============================] - 0s 1us/step - loss: 89.2710 - mean_absolute_error: 89.2710\n",
      "Epoch 374/1000\n",
      "75000/75000 [==============================] - 0s 1us/step - loss: 89.2648 - mean_absolute_error: 89.2648\n",
      "Epoch 375/1000\n",
      "75000/75000 [==============================] - 0s 1us/step - loss: 89.2569 - mean_absolute_error: 89.2569\n",
      "Epoch 376/1000\n",
      "75000/75000 [==============================] - 0s 1us/step - loss: 89.2497 - mean_absolute_error: 89.2497\n",
      "Epoch 377/1000\n",
      "75000/75000 [==============================] - 0s 1us/step - loss: 89.2426 - mean_absolute_error: 89.2426\n",
      "Epoch 378/1000\n",
      "75000/75000 [==============================] - 0s 1us/step - loss: 89.2355 - mean_absolute_error: 89.2355\n",
      "Epoch 379/1000\n",
      "75000/75000 [==============================] - 0s 1us/step - loss: 89.2289 - mean_absolute_error: 89.2289\n",
      "Epoch 380/1000\n",
      "75000/75000 [==============================] - 0s 1us/step - loss: 89.2227 - mean_absolute_error: 89.2227\n",
      "Epoch 381/1000\n",
      "75000/75000 [==============================] - 0s 1us/step - loss: 89.2168 - mean_absolute_error: 89.2168\n",
      "Epoch 382/1000\n",
      "75000/75000 [==============================] - 0s 1us/step - loss: 89.2085 - mean_absolute_error: 89.2085\n",
      "Epoch 383/1000\n",
      "75000/75000 [==============================] - 0s 1us/step - loss: 89.2032 - mean_absolute_error: 89.2032\n",
      "Epoch 384/1000\n",
      "75000/75000 [==============================] - 0s 1us/step - loss: 89.1969 - mean_absolute_error: 89.1969\n",
      "Epoch 385/1000\n",
      "75000/75000 [==============================] - 0s 1us/step - loss: 89.1907 - mean_absolute_error: 89.1907\n",
      "Epoch 386/1000\n",
      "75000/75000 [==============================] - 0s 1us/step - loss: 89.1839 - mean_absolute_error: 89.1839\n",
      "Epoch 387/1000\n",
      "75000/75000 [==============================] - 0s 1us/step - loss: 89.1783 - mean_absolute_error: 89.1783\n",
      "Epoch 388/1000\n",
      "75000/75000 [==============================] - 0s 1us/step - loss: 89.1718 - mean_absolute_error: 89.1718\n",
      "Epoch 389/1000\n",
      "75000/75000 [==============================] - 0s 1us/step - loss: 89.1647 - mean_absolute_error: 89.1647\n",
      "Epoch 390/1000\n",
      "75000/75000 [==============================] - 0s 1us/step - loss: 89.1599 - mean_absolute_error: 89.1599\n",
      "Epoch 391/1000\n",
      "75000/75000 [==============================] - 0s 1us/step - loss: 89.1534 - mean_absolute_error: 89.1534\n",
      "Epoch 392/1000\n",
      "75000/75000 [==============================] - 0s 1us/step - loss: 89.1474 - mean_absolute_error: 89.1474\n",
      "Epoch 393/1000\n",
      "75000/75000 [==============================] - 0s 1us/step - loss: 89.1418 - mean_absolute_error: 89.1418\n",
      "Epoch 394/1000\n",
      "75000/75000 [==============================] - 0s 1us/step - loss: 89.1357 - mean_absolute_error: 89.1357\n",
      "Epoch 395/1000\n",
      "75000/75000 [==============================] - 0s 1us/step - loss: 89.1302 - mean_absolute_error: 89.1302\n",
      "Epoch 396/1000\n",
      "75000/75000 [==============================] - 0s 1us/step - loss: 89.1245 - mean_absolute_error: 89.1245\n",
      "Epoch 397/1000\n",
      "75000/75000 [==============================] - 0s 1us/step - loss: 89.1198 - mean_absolute_error: 89.1198\n",
      "Epoch 398/1000\n",
      "75000/75000 [==============================] - 0s 1us/step - loss: 89.1136 - mean_absolute_error: 89.1136\n",
      "Epoch 399/1000\n",
      "75000/75000 [==============================] - 0s 1us/step - loss: 89.1087 - mean_absolute_error: 89.1087\n",
      "Epoch 400/1000\n",
      "75000/75000 [==============================] - 0s 1us/step - loss: 89.1039 - mean_absolute_error: 89.1039\n",
      "Epoch 401/1000\n",
      "75000/75000 [==============================] - 0s 1us/step - loss: 89.0973 - mean_absolute_error: 89.0973\n",
      "Epoch 402/1000\n",
      "75000/75000 [==============================] - 0s 1us/step - loss: 89.0925 - mean_absolute_error: 89.0925\n",
      "Epoch 403/1000\n",
      "75000/75000 [==============================] - 0s 1us/step - loss: 89.0874 - mean_absolute_error: 89.0874\n",
      "Epoch 404/1000\n",
      "75000/75000 [==============================] - 0s 1us/step - loss: 89.0813 - mean_absolute_error: 89.0813\n",
      "Epoch 405/1000\n",
      "75000/75000 [==============================] - 0s 1us/step - loss: 89.0771 - mean_absolute_error: 89.0771\n",
      "Epoch 406/1000\n",
      "75000/75000 [==============================] - 0s 1us/step - loss: 89.0717 - mean_absolute_error: 89.0717\n",
      "Epoch 407/1000\n",
      "75000/75000 [==============================] - 0s 1us/step - loss: 89.0667 - mean_absolute_error: 89.0667\n",
      "Epoch 408/1000\n",
      "75000/75000 [==============================] - 0s 1us/step - loss: 89.0622 - mean_absolute_error: 89.0622\n",
      "Epoch 409/1000\n",
      "75000/75000 [==============================] - 0s 1us/step - loss: 89.0571 - mean_absolute_error: 89.0571\n",
      "Epoch 410/1000\n",
      "75000/75000 [==============================] - 0s 1us/step - loss: 89.0531 - mean_absolute_error: 89.0531\n",
      "Epoch 411/1000\n",
      "75000/75000 [==============================] - 0s 1us/step - loss: 89.0475 - mean_absolute_error: 89.0475\n",
      "Epoch 412/1000\n",
      "75000/75000 [==============================] - 0s 1us/step - loss: 89.0436 - mean_absolute_error: 89.0436\n",
      "Epoch 413/1000\n",
      "75000/75000 [==============================] - 0s 1us/step - loss: 89.0392 - mean_absolute_error: 89.0392\n",
      "Epoch 414/1000\n",
      "75000/75000 [==============================] - 0s 1us/step - loss: 89.0342 - mean_absolute_error: 89.0342\n",
      "Epoch 415/1000\n",
      "75000/75000 [==============================] - 0s 1us/step - loss: 89.0300 - mean_absolute_error: 89.0300\n",
      "Epoch 416/1000\n",
      "75000/75000 [==============================] - 0s 1us/step - loss: 89.0256 - mean_absolute_error: 89.0256\n",
      "Epoch 417/1000\n",
      "75000/75000 [==============================] - 0s 1us/step - loss: 89.0217 - mean_absolute_error: 89.0217\n",
      "Epoch 418/1000\n",
      "75000/75000 [==============================] - 0s 1us/step - loss: 89.0171 - mean_absolute_error: 89.0171\n",
      "Epoch 419/1000\n",
      "75000/75000 [==============================] - 0s 1us/step - loss: 89.0128 - mean_absolute_error: 89.0128\n",
      "Epoch 420/1000\n",
      "75000/75000 [==============================] - 0s 1us/step - loss: 89.0097 - mean_absolute_error: 89.0097\n",
      "Epoch 421/1000\n",
      "75000/75000 [==============================] - 0s 1us/step - loss: 89.0042 - mean_absolute_error: 89.0042\n",
      "Epoch 422/1000\n",
      "75000/75000 [==============================] - 0s 1us/step - loss: 89.0010 - mean_absolute_error: 89.0010\n",
      "Epoch 423/1000\n",
      "75000/75000 [==============================] - 0s 1us/step - loss: 88.9966 - mean_absolute_error: 88.9966\n",
      "Epoch 424/1000\n",
      "75000/75000 [==============================] - 0s 1us/step - loss: 88.9917 - mean_absolute_error: 88.9917\n",
      "Epoch 425/1000\n",
      "75000/75000 [==============================] - 0s 1us/step - loss: 88.9888 - mean_absolute_error: 88.9888\n",
      "Epoch 426/1000\n",
      "75000/75000 [==============================] - 0s 1us/step - loss: 88.9852 - mean_absolute_error: 88.9852\n",
      "Epoch 427/1000\n",
      "75000/75000 [==============================] - 0s 1us/step - loss: 88.9808 - mean_absolute_error: 88.9808\n",
      "Epoch 428/1000\n",
      "75000/75000 [==============================] - 0s 1us/step - loss: 88.9776 - mean_absolute_error: 88.9776\n",
      "Epoch 429/1000\n",
      "75000/75000 [==============================] - 0s 1us/step - loss: 88.9741 - mean_absolute_error: 88.9741\n",
      "Epoch 430/1000\n",
      "75000/75000 [==============================] - 0s 1us/step - loss: 88.9696 - mean_absolute_error: 88.9696\n",
      "Epoch 431/1000\n",
      "75000/75000 [==============================] - 0s 1us/step - loss: 88.9670 - mean_absolute_error: 88.9670\n",
      "Epoch 432/1000\n",
      "75000/75000 [==============================] - 0s 1us/step - loss: 88.9628 - mean_absolute_error: 88.9628\n",
      "Epoch 433/1000\n",
      "75000/75000 [==============================] - 0s 1us/step - loss: 88.9590 - mean_absolute_error: 88.9590\n",
      "Epoch 434/1000\n",
      "75000/75000 [==============================] - 0s 1us/step - loss: 88.9558 - mean_absolute_error: 88.9558\n",
      "Epoch 435/1000\n",
      "75000/75000 [==============================] - 0s 1us/step - loss: 88.9524 - mean_absolute_error: 88.9524\n",
      "Epoch 436/1000\n",
      "75000/75000 [==============================] - 0s 1us/step - loss: 88.9486 - mean_absolute_error: 88.9486\n",
      "Epoch 437/1000\n",
      "75000/75000 [==============================] - 0s 1us/step - loss: 88.9454 - mean_absolute_error: 88.9454\n",
      "Epoch 438/1000\n",
      "75000/75000 [==============================] - 0s 1us/step - loss: 88.9419 - mean_absolute_error: 88.9419\n",
      "Epoch 439/1000\n",
      "75000/75000 [==============================] - 0s 1us/step - loss: 88.9386 - mean_absolute_error: 88.9386\n",
      "Epoch 440/1000\n",
      "75000/75000 [==============================] - 0s 1us/step - loss: 88.9348 - mean_absolute_error: 88.9348\n",
      "Epoch 441/1000\n",
      "75000/75000 [==============================] - 0s 1us/step - loss: 88.9323 - mean_absolute_error: 88.9323\n",
      "Epoch 442/1000\n",
      "75000/75000 [==============================] - 0s 1us/step - loss: 88.9284 - mean_absolute_error: 88.9284\n",
      "Epoch 443/1000\n",
      "75000/75000 [==============================] - 0s 1us/step - loss: 88.9251 - mean_absolute_error: 88.9251\n",
      "Epoch 444/1000\n",
      "75000/75000 [==============================] - 0s 1us/step - loss: 88.9220 - mean_absolute_error: 88.9220\n",
      "Epoch 445/1000\n",
      "75000/75000 [==============================] - 0s 1us/step - loss: 88.9181 - mean_absolute_error: 88.9181\n",
      "Epoch 446/1000\n",
      "75000/75000 [==============================] - 0s 1us/step - loss: 88.9158 - mean_absolute_error: 88.9158\n",
      "Epoch 447/1000\n",
      "75000/75000 [==============================] - 0s 1us/step - loss: 88.9123 - mean_absolute_error: 88.9123\n",
      "Epoch 448/1000\n",
      "75000/75000 [==============================] - 0s 1us/step - loss: 88.9094 - mean_absolute_error: 88.9094\n",
      "Epoch 449/1000\n",
      "75000/75000 [==============================] - 0s 1us/step - loss: 88.9067 - mean_absolute_error: 88.9067\n",
      "Epoch 450/1000\n",
      "75000/75000 [==============================] - 0s 1us/step - loss: 88.9045 - mean_absolute_error: 88.9045\n",
      "Epoch 451/1000\n",
      "75000/75000 [==============================] - 0s 1us/step - loss: 88.9012 - mean_absolute_error: 88.9012\n",
      "Epoch 452/1000\n",
      "75000/75000 [==============================] - 0s 1us/step - loss: 88.8977 - mean_absolute_error: 88.8977\n",
      "Epoch 453/1000\n",
      "75000/75000 [==============================] - 0s 1us/step - loss: 88.8954 - mean_absolute_error: 88.8954\n",
      "Epoch 454/1000\n",
      "75000/75000 [==============================] - 0s 1us/step - loss: 88.8926 - mean_absolute_error: 88.8926\n",
      "Epoch 455/1000\n",
      "75000/75000 [==============================] - 0s 1us/step - loss: 88.8888 - mean_absolute_error: 88.8888\n",
      "Epoch 456/1000\n",
      "75000/75000 [==============================] - 0s 1us/step - loss: 88.8870 - mean_absolute_error: 88.8870\n",
      "Epoch 457/1000\n",
      "75000/75000 [==============================] - 0s 1us/step - loss: 88.8835 - mean_absolute_error: 88.8835\n",
      "Epoch 458/1000\n",
      "75000/75000 [==============================] - 0s 1us/step - loss: 88.8810 - mean_absolute_error: 88.8810\n",
      "Epoch 459/1000\n",
      "75000/75000 [==============================] - 0s 1us/step - loss: 88.8780 - mean_absolute_error: 88.8780\n",
      "Epoch 460/1000\n",
      "75000/75000 [==============================] - 0s 1us/step - loss: 88.8759 - mean_absolute_error: 88.8759\n",
      "Epoch 461/1000\n",
      "75000/75000 [==============================] - 0s 1us/step - loss: 88.8729 - mean_absolute_error: 88.8729\n",
      "Epoch 462/1000\n",
      "75000/75000 [==============================] - 0s 1us/step - loss: 88.8702 - mean_absolute_error: 88.8702\n",
      "Epoch 463/1000\n",
      "75000/75000 [==============================] - 0s 1us/step - loss: 88.8681 - mean_absolute_error: 88.8681\n",
      "Epoch 464/1000\n",
      "75000/75000 [==============================] - 0s 1us/step - loss: 88.8646 - mean_absolute_error: 88.8646\n",
      "Epoch 465/1000\n",
      "75000/75000 [==============================] - 0s 1us/step - loss: 88.8631 - mean_absolute_error: 88.8631\n",
      "Epoch 466/1000\n",
      "75000/75000 [==============================] - 0s 1us/step - loss: 88.8604 - mean_absolute_error: 88.8604\n",
      "Epoch 467/1000\n",
      "75000/75000 [==============================] - 0s 1us/step - loss: 88.8578 - mean_absolute_error: 88.8578\n",
      "Epoch 468/1000\n",
      "75000/75000 [==============================] - 0s 1us/step - loss: 88.8555 - mean_absolute_error: 88.8555\n",
      "Epoch 469/1000\n",
      "75000/75000 [==============================] - 0s 1us/step - loss: 88.8528 - mean_absolute_error: 88.8528\n",
      "Epoch 470/1000\n",
      "75000/75000 [==============================] - 0s 1us/step - loss: 88.8511 - mean_absolute_error: 88.8511\n",
      "Epoch 471/1000\n",
      "75000/75000 [==============================] - 0s 1us/step - loss: 88.8477 - mean_absolute_error: 88.8477\n",
      "Epoch 472/1000\n",
      "75000/75000 [==============================] - 0s 1us/step - loss: 88.8456 - mean_absolute_error: 88.8456\n",
      "Epoch 473/1000\n",
      "75000/75000 [==============================] - 0s 1us/step - loss: 88.8439 - mean_absolute_error: 88.8439\n",
      "Epoch 474/1000\n",
      "75000/75000 [==============================] - 0s 1us/step - loss: 88.8409 - mean_absolute_error: 88.8409\n",
      "Epoch 475/1000\n",
      "75000/75000 [==============================] - 0s 1us/step - loss: 88.8398 - mean_absolute_error: 88.8398\n",
      "Epoch 476/1000\n",
      "75000/75000 [==============================] - 0s 1us/step - loss: 88.8368 - mean_absolute_error: 88.8368\n",
      "Epoch 477/1000\n",
      "75000/75000 [==============================] - 0s 1us/step - loss: 88.8347 - mean_absolute_error: 88.8347\n",
      "Epoch 478/1000\n",
      "75000/75000 [==============================] - 0s 1us/step - loss: 88.8336 - mean_absolute_error: 88.8336\n",
      "Epoch 479/1000\n",
      "75000/75000 [==============================] - 0s 1us/step - loss: 88.8302 - mean_absolute_error: 88.8302\n",
      "Epoch 480/1000\n",
      "75000/75000 [==============================] - 0s 1us/step - loss: 88.8289 - mean_absolute_error: 88.8289\n",
      "Epoch 481/1000\n",
      "75000/75000 [==============================] - 0s 1us/step - loss: 88.8266 - mean_absolute_error: 88.8266\n",
      "Epoch 482/1000\n",
      "75000/75000 [==============================] - 0s 1us/step - loss: 88.8250 - mean_absolute_error: 88.8250\n",
      "Epoch 483/1000\n",
      "75000/75000 [==============================] - 0s 1us/step - loss: 88.8235 - mean_absolute_error: 88.8235\n",
      "Epoch 484/1000\n",
      "75000/75000 [==============================] - 0s 1us/step - loss: 88.8213 - mean_absolute_error: 88.8213\n",
      "Epoch 485/1000\n",
      "75000/75000 [==============================] - 0s 1us/step - loss: 88.8192 - mean_absolute_error: 88.8192\n",
      "Epoch 486/1000\n",
      "75000/75000 [==============================] - 0s 1us/step - loss: 88.8180 - mean_absolute_error: 88.8180\n",
      "Epoch 487/1000\n",
      "75000/75000 [==============================] - 0s 1us/step - loss: 88.8160 - mean_absolute_error: 88.8160\n",
      "Epoch 488/1000\n",
      "75000/75000 [==============================] - 0s 1us/step - loss: 88.8132 - mean_absolute_error: 88.8132\n",
      "Epoch 489/1000\n",
      "75000/75000 [==============================] - 0s 1us/step - loss: 88.8114 - mean_absolute_error: 88.8114\n",
      "Epoch 490/1000\n",
      "75000/75000 [==============================] - 0s 1us/step - loss: 88.8100 - mean_absolute_error: 88.8100\n",
      "Epoch 491/1000\n",
      "75000/75000 [==============================] - 0s 1us/step - loss: 88.8070 - mean_absolute_error: 88.8070\n",
      "Epoch 492/1000\n",
      "75000/75000 [==============================] - 0s 1us/step - loss: 88.8055 - mean_absolute_error: 88.8055\n",
      "Epoch 493/1000\n",
      "75000/75000 [==============================] - 0s 1us/step - loss: 88.8046 - mean_absolute_error: 88.8046\n",
      "Epoch 494/1000\n",
      "75000/75000 [==============================] - 0s 1us/step - loss: 88.8008 - mean_absolute_error: 88.8008\n",
      "Epoch 495/1000\n",
      "75000/75000 [==============================] - 0s 1us/step - loss: 88.8009 - mean_absolute_error: 88.8009\n",
      "Epoch 496/1000\n",
      "75000/75000 [==============================] - 0s 1us/step - loss: 88.7979 - mean_absolute_error: 88.7979\n",
      "Epoch 497/1000\n",
      "75000/75000 [==============================] - 0s 1us/step - loss: 88.7962 - mean_absolute_error: 88.7962\n",
      "Epoch 498/1000\n",
      "75000/75000 [==============================] - 0s 1us/step - loss: 88.7953 - mean_absolute_error: 88.7953\n",
      "Epoch 499/1000\n",
      "75000/75000 [==============================] - 0s 1us/step - loss: 88.7933 - mean_absolute_error: 88.7933\n",
      "Epoch 500/1000\n",
      "75000/75000 [==============================] - 0s 1us/step - loss: 88.7906 - mean_absolute_error: 88.7906\n",
      "Epoch 501/1000\n",
      "75000/75000 [==============================] - 0s 1us/step - loss: 88.7902 - mean_absolute_error: 88.7902\n",
      "Epoch 502/1000\n",
      "75000/75000 [==============================] - 0s 1us/step - loss: 88.7880 - mean_absolute_error: 88.7880\n",
      "Epoch 503/1000\n",
      "75000/75000 [==============================] - 0s 1us/step - loss: 88.7854 - mean_absolute_error: 88.7854\n",
      "Epoch 504/1000\n",
      "75000/75000 [==============================] - 0s 1us/step - loss: 88.7851 - mean_absolute_error: 88.7851\n",
      "Epoch 505/1000\n",
      "75000/75000 [==============================] - 0s 1us/step - loss: 88.7832 - mean_absolute_error: 88.7832\n",
      "Epoch 506/1000\n",
      "75000/75000 [==============================] - 0s 1us/step - loss: 88.7807 - mean_absolute_error: 88.7807\n",
      "Epoch 507/1000\n",
      "75000/75000 [==============================] - 0s 1us/step - loss: 88.7806 - mean_absolute_error: 88.7806\n",
      "Epoch 508/1000\n",
      "75000/75000 [==============================] - 0s 1us/step - loss: 88.7790 - mean_absolute_error: 88.7790\n",
      "Epoch 509/1000\n",
      "75000/75000 [==============================] - 0s 1us/step - loss: 88.7763 - mean_absolute_error: 88.7763\n",
      "Epoch 510/1000\n",
      "75000/75000 [==============================] - 0s 1us/step - loss: 88.7764 - mean_absolute_error: 88.7764\n",
      "Epoch 511/1000\n",
      "75000/75000 [==============================] - 0s 1us/step - loss: 88.7741 - mean_absolute_error: 88.7741\n",
      "Epoch 512/1000\n",
      "75000/75000 [==============================] - 0s 1us/step - loss: 88.7724 - mean_absolute_error: 88.7724\n",
      "Epoch 513/1000\n",
      "75000/75000 [==============================] - 0s 1us/step - loss: 88.7719 - mean_absolute_error: 88.7719\n",
      "Epoch 514/1000\n",
      "75000/75000 [==============================] - 0s 1us/step - loss: 88.7700 - mean_absolute_error: 88.7700\n",
      "Epoch 515/1000\n",
      "75000/75000 [==============================] - 0s 1us/step - loss: 88.7686 - mean_absolute_error: 88.7686\n",
      "Epoch 516/1000\n",
      "75000/75000 [==============================] - 0s 1us/step - loss: 88.7673 - mean_absolute_error: 88.7673\n",
      "Epoch 517/1000\n",
      "75000/75000 [==============================] - 0s 1us/step - loss: 88.7654 - mean_absolute_error: 88.7654\n",
      "Epoch 518/1000\n",
      "75000/75000 [==============================] - 0s 1us/step - loss: 88.7643 - mean_absolute_error: 88.7643\n",
      "Epoch 519/1000\n",
      "75000/75000 [==============================] - 0s 1us/step - loss: 88.7626 - mean_absolute_error: 88.7626\n",
      "Epoch 520/1000\n",
      "75000/75000 [==============================] - 0s 1us/step - loss: 88.7608 - mean_absolute_error: 88.7608\n",
      "Epoch 521/1000\n",
      "75000/75000 [==============================] - 0s 1us/step - loss: 88.7601 - mean_absolute_error: 88.7601\n",
      "Epoch 522/1000\n",
      "75000/75000 [==============================] - 0s 1us/step - loss: 88.7588 - mean_absolute_error: 88.7588\n",
      "Epoch 523/1000\n",
      "75000/75000 [==============================] - 0s 1us/step - loss: 88.7567 - mean_absolute_error: 88.7567\n",
      "Epoch 524/1000\n",
      "75000/75000 [==============================] - 0s 1us/step - loss: 88.7558 - mean_absolute_error: 88.7558\n",
      "Epoch 525/1000\n",
      "75000/75000 [==============================] - 0s 1us/step - loss: 88.7546 - mean_absolute_error: 88.7546\n",
      "Epoch 526/1000\n",
      "75000/75000 [==============================] - 0s 1us/step - loss: 88.7530 - mean_absolute_error: 88.7530\n",
      "Epoch 527/1000\n",
      "75000/75000 [==============================] - 0s 1us/step - loss: 88.7520 - mean_absolute_error: 88.7520\n",
      "Epoch 528/1000\n",
      "75000/75000 [==============================] - 0s 1us/step - loss: 88.7510 - mean_absolute_error: 88.7510\n",
      "Epoch 529/1000\n",
      "75000/75000 [==============================] - 0s 1us/step - loss: 88.7503 - mean_absolute_error: 88.7503\n",
      "Epoch 530/1000\n",
      "75000/75000 [==============================] - 0s 1us/step - loss: 88.7489 - mean_absolute_error: 88.7489\n",
      "Epoch 531/1000\n",
      "75000/75000 [==============================] - 0s 1us/step - loss: 88.7472 - mean_absolute_error: 88.7472\n",
      "Epoch 532/1000\n",
      "75000/75000 [==============================] - 0s 1us/step - loss: 88.7464 - mean_absolute_error: 88.7464\n",
      "Epoch 533/1000\n",
      "75000/75000 [==============================] - 0s 1us/step - loss: 88.7455 - mean_absolute_error: 88.7455\n",
      "Epoch 534/1000\n",
      "75000/75000 [==============================] - 0s 1us/step - loss: 88.7442 - mean_absolute_error: 88.7442\n",
      "Epoch 535/1000\n",
      "75000/75000 [==============================] - 0s 1us/step - loss: 88.7422 - mean_absolute_error: 88.7422\n",
      "Epoch 536/1000\n",
      "75000/75000 [==============================] - 0s 1us/step - loss: 88.7412 - mean_absolute_error: 88.7412\n",
      "Epoch 537/1000\n",
      "75000/75000 [==============================] - 0s 1us/step - loss: 88.7406 - mean_absolute_error: 88.7406\n",
      "Epoch 538/1000\n",
      "75000/75000 [==============================] - 0s 1us/step - loss: 88.7394 - mean_absolute_error: 88.7394\n",
      "Epoch 539/1000\n",
      "75000/75000 [==============================] - 0s 1us/step - loss: 88.7380 - mean_absolute_error: 88.7380\n",
      "Epoch 540/1000\n",
      "75000/75000 [==============================] - 0s 1us/step - loss: 88.7375 - mean_absolute_error: 88.7375\n",
      "Epoch 541/1000\n",
      "75000/75000 [==============================] - 0s 1us/step - loss: 88.7369 - mean_absolute_error: 88.7369\n",
      "Epoch 542/1000\n",
      "75000/75000 [==============================] - 0s 1us/step - loss: 88.7346 - mean_absolute_error: 88.7346\n",
      "Epoch 543/1000\n",
      "75000/75000 [==============================] - 0s 1us/step - loss: 88.7347 - mean_absolute_error: 88.7347\n",
      "Epoch 544/1000\n",
      "75000/75000 [==============================] - 0s 1us/step - loss: 88.7346 - mean_absolute_error: 88.7346\n",
      "Epoch 545/1000\n",
      "75000/75000 [==============================] - 0s 1us/step - loss: 88.7317 - mean_absolute_error: 88.7317\n",
      "Epoch 546/1000\n",
      "75000/75000 [==============================] - 0s 1us/step - loss: 88.7320 - mean_absolute_error: 88.7320\n",
      "Epoch 547/1000\n",
      "75000/75000 [==============================] - 0s 1us/step - loss: 88.7318 - mean_absolute_error: 88.7318\n",
      "Epoch 548/1000\n",
      "75000/75000 [==============================] - 0s 1us/step - loss: 88.7294 - mean_absolute_error: 88.7294\n",
      "Epoch 549/1000\n",
      "75000/75000 [==============================] - 0s 1us/step - loss: 88.7292 - mean_absolute_error: 88.7292\n",
      "Epoch 550/1000\n",
      "75000/75000 [==============================] - 0s 1us/step - loss: 88.7297 - mean_absolute_error: 88.7297\n",
      "Epoch 551/1000\n",
      "75000/75000 [==============================] - 0s 1us/step - loss: 88.7264 - mean_absolute_error: 88.7264\n",
      "Epoch 552/1000\n",
      "75000/75000 [==============================] - 0s 1us/step - loss: 88.7268 - mean_absolute_error: 88.7268\n",
      "Epoch 553/1000\n",
      "75000/75000 [==============================] - 0s 1us/step - loss: 88.7273 - mean_absolute_error: 88.7273\n",
      "Epoch 554/1000\n",
      "75000/75000 [==============================] - 0s 1us/step - loss: 88.7237 - mean_absolute_error: 88.7237\n",
      "Epoch 555/1000\n",
      "75000/75000 [==============================] - 0s 1us/step - loss: 88.7238 - mean_absolute_error: 88.7238\n",
      "Epoch 556/1000\n",
      "75000/75000 [==============================] - 0s 1us/step - loss: 88.7234 - mean_absolute_error: 88.7234\n",
      "Epoch 557/1000\n",
      "75000/75000 [==============================] - 0s 1us/step - loss: 88.7212 - mean_absolute_error: 88.7212\n",
      "Epoch 558/1000\n",
      "75000/75000 [==============================] - 0s 1us/step - loss: 88.7205 - mean_absolute_error: 88.7205\n",
      "Epoch 559/1000\n",
      "75000/75000 [==============================] - 0s 1us/step - loss: 88.7206 - mean_absolute_error: 88.7206\n",
      "Epoch 560/1000\n",
      "75000/75000 [==============================] - 0s 1us/step - loss: 88.7192 - mean_absolute_error: 88.7192\n",
      "Epoch 561/1000\n",
      "75000/75000 [==============================] - 0s 1us/step - loss: 88.7178 - mean_absolute_error: 88.7178\n",
      "Epoch 562/1000\n",
      "75000/75000 [==============================] - 0s 1us/step - loss: 88.7184 - mean_absolute_error: 88.7184\n",
      "Epoch 563/1000\n",
      "75000/75000 [==============================] - 0s 1us/step - loss: 88.7163 - mean_absolute_error: 88.7163\n",
      "Epoch 564/1000\n",
      "75000/75000 [==============================] - 0s 1us/step - loss: 88.7154 - mean_absolute_error: 88.7154\n",
      "Epoch 565/1000\n",
      "75000/75000 [==============================] - 0s 1us/step - loss: 88.7151 - mean_absolute_error: 88.7151\n",
      "Epoch 566/1000\n",
      "75000/75000 [==============================] - 0s 1us/step - loss: 88.7135 - mean_absolute_error: 88.7135\n",
      "Epoch 567/1000\n",
      "75000/75000 [==============================] - 0s 1us/step - loss: 88.7134 - mean_absolute_error: 88.7134\n",
      "Epoch 568/1000\n",
      "75000/75000 [==============================] - 0s 1us/step - loss: 88.7128 - mean_absolute_error: 88.7128\n",
      "Epoch 569/1000\n",
      "75000/75000 [==============================] - 0s 1us/step - loss: 88.7120 - mean_absolute_error: 88.7120\n",
      "Epoch 570/1000\n",
      "75000/75000 [==============================] - 0s 1us/step - loss: 88.7112 - mean_absolute_error: 88.7112\n",
      "Epoch 571/1000\n",
      "75000/75000 [==============================] - 0s 1us/step - loss: 88.7105 - mean_absolute_error: 88.7105\n",
      "Epoch 572/1000\n",
      "75000/75000 [==============================] - 0s 1us/step - loss: 88.7104 - mean_absolute_error: 88.7104\n",
      "Epoch 573/1000\n",
      "75000/75000 [==============================] - 0s 1us/step - loss: 88.7084 - mean_absolute_error: 88.7084\n",
      "Epoch 574/1000\n",
      "75000/75000 [==============================] - 0s 1us/step - loss: 88.7085 - mean_absolute_error: 88.7085\n",
      "Epoch 575/1000\n",
      "75000/75000 [==============================] - 0s 1us/step - loss: 88.7078 - mean_absolute_error: 88.7078\n",
      "Epoch 576/1000\n",
      "75000/75000 [==============================] - 0s 1us/step - loss: 88.7062 - mean_absolute_error: 88.7062\n",
      "Epoch 577/1000\n",
      "75000/75000 [==============================] - 0s 1us/step - loss: 88.7053 - mean_absolute_error: 88.7053\n",
      "Epoch 578/1000\n",
      "75000/75000 [==============================] - 0s 1us/step - loss: 88.7059 - mean_absolute_error: 88.7059\n",
      "Epoch 579/1000\n",
      "75000/75000 [==============================] - 0s 1us/step - loss: 88.7040 - mean_absolute_error: 88.7040\n",
      "Epoch 580/1000\n",
      "75000/75000 [==============================] - 0s 1us/step - loss: 88.7037 - mean_absolute_error: 88.7037\n",
      "Epoch 581/1000\n",
      "75000/75000 [==============================] - 0s 1us/step - loss: 88.7041 - mean_absolute_error: 88.7041\n",
      "Epoch 582/1000\n",
      "75000/75000 [==============================] - 0s 1us/step - loss: 88.7026 - mean_absolute_error: 88.7026\n",
      "Epoch 583/1000\n",
      "75000/75000 [==============================] - 0s 1us/step - loss: 88.7021 - mean_absolute_error: 88.7021\n",
      "Epoch 584/1000\n",
      "75000/75000 [==============================] - 0s 1us/step - loss: 88.7016 - mean_absolute_error: 88.7016\n",
      "Epoch 585/1000\n",
      "75000/75000 [==============================] - 0s 1us/step - loss: 88.7005 - mean_absolute_error: 88.7005\n",
      "Epoch 586/1000\n",
      "75000/75000 [==============================] - 0s 1us/step - loss: 88.7001 - mean_absolute_error: 88.7001\n",
      "Epoch 587/1000\n",
      "75000/75000 [==============================] - 0s 1us/step - loss: 88.7000 - mean_absolute_error: 88.7000\n",
      "Epoch 588/1000\n",
      "75000/75000 [==============================] - 0s 1us/step - loss: 88.6985 - mean_absolute_error: 88.6985\n",
      "Epoch 589/1000\n",
      "75000/75000 [==============================] - 0s 1us/step - loss: 88.6986 - mean_absolute_error: 88.6986\n",
      "Epoch 590/1000\n",
      "75000/75000 [==============================] - 0s 1us/step - loss: 88.6979 - mean_absolute_error: 88.6979\n",
      "Epoch 591/1000\n",
      "75000/75000 [==============================] - 0s 1us/step - loss: 88.6965 - mean_absolute_error: 88.6965\n",
      "Epoch 592/1000\n",
      "75000/75000 [==============================] - 0s 1us/step - loss: 88.6968 - mean_absolute_error: 88.6968\n",
      "Epoch 593/1000\n",
      "75000/75000 [==============================] - 0s 1us/step - loss: 88.6961 - mean_absolute_error: 88.6961\n",
      "Epoch 594/1000\n",
      "75000/75000 [==============================] - 0s 1us/step - loss: 88.6946 - mean_absolute_error: 88.6946\n",
      "Epoch 595/1000\n",
      "75000/75000 [==============================] - 0s 1us/step - loss: 88.6952 - mean_absolute_error: 88.6952\n",
      "Epoch 596/1000\n",
      "75000/75000 [==============================] - 0s 1us/step - loss: 88.6943 - mean_absolute_error: 88.6943\n",
      "Epoch 597/1000\n",
      "75000/75000 [==============================] - 0s 1us/step - loss: 88.6930 - mean_absolute_error: 88.6930\n",
      "Epoch 598/1000\n",
      "75000/75000 [==============================] - 0s 1us/step - loss: 88.6932 - mean_absolute_error: 88.6932\n",
      "Epoch 599/1000\n",
      "75000/75000 [==============================] - 0s 1us/step - loss: 88.6927 - mean_absolute_error: 88.6927\n",
      "Epoch 600/1000\n",
      "75000/75000 [==============================] - 0s 1us/step - loss: 88.6920 - mean_absolute_error: 88.6920\n",
      "Epoch 601/1000\n",
      "75000/75000 [==============================] - 0s 1us/step - loss: 88.6915 - mean_absolute_error: 88.6915\n",
      "Epoch 602/1000\n",
      "75000/75000 [==============================] - 0s 1us/step - loss: 88.6914 - mean_absolute_error: 88.6914\n",
      "Epoch 603/1000\n",
      "75000/75000 [==============================] - 0s 1us/step - loss: 88.6903 - mean_absolute_error: 88.6903\n",
      "Epoch 604/1000\n",
      "75000/75000 [==============================] - 0s 1us/step - loss: 88.6902 - mean_absolute_error: 88.6902\n",
      "Epoch 605/1000\n",
      "75000/75000 [==============================] - 0s 1us/step - loss: 88.6903 - mean_absolute_error: 88.6903\n",
      "Epoch 606/1000\n",
      "75000/75000 [==============================] - 0s 1us/step - loss: 88.6889 - mean_absolute_error: 88.6889\n",
      "Epoch 607/1000\n",
      "75000/75000 [==============================] - 0s 1us/step - loss: 88.6883 - mean_absolute_error: 88.6883\n",
      "Epoch 608/1000\n",
      "75000/75000 [==============================] - 0s 1us/step - loss: 88.6889 - mean_absolute_error: 88.6889\n",
      "Epoch 609/1000\n",
      "75000/75000 [==============================] - 0s 1us/step - loss: 88.6871 - mean_absolute_error: 88.6871\n",
      "Epoch 610/1000\n",
      "75000/75000 [==============================] - 0s 1us/step - loss: 88.6869 - mean_absolute_error: 88.6869\n",
      "Epoch 611/1000\n",
      "75000/75000 [==============================] - 0s 1us/step - loss: 88.6870 - mean_absolute_error: 88.6870\n",
      "Epoch 612/1000\n",
      "75000/75000 [==============================] - 0s 1us/step - loss: 88.6861 - mean_absolute_error: 88.6861\n",
      "Epoch 613/1000\n",
      "75000/75000 [==============================] - 0s 1us/step - loss: 88.6857 - mean_absolute_error: 88.6857\n",
      "Epoch 614/1000\n",
      "75000/75000 [==============================] - 0s 1us/step - loss: 88.6854 - mean_absolute_error: 88.6854\n",
      "Epoch 615/1000\n",
      "75000/75000 [==============================] - 0s 1us/step - loss: 88.6853 - mean_absolute_error: 88.6853\n",
      "Epoch 616/1000\n",
      "75000/75000 [==============================] - 0s 1us/step - loss: 88.6841 - mean_absolute_error: 88.6841\n",
      "Epoch 617/1000\n",
      "75000/75000 [==============================] - 0s 1us/step - loss: 88.6839 - mean_absolute_error: 88.6839\n",
      "Epoch 618/1000\n",
      "75000/75000 [==============================] - 0s 1us/step - loss: 88.6832 - mean_absolute_error: 88.6832\n",
      "Epoch 619/1000\n",
      "75000/75000 [==============================] - 0s 1us/step - loss: 88.6827 - mean_absolute_error: 88.6827\n",
      "Epoch 620/1000\n",
      "75000/75000 [==============================] - 0s 1us/step - loss: 88.6821 - mean_absolute_error: 88.6821\n",
      "Epoch 621/1000\n",
      "75000/75000 [==============================] - 0s 1us/step - loss: 88.6819 - mean_absolute_error: 88.6819\n",
      "Epoch 622/1000\n",
      "75000/75000 [==============================] - 0s 1us/step - loss: 88.6817 - mean_absolute_error: 88.6817\n",
      "Epoch 623/1000\n",
      "75000/75000 [==============================] - 0s 1us/step - loss: 88.6810 - mean_absolute_error: 88.6810\n",
      "Epoch 624/1000\n",
      "75000/75000 [==============================] - 0s 1us/step - loss: 88.6811 - mean_absolute_error: 88.6811\n",
      "Epoch 625/1000\n",
      "75000/75000 [==============================] - 0s 1us/step - loss: 88.6802 - mean_absolute_error: 88.6802\n",
      "Epoch 626/1000\n",
      "75000/75000 [==============================] - 0s 1us/step - loss: 88.6794 - mean_absolute_error: 88.6794\n",
      "Epoch 627/1000\n",
      "75000/75000 [==============================] - 0s 1us/step - loss: 88.6796 - mean_absolute_error: 88.6796\n",
      "Epoch 628/1000\n",
      "75000/75000 [==============================] - 0s 1us/step - loss: 88.6788 - mean_absolute_error: 88.6788\n",
      "Epoch 629/1000\n",
      "75000/75000 [==============================] - 0s 1us/step - loss: 88.6783 - mean_absolute_error: 88.6783\n",
      "Epoch 630/1000\n",
      "75000/75000 [==============================] - 0s 1us/step - loss: 88.6790 - mean_absolute_error: 88.6790\n",
      "Epoch 631/1000\n",
      "75000/75000 [==============================] - 0s 1us/step - loss: 88.6775 - mean_absolute_error: 88.6775\n",
      "Epoch 632/1000\n",
      "75000/75000 [==============================] - 0s 1us/step - loss: 88.6776 - mean_absolute_error: 88.6776\n",
      "Epoch 633/1000\n",
      "75000/75000 [==============================] - 0s 1us/step - loss: 88.6780 - mean_absolute_error: 88.6780\n",
      "Epoch 634/1000\n",
      "75000/75000 [==============================] - 0s 1us/step - loss: 88.6766 - mean_absolute_error: 88.6766\n",
      "Epoch 635/1000\n",
      "75000/75000 [==============================] - 0s 1us/step - loss: 88.6766 - mean_absolute_error: 88.6766\n",
      "Epoch 636/1000\n",
      "75000/75000 [==============================] - 0s 1us/step - loss: 88.6771 - mean_absolute_error: 88.6771\n",
      "Epoch 637/1000\n",
      "75000/75000 [==============================] - 0s 1us/step - loss: 88.6757 - mean_absolute_error: 88.6757\n",
      "Epoch 638/1000\n",
      "75000/75000 [==============================] - 0s 1us/step - loss: 88.6754 - mean_absolute_error: 88.6754\n",
      "Epoch 639/1000\n",
      "75000/75000 [==============================] - 0s 1us/step - loss: 88.6764 - mean_absolute_error: 88.6764\n",
      "Epoch 640/1000\n",
      "75000/75000 [==============================] - 0s 1us/step - loss: 88.6744 - mean_absolute_error: 88.6744\n",
      "Epoch 641/1000\n",
      "75000/75000 [==============================] - 0s 1us/step - loss: 88.6746 - mean_absolute_error: 88.6746\n",
      "Epoch 642/1000\n",
      "75000/75000 [==============================] - 0s 1us/step - loss: 88.6754 - mean_absolute_error: 88.6754\n",
      "Epoch 643/1000\n",
      "75000/75000 [==============================] - 0s 1us/step - loss: 88.6738 - mean_absolute_error: 88.6738\n",
      "Epoch 644/1000\n",
      "75000/75000 [==============================] - 0s 1us/step - loss: 88.6740 - mean_absolute_error: 88.6740\n",
      "Epoch 645/1000\n",
      "75000/75000 [==============================] - 0s 1us/step - loss: 88.6738 - mean_absolute_error: 88.6738\n",
      "Epoch 646/1000\n",
      "75000/75000 [==============================] - 0s 1us/step - loss: 88.6733 - mean_absolute_error: 88.6733\n",
      "Epoch 647/1000\n",
      "75000/75000 [==============================] - 0s 1us/step - loss: 88.6727 - mean_absolute_error: 88.6727\n",
      "Epoch 648/1000\n",
      "75000/75000 [==============================] - 0s 1us/step - loss: 88.6724 - mean_absolute_error: 88.6724\n",
      "Epoch 649/1000\n",
      "75000/75000 [==============================] - 0s 1us/step - loss: 88.6723 - mean_absolute_error: 88.6723\n",
      "Epoch 650/1000\n",
      "75000/75000 [==============================] - 0s 1us/step - loss: 88.6713 - mean_absolute_error: 88.6713\n",
      "Epoch 651/1000\n",
      "75000/75000 [==============================] - 0s 1us/step - loss: 88.6712 - mean_absolute_error: 88.6712\n",
      "Epoch 652/1000\n",
      "75000/75000 [==============================] - 0s 1us/step - loss: 88.6711 - mean_absolute_error: 88.6711\n",
      "Epoch 653/1000\n",
      "75000/75000 [==============================] - 0s 1us/step - loss: 88.6701 - mean_absolute_error: 88.6701\n",
      "Epoch 654/1000\n",
      "75000/75000 [==============================] - 0s 1us/step - loss: 88.6704 - mean_absolute_error: 88.6704\n",
      "Epoch 655/1000\n",
      "75000/75000 [==============================] - 0s 1us/step - loss: 88.6701 - mean_absolute_error: 88.6701\n",
      "Epoch 656/1000\n",
      "75000/75000 [==============================] - 0s 1us/step - loss: 88.6697 - mean_absolute_error: 88.6697\n",
      "Epoch 657/1000\n",
      "75000/75000 [==============================] - 0s 1us/step - loss: 88.6696 - mean_absolute_error: 88.6696\n",
      "Epoch 658/1000\n",
      "75000/75000 [==============================] - 0s 1us/step - loss: 88.6690 - mean_absolute_error: 88.6690\n",
      "Epoch 659/1000\n",
      "75000/75000 [==============================] - 0s 1us/step - loss: 88.6693 - mean_absolute_error: 88.6693\n",
      "Epoch 660/1000\n",
      "75000/75000 [==============================] - 0s 1us/step - loss: 88.6690 - mean_absolute_error: 88.6690\n",
      "Epoch 661/1000\n",
      "75000/75000 [==============================] - 0s 1us/step - loss: 88.6679 - mean_absolute_error: 88.6679\n",
      "Epoch 662/1000\n",
      "75000/75000 [==============================] - 0s 1us/step - loss: 88.6686 - mean_absolute_error: 88.6686\n",
      "Epoch 663/1000\n",
      "75000/75000 [==============================] - 0s 1us/step - loss: 88.6686 - mean_absolute_error: 88.6686\n",
      "Epoch 664/1000\n",
      "75000/75000 [==============================] - 0s 1us/step - loss: 88.6672 - mean_absolute_error: 88.6672\n",
      "Epoch 665/1000\n",
      "75000/75000 [==============================] - 0s 1us/step - loss: 88.6679 - mean_absolute_error: 88.6679\n",
      "Epoch 666/1000\n",
      "75000/75000 [==============================] - 0s 1us/step - loss: 88.6680 - mean_absolute_error: 88.6680\n",
      "Epoch 667/1000\n",
      "75000/75000 [==============================] - 0s 1us/step - loss: 88.6669 - mean_absolute_error: 88.6669\n",
      "Epoch 668/1000\n",
      "75000/75000 [==============================] - 0s 1us/step - loss: 88.6670 - mean_absolute_error: 88.6670\n",
      "Epoch 669/1000\n",
      "75000/75000 [==============================] - 0s 1us/step - loss: 88.6668 - mean_absolute_error: 88.6668\n",
      "Epoch 670/1000\n",
      "75000/75000 [==============================] - 0s 1us/step - loss: 88.6665 - mean_absolute_error: 88.6665\n",
      "Epoch 671/1000\n",
      "75000/75000 [==============================] - 0s 1us/step - loss: 88.6662 - mean_absolute_error: 88.6662\n",
      "Epoch 672/1000\n",
      "75000/75000 [==============================] - 0s 1us/step - loss: 88.6657 - mean_absolute_error: 88.6657\n",
      "Epoch 673/1000\n",
      "75000/75000 [==============================] - 0s 1us/step - loss: 88.6659 - mean_absolute_error: 88.6659\n",
      "Epoch 674/1000\n",
      "75000/75000 [==============================] - 0s 1us/step - loss: 88.6658 - mean_absolute_error: 88.6658\n",
      "Epoch 675/1000\n",
      "75000/75000 [==============================] - 0s 1us/step - loss: 88.6651 - mean_absolute_error: 88.6651\n",
      "Epoch 676/1000\n",
      "75000/75000 [==============================] - 0s 1us/step - loss: 88.6652 - mean_absolute_error: 88.6652\n",
      "Epoch 677/1000\n",
      "75000/75000 [==============================] - 0s 1us/step - loss: 88.6650 - mean_absolute_error: 88.6650\n",
      "Epoch 678/1000\n",
      "75000/75000 [==============================] - 0s 1us/step - loss: 88.6653 - mean_absolute_error: 88.6653\n",
      "Epoch 679/1000\n",
      "75000/75000 [==============================] - 0s 1us/step - loss: 88.6642 - mean_absolute_error: 88.6642\n",
      "Epoch 680/1000\n",
      "75000/75000 [==============================] - 0s 1us/step - loss: 88.6644 - mean_absolute_error: 88.6644\n",
      "Epoch 681/1000\n",
      "75000/75000 [==============================] - 0s 1us/step - loss: 88.6650 - mean_absolute_error: 88.6650\n",
      "Epoch 682/1000\n",
      "75000/75000 [==============================] - 0s 1us/step - loss: 88.6632 - mean_absolute_error: 88.6632\n",
      "Epoch 683/1000\n",
      "75000/75000 [==============================] - 0s 1us/step - loss: 88.6636 - mean_absolute_error: 88.6636\n",
      "Epoch 684/1000\n",
      "75000/75000 [==============================] - 0s 1us/step - loss: 88.6646 - mean_absolute_error: 88.6646\n",
      "Epoch 685/1000\n",
      "75000/75000 [==============================] - 0s 1us/step - loss: 88.6629 - mean_absolute_error: 88.6629\n",
      "Epoch 686/1000\n",
      "75000/75000 [==============================] - 0s 1us/step - loss: 88.6628 - mean_absolute_error: 88.6628\n",
      "Epoch 687/1000\n",
      "75000/75000 [==============================] - 0s 1us/step - loss: 88.6631 - mean_absolute_error: 88.6631\n",
      "Epoch 688/1000\n",
      "75000/75000 [==============================] - 0s 1us/step - loss: 88.6626 - mean_absolute_error: 88.6626\n",
      "Epoch 689/1000\n",
      "75000/75000 [==============================] - 0s 1us/step - loss: 88.6622 - mean_absolute_error: 88.6622\n",
      "Epoch 690/1000\n",
      "75000/75000 [==============================] - 0s 1us/step - loss: 88.6621 - mean_absolute_error: 88.6621\n",
      "Epoch 691/1000\n",
      "75000/75000 [==============================] - 0s 1us/step - loss: 88.6621 - mean_absolute_error: 88.6621\n",
      "Epoch 692/1000\n",
      "75000/75000 [==============================] - 0s 1us/step - loss: 88.6617 - mean_absolute_error: 88.6617\n",
      "Epoch 693/1000\n",
      "75000/75000 [==============================] - 0s 1us/step - loss: 88.6615 - mean_absolute_error: 88.6615\n",
      "Epoch 694/1000\n",
      "75000/75000 [==============================] - 0s 1us/step - loss: 88.6617 - mean_absolute_error: 88.6617\n",
      "Epoch 695/1000\n",
      "75000/75000 [==============================] - 0s 1us/step - loss: 88.6614 - mean_absolute_error: 88.6614\n",
      "Epoch 696/1000\n",
      "75000/75000 [==============================] - 0s 1us/step - loss: 88.6610 - mean_absolute_error: 88.6610\n",
      "Epoch 697/1000\n",
      "75000/75000 [==============================] - 0s 1us/step - loss: 88.6613 - mean_absolute_error: 88.6613\n",
      "Epoch 698/1000\n",
      "75000/75000 [==============================] - 0s 1us/step - loss: 88.6611 - mean_absolute_error: 88.6611\n",
      "Epoch 699/1000\n",
      "75000/75000 [==============================] - 0s 1us/step - loss: 88.6603 - mean_absolute_error: 88.6603\n",
      "Epoch 700/1000\n",
      "75000/75000 [==============================] - 0s 1us/step - loss: 88.6602 - mean_absolute_error: 88.6602\n",
      "Epoch 701/1000\n",
      "75000/75000 [==============================] - 0s 1us/step - loss: 88.6609 - mean_absolute_error: 88.6609\n",
      "Epoch 702/1000\n",
      "75000/75000 [==============================] - 0s 1us/step - loss: 88.6602 - mean_absolute_error: 88.6602\n",
      "Epoch 703/1000\n",
      "75000/75000 [==============================] - 0s 1us/step - loss: 88.6596 - mean_absolute_error: 88.6596\n",
      "Epoch 704/1000\n",
      "75000/75000 [==============================] - 0s 1us/step - loss: 88.6607 - mean_absolute_error: 88.6607\n",
      "Epoch 705/1000\n",
      "75000/75000 [==============================] - 0s 1us/step - loss: 88.6603 - mean_absolute_error: 88.6603\n",
      "Epoch 706/1000\n",
      "75000/75000 [==============================] - 0s 1us/step - loss: 88.6593 - mean_absolute_error: 88.6593\n",
      "Epoch 707/1000\n",
      "75000/75000 [==============================] - 0s 1us/step - loss: 88.6604 - mean_absolute_error: 88.6604\n",
      "Epoch 708/1000\n",
      "75000/75000 [==============================] - 0s 1us/step - loss: 88.6600 - mean_absolute_error: 88.6600\n",
      "Epoch 709/1000\n",
      "75000/75000 [==============================] - 0s 1us/step - loss: 88.6588 - mean_absolute_error: 88.6588\n",
      "Epoch 710/1000\n",
      "75000/75000 [==============================] - 0s 1us/step - loss: 88.6605 - mean_absolute_error: 88.6605\n",
      "Epoch 711/1000\n",
      "75000/75000 [==============================] - 0s 1us/step - loss: 88.6592 - mean_absolute_error: 88.6592\n",
      "Epoch 712/1000\n",
      "75000/75000 [==============================] - 0s 1us/step - loss: 88.6587 - mean_absolute_error: 88.6587\n",
      "Epoch 713/1000\n",
      "75000/75000 [==============================] - 0s 1us/step - loss: 88.6600 - mean_absolute_error: 88.6600\n",
      "Epoch 714/1000\n",
      "75000/75000 [==============================] - 0s 1us/step - loss: 88.6582 - mean_absolute_error: 88.6582\n",
      "Epoch 715/1000\n",
      "75000/75000 [==============================] - 0s 1us/step - loss: 88.6588 - mean_absolute_error: 88.6588\n",
      "Epoch 716/1000\n",
      "75000/75000 [==============================] - 0s 1us/step - loss: 88.6588 - mean_absolute_error: 88.6588\n",
      "Epoch 717/1000\n",
      "75000/75000 [==============================] - 0s 1us/step - loss: 88.6572 - mean_absolute_error: 88.6572\n",
      "Epoch 718/1000\n",
      "75000/75000 [==============================] - 0s 1us/step - loss: 88.6587 - mean_absolute_error: 88.6587\n",
      "Epoch 719/1000\n",
      "75000/75000 [==============================] - 0s 1us/step - loss: 88.6579 - mean_absolute_error: 88.6579\n",
      "Epoch 720/1000\n",
      "75000/75000 [==============================] - 0s 1us/step - loss: 88.6567 - mean_absolute_error: 88.6567\n",
      "Epoch 721/1000\n",
      "75000/75000 [==============================] - 0s 1us/step - loss: 88.6581 - mean_absolute_error: 88.6581\n",
      "Epoch 722/1000\n",
      "75000/75000 [==============================] - 0s 1us/step - loss: 88.6570 - mean_absolute_error: 88.6570\n",
      "Epoch 723/1000\n",
      "75000/75000 [==============================] - 0s 1us/step - loss: 88.6564 - mean_absolute_error: 88.6564\n",
      "Epoch 724/1000\n",
      "75000/75000 [==============================] - 0s 1us/step - loss: 88.6570 - mean_absolute_error: 88.6570\n",
      "Epoch 725/1000\n",
      "75000/75000 [==============================] - 0s 1us/step - loss: 88.6566 - mean_absolute_error: 88.6566\n",
      "Epoch 726/1000\n",
      "75000/75000 [==============================] - 0s 1us/step - loss: 88.6557 - mean_absolute_error: 88.6557\n",
      "Epoch 727/1000\n",
      "75000/75000 [==============================] - 0s 1us/step - loss: 88.6562 - mean_absolute_error: 88.6562\n",
      "Epoch 728/1000\n",
      "75000/75000 [==============================] - 0s 1us/step - loss: 88.6564 - mean_absolute_error: 88.6564\n",
      "Epoch 729/1000\n",
      "75000/75000 [==============================] - 0s 1us/step - loss: 88.6556 - mean_absolute_error: 88.6556\n",
      "Epoch 730/1000\n",
      "75000/75000 [==============================] - 0s 1us/step - loss: 88.6562 - mean_absolute_error: 88.6562\n",
      "Epoch 731/1000\n",
      "75000/75000 [==============================] - 0s 1us/step - loss: 88.6556 - mean_absolute_error: 88.6556\n",
      "Epoch 732/1000\n",
      "75000/75000 [==============================] - 0s 1us/step - loss: 88.6556 - mean_absolute_error: 88.6556\n",
      "Epoch 733/1000\n",
      "75000/75000 [==============================] - 0s 1us/step - loss: 88.6556 - mean_absolute_error: 88.6556\n",
      "Epoch 734/1000\n",
      "75000/75000 [==============================] - 0s 1us/step - loss: 88.6555 - mean_absolute_error: 88.6555\n",
      "Epoch 735/1000\n",
      "75000/75000 [==============================] - 0s 1us/step - loss: 88.6551 - mean_absolute_error: 88.6551\n",
      "Epoch 736/1000\n",
      "75000/75000 [==============================] - 0s 1us/step - loss: 88.6549 - mean_absolute_error: 88.6549\n",
      "Epoch 737/1000\n",
      "75000/75000 [==============================] - 0s 1us/step - loss: 88.6547 - mean_absolute_error: 88.6547\n",
      "Epoch 738/1000\n",
      "75000/75000 [==============================] - 0s 1us/step - loss: 88.6545 - mean_absolute_error: 88.6545\n",
      "Epoch 739/1000\n",
      "75000/75000 [==============================] - 0s 1us/step - loss: 88.6546 - mean_absolute_error: 88.6546\n",
      "Epoch 740/1000\n",
      "75000/75000 [==============================] - 0s 1us/step - loss: 88.6541 - mean_absolute_error: 88.6541\n",
      "Epoch 741/1000\n",
      "75000/75000 [==============================] - 0s 1us/step - loss: 88.6542 - mean_absolute_error: 88.6542\n",
      "Epoch 742/1000\n",
      "75000/75000 [==============================] - 0s 1us/step - loss: 88.6542 - mean_absolute_error: 88.6542\n",
      "Epoch 743/1000\n",
      "75000/75000 [==============================] - 0s 1us/step - loss: 88.6539 - mean_absolute_error: 88.6539\n",
      "Epoch 744/1000\n",
      "75000/75000 [==============================] - 0s 1us/step - loss: 88.6537 - mean_absolute_error: 88.6537\n",
      "Epoch 745/1000\n",
      "75000/75000 [==============================] - 0s 1us/step - loss: 88.6540 - mean_absolute_error: 88.6540\n",
      "Epoch 746/1000\n",
      "75000/75000 [==============================] - 0s 1us/step - loss: 88.6533 - mean_absolute_error: 88.6533\n",
      "Epoch 747/1000\n",
      "75000/75000 [==============================] - 0s 1us/step - loss: 88.6529 - mean_absolute_error: 88.6529\n",
      "Epoch 748/1000\n",
      "75000/75000 [==============================] - 0s 1us/step - loss: 88.6535 - mean_absolute_error: 88.6535\n",
      "Epoch 749/1000\n",
      "75000/75000 [==============================] - 0s 1us/step - loss: 88.6533 - mean_absolute_error: 88.6533\n",
      "Epoch 750/1000\n",
      "75000/75000 [==============================] - 0s 1us/step - loss: 88.6523 - mean_absolute_error: 88.6523\n",
      "Epoch 751/1000\n",
      "75000/75000 [==============================] - 0s 1us/step - loss: 88.6532 - mean_absolute_error: 88.6532\n",
      "Epoch 752/1000\n",
      "75000/75000 [==============================] - 0s 1us/step - loss: 88.6529 - mean_absolute_error: 88.6529\n",
      "Epoch 753/1000\n",
      "75000/75000 [==============================] - 0s 1us/step - loss: 88.6521 - mean_absolute_error: 88.6521\n",
      "Epoch 754/1000\n",
      "75000/75000 [==============================] - 0s 1us/step - loss: 88.6524 - mean_absolute_error: 88.6524\n",
      "Epoch 755/1000\n",
      "75000/75000 [==============================] - 0s 1us/step - loss: 88.6525 - mean_absolute_error: 88.6525\n",
      "Epoch 756/1000\n",
      "75000/75000 [==============================] - 0s 1us/step - loss: 88.6518 - mean_absolute_error: 88.6518\n",
      "Epoch 757/1000\n",
      "75000/75000 [==============================] - 0s 1us/step - loss: 88.6518 - mean_absolute_error: 88.6518\n",
      "Epoch 758/1000\n",
      "75000/75000 [==============================] - 0s 1us/step - loss: 88.6520 - mean_absolute_error: 88.6520\n",
      "Epoch 759/1000\n",
      "75000/75000 [==============================] - 0s 1us/step - loss: 88.6515 - mean_absolute_error: 88.6515\n",
      "Epoch 760/1000\n",
      "75000/75000 [==============================] - 0s 1us/step - loss: 88.6512 - mean_absolute_error: 88.6512\n",
      "Epoch 761/1000\n",
      "75000/75000 [==============================] - 0s 1us/step - loss: 88.6512 - mean_absolute_error: 88.6512\n",
      "Epoch 762/1000\n",
      "75000/75000 [==============================] - 0s 1us/step - loss: 88.6513 - mean_absolute_error: 88.6513\n",
      "Epoch 763/1000\n",
      "75000/75000 [==============================] - 0s 1us/step - loss: 88.6508 - mean_absolute_error: 88.6508\n",
      "Epoch 764/1000\n",
      "75000/75000 [==============================] - 0s 1us/step - loss: 88.6505 - mean_absolute_error: 88.6505\n",
      "Epoch 765/1000\n",
      "75000/75000 [==============================] - 0s 1us/step - loss: 88.6508 - mean_absolute_error: 88.6508\n",
      "Epoch 766/1000\n",
      "75000/75000 [==============================] - 0s 1us/step - loss: 88.6502 - mean_absolute_error: 88.6502\n",
      "Epoch 767/1000\n",
      "75000/75000 [==============================] - 0s 1us/step - loss: 88.6503 - mean_absolute_error: 88.6503\n",
      "Epoch 768/1000\n",
      "75000/75000 [==============================] - 0s 1us/step - loss: 88.6502 - mean_absolute_error: 88.6502\n",
      "Epoch 769/1000\n",
      "75000/75000 [==============================] - 0s 1us/step - loss: 88.6499 - mean_absolute_error: 88.6499\n",
      "Epoch 770/1000\n",
      "75000/75000 [==============================] - 0s 1us/step - loss: 88.6499 - mean_absolute_error: 88.6499\n",
      "Epoch 771/1000\n",
      "75000/75000 [==============================] - 0s 1us/step - loss: 88.6497 - mean_absolute_error: 88.6497\n",
      "Epoch 772/1000\n",
      "75000/75000 [==============================] - 0s 1us/step - loss: 88.6494 - mean_absolute_error: 88.6494\n",
      "Epoch 773/1000\n",
      "75000/75000 [==============================] - 0s 1us/step - loss: 88.6495 - mean_absolute_error: 88.6495\n",
      "Epoch 774/1000\n",
      "75000/75000 [==============================] - 0s 1us/step - loss: 88.6495 - mean_absolute_error: 88.6495\n",
      "Epoch 775/1000\n",
      "75000/75000 [==============================] - 0s 1us/step - loss: 88.6494 - mean_absolute_error: 88.6494\n",
      "Epoch 776/1000\n",
      "75000/75000 [==============================] - 0s 1us/step - loss: 88.6493 - mean_absolute_error: 88.6493\n",
      "Epoch 777/1000\n",
      "75000/75000 [==============================] - 0s 1us/step - loss: 88.6500 - mean_absolute_error: 88.6500\n",
      "Epoch 778/1000\n",
      "75000/75000 [==============================] - 0s 1us/step - loss: 88.6494 - mean_absolute_error: 88.6494\n",
      "Epoch 779/1000\n",
      "75000/75000 [==============================] - 0s 1us/step - loss: 88.6485 - mean_absolute_error: 88.6485\n",
      "Epoch 780/1000\n",
      "75000/75000 [==============================] - 0s 1us/step - loss: 88.6498 - mean_absolute_error: 88.6498\n",
      "Epoch 781/1000\n",
      "75000/75000 [==============================] - 0s 1us/step - loss: 88.6497 - mean_absolute_error: 88.6497\n",
      "Epoch 782/1000\n",
      "75000/75000 [==============================] - 0s 1us/step - loss: 88.6483 - mean_absolute_error: 88.6483\n",
      "Epoch 783/1000\n",
      "75000/75000 [==============================] - 0s 1us/step - loss: 88.6490 - mean_absolute_error: 88.6490\n",
      "Epoch 784/1000\n",
      "75000/75000 [==============================] - 0s 1us/step - loss: 88.6497 - mean_absolute_error: 88.6497\n",
      "Epoch 785/1000\n",
      "75000/75000 [==============================] - 0s 1us/step - loss: 88.6489 - mean_absolute_error: 88.6489\n",
      "Epoch 786/1000\n",
      "75000/75000 [==============================] - 0s 1us/step - loss: 88.6483 - mean_absolute_error: 88.6483\n",
      "Epoch 787/1000\n",
      "75000/75000 [==============================] - 0s 1us/step - loss: 88.6489 - mean_absolute_error: 88.6489\n",
      "Epoch 788/1000\n",
      "75000/75000 [==============================] - 0s 1us/step - loss: 88.6493 - mean_absolute_error: 88.6493\n",
      "Epoch 789/1000\n",
      "75000/75000 [==============================] - 0s 1us/step - loss: 88.6485 - mean_absolute_error: 88.6485\n",
      "Epoch 790/1000\n",
      "75000/75000 [==============================] - 0s 1us/step - loss: 88.6481 - mean_absolute_error: 88.6481\n",
      "Epoch 791/1000\n",
      "75000/75000 [==============================] - 0s 1us/step - loss: 88.6488 - mean_absolute_error: 88.6488\n",
      "Epoch 792/1000\n",
      "75000/75000 [==============================] - 0s 1us/step - loss: 88.6492 - mean_absolute_error: 88.6492\n",
      "Epoch 793/1000\n",
      "75000/75000 [==============================] - 0s 1us/step - loss: 88.6475 - mean_absolute_error: 88.6475\n",
      "Epoch 794/1000\n",
      "75000/75000 [==============================] - 0s 1us/step - loss: 88.6477 - mean_absolute_error: 88.6477\n",
      "Epoch 795/1000\n",
      "75000/75000 [==============================] - 0s 1us/step - loss: 88.6496 - mean_absolute_error: 88.6496\n",
      "Epoch 796/1000\n",
      "75000/75000 [==============================] - 0s 1us/step - loss: 88.6483 - mean_absolute_error: 88.6483\n",
      "Epoch 797/1000\n",
      "75000/75000 [==============================] - 0s 1us/step - loss: 88.6474 - mean_absolute_error: 88.6474\n",
      "Epoch 798/1000\n",
      "75000/75000 [==============================] - 0s 1us/step - loss: 88.6483 - mean_absolute_error: 88.6483\n",
      "Epoch 799/1000\n",
      "75000/75000 [==============================] - 0s 1us/step - loss: 88.6490 - mean_absolute_error: 88.6490\n",
      "Epoch 800/1000\n",
      "75000/75000 [==============================] - 0s 1us/step - loss: 88.6478 - mean_absolute_error: 88.6478\n",
      "Epoch 801/1000\n",
      "75000/75000 [==============================] - 0s 1us/step - loss: 88.6480 - mean_absolute_error: 88.6480\n",
      "Epoch 802/1000\n",
      "75000/75000 [==============================] - 0s 1us/step - loss: 88.6484 - mean_absolute_error: 88.6484\n",
      "Epoch 803/1000\n",
      "75000/75000 [==============================] - 0s 1us/step - loss: 88.6484 - mean_absolute_error: 88.6484\n",
      "Epoch 804/1000\n",
      "75000/75000 [==============================] - 0s 1us/step - loss: 88.6471 - mean_absolute_error: 88.6471\n",
      "Epoch 805/1000\n",
      "75000/75000 [==============================] - 0s 1us/step - loss: 88.6473 - mean_absolute_error: 88.6473\n",
      "Epoch 806/1000\n",
      "75000/75000 [==============================] - 0s 1us/step - loss: 88.6487 - mean_absolute_error: 88.6487\n",
      "Epoch 807/1000\n",
      "75000/75000 [==============================] - 0s 1us/step - loss: 88.6471 - mean_absolute_error: 88.6471\n",
      "Epoch 808/1000\n",
      "75000/75000 [==============================] - 0s 1us/step - loss: 88.6465 - mean_absolute_error: 88.6465\n",
      "Epoch 809/1000\n",
      "75000/75000 [==============================] - 0s 1us/step - loss: 88.6479 - mean_absolute_error: 88.6479\n",
      "Epoch 810/1000\n",
      "75000/75000 [==============================] - 0s 1us/step - loss: 88.6467 - mean_absolute_error: 88.6467\n",
      "Epoch 811/1000\n",
      "75000/75000 [==============================] - 0s 1us/step - loss: 88.6465 - mean_absolute_error: 88.6465\n",
      "Epoch 812/1000\n",
      "75000/75000 [==============================] - 0s 1us/step - loss: 88.6469 - mean_absolute_error: 88.6469\n",
      "Epoch 813/1000\n",
      "75000/75000 [==============================] - 0s 1us/step - loss: 88.6470 - mean_absolute_error: 88.6470\n",
      "Epoch 814/1000\n",
      "75000/75000 [==============================] - 0s 1us/step - loss: 88.6464 - mean_absolute_error: 88.6464\n",
      "Epoch 815/1000\n",
      "75000/75000 [==============================] - 0s 1us/step - loss: 88.6464 - mean_absolute_error: 88.6464\n",
      "Epoch 816/1000\n",
      "75000/75000 [==============================] - 0s 1us/step - loss: 88.6469 - mean_absolute_error: 88.6469\n",
      "Epoch 817/1000\n",
      "75000/75000 [==============================] - 0s 1us/step - loss: 88.6465 - mean_absolute_error: 88.6465\n",
      "Epoch 818/1000\n",
      "75000/75000 [==============================] - 0s 1us/step - loss: 88.6461 - mean_absolute_error: 88.6461\n",
      "Epoch 819/1000\n",
      "75000/75000 [==============================] - 0s 1us/step - loss: 88.6460 - mean_absolute_error: 88.6460\n",
      "Epoch 820/1000\n",
      "75000/75000 [==============================] - 0s 1us/step - loss: 88.6466 - mean_absolute_error: 88.6466\n",
      "Epoch 821/1000\n",
      "75000/75000 [==============================] - 0s 1us/step - loss: 88.6464 - mean_absolute_error: 88.6464\n",
      "Epoch 822/1000\n",
      "75000/75000 [==============================] - 0s 1us/step - loss: 88.6454 - mean_absolute_error: 88.6454\n",
      "Epoch 823/1000\n",
      "75000/75000 [==============================] - 0s 1us/step - loss: 88.6464 - mean_absolute_error: 88.6464\n",
      "Epoch 824/1000\n",
      "75000/75000 [==============================] - 0s 1us/step - loss: 88.6466 - mean_absolute_error: 88.6466\n",
      "Epoch 825/1000\n",
      "75000/75000 [==============================] - 0s 1us/step - loss: 88.6451 - mean_absolute_error: 88.6451\n",
      "Epoch 826/1000\n",
      "75000/75000 [==============================] - 0s 1us/step - loss: 88.6458 - mean_absolute_error: 88.6458\n",
      "Epoch 827/1000\n",
      "75000/75000 [==============================] - 0s 1us/step - loss: 88.6461 - mean_absolute_error: 88.6461\n",
      "Epoch 828/1000\n",
      "75000/75000 [==============================] - 0s 1us/step - loss: 88.6451 - mean_absolute_error: 88.6451\n",
      "Epoch 829/1000\n",
      "75000/75000 [==============================] - 0s 1us/step - loss: 88.6453 - mean_absolute_error: 88.6453\n",
      "Epoch 830/1000\n",
      "75000/75000 [==============================] - 0s 1us/step - loss: 88.6454 - mean_absolute_error: 88.6454\n",
      "Epoch 831/1000\n",
      "75000/75000 [==============================] - 0s 1us/step - loss: 88.6451 - mean_absolute_error: 88.6451\n",
      "Epoch 832/1000\n",
      "75000/75000 [==============================] - 0s 1us/step - loss: 88.6451 - mean_absolute_error: 88.6451\n",
      "Epoch 833/1000\n",
      "75000/75000 [==============================] - 0s 1us/step - loss: 88.6451 - mean_absolute_error: 88.6451\n",
      "Epoch 834/1000\n",
      "75000/75000 [==============================] - 0s 1us/step - loss: 88.6452 - mean_absolute_error: 88.6452\n",
      "Epoch 835/1000\n",
      "75000/75000 [==============================] - 0s 1us/step - loss: 88.6447 - mean_absolute_error: 88.6447\n",
      "Epoch 836/1000\n",
      "75000/75000 [==============================] - 0s 1us/step - loss: 88.6454 - mean_absolute_error: 88.6454\n",
      "Epoch 837/1000\n",
      "75000/75000 [==============================] - 0s 1us/step - loss: 88.6451 - mean_absolute_error: 88.6451\n",
      "Epoch 838/1000\n",
      "75000/75000 [==============================] - 0s 1us/step - loss: 88.6445 - mean_absolute_error: 88.6445\n",
      "Epoch 839/1000\n",
      "75000/75000 [==============================] - 0s 1us/step - loss: 88.6452 - mean_absolute_error: 88.6452\n",
      "Epoch 840/1000\n",
      "75000/75000 [==============================] - 0s 1us/step - loss: 88.6448 - mean_absolute_error: 88.6448\n",
      "Epoch 841/1000\n",
      "75000/75000 [==============================] - 0s 1us/step - loss: 88.6447 - mean_absolute_error: 88.6447\n",
      "Epoch 842/1000\n",
      "75000/75000 [==============================] - 0s 1us/step - loss: 88.6446 - mean_absolute_error: 88.6446\n",
      "Epoch 843/1000\n",
      "75000/75000 [==============================] - 0s 1us/step - loss: 88.6447 - mean_absolute_error: 88.6447\n",
      "Epoch 844/1000\n",
      "75000/75000 [==============================] - 0s 1us/step - loss: 88.6447 - mean_absolute_error: 88.6447\n",
      "Epoch 845/1000\n",
      "75000/75000 [==============================] - 0s 1us/step - loss: 88.6448 - mean_absolute_error: 88.6448\n",
      "Epoch 846/1000\n",
      "75000/75000 [==============================] - 0s 1us/step - loss: 88.6444 - mean_absolute_error: 88.6444\n",
      "Epoch 847/1000\n",
      "75000/75000 [==============================] - 0s 1us/step - loss: 88.6441 - mean_absolute_error: 88.6441\n",
      "Epoch 848/1000\n",
      "75000/75000 [==============================] - 0s 1us/step - loss: 88.6448 - mean_absolute_error: 88.6448\n",
      "Epoch 849/1000\n",
      "75000/75000 [==============================] - 0s 1us/step - loss: 88.6442 - mean_absolute_error: 88.6442\n",
      "Epoch 850/1000\n",
      "75000/75000 [==============================] - 0s 1us/step - loss: 88.6436 - mean_absolute_error: 88.6436\n",
      "Epoch 851/1000\n",
      "75000/75000 [==============================] - 0s 1us/step - loss: 88.6442 - mean_absolute_error: 88.6442\n",
      "Epoch 852/1000\n",
      "75000/75000 [==============================] - 0s 1us/step - loss: 88.6445 - mean_absolute_error: 88.6445\n",
      "Epoch 853/1000\n",
      "75000/75000 [==============================] - 0s 1us/step - loss: 88.6435 - mean_absolute_error: 88.6435\n",
      "Epoch 854/1000\n",
      "75000/75000 [==============================] - 0s 1us/step - loss: 88.6437 - mean_absolute_error: 88.6437\n",
      "Epoch 855/1000\n",
      "75000/75000 [==============================] - 0s 1us/step - loss: 88.6446 - mean_absolute_error: 88.6446\n",
      "Epoch 856/1000\n",
      "75000/75000 [==============================] - 0s 1us/step - loss: 88.6437 - mean_absolute_error: 88.6437\n",
      "Epoch 857/1000\n",
      "75000/75000 [==============================] - 0s 1us/step - loss: 88.6435 - mean_absolute_error: 88.6435\n",
      "Epoch 858/1000\n",
      "75000/75000 [==============================] - 0s 1us/step - loss: 88.6438 - mean_absolute_error: 88.6438\n",
      "Epoch 859/1000\n",
      "75000/75000 [==============================] - 0s 1us/step - loss: 88.6434 - mean_absolute_error: 88.6434\n",
      "Epoch 860/1000\n",
      "75000/75000 [==============================] - 0s 1us/step - loss: 88.6438 - mean_absolute_error: 88.6438\n",
      "Epoch 861/1000\n",
      "75000/75000 [==============================] - 0s 1us/step - loss: 88.6433 - mean_absolute_error: 88.6433\n",
      "Epoch 862/1000\n",
      "75000/75000 [==============================] - 0s 1us/step - loss: 88.6437 - mean_absolute_error: 88.6437\n",
      "Epoch 863/1000\n",
      "75000/75000 [==============================] - 0s 1us/step - loss: 88.6441 - mean_absolute_error: 88.6441\n",
      "Epoch 864/1000\n",
      "75000/75000 [==============================] - 0s 1us/step - loss: 88.6429 - mean_absolute_error: 88.6429\n",
      "Epoch 865/1000\n",
      "75000/75000 [==============================] - 0s 1us/step - loss: 88.6436 - mean_absolute_error: 88.6436\n",
      "Epoch 866/1000\n",
      "75000/75000 [==============================] - 0s 1us/step - loss: 88.6440 - mean_absolute_error: 88.6440\n",
      "Epoch 867/1000\n",
      "75000/75000 [==============================] - 0s 1us/step - loss: 88.6432 - mean_absolute_error: 88.6432\n",
      "Epoch 868/1000\n",
      "75000/75000 [==============================] - 0s 1us/step - loss: 88.6433 - mean_absolute_error: 88.6433\n",
      "Epoch 869/1000\n",
      "75000/75000 [==============================] - 0s 1us/step - loss: 88.6437 - mean_absolute_error: 88.6437\n",
      "Epoch 870/1000\n",
      "75000/75000 [==============================] - 0s 1us/step - loss: 88.6432 - mean_absolute_error: 88.6432\n",
      "Epoch 871/1000\n",
      "75000/75000 [==============================] - 0s 1us/step - loss: 88.6433 - mean_absolute_error: 88.6433\n",
      "Epoch 872/1000\n",
      "75000/75000 [==============================] - 0s 1us/step - loss: 88.6429 - mean_absolute_error: 88.6429\n",
      "Epoch 873/1000\n",
      "75000/75000 [==============================] - 0s 1us/step - loss: 88.6430 - mean_absolute_error: 88.6430\n",
      "Epoch 874/1000\n",
      "75000/75000 [==============================] - 0s 1us/step - loss: 88.6435 - mean_absolute_error: 88.6435\n",
      "Epoch 875/1000\n",
      "75000/75000 [==============================] - 0s 1us/step - loss: 88.6425 - mean_absolute_error: 88.6425\n",
      "Epoch 876/1000\n",
      "75000/75000 [==============================] - 0s 1us/step - loss: 88.6428 - mean_absolute_error: 88.6428\n",
      "Epoch 877/1000\n",
      "75000/75000 [==============================] - 0s 1us/step - loss: 88.6433 - mean_absolute_error: 88.6433\n",
      "Epoch 878/1000\n",
      "75000/75000 [==============================] - 0s 1us/step - loss: 88.6421 - mean_absolute_error: 88.6421\n",
      "Epoch 879/1000\n",
      "75000/75000 [==============================] - 0s 1us/step - loss: 88.6425 - mean_absolute_error: 88.6425\n",
      "Epoch 880/1000\n",
      "75000/75000 [==============================] - 0s 1us/step - loss: 88.6425 - mean_absolute_error: 88.6425\n",
      "Epoch 881/1000\n",
      "75000/75000 [==============================] - 0s 1us/step - loss: 88.6420 - mean_absolute_error: 88.6420\n",
      "Epoch 882/1000\n",
      "75000/75000 [==============================] - 0s 1us/step - loss: 88.6422 - mean_absolute_error: 88.6422\n",
      "Epoch 883/1000\n",
      "75000/75000 [==============================] - 0s 1us/step - loss: 88.6419 - mean_absolute_error: 88.6419\n",
      "Epoch 884/1000\n",
      "75000/75000 [==============================] - 0s 1us/step - loss: 88.6420 - mean_absolute_error: 88.6420\n",
      "Epoch 885/1000\n",
      "75000/75000 [==============================] - 0s 1us/step - loss: 88.6417 - mean_absolute_error: 88.6417\n",
      "Epoch 886/1000\n",
      "75000/75000 [==============================] - 0s 1us/step - loss: 88.6420 - mean_absolute_error: 88.6420\n",
      "Epoch 887/1000\n",
      "75000/75000 [==============================] - 0s 1us/step - loss: 88.6416 - mean_absolute_error: 88.6416\n",
      "Epoch 888/1000\n",
      "75000/75000 [==============================] - 0s 1us/step - loss: 88.6415 - mean_absolute_error: 88.6415\n",
      "Epoch 889/1000\n",
      "75000/75000 [==============================] - 0s 1us/step - loss: 88.6423 - mean_absolute_error: 88.6423\n",
      "Epoch 890/1000\n",
      "75000/75000 [==============================] - 0s 1us/step - loss: 88.6416 - mean_absolute_error: 88.6416\n",
      "Epoch 891/1000\n",
      "75000/75000 [==============================] - 0s 1us/step - loss: 88.6413 - mean_absolute_error: 88.6413\n",
      "Epoch 892/1000\n",
      "75000/75000 [==============================] - 0s 1us/step - loss: 88.6427 - mean_absolute_error: 88.6427\n",
      "Epoch 893/1000\n",
      "75000/75000 [==============================] - 0s 1us/step - loss: 88.6416 - mean_absolute_error: 88.6416\n",
      "Epoch 894/1000\n",
      "75000/75000 [==============================] - 0s 1us/step - loss: 88.6410 - mean_absolute_error: 88.6410\n",
      "Epoch 895/1000\n",
      "75000/75000 [==============================] - 0s 1us/step - loss: 88.6419 - mean_absolute_error: 88.6419\n",
      "Epoch 896/1000\n",
      "75000/75000 [==============================] - 0s 1us/step - loss: 88.6419 - mean_absolute_error: 88.6419\n",
      "Epoch 897/1000\n",
      "75000/75000 [==============================] - 0s 1us/step - loss: 88.6415 - mean_absolute_error: 88.6415\n",
      "Epoch 898/1000\n",
      "75000/75000 [==============================] - 0s 1us/step - loss: 88.6410 - mean_absolute_error: 88.6410\n",
      "Epoch 899/1000\n",
      "75000/75000 [==============================] - 0s 1us/step - loss: 88.6426 - mean_absolute_error: 88.6426\n",
      "Epoch 900/1000\n",
      "75000/75000 [==============================] - 0s 1us/step - loss: 88.6416 - mean_absolute_error: 88.6416\n",
      "Epoch 901/1000\n",
      "75000/75000 [==============================] - 0s 1us/step - loss: 88.6409 - mean_absolute_error: 88.6409\n",
      "Epoch 902/1000\n",
      "75000/75000 [==============================] - 0s 1us/step - loss: 88.6426 - mean_absolute_error: 88.6426\n",
      "Epoch 903/1000\n",
      "75000/75000 [==============================] - 0s 1us/step - loss: 88.6424 - mean_absolute_error: 88.6424\n",
      "Epoch 904/1000\n",
      "75000/75000 [==============================] - 0s 1us/step - loss: 88.6412 - mean_absolute_error: 88.6412\n",
      "Epoch 905/1000\n",
      "75000/75000 [==============================] - 0s 1us/step - loss: 88.6419 - mean_absolute_error: 88.6419\n",
      "Epoch 906/1000\n",
      "75000/75000 [==============================] - 0s 1us/step - loss: 88.6425 - mean_absolute_error: 88.6425\n",
      "Epoch 907/1000\n",
      "75000/75000 [==============================] - 0s 1us/step - loss: 88.6415 - mean_absolute_error: 88.6415\n",
      "Epoch 908/1000\n",
      "75000/75000 [==============================] - 0s 1us/step - loss: 88.6415 - mean_absolute_error: 88.6415\n",
      "Epoch 909/1000\n",
      "75000/75000 [==============================] - 0s 1us/step - loss: 88.6425 - mean_absolute_error: 88.6425\n",
      "Epoch 910/1000\n",
      "75000/75000 [==============================] - 0s 1us/step - loss: 88.6420 - mean_absolute_error: 88.6420\n",
      "Epoch 911/1000\n",
      "75000/75000 [==============================] - 0s 1us/step - loss: 88.6415 - mean_absolute_error: 88.6415\n",
      "Epoch 912/1000\n",
      "75000/75000 [==============================] - 0s 1us/step - loss: 88.6420 - mean_absolute_error: 88.6420\n",
      "Epoch 913/1000\n",
      "75000/75000 [==============================] - 0s 1us/step - loss: 88.6418 - mean_absolute_error: 88.6418\n",
      "Epoch 914/1000\n",
      "75000/75000 [==============================] - 0s 1us/step - loss: 88.6420 - mean_absolute_error: 88.6420\n",
      "Epoch 915/1000\n",
      "75000/75000 [==============================] - 0s 1us/step - loss: 88.6420 - mean_absolute_error: 88.6420\n",
      "Epoch 916/1000\n",
      "75000/75000 [==============================] - 0s 1us/step - loss: 88.6410 - mean_absolute_error: 88.6410\n",
      "Epoch 917/1000\n",
      "75000/75000 [==============================] - 0s 1us/step - loss: 88.6421 - mean_absolute_error: 88.6421\n",
      "Epoch 918/1000\n",
      "75000/75000 [==============================] - 0s 1us/step - loss: 88.6426 - mean_absolute_error: 88.6426\n",
      "Epoch 919/1000\n",
      "75000/75000 [==============================] - 0s 1us/step - loss: 88.6403 - mean_absolute_error: 88.6403\n",
      "Epoch 920/1000\n",
      "75000/75000 [==============================] - 0s 1us/step - loss: 88.6417 - mean_absolute_error: 88.6417\n",
      "Epoch 921/1000\n",
      "75000/75000 [==============================] - 0s 1us/step - loss: 88.6433 - mean_absolute_error: 88.6433\n",
      "Epoch 922/1000\n",
      "75000/75000 [==============================] - 0s 1us/step - loss: 88.6404 - mean_absolute_error: 88.6404\n",
      "Epoch 923/1000\n",
      "75000/75000 [==============================] - 0s 1us/step - loss: 88.6411 - mean_absolute_error: 88.6411\n",
      "Epoch 924/1000\n",
      "75000/75000 [==============================] - 0s 1us/step - loss: 88.6432 - mean_absolute_error: 88.6432\n",
      "Epoch 925/1000\n",
      "75000/75000 [==============================] - 0s 1us/step - loss: 88.6407 - mean_absolute_error: 88.6407\n",
      "Epoch 926/1000\n",
      "75000/75000 [==============================] - 0s 1us/step - loss: 88.6406 - mean_absolute_error: 88.6406\n",
      "Epoch 927/1000\n",
      "75000/75000 [==============================] - 0s 1us/step - loss: 88.6422 - mean_absolute_error: 88.6422\n",
      "Epoch 928/1000\n",
      "75000/75000 [==============================] - 0s 1us/step - loss: 88.6415 - mean_absolute_error: 88.6415\n",
      "Epoch 929/1000\n",
      "75000/75000 [==============================] - 0s 1us/step - loss: 88.6404 - mean_absolute_error: 88.6404\n",
      "Epoch 930/1000\n",
      "75000/75000 [==============================] - 0s 1us/step - loss: 88.6411 - mean_absolute_error: 88.6411\n",
      "Epoch 931/1000\n",
      "75000/75000 [==============================] - 0s 1us/step - loss: 88.6420 - mean_absolute_error: 88.6420\n",
      "Epoch 932/1000\n",
      "75000/75000 [==============================] - 0s 1us/step - loss: 88.6408 - mean_absolute_error: 88.6408\n",
      "Epoch 933/1000\n",
      "75000/75000 [==============================] - 0s 1us/step - loss: 88.6400 - mean_absolute_error: 88.6400\n",
      "Epoch 934/1000\n",
      "75000/75000 [==============================] - 0s 1us/step - loss: 88.6419 - mean_absolute_error: 88.6419\n",
      "Epoch 935/1000\n",
      "75000/75000 [==============================] - 0s 1us/step - loss: 88.6410 - mean_absolute_error: 88.6410\n",
      "Epoch 936/1000\n",
      "75000/75000 [==============================] - 0s 1us/step - loss: 88.6402 - mean_absolute_error: 88.6402\n",
      "Epoch 937/1000\n",
      "75000/75000 [==============================] - 0s 1us/step - loss: 88.6416 - mean_absolute_error: 88.6416\n",
      "Epoch 938/1000\n",
      "75000/75000 [==============================] - 0s 1us/step - loss: 88.6410 - mean_absolute_error: 88.6410\n",
      "Epoch 939/1000\n",
      "75000/75000 [==============================] - 0s 1us/step - loss: 88.6408 - mean_absolute_error: 88.6408\n",
      "Epoch 940/1000\n",
      "75000/75000 [==============================] - 0s 1us/step - loss: 88.6411 - mean_absolute_error: 88.6411\n",
      "Epoch 941/1000\n",
      "75000/75000 [==============================] - 0s 1us/step - loss: 88.6406 - mean_absolute_error: 88.6406\n",
      "Epoch 942/1000\n",
      "75000/75000 [==============================] - 0s 1us/step - loss: 88.6412 - mean_absolute_error: 88.6412\n",
      "Epoch 943/1000\n",
      "75000/75000 [==============================] - 0s 1us/step - loss: 88.6407 - mean_absolute_error: 88.6407\n",
      "Epoch 944/1000\n",
      "75000/75000 [==============================] - 0s 1us/step - loss: 88.6402 - mean_absolute_error: 88.6402\n",
      "Epoch 945/1000\n",
      "75000/75000 [==============================] - 0s 1us/step - loss: 88.6414 - mean_absolute_error: 88.6414\n",
      "Epoch 946/1000\n",
      "75000/75000 [==============================] - 0s 1us/step - loss: 88.6403 - mean_absolute_error: 88.6403\n",
      "Epoch 947/1000\n",
      "75000/75000 [==============================] - 0s 1us/step - loss: 88.6398 - mean_absolute_error: 88.6398\n",
      "Epoch 948/1000\n",
      "75000/75000 [==============================] - 0s 1us/step - loss: 88.6416 - mean_absolute_error: 88.6416\n",
      "Epoch 949/1000\n",
      "75000/75000 [==============================] - 0s 1us/step - loss: 88.6407 - mean_absolute_error: 88.6407\n",
      "Epoch 950/1000\n",
      "75000/75000 [==============================] - 0s 1us/step - loss: 88.6394 - mean_absolute_error: 88.6394\n",
      "Epoch 951/1000\n",
      "75000/75000 [==============================] - 0s 1us/step - loss: 88.6412 - mean_absolute_error: 88.6412\n",
      "Epoch 952/1000\n",
      "75000/75000 [==============================] - 0s 1us/step - loss: 88.6409 - mean_absolute_error: 88.6409\n",
      "Epoch 953/1000\n",
      "75000/75000 [==============================] - 0s 1us/step - loss: 88.6396 - mean_absolute_error: 88.6396\n",
      "Epoch 954/1000\n",
      "75000/75000 [==============================] - 0s 1us/step - loss: 88.6400 - mean_absolute_error: 88.6400\n",
      "Epoch 955/1000\n",
      "75000/75000 [==============================] - 0s 1us/step - loss: 88.6408 - mean_absolute_error: 88.6408\n",
      "Epoch 956/1000\n",
      "75000/75000 [==============================] - 0s 1us/step - loss: 88.6399 - mean_absolute_error: 88.6399\n",
      "Epoch 957/1000\n",
      "75000/75000 [==============================] - 0s 1us/step - loss: 88.6395 - mean_absolute_error: 88.6395\n",
      "Epoch 958/1000\n",
      "75000/75000 [==============================] - 0s 1us/step - loss: 88.6406 - mean_absolute_error: 88.6406\n",
      "Epoch 959/1000\n",
      "75000/75000 [==============================] - 0s 1us/step - loss: 88.6406 - mean_absolute_error: 88.6406\n",
      "Epoch 960/1000\n",
      "75000/75000 [==============================] - 0s 1us/step - loss: 88.6394 - mean_absolute_error: 88.6394\n",
      "Epoch 961/1000\n",
      "75000/75000 [==============================] - 0s 1us/step - loss: 88.6395 - mean_absolute_error: 88.6395\n",
      "Epoch 962/1000\n",
      "75000/75000 [==============================] - 0s 1us/step - loss: 88.6410 - mean_absolute_error: 88.6410\n",
      "Epoch 963/1000\n",
      "75000/75000 [==============================] - 0s 1us/step - loss: 88.6394 - mean_absolute_error: 88.6394\n",
      "Epoch 964/1000\n",
      "75000/75000 [==============================] - 0s 1us/step - loss: 88.6387 - mean_absolute_error: 88.6387\n",
      "Epoch 965/1000\n",
      "75000/75000 [==============================] - 0s 1us/step - loss: 88.6402 - mean_absolute_error: 88.6402\n",
      "Epoch 966/1000\n",
      "75000/75000 [==============================] - 0s 1us/step - loss: 88.6396 - mean_absolute_error: 88.6396\n",
      "Epoch 967/1000\n",
      "75000/75000 [==============================] - 0s 1us/step - loss: 88.6385 - mean_absolute_error: 88.6385\n",
      "Epoch 968/1000\n",
      "75000/75000 [==============================] - 0s 1us/step - loss: 88.6403 - mean_absolute_error: 88.6403\n",
      "Epoch 969/1000\n",
      "75000/75000 [==============================] - 0s 1us/step - loss: 88.6399 - mean_absolute_error: 88.6399\n",
      "Epoch 970/1000\n",
      "75000/75000 [==============================] - 0s 1us/step - loss: 88.6385 - mean_absolute_error: 88.6385\n",
      "Epoch 971/1000\n",
      "75000/75000 [==============================] - 0s 1us/step - loss: 88.6398 - mean_absolute_error: 88.6398\n",
      "Epoch 972/1000\n",
      "75000/75000 [==============================] - 0s 1us/step - loss: 88.6396 - mean_absolute_error: 88.6396\n",
      "Epoch 973/1000\n",
      "75000/75000 [==============================] - 0s 1us/step - loss: 88.6391 - mean_absolute_error: 88.6391\n",
      "Epoch 974/1000\n",
      "75000/75000 [==============================] - 0s 1us/step - loss: 88.6391 - mean_absolute_error: 88.6391\n",
      "Epoch 975/1000\n",
      "75000/75000 [==============================] - 0s 1us/step - loss: 88.6396 - mean_absolute_error: 88.6396\n",
      "Epoch 976/1000\n",
      "75000/75000 [==============================] - 0s 1us/step - loss: 88.6392 - mean_absolute_error: 88.6392\n",
      "Epoch 977/1000\n",
      "75000/75000 [==============================] - 0s 1us/step - loss: 88.6385 - mean_absolute_error: 88.6385\n",
      "Epoch 978/1000\n",
      "75000/75000 [==============================] - 0s 1us/step - loss: 88.6393 - mean_absolute_error: 88.6393\n",
      "Epoch 979/1000\n",
      "75000/75000 [==============================] - 0s 1us/step - loss: 88.6387 - mean_absolute_error: 88.6387\n",
      "Epoch 980/1000\n",
      "75000/75000 [==============================] - 0s 1us/step - loss: 88.6382 - mean_absolute_error: 88.6382\n",
      "Epoch 981/1000\n",
      "75000/75000 [==============================] - 0s 1us/step - loss: 88.6386 - mean_absolute_error: 88.6386\n",
      "Epoch 982/1000\n",
      "75000/75000 [==============================] - 0s 1us/step - loss: 88.6384 - mean_absolute_error: 88.6384\n",
      "Epoch 983/1000\n",
      "75000/75000 [==============================] - 0s 1us/step - loss: 88.6384 - mean_absolute_error: 88.6384\n",
      "Epoch 984/1000\n",
      "75000/75000 [==============================] - 0s 1us/step - loss: 88.6381 - mean_absolute_error: 88.6381\n",
      "Epoch 985/1000\n",
      "75000/75000 [==============================] - 0s 1us/step - loss: 88.6379 - mean_absolute_error: 88.6379\n",
      "Epoch 986/1000\n",
      "75000/75000 [==============================] - 0s 1us/step - loss: 88.6382 - mean_absolute_error: 88.6382\n",
      "Epoch 987/1000\n",
      "75000/75000 [==============================] - 0s 1us/step - loss: 88.6378 - mean_absolute_error: 88.6378\n",
      "Epoch 988/1000\n",
      "75000/75000 [==============================] - 0s 1us/step - loss: 88.6379 - mean_absolute_error: 88.6379\n",
      "Epoch 989/1000\n",
      "75000/75000 [==============================] - 0s 1us/step - loss: 88.6382 - mean_absolute_error: 88.6382\n",
      "Epoch 990/1000\n",
      "75000/75000 [==============================] - 0s 1us/step - loss: 88.6379 - mean_absolute_error: 88.6379\n",
      "Epoch 991/1000\n",
      "75000/75000 [==============================] - 0s 1us/step - loss: 88.6381 - mean_absolute_error: 88.6381\n",
      "Epoch 992/1000\n",
      "75000/75000 [==============================] - 0s 1us/step - loss: 88.6381 - mean_absolute_error: 88.6381\n",
      "Epoch 993/1000\n",
      "75000/75000 [==============================] - 0s 1us/step - loss: 88.6379 - mean_absolute_error: 88.6379\n",
      "Epoch 994/1000\n",
      "75000/75000 [==============================] - 0s 1us/step - loss: 88.6384 - mean_absolute_error: 88.6384\n",
      "Epoch 995/1000\n",
      "75000/75000 [==============================] - 0s 1us/step - loss: 88.6378 - mean_absolute_error: 88.6378\n",
      "Epoch 996/1000\n",
      "75000/75000 [==============================] - 0s 1us/step - loss: 88.6379 - mean_absolute_error: 88.6379\n",
      "Epoch 997/1000\n",
      "75000/75000 [==============================] - 0s 1us/step - loss: 88.6385 - mean_absolute_error: 88.6385\n",
      "Epoch 998/1000\n",
      "75000/75000 [==============================] - 0s 1us/step - loss: 88.6378 - mean_absolute_error: 88.6378\n",
      "Epoch 999/1000\n",
      "75000/75000 [==============================] - 0s 1us/step - loss: 88.6375 - mean_absolute_error: 88.6375\n",
      "Epoch 1000/1000\n",
      "75000/75000 [==============================] - 0s 1us/step - loss: 88.6382 - mean_absolute_error: 88.6382\n"
     ]
    }
   ],
   "source": [
    "BS = 100000\n",
    "EPOCHS = 1000\n",
    "history = model2.fit(S_tr, s_tr, batch_size = BS, epochs = EPOCHS)"
   ]
  },
  {
   "cell_type": "code",
   "execution_count": 28,
   "metadata": {
    "scrolled": true,
    "slideshow": {
     "slide_type": "slide"
    }
   },
   "outputs": [],
   "source": [
    "preds = model2.predict(S_te)"
   ]
  },
  {
   "cell_type": "code",
   "execution_count": 29,
   "metadata": {
    "slideshow": {
     "slide_type": "slide"
    }
   },
   "outputs": [
    {
     "data": {
      "text/plain": [
       "88.20210439498709"
      ]
     },
     "execution_count": 29,
     "metadata": {},
     "output_type": "execute_result"
    }
   ],
   "source": [
    "mean_absolute_error(s_te,preds)"
   ]
  },
  {
   "cell_type": "code",
   "execution_count": 30,
   "metadata": {
    "slideshow": {
     "slide_type": "slide"
    }
   },
   "outputs": [
    {
     "data": {
      "text/plain": [
       "Text(0, 0.5, 'metric')"
      ]
     },
     "execution_count": 30,
     "metadata": {},
     "output_type": "execute_result"
    },
    {
     "data": {
      "image/png": "[encoded data removed]",
      "text/plain": [
       "<Figure size 1080x432 with 2 Axes>"
      ]
     },
     "metadata": {},
     "output_type": "display_data"
    }
   ],
   "source": [
    "plt.figure(figsize=(15,6))\n",
    "plt.subplot(121)\n",
    "plt.plot(range(EPOCHS),history.history['loss'])\n",
    "plt.xlabel('epoch')\n",
    "plt.ylabel('loss')\n",
    "plt.subplot(122)\n",
    "plt.plot(range(EPOCHS),history.history['mean_absolute_error'])\n",
    "plt.xlabel('epoch')\n",
    "plt.ylabel('metric')\n"
   ]
  },
  {
   "cell_type": "markdown",
   "metadata": {
    "slideshow": {
     "slide_type": "slide"
    }
   },
   "source": [
    "Peut-on affirmer que nos modèles obtiennent réellement ces scores ?"
   ]
  },
  {
   "cell_type": "markdown",
   "metadata": {
    "slideshow": {
     "slide_type": "slide"
    }
   },
   "source": [
    "Absolument pas, on ne les valide pas !\n",
    "Il y a alors deux manière de rajouter un jeu de validation."
   ]
  },
  {
   "cell_type": "code",
   "execution_count": 31,
   "metadata": {
    "slideshow": {
     "slide_type": "slide"
    }
   },
   "outputs": [
    {
     "name": "stdout",
     "output_type": "stream",
     "text": [
      "Train on 60000 samples, validate on 15000 samples\n",
      "Epoch 1/1\n",
      "60000/60000 [==============================] - 0s 3us/step - loss: 89.2933 - mean_absolute_error: 89.2933 - val_loss: 88.4062 - val_mean_absolute_error: 88.4062\n",
      "Train on 75000 samples, validate on 25000 samples\n",
      "Epoch 1/1\n",
      "75000/75000 [==============================] - 0s 2us/step - loss: 88.9381 - mean_absolute_error: 88.9381 - val_loss: 88.4082 - val_mean_absolute_error: 88.4082\n"
     ]
    }
   ],
   "source": [
    "history = model2.fit(S_tr, s_tr, validation_split = 0.2, batch_size = 1000, epochs = 1) # Split aléatoire\n",
    "history = model2.fit(S_tr, s_tr, validation_data=(S_te,s_te), batch_size = 1000, epochs = 1)"
   ]
  },
  {
   "cell_type": "markdown",
   "metadata": {
    "slideshow": {
     "slide_type": "slide"
    }
   },
   "source": [
    "N'avons nous pas oublier quelque chose avant de faire nos modèles ? \n"
   ]
  },
  {
   "cell_type": "markdown",
   "metadata": {
    "slideshow": {
     "slide_type": "slide"
    }
   },
   "source": [
    "Normaliser les données ! Avec des scalings de différents type par exemple !"
   ]
  },
  {
   "cell_type": "markdown",
   "metadata": {
    "slideshow": {
     "slide_type": "slide"
    }
   },
   "source": [
    "### IV. Callbacks"
   ]
  },
  {
   "cell_type": "markdown",
   "metadata": {
    "slideshow": {
     "slide_type": "slide"
    }
   },
   "source": [
    "Les callbacks permettent de réaliser des opérations, comme sauver les poids du réseaux, ou utilier un Cycling LR finder."
   ]
  },
  {
   "cell_type": "code",
   "execution_count": 32,
   "metadata": {
    "slideshow": {
     "slide_type": "slide"
    }
   },
   "outputs": [],
   "source": [
    "from keras.callbacks import *\n",
    "\n",
    "checkpoint  = ModelCheckpoint('weights.h5', monitor='val_loss', verbose=1, save_best_only=False, save_weights_only=False, mode='auto', period=1)\n",
    "\n",
    "earlystop = EarlyStopping(monitor='val_loss', min_delta=0, patience=0, verbose=1, mode='auto', baseline=None, restore_best_weights=False)\n",
    "\n",
    "reduce_lr = ReduceLROnPlateau(monitor='val_loss', factor=0.1, patience=10, verbose=1, mode='auto', min_delta=0.0001, cooldown=0, min_lr=0)\n"
   ]
  },
  {
   "cell_type": "code",
   "execution_count": 33,
   "metadata": {
    "slideshow": {
     "slide_type": "slide"
    }
   },
   "outputs": [
    {
     "name": "stdout",
     "output_type": "stream",
     "text": [
      "Train on 75000 samples, validate on 25000 samples\n",
      "Epoch 1/10\n",
      "75000/75000 [==============================] - 0s 2us/step - loss: 88.8715 - mean_absolute_error: 88.8715 - val_loss: 88.3656 - val_mean_absolute_error: 88.3656\n",
      "\n",
      "Epoch 00001: saving model to weights.h5\n",
      "Epoch 2/10\n",
      "75000/75000 [==============================] - 0s 2us/step - loss: 88.8272 - mean_absolute_error: 88.8272 - val_loss: 88.3601 - val_mean_absolute_error: 88.3601\n",
      "\n",
      "Epoch 00002: saving model to weights.h5\n",
      "Epoch 3/10\n",
      "75000/75000 [==============================] - 0s 2us/step - loss: 88.8123 - mean_absolute_error: 88.8123 - val_loss: 88.3741 - val_mean_absolute_error: 88.3741\n",
      "\n",
      "Epoch 00003: saving model to weights.h5\n",
      "Epoch 00003: early stopping\n"
     ]
    }
   ],
   "source": [
    "history = model2.fit(S_tr, s_tr, validation_data=(S_te,s_te), batch_size = 1000, epochs = 10, callbacks=[checkpoint, earlystop, reduce_lr])"
   ]
  },
  {
   "cell_type": "markdown",
   "metadata": {
    "slideshow": {
     "slide_type": "slide"
    }
   },
   "source": [
    "## V. NLP & RNN\n"
   ]
  },
  {
   "cell_type": "markdown",
   "metadata": {
    "slideshow": {
     "slide_type": "slide"
    }
   },
   "source": [
    "Layers utiles pour les RNN : LSTM & GRU (voir cours d'E. Scornet)"
   ]
  },
  {
   "cell_type": "code",
   "execution_count": 11,
   "metadata": {
    "slideshow": {
     "slide_type": "slide"
    }
   },
   "outputs": [
    {
     "name": "stdout",
     "output_type": "stream",
     "text": [
      "input_dim: nombre de mots uniques \n",
      "ouput_dim : taille de l'embedding \n",
      "input_lenght :taille maximale d'une phrase\n"
     ]
    }
   ],
   "source": [
    "#couche d'embedding permettant de vectorizer un ensemble de tokens\n",
    "#Renvoie des entiers positif comme un vecteur dense, ce sont rien de plus que poids mis à jour lors des backprop\n",
    "Embedding(input_dim = 300, output_dim = 10)\n",
    "print('input_dim: nombre de mots uniques', \"\\nouput_dim : taille de l'embedding\", \"\\ninput_lenght :taille maximale d\\'une phrase\")"
   ]
  },
  {
   "cell_type": "code",
   "execution_count": 34,
   "metadata": {
    "scrolled": true,
    "slideshow": {
     "slide_type": "slide"
    }
   },
   "outputs": [
    {
     "name": "stdout",
     "output_type": "stream",
     "text": [
      "return_sequence : retourner le dernier élement de la séquence ou la séquence entière\n"
     ]
    }
   ],
   "source": [
    "#GRU\n",
    "GRU(units = 50, activation='tanh', recurrent_activation='hard_sigmoid', use_bias=True, kernel_initializer='glorot_uniform', recurrent_initializer='orthogonal', bias_initializer='zeros', kernel_regularizer=None, recurrent_regularizer=None, bias_regularizer=None, activity_regularizer=None, kernel_constraint=None, recurrent_constraint=None, bias_constraint=None, dropout=0.0, recurrent_dropout=0.0, implementation=1, return_sequences=False)\n",
    "print(\"return_sequence : retourner le dernier élement de la séquence ou la séquence entière\")"
   ]
  },
  {
   "cell_type": "code",
   "execution_count": 35,
   "metadata": {
    "slideshow": {
     "slide_type": "slide"
    }
   },
   "outputs": [
    {
     "name": "stdout",
     "output_type": "stream",
     "text": [
      "return_sequence : retourner le dernier élement de la séquence ou la séquence entière\n"
     ]
    }
   ],
   "source": [
    "#GRU\n",
    "LSTM(units = 50, activation='tanh', recurrent_activation='hard_sigmoid', use_bias=True, kernel_initializer='glorot_uniform', recurrent_initializer='orthogonal', bias_initializer='zeros', kernel_regularizer=None, recurrent_regularizer=None, bias_regularizer=None, activity_regularizer=None, kernel_constraint=None, recurrent_constraint=None, bias_constraint=None, dropout=0.0, recurrent_dropout=0.0, implementation=1, return_sequences=False)\n",
    "print(\"return_sequence : retourner le dernier élement de la séquence ou la séquence entière\")"
   ]
  },
  {
   "cell_type": "code",
   "execution_count": 36,
   "metadata": {
    "slideshow": {
     "slide_type": "slide"
    }
   },
   "outputs": [
    {
     "data": {
      "text/plain": [
       "<keras.layers.cudnn_recurrent.CuDNNLSTM at 0x7f08185eda58>"
      ]
     },
     "execution_count": 36,
     "metadata": {},
     "output_type": "execute_result"
    }
   ],
   "source": [
    "#Faster si cuda disponible\n",
    "CuDNNGRU(units = 50)\n",
    "CuDNNLSTM(units = 50)"
   ]
  },
  {
   "cell_type": "code",
   "execution_count": 37,
   "metadata": {
    "slideshow": {
     "slide_type": "slide"
    }
   },
   "outputs": [
    {
     "data": {
      "text/plain": [
       "<keras.layers.core.Flatten at 0x7f08185ed470>"
      ]
     },
     "execution_count": 37,
     "metadata": {},
     "output_type": "execute_result"
    }
   ],
   "source": [
    "#Flatten : matrice to vector\n",
    "Flatten()"
   ]
  },
  {
   "cell_type": "code",
   "execution_count": 38,
   "metadata": {
    "slideshow": {
     "slide_type": "slide"
    }
   },
   "outputs": [
    {
     "data": {
      "text/plain": [
       "<keras.layers.normalization.BatchNormalization at 0x7f08185ed550>"
      ]
     },
     "execution_count": 38,
     "metadata": {},
     "output_type": "execute_result"
    }
   ],
   "source": [
    "#BatchNormalization : normalization by each batch to set the feature map mean close to 0\n",
    "BatchNormalization()"
   ]
  },
  {
   "cell_type": "markdown",
   "metadata": {
    "slideshow": {
     "slide_type": "slide"
    }
   },
   "source": [
    "**Comment devons nous transformer des données textuelles ?**"
   ]
  },
  {
   "cell_type": "markdown",
   "metadata": {
    "slideshow": {
     "slide_type": "slide"
    }
   },
   "source": [
    "On doit les tokenizer puis les utiliser comme on le souhaite."
   ]
  },
  {
   "cell_type": "code",
   "execution_count": 39,
   "metadata": {
    "slideshow": {
     "slide_type": "slide"
    }
   },
   "outputs": [
    {
     "name": "stdout",
     "output_type": "stream",
     "text": [
      "['il', 'fait', 'beau', 'et', 'chaud']\n"
     ]
    }
   ],
   "source": [
    "from keras.preprocessing.text import text_to_word_sequence\n",
    "# define the document\n",
    "text = 'Il fait beau et chaud.'\n",
    "# tokenize the document\n",
    "result = text_to_word_sequence(text)\n",
    "print(result)"
   ]
  },
  {
   "cell_type": "code",
   "execution_count": 7,
   "metadata": {
    "scrolled": true,
    "slideshow": {
     "slide_type": "slide"
    }
   },
   "outputs": [
    {
     "name": "stdout",
     "output_type": "stream",
     "text": [
      "[[4, 5, 1, 6, 7], [2, 3, 8, 9, 10], [2, 3, 1]]\n",
      "{'beau': 1, 'paris': 2, 'est': 3, 'il': 4, 'fait': 5, 'et': 6, 'chaud': 7, 'une': 8, 'belle': 9, 'ville': 10}\n"
     ]
    }
   ],
   "source": [
    "#Et pour directement transformer un corpus\n",
    "from keras.preprocessing.text import Tokenizer\n",
    "sentences_train = ['il fait beau et chaud','Paris est une belle ville', 'Paris est beau']\n",
    "\n",
    "tokenizer = Tokenizer(num_words = 5000, filters='!\"#$%&()*+,-./:;<=>?@[\\\\]^_`{|}~\\t\\n', lower=True)\n",
    "#nombre maximum de mots\n",
    "tokenizer.fit_on_texts(sentences_train)\n",
    "\n",
    "X_train = tokenizer.texts_to_sequences(sentences_train)\n",
    "print(X_train) # Que se passe-t'il ?\n",
    "print(tokenizer.word_index)"
   ]
  },
  {
   "cell_type": "code",
   "execution_count": 41,
   "metadata": {
    "slideshow": {
     "slide_type": "slide"
    }
   },
   "outputs": [
    {
     "name": "stdout",
     "output_type": "stream",
     "text": [
      "[[4 5 1 6 7]\n",
      " [0 0 2 3 8]\n",
      " [0 0 2 3 1]]\n"
     ]
    }
   ],
   "source": [
    "from keras.preprocessing.sequence import pad_sequences\n",
    "\n",
    "X_train = pad_sequences(X_train)\n",
    "print(X_train) # Que se passe-t'il ?"
   ]
  },
  {
   "cell_type": "markdown",
   "metadata": {
    "slideshow": {
     "slide_type": "slide"
    }
   },
   "source": [
    "La couche d'input change pour être un embedding, c'est-à-dire une couche de vectorization permettant d'utiliser des données textuelles.\n"
   ]
  },
  {
   "cell_type": "markdown",
   "metadata": {
    "slideshow": {
     "slide_type": "slide"
    }
   },
   "source": [
    "Word embedding: technique permettant de représenter chaque mot d'un dictionnaire par un vecteur de nombres réels.\n",
    "\n",
    "2 phrases:\n",
    "- \"Hope to see you soon\"\n",
    "- \"Nice to see you again\"\n",
    "On assigne un entier unique à chaque mot, dans l'ordre d'apparition.\n",
    "- [0, 1, 2, 3, 4]\n",
    "- [5, 1, 2, 3, 6]\n",
    "\n",
    "Si on veut entrainer notre reseau sur cette première couche il faut alors spécifier:\n",
    "__Embedding(7, 2, input_length=5)__\n",
    "7 correspond au nombre de token distincts (vocab size), 2 indique la dimension de l'embedding, et l'input_length la longueur de chaque sequence.\n"
   ]
  },
  {
   "cell_type": "code",
   "execution_count": 42,
   "metadata": {
    "slideshow": {
     "slide_type": "slide"
    }
   },
   "outputs": [],
   "source": [
    "model = Sequential()\n",
    "vocab_size =len(tokenizer.word_index) + 1 #l'index 0 est utilisé par keras, on ne peut pas l'utiliser\n",
    "model.add(Embedding(vocab_size, 16))\n",
    "model.add(LSTM(32))\n",
    "model.add(Dense(1))"
   ]
  },
  {
   "cell_type": "markdown",
   "metadata": {
    "slideshow": {
     "slide_type": "slide"
    }
   },
   "source": [
    "## VI - Exercices"
   ]
  },
  {
   "cell_type": "code",
   "execution_count": 1,
   "metadata": {
    "slideshow": {
     "slide_type": "slide"
    }
   },
   "outputs": [
    {
     "name": "stderr",
     "output_type": "stream",
     "text": [
      "/home/arthur/anaconda3/envs/py36/lib/python3.6/site-packages/h5py/__init__.py:36: FutureWarning: Conversion of the second argument of issubdtype from `float` to `np.floating` is deprecated. In future, it will be treated as `np.float64 == np.dtype(float).type`.\n",
      "  from ._conv import register_converters as _register_converters\n",
      "Using TensorFlow backend.\n"
     ]
    }
   ],
   "source": [
    "import pandas as pd\n",
    "\n",
    "from keras.layers import *\n",
    "from keras.models import *\n",
    "from keras.optimizers import *\n",
    "\n",
    "from sklearn.metrics import *\n",
    "from sklearn.preprocessing import StandardScaler, LabelEncoder\n",
    "from sklearn.model_selection import train_test_split\n"
   ]
  },
  {
   "cell_type": "markdown",
   "metadata": {
    "slideshow": {
     "slide_type": "slide"
    }
   },
   "source": [
    "**Exercice 1** : Avec les données des prix des maisons, construire un nnet permettant de résoudre le problème de régréssion. Evaluer les performances avec la rmse. Tester plusieurs architectures, que constatez-vous ? Comparer les performances avec un autre modèle."
   ]
  },
  {
   "cell_type": "code",
   "execution_count": 44,
   "metadata": {
    "slideshow": {
     "slide_type": "subslide"
    }
   },
   "outputs": [],
   "source": [
    "train = pd.read_csv('train.csv')\n",
    "test = pd.read_csv('test.csv')"
   ]
  },
  {
   "cell_type": "code",
   "execution_count": 45,
   "metadata": {
    "slideshow": {
     "slide_type": "subslide"
    }
   },
   "outputs": [],
   "source": [
    "y_train = train.SalePrice\n",
    "y_test = test.SalePrice\n",
    "\n",
    "train.drop(['Id','SalePrice'], axis = 1, inplace = True)\n",
    "test.drop(['Id','SalePrice'], axis = 1, inplace = True)"
   ]
  },
  {
   "cell_type": "code",
   "execution_count": 46,
   "metadata": {
    "slideshow": {
     "slide_type": "subslide"
    }
   },
   "outputs": [],
   "source": [
    "for c in train.select_dtypes(object):\n",
    "    \n",
    "    train[c] = train[c].fillna('__NC__')\n",
    "    test[c] = test[c].fillna('__NC__')\n",
    "    \n",
    "    enc = LabelEncoder()\n",
    "    enc.fit(list(train[c])+ list(test[c]))\n",
    "    train[c] = enc.transform(train[c])\n",
    "    test[c] = enc.transform(test[c])\n",
    "\n",
    "train.fillna(-9000, inplace = True)\n",
    "test.fillna(-9000, inplace = True)"
   ]
  },
  {
   "cell_type": "code",
   "execution_count": 47,
   "metadata": {
    "scrolled": true,
    "slideshow": {
     "slide_type": "subslide"
    }
   },
   "outputs": [],
   "source": [
    "ss = StandardScaler()\n",
    "ss.fit(list(train.values)+list(test.values))\n",
    "train = ss.transform(train)\n",
    "test = ss.transform(test)"
   ]
  },
  {
   "cell_type": "code",
   "execution_count": 48,
   "metadata": {
    "slideshow": {
     "slide_type": "subslide"
    }
   },
   "outputs": [],
   "source": [
    "#Je définis la métrique pour être utilisable avec Keras\n",
    "from keras import backend as K\n",
    "def root_mean_squared_error(y_true, y_pred):\n",
    "        return K.sqrt(K.mean(K.square(y_pred - y_true), axis=-1)) "
   ]
  },
  {
   "cell_type": "code",
   "execution_count": 49,
   "metadata": {
    "slideshow": {
     "slide_type": "subslide"
    }
   },
   "outputs": [
    {
     "name": "stdout",
     "output_type": "stream",
     "text": [
      "_________________________________________________________________\n",
      "Layer (type)                 Output Shape              Param #   \n",
      "=================================================================\n",
      "dense_5 (Dense)              (None, 79)                6320      \n",
      "_________________________________________________________________\n",
      "dense_6 (Dense)              (None, 39)                3120      \n",
      "_________________________________________________________________\n",
      "dense_7 (Dense)              (None, 1)                 40        \n",
      "=================================================================\n",
      "Total params: 9,480\n",
      "Trainable params: 9,480\n",
      "Non-trainable params: 0\n",
      "_________________________________________________________________\n"
     ]
    }
   ],
   "source": [
    "model1 = Sequential()\n",
    "model1.add(Dense(train.shape[1], input_shape = (train.shape[1],)))\n",
    "model1.add(Dense(train.shape[1]//2))\n",
    "model1.add(Dense(1))\n",
    "model1.compile(loss = 'mean_squared_error', optimizer = 'adadelta', metrics=[root_mean_squared_error])\n",
    "\n",
    "model1.summary()"
   ]
  },
  {
   "cell_type": "code",
   "execution_count": 50,
   "metadata": {
    "slideshow": {
     "slide_type": "subslide"
    }
   },
   "outputs": [
    {
     "name": "stdout",
     "output_type": "stream",
     "text": [
      "Train on 1022 samples, validate on 438 samples\n",
      "Epoch 1/1000\n",
      "1022/1022 [==============================] - 0s 181us/step - loss: 40346969025.8787 - root_mean_squared_error: 183237.3236 - val_loss: 35987640320.0000 - val_root_mean_squared_error: 175516.8906\n",
      "\n",
      "Epoch 00001: saving model to weights.h5\n",
      "Epoch 2/1000\n",
      "1022/1022 [==============================] - 0s 6us/step - loss: 40346826178.8806 - root_mean_squared_error: 183237.2548 - val_loss: 35987505152.0000 - val_root_mean_squared_error: 175516.8906\n",
      "\n",
      "Epoch 00002: saving model to weights.h5\n",
      "Epoch 3/1000\n",
      "1022/1022 [==============================] - 0s 5us/step - loss: 40346639229.7456 - root_mean_squared_error: 183237.1787 - val_loss: 35987378176.0000 - val_root_mean_squared_error: 175516.8906\n",
      "\n",
      "Epoch 00003: saving model to weights.h5\n",
      "Epoch 4/1000\n",
      "1022/1022 [==============================] - 0s 6us/step - loss: 40346438726.1370 - root_mean_squared_error: 183237.0342 - val_loss: 35987148800.0000 - val_root_mean_squared_error: 175516.9375\n",
      "\n",
      "Epoch 00004: saving model to weights.h5\n",
      "Epoch 5/1000\n",
      "1022/1022 [==============================] - 0s 7us/step - loss: 40346097383.4521 - root_mean_squared_error: 183236.8830 - val_loss: 35986984960.0000 - val_root_mean_squared_error: 175516.9375\n",
      "\n",
      "Epoch 00005: saving model to weights.h5\n",
      "Epoch 6/1000\n",
      "1022/1022 [==============================] - 0s 5us/step - loss: 40345871690.6458 - root_mean_squared_error: 183236.7457 - val_loss: 35986706432.0000 - val_root_mean_squared_error: 175516.9531\n",
      "\n",
      "Epoch 00006: saving model to weights.h5\n",
      "Epoch 7/1000\n",
      "1022/1022 [==============================] - 0s 5us/step - loss: 40345452760.4227 - root_mean_squared_error: 183236.5124 - val_loss: 35986436096.0000 - val_root_mean_squared_error: 175516.9375\n",
      "\n",
      "Epoch 00007: saving model to weights.h5\n",
      "Epoch 8/1000\n",
      "1022/1022 [==============================] - 0s 6us/step - loss: 40345042414.9667 - root_mean_squared_error: 183236.2285 - val_loss: 35985694720.0000 - val_root_mean_squared_error: 175516.9531\n",
      "\n",
      "Epoch 00008: saving model to weights.h5\n",
      "Epoch 9/1000\n",
      "1022/1022 [==============================] - 0s 6us/step - loss: 40343967467.4599 - root_mean_squared_error: 183235.7394 - val_loss: 35984781312.0000 - val_root_mean_squared_error: 175516.9531\n",
      "\n",
      "Epoch 00009: saving model to weights.h5\n",
      "Epoch 10/1000\n",
      "1022/1022 [==============================] - 0s 6us/step - loss: 40342607114.5205 - root_mean_squared_error: 183235.0547 - val_loss: 35983650816.0000 - val_root_mean_squared_error: 175516.8906\n",
      "\n",
      "Epoch 00010: saving model to weights.h5\n",
      "Epoch 11/1000\n",
      "1022/1022 [==============================] - 0s 6us/step - loss: 40340992288.5636 - root_mean_squared_error: 183234.2077 - val_loss: 35982798848.0000 - val_root_mean_squared_error: 175516.7188\n",
      "\n",
      "Epoch 00011: saving model to weights.h5\n",
      "Epoch 12/1000\n",
      "1022/1022 [==============================] - 0s 6us/step - loss: 40339783183.0294 - root_mean_squared_error: 183233.3479 - val_loss: 35980984320.0000 - val_root_mean_squared_error: 175516.5781\n",
      "\n",
      "Epoch 00012: saving model to weights.h5\n",
      "Epoch 13/1000\n",
      "1022/1022 [==============================] - 0s 5us/step - loss: 40337074284.2113 - root_mean_squared_error: 183231.7592 - val_loss: 35977850880.0000 - val_root_mean_squared_error: 175516.2344\n",
      "\n",
      "Epoch 00013: saving model to weights.h5\n",
      "Epoch 14/1000\n",
      "1022/1022 [==============================] - 0s 6us/step - loss: 40332551915.4599 - root_mean_squared_error: 183229.1944 - val_loss: 35974148096.0000 - val_root_mean_squared_error: 175515.8125\n",
      "\n",
      "Epoch 00014: saving model to weights.h5\n",
      "Epoch 15/1000\n",
      "1022/1022 [==============================] - 0s 6us/step - loss: 40327029597.6830 - root_mean_squared_error: 183225.7413 - val_loss: 35968978944.0000 - val_root_mean_squared_error: 175514.7188\n",
      "\n",
      "Epoch 00015: saving model to weights.h5\n",
      "Epoch 16/1000\n",
      "1022/1022 [==============================] - 0s 7us/step - loss: 40319587346.0352 - root_mean_squared_error: 183221.0682 - val_loss: 35962122240.0000 - val_root_mean_squared_error: 175513.2656\n",
      "\n",
      "Epoch 00016: saving model to weights.h5\n",
      "Epoch 17/1000\n",
      "1022/1022 [==============================] - 0s 6us/step - loss: 40309291581.1194 - root_mean_squared_error: 183213.9637 - val_loss: 35947618304.0000 - val_root_mean_squared_error: 175511.0625\n",
      "\n",
      "Epoch 00017: saving model to weights.h5\n",
      "Epoch 18/1000\n",
      "1022/1022 [==============================] - 0s 7us/step - loss: 40287961011.8513 - root_mean_squared_error: 183200.9674 - val_loss: 35938320384.0000 - val_root_mean_squared_error: 175505.5000\n",
      "\n",
      "Epoch 00018: saving model to weights.h5\n",
      "Epoch 19/1000\n",
      "1022/1022 [==============================] - 0s 5us/step - loss: 40274097819.3033 - root_mean_squared_error: 183188.2964 - val_loss: 35901771776.0000 - val_root_mean_squared_error: 175498.7344\n",
      "\n",
      "Epoch 00019: saving model to weights.h5\n",
      "Epoch 20/1000\n",
      "1022/1022 [==============================] - 0s 6us/step - loss: 40220237206.7945 - root_mean_squared_error: 183153.9493 - val_loss: 35854123008.0000 - val_root_mean_squared_error: 175485.2031\n",
      "\n",
      "Epoch 00020: saving model to weights.h5\n",
      "Epoch 21/1000\n",
      "1022/1022 [==============================] - 0s 6us/step - loss: 40149884230.6380 - root_mean_squared_error: 183101.8366 - val_loss: 35760812032.0000 - val_root_mean_squared_error: 175460.0625\n",
      "\n",
      "Epoch 00021: saving model to weights.h5\n",
      "Epoch 22/1000\n",
      "1022/1022 [==============================] - 0s 6us/step - loss: 40009859737.2994 - root_mean_squared_error: 183005.0091 - val_loss: 35609808896.0000 - val_root_mean_squared_error: 175404.6094\n",
      "\n",
      "Epoch 00022: saving model to weights.h5\n",
      "Epoch 23/1000\n",
      "1022/1022 [==============================] - 0s 6us/step - loss: 39787471244.7749 - root_mean_squared_error: 182838.8825 - val_loss: 35359936512.0000 - val_root_mean_squared_error: 175304.2188\n",
      "\n",
      "Epoch 00023: saving model to weights.h5\n",
      "Epoch 24/1000\n",
      "1022/1022 [==============================] - 0s 6us/step - loss: 39427254055.5773 - root_mean_squared_error: 182557.8262 - val_loss: 35086688256.0000 - val_root_mean_squared_error: 175116.0938\n",
      "\n",
      "Epoch 00024: saving model to weights.h5\n",
      "Epoch 25/1000\n",
      "1022/1022 [==============================] - 0s 8us/step - loss: 39033017626.5519 - root_mean_squared_error: 182166.4955 - val_loss: 34262767616.0000 - val_root_mean_squared_error: 174714.2656\n",
      "\n",
      "Epoch 00025: saving model to weights.h5\n",
      "Epoch 26/1000\n",
      "1022/1022 [==============================] - 0s 5us/step - loss: 37835258076.4305 - root_mean_squared_error: 181146.1090 - val_loss: 33185409024.0000 - val_root_mean_squared_error: 173917.7188\n",
      "\n",
      "Epoch 00026: saving model to weights.h5\n",
      "Epoch 27/1000\n",
      "1022/1022 [==============================] - 0s 6us/step - loss: 36234030082.0039 - root_mean_squared_error: 179393.2656 - val_loss: 31522478080.0000 - val_root_mean_squared_error: 172279.2656\n",
      "\n",
      "Epoch 00027: saving model to weights.h5\n",
      "Epoch 28/1000\n",
      "1022/1022 [==============================] - 0s 5us/step - loss: 33714683415.0450 - root_mean_squared_error: 176216.5954 - val_loss: 29807867904.0000 - val_root_mean_squared_error: 169199.5938\n",
      "\n",
      "Epoch 00028: saving model to weights.h5\n",
      "Epoch 29/1000\n",
      "1022/1022 [==============================] - 0s 6us/step - loss: 31012538897.0333 - root_mean_squared_error: 171237.5402 - val_loss: 28423350272.0000 - val_root_mean_squared_error: 163120.7344\n",
      "\n",
      "Epoch 00029: saving model to weights.h5\n",
      "Epoch 30/1000\n",
      "1022/1022 [==============================] - 0s 5us/step - loss: 28381121958.8258 - root_mean_squared_error: 162194.4956 - val_loss: 25920212992.0000 - val_root_mean_squared_error: 156120.2031\n",
      "\n",
      "Epoch 00030: saving model to weights.h5\n",
      "Epoch 31/1000\n",
      "1022/1022 [==============================] - 0s 6us/step - loss: 25836904904.8924 - root_mean_squared_error: 155021.3666 - val_loss: 23795638272.0000 - val_root_mean_squared_error: 150756.7344\n",
      "\n",
      "Epoch 00031: saving model to weights.h5\n",
      "Epoch 32/1000\n",
      "1022/1022 [==============================] - 0s 5us/step - loss: 24307940317.9335 - root_mean_squared_error: 151270.7558 - val_loss: 19733346304.0000 - val_root_mean_squared_error: 134883.3281\n",
      "\n",
      "Epoch 00032: saving model to weights.h5\n",
      "Epoch 33/1000\n",
      "1022/1022 [==============================] - 0s 5us/step - loss: 19398688291.0685 - root_mean_squared_error: 132580.8321 - val_loss: 14907467776.0000 - val_root_mean_squared_error: 117330.6172\n",
      "\n",
      "Epoch 00033: saving model to weights.h5\n",
      "Epoch 34/1000\n",
      "1022/1022 [==============================] - 0s 5us/step - loss: 14925937537.7534 - root_mean_squared_error: 115862.0844 - val_loss: 9326448640.0000 - val_root_mean_squared_error: 88943.3594\n",
      "\n",
      "Epoch 00034: saving model to weights.h5\n",
      "Epoch 35/1000\n",
      "1022/1022 [==============================] - 0s 6us/step - loss: 9491689864.7671 - root_mean_squared_error: 86897.3010 - val_loss: 7696132096.0000 - val_root_mean_squared_error: 77321.0312\n",
      "\n",
      "Epoch 00035: saving model to weights.h5\n",
      "Epoch 36/1000\n",
      "1022/1022 [==============================] - 0s 5us/step - loss: 8092970945.3777 - root_mean_squared_error: 76640.0354 - val_loss: 3451008256.0000 - val_root_mean_squared_error: 47089.1562\n",
      "\n",
      "Epoch 00036: saving model to weights.h5\n",
      "Epoch 37/1000\n",
      "1022/1022 [==============================] - 0s 6us/step - loss: 3512623096.9863 - root_mean_squared_error: 44380.3397 - val_loss: 1989911040.0000 - val_root_mean_squared_error: 32771.7305\n",
      "\n",
      "Epoch 00037: saving model to weights.h5\n",
      "Epoch 38/1000\n",
      "1022/1022 [==============================] - 0s 6us/step - loss: 2242436045.4012 - root_mean_squared_error: 32265.8635 - val_loss: 1421541248.0000 - val_root_mean_squared_error: 27883.3906\n",
      "\n",
      "Epoch 00038: saving model to weights.h5\n",
      "Epoch 39/1000\n",
      "1022/1022 [==============================] - 0s 6us/step - loss: 1794079049.1429 - root_mean_squared_error: 27478.4995 - val_loss: 1430885504.0000 - val_root_mean_squared_error: 29562.8691\n",
      "\n",
      "Epoch 00039: saving model to weights.h5\n",
      "Epoch 40/1000\n",
      "1022/1022 [==============================] - 0s 5us/step - loss: 2140086809.8004 - root_mean_squared_error: 32720.9356 - val_loss: 1463337088.0000 - val_root_mean_squared_error: 30349.4004\n",
      "\n",
      "Epoch 00040: saving model to weights.h5\n",
      "Epoch 41/1000\n",
      "1022/1022 [==============================] - 0s 5us/step - loss: 2218622954.3327 - root_mean_squared_error: 33479.2370 - val_loss: 925889600.0000 - val_root_mean_squared_error: 22442.2793\n",
      "\n",
      "Epoch 00041: saving model to weights.h5\n",
      "Epoch 42/1000\n",
      "1022/1022 [==============================] - 0s 5us/step - loss: 1421192209.4090 - root_mean_squared_error: 24246.3099 - val_loss: 961465024.0000 - val_root_mean_squared_error: 23754.6738\n",
      "\n",
      "Epoch 00042: saving model to weights.h5\n",
      "Epoch 43/1000\n",
      "1022/1022 [==============================] - 0s 6us/step - loss: 1498568155.1781 - root_mean_squared_error: 25608.6194 - val_loss: 1375966976.0000 - val_root_mean_squared_error: 29045.7012\n",
      "\n",
      "Epoch 00043: saving model to weights.h5\n",
      "Epoch 44/1000\n",
      "1022/1022 [==============================] - 0s 6us/step - loss: 2003020269.4638 - root_mean_squared_error: 31944.8984 - val_loss: 892191232.0000 - val_root_mean_squared_error: 21340.9707\n",
      "\n",
      "Epoch 00044: saving model to weights.h5\n",
      "Epoch 45/1000\n",
      "1022/1022 [==============================] - 0s 6us/step - loss: 1297984055.6086 - root_mean_squared_error: 22296.6049 - val_loss: 841782592.0000 - val_root_mean_squared_error: 20953.7930\n",
      "\n",
      "Epoch 00045: saving model to weights.h5\n",
      "Epoch 46/1000\n",
      "1022/1022 [==============================] - 0s 6us/step - loss: 1278464049.7221 - root_mean_squared_error: 22457.9052 - val_loss: 833609664.0000 - val_root_mean_squared_error: 19996.7930\n",
      "\n",
      "Epoch 00046: saving model to weights.h5\n",
      "Epoch 47/1000\n",
      "1022/1022 [==============================] - 0s 6us/step - loss: 1287024638.6223 - root_mean_squared_error: 21277.0035 - val_loss: 917898048.0000 - val_root_mean_squared_error: 23267.4512\n",
      "\n",
      "Epoch 00047: saving model to weights.h5\n",
      "Epoch 48/1000\n",
      "1022/1022 [==============================] - 0s 6us/step - loss: 1485808672.2505 - root_mean_squared_error: 25596.8728 - val_loss: 910789312.0000 - val_root_mean_squared_error: 20738.8730\n",
      "\n",
      "Epoch 00048: saving model to weights.h5\n",
      "Epoch 49/1000\n",
      "1022/1022 [==============================] - 0s 5us/step - loss: 1357292128.8767 - root_mean_squared_error: 21923.9064 - val_loss: 897517632.0000 - val_root_mean_squared_error: 20410.2695\n",
      "\n",
      "Epoch 00049: saving model to weights.h5\n",
      "Epoch 50/1000\n",
      "1022/1022 [==============================] - 0s 5us/step - loss: 1360192089.9256 - root_mean_squared_error: 21976.8233 - val_loss: 832859648.0000 - val_root_mean_squared_error: 22344.0996\n",
      "\n",
      "Epoch 00050: saving model to weights.h5\n",
      "Epoch 51/1000\n",
      "1022/1022 [==============================] - 0s 5us/step - loss: 1551013795.8200 - root_mean_squared_error: 26033.1439 - val_loss: 725840832.0000 - val_root_mean_squared_error: 19304.7480\n",
      "\n",
      "Epoch 00051: saving model to weights.h5\n",
      "Epoch 52/1000\n",
      "1022/1022 [==============================] - 0s 5us/step - loss: 1223940760.7984 - root_mean_squared_error: 20598.7340 - val_loss: 695396480.0000 - val_root_mean_squared_error: 19317.2656\n",
      "\n",
      "Epoch 00052: saving model to weights.h5\n",
      "Epoch 53/1000\n",
      "1022/1022 [==============================] - 0s 5us/step - loss: 1216671576.6106 - root_mean_squared_error: 21123.6781 - val_loss: 830684864.0000 - val_root_mean_squared_error: 19886.7715\n",
      "\n",
      "Epoch 00053: saving model to weights.h5\n",
      "Epoch 54/1000\n",
      "1022/1022 [==============================] - 0s 6us/step - loss: 1279471256.9237 - root_mean_squared_error: 21105.9085 - val_loss: 791326464.0000 - val_root_mean_squared_error: 21377.9824\n",
      "\n",
      "Epoch 00054: saving model to weights.h5\n",
      "Epoch 55/1000\n",
      "1022/1022 [==============================] - 0s 5us/step - loss: 1328587387.2407 - root_mean_squared_error: 23902.8758 - val_loss: 3266874112.0000 - val_root_mean_squared_error: 41078.4062\n",
      "\n",
      "Epoch 00055: saving model to weights.h5\n",
      "Epoch 56/1000\n",
      "1022/1022 [==============================] - 0s 6us/step - loss: 3968503819.0215 - root_mean_squared_error: 41745.9425 - val_loss: 924773760.0000 - val_root_mean_squared_error: 22603.1797\n",
      "\n",
      "Epoch 00056: saving model to weights.h5\n",
      "Epoch 57/1000\n",
      "1022/1022 [==============================] - 0s 6us/step - loss: 1313805452.7750 - root_mean_squared_error: 24309.7623 - val_loss: 853439296.0000 - val_root_mean_squared_error: 19808.3555\n",
      "\n",
      "Epoch 00057: saving model to weights.h5\n",
      "Epoch 58/1000\n",
      "1022/1022 [==============================] - 0s 5us/step - loss: 1242456410.6771 - root_mean_squared_error: 20969.0178 - val_loss: 851969472.0000 - val_root_mean_squared_error: 20166.0020\n",
      "\n",
      "Epoch 00058: saving model to weights.h5\n",
      "Epoch 59/1000\n",
      "1022/1022 [==============================] - 0s 6us/step - loss: 1322972328.3288 - root_mean_squared_error: 21480.6823 - val_loss: 2256580608.0000 - val_root_mean_squared_error: 32176.1621\n",
      "\n",
      "Epoch 00059: saving model to weights.h5\n",
      "Epoch 60/1000\n",
      "1022/1022 [==============================] - 0s 5us/step - loss: 2867501537.4403 - root_mean_squared_error: 33592.7163 - val_loss: 1001251520.0000 - val_root_mean_squared_error: 24441.3789\n",
      "\n",
      "Epoch 00060: saving model to weights.h5\n",
      "Epoch 61/1000\n",
      "1022/1022 [==============================] - 0s 5us/step - loss: 1462449657.7378 - root_mean_squared_error: 26713.8402 - val_loss: 844867712.0000 - val_root_mean_squared_error: 22081.1094\n",
      "\n",
      "Epoch 00061: saving model to weights.h5\n",
      "Epoch 62/1000\n",
      "1022/1022 [==============================] - 0s 6us/step - loss: 1337933762.6301 - root_mean_squared_error: 24696.2186 - val_loss: 881473728.0000 - val_root_mean_squared_error: 23123.4844\n",
      "\n",
      "Epoch 00062: saving model to weights.h5\n",
      "Epoch 63/1000\n",
      "1022/1022 [==============================] - 0s 5us/step - loss: 1458853493.6047 - root_mean_squared_error: 26285.1521 - val_loss: 730631040.0000 - val_root_mean_squared_error: 19269.7207\n",
      "\n",
      "Epoch 00063: saving model to weights.h5\n",
      "Epoch 64/1000\n",
      "1022/1022 [==============================] - 0s 5us/step - loss: 1202629848.2975 - root_mean_squared_error: 21053.5235 - val_loss: 772783616.0000 - val_root_mean_squared_error: 19658.6602\n",
      "\n",
      "Epoch 00064: saving model to weights.h5\n",
      "Epoch 65/1000\n",
      "1022/1022 [==============================] - 0s 6us/step - loss: 1173008580.6341 - root_mean_squared_error: 20893.4424 - val_loss: 799568704.0000 - val_root_mean_squared_error: 21594.3125\n",
      "\n",
      "Epoch 00065: saving model to weights.h5\n",
      "Epoch 66/1000\n",
      "1022/1022 [==============================] - 0s 5us/step - loss: 1348111243.8982 - root_mean_squared_error: 24418.5941 - val_loss: 736854080.0000 - val_root_mean_squared_error: 19755.7461\n",
      "\n",
      "Epoch 00066: saving model to weights.h5\n",
      "Epoch 67/1000\n",
      "1022/1022 [==============================] - 0s 6us/step - loss: 1178803740.3053 - root_mean_squared_error: 21438.2336 - val_loss: 750299008.0000 - val_root_mean_squared_error: 19505.3770\n",
      "\n",
      "Epoch 00067: saving model to weights.h5\n",
      "Epoch 68/1000\n",
      "1022/1022 [==============================] - 0s 5us/step - loss: 1170156618.1448 - root_mean_squared_error: 20894.5184 - val_loss: 2082720000.0000 - val_root_mean_squared_error: 36296.0352\n",
      "\n",
      "Epoch 00068: saving model to weights.h5\n",
      "Epoch 69/1000\n",
      "1022/1022 [==============================] - 0s 5us/step - loss: 2895472345.6751 - root_mean_squared_error: 40587.1116 - val_loss: 801985024.0000 - val_root_mean_squared_error: 21128.2793\n",
      "\n",
      "Epoch 00069: saving model to weights.h5\n",
      "Epoch 70/1000\n",
      "1022/1022 [==============================] - 0s 6us/step - loss: 1246556909.1507 - root_mean_squared_error: 22835.1356 - val_loss: 764969664.0000 - val_root_mean_squared_error: 19200.3965\n",
      "\n",
      "Epoch 00070: saving model to weights.h5\n",
      "Epoch 71/1000\n",
      "1022/1022 [==============================] - 0s 6us/step - loss: 1154287752.3914 - root_mean_squared_error: 20488.7919 - val_loss: 847187712.0000 - val_root_mean_squared_error: 22089.8535\n",
      "\n",
      "Epoch 00071: saving model to weights.h5\n",
      "Epoch 72/1000\n",
      "1022/1022 [==============================] - 0s 6us/step - loss: 1303248897.3777 - root_mean_squared_error: 24080.1516 - val_loss: 773104448.0000 - val_root_mean_squared_error: 21059.1055\n",
      "\n",
      "Epoch 00072: saving model to weights.h5\n",
      "Epoch 73/1000\n",
      "1022/1022 [==============================] - 0s 5us/step - loss: 1273414495.9374 - root_mean_squared_error: 23291.0955 - val_loss: 813336768.0000 - val_root_mean_squared_error: 19557.2695\n",
      "\n",
      "Epoch 00073: saving model to weights.h5\n",
      "Epoch 74/1000\n",
      "1022/1022 [==============================] - 0s 6us/step - loss: 1205144324.0078 - root_mean_squared_error: 20764.4148 - val_loss: 2346797056.0000 - val_root_mean_squared_error: 38564.1289\n",
      "\n",
      "Epoch 00074: saving model to weights.h5\n",
      "Epoch 75/1000\n",
      "1022/1022 [==============================] - 0s 5us/step - loss: 3231433410.5049 - root_mean_squared_error: 43248.4775 - val_loss: 905241984.0000 - val_root_mean_squared_error: 21310.4434\n",
      "\n",
      "Epoch 00075: saving model to weights.h5\n",
      "Epoch 76/1000\n",
      "1022/1022 [==============================] - 0s 5us/step - loss: 1231105270.9824 - root_mean_squared_error: 21722.5945 - val_loss: 796232000.0000 - val_root_mean_squared_error: 20443.6582\n",
      "\n",
      "Epoch 00076: saving model to weights.h5\n",
      "Epoch 77/1000\n",
      "1022/1022 [==============================] - 0s 7us/step - loss: 1176596241.2838 - root_mean_squared_error: 21083.6220 - val_loss: 742293888.0000 - val_root_mean_squared_error: 20506.4160\n",
      "\n",
      "Epoch 00077: saving model to weights.h5\n",
      "Epoch 78/1000\n",
      "1022/1022 [==============================] - 0s 6us/step - loss: 1214431840.5010 - root_mean_squared_error: 22051.3120 - val_loss: 918299392.0000 - val_root_mean_squared_error: 20958.4004\n",
      "\n",
      "Epoch 00078: saving model to weights.h5\n",
      "Epoch 79/1000\n",
      "1022/1022 [==============================] - 0s 5us/step - loss: 1262193323.0841 - root_mean_squared_error: 21537.8849 - val_loss: 948462272.0000 - val_root_mean_squared_error: 21267.6035\n",
      "\n",
      "Epoch 00079: saving model to weights.h5\n",
      "Epoch 80/1000\n",
      "1022/1022 [==============================] - 0s 7us/step - loss: 1263177377.6282 - root_mean_squared_error: 21532.5796 - val_loss: 766880320.0000 - val_root_mean_squared_error: 19656.1133\n",
      "\n",
      "Epoch 00080: saving model to weights.h5\n",
      "Epoch 81/1000\n",
      "1022/1022 [==============================] - 0s 6us/step - loss: 1175033728.2505 - root_mean_squared_error: 20696.3550 - val_loss: 829770944.0000 - val_root_mean_squared_error: 21677.4590\n",
      "\n",
      "Epoch 00081: saving model to weights.h5\n",
      "Epoch 82/1000\n",
      "1022/1022 [==============================] - 0s 6us/step - loss: 1271788087.6086 - root_mean_squared_error: 22795.3324 - val_loss: 970404032.0000 - val_root_mean_squared_error: 24071.7324\n",
      "\n",
      "Epoch 00082: saving model to weights.h5\n",
      "Epoch 83/1000\n",
      "1022/1022 [==============================] - 0s 6us/step - loss: 1469336765.6204 - root_mean_squared_error: 25668.7699 - val_loss: 767409216.0000 - val_root_mean_squared_error: 20594.6934\n",
      "\n",
      "Epoch 00083: saving model to weights.h5\n",
      "Epoch 84/1000\n",
      "1022/1022 [==============================] - 0s 6us/step - loss: 1212752879.7182 - root_mean_squared_error: 21692.5959 - val_loss: 843895168.0000 - val_root_mean_squared_error: 20557.7656\n",
      "\n",
      "Epoch 00084: saving model to weights.h5\n",
      "Epoch 85/1000\n",
      "1022/1022 [==============================] - 0s 7us/step - loss: 1207288278.5440 - root_mean_squared_error: 20846.1367 - val_loss: 853765248.0000 - val_root_mean_squared_error: 22147.7109\n",
      "\n",
      "Epoch 00085: saving model to weights.h5\n",
      "Epoch 86/1000\n",
      "1022/1022 [==============================] - 0s 6us/step - loss: 1343351021.9648 - root_mean_squared_error: 23786.0284 - val_loss: 734559744.0000 - val_root_mean_squared_error: 19371.1836\n",
      "\n",
      "Epoch 00086: saving model to weights.h5\n",
      "Epoch 87/1000\n",
      "1022/1022 [==============================] - 0s 6us/step - loss: 1139929159.2642 - root_mean_squared_error: 20323.6708 - val_loss: 906352832.0000 - val_root_mean_squared_error: 21153.5586\n",
      "\n",
      "Epoch 00087: saving model to weights.h5\n",
      "Epoch 88/1000\n",
      "1022/1022 [==============================] - 0s 6us/step - loss: 1223838330.4266 - root_mean_squared_error: 20991.0799 - val_loss: 749063104.0000 - val_root_mean_squared_error: 20329.5664\n",
      "\n",
      "Epoch 00088: saving model to weights.h5\n",
      "Epoch 89/1000\n",
      "1022/1022 [==============================] - 0s 6us/step - loss: 1187676645.4481 - root_mean_squared_error: 21448.5519 - val_loss: 781712576.0000 - val_root_mean_squared_error: 19778.9629\n",
      "\n",
      "Epoch 00089: saving model to weights.h5\n",
      "Epoch 90/1000\n",
      "1022/1022 [==============================] - 0s 7us/step - loss: 1152624511.7495 - root_mean_squared_error: 20608.9181 - val_loss: 1442702720.0000 - val_root_mean_squared_error: 29571.7246\n",
      "\n",
      "Epoch 00090: saving model to weights.h5\n",
      "Epoch 91/1000\n",
      "1022/1022 [==============================] - 0s 5us/step - loss: 2173435221.1663 - root_mean_squared_error: 33546.4350 - val_loss: 1181518208.0000 - val_root_mean_squared_error: 25753.4219\n",
      "\n",
      "Epoch 00091: saving model to weights.h5\n",
      "Epoch 92/1000\n",
      "1022/1022 [==============================] - 0s 6us/step - loss: 1674426553.6125 - root_mean_squared_error: 27667.8551 - val_loss: 906203520.0000 - val_root_mean_squared_error: 22277.0176\n",
      "\n",
      "Epoch 00092: saving model to weights.h5\n",
      "Epoch 93/1000\n",
      "1022/1022 [==============================] - 0s 5us/step - loss: 1324762006.6067 - root_mean_squared_error: 23480.7238 - val_loss: 752856448.0000 - val_root_mean_squared_error: 20215.4766\n",
      "\n",
      "Epoch 00093: saving model to weights.h5\n",
      "Epoch 94/1000\n",
      "1022/1022 [==============================] - 0s 6us/step - loss: 1182341706.3327 - root_mean_squared_error: 21588.2151 - val_loss: 778393344.0000 - val_root_mean_squared_error: 19842.1504\n",
      "\n",
      "Epoch 00094: saving model to weights.h5\n",
      "Epoch 95/1000\n",
      "1022/1022 [==============================] - 0s 6us/step - loss: 1153661335.5460 - root_mean_squared_error: 20832.3999 - val_loss: 849270656.0000 - val_root_mean_squared_error: 20193.2969\n",
      "\n",
      "Epoch 00095: saving model to weights.h5\n",
      "Epoch 96/1000\n",
      "1022/1022 [==============================] - 0s 5us/step - loss: 1226852290.0665 - root_mean_squared_error: 21029.6943 - val_loss: 736334464.0000 - val_root_mean_squared_error: 18940.1660\n",
      "\n",
      "Epoch 00096: saving model to weights.h5\n",
      "Epoch 97/1000\n",
      "1022/1022 [==============================] - 0s 5us/step - loss: 1159916682.7710 - root_mean_squared_error: 20143.6351 - val_loss: 1868439040.0000 - val_root_mean_squared_error: 29699.7598\n",
      "\n",
      "Epoch 00097: saving model to weights.h5\n",
      "Epoch 98/1000\n",
      "1022/1022 [==============================] - 0s 7us/step - loss: 2283270522.9902 - root_mean_squared_error: 30242.8977 - val_loss: 1099420288.0000 - val_root_mean_squared_error: 21674.9824\n",
      "\n",
      "Epoch 00098: saving model to weights.h5\n",
      "Epoch 99/1000\n",
      "1022/1022 [==============================] - 0s 6us/step - loss: 1451599146.2074 - root_mean_squared_error: 22623.9646 - val_loss: 759387008.0000 - val_root_mean_squared_error: 19384.2129\n",
      "\n",
      "Epoch 00099: saving model to weights.h5\n",
      "Epoch 100/1000\n",
      "1022/1022 [==============================] - 0s 6us/step - loss: 1159787643.8669 - root_mean_squared_error: 20593.2027 - val_loss: 801437184.0000 - val_root_mean_squared_error: 19370.4453\n",
      "\n",
      "Epoch 00100: saving model to weights.h5\n",
      "Epoch 101/1000\n",
      "1022/1022 [==============================] - 0s 5us/step - loss: 1141655455.9374 - root_mean_squared_error: 20169.1263 - val_loss: 761816256.0000 - val_root_mean_squared_error: 19418.3125\n",
      "\n",
      "Epoch 00101: saving model to weights.h5\n",
      "Epoch 102/1000\n",
      "1022/1022 [==============================] - 0s 5us/step - loss: 1114423144.5793 - root_mean_squared_error: 20296.3983 - val_loss: 766498880.0000 - val_root_mean_squared_error: 19360.7734\n",
      "\n",
      "Epoch 00102: saving model to weights.h5\n",
      "Restoring model weights from the end of the best epoch\n",
      "\n",
      "Epoch 00102: ReduceLROnPlateau reducing learning rate to 0.01.\n",
      "Epoch 00102: early stopping\n"
     ]
    }
   ],
   "source": [
    "from keras.callbacks import *\n",
    "\n",
    "EPOCHS = 1000\n",
    "BS = 1000\n",
    "\n",
    "checkpoint  = ModelCheckpoint('weights.h5', monitor='val_loss', verbose=1, save_best_only=False, save_weights_only=False, mode='auto', period=1)\n",
    "earlystop = EarlyStopping(monitor='val_loss', min_delta=0, patience=50, verbose=1, mode='auto', baseline=None, restore_best_weights=True)\n",
    "reduce_lr = ReduceLROnPlateau(monitor='val_loss', factor=0.01, patience=50, verbose=1, mode='auto', min_delta=0.0001, cooldown=0, min_lr=0)\n",
    "\n",
    "\n",
    "history = model1.fit(train,y_train, validation_data=(test,y_test), batch_size = BS, epochs = EPOCHS, callbacks=[checkpoint, earlystop, reduce_lr])"
   ]
  },
  {
   "cell_type": "code",
   "execution_count": 51,
   "metadata": {
    "scrolled": true,
    "slideshow": {
     "slide_type": "subslide"
    }
   },
   "outputs": [
    {
     "data": {
      "text/plain": [
       "Text(0, 0.5, 'metric')"
      ]
     },
     "execution_count": 51,
     "metadata": {},
     "output_type": "execute_result"
    },
    {
     "data": {
      "image/png": "[encoded data removed]",
      "text/plain": [
       "<Figure size 1080x432 with 2 Axes>"
      ]
     },
     "metadata": {},
     "output_type": "display_data"
    }
   ],
   "source": [
    "plt.figure(figsize=(15,6))\n",
    "plt.subplot(121)\n",
    "plt.plot(range(len(history.epoch)),history.history['loss'])\n",
    "plt.xlabel('epoch')\n",
    "plt.ylabel('loss')\n",
    "plt.subplot(122)\n",
    "plt.plot(range(len(history.epoch)),history.history['root_mean_squared_error'])\n",
    "plt.xlabel('epoch')\n",
    "plt.ylabel('metric')\n"
   ]
  },
  {
   "cell_type": "code",
   "execution_count": 52,
   "metadata": {
    "slideshow": {
     "slide_type": "subslide"
    }
   },
   "outputs": [
    {
     "name": "stdout",
     "output_type": "stream",
     "text": [
      "NNet1 performance : 26370.373165003526\n"
     ]
    }
   ],
   "source": [
    "print('NNet1 performance : {}'.format(np.sqrt(mean_squared_error(y_test, model1.predict(test)))))\n"
   ]
  },
  {
   "cell_type": "code",
   "execution_count": 53,
   "metadata": {
    "slideshow": {
     "slide_type": "subslide"
    }
   },
   "outputs": [
    {
     "name": "stdout",
     "output_type": "stream",
     "text": [
      "Training until validation scores don't improve for 20 rounds.\n",
      "[20]\tvalid_0's rmse: 27885.2\n",
      "[40]\tvalid_0's rmse: 23385\n",
      "[60]\tvalid_0's rmse: 23415.9\n",
      "Early stopping, best iteration is:\n",
      "[58]\tvalid_0's rmse: 23339.3\n"
     ]
    },
    {
     "data": {
      "text/plain": [
       "LGBMRegressor(boosting_type='gbdt', class_weight=None, colsample_bytree=1.0,\n",
       "       importance_type='split', learning_rate=0.1, max_depth=-1,\n",
       "       metric='rmse', min_child_samples=20, min_child_weight=0.001,\n",
       "       min_split_gain=0.0, n_estimators=1000, n_jobs=-1, num_leaves=31,\n",
       "       objective=None, random_state=None, reg_alpha=0.0, reg_lambda=0.0,\n",
       "       silent=True, subsample=1.0, subsample_for_bin=200000,\n",
       "       subsample_freq=0)"
      ]
     },
     "execution_count": 53,
     "metadata": {},
     "output_type": "execute_result"
    }
   ],
   "source": [
    "from lightgbm import LGBMRegressor\n",
    "model2 = LGBMRegressor(metric = 'rmse', n_estimators=1000)\n",
    "model2.fit(train,y_train, eval_set = [(test,y_test)], early_stopping_rounds=20, verbose=20)"
   ]
  },
  {
   "cell_type": "markdown",
   "metadata": {
    "slideshow": {
     "slide_type": "slide"
    }
   },
   "source": [
    "**Exercice 2** : A partir des données du cours prédécédent, construire un RNN permettant de résoudre le problème de classification. N'oubliez pas de séparer vos données en train et test pour évaluer vos performances. Essayez de construire deux modèles ayant soit un FE différent soit une architecture différente. Affichez la métrique et la loss. "
   ]
  },
  {
   "cell_type": "code",
   "execution_count": 54,
   "metadata": {
    "scrolled": true,
    "slideshow": {
     "slide_type": "subslide"
    }
   },
   "outputs": [
    {
     "data": {
      "text/html": [
       "<div>\n",
       "<style scoped>\n",
       "    .dataframe tbody tr th:only-of-type {\n",
       "        vertical-align: middle;\n",
       "    }\n",
       "\n",
       "    .dataframe tbody tr th {\n",
       "        vertical-align: top;\n",
       "    }\n",
       "\n",
       "    .dataframe thead th {\n",
       "        text-align: right;\n",
       "    }\n",
       "</style>\n",
       "<table border=\"1\" class=\"dataframe\">\n",
       "  <thead>\n",
       "    <tr style=\"text-align: right;\">\n",
       "      <th></th>\n",
       "      <th>id</th>\n",
       "      <th>text</th>\n",
       "      <th>author</th>\n",
       "    </tr>\n",
       "  </thead>\n",
       "  <tbody>\n",
       "    <tr>\n",
       "      <th>0</th>\n",
       "      <td>id26305</td>\n",
       "      <td>This process, however, afforded me no means of...</td>\n",
       "      <td>EAP</td>\n",
       "    </tr>\n",
       "    <tr>\n",
       "      <th>1</th>\n",
       "      <td>id17569</td>\n",
       "      <td>It never once occurred to me that the fumbling...</td>\n",
       "      <td>HPL</td>\n",
       "    </tr>\n",
       "    <tr>\n",
       "      <th>2</th>\n",
       "      <td>id11008</td>\n",
       "      <td>In his left hand was a gold snuff box, from wh...</td>\n",
       "      <td>EAP</td>\n",
       "    </tr>\n",
       "    <tr>\n",
       "      <th>3</th>\n",
       "      <td>id27763</td>\n",
       "      <td>How lovely is spring As we looked from Windsor...</td>\n",
       "      <td>MWS</td>\n",
       "    </tr>\n",
       "    <tr>\n",
       "      <th>4</th>\n",
       "      <td>id12958</td>\n",
       "      <td>Finding nothing else, not even gold, the Super...</td>\n",
       "      <td>HPL</td>\n",
       "    </tr>\n",
       "  </tbody>\n",
       "</table>\n",
       "</div>"
      ],
      "text/plain": [
       "        id                                               text author\n",
       "0  id26305  This process, however, afforded me no means of...    EAP\n",
       "1  id17569  It never once occurred to me that the fumbling...    HPL\n",
       "2  id11008  In his left hand was a gold snuff box, from wh...    EAP\n",
       "3  id27763  How lovely is spring As we looked from Windsor...    MWS\n",
       "4  id12958  Finding nothing else, not even gold, the Super...    HPL"
      ]
     },
     "execution_count": 54,
     "metadata": {},
     "output_type": "execute_result"
    }
   ],
   "source": [
    "data = pd.read_csv('data.csv')\n",
    "data.head()"
   ]
  },
  {
   "cell_type": "code",
   "execution_count": 55,
   "metadata": {
    "slideshow": {
     "slide_type": "subslide"
    }
   },
   "outputs": [],
   "source": [
    "X = data.text; y = data.author\n",
    "\n",
    "#Ne pas oublié de transformer les targets\n",
    "encoder = LabelEncoder()\n",
    "y = encoder.fit_transform(y)\n",
    "\n",
    "X_tr,X_va,y_tr,y_va = train_test_split(X.values,y, test_size = 0.2, random_state = 42)"
   ]
  },
  {
   "cell_type": "code",
   "execution_count": 56,
   "metadata": {
    "slideshow": {
     "slide_type": "subslide"
    }
   },
   "outputs": [
    {
     "name": "stdout",
     "output_type": "stream",
     "text": [
      "[[1. 0. 0.]\n",
      " [0. 0. 1.]\n",
      " [0. 0. 1.]\n",
      " ...\n",
      " [1. 0. 0.]\n",
      " [0. 0. 1.]\n",
      " [1. 0. 0.]]\n"
     ]
    }
   ],
   "source": [
    "# Particularité des problèmes de multiclasses et des nnet, on veut des target binarisées \n",
    "\n",
    "from keras.utils import to_categorical\n",
    "y_tr = to_categorical(y_tr)\n",
    "y_va = to_categorical(y_va)\n",
    "print(y_tr)"
   ]
  },
  {
   "cell_type": "markdown",
   "metadata": {
    "slideshow": {
     "slide_type": "subslide"
    }
   },
   "source": [
    "### Premier modèle : CountVectorizer"
   ]
  },
  {
   "cell_type": "code",
   "execution_count": 57,
   "metadata": {
    "slideshow": {
     "slide_type": "subslide"
    }
   },
   "outputs": [
    {
     "data": {
      "text/plain": [
       "CountVectorizer(analyzer='word', binary=False, decode_error='strict',\n",
       "        dtype=<class 'numpy.int64'>, encoding='utf-8', input='content',\n",
       "        lowercase=True, max_df=1.0, max_features=2000, min_df=3,\n",
       "        ngram_range=(1, 3), preprocessor=None, stop_words='english',\n",
       "        strip_accents=None, token_pattern='(?u)\\\\b\\\\w\\\\w+\\\\b',\n",
       "        tokenizer=None, vocabulary=None)"
      ]
     },
     "execution_count": 57,
     "metadata": {},
     "output_type": "execute_result"
    }
   ],
   "source": [
    "from sklearn.feature_extraction.text import CountVectorizer\n",
    "cv = CountVectorizer(min_df = 3, max_features = 2000, stop_words = 'english', ngram_range = (1,3))\n",
    "cv.fit(list(X_tr)+list(X_va))"
   ]
  },
  {
   "cell_type": "code",
   "execution_count": 58,
   "metadata": {
    "slideshow": {
     "slide_type": "subslide"
    }
   },
   "outputs": [],
   "source": [
    "train_bag = cv.transform(X_tr)\n",
    "val_bag = cv.transform(X_va)"
   ]
  },
  {
   "cell_type": "code",
   "execution_count": 59,
   "metadata": {
    "slideshow": {
     "slide_type": "subslide"
    }
   },
   "outputs": [],
   "source": [
    "model = Sequential()\n",
    "model.add(Dense(256, input_shape = (train_bag.shape[1],)))\n",
    "model.add(Dense(128, activation = 'relu'))\n",
    "model.add(Dense(3, activation='softmax')) #On veut les probas des trois classes en sortie\n",
    "model.compile(optimizer = 'adam', metrics = ['accuracy'], loss = 'categorical_crossentropy')"
   ]
  },
  {
   "cell_type": "code",
   "execution_count": 60,
   "metadata": {
    "scrolled": true,
    "slideshow": {
     "slide_type": "subslide"
    }
   },
   "outputs": [
    {
     "name": "stdout",
     "output_type": "stream",
     "text": [
      "Train on 15663 samples, validate on 3916 samples\n",
      "Epoch 1/100\n",
      "15663/15663 [==============================] - 0s 24us/step - loss: 0.9952 - acc: 0.5569 - val_loss: 0.8211 - val_acc: 0.6908\n",
      "\n",
      "Epoch 00001: val_acc improved from -inf to 0.69076, saving model to weights.h5\n",
      "Epoch 2/100\n",
      "15663/15663 [==============================] - 0s 10us/step - loss: 0.6471 - acc: 0.7536 - val_loss: 0.6323 - val_acc: 0.7413\n",
      "\n",
      "Epoch 00002: val_acc improved from 0.69076 to 0.74132, saving model to weights.h5\n",
      "Epoch 3/100\n",
      "15663/15663 [==============================] - 0s 11us/step - loss: 0.5009 - acc: 0.7921 - val_loss: 0.6601 - val_acc: 0.7308\n",
      "\n",
      "Epoch 00003: val_acc did not improve from 0.74132\n",
      "Epoch 4/100\n",
      "15663/15663 [==============================] - 0s 11us/step - loss: 0.4494 - acc: 0.8150 - val_loss: 0.6790 - val_acc: 0.7240\n",
      "\n",
      "Epoch 00004: val_acc did not improve from 0.74132\n",
      "Epoch 5/100\n",
      "15663/15663 [==============================] - 0s 11us/step - loss: 0.4243 - acc: 0.8266 - val_loss: 0.7015 - val_acc: 0.7199\n",
      "\n",
      "Epoch 00005: val_acc did not improve from 0.74132\n",
      "Epoch 6/100\n",
      "15663/15663 [==============================] - 0s 10us/step - loss: 0.4084 - acc: 0.8355 - val_loss: 0.7290 - val_acc: 0.7181\n",
      "\n",
      "Epoch 00006: val_acc did not improve from 0.74132\n",
      "Epoch 7/100\n",
      "15663/15663 [==============================] - 0s 11us/step - loss: 0.3979 - acc: 0.8393 - val_loss: 0.7563 - val_acc: 0.7135\n",
      "\n",
      "Epoch 00007: val_acc did not improve from 0.74132\n",
      "Epoch 8/100\n",
      "15663/15663 [==============================] - 0s 10us/step - loss: 0.3879 - acc: 0.8454 - val_loss: 0.7671 - val_acc: 0.7158\n",
      "\n",
      "Epoch 00008: val_acc did not improve from 0.74132\n",
      "Epoch 9/100\n",
      "15663/15663 [==============================] - 0s 10us/step - loss: 0.3794 - acc: 0.8479 - val_loss: 0.7952 - val_acc: 0.7094\n",
      "\n",
      "Epoch 00009: val_acc did not improve from 0.74132\n",
      "Epoch 10/100\n",
      "15663/15663 [==============================] - 0s 10us/step - loss: 0.3706 - acc: 0.8498 - val_loss: 0.8057 - val_acc: 0.7102\n",
      "\n",
      "Epoch 00010: val_acc did not improve from 0.74132\n",
      "Epoch 11/100\n",
      "15663/15663 [==============================] - 0s 10us/step - loss: 0.3605 - acc: 0.8533 - val_loss: 0.8194 - val_acc: 0.7112\n",
      "\n",
      "Epoch 00011: val_acc did not improve from 0.74132\n",
      "Epoch 12/100\n",
      "15663/15663 [==============================] - 0s 10us/step - loss: 0.3490 - acc: 0.8591 - val_loss: 0.8395 - val_acc: 0.7081\n",
      "\n",
      "Epoch 00012: val_acc did not improve from 0.74132\n",
      "Epoch 13/100\n",
      "15663/15663 [==============================] - 0s 11us/step - loss: 0.3376 - acc: 0.8633 - val_loss: 0.8535 - val_acc: 0.7137\n",
      "\n",
      "Epoch 00013: val_acc did not improve from 0.74132\n",
      "Epoch 14/100\n",
      "15663/15663 [==============================] - 0s 10us/step - loss: 0.3255 - acc: 0.8676 - val_loss: 0.8871 - val_acc: 0.7025\n",
      "\n",
      "Epoch 00014: val_acc did not improve from 0.74132\n",
      "Epoch 15/100\n",
      "15663/15663 [==============================] - 0s 10us/step - loss: 0.3119 - acc: 0.8710 - val_loss: 0.9165 - val_acc: 0.7058\n",
      "\n",
      "Epoch 00015: val_acc did not improve from 0.74132\n",
      "Epoch 16/100\n",
      "15663/15663 [==============================] - 0s 10us/step - loss: 0.2963 - acc: 0.8796 - val_loss: 0.9506 - val_acc: 0.7068\n",
      "\n",
      "Epoch 00016: val_acc did not improve from 0.74132\n",
      "Epoch 17/100\n",
      "15663/15663 [==============================] - 0s 10us/step - loss: 0.2822 - acc: 0.8837 - val_loss: 0.9942 - val_acc: 0.7038\n",
      "\n",
      "Epoch 00017: val_acc did not improve from 0.74132\n",
      "Restoring model weights from the end of the best epoch\n",
      "\n",
      "Epoch 00017: ReduceLROnPlateau reducing learning rate to 1.0000000474974514e-05.\n",
      "Epoch 00017: early stopping\n"
     ]
    }
   ],
   "source": [
    "\n",
    "checkpoint  = ModelCheckpoint('weights.h5', monitor='val_acc', verbose=1, save_best_only=True)\n",
    "earlystop = EarlyStopping(monitor='val_acc', min_delta=0, patience=15, verbose=1, mode='auto', baseline=None, restore_best_weights=True)\n",
    "reduce_lr = ReduceLROnPlateau(monitor='val_acc', factor=0.01, patience=15, verbose=1, mode='auto', min_delta=0.00001, cooldown=0, min_lr=0)\n",
    "\n",
    "BS = 1000\n",
    "EPOCHS = 100\n",
    "history = model.fit(train_bag,y_tr , validation_data = (val_bag, y_va), batch_size = BS, epochs = EPOCHS, callbacks=[checkpoint,earlystop, reduce_lr])"
   ]
  },
  {
   "cell_type": "code",
   "execution_count": 62,
   "metadata": {
    "slideshow": {
     "slide_type": "subslide"
    }
   },
   "outputs": [
    {
     "data": {
      "text/plain": [
       "Text(0, 0.5, 'metric')"
      ]
     },
     "execution_count": 62,
     "metadata": {},
     "output_type": "execute_result"
    },
    {
     "data": {
      "image/png": "[encoded data removed]",
      "text/plain": [
       "<Figure size 1080x432 with 2 Axes>"
      ]
     },
     "metadata": {},
     "output_type": "display_data"
    }
   ],
   "source": [
    "plt.figure(figsize=(15,6))\n",
    "plt.subplot(121)\n",
    "plt.plot(range(len(history.epoch)),history.history['loss'])\n",
    "plt.xlabel('epoch')\n",
    "plt.ylabel('loss')\n",
    "\n",
    "plt.subplot(122)\n",
    "plt.plot(range(len(history.epoch)),history.history['acc'])\n",
    "plt.xlabel('epoch')\n",
    "plt.ylabel('metric')\n"
   ]
  },
  {
   "cell_type": "markdown",
   "metadata": {
    "slideshow": {
     "slide_type": "subslide"
    }
   },
   "source": [
    "### Second modèle : LSTM"
   ]
  },
  {
   "cell_type": "code",
   "execution_count": 63,
   "metadata": {
    "scrolled": true,
    "slideshow": {
     "slide_type": "subslide"
    }
   },
   "outputs": [
    {
     "name": "stdout",
     "output_type": "stream",
     "text": [
      "[13, 85, 31, 1198, 2, 54, 2945, 7, 26, 560]\n"
     ]
    }
   ],
   "source": [
    "#On tokenize\n",
    "from keras.preprocessing.text import Tokenizer\n",
    "tokenizer = Tokenizer(filters='!\"#$%&()*+,-./:;<=>?@[\\\\]^_`{|}~\\t\\n', lower=True)\n",
    "tokenizer.fit_on_texts(list(X_tr)+list(X_va))\n",
    "\n",
    "X_tr = tokenizer.texts_to_sequences(X_tr)\n",
    "X_va = tokenizer.texts_to_sequences(X_va)\n",
    "print(X_tr[0])"
   ]
  },
  {
   "cell_type": "code",
   "execution_count": 64,
   "metadata": {
    "slideshow": {
     "slide_type": "subslide"
    }
   },
   "outputs": [],
   "source": [
    "from keras.preprocessing.sequence import pad_sequences\n",
    "max_len = 70\n",
    "X_tr = pad_sequences(X_tr, maxlen = max_len)\n",
    "X_va = pad_sequences(X_va, maxlen = max_len)\n"
   ]
  },
  {
   "cell_type": "code",
   "execution_count": 65,
   "metadata": {
    "slideshow": {
     "slide_type": "subslide"
    }
   },
   "outputs": [],
   "source": [
    "model = Sequential()\n",
    "model.add(Embedding(len(tokenizer.word_index) + 1,\n",
    "                     300,\n",
    "                     input_length=max_len,\n",
    "                     trainable=False))\n",
    "model.add(LSTM(128, return_sequences=True))\n",
    "model.add(Dropout(0.2))\n",
    "model.add(LSTM(64))\n",
    "model.add(Dropout(0.2))\n",
    "model.add(Dense(128, activation='relu'))\n",
    "model.add(Dropout(0.2))\n",
    "model.add(Dense(64, activation='relu'))\n",
    "model.add(Dense(3))\n",
    "model.add(Activation('softmax'))\n",
    "model.compile(loss='categorical_crossentropy', optimizer='adam', metrics = ['accuracy'])"
   ]
  },
  {
   "cell_type": "code",
   "execution_count": 66,
   "metadata": {
    "scrolled": true,
    "slideshow": {
     "slide_type": "subslide"
    }
   },
   "outputs": [
    {
     "name": "stdout",
     "output_type": "stream",
     "text": [
      "Train on 15663 samples, validate on 3916 samples\n",
      "Epoch 1/100\n",
      "15663/15663 [==============================] - 5s 317us/step - loss: 1.0849 - acc: 0.3999 - val_loss: 1.0771 - val_acc: 0.4009\n",
      "\n",
      "Epoch 00001: val_acc improved from -inf to 0.40092, saving model to weights.h5\n",
      "Epoch 2/100\n",
      "15663/15663 [==============================] - 4s 248us/step - loss: 1.0661 - acc: 0.4144 - val_loss: 1.0538 - val_acc: 0.4714\n",
      "\n",
      "Epoch 00002: val_acc improved from 0.40092 to 0.47140, saving model to weights.h5\n",
      "Epoch 3/100\n",
      "15663/15663 [==============================] - 4s 248us/step - loss: 1.0320 - acc: 0.4859 - val_loss: 0.9901 - val_acc: 0.5225\n",
      "\n",
      "Epoch 00003: val_acc improved from 0.47140 to 0.52247, saving model to weights.h5\n",
      "Epoch 4/100\n",
      "15663/15663 [==============================] - 4s 245us/step - loss: 0.9623 - acc: 0.5403 - val_loss: 0.9499 - val_acc: 0.5401\n",
      "\n",
      "Epoch 00004: val_acc improved from 0.52247 to 0.54009, saving model to weights.h5\n",
      "Epoch 5/100\n",
      "15663/15663 [==============================] - 4s 244us/step - loss: 0.9178 - acc: 0.5731 - val_loss: 0.9010 - val_acc: 0.5861\n",
      "\n",
      "Epoch 00005: val_acc improved from 0.54009 to 0.58606, saving model to weights.h5\n",
      "Epoch 6/100\n",
      "15663/15663 [==============================] - 4s 245us/step - loss: 0.8915 - acc: 0.5912 - val_loss: 0.8857 - val_acc: 0.5945\n",
      "\n",
      "Epoch 00006: val_acc improved from 0.58606 to 0.59448, saving model to weights.h5\n",
      "Epoch 7/100\n",
      "15663/15663 [==============================] - 4s 249us/step - loss: 0.8811 - acc: 0.5975 - val_loss: 0.8776 - val_acc: 0.6039\n",
      "\n",
      "Epoch 00007: val_acc improved from 0.59448 to 0.60393, saving model to weights.h5\n",
      "Epoch 8/100\n",
      "15663/15663 [==============================] - 4s 244us/step - loss: 0.8618 - acc: 0.6144 - val_loss: 0.8647 - val_acc: 0.6057\n",
      "\n",
      "Epoch 00008: val_acc improved from 0.60393 to 0.60572, saving model to weights.h5\n",
      "Epoch 9/100\n",
      "15663/15663 [==============================] - 4s 245us/step - loss: 0.8520 - acc: 0.6157 - val_loss: 0.8696 - val_acc: 0.5975\n",
      "\n",
      "Epoch 00009: val_acc did not improve from 0.60572\n",
      "Epoch 10/100\n",
      "15663/15663 [==============================] - 4s 243us/step - loss: 0.8441 - acc: 0.6219 - val_loss: 0.8721 - val_acc: 0.6016\n",
      "\n",
      "Epoch 00010: val_acc did not improve from 0.60572\n",
      "Epoch 11/100\n",
      "15663/15663 [==============================] - 4s 240us/step - loss: 0.8306 - acc: 0.6277 - val_loss: 0.8511 - val_acc: 0.6172\n",
      "\n",
      "Epoch 00011: val_acc improved from 0.60572 to 0.61721, saving model to weights.h5\n",
      "Epoch 12/100\n",
      "15663/15663 [==============================] - 4s 240us/step - loss: 0.8217 - acc: 0.6336 - val_loss: 0.8604 - val_acc: 0.6060\n",
      "\n",
      "Epoch 00012: val_acc did not improve from 0.61721\n",
      "Epoch 13/100\n",
      "15663/15663 [==============================] - 4s 239us/step - loss: 0.8241 - acc: 0.6340 - val_loss: 0.8510 - val_acc: 0.6141\n",
      "\n",
      "Epoch 00013: val_acc did not improve from 0.61721\n",
      "Epoch 14/100\n",
      "15663/15663 [==============================] - 4s 242us/step - loss: 0.8164 - acc: 0.6393 - val_loss: 0.8603 - val_acc: 0.6124\n",
      "\n",
      "Epoch 00014: val_acc did not improve from 0.61721\n",
      "Epoch 15/100\n",
      "15663/15663 [==============================] - 4s 246us/step - loss: 0.8154 - acc: 0.6381 - val_loss: 0.8496 - val_acc: 0.6200\n",
      "\n",
      "Epoch 00015: val_acc improved from 0.61721 to 0.62002, saving model to weights.h5\n",
      "Epoch 16/100\n",
      "15663/15663 [==============================] - 4s 239us/step - loss: 0.8066 - acc: 0.6436 - val_loss: 0.8513 - val_acc: 0.6124\n",
      "\n",
      "Epoch 00016: val_acc did not improve from 0.62002\n",
      "Epoch 17/100\n",
      "15663/15663 [==============================] - 4s 246us/step - loss: 0.8019 - acc: 0.6462 - val_loss: 0.8579 - val_acc: 0.6126\n",
      "\n",
      "Epoch 00017: val_acc did not improve from 0.62002\n",
      "Epoch 18/100\n",
      "15663/15663 [==============================] - 4s 248us/step - loss: 0.7941 - acc: 0.6500 - val_loss: 0.8489 - val_acc: 0.6180\n",
      "\n",
      "Epoch 00018: val_acc did not improve from 0.62002\n",
      "Epoch 19/100\n",
      "15663/15663 [==============================] - 4s 254us/step - loss: 0.8021 - acc: 0.6437 - val_loss: 0.8493 - val_acc: 0.6090\n",
      "\n",
      "Epoch 00019: val_acc did not improve from 0.62002\n",
      "Epoch 20/100\n",
      "15663/15663 [==============================] - 4s 263us/step - loss: 0.7933 - acc: 0.6503 - val_loss: 0.8495 - val_acc: 0.6198\n",
      "\n",
      "Epoch 00020: val_acc did not improve from 0.62002\n",
      "Epoch 21/100\n",
      "15663/15663 [==============================] - 4s 267us/step - loss: 0.7847 - acc: 0.6557 - val_loss: 0.8601 - val_acc: 0.6144\n",
      "\n",
      "Epoch 00021: val_acc did not improve from 0.62002\n",
      "Epoch 22/100\n",
      "15663/15663 [==============================] - 4s 248us/step - loss: 0.7823 - acc: 0.6576 - val_loss: 0.8468 - val_acc: 0.6131\n",
      "\n",
      "Epoch 00022: val_acc did not improve from 0.62002\n",
      "Epoch 23/100\n",
      "15663/15663 [==============================] - 4s 240us/step - loss: 0.7772 - acc: 0.6617 - val_loss: 0.8572 - val_acc: 0.6162\n",
      "\n",
      "Epoch 00023: val_acc did not improve from 0.62002\n",
      "Epoch 24/100\n",
      "15663/15663 [==============================] - 4s 249us/step - loss: 0.7800 - acc: 0.6575 - val_loss: 0.8827 - val_acc: 0.6098\n",
      "\n",
      "Epoch 00024: val_acc did not improve from 0.62002\n",
      "Epoch 25/100\n",
      "15663/15663 [==============================] - 4s 246us/step - loss: 0.7887 - acc: 0.6510 - val_loss: 0.8698 - val_acc: 0.6134\n",
      "\n",
      "Epoch 00025: val_acc did not improve from 0.62002\n",
      "\n",
      "Epoch 00025: ReduceLROnPlateau reducing learning rate to 1.0000000474974514e-05.\n",
      "Epoch 26/100\n",
      "15663/15663 [==============================] - 4s 249us/step - loss: 0.7765 - acc: 0.6618 - val_loss: 0.8551 - val_acc: 0.6175\n",
      "\n",
      "Epoch 00026: val_acc did not improve from 0.62002\n",
      "Epoch 27/100\n",
      "15663/15663 [==============================] - 4s 248us/step - loss: 0.7642 - acc: 0.6685 - val_loss: 0.8473 - val_acc: 0.6193\n",
      "\n",
      "Epoch 00027: val_acc did not improve from 0.62002\n",
      "Epoch 28/100\n",
      "15663/15663 [==============================] - 4s 239us/step - loss: 0.7621 - acc: 0.6688 - val_loss: 0.8459 - val_acc: 0.6193\n",
      "\n",
      "Epoch 00028: val_acc did not improve from 0.62002\n",
      "Epoch 29/100\n",
      "15663/15663 [==============================] - 4s 239us/step - loss: 0.7601 - acc: 0.6708 - val_loss: 0.8461 - val_acc: 0.6193\n",
      "\n",
      "Epoch 00029: val_acc did not improve from 0.62002\n",
      "Epoch 30/100\n",
      "15663/15663 [==============================] - 4s 239us/step - loss: 0.7603 - acc: 0.6713 - val_loss: 0.8461 - val_acc: 0.6182\n",
      "\n",
      "Epoch 00030: val_acc did not improve from 0.62002\n",
      "Epoch 31/100\n",
      "15663/15663 [==============================] - 4s 239us/step - loss: 0.7618 - acc: 0.6683 - val_loss: 0.8463 - val_acc: 0.6182\n",
      "\n",
      "Epoch 00031: val_acc did not improve from 0.62002\n",
      "Epoch 32/100\n",
      "15663/15663 [==============================] - 4s 241us/step - loss: 0.7578 - acc: 0.6738 - val_loss: 0.8464 - val_acc: 0.6182\n",
      "\n",
      "Epoch 00032: val_acc did not improve from 0.62002\n",
      "Epoch 33/100\n",
      "15663/15663 [==============================] - 4s 239us/step - loss: 0.7578 - acc: 0.6706 - val_loss: 0.8467 - val_acc: 0.6198\n",
      "\n",
      "Epoch 00033: val_acc did not improve from 0.62002\n",
      "Epoch 34/100\n",
      "15663/15663 [==============================] - 4s 239us/step - loss: 0.7574 - acc: 0.6716 - val_loss: 0.8469 - val_acc: 0.6195\n",
      "\n",
      "Epoch 00034: val_acc did not improve from 0.62002\n",
      "Epoch 35/100\n",
      "15663/15663 [==============================] - 4s 237us/step - loss: 0.7584 - acc: 0.6712 - val_loss: 0.8471 - val_acc: 0.6200\n",
      "\n",
      "Epoch 00035: val_acc improved from 0.62002 to 0.62002, saving model to weights.h5\n",
      "\n",
      "Epoch 00035: ReduceLROnPlateau reducing learning rate to 1.0000000656873453e-07.\n",
      "Epoch 36/100\n",
      "15663/15663 [==============================] - 4s 239us/step - loss: 0.7575 - acc: 0.6706 - val_loss: 0.8471 - val_acc: 0.6200\n",
      "\n",
      "Epoch 00036: val_acc did not improve from 0.62002\n",
      "Epoch 37/100\n",
      "15663/15663 [==============================] - 4s 238us/step - loss: 0.7574 - acc: 0.6734 - val_loss: 0.8471 - val_acc: 0.6200\n",
      "\n",
      "Epoch 00037: val_acc did not improve from 0.62002\n",
      "Epoch 38/100\n",
      "15663/15663 [==============================] - 4s 240us/step - loss: 0.7587 - acc: 0.6706 - val_loss: 0.8471 - val_acc: 0.6200\n",
      "\n",
      "Epoch 00038: val_acc did not improve from 0.62002\n",
      "Epoch 39/100\n",
      "15663/15663 [==============================] - 4s 242us/step - loss: 0.7584 - acc: 0.6704 - val_loss: 0.8471 - val_acc: 0.6200\n",
      "\n",
      "Epoch 00039: val_acc did not improve from 0.62002\n",
      "Epoch 40/100\n",
      "15663/15663 [==============================] - 4s 249us/step - loss: 0.7576 - acc: 0.6688 - val_loss: 0.8471 - val_acc: 0.6200\n",
      "\n",
      "Epoch 00040: val_acc did not improve from 0.62002\n",
      "Epoch 41/100\n",
      "15663/15663 [==============================] - 4s 240us/step - loss: 0.7596 - acc: 0.6710 - val_loss: 0.8471 - val_acc: 0.6200\n",
      "\n",
      "Epoch 00041: val_acc did not improve from 0.62002\n",
      "Epoch 42/100\n",
      "15663/15663 [==============================] - 4s 245us/step - loss: 0.7571 - acc: 0.6707 - val_loss: 0.8471 - val_acc: 0.6200\n",
      "\n",
      "Epoch 00042: val_acc did not improve from 0.62002\n",
      "Epoch 43/100\n",
      "15663/15663 [==============================] - 4s 239us/step - loss: 0.7582 - acc: 0.6705 - val_loss: 0.8471 - val_acc: 0.6200\n",
      "\n",
      "Epoch 00043: val_acc did not improve from 0.62002\n",
      "Epoch 44/100\n",
      "15663/15663 [==============================] - 4s 240us/step - loss: 0.7575 - acc: 0.6722 - val_loss: 0.8471 - val_acc: 0.6200\n",
      "\n",
      "Epoch 00044: val_acc did not improve from 0.62002\n",
      "Epoch 45/100\n",
      "15663/15663 [==============================] - 4s 240us/step - loss: 0.7574 - acc: 0.6704 - val_loss: 0.8471 - val_acc: 0.6200\n",
      "\n",
      "Epoch 00045: val_acc did not improve from 0.62002\n",
      "\n",
      "Epoch 00045: ReduceLROnPlateau reducing learning rate to 1.000000082740371e-09.\n",
      "Epoch 46/100\n",
      "15663/15663 [==============================] - 4s 241us/step - loss: 0.7572 - acc: 0.6719 - val_loss: 0.8471 - val_acc: 0.6198\n",
      "\n",
      "Epoch 00046: val_acc did not improve from 0.62002\n",
      "Epoch 47/100\n",
      "15663/15663 [==============================] - 4s 242us/step - loss: 0.7571 - acc: 0.6705 - val_loss: 0.8471 - val_acc: 0.6198\n",
      "\n",
      "Epoch 00047: val_acc did not improve from 0.62002\n",
      "Epoch 48/100\n",
      "15663/15663 [==============================] - 4s 242us/step - loss: 0.7566 - acc: 0.6734 - val_loss: 0.8471 - val_acc: 0.6198\n",
      "\n",
      "Epoch 00048: val_acc did not improve from 0.62002\n",
      "Epoch 49/100\n",
      "15663/15663 [==============================] - 4s 241us/step - loss: 0.7576 - acc: 0.6699 - val_loss: 0.8471 - val_acc: 0.6198\n",
      "\n",
      "Epoch 00049: val_acc did not improve from 0.62002\n",
      "Epoch 50/100\n",
      "15663/15663 [==============================] - 4s 243us/step - loss: 0.7569 - acc: 0.6701 - val_loss: 0.8471 - val_acc: 0.6198\n",
      "\n",
      "Epoch 00050: val_acc did not improve from 0.62002\n",
      "Epoch 51/100\n",
      "15663/15663 [==============================] - 4s 240us/step - loss: 0.7595 - acc: 0.6699 - val_loss: 0.8471 - val_acc: 0.6198\n",
      "\n",
      "Epoch 00051: val_acc did not improve from 0.62002\n",
      "Epoch 52/100\n",
      "15663/15663 [==============================] - 4s 240us/step - loss: 0.7558 - acc: 0.6729 - val_loss: 0.8471 - val_acc: 0.6198\n",
      "\n",
      "Epoch 00052: val_acc did not improve from 0.62002\n",
      "Epoch 53/100\n",
      "15663/15663 [==============================] - 4s 245us/step - loss: 0.7572 - acc: 0.6734 - val_loss: 0.8471 - val_acc: 0.6198\n",
      "\n",
      "Epoch 00053: val_acc did not improve from 0.62002\n",
      "Epoch 54/100\n",
      "15663/15663 [==============================] - 4s 242us/step - loss: 0.7583 - acc: 0.6690 - val_loss: 0.8471 - val_acc: 0.6198\n",
      "\n",
      "Epoch 00054: val_acc did not improve from 0.62002\n",
      "Epoch 55/100\n",
      "15663/15663 [==============================] - 4s 241us/step - loss: 0.7573 - acc: 0.6724 - val_loss: 0.8471 - val_acc: 0.6198\n",
      "\n",
      "Epoch 00055: val_acc did not improve from 0.62002\n",
      "\n",
      "Epoch 00055: ReduceLROnPlateau reducing learning rate to 1.000000082740371e-11.\n",
      "Epoch 56/100\n",
      "15663/15663 [==============================] - 4s 240us/step - loss: 0.7580 - acc: 0.6697 - val_loss: 0.8471 - val_acc: 0.6198\n",
      "\n",
      "Epoch 00056: val_acc did not improve from 0.62002\n",
      "Epoch 57/100\n",
      "15663/15663 [==============================] - 4s 241us/step - loss: 0.7563 - acc: 0.6727 - val_loss: 0.8471 - val_acc: 0.6198\n",
      "\n",
      "Epoch 00057: val_acc did not improve from 0.62002\n",
      "Epoch 58/100\n",
      "15663/15663 [==============================] - 4s 242us/step - loss: 0.7582 - acc: 0.6720 - val_loss: 0.8471 - val_acc: 0.6198\n",
      "\n",
      "Epoch 00058: val_acc did not improve from 0.62002\n",
      "Epoch 59/100\n",
      "15663/15663 [==============================] - 4s 243us/step - loss: 0.7581 - acc: 0.6711 - val_loss: 0.8471 - val_acc: 0.6198\n",
      "\n",
      "Epoch 00059: val_acc did not improve from 0.62002\n",
      "Epoch 60/100\n",
      "15663/15663 [==============================] - 4s 242us/step - loss: 0.7587 - acc: 0.6720 - val_loss: 0.8471 - val_acc: 0.6198\n",
      "\n",
      "Epoch 00060: val_acc did not improve from 0.62002\n",
      "Epoch 61/100\n",
      "15663/15663 [==============================] - 4s 241us/step - loss: 0.7574 - acc: 0.6707 - val_loss: 0.8471 - val_acc: 0.6198\n",
      "\n",
      "Epoch 00061: val_acc did not improve from 0.62002\n",
      "Epoch 62/100\n",
      "15663/15663 [==============================] - 4s 240us/step - loss: 0.7586 - acc: 0.6703 - val_loss: 0.8471 - val_acc: 0.6198\n",
      "\n",
      "Epoch 00062: val_acc did not improve from 0.62002\n",
      "Epoch 63/100\n",
      "15663/15663 [==============================] - 4s 241us/step - loss: 0.7572 - acc: 0.6719 - val_loss: 0.8471 - val_acc: 0.6198\n",
      "\n",
      "Epoch 00063: val_acc did not improve from 0.62002\n",
      "Epoch 64/100\n",
      "15663/15663 [==============================] - 4s 240us/step - loss: 0.7582 - acc: 0.6718 - val_loss: 0.8471 - val_acc: 0.6198\n",
      "\n",
      "Epoch 00064: val_acc did not improve from 0.62002\n",
      "Epoch 65/100\n",
      "15663/15663 [==============================] - 4s 239us/step - loss: 0.7568 - acc: 0.6720 - val_loss: 0.8471 - val_acc: 0.6198\n",
      "\n",
      "Epoch 00065: val_acc did not improve from 0.62002\n",
      "\n",
      "Epoch 00065: ReduceLROnPlateau reducing learning rate to 1.000000082740371e-13.\n",
      "Epoch 66/100\n",
      "15663/15663 [==============================] - 4s 241us/step - loss: 0.7587 - acc: 0.6708 - val_loss: 0.8471 - val_acc: 0.6198\n",
      "\n",
      "Epoch 00066: val_acc did not improve from 0.62002\n",
      "Epoch 67/100\n",
      "15663/15663 [==============================] - 4s 241us/step - loss: 0.7580 - acc: 0.6732 - val_loss: 0.8471 - val_acc: 0.6198\n",
      "\n",
      "Epoch 00067: val_acc did not improve from 0.62002\n",
      "Epoch 68/100\n",
      "15663/15663 [==============================] - 4s 243us/step - loss: 0.7576 - acc: 0.6721 - val_loss: 0.8471 - val_acc: 0.6198\n",
      "\n",
      "Epoch 00068: val_acc did not improve from 0.62002\n",
      "Epoch 69/100\n",
      "15663/15663 [==============================] - 4s 246us/step - loss: 0.7567 - acc: 0.6723 - val_loss: 0.8471 - val_acc: 0.6198\n",
      "\n",
      "Epoch 00069: val_acc did not improve from 0.62002\n",
      "Epoch 70/100\n",
      "15663/15663 [==============================] - 4s 242us/step - loss: 0.7593 - acc: 0.6687 - val_loss: 0.8471 - val_acc: 0.6198\n",
      "\n",
      "Epoch 00070: val_acc did not improve from 0.62002\n",
      "Epoch 71/100\n",
      "15663/15663 [==============================] - 4s 248us/step - loss: 0.7583 - acc: 0.6701 - val_loss: 0.8471 - val_acc: 0.6198\n",
      "\n",
      "Epoch 00071: val_acc did not improve from 0.62002\n",
      "Epoch 72/100\n",
      "15663/15663 [==============================] - 4s 241us/step - loss: 0.7578 - acc: 0.6702 - val_loss: 0.8471 - val_acc: 0.6198\n",
      "\n",
      "Epoch 00072: val_acc did not improve from 0.62002\n",
      "Epoch 73/100\n",
      "15663/15663 [==============================] - 4s 239us/step - loss: 0.7582 - acc: 0.6715 - val_loss: 0.8471 - val_acc: 0.6198\n",
      "\n",
      "Epoch 00073: val_acc did not improve from 0.62002\n",
      "Epoch 74/100\n",
      "15663/15663 [==============================] - 4s 240us/step - loss: 0.7575 - acc: 0.6701 - val_loss: 0.8471 - val_acc: 0.6198\n",
      "\n",
      "Epoch 00074: val_acc did not improve from 0.62002\n",
      "Epoch 75/100\n",
      "15663/15663 [==============================] - 4s 241us/step - loss: 0.7576 - acc: 0.6726 - val_loss: 0.8471 - val_acc: 0.6198\n",
      "\n",
      "Epoch 00075: val_acc did not improve from 0.62002\n",
      "\n",
      "Epoch 00075: ReduceLROnPlateau reducing learning rate to 1.0000000502143058e-15.\n",
      "Epoch 76/100\n",
      "15663/15663 [==============================] - 4s 241us/step - loss: 0.7577 - acc: 0.6721 - val_loss: 0.8471 - val_acc: 0.6198\n",
      "\n",
      "Epoch 00076: val_acc did not improve from 0.62002\n",
      "Epoch 77/100\n",
      "15663/15663 [==============================] - 4s 241us/step - loss: 0.7567 - acc: 0.6706 - val_loss: 0.8471 - val_acc: 0.6198\n",
      "\n",
      "Epoch 00077: val_acc did not improve from 0.62002\n",
      "Epoch 78/100\n",
      "15663/15663 [==============================] - 4s 241us/step - loss: 0.7572 - acc: 0.6706 - val_loss: 0.8471 - val_acc: 0.6198\n",
      "\n",
      "Epoch 00078: val_acc did not improve from 0.62002\n",
      "Epoch 79/100\n",
      "15663/15663 [==============================] - 4s 241us/step - loss: 0.7591 - acc: 0.6713 - val_loss: 0.8471 - val_acc: 0.6198\n",
      "\n",
      "Epoch 00079: val_acc did not improve from 0.62002\n",
      "Epoch 80/100\n",
      "15663/15663 [==============================] - 4s 240us/step - loss: 0.7575 - acc: 0.6725 - val_loss: 0.8471 - val_acc: 0.6198\n",
      "\n",
      "Epoch 00080: val_acc did not improve from 0.62002\n",
      "Epoch 81/100\n",
      "15663/15663 [==============================] - 4s 239us/step - loss: 0.7583 - acc: 0.6718 - val_loss: 0.8471 - val_acc: 0.6198\n",
      "\n",
      "Epoch 00081: val_acc did not improve from 0.62002\n",
      "Epoch 82/100\n",
      "15663/15663 [==============================] - 4s 240us/step - loss: 0.7569 - acc: 0.6719 - val_loss: 0.8471 - val_acc: 0.6198\n",
      "\n",
      "Epoch 00082: val_acc did not improve from 0.62002\n",
      "Epoch 83/100\n",
      "15663/15663 [==============================] - 4s 242us/step - loss: 0.7581 - acc: 0.6710 - val_loss: 0.8471 - val_acc: 0.6198\n",
      "\n",
      "Epoch 00083: val_acc did not improve from 0.62002\n",
      "Epoch 84/100\n",
      "15663/15663 [==============================] - 4s 242us/step - loss: 0.7563 - acc: 0.6729 - val_loss: 0.8471 - val_acc: 0.6198\n",
      "\n",
      "Epoch 00084: val_acc did not improve from 0.62002\n",
      "Epoch 85/100\n",
      "15663/15663 [==============================] - 4s 241us/step - loss: 0.7563 - acc: 0.6727 - val_loss: 0.8471 - val_acc: 0.6198\n",
      "\n",
      "Epoch 00085: val_acc did not improve from 0.62002\n",
      "Restoring model weights from the end of the best epoch\n",
      "\n",
      "Epoch 00085: ReduceLROnPlateau reducing learning rate to 1.0000000036274937e-17.\n",
      "Epoch 00085: early stopping\n"
     ]
    }
   ],
   "source": [
    "\n",
    "checkpoint  = ModelCheckpoint('weights.h5', monitor='val_acc', verbose=1, save_best_only=True)\n",
    "earlystop = EarlyStopping(monitor='val_acc', min_delta=0, patience=50, verbose=1, mode='auto', baseline=None, restore_best_weights=True)\n",
    "reduce_lr = ReduceLROnPlateau(monitor='val_acc', factor=0.01, patience=10, verbose=1, mode='auto', min_delta=0.00001, cooldown=0, min_lr=0)\n",
    "\n",
    "history = model.fit(X_tr,y_tr, validation_data = (X_va, y_va), batch_size = 1000, epochs = 100, callbacks=[checkpoint,earlystop, reduce_lr])"
   ]
  },
  {
   "cell_type": "code",
   "execution_count": 68,
   "metadata": {
    "slideshow": {
     "slide_type": "subslide"
    }
   },
   "outputs": [
    {
     "data": {
      "text/plain": [
       "Text(0, 0.5, 'metric')"
      ]
     },
     "execution_count": 68,
     "metadata": {},
     "output_type": "execute_result"
    },
    {
     "data": {
      "image/png": "[encoded data removed]",
      "text/plain": [
       "<Figure size 1080x432 with 2 Axes>"
      ]
     },
     "metadata": {},
     "output_type": "display_data"
    }
   ],
   "source": [
    "plt.figure(figsize=(15,6))\n",
    "plt.subplot(121)\n",
    "plt.plot(range(len(history.epoch)),history.history['loss'])\n",
    "plt.xlabel('epoch')\n",
    "plt.ylabel('loss')\n",
    "\n",
    "plt.subplot(122)\n",
    "plt.plot(range(len(history.epoch)),history.history['acc'])\n",
    "plt.xlabel('epoch')\n",
    "plt.ylabel('metric')\n"
   ]
  },
  {
   "cell_type": "markdown",
   "metadata": {
    "slideshow": {
     "slide_type": "slide"
    }
   },
   "source": [
    "**Exercice 3**: Regarder les layers disponible pour les problématiques de vision. Puis construire le réseau correspondant à l'image suivante (VGG16)."
   ]
  },
  {
   "cell_type": "markdown",
   "metadata": {
    "slideshow": {
     "slide_type": "slide"
    }
   },
   "source": [
    "![](vgg16.png)"
   ]
  },
  {
   "cell_type": "code",
   "execution_count": 1,
   "metadata": {
    "tags": []
   },
   "outputs": [
    {
     "name": "stderr",
     "output_type": "stream",
     "text": [
      "/home/arthur/anaconda3/lib/python3.11/site-packages/keras/src/layers/convolutional/base_conv.py:99: UserWarning: Do not pass an `input_shape`/`input_dim` argument to a layer. When using Sequential models, prefer using an `Input(shape)` object as the first layer in the model instead.\n",
      "  super().__init__(\n"
     ]
    },
    {
     "data": {
      "text/html": [
       "<pre style=\"white-space:pre;overflow-x:auto;line-height:normal;font-family:Menlo,'DejaVu Sans Mono',consolas,'Courier New',monospace\"><span style=\"font-weight: bold\">Model: \"sequential\"</span>\n",
       "</pre>\n"
      ],
      "text/plain": [
       "\u001b[1mModel: \"sequential\"\u001b[0m\n"
      ]
     },
     "metadata": {},
     "output_type": "display_data"
    },
    {
     "data": {
      "text/html": [
       "<pre style=\"white-space:pre;overflow-x:auto;line-height:normal;font-family:Menlo,'DejaVu Sans Mono',consolas,'Courier New',monospace\">┏━━━━━━━━━━━━━━━━━━━━━━━━━━━━━━━━━┳━━━━━━━━━━━━━━━━━━━━━━━━━━━┳━━━━━━━━━━━━┓\n",
       "┃<span style=\"font-weight: bold\"> Layer (type)                    </span>┃<span style=\"font-weight: bold\"> Output Shape              </span>┃<span style=\"font-weight: bold\">    Param # </span>┃\n",
       "┡━━━━━━━━━━━━━━━━━━━━━━━━━━━━━━━━━╇━━━━━━━━━━━━━━━━━━━━━━━━━━━╇━━━━━━━━━━━━┩\n",
       "│ conv2d (<span style=\"color: #0087ff; text-decoration-color: #0087ff\">Conv2D</span>)                 │ (<span style=\"color: #00d7ff; text-decoration-color: #00d7ff\">None</span>, <span style=\"color: #00af00; text-decoration-color: #00af00\">224</span>, <span style=\"color: #00af00; text-decoration-color: #00af00\">224</span>, <span style=\"color: #00af00; text-decoration-color: #00af00\">64</span>)      │      <span style=\"color: #00af00; text-decoration-color: #00af00\">1,792</span> │\n",
       "├─────────────────────────────────┼───────────────────────────┼────────────┤\n",
       "│ conv2d_1 (<span style=\"color: #0087ff; text-decoration-color: #0087ff\">Conv2D</span>)               │ (<span style=\"color: #00d7ff; text-decoration-color: #00d7ff\">None</span>, <span style=\"color: #00af00; text-decoration-color: #00af00\">224</span>, <span style=\"color: #00af00; text-decoration-color: #00af00\">224</span>, <span style=\"color: #00af00; text-decoration-color: #00af00\">64</span>)      │     <span style=\"color: #00af00; text-decoration-color: #00af00\">36,928</span> │\n",
       "├─────────────────────────────────┼───────────────────────────┼────────────┤\n",
       "│ max_pooling2d (<span style=\"color: #0087ff; text-decoration-color: #0087ff\">MaxPooling2D</span>)    │ (<span style=\"color: #00d7ff; text-decoration-color: #00d7ff\">None</span>, <span style=\"color: #00af00; text-decoration-color: #00af00\">112</span>, <span style=\"color: #00af00; text-decoration-color: #00af00\">112</span>, <span style=\"color: #00af00; text-decoration-color: #00af00\">64</span>)      │          <span style=\"color: #00af00; text-decoration-color: #00af00\">0</span> │\n",
       "├─────────────────────────────────┼───────────────────────────┼────────────┤\n",
       "│ conv2d_2 (<span style=\"color: #0087ff; text-decoration-color: #0087ff\">Conv2D</span>)               │ (<span style=\"color: #00d7ff; text-decoration-color: #00d7ff\">None</span>, <span style=\"color: #00af00; text-decoration-color: #00af00\">112</span>, <span style=\"color: #00af00; text-decoration-color: #00af00\">112</span>, <span style=\"color: #00af00; text-decoration-color: #00af00\">128</span>)     │     <span style=\"color: #00af00; text-decoration-color: #00af00\">73,856</span> │\n",
       "├─────────────────────────────────┼───────────────────────────┼────────────┤\n",
       "│ conv2d_3 (<span style=\"color: #0087ff; text-decoration-color: #0087ff\">Conv2D</span>)               │ (<span style=\"color: #00d7ff; text-decoration-color: #00d7ff\">None</span>, <span style=\"color: #00af00; text-decoration-color: #00af00\">112</span>, <span style=\"color: #00af00; text-decoration-color: #00af00\">112</span>, <span style=\"color: #00af00; text-decoration-color: #00af00\">128</span>)     │    <span style=\"color: #00af00; text-decoration-color: #00af00\">147,584</span> │\n",
       "├─────────────────────────────────┼───────────────────────────┼────────────┤\n",
       "│ max_pooling2d_1 (<span style=\"color: #0087ff; text-decoration-color: #0087ff\">MaxPooling2D</span>)  │ (<span style=\"color: #00d7ff; text-decoration-color: #00d7ff\">None</span>, <span style=\"color: #00af00; text-decoration-color: #00af00\">56</span>, <span style=\"color: #00af00; text-decoration-color: #00af00\">56</span>, <span style=\"color: #00af00; text-decoration-color: #00af00\">128</span>)       │          <span style=\"color: #00af00; text-decoration-color: #00af00\">0</span> │\n",
       "├─────────────────────────────────┼───────────────────────────┼────────────┤\n",
       "│ conv2d_4 (<span style=\"color: #0087ff; text-decoration-color: #0087ff\">Conv2D</span>)               │ (<span style=\"color: #00d7ff; text-decoration-color: #00d7ff\">None</span>, <span style=\"color: #00af00; text-decoration-color: #00af00\">56</span>, <span style=\"color: #00af00; text-decoration-color: #00af00\">56</span>, <span style=\"color: #00af00; text-decoration-color: #00af00\">256</span>)       │    <span style=\"color: #00af00; text-decoration-color: #00af00\">295,168</span> │\n",
       "├─────────────────────────────────┼───────────────────────────┼────────────┤\n",
       "│ conv2d_5 (<span style=\"color: #0087ff; text-decoration-color: #0087ff\">Conv2D</span>)               │ (<span style=\"color: #00d7ff; text-decoration-color: #00d7ff\">None</span>, <span style=\"color: #00af00; text-decoration-color: #00af00\">56</span>, <span style=\"color: #00af00; text-decoration-color: #00af00\">56</span>, <span style=\"color: #00af00; text-decoration-color: #00af00\">256</span>)       │    <span style=\"color: #00af00; text-decoration-color: #00af00\">590,080</span> │\n",
       "├─────────────────────────────────┼───────────────────────────┼────────────┤\n",
       "│ conv2d_6 (<span style=\"color: #0087ff; text-decoration-color: #0087ff\">Conv2D</span>)               │ (<span style=\"color: #00d7ff; text-decoration-color: #00d7ff\">None</span>, <span style=\"color: #00af00; text-decoration-color: #00af00\">56</span>, <span style=\"color: #00af00; text-decoration-color: #00af00\">56</span>, <span style=\"color: #00af00; text-decoration-color: #00af00\">256</span>)       │    <span style=\"color: #00af00; text-decoration-color: #00af00\">590,080</span> │\n",
       "├─────────────────────────────────┼───────────────────────────┼────────────┤\n",
       "│ max_pooling2d_2 (<span style=\"color: #0087ff; text-decoration-color: #0087ff\">MaxPooling2D</span>)  │ (<span style=\"color: #00d7ff; text-decoration-color: #00d7ff\">None</span>, <span style=\"color: #00af00; text-decoration-color: #00af00\">28</span>, <span style=\"color: #00af00; text-decoration-color: #00af00\">28</span>, <span style=\"color: #00af00; text-decoration-color: #00af00\">256</span>)       │          <span style=\"color: #00af00; text-decoration-color: #00af00\">0</span> │\n",
       "├─────────────────────────────────┼───────────────────────────┼────────────┤\n",
       "│ conv2d_7 (<span style=\"color: #0087ff; text-decoration-color: #0087ff\">Conv2D</span>)               │ (<span style=\"color: #00d7ff; text-decoration-color: #00d7ff\">None</span>, <span style=\"color: #00af00; text-decoration-color: #00af00\">28</span>, <span style=\"color: #00af00; text-decoration-color: #00af00\">28</span>, <span style=\"color: #00af00; text-decoration-color: #00af00\">512</span>)       │  <span style=\"color: #00af00; text-decoration-color: #00af00\">1,180,160</span> │\n",
       "├─────────────────────────────────┼───────────────────────────┼────────────┤\n",
       "│ conv2d_8 (<span style=\"color: #0087ff; text-decoration-color: #0087ff\">Conv2D</span>)               │ (<span style=\"color: #00d7ff; text-decoration-color: #00d7ff\">None</span>, <span style=\"color: #00af00; text-decoration-color: #00af00\">28</span>, <span style=\"color: #00af00; text-decoration-color: #00af00\">28</span>, <span style=\"color: #00af00; text-decoration-color: #00af00\">512</span>)       │  <span style=\"color: #00af00; text-decoration-color: #00af00\">2,359,808</span> │\n",
       "├─────────────────────────────────┼───────────────────────────┼────────────┤\n",
       "│ conv2d_9 (<span style=\"color: #0087ff; text-decoration-color: #0087ff\">Conv2D</span>)               │ (<span style=\"color: #00d7ff; text-decoration-color: #00d7ff\">None</span>, <span style=\"color: #00af00; text-decoration-color: #00af00\">28</span>, <span style=\"color: #00af00; text-decoration-color: #00af00\">28</span>, <span style=\"color: #00af00; text-decoration-color: #00af00\">512</span>)       │  <span style=\"color: #00af00; text-decoration-color: #00af00\">2,359,808</span> │\n",
       "├─────────────────────────────────┼───────────────────────────┼────────────┤\n",
       "│ max_pooling2d_3 (<span style=\"color: #0087ff; text-decoration-color: #0087ff\">MaxPooling2D</span>)  │ (<span style=\"color: #00d7ff; text-decoration-color: #00d7ff\">None</span>, <span style=\"color: #00af00; text-decoration-color: #00af00\">14</span>, <span style=\"color: #00af00; text-decoration-color: #00af00\">14</span>, <span style=\"color: #00af00; text-decoration-color: #00af00\">512</span>)       │          <span style=\"color: #00af00; text-decoration-color: #00af00\">0</span> │\n",
       "├─────────────────────────────────┼───────────────────────────┼────────────┤\n",
       "│ conv2d_10 (<span style=\"color: #0087ff; text-decoration-color: #0087ff\">Conv2D</span>)              │ (<span style=\"color: #00d7ff; text-decoration-color: #00d7ff\">None</span>, <span style=\"color: #00af00; text-decoration-color: #00af00\">14</span>, <span style=\"color: #00af00; text-decoration-color: #00af00\">14</span>, <span style=\"color: #00af00; text-decoration-color: #00af00\">512</span>)       │  <span style=\"color: #00af00; text-decoration-color: #00af00\">2,359,808</span> │\n",
       "├─────────────────────────────────┼───────────────────────────┼────────────┤\n",
       "│ conv2d_11 (<span style=\"color: #0087ff; text-decoration-color: #0087ff\">Conv2D</span>)              │ (<span style=\"color: #00d7ff; text-decoration-color: #00d7ff\">None</span>, <span style=\"color: #00af00; text-decoration-color: #00af00\">14</span>, <span style=\"color: #00af00; text-decoration-color: #00af00\">14</span>, <span style=\"color: #00af00; text-decoration-color: #00af00\">512</span>)       │  <span style=\"color: #00af00; text-decoration-color: #00af00\">2,359,808</span> │\n",
       "├─────────────────────────────────┼───────────────────────────┼────────────┤\n",
       "│ conv2d_12 (<span style=\"color: #0087ff; text-decoration-color: #0087ff\">Conv2D</span>)              │ (<span style=\"color: #00d7ff; text-decoration-color: #00d7ff\">None</span>, <span style=\"color: #00af00; text-decoration-color: #00af00\">14</span>, <span style=\"color: #00af00; text-decoration-color: #00af00\">14</span>, <span style=\"color: #00af00; text-decoration-color: #00af00\">512</span>)       │  <span style=\"color: #00af00; text-decoration-color: #00af00\">2,359,808</span> │\n",
       "├─────────────────────────────────┼───────────────────────────┼────────────┤\n",
       "│ max_pooling2d_4 (<span style=\"color: #0087ff; text-decoration-color: #0087ff\">MaxPooling2D</span>)  │ (<span style=\"color: #00d7ff; text-decoration-color: #00d7ff\">None</span>, <span style=\"color: #00af00; text-decoration-color: #00af00\">7</span>, <span style=\"color: #00af00; text-decoration-color: #00af00\">7</span>, <span style=\"color: #00af00; text-decoration-color: #00af00\">512</span>)         │          <span style=\"color: #00af00; text-decoration-color: #00af00\">0</span> │\n",
       "├─────────────────────────────────┼───────────────────────────┼────────────┤\n",
       "│ flatten (<span style=\"color: #0087ff; text-decoration-color: #0087ff\">Flatten</span>)               │ (<span style=\"color: #00d7ff; text-decoration-color: #00d7ff\">None</span>, <span style=\"color: #00af00; text-decoration-color: #00af00\">25088</span>)             │          <span style=\"color: #00af00; text-decoration-color: #00af00\">0</span> │\n",
       "├─────────────────────────────────┼───────────────────────────┼────────────┤\n",
       "│ dense (<span style=\"color: #0087ff; text-decoration-color: #0087ff\">Dense</span>)                   │ (<span style=\"color: #00d7ff; text-decoration-color: #00d7ff\">None</span>, <span style=\"color: #00af00; text-decoration-color: #00af00\">4096</span>)              │ <span style=\"color: #00af00; text-decoration-color: #00af00\">102,764,5…</span> │\n",
       "├─────────────────────────────────┼───────────────────────────┼────────────┤\n",
       "│ dense_1 (<span style=\"color: #0087ff; text-decoration-color: #0087ff\">Dense</span>)                 │ (<span style=\"color: #00d7ff; text-decoration-color: #00d7ff\">None</span>, <span style=\"color: #00af00; text-decoration-color: #00af00\">4096</span>)              │ <span style=\"color: #00af00; text-decoration-color: #00af00\">16,781,312</span> │\n",
       "├─────────────────────────────────┼───────────────────────────┼────────────┤\n",
       "│ dense_2 (<span style=\"color: #0087ff; text-decoration-color: #0087ff\">Dense</span>)                 │ (<span style=\"color: #00d7ff; text-decoration-color: #00d7ff\">None</span>, <span style=\"color: #00af00; text-decoration-color: #00af00\">1000</span>)              │  <span style=\"color: #00af00; text-decoration-color: #00af00\">4,097,000</span> │\n",
       "└─────────────────────────────────┴───────────────────────────┴────────────┘\n",
       "</pre>\n"
      ],
      "text/plain": [
       "┏━━━━━━━━━━━━━━━━━━━━━━━━━━━━━━━━━┳━━━━━━━━━━━━━━━━━━━━━━━━━━━┳━━━━━━━━━━━━┓\n",
       "┃\u001b[1m \u001b[0m\u001b[1mLayer (type)                   \u001b[0m\u001b[1m \u001b[0m┃\u001b[1m \u001b[0m\u001b[1mOutput Shape             \u001b[0m\u001b[1m \u001b[0m┃\u001b[1m \u001b[0m\u001b[1m   Param #\u001b[0m\u001b[1m \u001b[0m┃\n",
       "┡━━━━━━━━━━━━━━━━━━━━━━━━━━━━━━━━━╇━━━━━━━━━━━━━━━━━━━━━━━━━━━╇━━━━━━━━━━━━┩\n",
       "│ conv2d (\u001b[38;5;33mConv2D\u001b[0m)                 │ (\u001b[38;5;45mNone\u001b[0m, \u001b[38;5;34m224\u001b[0m, \u001b[38;5;34m224\u001b[0m, \u001b[38;5;34m64\u001b[0m)      │      \u001b[38;5;34m1,792\u001b[0m │\n",
       "├─────────────────────────────────┼───────────────────────────┼────────────┤\n",
       "│ conv2d_1 (\u001b[38;5;33mConv2D\u001b[0m)               │ (\u001b[38;5;45mNone\u001b[0m, \u001b[38;5;34m224\u001b[0m, \u001b[38;5;34m224\u001b[0m, \u001b[38;5;34m64\u001b[0m)      │     \u001b[38;5;34m36,928\u001b[0m │\n",
       "├─────────────────────────────────┼───────────────────────────┼────────────┤\n",
       "│ max_pooling2d (\u001b[38;5;33mMaxPooling2D\u001b[0m)    │ (\u001b[38;5;45mNone\u001b[0m, \u001b[38;5;34m112\u001b[0m, \u001b[38;5;34m112\u001b[0m, \u001b[38;5;34m64\u001b[0m)      │          \u001b[38;5;34m0\u001b[0m │\n",
       "├─────────────────────────────────┼───────────────────────────┼────────────┤\n",
       "│ conv2d_2 (\u001b[38;5;33mConv2D\u001b[0m)               │ (\u001b[38;5;45mNone\u001b[0m, \u001b[38;5;34m112\u001b[0m, \u001b[38;5;34m112\u001b[0m, \u001b[38;5;34m128\u001b[0m)     │     \u001b[38;5;34m73,856\u001b[0m │\n",
       "├─────────────────────────────────┼───────────────────────────┼────────────┤\n",
       "│ conv2d_3 (\u001b[38;5;33mConv2D\u001b[0m)               │ (\u001b[38;5;45mNone\u001b[0m, \u001b[38;5;34m112\u001b[0m, \u001b[38;5;34m112\u001b[0m, \u001b[38;5;34m128\u001b[0m)     │    \u001b[38;5;34m147,584\u001b[0m │\n",
       "├─────────────────────────────────┼───────────────────────────┼────────────┤\n",
       "│ max_pooling2d_1 (\u001b[38;5;33mMaxPooling2D\u001b[0m)  │ (\u001b[38;5;45mNone\u001b[0m, \u001b[38;5;34m56\u001b[0m, \u001b[38;5;34m56\u001b[0m, \u001b[38;5;34m128\u001b[0m)       │          \u001b[38;5;34m0\u001b[0m │\n",
       "├─────────────────────────────────┼───────────────────────────┼────────────┤\n",
       "│ conv2d_4 (\u001b[38;5;33mConv2D\u001b[0m)               │ (\u001b[38;5;45mNone\u001b[0m, \u001b[38;5;34m56\u001b[0m, \u001b[38;5;34m56\u001b[0m, \u001b[38;5;34m256\u001b[0m)       │    \u001b[38;5;34m295,168\u001b[0m │\n",
       "├─────────────────────────────────┼───────────────────────────┼────────────┤\n",
       "│ conv2d_5 (\u001b[38;5;33mConv2D\u001b[0m)               │ (\u001b[38;5;45mNone\u001b[0m, \u001b[38;5;34m56\u001b[0m, \u001b[38;5;34m56\u001b[0m, \u001b[38;5;34m256\u001b[0m)       │    \u001b[38;5;34m590,080\u001b[0m │\n",
       "├─────────────────────────────────┼───────────────────────────┼────────────┤\n",
       "│ conv2d_6 (\u001b[38;5;33mConv2D\u001b[0m)               │ (\u001b[38;5;45mNone\u001b[0m, \u001b[38;5;34m56\u001b[0m, \u001b[38;5;34m56\u001b[0m, \u001b[38;5;34m256\u001b[0m)       │    \u001b[38;5;34m590,080\u001b[0m │\n",
       "├─────────────────────────────────┼───────────────────────────┼────────────┤\n",
       "│ max_pooling2d_2 (\u001b[38;5;33mMaxPooling2D\u001b[0m)  │ (\u001b[38;5;45mNone\u001b[0m, \u001b[38;5;34m28\u001b[0m, \u001b[38;5;34m28\u001b[0m, \u001b[38;5;34m256\u001b[0m)       │          \u001b[38;5;34m0\u001b[0m │\n",
       "├─────────────────────────────────┼───────────────────────────┼────────────┤\n",
       "│ conv2d_7 (\u001b[38;5;33mConv2D\u001b[0m)               │ (\u001b[38;5;45mNone\u001b[0m, \u001b[38;5;34m28\u001b[0m, \u001b[38;5;34m28\u001b[0m, \u001b[38;5;34m512\u001b[0m)       │  \u001b[38;5;34m1,180,160\u001b[0m │\n",
       "├─────────────────────────────────┼───────────────────────────┼────────────┤\n",
       "│ conv2d_8 (\u001b[38;5;33mConv2D\u001b[0m)               │ (\u001b[38;5;45mNone\u001b[0m, \u001b[38;5;34m28\u001b[0m, \u001b[38;5;34m28\u001b[0m, \u001b[38;5;34m512\u001b[0m)       │  \u001b[38;5;34m2,359,808\u001b[0m │\n",
       "├─────────────────────────────────┼───────────────────────────┼────────────┤\n",
       "│ conv2d_9 (\u001b[38;5;33mConv2D\u001b[0m)               │ (\u001b[38;5;45mNone\u001b[0m, \u001b[38;5;34m28\u001b[0m, \u001b[38;5;34m28\u001b[0m, \u001b[38;5;34m512\u001b[0m)       │  \u001b[38;5;34m2,359,808\u001b[0m │\n",
       "├─────────────────────────────────┼───────────────────────────┼────────────┤\n",
       "│ max_pooling2d_3 (\u001b[38;5;33mMaxPooling2D\u001b[0m)  │ (\u001b[38;5;45mNone\u001b[0m, \u001b[38;5;34m14\u001b[0m, \u001b[38;5;34m14\u001b[0m, \u001b[38;5;34m512\u001b[0m)       │          \u001b[38;5;34m0\u001b[0m │\n",
       "├─────────────────────────────────┼───────────────────────────┼────────────┤\n",
       "│ conv2d_10 (\u001b[38;5;33mConv2D\u001b[0m)              │ (\u001b[38;5;45mNone\u001b[0m, \u001b[38;5;34m14\u001b[0m, \u001b[38;5;34m14\u001b[0m, \u001b[38;5;34m512\u001b[0m)       │  \u001b[38;5;34m2,359,808\u001b[0m │\n",
       "├─────────────────────────────────┼───────────────────────────┼────────────┤\n",
       "│ conv2d_11 (\u001b[38;5;33mConv2D\u001b[0m)              │ (\u001b[38;5;45mNone\u001b[0m, \u001b[38;5;34m14\u001b[0m, \u001b[38;5;34m14\u001b[0m, \u001b[38;5;34m512\u001b[0m)       │  \u001b[38;5;34m2,359,808\u001b[0m │\n",
       "├─────────────────────────────────┼───────────────────────────┼────────────┤\n",
       "│ conv2d_12 (\u001b[38;5;33mConv2D\u001b[0m)              │ (\u001b[38;5;45mNone\u001b[0m, \u001b[38;5;34m14\u001b[0m, \u001b[38;5;34m14\u001b[0m, \u001b[38;5;34m512\u001b[0m)       │  \u001b[38;5;34m2,359,808\u001b[0m │\n",
       "├─────────────────────────────────┼───────────────────────────┼────────────┤\n",
       "│ max_pooling2d_4 (\u001b[38;5;33mMaxPooling2D\u001b[0m)  │ (\u001b[38;5;45mNone\u001b[0m, \u001b[38;5;34m7\u001b[0m, \u001b[38;5;34m7\u001b[0m, \u001b[38;5;34m512\u001b[0m)         │          \u001b[38;5;34m0\u001b[0m │\n",
       "├─────────────────────────────────┼───────────────────────────┼────────────┤\n",
       "│ flatten (\u001b[38;5;33mFlatten\u001b[0m)               │ (\u001b[38;5;45mNone\u001b[0m, \u001b[38;5;34m25088\u001b[0m)             │          \u001b[38;5;34m0\u001b[0m │\n",
       "├─────────────────────────────────┼───────────────────────────┼────────────┤\n",
       "│ dense (\u001b[38;5;33mDense\u001b[0m)                   │ (\u001b[38;5;45mNone\u001b[0m, \u001b[38;5;34m4096\u001b[0m)              │ \u001b[38;5;34m102,764,5…\u001b[0m │\n",
       "├─────────────────────────────────┼───────────────────────────┼────────────┤\n",
       "│ dense_1 (\u001b[38;5;33mDense\u001b[0m)                 │ (\u001b[38;5;45mNone\u001b[0m, \u001b[38;5;34m4096\u001b[0m)              │ \u001b[38;5;34m16,781,312\u001b[0m │\n",
       "├─────────────────────────────────┼───────────────────────────┼────────────┤\n",
       "│ dense_2 (\u001b[38;5;33mDense\u001b[0m)                 │ (\u001b[38;5;45mNone\u001b[0m, \u001b[38;5;34m1000\u001b[0m)              │  \u001b[38;5;34m4,097,000\u001b[0m │\n",
       "└─────────────────────────────────┴───────────────────────────┴────────────┘\n"
      ]
     },
     "metadata": {},
     "output_type": "display_data"
    },
    {
     "data": {
      "text/html": [
       "<pre style=\"white-space:pre;overflow-x:auto;line-height:normal;font-family:Menlo,'DejaVu Sans Mono',consolas,'Courier New',monospace\"><span style=\"font-weight: bold\"> Total params: </span><span style=\"color: #00af00; text-decoration-color: #00af00\">138,357,544</span> (527.79 MB)\n",
       "</pre>\n"
      ],
      "text/plain": [
       "\u001b[1m Total params: \u001b[0m\u001b[38;5;34m138,357,544\u001b[0m (527.79 MB)\n"
      ]
     },
     "metadata": {},
     "output_type": "display_data"
    },
    {
     "data": {
      "text/html": [
       "<pre style=\"white-space:pre;overflow-x:auto;line-height:normal;font-family:Menlo,'DejaVu Sans Mono',consolas,'Courier New',monospace\"><span style=\"font-weight: bold\"> Trainable params: </span><span style=\"color: #00af00; text-decoration-color: #00af00\">138,357,544</span> (527.79 MB)\n",
       "</pre>\n"
      ],
      "text/plain": [
       "\u001b[1m Trainable params: \u001b[0m\u001b[38;5;34m138,357,544\u001b[0m (527.79 MB)\n"
      ]
     },
     "metadata": {},
     "output_type": "display_data"
    },
    {
     "data": {
      "text/html": [
       "<pre style=\"white-space:pre;overflow-x:auto;line-height:normal;font-family:Menlo,'DejaVu Sans Mono',consolas,'Courier New',monospace\"><span style=\"font-weight: bold\"> Non-trainable params: </span><span style=\"color: #00af00; text-decoration-color: #00af00\">0</span> (0.00 B)\n",
       "</pre>\n"
      ],
      "text/plain": [
       "\u001b[1m Non-trainable params: \u001b[0m\u001b[38;5;34m0\u001b[0m (0.00 B)\n"
      ]
     },
     "metadata": {},
     "output_type": "display_data"
    }
   ],
   "source": [
    "\n",
    "def VGG16_model(input_shape=(224, 224, 3)):\n",
    "    model = Sequential()\n",
    "\n",
    "    # Block 1\n",
    "    model.add(Conv2D(64, (3, 3), activation='relu', padding='same', input_shape=input_shape))\n",
    "    model.add(Conv2D(64, (3, 3), activation='relu', padding='same'))\n",
    "    model.add(MaxPooling2D((2, 2), strides=(2, 2)))\n",
    "\n",
    "    # Block 2\n",
    "    model.add(Conv2D(128, (3, 3), activation='relu', padding='same'))\n",
    "    model.add(Conv2D(128, (3, 3), activation='relu', padding='same'))\n",
    "    model.add(MaxPooling2D((2, 2), strides=(2, 2)))\n",
    "\n",
    "    # Block 3\n",
    "    model.add(Conv2D(256, (3, 3), activation='relu', padding='same'))\n",
    "    model.add(Conv2D(256, (3, 3), activation='relu', padding='same'))\n",
    "    model.add(Conv2D(256, (3, 3), activation='relu', padding='same'))\n",
    "    model.add(MaxPooling2D((2, 2), strides=(2, 2)))\n",
    "\n",
    "    # Block 4\n",
    "    model.add(Conv2D(512, (3, 3), activation='relu', padding='same'))\n",
    "    model.add(Conv2D(512, (3, 3), activation='relu', padding='same'))\n",
    "    model.add(Conv2D(512, (3, 3), activation='relu', padding='same'))\n",
    "    model.add(MaxPooling2D((2, 2), strides=(2, 2)))\n",
    "\n",
    "    # Block 5\n",
    "    model.add(Conv2D(512, (3, 3), activation='relu', padding='same'))\n",
    "    model.add(Conv2D(512, (3, 3), activation='relu', padding='same'))\n",
    "    model.add(Conv2D(512, (3, 3), activation='relu', padding='same'))\n",
    "    model.add(MaxPooling2D((2, 2), strides=(2, 2)))\n",
    "\n",
    "    # Fully connected layers\n",
    "    model.add(Flatten())\n",
    "    model.add(Dense(4096, activation='relu'))\n",
    "    model.add(Dense(4096, activation='relu'))\n",
    "    model.add(Dense(1000, activation='softmax'))  ## si 1000 class (imgnet)\n",
    "    return model\n",
    "\n",
    "# Créer une instance du modèle\n",
    "vgg16_model = VGG16_model()\n",
    "\n",
    "# Afficher un résumé du modèle\n",
    "vgg16_model.summary()\n"
   ]
  },
  {
   "cell_type": "code",
   "execution_count": null,
   "metadata": {},
   "outputs": [],
   "source": []
  }
 ],
 "metadata": {
  "celltoolbar": "Diaporama",
  "kernelspec": {
   "display_name": "Python 3 (ipykernel)",
   "language": "python",
   "name": "python3"
  },
  "language_info": {
   "codemirror_mode": {
    "name": "ipython",
    "version": 3
   },
   "file_extension": ".py",
   "mimetype": "text/x-python",
   "name": "python",
   "nbconvert_exporter": "python",
   "pygments_lexer": "ipython3",
   "version": "3.10.12"
  }
 },
 "nbformat": 4,
 "nbformat_minor": 4
}
