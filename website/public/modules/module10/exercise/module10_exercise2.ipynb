{
 "cells": [
  {
   "cell_type": "markdown",
   "id": "7734f61e-3dc9-45fb-90bb-777a6838cf88",
   "metadata": {},
   "source": [
    "# Zero-Shot Learning with Transformers"
   ]
  },
  {
   "cell_type": "code",
   "execution_count": 1,
   "id": "5081e61a-590e-4066-8bcb-af62aadb79d2",
   "metadata": {},
   "outputs": [],
   "source": [
    "\n",
    "# Now import the needed libraries\n",
    "import numpy as np\n",
    "import pandas as pd\n",
    "import matplotlib.pyplot as plt\n",
    "import seaborn as sns\n",
    "import torch\n",
    "from torch.utils.data import Dataset\n",
    "import time\n",
    "import warnings\n",
    "import os\n",
    "from tqdm.auto import tqdm\n",
    "\n",
    "# For transformers library\n",
    "from transformers import (\n",
    "    AutoModelForSequenceClassification, \n",
    "    AutoTokenizer, \n",
    "    AutoModelForQuestionAnswering,\n",
    "    AutoModelForTokenClassification,\n",
    "    AutoModelForMaskedLM,\n",
    "    AutoModelForCausalLM,  # For generative models like Qwen\n",
    "    AutoModelForSeq2SeqLM,\n",
    "    pipeline,\n",
    "    set_seed\n",
    ")"
   ]
  },
  {
   "cell_type": "code",
   "execution_count": 2,
   "id": "527c14ef-76d3-4be3-824b-fda3e8a727f0",
   "metadata": {},
   "outputs": [
    {
     "name": "stdout",
     "output_type": "stream",
     "text": [
      "Using device: cpu\n"
     ]
    }
   ],
   "source": [
    "\n",
    "# Set environment variables to control warning messages\n",
    "os.environ[\"TOKENIZERS_PARALLELISM\"] = \"false\"\n",
    "warnings.filterwarnings(\"ignore\")\n",
    "\n",
    "# Check if GPU is available\n",
    "device = torch.device(\"cuda\" if torch.cuda.is_available() else \"cpu\")\n",
    "print(f\"Using device: {device}\")\n",
    "\n",
    "# Set random seed for reproducibility\n",
    "set_seed(42)"
   ]
  },
  {
   "cell_type": "markdown",
   "id": "9c831ff8-c6ea-4ae4-87ba-9fac00e3a520",
   "metadata": {},
   "source": [
    "# Part 1: Introduction to Transformers Library and Hugging Face"
   ]
  },
  {
   "cell_type": "markdown",
   "id": "96957555-ecaf-4156-8ebc-cb47f52ce10a",
   "metadata": {},
   "source": [
    "# 1. Introduction to Transformers and Hugging Face\n",
    "\n",
    "The Hugging Face Transformers library provides thousands of pre-trained models for various \n",
    "Natural Language Processing (NLP) tasks. These models can be used for tasks they were specifically \n",
    "trained on, but also for zero-shot learning - where they can perform tasks they weren't explicitly trained for.\n",
    "\n",
    "Key advantages of using Hugging Face Transformers:\n",
    "- Access to state-of-the-art models\n",
    "- Simple, unified API for different model architectures\n",
    "- Easy fine-tuning on custom tasks\n",
    "- Active community and regular updates\n",
    "- Integration with popular frameworks like PyTorch and TensorFlow\n",
    "\n",
    "\n",
    "# 2. What is Zero-Shot Learning?\n",
    "\n",
    "Zero-shot learning refers to a machine learning approach where a model can make predictions for classes \n",
    "it has never seen during training. In the context of NLP:\n",
    "\n",
    "- Traditional approach: Train a model on labeled examples of exactly the categories you want to predict\n",
    "- Zero-shot approach: Use a pre-trained model to classify text into arbitrary categories without specific training\n",
    "\n",
    "For example, a zero-shot classifier could classify text as \"sports,\" \"politics,\" or \"technology\" without ever \n",
    "being explicitly trained on these categories.\n",
    "\n",
    "This capability comes from models that have learned general semantic relationships during pre-training on \n",
    "vast amounts of text data.\n",
    "\n",
    "\n",
    "# 3. Overview of Available Models\n",
    "\n",
    "Hugging Face hosts thousands of models with different:\n",
    "- Sizes (from tiny to massive)\n",
    "- Architectures (BERT, RoBERTa, T5, BART, GPT, etc.)\n",
    "- Languages (multilingual or language-specific)\n",
    "- Specializations (general or domain-specific)\n",
    "\n",
    "For resource-constrained environments, several efficient models under 1.5B parameters are available:\n",
    "- DistilBERT (~66M parameters) - Distilled version of BERT\n",
    "- ALBERT (~12M parameters) - A Lite BERT with parameter sharing\n",
    "- MobileBERT (~25M parameters) - A compact BERT designed for mobile devices\n",
    "- BART-base (~140M parameters) - Bidirectional and Auto-Regressive Transformer\n",
    "- T5-small (~60M parameters) - Text-to-Text Transfer Transformer\n",
    "- DeBERTa-v3-small (~44M parameters) - Improved BERT with disentangled attention"
   ]
  },
  {
   "cell_type": "markdown",
   "id": "d58e8c3a-440f-497d-a7ac-5415b2c63d15",
   "metadata": {},
   "source": [
    "# Part 2: Zero-Shot Learning"
   ]
  },
  {
   "cell_type": "markdown",
   "id": "059636aa-d554-465a-9537-3e39ec623fea",
   "metadata": {},
   "source": [
    "# Zero-Shot Classification"
   ]
  },
  {
   "cell_type": "code",
   "execution_count": 4,
   "id": "14c1f6d0-5289-4f95-835a-7c7defedb16f",
   "metadata": {},
   "outputs": [
    {
     "name": "stdout",
     "output_type": "stream",
     "text": [
      "Loading zero-shot classification model...\n"
     ]
    },
    {
     "name": "stderr",
     "output_type": "stream",
     "text": [
      "Device set to use cpu\n"
     ]
    },
    {
     "name": "stdout",
     "output_type": "stream",
     "text": [
      "\n",
      "Performing zero-shot classification...\n",
      "\n",
      "Zero-Shot Classification Results:\n",
      "\n",
      "Text: The stock market fell by 10% today due to economic concerns.\n",
      "  - finance: 0.8520\n",
      "  - health: 0.0302\n",
      "  - technology: 0.0234\n",
      "  - science: 0.0231\n",
      "  - entertainment: 0.0226\n",
      "  - sports: 0.0199\n",
      "  - politics: 0.0145\n",
      "  - education: 0.0144\n",
      "\n",
      "Text: Scientists discover a new species of deep-sea fish that can glow in the dark.\n",
      "  - science: 0.8892\n",
      "  - technology: 0.0478\n",
      "  - health: 0.0229\n",
      "  - entertainment: 0.0228\n",
      "  - education: 0.0060\n",
      "  - sports: 0.0054\n",
      "  - finance: 0.0034\n",
      "  - politics: 0.0024\n",
      "\n",
      "Text: The latest smartphone from Apple features a revolutionary camera system.\n",
      "  - technology: 0.9379\n",
      "  - entertainment: 0.0176\n",
      "  - science: 0.0149\n",
      "  - health: 0.0088\n",
      "  - sports: 0.0085\n",
      "  - finance: 0.0057\n",
      "  - education: 0.0038\n",
      "  - politics: 0.0029\n",
      "\n",
      "Text: The team scored in the final minute to win the championship.\n",
      "  - sports: 0.8365\n",
      "  - technology: 0.0528\n",
      "  - entertainment: 0.0365\n",
      "  - finance: 0.0203\n",
      "  - health: 0.0181\n",
      "  - science: 0.0160\n",
      "  - politics: 0.0122\n",
      "  - education: 0.0075\n"
     ]
    },
    {
     "data": {
      "image/png": "[encoded data removed]",
      "text/plain": [
       "<Figure size 1200x800 with 4 Axes>"
      ]
     },
     "metadata": {},
     "output_type": "display_data"
    }
   ],
   "source": [
    "# Load zero-shot classification pipeline\n",
    "print(\"Loading zero-shot classification model...\")\n",
    "classifier = pipeline(\n",
    "    \"zero-shot-classification\",\n",
    "    model=\"facebook/bart-large-mnli\",  # ~400M parameters\n",
    "    device=0 if torch.cuda.is_available() else -1\n",
    ")\n",
    "\n",
    "# Example texts\n",
    "texts = [\n",
    "    \"The stock market fell by 10% today due to economic concerns.\",\n",
    "    \"Scientists discover a new species of deep-sea fish that can glow in the dark.\",\n",
    "    \"The latest smartphone from Apple features a revolutionary camera system.\",\n",
    "    \"The team scored in the final minute to win the championship.\"\n",
    "]\n",
    "\n",
    "# Define potential categories\n",
    "candidate_labels = [\n",
    "    \"finance\", \"science\", \"technology\", \"sports\", \n",
    "    \"politics\", \"entertainment\", \"health\", \"education\"\n",
    "]\n",
    "\n",
    "# Run zero-shot classification\n",
    "print(\"\\nPerforming zero-shot classification...\")\n",
    "results = []\n",
    "for text in texts:\n",
    "    result = classifier(text, candidate_labels)\n",
    "    results.append(result)\n",
    "\n",
    "# Display results\n",
    "print(\"\\nZero-Shot Classification Results:\")\n",
    "for i, result in enumerate(results):\n",
    "    print(f\"\\nText: {texts[i]}\")\n",
    "    for label, score in zip(result['labels'], result['scores']):\n",
    "        print(f\"  - {label}: {score:.4f}\")\n",
    "\n",
    "# Visualize results\n",
    "plt.figure(figsize=(12, 8))\n",
    "for i, result in enumerate(results):\n",
    "    plt.subplot(2, 2, i+1)\n",
    "    sns.barplot(x=result['scores'], y=result['labels'])\n",
    "    plt.title(f\"Text {i+1} Classification\", fontsize=10)\n",
    "    plt.xlim(0, 1)\n",
    "    plt.tight_layout()\n",
    "plt.suptitle(\"Zero-Shot Classification Results\", fontsize=14)\n",
    "plt.subplots_adjust(top=0.9)\n",
    "plt.savefig('zero_shot_classification.png')\n",
    "plt.show()"
   ]
  },
  {
   "cell_type": "code",
   "execution_count": 5,
   "id": "8e79dd51-c131-4cb7-9e31-edcb578a7fad",
   "metadata": {},
   "outputs": [
    {
     "name": "stdout",
     "output_type": "stream",
     "text": [
      "\n",
      "Multi-label Zero-Shot Classification:\n",
      "Text: This movie had amazing visuals but the plot was boring and predictable.\n",
      "  - visuals: 0.9841\n",
      "  - plot: 0.7766\n",
      "  - acting: 0.0015\n",
      "  - soundtrack: 0.0004\n"
     ]
    }
   ],
   "source": [
    "# Multi-label classification\n",
    "print(\"\\nMulti-label Zero-Shot Classification:\")\n",
    "multi_label_result = classifier(\n",
    "    \"This movie had amazing visuals but the plot was boring and predictable.\",\n",
    "    candidate_labels=[\"visuals\", \"plot\", \"acting\", \"soundtrack\"],\n",
    "    multi_label=True\n",
    ")\n",
    "print(f\"Text: This movie had amazing visuals but the plot was boring and predictable.\")\n",
    "for label, score in zip(multi_label_result['labels'], multi_label_result['scores']):\n",
    "    print(f\"  - {label}: {score:.4f}\")"
   ]
  },
  {
   "cell_type": "markdown",
   "id": "e2cb7409-9c71-43dc-8797-d3369d891d08",
   "metadata": {},
   "source": [
    "# Zero-Shot Question Answering"
   ]
  },
  {
   "cell_type": "code",
   "execution_count": 6,
   "id": "79bffe49-d4ca-4771-a482-ff3898450a73",
   "metadata": {},
   "outputs": [
    {
     "name": "stderr",
     "output_type": "stream",
     "text": [
      "Device set to use cpu\n"
     ]
    },
    {
     "name": "stdout",
     "output_type": "stream",
     "text": [
      "\n",
      "# 5. Zero-Shot Question Answering\n",
      "Loading question answering model...\n",
      "\n",
      "Performing zero-shot question answering...\n",
      "\n",
      "Question Answering Results:\n",
      "\n",
      "Context 1:\n",
      "Q: How many square kilometers does the Amazon rainforest cover?\n",
      "A: 5,500,000 (confidence: 0.6708)\n",
      "\n",
      "Q: Which continents have Amazon rainforest?\n",
      "A: nine (confidence: 0.7622)\n",
      "\n",
      "Q: How many nations have territory in the Amazon basin?\n",
      "A: nine (confidence: 0.8987)\n",
      "\n",
      "\n",
      "Context 2:\n",
      "Q: What type of programming language is Python?\n",
      "A: high-level, interpreted, general-purpose (confidence: 0.5356)\n",
      "\n",
      "Q: What does Python's design philosophy emphasize?\n",
      "A: code readability (confidence: 0.6276)\n",
      "\n",
      "Q: What programming paradigms does Python support?\n",
      "A: structured, \n",
      "    object-oriented and functional programming (confidence: 0.4958)\n",
      "\n"
     ]
    },
    {
     "data": {
      "image/png": "[encoded data removed]",
      "text/plain": [
       "<Figure size 1000x600 with 2 Axes>"
      ]
     },
     "metadata": {},
     "output_type": "display_data"
    },
    {
     "name": "stdout",
     "output_type": "stream",
     "text": [
      "\n",
      "Highlighted Answers in Context:\n",
      "Question: How many square kilometers does the Amazon rainforest cover?\n",
      "Highlighted Context: \n",
      "    The Amazon rainforest, also called Amazon jungle or Amazonia, is a moist broadleaf \n",
      "    tropica...    territory belonging to nine nations and 3,344 formally acknowledged indigenous territories.\n",
      "    \n",
      "\n",
      "Question: Which continents have Amazon rainforest?\n",
      "Highlighted Context: \n",
      "    The Amazon rainforest, also called Amazon jungle or Amazonia, is a moist broadleaf \n",
      "    tropica...territory belonging to **nine** nations and 3,344 formally acknowledged indigenous territories.\n",
      "    \n",
      "\n",
      "Question: How many nations have territory in the Amazon basin?\n",
      "Highlighted Context: \n",
      "    The Amazon rainforest, also called Amazon jungle or Amazonia, is a moist broadleaf \n",
      "    tropica...territory belonging to **nine** nations and 3,344 formally acknowledged indigenous territories.\n",
      "    \n",
      "\n",
      "Question: What type of programming language is Python?\n",
      "Highlighted Context: \n",
      "    Python is a **high-level, interpreted, general-purpose** programming language. Its design philo...en described as a \"batteries included\" \n",
      "    language due to its comprehensive standard library.\n",
      "    \n",
      "\n",
      "Question: What does Python's design philosophy emphasize?\n",
      "Highlighted Context: \n",
      "    Python is a high-level, interpreted, general-purpose programming language. Its design philosoph...en described as a \"batteries included\" \n",
      "    language due to its comprehensive standard library.\n",
      "    \n",
      "\n",
      "Question: What programming paradigms does Python support?\n",
      "Highlighted Context: \n",
      "    Python is a high-level, interpreted, general-purpose programming language. Its design philosoph...en described as a \"batteries included\" \n",
      "    language due to its comprehensive standard library.\n",
      "    \n",
      "\n"
     ]
    }
   ],
   "source": [
    "print(\"\\n# 5. Zero-Shot Question Answering\")\n",
    "print(\"Loading question answering model...\")\n",
    "\n",
    "qa_pipeline = pipeline(\n",
    "    \"question-answering\",\n",
    "    model=\"distilbert-base-cased-distilled-squad\",  # ~65M parameters\n",
    "    device=0 if torch.cuda.is_available() else -1\n",
    ")\n",
    "\n",
    "# Example contexts and questions\n",
    "contexts = [\n",
    "    \"\"\"\n",
    "    The Amazon rainforest, also called Amazon jungle or Amazonia, is a moist broadleaf \n",
    "    tropical rainforest in the Amazon biome that covers most of the Amazon basin of South America. \n",
    "    This basin encompasses 7,000,000 square kilometers (2,700,000 sq mi), of which 5,500,000 \n",
    "    square kilometers (2,100,000 sq mi) are covered by the rainforest. This region includes \n",
    "    territory belonging to nine nations and 3,344 formally acknowledged indigenous territories.\n",
    "    \"\"\",\n",
    "    \n",
    "    \"\"\"\n",
    "    Python is a high-level, interpreted, general-purpose programming language. Its design philosophy \n",
    "    emphasizes code readability with the use of significant indentation. Python is dynamically-typed \n",
    "    and garbage-collected. It supports multiple programming paradigms, including structured, \n",
    "    object-oriented and functional programming. It is often described as a \"batteries included\" \n",
    "    language due to its comprehensive standard library.\n",
    "    \"\"\"\n",
    "]\n",
    "\n",
    "questions = [\n",
    "    [\"How many square kilometers does the Amazon rainforest cover?\", \n",
    "     \"Which continents have Amazon rainforest?\", \n",
    "     \"How many nations have territory in the Amazon basin?\"],\n",
    "     \n",
    "    [\"What type of programming language is Python?\", \n",
    "     \"What does Python's design philosophy emphasize?\", \n",
    "     \"What programming paradigms does Python support?\"]\n",
    "]\n",
    "\n",
    "# Run question answering\n",
    "print(\"\\nPerforming zero-shot question answering...\")\n",
    "qa_results = []\n",
    "\n",
    "for i, context in enumerate(contexts):\n",
    "    context_results = []\n",
    "    for question in questions[i]:\n",
    "        result = qa_pipeline(question=question, context=context)\n",
    "        context_results.append({\n",
    "            'question': question,\n",
    "            'answer': result['answer'],\n",
    "            'score': result['score'],\n",
    "            'start': result['start'],\n",
    "            'end': result['end']\n",
    "        })\n",
    "    qa_results.append(context_results)\n",
    "\n",
    "# Display results\n",
    "print(\"\\nQuestion Answering Results:\")\n",
    "for i, context_results in enumerate(qa_results):\n",
    "    print(f\"\\nContext {i+1}:\")\n",
    "    for result in context_results:\n",
    "        print(f\"Q: {result['question']}\")\n",
    "        print(f\"A: {result['answer']} (confidence: {result['score']:.4f})\")\n",
    "        print()\n",
    "\n",
    "# Function to visualize answer confidence\n",
    "def plot_qa_confidence(qa_results):\n",
    "    fig, axes = plt.subplots(len(qa_results), 1, figsize=(10, 3*len(qa_results)))\n",
    "    \n",
    "    if len(qa_results) == 1:\n",
    "        axes = [axes]\n",
    "        \n",
    "    for i, context_results in enumerate(qa_results):\n",
    "        questions = [r['question'] for r in context_results]\n",
    "        scores = [r['score'] for r in context_results]\n",
    "        \n",
    "        sns.barplot(x=scores, y=questions, ax=axes[i])\n",
    "        axes[i].set_xlim(0, 1)\n",
    "        axes[i].set_title(f\"Context {i+1} - Answer Confidence\")\n",
    "        axes[i].set_xlabel(\"Confidence Score\")\n",
    "        axes[i].set_ylabel(\"Question\")\n",
    "    \n",
    "    plt.tight_layout()\n",
    "    plt.savefig('qa_confidence.png')\n",
    "    plt.show()\n",
    "\n",
    "plot_qa_confidence(qa_results)\n",
    "\n",
    "# Highlight answers in context\n",
    "def highlight_answer(context, start, end):\n",
    "    return context[:start] + \"**\" + context[start:end] + \"**\" + context[end:]\n",
    "\n",
    "print(\"\\nHighlighted Answers in Context:\")\n",
    "for i, context in enumerate(contexts):\n",
    "    for result in qa_results[i]:\n",
    "        highlighted = highlight_answer(context, result['start'], result['end'])\n",
    "        print(f\"Question: {result['question']}\")\n",
    "        print(f\"Highlighted Context: {highlighted[:100]}...{highlighted[-100:]}\")\n",
    "        print()\n"
   ]
  },
  {
   "cell_type": "markdown",
   "id": "de8f7655-84cf-40c6-b591-5f31d6ed80f1",
   "metadata": {},
   "source": [
    "# Zero-Shot Sentiment Analysis"
   ]
  },
  {
   "cell_type": "code",
   "execution_count": 7,
   "id": "85702c75-d21b-4df5-a046-748c5ee358a7",
   "metadata": {},
   "outputs": [
    {
     "name": "stdout",
     "output_type": "stream",
     "text": [
      "\n",
      "# 6. Zero-Shot Sentiment Analysis\n",
      "Loading sentiment analysis model...\n"
     ]
    },
    {
     "name": "stderr",
     "output_type": "stream",
     "text": [
      "Device set to use cpu\n"
     ]
    },
    {
     "name": "stdout",
     "output_type": "stream",
     "text": [
      "\n",
      "Performing sentiment analysis...\n",
      "\n",
      "Sentiment Analysis Results:\n",
      "Text: I absolutely loved this product! It exceeded all my expectations.\n",
      "Sentiment: POSITIVE, Score: 0.9999\n",
      "\n",
      "Text: The service was okay, but could have been better.\n",
      "Sentiment: NEGATIVE, Score: 0.9894\n",
      "\n",
      "Text: This is the worst experience I've ever had. I want my money back.\n",
      "Sentiment: NEGATIVE, Score: 0.9998\n",
      "\n",
      "Text: The food was delicious, but the waiting time was too long.\n",
      "Sentiment: NEGATIVE, Score: 0.9939\n",
      "\n",
      "Text: I'm not sure if I would recommend this to others.\n",
      "Sentiment: NEGATIVE, Score: 0.9946\n",
      "\n"
     ]
    },
    {
     "data": {
      "image/png": "[encoded data removed]",
      "text/plain": [
       "<Figure size 1000x600 with 1 Axes>"
      ]
     },
     "metadata": {},
     "output_type": "display_data"
    }
   ],
   "source": [
    "print(\"\\n# 6. Zero-Shot Sentiment Analysis\")\n",
    "print(\"Loading sentiment analysis model...\")\n",
    "\n",
    "sentiment_classifier = pipeline(\n",
    "    \"text-classification\",\n",
    "    model=\"distilbert-base-uncased-finetuned-sst-2-english\",  # ~66M parameters\n",
    "    device=0 if torch.cuda.is_available() else -1\n",
    ")\n",
    "\n",
    "# Example texts for sentiment analysis\n",
    "sentiment_texts = [\n",
    "    \"I absolutely loved this product! It exceeded all my expectations.\",\n",
    "    \"The service was okay, but could have been better.\",\n",
    "    \"This is the worst experience I've ever had. I want my money back.\",\n",
    "    \"The food was delicious, but the waiting time was too long.\",\n",
    "    \"I'm not sure if I would recommend this to others.\"\n",
    "]\n",
    "\n",
    "# Perform sentiment analysis\n",
    "print(\"\\nPerforming sentiment analysis...\")\n",
    "sentiment_results = sentiment_classifier(sentiment_texts)\n",
    "\n",
    "# Display results\n",
    "print(\"\\nSentiment Analysis Results:\")\n",
    "for text, result in zip(sentiment_texts, sentiment_results):\n",
    "    print(f\"Text: {text}\")\n",
    "    print(f\"Sentiment: {result['label']}, Score: {result['score']:.4f}\")\n",
    "    print()\n",
    "\n",
    "# Visualize sentiment results\n",
    "plt.figure(figsize=(10, 6))\n",
    "labels = [r['label'] for r in sentiment_results]\n",
    "scores = [r['score'] for r in sentiment_results]\n",
    "colors = ['green' if l == 'POSITIVE' else 'red' for l in labels]\n",
    "\n",
    "plt.bar(range(len(sentiment_texts)), scores, color=colors)\n",
    "plt.xticks(range(len(sentiment_texts)), [f\"Text {i+1}\" for i in range(len(sentiment_texts))], rotation=45)\n",
    "plt.ylabel('Confidence Score')\n",
    "plt.title('Sentiment Analysis Results')\n",
    "plt.ylim(0, 1)\n",
    "\n",
    "# Add text labels above bars\n",
    "for i, (label, score) in enumerate(zip(labels, scores)):\n",
    "    plt.text(i, score + 0.02, label, ha='center')\n",
    "\n",
    "plt.tight_layout()\n",
    "plt.savefig('sentiment_analysis.png')\n",
    "plt.show()"
   ]
  },
  {
   "cell_type": "markdown",
   "id": "2096548e-9d19-46fa-b153-cb63522e9053",
   "metadata": {},
   "source": [
    "# Zero-Shot Translation"
   ]
  },
  {
   "cell_type": "code",
   "execution_count": 13,
   "id": "8bfad635-5bed-4308-8a58-79673b460b3d",
   "metadata": {},
   "outputs": [
    {
     "name": "stdout",
     "output_type": "stream",
     "text": [
      "\n",
      "# 8. Zero-Shot Translation\n",
      "Loading translation model...\n"
     ]
    },
    {
     "name": "stderr",
     "output_type": "stream",
     "text": [
      "Device set to use cpu\n"
     ]
    },
    {
     "name": "stdout",
     "output_type": "stream",
     "text": [
      "\n",
      "Performing English to French translation...\n",
      "\n",
      "Translation Results (English → French):\n",
      "English: Hello, how are you today?\n",
      "French: Bonjour, comment allez-vous aujourd'hui ?\n",
      "\n",
      "English: Artificial intelligence is transforming the world.\n",
      "French: L'intelligence artificielle transforme le monde.\n",
      "\n",
      "English: I love to learn new programming languages.\n",
      "French: J'adore apprendre de nouveaux langages de programmation.\n",
      "\n"
     ]
    }
   ],
   "source": [
    "\n",
    "print(\"\\n# 8. Zero-Shot Translation\")\n",
    "print(\"Loading translation model...\")\n",
    "\n",
    "translation_model = pipeline(\n",
    "    \"translation\",\n",
    "    model=\"Helsinki-NLP/opus-mt-en-fr\",  # ~77M parameters\n",
    "    device=0 if torch.cuda.is_available() else -1\n",
    ")\n",
    "\n",
    "# Example texts for translation\n",
    "translation_texts = [\n",
    "    \"Hello, how are you today?\",\n",
    "    \"Artificial intelligence is transforming the world.\",\n",
    "    \"I love to learn new programming languages.\"\n",
    "]\n",
    "\n",
    "# Perform translation\n",
    "print(\"\\nPerforming English to French translation...\")\n",
    "translation_results = translation_model(translation_texts)\n",
    "\n",
    "# Display results\n",
    "print(\"\\nTranslation Results (English → French):\")\n",
    "for text, result in zip(translation_texts, translation_results):\n",
    "    print(f\"English: {text}\")\n",
    "    print(f\"French: {result['translation_text']}\")\n",
    "    print()"
   ]
  },
  {
   "cell_type": "markdown",
   "id": "74f06443-bf80-48e3-b3ad-d312ed32c6d0",
   "metadata": {},
   "source": [
    "# Zero-Shot Text Summarization"
   ]
  },
  {
   "cell_type": "code",
   "execution_count": 9,
   "id": "3ed619ac-85cd-4421-bfb7-8020d5595515",
   "metadata": {},
   "outputs": [
    {
     "name": "stdout",
     "output_type": "stream",
     "text": [
      "\n",
      "# 9. Zero-Shot Text Summarization\n",
      "Loading summarization model...\n"
     ]
    },
    {
     "data": {
      "application/vnd.jupyter.widget-view+json": {
       "model_id": "e94c2091ba97454bb02d0fd76c024c0a",
       "version_major": 2,
       "version_minor": 0
      },
      "text/plain": [
       "config.json:   0%|          | 0.00/1.80k [00:00<?, ?B/s]"
      ]
     },
     "metadata": {},
     "output_type": "display_data"
    },
    {
     "data": {
      "application/vnd.jupyter.widget-view+json": {
       "model_id": "f321a469566a4feea0c41ded72223cb5",
       "version_major": 2,
       "version_minor": 0
      },
      "text/plain": [
       "pytorch_model.bin:   0%|          | 0.00/460M [00:00<?, ?B/s]"
      ]
     },
     "metadata": {},
     "output_type": "display_data"
    },
    {
     "data": {
      "application/vnd.jupyter.widget-view+json": {
       "model_id": "ae1ebba80f02466c9adff87ba9accd4b",
       "version_major": 2,
       "version_minor": 0
      },
      "text/plain": [
       "tokenizer_config.json:   0%|          | 0.00/26.0 [00:00<?, ?B/s]"
      ]
     },
     "metadata": {},
     "output_type": "display_data"
    },
    {
     "data": {
      "application/vnd.jupyter.widget-view+json": {
       "model_id": "8f5e493165074170bb9350368867bed2",
       "version_major": 2,
       "version_minor": 0
      },
      "text/plain": [
       "model.safetensors:   0%|          | 0.00/460M [00:00<?, ?B/s]"
      ]
     },
     "metadata": {},
     "output_type": "display_data"
    },
    {
     "data": {
      "application/vnd.jupyter.widget-view+json": {
       "model_id": "a5db01aedd724f5ba73e29965286b968",
       "version_major": 2,
       "version_minor": 0
      },
      "text/plain": [
       "vocab.json:   0%|          | 0.00/899k [00:00<?, ?B/s]"
      ]
     },
     "metadata": {},
     "output_type": "display_data"
    },
    {
     "data": {
      "application/vnd.jupyter.widget-view+json": {
       "model_id": "c901023f248a49b98c06a4bb7bb33d04",
       "version_major": 2,
       "version_minor": 0
      },
      "text/plain": [
       "merges.txt:   0%|          | 0.00/456k [00:00<?, ?B/s]"
      ]
     },
     "metadata": {},
     "output_type": "display_data"
    },
    {
     "name": "stderr",
     "output_type": "stream",
     "text": [
      "Device set to use cpu\n"
     ]
    },
    {
     "name": "stdout",
     "output_type": "stream",
     "text": [
      "\n",
      "Performing text summarization...\n",
      "\n",
      "Summarization Results:\n",
      "\n",
      "Original Text (162 words):\n",
      "\n",
      "    Artificial intelligence (AI) is intelligence demonstrated by machines, as opposed to natural \n",
      "    intelligence displayed by animals including humans. AI research has been defined as the field of ...\n",
      "\n",
      "Summary (46 words):\n",
      " AI research has been defined as the field of study of intelligent agents . The term \"artificial intelligence\" had previously been used to describe machines that mimic and display \"human\" cognitive skills . This definition has since been rejected by major AI researchers who now describe  \n"
     ]
    }
   ],
   "source": [
    "\n",
    "print(\"\\n# 9. Zero-Shot Text Summarization\")\n",
    "print(\"Loading summarization model...\")\n",
    "\n",
    "summarizer = pipeline(\n",
    "    \"summarization\",\n",
    "    model=\"sshleifer/distilbart-cnn-6-6\",  # ~306M parameters\n",
    "    device=0 if torch.cuda.is_available() else -1\n",
    ")\n",
    "\n",
    "# Example long texts for summarization\n",
    "summarization_texts = [\n",
    "    \"\"\"\n",
    "    Artificial intelligence (AI) is intelligence demonstrated by machines, as opposed to natural \n",
    "    intelligence displayed by animals including humans. AI research has been defined as the field of \n",
    "    study of intelligent agents, which refers to any system that perceives its environment and takes \n",
    "    actions that maximize its chance of achieving its goals.\n",
    "    \n",
    "    The term \"artificial intelligence\" had previously been used to describe machines that mimic and \n",
    "    display \"human\" cognitive skills that are associated with the human mind, such as \"learning\" and \n",
    "    \"problem-solving\". This definition has since been rejected by major AI researchers who now describe \n",
    "    AI in terms of rationality and acting rationally, which does not limit how intelligence can be \n",
    "    articulated.\n",
    "    \n",
    "    AI applications include advanced web search engines, recommendation systems, understanding human \n",
    "    speech, self-driving cars, automated decision-making and competing at the highest level in strategic \n",
    "    game systems. As machines become increasingly capable, tasks considered to require \"intelligence\" \n",
    "    are often removed from the definition of AI, a phenomenon known as the AI effect.\n",
    "    \"\"\"\n",
    "]\n",
    "\n",
    "# Perform summarization\n",
    "print(\"\\nPerforming text summarization...\")\n",
    "summarization_results = summarizer(\n",
    "    summarization_texts,\n",
    "    max_length=100,\n",
    "    min_length=30,\n",
    "    do_sample=False\n",
    ")\n",
    "\n",
    "# Display results\n",
    "print(\"\\nSummarization Results:\")\n",
    "for i, (text, result) in enumerate(zip(summarization_texts, summarization_results)):\n",
    "    print(f\"\\nOriginal Text ({len(text.split())} words):\")\n",
    "    print(f\"{text[:200]}...\")\n",
    "    print(f\"\\nSummary ({len(result['summary_text'].split())} words):\")\n",
    "    print(result['summary_text'])"
   ]
  },
  {
   "cell_type": "markdown",
   "id": "f2d300fd-26bb-48ee-b372-b650f84b2670",
   "metadata": {},
   "source": [
    "### Zero-Shot Mathematical Reasoning with Specialized Models"
   ]
  },
  {
   "cell_type": "code",
   "execution_count": 10,
   "id": "f0044038-c8e0-4e94-b936-44ffe29aca6c",
   "metadata": {},
   "outputs": [
    {
     "name": "stderr",
     "output_type": "stream",
     "text": [
      "Sliding Window Attention is enabled but not implemented for `sdpa`; unexpected results may be encountered.\n",
      "The attention mask and the pad token id were not set. As a consequence, you may observe unexpected behavior. Please pass your input's `attention_mask` to obtain reliable results.\n",
      "Setting `pad_token_id` to `eos_token_id`:151643 for open-end generation.\n",
      "The attention mask is not set and cannot be inferred from input because pad token is same as eos token. As a consequence, you may observe unexpected behavior. Please pass your input's `attention_mask` to obtain reliable results.\n",
      "Both `max_new_tokens` (=2048) and `max_length`(=1024) seem to have been set. `max_new_tokens` will take precedence. Please refer to the documentation for more information. (https://huggingface.co/docs/transformers/main/en/main_classes/text_generation)\n"
     ]
    },
    {
     "name": "stdout",
     "output_type": "stream",
     "text": [
      "\n",
      "Solving math problems with Qwen2.5-Math-1.5B model...\n",
      "\n",
      "Problem 1:\n",
      "If a rectangle has a length of 12 cm and a width of 8 cm, what is its area?\n",
      "\n",
      "Solution:\n"
     ]
    },
    {
     "name": "stderr",
     "output_type": "stream",
     "text": [
      "The attention mask and the pad token id were not set. As a consequence, you may observe unexpected behavior. Please pass your input's `attention_mask` to obtain reliable results.\n",
      "Setting `pad_token_id` to `eos_token_id`:151643 for open-end generation.\n",
      "Both `max_new_tokens` (=2048) and `max_length`(=1024) seem to have been set. `max_new_tokens` will take precedence. Please refer to the documentation for more information. (https://huggingface.co/docs/transformers/main/en/main_classes/text_generation)\n"
     ]
    },
    {
     "name": "stdout",
     "output_type": "stream",
     "text": [
      " The area of a rectangle is calculated by multiplying its length by its width. Therefore, the area of the rectangle is 12 cm * 8 cm = 96 square cm.\n",
      "\n",
      "Problem 2:\n",
      "Solve the quadratic equation: 2x² - 7x + 3 = 0\n",
      "\n",
      "Solution:\n"
     ]
    },
    {
     "name": "stderr",
     "output_type": "stream",
     "text": [
      "The attention mask and the pad token id were not set. As a consequence, you may observe unexpected behavior. Please pass your input's `attention_mask` to obtain reliable results.\n",
      "Setting `pad_token_id` to `eos_token_id`:151643 for open-end generation.\n",
      "Both `max_new_tokens` (=2048) and `max_length`(=1024) seem to have been set. `max_new_tokens` will take precedence. Please refer to the documentation for more information. (https://huggingface.co/docs/transformers/main/en/main_classes/text_generation)\n"
     ]
    },
    {
     "name": "stdout",
     "output_type": "stream",
     "text": [
      " \n",
      "Step 1: Factor the quadratic equation.\n",
      "2x² - 7x + 3 = 0\n",
      "(2x - 1)(x - 3) = 0\n",
      "\n",
      "Step 2: Set each factor equal to zero and solve for x.\n",
      "2x - 1 = 0\n",
      "2x = 1\n",
      "x = 1/2\n",
      "\n",
      "x - 3 = 0\n",
      "x = 3\n",
      "\n",
      "Therefore, the solutions to the quadratic equation 2x² - 7x + 3 = 0 are x = 1/2 and x = 3.\n",
      "\n",
      "Problem 3:\n",
      "A ball is thrown upward from a height of 2 meters with an initial velocity of 15 m/s. The height h of the ball after t seconds is given by the equation h = 2 + 15t - 4.9t². When does the ball hit the ground?\n",
      "\n",
      "Solution:\n"
     ]
    },
    {
     "name": "stderr",
     "output_type": "stream",
     "text": [
      "The attention mask and the pad token id were not set. As a consequence, you may observe unexpected behavior. Please pass your input's `attention_mask` to obtain reliable results.\n",
      "Setting `pad_token_id` to `eos_token_id`:151643 for open-end generation.\n",
      "Both `max_new_tokens` (=2048) and `max_length`(=1024) seem to have been set. `max_new_tokens` will take precedence. Please refer to the documentation for more information. (https://huggingface.co/docs/transformers/main/en/main_classes/text_generation)\n"
     ]
    },
    {
     "name": "stdout",
     "output_type": "stream",
     "text": [
      " To find when the ball hits the ground, we need to determine the time t when the height h is equal to 0. We can set the equation h = 2 + 15t - 4.9t² equal to 0 and solve for t.\n",
      "\n",
      "Step 1: Set the equation equal to 0.\n",
      "2 + 15t - 4.9t² = 0\n",
      "\n",
      "Step 2: Rearrange the equation to standard quadratic form.\n",
      "-4.9t² + 15t + 2 = 0\n",
      "\n",
      "Step 3: Use the quadratic formula to solve for t.\n",
      "t = [-b ± √(b² - 4ac)] / (2a)\n",
      "where a = -4.9, b = 15, and c = 2.\n",
      "\n",
      "Step 4: Substitute the values of a, b, and c into the quadratic formula.\n",
      "t = [-15 ± √(15² - 4(-4.9)(2))] / (2(-4.9))\n",
      "\n",
      "Step 5: Simplify the expression under the square root.\n",
      "t = [-15 ± √(225 + 39.2)] / (-9.8)\n",
      "t = [-15 ± √264.2] / (-9.8)\n",
      "\n",
      "Step 6: Calculate the two possible values of t.\n",
      "t = [-15 + √264.2] / (-9.8) ≈ 3.14 seconds\n",
      "t = [-15 - √264.2] / (-9.8) ≈ -0.28 seconds\n",
      "\n",
      "Step 7: Since time cannot be negative, we discard the negative solution.\n",
      "Therefore, the ball hits the ground after approximately 3.14 seconds.\n",
      "\n",
      "Problem 4:\n",
      "Find the derivative of f(x) = 3x⁴ - 2x² + 5x - 7\n",
      "\n",
      "Solution:\n"
     ]
    },
    {
     "name": "stderr",
     "output_type": "stream",
     "text": [
      "The attention mask and the pad token id were not set. As a consequence, you may observe unexpected behavior. Please pass your input's `attention_mask` to obtain reliable results.\n",
      "Setting `pad_token_id` to `eos_token_id`:151643 for open-end generation.\n",
      "Both `max_new_tokens` (=2048) and `max_length`(=1024) seem to have been set. `max_new_tokens` will take precedence. Please refer to the documentation for more information. (https://huggingface.co/docs/transformers/main/en/main_classes/text_generation)\n"
     ]
    },
    {
     "name": "stdout",
     "output_type": "stream",
     "text": [
      " \n",
      "Step 1: Apply the power rule to each term of the function.\n",
      "The power rule states that if f(x) = x^n, then f'(x) = nx^(n-1).\n",
      "\n",
      "Step 2: Apply the power rule to each term of the function.\n",
      "f(x) = 3x⁴ - 2x² + 5x - 7\n",
      "f'(x) = 4(3x³) - 2(2x) + 5(1) - 0\n",
      "f'(x) = 12x³ - 4x + 5\n",
      "\n",
      "Step 3: Simplify the expression.\n",
      "f'(x) = 12x³ - 4x + 5\n",
      "\n",
      "Therefore, the derivative of f(x) = 3x⁴ - 2x² + 5x - 7 is f'(x) = 12x³ - 4x + 5.\n",
      "\n",
      "Problem 5:\n",
      "In a game, you roll two fair 6-sided dice. \n",
      "        What is the probability that the sum of the dice is at least 10?\n",
      "\n",
      "Solution:\n",
      " \n",
      "        First, we need to find the total number of possible outcomes when rolling two 6-sided dice. Since each die has 6 sides, the total number of outcomes is 6 * 6 = 36.\n",
      "        Next, we need to find the number of outcomes where the sum of the dice is at least 10. We can do this by listing all the possible outcomes and counting the ones that meet the condition.\n",
      "        The possible outcomes are:\n",
      "        (4, 6), (5, 5), (5, 6), (6, 4), (6, 5), (6, 6)\n",
      "        There are 6 outcomes where the sum of the dice is at least 10.\n",
      "        Therefore, the probability of rolling a sum of at least 10 is 6/36 = 1/6. To solve the problem step by step, let's follow these instructions:\n",
      "\n",
      "1. **Determine the total number of possible outcomes:**\n",
      "   - Each die has 6 sides.\n",
      "   - When rolling two dice, the total number of possible outcomes is the product of the number of sides on each die.\n",
      "   \\[\n",
      "   6 \\times 6 = 36\n",
      "   \\]\n",
      "\n",
      "2. **Identify the outcomes where the sum of the dice is at least 10:**\n",
      "   - We need to list all pairs \\((a, b)\\) where \\(a\\) is the result of the first die, \\(b\\) is the result of the second die, and \\(a + b \\geq 10\\).\n",
      "   - Let's list these pairs:\n",
      "     - For \\(a = 4\\): \\((4, 6)\\)\n",
      "     - For \\(a = 5\\): \\((5, 5)\\), \\((5, 6)\\)\n",
      "     - For \\(a = 6\\): \\((6, 4)\\), \\((6, 5)\\), \\((6, 6)\\)\n",
      "   - There are 6 such pairs.\n",
      "\n",
      "3. **Calculate the probability:**\n",
      "   - The probability is the number of favorable outcomes divided by the total number of possible outcomes.\n",
      "   \\[\n",
      "   \\text{Probability} = \\frac{\\text{Number of favorable outcomes}}{\\text{Total number of possible outcomes}} = \\frac{6}{36} = \\frac{1}{6}\n",
      "   \\]\n",
      "\n",
      "Therefore, the probability that the sum of the dice is at least 10 is \\(\\boxed{\\frac{1}{6}}\\).\n",
      "\n",
      "# 14. Mathematical Reasoning with General Purpose Models\n",
      "\n",
      "If specialized math models aren't available, you can still use general-purpose models\n",
      "with carefully crafted prompts for mathematical reasoning.\n",
      "\n"
     ]
    },
    {
     "name": "stderr",
     "output_type": "stream",
     "text": [
      "Device set to use cpu\n",
      "Truncation was not explicitly activated but `max_length` is provided a specific value, please use `truncation=True` to explicitly truncate examples to max length. Defaulting to 'longest_first' truncation strategy. If you encode pairs of sequences (GLUE-style) with the tokenizer you can select this strategy more precisely by providing a specific strategy to `truncation`.\n",
      "Setting `pad_token_id` to `eos_token_id`:50256 for open-end generation.\n"
     ]
    },
    {
     "name": "stdout",
     "output_type": "stream",
     "text": [
      "\n",
      "Simple Problem:\n",
      "If 5 apples cost $2, how much would 8 apples cost?\n",
      "\n",
      "Solution attempt with general model:\n",
      "\n",
      "Solution: Find a triangle on a square. If it is a rectangle, then the distance is around 5 cm/h.\n",
      "Solution: In a straight line, we have a straight line. In a straight line, we have a straight line. In a straight line, we have a straight line. In a straight line, we have a straight line. In a straight line, we have a straight line. In a straight line, we have a straight line. In a straight line, we have a straight line. In a straight line, we have a straight line.\n"
     ]
    }
   ],
   "source": [
    "try:\n",
    "    # Try to load the specialized math model\n",
    "    math_tokenizer = AutoTokenizer.from_pretrained(\"Qwen/Qwen2.5-Math-1.5B\")\n",
    "    math_model = AutoModelForCausalLM.from_pretrained(\"Qwen/Qwen2.5-Math-1.5B\", device_map=\"auto\")\n",
    "    \n",
    "    # Helper function for math problem solving\n",
    "    def solve_math_problem(problem, max_length=1024):\n",
    "        \"\"\"Solve math problems using the specialized model\"\"\"\n",
    "        # Format the input prompt\n",
    "        prompt = f\"Solve the following math problem step by step:\\n{problem}\\n\\nSolution:\"\n",
    "        \n",
    "        # Tokenize the input\n",
    "        inputs = math_tokenizer(prompt, return_tensors=\"pt\").to(math_model.device)\n",
    "        \n",
    "        # Generate the solution\n",
    "        with torch.no_grad():\n",
    "            outputs = math_model.generate(\n",
    "                inputs.input_ids,\n",
    "                max_length=max_length,\n",
    "                temperature=0.1,\n",
    "                do_sample=False\n",
    "            )\n",
    "        \n",
    "        # Decode and return the solution\n",
    "        solution = math_tokenizer.decode(outputs[0], skip_special_tokens=True)\n",
    "        \n",
    "        # Extract just the solution part\n",
    "        solution = solution.replace(prompt, \"\")\n",
    "        return solution\n",
    "    \n",
    "    # Example math problems of varying difficulty\n",
    "    math_problems = [\n",
    "        \"If a rectangle has a length of 12 cm and a width of 8 cm, what is its area?\",\n",
    "        \n",
    "        \"Solve the quadratic equation: 2x² - 7x + 3 = 0\",\n",
    "        \n",
    "        \"A ball is thrown upward from a height of 2 meters with an initial velocity of 15 m/s. The height h of the ball after t seconds is given by the equation h = 2 + 15t - 4.9t². When does the ball hit the ground?\",\n",
    "        \n",
    "        \"Find the derivative of f(x) = 3x⁴ - 2x² + 5x - 7\",\n",
    "        \n",
    "        \"\"\"In a game, you roll two fair 6-sided dice. \n",
    "        What is the probability that the sum of the dice is at least 10?\"\"\"\n",
    "    ]\n",
    "    \n",
    "    # Solve each problem\n",
    "    print(\"\\nSolving math problems with Qwen2.5-Math-1.5B model...\")\n",
    "    for i, problem in enumerate(math_problems):\n",
    "        print(f\"\\nProblem {i+1}:\")\n",
    "        print(problem)\n",
    "        \n",
    "        print(\"\\nSolution:\")\n",
    "        solution = solve_math_problem(problem)\n",
    "        print(solution)\n",
    "        \n",
    "except Exception as e:\n",
    "    print(f\"\\nCould not load or run the math model: {e}\")\n",
    "    print(\"\\nIf you're getting a 'sentencepiece' error, please install it with:\")\n",
    "    print(\"pip install sentencepiece\")\n",
    "    print(\"\\nSample math problems that the model would solve:\")\n",
    "    for i, problem in enumerate(math_problems):\n",
    "        print(f\"\\nProblem {i+1}:\")\n",
    "        print(problem)\n",
    "\n",
    "# Alternative approach for math problems using a text-davinci-003 style prompt\n",
    "print(\"\\n# 14. Mathematical Reasoning with General Purpose Models\")\n",
    "print(\"\"\"\n",
    "If specialized math models aren't available, you can still use general-purpose models\n",
    "with carefully crafted prompts for mathematical reasoning.\n",
    "\"\"\")\n",
    "\n",
    "try:\n",
    "    # Use a general model with zero-shot chain-of-thought prompting\n",
    "    general_model = pipeline(\n",
    "        \"text-generation\",\n",
    "        model=\"distilgpt2\",  # A small model ~82M parameters\n",
    "        device=0 if torch.cuda.is_available() else -1,\n",
    "    )\n",
    "    \n",
    "    def solve_with_general_model(problem):\n",
    "        \"\"\"Solve a math problem using a general LLM with chain-of-thought prompting\"\"\"\n",
    "        prompt = f\"\"\"Problem: If a rectangle has a width of 5 cm and a length of 8 cm, what is its area?\n",
    "Solution: To find the area of a rectangle, I multiply width × length.\n",
    "Area = 5 cm × 8 cm = 40 square cm.\n",
    "\n",
    "Problem: A car travels at 60 km/h for 3 hours. How far does it go?\n",
    "Solution: To find distance, I multiply speed × time.\n",
    "Distance = 60 km/h × 3 h = 180 km.\n",
    "\n",
    "Problem: {problem}\n",
    "Solution: Let me solve this step by step.\"\"\"\n",
    "        \n",
    "        # Generate the solution\n",
    "        outputs = general_model(\n",
    "            prompt,\n",
    "            max_length=len(prompt.split()) + 150,\n",
    "            temperature=0.7,\n",
    "            num_return_sequences=1,\n",
    "            do_sample=True\n",
    "        )\n",
    "        \n",
    "        # Extract just the generated solution\n",
    "        solution = outputs[0][\"generated_text\"].replace(prompt, \"\")\n",
    "        return solution\n",
    "    \n",
    "    # Example with a simple math problem\n",
    "    simple_problem = \"If 5 apples cost $2, how much would 8 apples cost?\"\n",
    "    print(f\"\\nSimple Problem:\\n{simple_problem}\")\n",
    "    \n",
    "    print(\"\\nSolution attempt with general model:\")\n",
    "    solution = solve_with_general_model(simple_problem)\n",
    "    print(solution)\n",
    "    \n",
    "except Exception as e:\n",
    "    print(f\"\\nCould not run the general model: {e}\")\n",
    "    print(\"You can experiment with different models for this task.\")"
   ]
  },
  {
   "cell_type": "markdown",
   "id": "741bea3e-66d0-452f-9f3b-8ed3a3391c7d",
   "metadata": {},
   "source": [
    "# Simple Zero-Shot Learning Exercises\n",
    "\n",
    "## Exercise 1: Explore Available Models\n",
    "Visit the Hugging Face model hub at https://huggingface.co/models and explore the available models:\n",
    "\n",
    "1. Find 3 models under 500MB that are designed for different NLP tasks\n",
    "2. For each model, note:\n",
    "   - Parameter count\n",
    "   - Primary task\n",
    "   - Languages supported\n",
    "3. Compare their popularity (downloads/likes)\n",
    "\n",
    "## Exercise 2: Generate a Poem with a Small Text Generation Model\n",
    "1. Find a small text generation model (under 1B parameters) on Hugging Face\n",
    "   - Suggestion: Try \"distilgpt2\" (82M parameters) or \"TinyLlama\" (1.1B parameters)\n",
    "2. Use the following code template to generate a short poem:\n",
    "\n",
    "```python\n",
    "from transformers import pipeline\n",
    "\n",
    "# Initialize text generation pipeline with a small model\n",
    "generator = pipeline('text-generation', model=model_name)  # or another small model\n",
    "\n",
    "# Generate a poem\n",
    "prompt = \"\"\n",
    "results = generator(prompt, max_length=100, num_return_sequences=1)\n",
    "\n",
    "# Print the generated poem\n",
    "print(results[0]['generated_text'])\n",
    "```\n",
    "\n",
    "3. Try different prompts and parameters:\n",
    "   - Adjust the `max_length` value\n",
    "   - Change the temperature (add `temperature=0.7` parameter)\n",
    "   - Modify your prompt to specify poem style (haiku, sonnet, etc.)"
   ]
  },
  {
   "cell_type": "code",
   "execution_count": null,
   "id": "fa3e40e5-8959-4187-bb04-72b2b93857fd",
   "metadata": {},
   "outputs": [],
   "source": []
  }
 ],
 "metadata": {
  "kernelspec": {
   "display_name": "Python 3 (ipykernel)",
   "language": "python",
   "name": "python3"
  },
  "language_info": {
   "codemirror_mode": {
    "name": "ipython",
    "version": 3
   },
   "file_extension": ".py",
   "mimetype": "text/x-python",
   "name": "python",
   "nbconvert_exporter": "python",
   "pygments_lexer": "ipython3",
   "version": "3.12.3"
  }
 },
 "nbformat": 4,
 "nbformat_minor": 5
}
