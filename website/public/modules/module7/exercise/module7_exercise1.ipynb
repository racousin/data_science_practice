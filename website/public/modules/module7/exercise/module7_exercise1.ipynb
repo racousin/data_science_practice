{
 "cells": [
  {
   "cell_type": "code",
   "execution_count": 14,
   "id": "ad6db548-ee6a-4a31-8aae-eb014e45806c",
   "metadata": {},
   "outputs": [],
   "source": [
    "# Deep Learning Fundamentals: MNIST Case Study\n",
    "import torch\n",
    "import torch.nn as nn\n",
    "import torch.optim as optim\n",
    "from torch.utils.data import DataLoader\n",
    "import matplotlib.pyplot as plt\n",
    "import numpy as np\n",
    "from sklearn.metrics import confusion_matrix\n",
    "import seaborn as sns\n",
    "import pandas as pd"
   ]
  },
  {
   "cell_type": "markdown",
   "id": "9e83ffc7-885b-4470-904f-b1015355ccee",
   "metadata": {},
   "source": [
    "### Data Collection"
   ]
  },
  {
   "cell_type": "code",
   "execution_count": null,
   "id": "4529f06b-2df5-42b9-8038-6ad5253ce57f",
   "metadata": {},
   "outputs": [],
   "source": [
    "import requests\n",
    "\n",
    "# URLs of the files\n",
    "data_train_features_url = 'https://www.raphaelcousin.com/modules/module7/exercise/module7_exercise_train_features.csv'\n",
    "data_train_labels_url = 'https://www.raphaelcousin.com/modules/module7/exercise/module7_exercise_train_labels.csv'\n",
    "data_test_features_url = 'https://www.raphaelcousin.com/modules/module7/exercise/module7_exercise_test_features.csv'\n",
    "\n",
    "# Function to download a file\n",
    "def download_file(url, file_name):\n",
    "    response = requests.get(url)\n",
    "    response.raise_for_status()  # Ensure we notice bad responses\n",
    "    with open(file_name, 'wb') as file:\n",
    "        file.write(response.content)\n",
    "    print(f'Downloaded {file_name} from {url}')\n",
    "\n",
    "# Downloading the files\n",
    "download_file(data_train_features_url, 'module7_exercise_train_features.csv')\n",
    "download_file(data_train_labels_url, 'module7_exercise_train_labels.csv')\n",
    "download_file(data_test_features_url, 'module7_exercise_test_features.csv')"
   ]
  },
  {
   "cell_type": "code",
   "execution_count": 7,
   "id": "41047ae2-d886-4d6d-9ebe-ce527da3b82d",
   "metadata": {},
   "outputs": [],
   "source": [
    "X = pd.read_csv('module7_exercise_train_features.csv').values\n",
    "y = pd.read_csv('module7_exercise_train_labels.csv').values.ravel()"
   ]
  },
  {
   "cell_type": "markdown",
   "id": "a6ca6340-b643-47db-85e0-3df691319232",
   "metadata": {},
   "source": [
    "### Data Analysis"
   ]
  },
  {
   "cell_type": "code",
   "execution_count": 8,
   "id": "42567510-e5d1-41bb-8aa3-149fb123fab9",
   "metadata": {},
   "outputs": [
    {
     "data": {
      "text/plain": [
       "(60000, 784)"
      ]
     },
     "execution_count": 8,
     "metadata": {},
     "output_type": "execute_result"
    }
   ],
   "source": [
    "X.shape"
   ]
  },
  {
   "cell_type": "code",
   "execution_count": 9,
   "id": "7d72a598-dab8-4e6f-841a-5808c98953d3",
   "metadata": {},
   "outputs": [
    {
     "data": {
      "text/plain": [
       "(60000,)"
      ]
     },
     "execution_count": 9,
     "metadata": {},
     "output_type": "execute_result"
    }
   ],
   "source": [
    "y.shape"
   ]
  },
  {
   "cell_type": "code",
   "execution_count": 10,
   "id": "0f48d4fd-1964-4796-8143-fdc292655497",
   "metadata": {},
   "outputs": [],
   "source": [
    "def plot_mnist_digits(X, y, num_examples=5, figsize=(15, 3)):\n",
    "    # Create figure\n",
    "    fig, axes = plt.subplots(1, num_examples, figsize=figsize)\n",
    "    \n",
    "    # Ensure axes is always a numpy array\n",
    "    if num_examples == 1:\n",
    "        axes = np.array([axes])\n",
    "    \n",
    "    # Plot each example\n",
    "    for i in range(num_examples):\n",
    "        # Reshape the flattened image back to 28x28\n",
    "        img = X[i].reshape(28, 28)\n",
    "        \n",
    "        # Plot\n",
    "        axes[i].imshow(img, cmap='gray')\n",
    "        axes[i].set_title(f'Label: {y[i]}')\n",
    "        axes[i].axis('off')\n",
    "    \n",
    "    plt.tight_layout()\n",
    "    return fig"
   ]
  },
  {
   "cell_type": "code",
   "execution_count": 11,
   "id": "5954fff0-7a27-4ccd-83d0-8b001ad96035",
   "metadata": {},
   "outputs": [
    {
     "data": {
      "image/png": "[encoded data removed]",
      "text/plain": [
       "<Figure size 1500x300 with 5 Axes>"
      ]
     },
     "metadata": {},
     "output_type": "display_data"
    }
   ],
   "source": [
    "# Plot some examples\n",
    "fig = plot_mnist_digits(X, y, num_examples=5)\n",
    "plt.show()"
   ]
  },
  {
   "cell_type": "markdown",
   "id": "d4011c61-79e4-4c5e-8dd5-e8053e4066c6",
   "metadata": {},
   "source": [
    "### Data Preprocessing\n",
    "Scale, split the data and create dataLoaders"
   ]
  },
  {
   "cell_type": "code",
   "execution_count": null,
   "id": "669dc3ee-0d36-48ef-93d1-854c87a372e7",
   "metadata": {},
   "outputs": [],
   "source": [
    "def preprocess_data(X, y, batch_size=32, train_size=0.7, val_size=0.15, random_state=42):\n",
    "    return data_loader_train, data_loader_val, data_loader_test"
   ]
  },
  {
   "cell_type": "markdown",
   "id": "ff035d78-4d48-4350-b454-8a739ba0d07f",
   "metadata": {},
   "source": [
    "### Model\n",
    "Create a simple model with right input output and define criterion and criterion/loss"
   ]
  },
  {
   "cell_type": "code",
   "execution_count": null,
   "id": "96f2bc76-ae97-49e8-9e25-1d8b4aed78d0",
   "metadata": {},
   "outputs": [],
   "source": [
    "def create_model():\n",
    "    return model, criterion, optimizer"
   ]
  },
  {
   "cell_type": "markdown",
   "id": "8e81ce88-118f-43bf-b7ad-94022be495ef",
   "metadata": {},
   "source": [
    "### Train\n",
    "Create a loop to train your model"
   ]
  },
  {
   "cell_type": "code",
   "execution_count": null,
   "id": "41e5ee84-736e-4163-8276-53c8e0de752b",
   "metadata": {},
   "outputs": [],
   "source": [
    "def train_model(model, train_loader, val_loader, criterion, optimizer):\n",
    "    history = defaultdict(list)\n",
    "    for epoch in range(num_epochs):\n",
    "        ...\n",
    "        history['train_loss'].append(train_loss)\n",
    "        history['train_acc'].append(train_acc)\n",
    "        history['val_loss'].append(val_loss)\n",
    "        history['val_acc'].append(val_acc)\n",
    "    return history"
   ]
  },
  {
   "cell_type": "code",
   "execution_count": null,
   "id": "61fd0af9-6a7b-4c82-88d5-c99e9dcddd0b",
   "metadata": {},
   "outputs": [],
   "source": [
    "# Create model and training components\n",
    "model, criterion, optimizer = create_model(device)\n",
    "\n",
    "# Train the model\n",
    "history = train_model(\n",
    "    model=model,\n",
    "    train_loader=train_loader,\n",
    "    val_loader=val_loader,\n",
    "    criterion=criterion,\n",
    "    optimizer=optimizer,\n",
    "    num_epochs=10\n",
    ")"
   ]
  },
  {
   "cell_type": "code",
   "execution_count": null,
   "id": "88945c7a-70c4-4ab7-b381-4d0276f94e02",
   "metadata": {},
   "outputs": [],
   "source": [
    "def plot_training_history(history):\n",
    "    \"\"\"\n",
    "    Plot training history\n",
    "    \n",
    "    Parameters:\n",
    "    -----------\n",
    "    history : dict\n",
    "        Training history containing metrics\n",
    "    \"\"\"\n",
    "    fig, ((ax1, ax2), (ax3, ax4)) = plt.subplots(2, 1, figsize=(10, 10))\n",
    "    \n",
    "    # Plot loss\n",
    "    ax1.plot(history['train_loss'], label='Train Loss')\n",
    "    ax1.plot(history['val_loss'], label='Val Loss')\n",
    "    ax1.set_xlabel('Epoch')\n",
    "    ax1.set_ylabel('Loss')\n",
    "    ax1.set_title('Training and Validation Loss')\n",
    "    ax1.legend()\n",
    "    ax1.grid(True)\n",
    "    \n",
    "    # Plot accuracy\n",
    "    ax2.plot(history['train_acc'], label='Train Acc')\n",
    "    ax2.plot(history['val_acc'], label='Val Acc')\n",
    "    ax2.set_xlabel('Epoch')\n",
    "    ax2.set_ylabel('Accuracy (%)')\n",
    "    ax2.set_title('Training and Validation Accuracy')\n",
    "    ax2.legend()\n",
    "    ax2.grid(True)\n",
    "    \n",
    "    plt.tight_layout()\n",
    "    return fig"
   ]
  },
  {
   "cell_type": "code",
   "execution_count": null,
   "id": "60fb283e-1f78-44fa-ae1e-221d9a973df5",
   "metadata": {},
   "outputs": [],
   "source": [
    "# Plot training history\n",
    "plot_training_history(history)\n",
    "plt.show()"
   ]
  },
  {
   "cell_type": "code",
   "execution_count": 12,
   "id": "3658a73d-d0c1-41d7-b5c7-a9286f7a22d9",
   "metadata": {},
   "outputs": [],
   "source": [
    "### Improve your model and trainning"
   ]
  },
  {
   "cell_type": "code",
   "execution_count": null,
   "id": "b1d30af7-20a5-44e5-923b-0f320e395e50",
   "metadata": {},
   "outputs": [],
   "source": []
  },
  {
   "cell_type": "code",
   "execution_count": null,
   "id": "b25808b6-7552-4a0a-a6ff-fd83eaefdc88",
   "metadata": {},
   "outputs": [],
   "source": []
  },
  {
   "cell_type": "code",
   "execution_count": null,
   "id": "1315d5dc-7d0f-44ad-95a1-88984834e94c",
   "metadata": {},
   "outputs": [],
   "source": []
  },
  {
   "cell_type": "code",
   "execution_count": null,
   "id": "6c23cfab-39de-431a-94ea-57deadb74009",
   "metadata": {},
   "outputs": [],
   "source": []
  },
  {
   "cell_type": "code",
   "execution_count": null,
   "id": "a18c0246-c2a5-4b82-a007-86b057434b0a",
   "metadata": {},
   "outputs": [],
   "source": []
  },
  {
   "cell_type": "markdown",
   "id": "1e6c1adf-074b-47bf-af5a-e3f0a00e1591",
   "metadata": {},
   "source": [
    "### Generating Submission File"
   ]
  },
  {
   "cell_type": "code",
   "execution_count": 13,
   "id": "c9581f59-2189-42cf-a69f-0d174b2fe7a5",
   "metadata": {},
   "outputs": [],
   "source": [
    "X_test = pd.read_csv('module7_exercise_test_features.csv')\n",
    "X_test_tensor = torch.tensor(X_test.values, dtype=torch.float32)"
   ]
  },
  {
   "cell_type": "code",
   "execution_count": null,
   "id": "bb94bdc9-045d-44f5-a425-2a0623d0e994",
   "metadata": {},
   "outputs": [],
   "source": [
    "model.eval()  # Set the model to evaluation mode\n",
    "with torch.no_grad():\n",
    "    predictions = model(X_test_tensor)"
   ]
  },
  {
   "cell_type": "code",
   "execution_count": null,
   "id": "ed9d9fa3-16fc-4a77-8b31-a1e1eb196166",
   "metadata": {},
   "outputs": [],
   "source": [
    "_, predicted_labels = torch.max(predictions, dim=1)"
   ]
  },
  {
   "cell_type": "code",
   "execution_count": null,
   "id": "8f1a3d3e-de05-47f1-8984-1b6f0732f2de",
   "metadata": {},
   "outputs": [],
   "source": [
    "submission = pd.DataFrame({\n",
    "    'index': X_test.index,\n",
    "    'label': 0 # predicted_labels\n",
    "})\n",
    "\n",
    "submission.to_csv('submission.csv', index=False, sep=',')\n",
    "submission.head()"
   ]
  }
 ],
 "metadata": {
  "kernelspec": {
   "display_name": "Python 3 (ipykernel)",
   "language": "python",
   "name": "python3"
  },
  "language_info": {
   "codemirror_mode": {
    "name": "ipython",
    "version": 3
   },
   "file_extension": ".py",
   "mimetype": "text/x-python",
   "name": "python",
   "nbconvert_exporter": "python",
   "pygments_lexer": "ipython3",
   "version": "3.12.3"
  }
 },
 "nbformat": 4,
 "nbformat_minor": 5
}
