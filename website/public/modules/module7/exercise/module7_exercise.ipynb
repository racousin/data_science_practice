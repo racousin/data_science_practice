{
 "cells": [
  {
   "cell_type": "markdown",
   "id": "a4da42e2-def4-4991-98a1-ef70292ff5b3",
   "metadata": {},
   "source": [
    "Exercise Case Study Notebook: Deep Learning Fundamentals\n",
    "\n",
    "1. Problem and Objective:\n",
    "   - Introduce a multi-class image classification dataset\n",
    "   - Goal: Implement and compare various neural network architectures\n"
   ]
  },
  {
   "cell_type": "markdown",
   "id": "a0891f79-ed65-476f-a6c9-44f56c9c00a6",
   "metadata": {},
   "source": [
    "2. Data Loading:"
   ]
  },
  {
   "cell_type": "code",
   "execution_count": null,
   "id": "17721dcb-d914-407d-8554-d8194cae87d0",
   "metadata": {},
   "outputs": [],
   "source": [
    "import requests\n",
    "\n",
    "# URLs of the files\n",
    "train_data_url = 'https://www.raphaelcousin.com/modules/module4/course/module5_course_handling_duplicate_train.csv'\n",
    "test_data_url = 'https://www.raphaelcousin.com/modules/module4/course/module5_course_handling_duplicate_test.csv'\n",
    "\n",
    "# Function to download a file\n",
    "def download_file(url, file_name):\n",
    "    response = requests.get(url)\n",
    "    response.raise_for_status()  # Ensure we notice bad responses\n",
    "    with open(file_name, 'wb') as file:\n",
    "        file.write(response.content)\n",
    "    print(f'Downloaded {file_name} from {url}')\n",
    "\n",
    "# Downloading the files\n",
    "download_file(train_data_url, 'module5_course_handling_duplicate_train.csv')\n",
    "download_file(test_data_url, 'module5_course_handling_duplicate_test.csv')"
   ]
  },
  {
   "cell_type": "code",
   "execution_count": null,
   "id": "ab2d7055-dd1d-4e13-be0e-abd70f3eaeb9",
   "metadata": {},
   "outputs": [],
   "source": [
    "import torch\n",
    "import torchvision\n",
    "import torchvision.transforms as transforms\n",
    "\n",
    "# Load and preprocess the dataset\n",
    "transform = transforms.Compose([transforms.ToTensor(), transforms.Normalize((0.5,), (0.5,))])\n",
    "trainset = torchvision.datasets.CIFAR10(root='./data', train=True, download=True, transform=transform)\n",
    "trainloader = torch.utils.data.DataLoader(trainset, batch_size=32, shuffle=True)\n",
    "\n",
    "print(f\"Dataset size: {len(trainset)}\")\n",
    "print(f\"Number of classes: {len(trainset.classes)}\")\n"
   ]
  },
  {
   "cell_type": "markdown",
   "id": "70415b5d-cd56-41e9-812b-0345e72687d6",
   "metadata": {},
   "source": [
    "3. Deep Learning Tasks:\n",
    "\n",
    "a. Feedforward Neural Network:\n",
    "   - Task: Implement a simple feedforward network for image classification\n",
    "   - Question: How does the network's depth affect its performance?\n",
    "\n",
    "b. Backpropagation and Optimization:\n",
    "   - Task: Implement backpropagation from scratch for a simple network\n",
    "   - Question: Compare the performance of SGD, Adam, and RMSprop optimizers\n",
    "\n",
    "c. Automatic Differentiation:\n",
    "   - Task: Use PyTorch's autograd to compute gradients\n",
    "   - Question: How does autograd simplify the implementation of custom layers?\n",
    "\n",
    "d. Activation Functions:\n",
    "   - Task: Experiment with different activation functions (ReLU, Leaky ReLU, ELU)\n",
    "   - Question: Analyze the impact of activation functions on training dynamics\n",
    "\n",
    "e. Regularization Techniques:\n",
    "   - Task: Apply dropout and batch normalization to your model\n",
    "   - Question: How do these techniques affect training time and final performance?\n",
    "\n",
    "f. Convolutional Neural Networks:\n",
    "   - Task: Implement a CNN for the image classification task\n",
    "   - Question: Compare the CNN's performance with the feedforward network\n",
    "\n",
    "g. Recurrent Neural Networks:\n",
    "   - Task: Implement an LSTM for a sequence prediction task\n",
    "   - Question: How does the LSTM handle long-term dependencies compared to a simple RNN?\n",
    "\n",
    "h. Advanced RNN Architectures:\n",
    "   - Task: Implement a bidirectional LSTM\n",
    "   - Question: In what scenarios might a bidirectional architecture be particularly useful?\n",
    "\n",
    "i. Training Deep Neural Networks:\n",
    "   - Task: Implement learning rate scheduling and gradient clipping\n",
    "   - Question: How do these techniques impact training stability?\n",
    "\n",
    "j. Model Interpretation:\n",
    "   - Task: Generate saliency maps for your CNN predictions\n",
    "   - Question: What insights can you gain from visualizing activations?\n",
    "\n",
    "4. Model Comparison:\n",
    "   - Task: Compare the performance of different architectures (MLP, CNN, RNN)\n",
    "   - Question: Analyze the trade-offs between model complexity and performance\n",
    "\n",
    "\n",
    "\n"
   ]
  },
  {
   "cell_type": "markdown",
   "id": "7a039fee-06a8-4778-9d6c-87c5678b79a8",
   "metadata": {},
   "source": [
    "5. Submission:"
   ]
  },
  {
   "cell_type": "code",
   "execution_count": null,
   "id": "97d8605a-aa24-46e1-8e22-378e99fc2e1a",
   "metadata": {},
   "outputs": [],
   "source": [
    "\n",
    "testset = torchvision.datasets.CIFAR10(root='./data', train=False, download=True, transform=transform)\n",
    "testloader = torch.utils.data.DataLoader(testset, batch_size=32, shuffle=False)\n",
    "\n",
    "# Use your best model to make predictions\n",
    "best_model.eval()\n",
    "predictions = []\n",
    "with torch.no_grad():\n",
    "    for images, _ in testloader:\n",
    "        outputs = best_model(images)\n",
    "        _, predicted = torch.max(outputs, 1)\n",
    "        predictions.extend(predicted.tolist())\n",
    "\n",
    "submission = pd.DataFrame({\n",
    "    'id': range(len(testset)),\n",
    "    'predicted_class': predictions\n",
    "})\n",
    "\n",
    "submission.to_csv('submission.csv', index=False)\n"
   ]
  },
  {
   "cell_type": "markdown",
   "id": "fad04b3c-82d2-4fff-af52-9287296b9076",
   "metadata": {},
   "source": [
    "6. Final Questions:\n",
    "   - Summarize the key findings from your experiments with different neural network architectures.\n",
    "   - How might you further improve the model's performance?\n",
    "   - Discuss the computational requirements of training deep neural networks and strategies for efficient training.\n",
    "   - What ethical considerations should be taken into account when deploying deep learning models?\n"
   ]
  }
 ],
 "metadata": {
  "kernelspec": {
   "display_name": "Python 3 (ipykernel)",
   "language": "python",
   "name": "python3"
  },
  "language_info": {
   "codemirror_mode": {
    "name": "ipython",
    "version": 3
   },
   "file_extension": ".py",
   "mimetype": "text/x-python",
   "name": "python",
   "nbconvert_exporter": "python",
   "pygments_lexer": "ipython3",
   "version": "3.10.12"
  }
 },
 "nbformat": 4,
 "nbformat_minor": 5
}
