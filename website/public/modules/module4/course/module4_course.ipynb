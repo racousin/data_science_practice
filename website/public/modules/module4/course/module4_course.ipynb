{
 "cells": [
  {
   "cell_type": "code",
   "execution_count": 2,
   "id": "3ef61a60-7845-48fa-87b8-2d3b793832bf",
   "metadata": {},
   "outputs": [],
   "source": [
    "# Module 4: Data Collection - Case Study Notebook\n",
    "\n",
    "import pandas as pd\n",
    "import requests\n",
    "from bs4 import BeautifulSoup\n",
    "import sqlite3\n",
    "import json\n",
    "import matplotlib.pyplot as plt\n",
    "from sklearn.datasets import load_iris"
   ]
  },
  {
   "cell_type": "code",
   "execution_count": 3,
   "id": "d36fd0f3-d0c3-420c-982e-c50386e8c5a7",
   "metadata": {},
   "outputs": [
    {
     "name": "stdout",
     "output_type": "stream",
     "text": [
      "\n",
      "1. Introduction to Data Collection\n",
      "In this notebook, we'll explore various data collection methods:\n",
      "- File-based sources (CSV, JSON)\n",
      "- Databases (SQLite)\n",
      "- APIs and Web Scraping\n",
      "- Data Manipulation with Pandas\n"
     ]
    }
   ],
   "source": [
    "# 1. Introduction to Data Collection\n",
    "\n",
    "print(\"\\n1. Introduction to Data Collection\")\n",
    "print(\"In this notebook, we'll explore various data collection methods:\")\n",
    "print(\"- File-based sources (CSV, JSON)\")\n",
    "print(\"- Databases (SQLite)\")\n",
    "print(\"- APIs and Web Scraping\")\n",
    "print(\"- Data Manipulation with Pandas\")"
   ]
  },
  {
   "cell_type": "code",
   "execution_count": null,
   "id": "892a62c5-58ff-465f-98f2-f32244e9aea9",
   "metadata": {},
   "outputs": [],
   "source": [
    "import requests\n",
    "\n",
    "# URLs of the files\n",
    "train_data_url = 'https://www.raphaelcousin.com/modules/module4/course/module4_course_train.csv'\n",
    "test_data_url = 'https://www.raphaelcousin.com/modules/module4/course/module4_course_test.csv'\n",
    "\n",
    "# Function to download a file\n",
    "def download_file(url, file_name):\n",
    "    response = requests.get(url)\n",
    "    response.raise_for_status()  # Ensure we notice bad responses\n",
    "    with open(file_name, 'wb') as file:\n",
    "        file.write(response.content)\n",
    "    print(f'Downloaded {file_name} from {url}')\n",
    "\n",
    "# Downloading the files\n",
    "download_file(train_data_url, 'module4_course_train.csv')\n",
    "download_file(test_data_url, 'module4_course_test.csv')"
   ]
  },
  {
   "cell_type": "code",
   "execution_count": 4,
   "id": "91b5aede-2716-4072-9c4d-065eca110915",
   "metadata": {},
   "outputs": [
    {
     "name": "stdout",
     "output_type": "stream",
     "text": [
      "\n",
      "2. File-based Data Sources\n",
      "CSV data (first 5 rows):\n",
      "   sepal length (cm)  sepal width (cm)  petal length (cm)  petal width (cm)  \\\n",
      "0                5.1               3.5                1.4               0.2   \n",
      "1                4.9               3.0                1.4               0.2   \n",
      "2                4.7               3.2                1.3               0.2   \n",
      "3                4.6               3.1                1.5               0.2   \n",
      "4                5.0               3.6                1.4               0.2   \n",
      "\n",
      "  species  \n",
      "0  setosa  \n",
      "1  setosa  \n",
      "2  setosa  \n",
      "3  setosa  \n",
      "4  setosa  \n",
      "\n",
      "JSON data (first 2 records):\n",
      "[\n",
      "  {\n",
      "    \"sepal length (cm)\": 5.1,\n",
      "    \"sepal width (cm)\": 3.5,\n",
      "    \"petal length (cm)\": 1.4,\n",
      "    \"petal width (cm)\": 0.2,\n",
      "    \"species\": \"setosa\"\n",
      "  },\n",
      "  {\n",
      "    \"sepal length (cm)\": 4.9,\n",
      "    \"sepal width (cm)\": 3.0,\n",
      "    \"petal length (cm)\": 1.4,\n",
      "    \"petal width (cm)\": 0.2,\n",
      "    \"species\": \"setosa\"\n",
      "  }\n",
      "]\n"
     ]
    }
   ],
   "source": [
    "# 2. File-based Data Sources\n",
    "\n",
    "print(\"\\n2. File-based Data Sources\")\n",
    "\n",
    "# CSV: Using Iris dataset from sklearn\n",
    "iris = load_iris()\n",
    "iris_df = pd.DataFrame(iris.data, columns=iris.feature_names)\n",
    "iris_df['species'] = pd.Categorical.from_codes(iris.target, iris.target_names)\n",
    "\n",
    "# Save to CSV\n",
    "iris_df.to_csv('iris_data.csv', index=False)\n",
    "\n",
    "# Read from CSV\n",
    "csv_data = pd.read_csv('iris_data.csv')\n",
    "print(\"CSV data (first 5 rows):\")\n",
    "print(csv_data.head())\n",
    "\n",
    "# JSON: Convert iris data to JSON format\n",
    "iris_json = iris_df.to_json(orient='records')\n",
    "\n",
    "# Save to JSON file\n",
    "with open('iris_data.json', 'w') as f:\n",
    "    json.dump(json.loads(iris_json), f)\n",
    "\n",
    "# Read from JSON\n",
    "with open('iris_data.json', 'r') as f:\n",
    "    json_data = json.load(f)\n",
    "print(\"\\nJSON data (first 2 records):\")\n",
    "print(json.dumps(json_data[:2], indent=2))\n"
   ]
  },
  {
   "cell_type": "code",
   "execution_count": 5,
   "id": "b891660f-7673-4e3d-8155-92e068eb0d3a",
   "metadata": {},
   "outputs": [
    {
     "name": "stdout",
     "output_type": "stream",
     "text": [
      "\n",
      "3. Database Systems\n",
      "SQL data (first 5 rows):\n",
      "   sepal length (cm)  sepal width (cm)  petal length (cm)  petal width (cm)  \\\n",
      "0                5.1               3.5                1.4               0.2   \n",
      "1                4.9               3.0                1.4               0.2   \n",
      "2                4.7               3.2                1.3               0.2   \n",
      "3                4.6               3.1                1.5               0.2   \n",
      "4                5.0               3.6                1.4               0.2   \n",
      "\n",
      "  species  \n",
      "0  setosa  \n",
      "1  setosa  \n",
      "2  setosa  \n",
      "3  setosa  \n",
      "4  setosa  \n"
     ]
    }
   ],
   "source": [
    "\n",
    "# 3. Database Systems\n",
    "\n",
    "print(\"\\n3. Database Systems\")\n",
    "\n",
    "# SQLite\n",
    "conn = sqlite3.connect('iris_database.db')\n",
    "iris_df.to_sql('iris', conn, if_exists='replace', index=False)\n",
    "\n",
    "# Query the database\n",
    "query = \"SELECT * FROM iris LIMIT 5\"\n",
    "sql_data = pd.read_sql_query(query, conn)\n",
    "print(\"SQL data (first 5 rows):\")\n",
    "print(sql_data)\n",
    "\n",
    "conn.close()\n"
   ]
  },
  {
   "cell_type": "code",
   "execution_count": 6,
   "id": "ab3191b8-2093-43ea-8277-ae0a541733d0",
   "metadata": {},
   "outputs": [
    {
     "name": "stdout",
     "output_type": "stream",
     "text": [
      "\n",
      "4. APIs and Web Scraping\n",
      "API data:\n",
      "{\n",
      "  \"userId\": 1,\n",
      "  \"id\": 1,\n",
      "  \"title\": \"sunt aut facere repellat provident occaecati excepturi optio reprehenderit\",\n",
      "  \"body\": \"quia et suscipit\\nsuscipit recusandae consequuntur expedita et cum\\nreprehenderit molestiae ut ut quas totam\\nnostrum rerum est autem sunt rem eveniet architecto\"\n",
      "}\n"
     ]
    }
   ],
   "source": [
    "# 4. APIs and Web Scraping\n",
    "\n",
    "print(\"\\n4. APIs and Web Scraping\")\n",
    "\n",
    "# RESTful API: Using JSONPlaceholder (a free online REST API)\n",
    "api_url = \"https://jsonplaceholder.typicode.com/posts/1\"\n",
    "response = requests.get(api_url)\n",
    "api_data = response.json()\n",
    "print(\"API data:\")\n",
    "print(json.dumps(api_data, indent=2))"
   ]
  },
  {
   "cell_type": "code",
   "execution_count": 7,
   "id": "e29809f5-5095-4386-97bc-197eaa0d20d2",
   "metadata": {},
   "outputs": [
    {
     "name": "stdout",
     "output_type": "stream",
     "text": [
      "\n",
      "Web Scraping data:\n",
      "Quote: “The world as we have created it is a process of our thinking. It cannot be changed without changing our thinking.”\n",
      "Author: Albert Einstein\n"
     ]
    }
   ],
   "source": [
    "\n",
    "# Web Scraping: Scraping a quote from Quotes to Scrape\n",
    "url = \"http://quotes.toscrape.com\"\n",
    "page = requests.get(url)\n",
    "soup = BeautifulSoup(page.content, 'html.parser')\n",
    "quote = soup.find('span', class_='text').get_text()\n",
    "author = soup.find('small', class_='author').get_text()\n",
    "print(\"\\nWeb Scraping data:\")\n",
    "print(f\"Quote: {quote}\")\n",
    "print(f\"Author: {author}\")"
   ]
  },
  {
   "cell_type": "code",
   "execution_count": 8,
   "id": "b3c0fd8f-bbae-4a52-9e2c-5becd6bf5f1b",
   "metadata": {},
   "outputs": [
    {
     "name": "stdout",
     "output_type": "stream",
     "text": [
      "\n",
      "5. Data Manipulation with Pandas\n",
      "\n",
      "Dataset Info:\n",
      "<class 'pandas.core.frame.DataFrame'>\n",
      "RangeIndex: 150 entries, 0 to 149\n",
      "Data columns (total 5 columns):\n",
      " #   Column             Non-Null Count  Dtype  \n",
      "---  ------             --------------  -----  \n",
      " 0   sepal length (cm)  150 non-null    float64\n",
      " 1   sepal width (cm)   150 non-null    float64\n",
      " 2   petal length (cm)  150 non-null    float64\n",
      " 3   petal width (cm)   150 non-null    float64\n",
      " 4   species            150 non-null    object \n",
      "dtypes: float64(4), object(1)\n",
      "memory usage: 6.0+ KB\n",
      "None\n",
      "\n",
      "Summary Statistics:\n",
      "       sepal length (cm)  sepal width (cm)  petal length (cm)  \\\n",
      "count         150.000000        150.000000         150.000000   \n",
      "mean            5.843333          3.057333           3.758000   \n",
      "std             0.828066          0.435866           1.765298   \n",
      "min             4.300000          2.000000           1.000000   \n",
      "25%             5.100000          2.800000           1.600000   \n",
      "50%             5.800000          3.000000           4.350000   \n",
      "75%             6.400000          3.300000           5.100000   \n",
      "max             7.900000          4.400000           6.900000   \n",
      "\n",
      "       petal width (cm)  \n",
      "count        150.000000  \n",
      "mean           1.199333  \n",
      "std            0.762238  \n",
      "min            0.100000  \n",
      "25%            0.300000  \n",
      "50%            1.300000  \n",
      "75%            1.800000  \n",
      "max            2.500000  \n",
      "\n",
      "Mean values for each species:\n",
      "            sepal length (cm)  sepal width (cm)  petal length (cm)  \\\n",
      "species                                                              \n",
      "setosa                  5.006             3.428              1.462   \n",
      "versicolor              5.936             2.770              4.260   \n",
      "virginica               6.588             2.974              5.552   \n",
      "\n",
      "            petal width (cm)  \n",
      "species                       \n",
      "setosa                 0.246  \n",
      "versicolor             1.326  \n",
      "virginica              2.026  \n"
     ]
    },
    {
     "data": {
      "text/plain": [
       "<Figure size 1000x600 with 0 Axes>"
      ]
     },
     "metadata": {},
     "output_type": "display_data"
    },
    {
     "data": {
      "image/png": "[encoded data removed]",
      "text/plain": [
       "<Figure size 640x480 with 4 Axes>"
      ]
     },
     "metadata": {},
     "output_type": "display_data"
    }
   ],
   "source": [
    "\n",
    "# 5. Data Manipulation with Pandas\n",
    "\n",
    "print(\"\\n5. Data Manipulation with Pandas\")\n",
    "\n",
    "# Load the Iris dataset\n",
    "df = pd.read_csv('iris_data.csv')\n",
    "# Display basic information about the dataset\n",
    "print(\"\\nDataset Info:\")\n",
    "print(df.info())\n",
    "\n",
    "# Display summary statistics\n",
    "print(\"\\nSummary Statistics:\")\n",
    "print(df.describe())\n",
    "\n",
    "# Group by species and calculate mean\n",
    "species_mean = df.groupby('species').mean()\n",
    "print(\"\\nMean values for each species:\")\n",
    "print(species_mean)\n",
    "\n",
    "# Create a new feature\n",
    "df['sepal_area'] = df['sepal length (cm)'] * df['sepal width (cm)']\n",
    "\n",
    "# Visualize the data\n",
    "plt.figure(figsize=(10, 6))\n",
    "df.boxplot(column=['sepal length (cm)', 'sepal width (cm)', 'petal length (cm)', 'petal width (cm)'], by='species')\n",
    "plt.title('Iris Features by Species')\n",
    "plt.suptitle('')\n",
    "plt.tight_layout()\n",
    "plt.show()"
   ]
  },
  {
   "cell_type": "code",
   "execution_count": null,
   "id": "e40f1608-3b71-4230-a928-98fa3003aaa2",
   "metadata": {},
   "outputs": [],
   "source": []
  }
 ],
 "metadata": {
  "kernelspec": {
   "display_name": "Python 3 (ipykernel)",
   "language": "python",
   "name": "python3"
  },
  "language_info": {
   "codemirror_mode": {
    "name": "ipython",
    "version": 3
   },
   "file_extension": ".py",
   "mimetype": "text/x-python",
   "name": "python",
   "nbconvert_exporter": "python",
   "pygments_lexer": "ipython3",
   "version": "3.10.12"
  }
 },
 "nbformat": 4,
 "nbformat_minor": 5
}
