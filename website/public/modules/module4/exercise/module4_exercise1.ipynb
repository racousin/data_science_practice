{
 "cells": [
  {
   "cell_type": "code",
   "execution_count": 1,
   "id": "5ed6d52b-732b-4462-8f1d-75741067ecba",
   "metadata": {},
   "outputs": [],
   "source": [
    "import pandas as pd\n",
    "import matplotlib.pyplot as plt\n",
    "import numpy as np\n",
    "import seaborn as sns"
   ]
  },
  {
   "cell_type": "markdown",
   "id": "ea3ee8dd-5dae-4900-8f89-2f57a02231ff",
   "metadata": {},
   "source": [
    "## Data Collection"
   ]
  },
  {
   "cell_type": "markdown",
   "id": "dff7b6c3-5df9-4f2c-87e9-38d9a812cbcc",
   "metadata": {},
   "source": [
    "### Files sources"
   ]
  },
  {
   "cell_type": "code",
   "execution_count": 25,
   "id": "19b8c48c-9f5c-4796-b25e-cd52e1a5dc22",
   "metadata": {},
   "outputs": [
    {
     "name": "stdout",
     "output_type": "stream",
     "text": [
      "Downloaded module4_exercise_train.zip from https://www.raphaelcousin.com/modules/module4/exercise/module4_exercise_train.zip\n",
      "Downloaded Neighborhood_Market_data.csv from https://www.raphaelcousin.com/modules/module4/exercise/Neighborhood_Market_data.csv\n"
     ]
    }
   ],
   "source": [
    "# URLs of the files\n",
    "train_datas_url = 'https://www.raphaelcousin.com/modules/module4/exercise/module4_exercise_train.zip'\n",
    "test_data_url = 'https://www.raphaelcousin.com/modules/module4/exercise/Neighborhood_Market_data.csv'\n",
    "\n",
    "# Function to download a file\n",
    "def download_file(url, file_name):\n",
    "    response = requests.get(url)\n",
    "    response.raise_for_status()  # Ensure we notice bad responses\n",
    "    with open(file_name, 'wb') as file:\n",
    "        file.write(response.content)\n",
    "    print(f'Downloaded {file_name} from {url}')\n",
    "\n",
    "# Downloading the files\n",
    "download_file(train_datas_url, 'module4_exercise_train.zip')\n",
    "download_file(test_data_url, 'Neighborhood_Market_data.csv')"
   ]
  },
  {
   "cell_type": "markdown",
   "id": "72397636-457a-4f62-818c-18d4967396d1",
   "metadata": {},
   "source": [
    "#### CityMart"
   ]
  },
  {
   "cell_type": "code",
   "execution_count": 3,
   "id": "13aa4dce-b3ac-4b52-939c-081445f17494",
   "metadata": {},
   "outputs": [],
   "source": [
    "# read \"CityMart_data.csv\""
   ]
  },
  {
   "cell_type": "markdown",
   "id": "f4d16f20-40d2-457c-a3fc-5f7a416be0aa",
   "metadata": {},
   "source": [
    "#### Greenfield_Grocers"
   ]
  },
  {
   "cell_type": "code",
   "execution_count": 4,
   "id": "5620b628-b30d-4670-a2d5-6576c009f5dc",
   "metadata": {},
   "outputs": [],
   "source": [
    "# read \"Greenfield_Grocers_data.csv\""
   ]
  },
  {
   "cell_type": "markdown",
   "id": "86db4848-6a0f-4742-b4ce-4afe50fd1c09",
   "metadata": {},
   "source": [
    "#### Outlet_data"
   ]
  },
  {
   "cell_type": "code",
   "execution_count": 5,
   "id": "a7738fac-9711-4cc7-9b12-e564c539ba9c",
   "metadata": {},
   "outputs": [],
   "source": [
    "# read \"SuperSaver_Outlet_data.xlsx\""
   ]
  },
  {
   "cell_type": "markdown",
   "id": "8e716a08-25b0-4554-9627-285c4c03212c",
   "metadata": {},
   "source": [
    "#### HighStreet_Bazaar"
   ]
  },
  {
   "cell_type": "code",
   "execution_count": 6,
   "id": "f0fad164-436e-46db-acba-04a634c0b00c",
   "metadata": {},
   "outputs": [],
   "source": [
    "# read 'HighStreet_Bazaar_data.json'"
   ]
  },
  {
   "cell_type": "markdown",
   "id": "f851e40e-4644-4b3f-9636-04ec5010ba89",
   "metadata": {},
   "source": [
    "#### Aggregate"
   ]
  },
  {
   "cell_type": "markdown",
   "id": "75f9bbff-1f14-48f3-a6f8-76ac701644cf",
   "metadata": {},
   "source": [
    "#### Simple baseline"
   ]
  },
  {
   "cell_type": "code",
   "execution_count": 7,
   "id": "143b8d21-b305-4e5a-a83a-8d1d3359d173",
   "metadata": {},
   "outputs": [],
   "source": [
    "from sklearn.model_selection import KFold\n",
    "from sklearn.metrics import mean_absolute_error, accuracy_score\n",
    "from sklearn.preprocessing import StandardScaler, MinMaxScaler\n",
    "from sklearn.linear_model import LinearRegression, LogisticRegression\n",
    "from sklearn.ensemble import RandomForestClassifier\n",
    "import numpy as np\n",
    "\n",
    "def get_simple_baseline(data, fillna_value=-1, drop_cols=None, k_fold=5, scaler='standard', model='linear', metric='mae', target_col=None, X_data_test=None):\n",
    "    \n",
    "    data = data.copy()\n",
    "    # Handle missing values\n",
    "    data.fillna(fillna_value, inplace=True)\n",
    "    if X_data_test is not None:\n",
    "        X_data_test = X_data_test.copy()\n",
    "        X_data_test.fillna(fillna_value, inplace=True)\n",
    "    \n",
    "    # Drop unwanted columns\n",
    "    if drop_cols:\n",
    "        data.drop(drop_cols, axis=1, inplace=True)\n",
    "        if X_data_test is not None:\n",
    "            X_data_test.drop(drop_cols, axis=1, inplace=True)\n",
    "\n",
    "    # Split data into features (X) and target (y)\n",
    "    y = data[target_col]\n",
    "    X = data.drop(target_col, axis=1)\n",
    "\n",
    "    # Feature scaling\n",
    "    if scaler == 'standard':\n",
    "        scaler = StandardScaler()\n",
    "    elif scaler == 'minmax':\n",
    "        scaler = MinMaxScaler()\n",
    "    else:\n",
    "        scaler = None\n",
    "    \n",
    "    if scaler:\n",
    "        X = scaler.fit_transform(X)\n",
    "        if X_data_test is not None:\n",
    "            X_data_test = scaler.transform(X_data_test)\n",
    "\n",
    "    # Initialize the model\n",
    "    if model == 'linear':\n",
    "        model = LinearRegression()\n",
    "    elif model == 'logistic':\n",
    "        model = LogisticRegression()\n",
    "    elif model == 'random_forest':\n",
    "        model = RandomForestClassifier()\n",
    "    else:\n",
    "        raise ValueError(\"Unsupported model type\")\n",
    "\n",
    "    # Initialize cross-validation\n",
    "    kf = KFold(n_splits=k_fold, shuffle=True, random_state=42)\n",
    "    scores = []\n",
    "\n",
    "    # Train and evaluate using k-fold cross-validation\n",
    "    for train_index, test_index in kf.split(X):\n",
    "        X_train, X_test = X[train_index], X[test_index]\n",
    "        y_train, y_test = y.iloc[train_index], y.iloc[test_index]\n",
    "        \n",
    "        # Train the model\n",
    "        model.fit(X_train, y_train)\n",
    "        \n",
    "        # Make predictions\n",
    "        y_pred = model.predict(X_test)\n",
    "        \n",
    "        # Evaluate using the specified metric\n",
    "        if metric == 'mae':\n",
    "            score = mean_absolute_error(y_test, y_pred)\n",
    "        elif metric == 'accuracy':\n",
    "            score = accuracy_score(y_test, np.round(y_pred))\n",
    "        else:\n",
    "            raise ValueError(\"Unsupported metric\")\n",
    "\n",
    "        scores.append(score)\n",
    "\n",
    "    if X_data_test is not None:\n",
    "        model.fit(X, y)\n",
    "        return np.mean(scores), model.predict(X_data_test)\n",
    "    \n",
    "    # Return the average score\n",
    "    return np.mean(scores)"
   ]
  },
  {
   "cell_type": "code",
   "execution_count": 8,
   "id": "82b7a46a-7c5e-4288-be2d-43269d0e859e",
   "metadata": {},
   "outputs": [],
   "source": [
    "# get_simple_baseline(data, fillna_value=-1, drop_cols=['store_name', 'last_modified'], k_fold=5, scaler='standard', model='linear', metric='mae', target_col='quantity_sold')"
   ]
  },
  {
   "cell_type": "markdown",
   "id": "697e0db3-f0c3-4a9e-b032-a355e23e866c",
   "metadata": {},
   "source": [
    "### API sources"
   ]
  },
  {
   "cell_type": "code",
   "execution_count": 9,
   "id": "1f3436ce-88b5-49de-8209-05291c260ac0",
   "metadata": {},
   "outputs": [],
   "source": [
    "def get_api(endpoint_url):\n",
    "    try:\n",
    "        # Make the GET request to the mock API\n",
    "        response = requests.get(endpoint_url)\n",
    "\n",
    "        if response.status_code == 200:\n",
    "            data = response.json()\n",
    "            print(data[\"message\"])\n",
    "            return data['data']\n",
    "        else:\n",
    "            print(f\"Failed to retrieve volume data. Status code: {response.status_code}\")\n",
    "    \n",
    "    except Exception as e:\n",
    "        print(f\"An error occurred: {e}\")\n",
    "# password = \n",
    "# prices = "
   ]
  },
  {
   "cell_type": "code",
   "execution_count": 10,
   "id": "ea5a0066-38cc-46ce-8bcb-ab70c2ac8bed",
   "metadata": {
    "scrolled": true
   },
   "outputs": [],
   "source": [
    "# df_prices = "
   ]
  },
  {
   "cell_type": "markdown",
   "id": "4c0880c2-2338-4e43-a04c-fdaf90275592",
   "metadata": {},
   "source": [
    "#### Aggregate"
   ]
  },
  {
   "cell_type": "code",
   "execution_count": 11,
   "id": "7dc3484b-5ebc-4769-9889-90253a05d44c",
   "metadata": {},
   "outputs": [],
   "source": [
    "# data = pd.merge(data, df_prices, left_index=True, right_index=True, how='left')\n",
    "# data"
   ]
  },
  {
   "cell_type": "code",
   "execution_count": 12,
   "id": "ceb325b3-06f6-4c01-965e-08a833ed7c49",
   "metadata": {},
   "outputs": [],
   "source": [
    "# get_simple_baseline(data, fillna_value=-1, drop_cols=['store_name', 'last_modified'], k_fold=5, scaler='standard', model='linear', metric='mae', target_col='quantity_sold')"
   ]
  },
  {
   "cell_type": "markdown",
   "id": "2500a918-74a0-44eb-8a95-ec35cd3617ae",
   "metadata": {},
   "source": [
    "### Scrapping sources"
   ]
  },
  {
   "cell_type": "code",
   "execution_count": 13,
   "id": "f8f373c5-452d-408c-a9a4-5e905b361175",
   "metadata": {},
   "outputs": [
    {
     "data": {
      "text/html": [
       "<div>\n",
       "<style scoped>\n",
       "    .dataframe tbody tr th:only-of-type {\n",
       "        vertical-align: middle;\n",
       "    }\n",
       "\n",
       "    .dataframe tbody tr th {\n",
       "        vertical-align: top;\n",
       "    }\n",
       "\n",
       "    .dataframe thead th {\n",
       "        text-align: right;\n",
       "    }\n",
       "</style>\n",
       "<table border=\"1\" class=\"dataframe\">\n",
       "  <thead>\n",
       "    <tr style=\"text-align: right;\">\n",
       "      <th></th>\n",
       "    </tr>\n",
       "  </thead>\n",
       "  <tbody>\n",
       "  </tbody>\n",
       "</table>\n",
       "</div>"
      ],
      "text/plain": [
       "Empty DataFrame\n",
       "Columns: []\n",
       "Index: []"
      ]
     },
     "execution_count": 13,
     "metadata": {},
     "output_type": "execute_result"
    }
   ],
   "source": [
    "from selenium import webdriver\n",
    "from bs4 import BeautifulSoup\n",
    "import pandas as pd\n",
    "import time\n",
    "\n",
    "# Set up the Selenium WebDriver (e.g., Chrome)\n",
    "driver = webdriver.Chrome()  # Make sure ChromeDriver is installed\n",
    "# driver = webdriver.Firefox()\n",
    "# driver = webdriver.Edge()\n",
    "# driver = webdriver.Safari()\n",
    "\n",
    "# Open the URL\n",
    "url = 'https://www.raphaelcousin.com/module4/scrapable-data'\n",
    "driver.get(url)\n",
    "\n",
    "# Wait for the page to fully load (increase time if needed)\n",
    "time.sleep(5)\n",
    "\n",
    "# Get the fully rendered page source\n",
    "html = driver.page_source\n",
    "\n",
    "# Parse the HTML with BeautifulSoup\n",
    "soup = BeautifulSoup(html, 'html.parser')\n",
    "\n",
    "# Initialize lists to store scraped data\n",
    "exercise_data = []\n",
    "\n",
    "# Find both tables\n",
    "tables = soup.find_all('table')\n",
    "\n",
    "# Close the Selenium WebDriver\n",
    "driver.quit()\n",
    "\n",
    "# Scrape the second table (Exercise Data)\n",
    "course_table = tables[1]\n",
    "for row in course_table.find('tbody').find_all('tr'):\n",
    "    cols = row.find_all('td')\n",
    "    #exercise_data.append({ TODO })\n",
    "\n",
    "# Convert the lists to pandas DataFrames\n",
    "df_exercise = pd.DataFrame(exercise_data)\n",
    "df_exercise\n"
   ]
  },
  {
   "cell_type": "markdown",
   "id": "7666fdbc-4735-4758-a3fe-8a1c87eff295",
   "metadata": {},
   "source": [
    "#### Aggregate"
   ]
  },
  {
   "cell_type": "code",
   "execution_count": 14,
   "id": "20d8a96a-aad2-4103-92b8-8635987bfa2c",
   "metadata": {},
   "outputs": [],
   "source": [
    "# data = pd.merge(data, df_exercise, left_index=True, right_index=True, how='left')"
   ]
  },
  {
   "cell_type": "code",
   "execution_count": 15,
   "id": "d8ab523c-53e6-43f7-8602-55bb32592305",
   "metadata": {},
   "outputs": [],
   "source": [
    "# get_simple_baseline(data, fillna_value=-1, drop_cols=['store_name', 'last_modified'], k_fold=5, scaler='standard', model='linear', metric='mae', target_col='quantity_sold')"
   ]
  },
  {
   "cell_type": "markdown",
   "id": "032415ae-f5d6-4689-9835-44124fa4afa2",
   "metadata": {},
   "source": [
    "### Generating Submission File"
   ]
  },
  {
   "cell_type": "code",
   "execution_count": 19,
   "id": "51ebcf1c-dd7a-4dbd-8b74-326c45c81872",
   "metadata": {},
   "outputs": [
    {
     "data": {
      "text/html": [
       "<div>\n",
       "<style scoped>\n",
       "    .dataframe tbody tr th:only-of-type {\n",
       "        vertical-align: middle;\n",
       "    }\n",
       "\n",
       "    .dataframe tbody tr th {\n",
       "        vertical-align: top;\n",
       "    }\n",
       "\n",
       "    .dataframe thead th {\n",
       "        text-align: right;\n",
       "    }\n",
       "</style>\n",
       "<table border=\"1\" class=\"dataframe\">\n",
       "  <thead>\n",
       "    <tr style=\"text-align: right;\">\n",
       "      <th></th>\n",
       "      <th>store_name</th>\n",
       "      <th>mass</th>\n",
       "      <th>dimension_length</th>\n",
       "      <th>dimension_width</th>\n",
       "      <th>dimension_height</th>\n",
       "      <th>days_since_last_purchase</th>\n",
       "      <th>package_volume</th>\n",
       "      <th>stock_age</th>\n",
       "      <th>last_modified</th>\n",
       "    </tr>\n",
       "    <tr>\n",
       "      <th>item_code</th>\n",
       "      <th></th>\n",
       "      <th></th>\n",
       "      <th></th>\n",
       "      <th></th>\n",
       "      <th></th>\n",
       "      <th></th>\n",
       "      <th></th>\n",
       "      <th></th>\n",
       "      <th></th>\n",
       "    </tr>\n",
       "  </thead>\n",
       "  <tbody>\n",
       "    <tr>\n",
       "      <th>P0002</th>\n",
       "      <td>Neighborhood_Market</td>\n",
       "      <td>5.51</td>\n",
       "      <td>51.79</td>\n",
       "      <td>46.72</td>\n",
       "      <td>72.02</td>\n",
       "      <td>344</td>\n",
       "      <td>174261.666176</td>\n",
       "      <td>287</td>\n",
       "      <td>2023-01-02</td>\n",
       "    </tr>\n",
       "    <tr>\n",
       "      <th>P0004</th>\n",
       "      <td>Neighborhood_Market</td>\n",
       "      <td>3.97</td>\n",
       "      <td>84.63</td>\n",
       "      <td>39.42</td>\n",
       "      <td>42.46</td>\n",
       "      <td>189</td>\n",
       "      <td>141651.425916</td>\n",
       "      <td>387</td>\n",
       "      <td>2023-01-04</td>\n",
       "    </tr>\n",
       "    <tr>\n",
       "      <th>P0005</th>\n",
       "      <td>Neighborhood_Market</td>\n",
       "      <td>5.99</td>\n",
       "      <td>39.33</td>\n",
       "      <td>83.51</td>\n",
       "      <td>5.12</td>\n",
       "      <td>183</td>\n",
       "      <td>16816.375296</td>\n",
       "      <td>382</td>\n",
       "      <td>2023-01-05</td>\n",
       "    </tr>\n",
       "    <tr>\n",
       "      <th>P0010</th>\n",
       "      <td>Neighborhood_Market</td>\n",
       "      <td>4.10</td>\n",
       "      <td>77.43</td>\n",
       "      <td>49.56</td>\n",
       "      <td>74.41</td>\n",
       "      <td>208</td>\n",
       "      <td>285543.225828</td>\n",
       "      <td>656</td>\n",
       "      <td>2023-01-10</td>\n",
       "    </tr>\n",
       "    <tr>\n",
       "      <th>P0013</th>\n",
       "      <td>Neighborhood_Market</td>\n",
       "      <td>6.96</td>\n",
       "      <td>95.39</td>\n",
       "      <td>34.61</td>\n",
       "      <td>23.24</td>\n",
       "      <td>114</td>\n",
       "      <td>76725.649196</td>\n",
       "      <td>755</td>\n",
       "      <td>2023-01-13</td>\n",
       "    </tr>\n",
       "    <tr>\n",
       "      <th>...</th>\n",
       "      <td>...</td>\n",
       "      <td>...</td>\n",
       "      <td>...</td>\n",
       "      <td>...</td>\n",
       "      <td>...</td>\n",
       "      <td>...</td>\n",
       "      <td>...</td>\n",
       "      <td>...</td>\n",
       "      <td>...</td>\n",
       "    </tr>\n",
       "    <tr>\n",
       "      <th>P1972</th>\n",
       "      <td>Neighborhood_Market</td>\n",
       "      <td>5.68</td>\n",
       "      <td>17.89</td>\n",
       "      <td>71.87</td>\n",
       "      <td>95.67</td>\n",
       "      <td>296</td>\n",
       "      <td>123008.113881</td>\n",
       "      <td>411</td>\n",
       "      <td>2028-05-25</td>\n",
       "    </tr>\n",
       "    <tr>\n",
       "      <th>P1977</th>\n",
       "      <td>Neighborhood_Market</td>\n",
       "      <td>1.53</td>\n",
       "      <td>84.32</td>\n",
       "      <td>64.91</td>\n",
       "      <td>66.30</td>\n",
       "      <td>171</td>\n",
       "      <td>362873.902560</td>\n",
       "      <td>702</td>\n",
       "      <td>2028-05-30</td>\n",
       "    </tr>\n",
       "    <tr>\n",
       "      <th>P1991</th>\n",
       "      <td>Neighborhood_Market</td>\n",
       "      <td>7.79</td>\n",
       "      <td>84.46</td>\n",
       "      <td>82.96</td>\n",
       "      <td>52.14</td>\n",
       "      <td>50</td>\n",
       "      <td>365334.635424</td>\n",
       "      <td>190</td>\n",
       "      <td>2028-06-13</td>\n",
       "    </tr>\n",
       "    <tr>\n",
       "      <th>P1997</th>\n",
       "      <td>Neighborhood_Market</td>\n",
       "      <td>8.91</td>\n",
       "      <td>66.50</td>\n",
       "      <td>5.79</td>\n",
       "      <td>41.11</td>\n",
       "      <td>336</td>\n",
       "      <td>15828.788850</td>\n",
       "      <td>177</td>\n",
       "      <td>2028-06-19</td>\n",
       "    </tr>\n",
       "    <tr>\n",
       "      <th>P1999</th>\n",
       "      <td>Neighborhood_Market</td>\n",
       "      <td>2.03</td>\n",
       "      <td>66.77</td>\n",
       "      <td>60.18</td>\n",
       "      <td>73.20</td>\n",
       "      <td>190</td>\n",
       "      <td>294133.601520</td>\n",
       "      <td>806</td>\n",
       "      <td>2028-06-21</td>\n",
       "    </tr>\n",
       "  </tbody>\n",
       "</table>\n",
       "<p>409 rows × 9 columns</p>\n",
       "</div>"
      ],
      "text/plain": [
       "                    store_name  mass  dimension_length  dimension_width  \\\n",
       "item_code                                                                 \n",
       "P0002      Neighborhood_Market  5.51             51.79            46.72   \n",
       "P0004      Neighborhood_Market  3.97             84.63            39.42   \n",
       "P0005      Neighborhood_Market  5.99             39.33            83.51   \n",
       "P0010      Neighborhood_Market  4.10             77.43            49.56   \n",
       "P0013      Neighborhood_Market  6.96             95.39            34.61   \n",
       "...                        ...   ...               ...              ...   \n",
       "P1972      Neighborhood_Market  5.68             17.89            71.87   \n",
       "P1977      Neighborhood_Market  1.53             84.32            64.91   \n",
       "P1991      Neighborhood_Market  7.79             84.46            82.96   \n",
       "P1997      Neighborhood_Market  8.91             66.50             5.79   \n",
       "P1999      Neighborhood_Market  2.03             66.77            60.18   \n",
       "\n",
       "           dimension_height  days_since_last_purchase  package_volume  \\\n",
       "item_code                                                               \n",
       "P0002                 72.02                       344   174261.666176   \n",
       "P0004                 42.46                       189   141651.425916   \n",
       "P0005                  5.12                       183    16816.375296   \n",
       "P0010                 74.41                       208   285543.225828   \n",
       "P0013                 23.24                       114    76725.649196   \n",
       "...                     ...                       ...             ...   \n",
       "P1972                 95.67                       296   123008.113881   \n",
       "P1977                 66.30                       171   362873.902560   \n",
       "P1991                 52.14                        50   365334.635424   \n",
       "P1997                 41.11                       336    15828.788850   \n",
       "P1999                 73.20                       190   294133.601520   \n",
       "\n",
       "           stock_age last_modified  \n",
       "item_code                           \n",
       "P0002            287    2023-01-02  \n",
       "P0004            387    2023-01-04  \n",
       "P0005            382    2023-01-05  \n",
       "P0010            656    2023-01-10  \n",
       "P0013            755    2023-01-13  \n",
       "...              ...           ...  \n",
       "P1972            411    2028-05-25  \n",
       "P1977            702    2028-05-30  \n",
       "P1991            190    2028-06-13  \n",
       "P1997            177    2028-06-19  \n",
       "P1999            806    2028-06-21  \n",
       "\n",
       "[409 rows x 9 columns]"
      ]
     },
     "execution_count": 19,
     "metadata": {},
     "output_type": "execute_result"
    }
   ],
   "source": [
    "# X_test =  read  Neighborhood_Market_data\n",
    "\n",
    "# read\n",
    "df_StoreN =  pd.read_csv(\"Neighborhood_Market_data.csv\", sep=\",\", index_col='item_code')\n",
    "df_StoreN"
   ]
  },
  {
   "cell_type": "code",
   "execution_count": 17,
   "id": "dada6c87-c1a3-4cfb-bd1c-326908e94276",
   "metadata": {},
   "outputs": [],
   "source": [
    "# df_StoreN = pd.merge(df_StoreN, df_prices, left_index=True, right_index=True, how='left')\n",
    "# df_StoreN = pd.merge(df_StoreN, df_exercise, left_index=True, right_index=True, how='left')"
   ]
  },
  {
   "cell_type": "code",
   "execution_count": 21,
   "id": "b8d5c235-2415-42eb-848e-b1fe02800531",
   "metadata": {},
   "outputs": [],
   "source": [
    "# _, x_pred = get_simple_baseline(data, fillna_value=-1, drop_cols=['store_name', 'last_modified'], k_fold=5, scaler='standard', model='linear', metric='mae', target_col='quantity_sold', X_data_test = df_StoreN)"
   ]
  },
  {
   "cell_type": "code",
   "execution_count": 22,
   "id": "65d179ac-e982-4a06-931f-8e6fdf24dc7d",
   "metadata": {},
   "outputs": [
    {
     "data": {
      "text/html": [
       "<div>\n",
       "<style scoped>\n",
       "    .dataframe tbody tr th:only-of-type {\n",
       "        vertical-align: middle;\n",
       "    }\n",
       "\n",
       "    .dataframe tbody tr th {\n",
       "        vertical-align: top;\n",
       "    }\n",
       "\n",
       "    .dataframe thead th {\n",
       "        text-align: right;\n",
       "    }\n",
       "</style>\n",
       "<table border=\"1\" class=\"dataframe\">\n",
       "  <thead>\n",
       "    <tr style=\"text-align: right;\">\n",
       "      <th></th>\n",
       "      <th>item_code</th>\n",
       "      <th>quantity_sold</th>\n",
       "    </tr>\n",
       "  </thead>\n",
       "  <tbody>\n",
       "    <tr>\n",
       "      <th>0</th>\n",
       "      <td>P0002</td>\n",
       "      <td>0</td>\n",
       "    </tr>\n",
       "    <tr>\n",
       "      <th>1</th>\n",
       "      <td>P0004</td>\n",
       "      <td>0</td>\n",
       "    </tr>\n",
       "    <tr>\n",
       "      <th>2</th>\n",
       "      <td>P0005</td>\n",
       "      <td>0</td>\n",
       "    </tr>\n",
       "    <tr>\n",
       "      <th>3</th>\n",
       "      <td>P0010</td>\n",
       "      <td>0</td>\n",
       "    </tr>\n",
       "    <tr>\n",
       "      <th>4</th>\n",
       "      <td>P0013</td>\n",
       "      <td>0</td>\n",
       "    </tr>\n",
       "  </tbody>\n",
       "</table>\n",
       "</div>"
      ],
      "text/plain": [
       "  item_code  quantity_sold\n",
       "0     P0002              0\n",
       "1     P0004              0\n",
       "2     P0005              0\n",
       "3     P0010              0\n",
       "4     P0013              0"
      ]
     },
     "execution_count": 22,
     "metadata": {},
     "output_type": "execute_result"
    }
   ],
   "source": [
    "submission = pd.DataFrame({\n",
    "    'item_code': df_StoreN.index,\n",
    "    'quantity_sold': 0 # your_prediction\n",
    "})\n",
    "\n",
    "submission.to_csv('submission.csv', index=False, sep=',')\n",
    "submission.head()"
   ]
  }
 ],
 "metadata": {
  "kernelspec": {
   "display_name": "Python 3 (ipykernel)",
   "language": "python",
   "name": "python3"
  },
  "language_info": {
   "codemirror_mode": {
    "name": "ipython",
    "version": 3
   },
   "file_extension": ".py",
   "mimetype": "text/x-python",
   "name": "python",
   "nbconvert_exporter": "python",
   "pygments_lexer": "ipython3",
   "version": "3.12.3"
  }
 },
 "nbformat": 4,
 "nbformat_minor": 5
}
