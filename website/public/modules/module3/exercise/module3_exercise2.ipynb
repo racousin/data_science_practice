{
 "cells": [
  {
   "cell_type": "code",
   "execution_count": 6,
   "id": "32854d75-093f-46c0-8b84-1fe9c6c1bfa5",
   "metadata": {},
   "outputs": [],
   "source": [
    "import pandas as pd\n",
    "import matplotlib.pyplot as plt\n",
    "import numpy as np\n",
    "\n",
    "from sklearn.metrics import mean_absolute_error"
   ]
  },
  {
   "cell_type": "markdown",
   "id": "623f9a8c-e5e1-46a7-9dd1-1ef0e9cec868",
   "metadata": {},
   "source": [
    "### Data Collection"
   ]
  },
  {
   "cell_type": "code",
   "execution_count": null,
   "id": "923f12cb-09c7-4952-b9d3-faf1ff9ada52",
   "metadata": {},
   "outputs": [],
   "source": [
    "def load_data(path_src):\n",
    "    \"\"\"Load data from a CSV file.\"\"\"\n",
    "    return pd.read_csv(path_src)"
   ]
  },
  {
   "cell_type": "markdown",
   "id": "f5a30503-71a9-44b4-aa3d-9673e52d3491",
   "metadata": {},
   "source": [
    "### Data analysis"
   ]
  },
  {
   "cell_type": "code",
   "execution_count": null,
   "id": "295ef011-09e1-4f75-a1aa-0494b4e7a228",
   "metadata": {},
   "outputs": [],
   "source": [
    "def data_analysis(data):\n",
    "    \"\"\"Perform data analysis like checking for missing values, outliers, etc.\"\"\"\n",
    "    # Example: print basic stats\n",
    "    print(data.describe())\n",
    "    print(data.info())"
   ]
  },
  {
   "cell_type": "markdown",
   "id": "b0e39a67-2230-4809-9ca9-e68dbd02caf6",
   "metadata": {},
   "source": [
    "### Data Cleaning and Preparation"
   ]
  },
  {
   "cell_type": "code",
   "execution_count": null,
   "id": "9ef9ce88-11fd-4c3d-bab8-bfa72e71c3d5",
   "metadata": {},
   "outputs": [],
   "source": [
    "def data_preprocessing(data, target=None, id_col=None):\n",
    "    \"\"\"Prepare data for modeling by handling missing values and separating features from the target and IDs.\"\"\"\n",
    "    if id_col:\n",
    "        IDs = data[id_col]\n",
    "        data = data.drop(columns=[id_col])\n",
    "    else:\n",
    "        IDs = None\n",
    "    \n",
    "    if target:\n",
    "        Y = data[target]\n",
    "        X = data.drop(columns=[target])\n",
    "    else:\n",
    "        Y = None\n",
    "        X = data\n",
    "    \n",
    "    X = X.fillna(0)\n",
    "    return IDs, X, Y"
   ]
  },
  {
   "cell_type": "markdown",
   "id": "150b2e06-7fa9-451a-8ae8-12601e729190",
   "metadata": {},
   "source": [
    "### Feature Engineering"
   ]
  },
  {
   "cell_type": "markdown",
   "id": "955e62d0-5a9d-498e-ba9d-7d08cd009499",
   "metadata": {},
   "source": [
    "### Model Building"
   ]
  },
  {
   "cell_type": "code",
   "execution_count": null,
   "id": "6d615119-d2a5-4e9c-b3e0-3c1b9a99954f",
   "metadata": {},
   "outputs": [],
   "source": []
  },
  {
   "cell_type": "markdown",
   "id": "20cee3d0-2b7f-45e7-bb94-b92c9e78158f",
   "metadata": {},
   "source": [
    "### Evaluation"
   ]
  },
  {
   "cell_type": "code",
   "execution_count": null,
   "id": "be18f935-290d-4788-bbea-d67717ed3bd6",
   "metadata": {},
   "outputs": [],
   "source": [
    "def eval_model(y_true, y_pred):\n",
    "    \"\"\"Evaluate the model using mean absolute error.\"\"\"\n",
    "    error = mean_absolute_error(y_true, y_pred)\n",
    "    print(f'Mean Absolute Error: {error}')\n",
    "    return error"
   ]
  }
 ],
 "metadata": {
  "kernelspec": {
   "display_name": "Python 3 (ipykernel)",
   "language": "python",
   "name": "python3"
  },
  "language_info": {
   "codemirror_mode": {
    "name": "ipython",
    "version": 3
   },
   "file_extension": ".py",
   "mimetype": "text/x-python",
   "name": "python",
   "nbconvert_exporter": "python",
   "pygments_lexer": "ipython3",
   "version": "3.10.12"
  }
 },
 "nbformat": 4,
 "nbformat_minor": 5
}
