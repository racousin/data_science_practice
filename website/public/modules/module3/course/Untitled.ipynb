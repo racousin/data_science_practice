{
 "cells": [
  {
   "cell_type": "code",
   "execution_count": 3,
   "id": "0de5742d-ceae-4bd5-9704-55a6234880ff",
   "metadata": {},
   "outputs": [
    {
     "name": "stdout",
     "output_type": "stream",
     "text": [
      "Downloaded test/module4_course_train.csv from https://www.raphaelcousin.com/modules/module4/course/module4_course_train.csv\n",
      "Downloaded test/module4_course_test.csv from https://www.raphaelcousin.com/modules/module4/course/module4_course_test.csv\n",
      "Downloaded test/module4_requirements.txt from https://www.raphaelcousin.com/modules/module4/course/module4_requirements.txt\n",
      "Files in the current directory:\n",
      "['.ipynb_checkpoints', 'test', 'module3_course.html', 'module3_course.ipynb', 'module3_course_test_target.csv', 'module4_course_train.csv', 'Untitled.ipynb', 'Untitled.html', 'module3_course_train.csv', 'module3_course_test.csv', 'module3_requirements.txt', 'module4_requirements.txt', 'module4_course_test.csv']\n"
     ]
    }
   ],
   "source": [
    "import requests\n",
    "\n",
    "# URLs of the files\n",
    "train_data_url = 'https://www.raphaelcousin.com/modules/module4/course/module4_course_train.csv'\n",
    "test_data_url = 'https://www.raphaelcousin.com/modules/module4/course/module4_course_test.csv'\n",
    "requirements_url = 'https://www.raphaelcousin.com/modules/module4/course/module4_requirements.txt'\n",
    "\n",
    "# Function to download a file\n",
    "def download_file(url, file_name):\n",
    "    response = requests.get(url)\n",
    "    response.raise_for_status()  # Ensure we notice bad responses\n",
    "    with open(file_name, 'wb') as file:\n",
    "        file.write(response.content)\n",
    "    print(f'Downloaded {file_name} from {url}')\n",
    "\n",
    "# Downloading the files\n",
    "download_file(train_data_url, 'test/module4_course_train.csv')\n",
    "download_file(test_data_url, 'test/module4_course_test.csv')\n",
    "download_file(requirements_url, 'test/module4_requirements.txt')\n",
    "\n",
    "# Verifying the downloads\n",
    "import os\n",
    "print('Files in the current directory:')\n",
    "print(os.listdir('.'))\n"
   ]
  },
  {
   "cell_type": "code",
   "execution_count": null,
   "id": "617d29e0-8f0e-4a6f-8b05-35f687ae2316",
   "metadata": {},
   "outputs": [],
   "source": []
  }
 ],
 "metadata": {
  "kernelspec": {
   "display_name": "Python 3 (ipykernel)",
   "language": "python",
   "name": "python3"
  },
  "language_info": {
   "codemirror_mode": {
    "name": "ipython",
    "version": 3
   },
   "file_extension": ".py",
   "mimetype": "text/x-python",
   "name": "python",
   "nbconvert_exporter": "python",
   "pygments_lexer": "ipython3",
   "version": "3.10.12"
  }
 },
 "nbformat": 4,
 "nbformat_minor": 5
}
