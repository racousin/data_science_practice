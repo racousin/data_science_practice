{
 "cells": [
  {
   "cell_type": "code",
   "execution_count": 1,
   "id": "68c2d7d3-5816-4b42-a1eb-e678da32ce78",
   "metadata": {},
   "outputs": [
    {
     "name": "stdout",
     "output_type": "stream",
     "text": [
      "Graph saved as 'ml_workflow.png'\n"
     ]
    }
   ],
   "source": [
    "from graphviz import Digraph\n",
    "\n",
    "def create_ml_workflow_graph():\n",
    "    dot = Digraph(comment='Machine Learning Workflow')\n",
    "    dot.attr(rankdir='LR')  # Set layout from left to right\n",
    "\n",
    "    # Add nodes\n",
    "    dot.node('D', 'Dataset D')\n",
    "    dot.node('D_train', 'D_train')\n",
    "    dot.node('D_val', 'D_val')\n",
    "    dot.node('D_test', 'D_test')\n",
    "    dot.node('Train', 'Train Model')\n",
    "    dot.node('Evaluate', 'Evaluate & Tune')\n",
    "    dot.node('Final', 'Final Assessment')\n",
    "\n",
    "    # Add edges\n",
    "    dot.edge('D', 'D_train')\n",
    "    dot.edge('D', 'D_val')\n",
    "    dot.edge('D', 'D_test')\n",
    "    dot.edge('D_train', 'Train')\n",
    "    dot.edge('Train', 'Evaluate')\n",
    "    dot.edge('D_val', 'Evaluate')\n",
    "    dot.edge('Evaluate', 'Train', 'Tune')\n",
    "    dot.edge('Evaluate', 'Final', 'Once finalized')\n",
    "    dot.edge('D_test', 'Final')\n",
    "\n",
    "    return dot\n",
    "\n",
    "# Generate and save the graph\n",
    "graph = create_ml_workflow_graph()\n",
    "graph.render('ml_workflow', format='png', cleanup=True)\n",
    "print(\"Graph saved as 'ml_workflow.png'\")"
   ]
  },
  {
   "cell_type": "code",
   "execution_count": null,
   "id": "175d8dbe-375e-4adc-b378-08ea62f87799",
   "metadata": {},
   "outputs": [],
   "source": []
  }
 ],
 "metadata": {
  "kernelspec": {
   "display_name": "Python 3 (ipykernel)",
   "language": "python",
   "name": "python3"
  },
  "language_info": {
   "codemirror_mode": {
    "name": "ipython",
    "version": 3
   },
   "file_extension": ".py",
   "mimetype": "text/x-python",
   "name": "python",
   "nbconvert_exporter": "python",
   "pygments_lexer": "ipython3",
   "version": "3.10.12"
  }
 },
 "nbformat": 4,
 "nbformat_minor": 5
}
