{
 "cells": [
  {
   "cell_type": "markdown",
   "id": "620e9135-0453-4420-81cd-b2e36c38214d",
   "metadata": {},
   "source": [
    "### Exercise Case Study Notebook: Data Cleaning and Preparation"
   ]
  },
  {
   "cell_type": "markdown",
   "id": "f2e70c01-f17b-420a-a448-7fdda7b6dd36",
   "metadata": {},
   "source": [
    "1. Problem and Objective:\n",
    "   - Introduce a dataset with various data quality issues\n",
    "   - Goal: Clean and prepare the data for analysis and modeling"
   ]
  },
  {
   "cell_type": "markdown",
   "id": "9c273fd8-ddda-44fa-a7ee-db96e685a282",
   "metadata": {},
   "source": [
    "2. Data Loading:"
   ]
  },
  {
   "cell_type": "code",
   "execution_count": null,
   "id": "5a18fefe-be73-4c8c-b2d9-7c5b98d0d22e",
   "metadata": {},
   "outputs": [],
   "source": [
    "import pandas as pd\n",
    "import numpy as np\n",
    "import matplotlib.pyplot as plt\n",
    "import seaborn as sns"
   ]
  },
  {
   "cell_type": "code",
   "execution_count": null,
   "id": "1d8dd57c-83df-4aa5-aaa2-d03dee7b34de",
   "metadata": {},
   "outputs": [],
   "source": [
    "# Load the dataset\n",
    "df = pd.read_csv(\"exercise_dataset.csv\")\n",
    "\n",
    "# Display the first few rows and basic information\n",
    "print(df.head())\n",
    "print(df.info())"
   ]
  },
  {
   "cell_type": "markdown",
   "id": "84979e00-2b07-4507-9375-7fed0bdaddd9",
   "metadata": {},
   "source": [
    "3. Data Cleaning and Preparation Tasks:\n",
    "\n",
    "a. Handle Inconsistencies:\n",
    "   - Question: Identify inconsistencies in the 'category' column. How would you standardize these values?\n",
    "\n",
    "b. Handle Missing Values:\n",
    "   - Task: Visualize missing values in the dataset\n",
    "   - Question: Which imputation method would be most appropriate for the 'age' column? Implement your chosen method.\n",
    "\n",
    "c. Handle Categorical Values:\n",
    "   - Task: Identify categorical columns in the dataset\n",
    "   - Question: Choose an appropriate encoding method for the 'education' column. Justify your choice and implement it.\n",
    "\n",
    "d. Handle Duplicates:\n",
    "   - Task: Check for duplicate entries in the dataset\n",
    "   - Question: How would you handle potential duplicates? Implement your approach.\n",
    "\n",
    "e. Handle Outliers:\n",
    "   - Task: Identify potential outliers in the 'income' column\n",
    "   - Question: Propose and implement a method to deal with these outliers.\n",
    "\n",
    "f. Feature Engineering:\n",
    "   - Task: Create a new feature 'age_group' by binning the 'age' column\n",
    "   - Question: Suggest and implement another relevant feature based on the existing data.\n",
    "\n",
    "g. Scaling and Normalization:\n",
    "   - Question: Which numerical features would benefit from scaling? Apply an appropriate scaling method to these features.\n",
    "\n",
    "h. Feature Selection:\n",
    "   - Task: Implement a simple correlation-based feature selection method\n",
    "   - Question: Based on the results, which features would you select for further analysis?"
   ]
  },
  {
   "cell_type": "markdown",
   "id": "320f7c6e-897c-4959-88df-a88072cfba62",
   "metadata": {},
   "source": [
    "4. Submission:"
   ]
  },
  {
   "cell_type": "code",
   "execution_count": null,
   "id": "eff5d5a3-1d80-4feb-8862-c86a227f63f8",
   "metadata": {},
   "outputs": [],
   "source": [
    "\n",
    "X_test = pd.read_csv(\"module5_exercise_test.csv\", sep=\",\", index_col='id')\n",
    "submission = pd.DataFrame({\n",
    "    'id': X_test.index,\n",
    "    'target': 0  # Replace with your prediction\n",
    "})\n",
    "\n",
    "submission.to_csv('submission.csv', index=False, sep=',')\n",
    "\n",
    "\n"
   ]
  },
  {
   "cell_type": "markdown",
   "id": "923934ec-54a6-4dc9-b4c3-b7cb8c4753b2",
   "metadata": {},
   "source": [
    "5. Final Questions:\n",
    "   - Summarize the key data cleaning and preparation steps you performed.\n",
    "   - How might these preprocessing steps impact subsequent analysis or modeling?\n",
    "   - What additional data quality checks or preprocessing steps would you recommend?"
   ]
  },
  {
   "cell_type": "code",
   "execution_count": null,
   "id": "12dff6c9-4b5c-4c4e-990d-c27d9373f1a6",
   "metadata": {},
   "outputs": [],
   "source": []
  }
 ],
 "metadata": {
  "kernelspec": {
   "display_name": "Python 3 (ipykernel)",
   "language": "python",
   "name": "python3"
  },
  "language_info": {
   "codemirror_mode": {
    "name": "ipython",
    "version": 3
   },
   "file_extension": ".py",
   "mimetype": "text/x-python",
   "name": "python",
   "nbconvert_exporter": "python",
   "pygments_lexer": "ipython3",
   "version": "3.10.12"
  }
 },
 "nbformat": 4,
 "nbformat_minor": 5
}
