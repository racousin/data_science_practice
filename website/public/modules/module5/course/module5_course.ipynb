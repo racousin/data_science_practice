{
 "cells": [
  {
   "cell_type": "code",
   "execution_count": null,
   "id": "8ab60ec1-bdec-45fa-8d7c-ea223c380f0b",
   "metadata": {},
   "outputs": [],
   "source": [
    "### Data Cleaning and Preparation: Case Study Notebook"
   ]
  },
  {
   "cell_type": "code",
   "execution_count": null,
   "id": "1ce29752-9847-450f-8c6a-6cbd85d1d568",
   "metadata": {},
   "outputs": [],
   "source": [
    "# Import necessary libraries\n",
    "import pandas as pd\n",
    "import numpy as np\n",
    "import matplotlib.pyplot as plt\n",
    "import seaborn as sns\n",
    "from sklearn.impute import SimpleImputer\n",
    "from sklearn.preprocessing import OneHotEncoder, LabelEncoder, StandardScaler, MinMaxScaler\n",
    "from sklearn.neighbors import KNeighborsClassifier\n",
    "from sklearn.feature_selection import SelectKBest, f_classif\n",
    "from sklearn.decomposition import PCA"
   ]
  },
  {
   "cell_type": "code",
   "execution_count": null,
   "id": "435ab34e-51d3-4f7f-97c4-d7f64f57d385",
   "metadata": {},
   "outputs": [],
   "source": [
    "import requests\n",
    "\n",
    "# URLs of the files\n",
    "data_url = 'https://www.raphaelcousin.com/modules/module5/course/module5_course_handling_categorical.csv'\n",
    "\n",
    "# Function to download a file\n",
    "def download_file(url, file_name):\n",
    "    response = requests.get(url)\n",
    "    response.raise_for_status()  # Ensure we notice bad responses\n",
    "    with open(file_name, 'wb') as file:\n",
    "        file.write(response.content)\n",
    "    print(f'Downloaded {file_name} from {url}')\n",
    "\n",
    "# Downloading the files\n",
    "download_file(train_data, 'module5_course_handling_categorical.csv')"
   ]
  },
  {
   "cell_type": "code",
   "execution_count": null,
   "id": "56040307-03c8-4c36-a473-a1393316f668",
   "metadata": {},
   "outputs": [],
   "source": [
    "# Load the dataset\n",
    "data = pd.read_csv('data.csv')\n",
    "\n",
    "# Display the first few rows of the dataset\n",
    "data.head()"
   ]
  },
  {
   "cell_type": "code",
   "execution_count": null,
   "id": "a1846c89-956a-465d-a7f4-2f2d3b68b044",
   "metadata": {},
   "outputs": [],
   "source": [
    "#### 1. Handling Inconsistencies\n",
    "\n",
    "**Types of Inconsistencies**\n",
    "- Inconsistent data formats\n",
    "- Duplicated entries\n",
    "- Typographical errors"
   ]
  },
  {
   "cell_type": "code",
   "execution_count": null,
   "id": "ea65e26f-9c0d-4fda-b940-a35a2e9544c5",
   "metadata": {},
   "outputs": [],
   "source": [
    "# Convert date columns to datetime format\n",
    "data['date'] = pd.to_datetime(data['date'], errors='coerce')\n",
    "\n",
    "# Standardize categorical columns\n",
    "data['category'] = data['category'].str.lower()\n",
    "\n",
    "# Detecting and correcting inconsistencies\n",
    "data = data.drop_duplicates()\n",
    "\n",
    "# Display the cleaned dataframe\n",
    "data.head()"
   ]
  },
  {
   "cell_type": "code",
   "execution_count": null,
   "id": "cd5e2ef4-0386-4800-9317-a2b0c201eba4",
   "metadata": {},
   "outputs": [],
   "source": [
    "#### 2. Handling Missing Values\n",
    "\n",
    "**Visualize Missing Values**"
   ]
  },
  {
   "cell_type": "code",
   "execution_count": null,
   "id": "e9e2e3ce-a4b1-4e7d-bc2d-853cc4d4f654",
   "metadata": {},
   "outputs": [],
   "source": [
    "import missingno as msno\n",
    "msno.matrix(data)\n",
    "plt.show()"
   ]
  },
  {
   "cell_type": "code",
   "execution_count": null,
   "id": "5e602e1b-3423-468e-b3fa-1eafa16b7a43",
   "metadata": {},
   "outputs": [],
   "source": [
    "**Imputation Techniques**"
   ]
  },
  {
   "cell_type": "code",
   "execution_count": null,
   "id": "fd3cb938-14ed-412f-81c4-60b0604e6ff6",
   "metadata": {},
   "outputs": [],
   "source": [
    "# Mean/Median/Mode Imputation\n",
    "imputer = SimpleImputer(strategy='mean')\n",
    "data['column_name'] = imputer.fit_transform(data[['column_name']])\n",
    "\n",
    "# Forward Fill\n",
    "data.fillna(method='ffill', inplace=True)\n",
    "\n",
    "# K-Nearest Neighbors Imputation\n",
    "imputer = KNeighborsClassifier(n_neighbors=3)\n",
    "data['column_name'] = imputer.fit_transform(data[['column_name']])"
   ]
  },
  {
   "cell_type": "code",
   "execution_count": null,
   "id": "b6145144-4764-4cda-9770-d28620150f31",
   "metadata": {},
   "outputs": [],
   "source": [
    "**Adding a 'is_missing' Column**"
   ]
  },
  {
   "cell_type": "code",
   "execution_count": null,
   "id": "1ba18cee-ba62-4bd6-8ea3-27bac6758cb0",
   "metadata": {},
   "outputs": [],
   "source": [
    "data['column_is_missing'] = data['column_name'].isnull()"
   ]
  },
  {
   "cell_type": "code",
   "execution_count": null,
   "id": "0d95d23c-0b19-4844-b939-ee00665cd32c",
   "metadata": {},
   "outputs": [],
   "source": [
    "#### 3. Handling Categorical Values\n",
    "**One-Hot Encoding and Label Encoding**"
   ]
  },
  {
   "cell_type": "code",
   "execution_count": null,
   "id": "9aa80173-a8e7-4279-b569-72a17bacac6b",
   "metadata": {},
   "outputs": [],
   "source": [
    "# One-Hot Encoding\n",
    "data = pd.get_dummies(data, columns=['categorical_column'])\n",
    "\n",
    "# Label Encoding\n",
    "label_encoder = LabelEncoder()\n",
    "data['categorical_column'] = label_encoder.fit_transform(data['categorical_column'])"
   ]
  },
  {
   "cell_type": "code",
   "execution_count": null,
   "id": "edf74ebc-2e18-4ace-a2ae-9004aca27af7",
   "metadata": {},
   "outputs": [],
   "source": [
    "#### 4. Handling Duplicates\n",
    "**Identifying and Removing Duplicates**"
   ]
  },
  {
   "cell_type": "code",
   "execution_count": null,
   "id": "3c03e78a-996a-4873-8e7b-3fcf491cef6b",
   "metadata": {},
   "outputs": [],
   "source": [
    "# Identify duplicates\n",
    "duplicates = data[data.duplicated()]\n",
    "\n",
    "# Remove duplicates\n",
    "data = data.drop_duplicates()\n",
    "\n",
    "# Display the dataframe after removing duplicates\n",
    "data.head()"
   ]
  },
  {
   "cell_type": "code",
   "execution_count": null,
   "id": "4f4436aa-08e4-44bf-877d-a60bd6df68f8",
   "metadata": {},
   "outputs": [],
   "source": [
    "#### 5. Handling Outliers\n",
    "**Detecting and Managing Outliers**"
   ]
  },
  {
   "cell_type": "code",
   "execution_count": null,
   "id": "961c2628-5df0-4b16-b653-4c4ca1f816f0",
   "metadata": {},
   "outputs": [],
   "source": [
    "# Detect outliers using Z-score\n",
    "data['z_score'] = (data['numeric_column'] - data['numeric_column'].mean()) / data['numeric_column'].std()\n",
    "outliers = data[data['z_score'].abs() > 3]\n",
    "\n",
    "# Managing outliers by capping\n",
    "data['numeric_column'] = np.where(data['z_score'].abs() > 3, data['numeric_column'].mean(), data['numeric_column'])\n",
    "\n",
    "# Remove the z_score column\n",
    "data.drop(columns=['z_score'], inplace=True)"
   ]
  },
  {
   "cell_type": "code",
   "execution_count": null,
   "id": "02af9155-d993-4aa6-b3dd-794cd5e404f6",
   "metadata": {},
   "outputs": [],
   "source": [
    "#### 6. Feature Engineering\n",
    "**Creating Interaction Features and Polynomial Features**\n",
    "# Interaction Features\n",
    "data['interaction_feature'] = data['feature1'] * data['feature2']\n",
    "\n",
    "# Polynomial Features\n",
    "data['feature_squared'] = data['feature'] ** 2"
   ]
  },
  {
   "cell_type": "code",
   "execution_count": null,
   "id": "dacfff51-dc9d-4448-b830-f0a440511a60",
   "metadata": {},
   "outputs": [],
   "source": [
    "#### 7. Scaling and Normalization\n",
    "**Scaling and Normalizing Features**"
   ]
  },
  {
   "cell_type": "code",
   "execution_count": null,
   "id": "2b3af30e-2420-49e4-a3f9-055f848b691f",
   "metadata": {},
   "outputs": [],
   "source": [
    "# Standard Scaling\n",
    "scaler = StandardScaler()\n",
    "data['scaled_feature'] = scaler.fit_transform(data[['feature']])\n",
    "\n",
    "# Min-Max Scaling\n",
    "scaler = MinMaxScaler()\n",
    "data['normalized_feature'] = scaler.fit_transform(data[['feature']])"
   ]
  },
  {
   "cell_type": "code",
   "execution_count": null,
   "id": "2b4ffd2d-96ef-4747-9c73-11296373705d",
   "metadata": {},
   "outputs": [],
   "source": [
    "\n",
    "#### 8. Feature Selection and Dimensionality Reduction\n",
    "\n",
    "**Feature Selection and PCA**"
   ]
  },
  {
   "cell_type": "code",
   "execution_count": null,
   "id": "19078eb7-9a5d-41f3-b4d5-d9e5d787b4a1",
   "metadata": {},
   "outputs": [],
   "source": [
    "# Feature Selection using ANOVA F-test\n",
    "selector = SelectKBest(score_func=f_classif, k=5)\n",
    "selected_features = selector.fit_transform(data.drop(columns=['target']), data['target'])\n",
    "\n",
    "# Dimensionality Reduction using PCA\n",
    "pca = PCA(n_components=2)\n",
    "principal_components = pca.fit_transform(selected_features)\n",
    "\n",
    "# Add principal components to the dataframe\n",
    "data['PC1'] = principal_components[:, 0]\n",
    "data['PC2'] = principal_components[:, 1]\n",
    "\n",
    "# Display the dataframe with principal components\n",
    "data.head()\n"
   ]
  }
 ],
 "metadata": {
  "kernelspec": {
   "display_name": "Python 3 (ipykernel)",
   "language": "python",
   "name": "python3"
  },
  "language_info": {
   "codemirror_mode": {
    "name": "ipython",
    "version": 3
   },
   "file_extension": ".py",
   "mimetype": "text/x-python",
   "name": "python",
   "nbconvert_exporter": "python",
   "pygments_lexer": "ipython3",
   "version": "3.10.12"
  }
 },
 "nbformat": 4,
 "nbformat_minor": 5
}
