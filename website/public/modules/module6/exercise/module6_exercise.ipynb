{
 "cells": [
  {
   "cell_type": "markdown",
   "id": "d6a6431f-f6cc-4f2e-bab2-5d0f56ea5225",
   "metadata": {},
   "source": [
    "Exercise Case Study Notebook: Tabular Models"
   ]
  },
  {
   "cell_type": "raw",
   "id": "cedf82fa-b499-4e98-9098-1866c5a51e8d",
   "metadata": {},
   "source": [
    "1. Problem and Objective:\n",
    "   - Introduce a dataset for a classification or regression task\n",
    "   - Goal: Apply various tabular models, optimize hyperparameters, and select the best model\n"
   ]
  },
  {
   "cell_type": "markdown",
   "id": "dbd05604-6073-4931-a6c7-f85bfb447a4a",
   "metadata": {},
   "source": [
    "2. Data Loading:"
   ]
  },
  {
   "cell_type": "code",
   "execution_count": null,
   "id": "fae3aeb5-dcdf-4690-b869-d211a02f303c",
   "metadata": {},
   "outputs": [],
   "source": [
    "import requests\n",
    "\n",
    "# URLs of the files\n",
    "train_data_url = 'https://www.raphaelcousin.com/modules/module4/course/module5_course_handling_duplicate_train.csv'\n",
    "test_data_url = 'https://www.raphaelcousin.com/modules/module4/course/module5_course_handling_duplicate_test.csv'\n",
    "\n",
    "# Function to download a file\n",
    "def download_file(url, file_name):\n",
    "    response = requests.get(url)\n",
    "    response.raise_for_status()  # Ensure we notice bad responses\n",
    "    with open(file_name, 'wb') as file:\n",
    "        file.write(response.content)\n",
    "    print(f'Downloaded {file_name} from {url}')\n",
    "\n",
    "# Downloading the files\n",
    "download_file(train_data_url, 'module5_course_handling_duplicate_train.csv')\n",
    "download_file(test_data_url, 'module5_course_handling_duplicate_test.csv')"
   ]
  },
  {
   "cell_type": "code",
   "execution_count": null,
   "id": "8ce78643-bf7d-4bc1-a010-776e1d3d5842",
   "metadata": {},
   "outputs": [],
   "source": [
    "import pandas as pd\n",
    "import numpy as np\n",
    "from sklearn.model_selection import train_test_split"
   ]
  },
  {
   "cell_type": "code",
   "execution_count": null,
   "id": "30cafcce-528a-4ceb-b905-3089b61e7a42",
   "metadata": {},
   "outputs": [],
   "source": [
    "# Load the dataset\n",
    "df = pd.read_csv(\"tabular_exercise_dataset.csv\")\n",
    "\n",
    "# Split the data\n",
    "X = df.drop('target', axis=1)\n",
    "y = df['target']\n",
    "X_train, X_test, y_train, y_test = train_test_split(X, y, test_size=0.2, random_state=42)"
   ]
  },
  {
   "cell_type": "markdown",
   "id": "ce7a3654-a02d-404d-b627-31e84e6605d4",
   "metadata": {},
   "source": [
    "3. Tabular Modeling Tasks:\n",
    "\n",
    "a. Model Selection and Cross-Validation:\n",
    "   - Task: Implement k-fold cross-validation for a simple model (e.g., logistic regression)\n",
    "   - Question: How does the choice of k affect the model evaluation? Experiment with different values.\n",
    "\n",
    "b. Hyperparameter Optimization:\n",
    "   - Task: Use RandomizedSearchCV to optimize hyperparameters for a Random Forest model\n",
    "   - Question: Compare the performance of RandomizedSearchCV with a simple grid search. What are the trade-offs?\n",
    "\n",
    "c. Linear Models:\n",
    "   - Task: Implement and compare Lasso, Ridge, and Elastic Net regression\n",
    "   - Question: Which regularization technique performs best for this dataset? Why?\n",
    "\n",
    "d. Tree-Based Models:\n",
    "   - Task: Implement a Gradient Boosting model (e.g., XGBoost or LightGBM)\n",
    "   - Question: Compare the performance and training time of Gradient Boosting with Random Forest. Discuss the results.\n",
    "\n",
    "e. Support Vector Machines:\n",
    "   - Task: Implement an SVM with different kernel functions\n",
    "   - Question: How does the choice of kernel affect the model's performance and computational efficiency?\n",
    "\n",
    "f. K-Nearest Neighbors:\n",
    "   - Task: Implement KNN and experiment with different values of k\n",
    "   - Question: How does the value of k impact the model's bias-variance trade-off?\n",
    "\n",
    "g. Naive Bayes:\n",
    "   - Task: Apply Gaussian Naive Bayes to the dataset\n",
    "   - Question: In what scenarios might Naive Bayes outperform more complex models?\n",
    "\n",
    "h. Ensemble Techniques:\n",
    "   - Task: Create a voting classifier using three different base models\n",
    "   - Question: How does the ensemble's performance compare to individual models? Explain the synergy.\n",
    "\n",
    "i. Time Series Consideration:\n",
    "   - Question: If this dataset contains a time component, how would you modify your modeling approach?\n",
    "\n",
    "j. AutoML:\n",
    "   - Task: Use an AutoML library (e.g., auto-sklearn or TPOT) on the dataset\n",
    "   - Question: Compare the AutoML results with your manually tuned models. Discuss the pros and cons of using AutoML in this scenario.\n",
    "\n",
    "4. Model Evaluation and Comparison:\n",
    "   - Task: Implement a function to compare all models using appropriate metrics\n",
    "   - Question: Based on your results, which model would you choose for deployment? Justify your answer."
   ]
  },
  {
   "cell_type": "markdown",
   "id": "f0431ff6-0e5d-4ead-8735-84e1a728ef11",
   "metadata": {},
   "source": [
    "5. Submission:"
   ]
  },
  {
   "cell_type": "code",
   "execution_count": null,
   "id": "ac9877df-0e30-40ed-91a0-69511d359033",
   "metadata": {},
   "outputs": [],
   "source": [
    "X_test_final = pd.read_csv(\"module6_exercise_test.csv\", sep=\",\", index_col='id')\n",
    "submission = pd.DataFrame({\n",
    "    'id': X_test_final.index,\n",
    "    'target': best_model.predict(X_test_final)  # Use your best model here\n",
    "})\n",
    "\n",
    "submission.to_csv('submission.csv', index=False, sep=',')"
   ]
  },
  {
   "cell_type": "markdown",
   "id": "f60231ce-8e9b-4c8f-b9dd-f9d7823850b9",
   "metadata": {},
   "source": [
    "6. Final Questions:\n",
    "   - Summarize the key findings from your model comparison.\n",
    "   - How might feature engineering or selection improve these models?\n",
    "   - Discuss the potential impact of class imbalance or data leakage on your results.\n",
    "   - What additional steps would you take before deploying the chosen model in a real-world scenario?"
   ]
  }
 ],
 "metadata": {
  "kernelspec": {
   "display_name": "Python 3 (ipykernel)",
   "language": "python",
   "name": "python3"
  },
  "language_info": {
   "codemirror_mode": {
    "name": "ipython",
    "version": 3
   },
   "file_extension": ".py",
   "mimetype": "text/x-python",
   "name": "python",
   "nbconvert_exporter": "python",
   "pygments_lexer": "ipython3",
   "version": "3.10.12"
  }
 },
 "nbformat": 4,
 "nbformat_minor": 5
}
