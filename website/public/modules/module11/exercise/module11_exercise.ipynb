{
 "cells": [
  {
   "cell_type": "markdown",
   "id": "37c5b20e-25c2-4525-8c49-73bd24b120bb",
   "metadata": {},
   "source": [
    "Exercise Case Study Notebook: Recommendation Systems\n",
    "\n",
    "1. Problem and Objective:\n",
    "   - Introduce a dataset containing user-item interactions (e.g., movie ratings)\n",
    "   - Goal: Implement and compare various recommendation system techniques"
   ]
  },
  {
   "cell_type": "markdown",
   "id": "a4d90e85-499f-494e-9638-e3ba796aa2b4",
   "metadata": {},
   "source": [
    "2. Data Loading:"
   ]
  },
  {
   "cell_type": "code",
   "execution_count": null,
   "id": "dc0571e0-e433-4d29-a108-612de93d8436",
   "metadata": {},
   "outputs": [],
   "source": [
    "import requests\n",
    "\n",
    "# URLs of the files\n",
    "train_data_url = 'https://www.raphaelcousin.com/modules/module4/course/module5_course_handling_duplicate_train.csv'\n",
    "test_data_url = 'https://www.raphaelcousin.com/modules/module4/course/module5_course_handling_duplicate_test.csv'\n",
    "\n",
    "# Function to download a file\n",
    "def download_file(url, file_name):\n",
    "    response = requests.get(url)\n",
    "    response.raise_for_status()  # Ensure we notice bad responses\n",
    "    with open(file_name, 'wb') as file:\n",
    "        file.write(response.content)\n",
    "    print(f'Downloaded {file_name} from {url}')\n",
    "\n",
    "# Downloading the files\n",
    "download_file(train_data_url, 'module5_course_handling_duplicate_train.csv')\n",
    "download_file(test_data_url, 'module5_course_handling_duplicate_test.csv')"
   ]
  },
  {
   "cell_type": "code",
   "execution_count": null,
   "id": "5b2c35f3-6388-47a0-8f06-ea091a2982db",
   "metadata": {},
   "outputs": [],
   "source": [
    "import pandas as pd\n",
    "import numpy as np\n",
    "from sklearn.model_selection import train_test_split\n",
    "\n",
    "# Load the dataset\n",
    "ratings = pd.read_csv('ratings.csv')\n",
    "movies = pd.read_csv('movies.csv')\n",
    "\n",
    "# Split the data\n",
    "train_data, test_data = train_test_split(ratings, test_size=0.2, random_state=42)\n",
    "\n",
    "print(f\"Number of users: {ratings['userId'].nunique()}\")\n",
    "print(f\"Number of items: {ratings['movieId'].nunique()}\")\n",
    "print(f\"Number of ratings: {len(ratings)}\")"
   ]
  },
  {
   "cell_type": "markdown",
   "id": "879b3174-897a-4422-b12e-c749ef741429",
   "metadata": {},
   "source": [
    "\n",
    "3. Recommendation System Tasks:\n",
    "\n",
    "a. Content-Based Filtering:\n",
    "   - Task: Implement a content-based recommender using movie genres\n",
    "   - Question: How does the performance vary with different similarity metrics?\n",
    "\n",
    "b. Collaborative Filtering:\n",
    "   - Task: Implement user-based and item-based collaborative filtering\n",
    "   - Question: Compare the performance and scalability of user-based vs. item-based approaches\n",
    "\n",
    "c. Matrix Factorization:\n",
    "   - Task: Implement matrix factorization using singular value decomposition (SVD)\n",
    "   - Question: How does the number of latent factors affect the model's performance?\n",
    "\n",
    "d. Hybrid Methods:\n",
    "   - Task: Combine content-based and collaborative filtering approaches\n",
    "   - Question: Analyze the benefits and drawbacks of the hybrid approach compared to individual methods\n",
    "\n",
    "e. Deep Learning for Recommendations:\n",
    "   - Task: Implement a simple neural collaborative filtering model\n",
    "   - Question: How does the neural network architecture impact recommendation quality?\n",
    "\n",
    "f. Context-Aware Recommendations:\n",
    "   - Task: Incorporate time-based context into your recommender system\n",
    "   - Question: How does adding contextual information affect recommendation relevance?\n",
    "\n",
    "g. Evaluation Metrics:\n",
    "   - Task: Implement and compare different evaluation metrics (RMSE, MAP, NDCG)\n",
    "   - Question: Discuss the trade-offs between different evaluation metrics\n",
    "\n",
    "h. Cold Start Problem:\n",
    "   - Task: Implement a strategy to handle new users or items\n",
    "   - Question: How effective is your approach in mitigating the cold start problem?\n",
    "\n",
    "4. Model Comparison and Analysis:\n",
    "   - Task: Compare the performance of different recommendation techniques\n",
    "   - Question: Analyze the trade-offs between recommendation quality, computational efficiency, and interpretability\n",
    "\n",
    "\n"
   ]
  },
  {
   "cell_type": "markdown",
   "id": "cfb2bf49-f024-4a66-bbef-e726eecfff81",
   "metadata": {},
   "source": [
    "5. Submission:"
   ]
  },
  {
   "cell_type": "code",
   "execution_count": null,
   "id": "0a3031f5-f170-4583-84c2-d68c53ca7d35",
   "metadata": {},
   "outputs": [],
   "source": [
    "\n",
    "# Assuming 'best_model' is your best performing recommender\n",
    "\n",
    "# Generate recommendations for test users\n",
    "test_users = test_data['userId'].unique()\n",
    "recommendations = {}\n",
    "\n",
    "for user in test_users:\n",
    "    user_recs = best_model.recommend(user, n=10)  # Get top 10 recommendations\n",
    "    recommendations[user] = user_recs\n",
    "\n",
    "submission = pd.DataFrame({\n",
    "    'userId': [user for user in recommendations for _ in range(10)],\n",
    "    'movieId': [movie for user_recs in recommendations.values() for movie in user_recs]\n",
    "})\n",
    "\n",
    "submission.to_csv('submission.csv', index=False)\n",
    "\n"
   ]
  },
  {
   "cell_type": "markdown",
   "id": "38dd7536-997e-4f00-acce-227155ae073b",
   "metadata": {},
   "source": [
    "6. Final Questions:\n",
    "   - Summarize the key findings from your experiments with different recommendation techniques.\n",
    "   - How might you improve the performance of your recommender systems?\n",
    "   - Discuss the scalability challenges in deploying recommendation systems for large-scale applications.\n",
    "   - What ethical considerations should be taken into account when implementing recommendation systems?\n",
    "   - How would you handle the trade-off between recommendation diversity and accuracy?"
   ]
  }
 ],
 "metadata": {
  "kernelspec": {
   "display_name": "Python 3 (ipykernel)",
   "language": "python",
   "name": "python3"
  },
  "language_info": {
   "codemirror_mode": {
    "name": "ipython",
    "version": 3
   },
   "file_extension": ".py",
   "mimetype": "text/x-python",
   "name": "python",
   "nbconvert_exporter": "python",
   "pygments_lexer": "ipython3",
   "version": "3.10.12"
  }
 },
 "nbformat": 4,
 "nbformat_minor": 5
}
