{
 "cells": [
  {
   "cell_type": "markdown",
   "id": "b9e76dd8-bf6c-4adf-aa88-77fd581cf403",
   "metadata": {},
   "source": [
    "Case Study Notebook: Recommendation Systems\n",
    "1. Problem and Objective:\n",
    "   - Dataset: MovieLens 100K dataset (user-movie ratings)\n",
    "   - Goal: Implement and compare various recommendation system techniques"
   ]
  },
  {
   "cell_type": "markdown",
   "id": "1739a50a-042c-424d-8cf9-6d8b28c1b535",
   "metadata": {},
   "source": [
    "2. Data Loading and Preprocessing:"
   ]
  },
  {
   "cell_type": "code",
   "execution_count": null,
   "id": "c1f7ba13-a570-4114-8158-9824a18a1c30",
   "metadata": {},
   "outputs": [],
   "source": [
    "import pandas as pd\n",
    "import numpy as np\n",
    "from sklearn.model_selection import train_test_split\n",
    "\n",
    "# Load data\n",
    "ratings = pd.read_csv('ml-100k/u.data', sep='\\t', names=['user_id', 'movie_id', 'rating', 'timestamp'])\n",
    "movies = pd.read_csv('ml-100k/u.item', sep='|', encoding='latin-1', header=None, names=['movie_id', 'title'] + [f'genre_{i}' for i in range(19)])\n",
    "\n",
    "# Split data\n",
    "train_data, test_data = train_test_split(ratings, test_size=0.2, random_state=42)\n",
    "\n",
    "print(f\"Users: {ratings['user_id'].nunique()}, Movies: {ratings['movie_id'].nunique()}, Ratings: {len(ratings)}\")\n"
   ]
  },
  {
   "cell_type": "markdown",
   "id": "380e4f5d-baf2-4248-990d-6dccd02d3b84",
   "metadata": {},
   "source": [
    "3. Recommendation Techniques:"
   ]
  },
  {
   "cell_type": "markdown",
   "id": "c67c6915-eaec-4670-87e1-ec72def4f53a",
   "metadata": {},
   "source": [
    "a. Content-Based Filtering:"
   ]
  },
  {
   "cell_type": "code",
   "execution_count": null,
   "id": "72e64d7e-b1fa-494a-bb58-cecfb6689dc7",
   "metadata": {},
   "outputs": [],
   "source": [
    "from sklearn.metrics.pairwise import cosine_similarity\n",
    "\n",
    "def content_based_recommender(user_id, n=10):\n",
    "    user_ratings = ratings[ratings['user_id'] == user_id]\n",
    "    user_movies = movies[movies['movie_id'].isin(user_ratings['movie_id'])]\n",
    "    user_profile = user_movies.iloc[:, 2:].mean()\n",
    "    \n",
    "    movie_similarities = cosine_similarity(movies.iloc[:, 2:], [user_profile])\n",
    "    similar_movies = movies.iloc[movie_similarities.argsort()[0][::-1]]\n",
    "    \n",
    "    return similar_movies['movie_id'].head(n).tolist()\n",
    "\n",
    "# Test content-based recommender\n",
    "print(content_based_recommender(1, n=5))"
   ]
  },
  {
   "cell_type": "markdown",
   "id": "21fa1071-7755-4925-af4d-31ec46ed330f",
   "metadata": {},
   "source": [
    "b. Collaborative Filtering:"
   ]
  },
  {
   "cell_type": "code",
   "execution_count": null,
   "id": "a80b6344-7d26-44e5-aaf3-b25f9ef097f4",
   "metadata": {},
   "outputs": [],
   "source": [
    "from surprise import SVD, Dataset, Reader\n",
    "\n",
    "reader = Reader(rating_scale=(1, 5))\n",
    "data = Dataset.load_from_df(ratings[['user_id', 'movie_id', 'rating']], reader)\n",
    "\n",
    "svd = SVD()\n",
    "trainset = data.build_full_trainset()\n",
    "svd.fit(trainset)\n",
    "\n",
    "def collaborative_filtering_recommender(user_id, n=10):\n",
    "    user_movies = ratings[ratings['user_id'] == user_id]['movie_id']\n",
    "    all_movies = ratings['movie_id'].unique()\n",
    "    movies_to_predict = np.setdiff1d(all_movies, user_movies)\n",
    "    \n",
    "    predictions = [svd.predict(user_id, movie_id).est for movie_id in movies_to_predict]\n",
    "    top_n = np.argsort(predictions)[::-1][:n]\n",
    "    \n",
    "    return movies_to_predict[top_n].tolist()\n",
    "\n",
    "# Test collaborative filtering recommender\n",
    "print(collaborative_filtering_recommender(1, n=5))"
   ]
  },
  {
   "cell_type": "markdown",
   "id": "e1ad5dc5-9059-4a5c-8300-4b108424501d",
   "metadata": {},
   "source": [
    "c. Hybrid Method:"
   ]
  },
  {
   "cell_type": "code",
   "execution_count": null,
   "id": "fd379558-b16c-4ac4-9a37-1be67689e5bb",
   "metadata": {},
   "outputs": [],
   "source": [
    "def hybrid_recommender(user_id, n=10):\n",
    "    content_based_recs = content_based_recommender(user_id, n=n)\n",
    "    collab_filtering_recs = collaborative_filtering_recommender(user_id, n=n)\n",
    "    \n",
    "    hybrid_recs = []\n",
    "    for i in range(n):\n",
    "        if i % 2 == 0 and content_based_recs:\n",
    "            hybrid_recs.append(content_based_recs.pop(0))\n",
    "        elif collab_filtering_recs:\n",
    "            hybrid_recs.append(collab_filtering_recs.pop(0))\n",
    "    \n",
    "    return hybrid_recs\n",
    "\n",
    "# Test hybrid recommender\n",
    "print(hybrid_recommender(1, n=5))"
   ]
  },
  {
   "cell_type": "markdown",
   "id": "605e8ed6-1e82-45eb-b445-ca2d683d2f60",
   "metadata": {},
   "source": [
    "d. Deep Learning for Recommendations:"
   ]
  },
  {
   "cell_type": "code",
   "execution_count": null,
   "id": "1f18aeac-5842-401c-95cf-2b8061c4a5b0",
   "metadata": {},
   "outputs": [],
   "source": [
    "import torch\n",
    "import torch.nn as nn\n",
    "\n",
    "class NCF(nn.Module):\n",
    "    def __init__(self, num_users, num_items, embedding_size=100):\n",
    "        super(NCF, self).__init__()\n",
    "        self.user_embedding = nn.Embedding(num_users, embedding_size)\n",
    "        self.item_embedding = nn.Embedding(num_items, embedding_size)\n",
    "        self.fc1 = nn.Linear(embedding_size*2, 64)\n",
    "        self.fc2 = nn.Linear(64, 32)\n",
    "        self.output = nn.Linear(32, 1)\n",
    "        \n",
    "    def forward(self, user, item):\n",
    "        user_emb = self.user_embedding(user)\n",
    "        item_emb = self.item_embedding(item)\n",
    "        x = torch.cat([user_emb, item_emb], dim=1)\n",
    "        x = torch.relu(self.fc1(x))\n",
    "        x = torch.relu(self.fc2(x))\n",
    "        return self.output(x)\n",
    "\n",
    "# Initialize and train the model (code omitted for brevity)\n",
    "\n",
    "def deep_learning_recommender(user_id, n=10):\n",
    "    # Implementation using trained NCF model\n",
    "    pass\n",
    "\n",
    "# Test deep learning recommender\n",
    "# print(deep_learning_recommender(1, n=5))"
   ]
  },
  {
   "cell_type": "markdown",
   "id": "93da0822-f694-42b2-ad33-aa37072b421a",
   "metadata": {},
   "source": [
    "e. Context-Aware Recommendations:"
   ]
  },
  {
   "cell_type": "code",
   "execution_count": null,
   "id": "868796f2-5da6-43e7-ab1f-0b3a62968827",
   "metadata": {},
   "outputs": [],
   "source": [
    "def time_based_recommender(user_id, timestamp, n=10):\n",
    "    user_ratings = ratings[(ratings['user_id'] == user_id) & (ratings['timestamp'] <= timestamp)]\n",
    "    recent_movies = user_ratings.sort_values('timestamp', ascending=False)['movie_id'].head(5).tolist()\n",
    "    \n",
    "    similar_movies = []\n",
    "    for movie in recent_movies:\n",
    "        similar_movies.extend(content_based_recommender(movie, n=2))\n",
    "    \n",
    "    return list(dict.fromkeys(similar_movies))[:n]\n",
    "\n",
    "# Test context-aware recommender\n",
    "print(time_based_recommender(1, ratings['timestamp'].max(), n=5))"
   ]
  },
  {
   "cell_type": "markdown",
   "id": "3045e14f-abff-44cd-99d8-16581ccf3a1b",
   "metadata": {},
   "source": [
    "4. Evaluation Metrics:"
   ]
  },
  {
   "cell_type": "code",
   "execution_count": null,
   "id": "b753c28c-d536-4ce8-b553-045fe9995e39",
   "metadata": {},
   "outputs": [],
   "source": [
    "\n",
    "from sklearn.metrics import mean_squared_error\n",
    "from math import sqrt\n",
    "\n",
    "def rmse(predictions, targets):\n",
    "    return sqrt(mean_squared_error(predictions, targets))\n",
    "\n",
    "def precision_at_k(recommended_items, relevant_items, k):\n",
    "    recommended_items = set(recommended_items[:k])\n",
    "    relevant_items = set(relevant_items)\n",
    "    return len(recommended_items.intersection(relevant_items)) / k\n",
    "\n",
    "# Evaluate models (example for collaborative filtering)\n",
    "test_set = [tuple(x) for x in test_data[['user_id', 'movie_id', 'rating']].values]\n",
    "predictions = svd.test(test_set)\n",
    "rmse_score = rmse([pred.est for pred in predictions], [true_r for (_, _, true_r) in test_set])\n",
    "print(f\"RMSE for Collaborative Filtering: {rmse_score}\")"
   ]
  },
  {
   "cell_type": "markdown",
   "id": "7276b858-b020-4443-8ddc-f116c64b2d8a",
   "metadata": {},
   "source": [
    "5. Cold Start Problem:"
   ]
  },
  {
   "cell_type": "code",
   "execution_count": null,
   "id": "101f523b-2dc3-4171-835c-1cb0f4e3b51b",
   "metadata": {},
   "outputs": [],
   "source": [
    "def cold_start_recommender(new_user_genres):\n",
    "    genre_similarity = cosine_similarity([new_user_genres], movies.iloc[:, 2:])\n",
    "    similar_movies = movies.iloc[genre_similarity.argsort()[0][::-1]]\n",
    "    return similar_movies['movie_id'].head(10).tolist()\n",
    "\n",
    "# Test cold start recommender\n",
    "new_user_genres = [1, 0, 1, 0, 0, 0, 0, 0, 0, 0, 0, 0, 0, 0, 0, 0, 0, 0, 0]  # Example genre preferences\n",
    "print(cold_start_recommender(new_user_genres))"
   ]
  },
  {
   "cell_type": "code",
   "execution_count": null,
   "id": "acf0a50a-81fd-4126-8ec2-96d05d5f054e",
   "metadata": {},
   "outputs": [],
   "source": [
    "\n",
    "6. Final Analysis:\n",
    "   - Compare the performance of different recommendation techniques\n",
    "   - Discuss the trade-offs between accuracy, diversity, and computational efficiency\n",
    "   - Analyze the effectiveness of the cold start strategy\n",
    "   - Consider ethical implications and potential biases in the recommendation systems\n"
   ]
  }
 ],
 "metadata": {
  "kernelspec": {
   "display_name": "Python 3 (ipykernel)",
   "language": "python",
   "name": "python3"
  },
  "language_info": {
   "codemirror_mode": {
    "name": "ipython",
    "version": 3
   },
   "file_extension": ".py",
   "mimetype": "text/x-python",
   "name": "python",
   "nbconvert_exporter": "python",
   "pygments_lexer": "ipython3",
   "version": "3.10.12"
  }
 },
 "nbformat": 4,
 "nbformat_minor": 5
}
