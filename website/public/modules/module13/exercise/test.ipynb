{
 "cells": [
  {
   "cell_type": "code",
   "execution_count": null,
   "id": "0d9ba7cd-4d9b-45b1-a70b-096756d6bb75",
   "metadata": {},
   "outputs": [],
   "source": []
  }
 ],
 "metadata": {
  "kernelspec": {
   "display_name": "",
   "name": ""
  },
  "language_info": {
   "name": ""
  }
 },
 "nbformat": 4,
 "nbformat_minor": 5
}
