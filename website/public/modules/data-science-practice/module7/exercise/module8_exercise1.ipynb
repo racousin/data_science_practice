{
 "cells": [
  {
   "cell_type": "code",
   "execution_count": 1,
   "id": "ad6db548-ee6a-4a31-8aae-eb014e45806c",
   "metadata": {},
   "outputs": [],
   "source": [
    "# Deep Learning Fundamentals: MNIST Case Study\n",
    "import torch\n",
    "import torch.nn as nn\n",
    "import torch.optim as optim\n",
    "from torch.utils.data import DataLoader\n",
    "import matplotlib.pyplot as plt\n",
    "import numpy as np\n",
    "from sklearn.metrics import confusion_matrix\n",
    "import seaborn as sns\n",
    "import pandas as pd"
   ]
  },
  {
   "cell_type": "markdown",
   "id": "9e83ffc7-885b-4470-904f-b1015355ccee",
   "metadata": {},
   "source": [
    "### Data Collection"
   ]
  },
  {
   "cell_type": "code",
   "execution_count": 5,
   "id": "4529f06b-2df5-42b9-8038-6ad5253ce57f",
   "metadata": {},
   "outputs": [
    {
     "name": "stdout",
     "output_type": "stream",
     "text": [
      "Downloaded X_train.pth from https://www.raphaelcousin.com/modules/data-science-practice/module7/exercise/X_train.pth\n",
      "Downloaded y_test.pth from https://www.raphaelcousin.com/modules/data-science-practice/module7/exercise/y_test.pth\n",
      "Downloaded X_test.pth from https://www.raphaelcousin.com/modules/data-science-practice/module7/exercise/X_test.pth\n"
     ]
    }
   ],
   "source": [
    "import requests\n",
    "\n",
    "# URLs of the files\n",
    "data_train_features_url = 'https://www.raphaelcousin.com/modules/data-science-practice/module7/exercise/X_train.pth'\n",
    "data_train_labels_url = 'https://www.raphaelcousin.com/modules/data-science-practice/module7/exercise/y_train.pth'\n",
    "data_test_features_url = 'https://www.raphaelcousin.com/modules/data-science-practice/module7/exercise/X_test.pth'\n",
    "\n",
    "# Function to download a file\n",
    "def download_file(url, file_name):\n",
    "    response = requests.get(url)\n",
    "    response.raise_for_status()  # Ensure we notice bad responses\n",
    "    with open(file_name, 'wb') as file:\n",
    "        file.write(response.content)\n",
    "    print(f'Downloaded {file_name} from {url}')\n",
    "\n",
    "# Downloading the files\n",
    "download_file(data_train_features_url, 'X_train.pth')\n",
    "download_file(data_train_labels_url, 'y_train.pth')\n",
    "download_file(data_test_features_url, 'X_test.pth')"
   ]
  },
  {
   "cell_type": "code",
   "execution_count": 8,
   "id": "41047ae2-d886-4d6d-9ebe-ce527da3b82d",
   "metadata": {},
   "outputs": [
    {
     "name": "stderr",
     "output_type": "stream",
     "text": [
      "/tmp/ipykernel_28584/3425421334.py:4: FutureWarning: You are using `torch.load` with `weights_only=False` (the current default value), which uses the default pickle module implicitly. It is possible to construct malicious pickle data which will execute arbitrary code during unpickling (See https://github.com/pytorch/pytorch/blob/main/SECURITY.md#untrusted-models for more details). In a future release, the default value for `weights_only` will be flipped to `True`. This limits the functions that could be executed during unpickling. Arbitrary objects will no longer be allowed to be loaded via this mode unless they are explicitly allowlisted by the user via `torch.serialization.add_safe_globals`. We recommend you start setting `weights_only=True` for any use case where you don't have full control of the loaded file. Please open an issue on GitHub for any issues related to this experimental feature.\n",
      "  X = torch.load('X_train.pth')\n"
     ]
    },
    {
     "name": "stdout",
     "output_type": "stream",
     "text": [
      "Dataset shapes:\n",
      "X_train: torch.Size([50000, 3, 32, 32])\n",
      "y_train: torch.Size([50000])\n",
      "\n",
      "First image shape: torch.Size([3, 32, 32])\n",
      "First image label: 6\n"
     ]
    },
    {
     "name": "stderr",
     "output_type": "stream",
     "text": [
      "/tmp/ipykernel_28584/3425421334.py:5: FutureWarning: You are using `torch.load` with `weights_only=False` (the current default value), which uses the default pickle module implicitly. It is possible to construct malicious pickle data which will execute arbitrary code during unpickling (See https://github.com/pytorch/pytorch/blob/main/SECURITY.md#untrusted-models for more details). In a future release, the default value for `weights_only` will be flipped to `True`. This limits the functions that could be executed during unpickling. Arbitrary objects will no longer be allowed to be loaded via this mode unless they are explicitly allowlisted by the user via `torch.serialization.add_safe_globals`. We recommend you start setting `weights_only=True` for any use case where you don't have full control of the loaded file. Please open an issue on GitHub for any issues related to this experimental feature.\n",
      "  y = torch.load('y_train.pth')\n"
     ]
    }
   ],
   "source": [
    "import torch\n",
    "\n",
    "# Load the saved tensors\n",
    "X = torch.load('X_train.pth')\n",
    "y = torch.load('y_train.pth')\n",
    "\n",
    "# Print shapes to verify the data\n",
    "print(\"Dataset shapes:\")\n",
    "print(f\"X_train: {X.shape}\")  # Should be torch.Size([50000, 28, 28])\n",
    "print(f\"y_train: {y.shape}\")  # Should be torch.Size([50000])\n",
    "\n",
    "# Example: access the first image and its label\n",
    "first_image = X[0]\n",
    "first_label = y[0]\n",
    "\n",
    "print(f\"\\nFirst image shape: {first_image.shape}\")  # Should be torch.Size([3, 32, 32])\n",
    "print(f\"First image label: {first_label}\")         # Should be a number between 0-9"
   ]
  },
  {
   "cell_type": "markdown",
   "id": "a6ca6340-b643-47db-85e0-3df691319232",
   "metadata": {},
   "source": [
    "### Data Analysis"
   ]
  },
  {
   "cell_type": "code",
   "execution_count": 9,
   "id": "42567510-e5d1-41bb-8aa3-149fb123fab9",
   "metadata": {},
   "outputs": [
    {
     "data": {
      "text/plain": [
       "torch.Size([50000, 3, 32, 32])"
      ]
     },
     "execution_count": 9,
     "metadata": {},
     "output_type": "execute_result"
    }
   ],
   "source": [
    "X.shape"
   ]
  },
  {
   "cell_type": "code",
   "execution_count": 10,
   "id": "7d72a598-dab8-4e6f-841a-5808c98953d3",
   "metadata": {},
   "outputs": [
    {
     "data": {
      "text/plain": [
       "torch.Size([50000])"
      ]
     },
     "execution_count": 10,
     "metadata": {},
     "output_type": "execute_result"
    }
   ],
   "source": [
    "y.shape"
   ]
  },
  {
   "cell_type": "code",
   "execution_count": 11,
   "id": "0f48d4fd-1964-4796-8143-fdc292655497",
   "metadata": {},
   "outputs": [],
   "source": [
    "def plot_images(X, y, num_examples=5, figsize=(15, 3)):\n",
    "    # Create figure\n",
    "    fig, axes = plt.subplots(1, num_examples, figsize=figsize)\n",
    "    \n",
    "    # Ensure axes is always a numpy array\n",
    "    if num_examples == 1:\n",
    "        axes = np.array([axes])\n",
    "    \n",
    "    # Plot each example\n",
    "    for i in range(num_examples):\n",
    "        # Get the image\n",
    "        img = np.array(X[i]).astype(int)\n",
    "        \n",
    "        # If the image has 3 dimensions, transpose it to (height, width, channels)\n",
    "        if img.ndim == 3 and img.shape[0] == 3:  # Shape is (3, height, width)\n",
    "            img = np.transpose(img, (1, 2, 0))  # Convert to (height, width, channels)\n",
    "        \n",
    "        # Plot the image\n",
    "        axes[i].imshow(img)\n",
    "        axes[i].set_title(f'Label: {y[i]}')\n",
    "        axes[i].axis('off')\n",
    "    \n",
    "    plt.tight_layout()\n",
    "    return fig"
   ]
  },
  {
   "cell_type": "code",
   "execution_count": 12,
   "id": "5954fff0-7a27-4ccd-83d0-8b001ad96035",
   "metadata": {},
   "outputs": [
    {
     "name": "stderr",
     "output_type": "stream",
     "text": [
      "/tmp/ipykernel_28584/2675572916.py:12: DeprecationWarning: __array__ implementation doesn't accept a copy keyword, so passing copy=False failed. __array__ must implement 'dtype' and 'copy' keyword arguments.\n",
      "  img = np.array(X[i]).astype(int)\n"
     ]
    },
    {
     "data": {
      "image/png": "[encoded data removed]",
      "text/plain": [
       "<Figure size 1500x300 with 10 Axes>"
      ]
     },
     "metadata": {},
     "output_type": "display_data"
    }
   ],
   "source": [
    "# Plot some examples\n",
    "fig = plot_images(X, y, num_examples=10)\n",
    "plt.show()"
   ]
  },
  {
   "cell_type": "markdown",
   "id": "d4011c61-79e4-4c5e-8dd5-e8053e4066c6",
   "metadata": {},
   "source": [
    "### Data Preprocessing\n",
    "Scale, split the data and create dataLoaders"
   ]
  },
  {
   "cell_type": "code",
   "execution_count": null,
   "id": "669dc3ee-0d36-48ef-93d1-854c87a372e7",
   "metadata": {},
   "outputs": [],
   "source": [
    "def preprocess_data(X, y, batch_size=32, train_size=0.7, val_size=0.15, random_state=42):\n",
    "    return data_loader_train, data_loader_val, data_loader_test"
   ]
  },
  {
   "cell_type": "markdown",
   "id": "ff035d78-4d48-4350-b454-8a739ba0d07f",
   "metadata": {},
   "source": [
    "### Model\n",
    "Create a simple model with right input output and define criterion and criterion/loss"
   ]
  },
  {
   "cell_type": "code",
   "execution_count": null,
   "id": "96f2bc76-ae97-49e8-9e25-1d8b4aed78d0",
   "metadata": {},
   "outputs": [],
   "source": [
    "def create_model():\n",
    "    return model, criterion, optimizer"
   ]
  },
  {
   "cell_type": "markdown",
   "id": "8e81ce88-118f-43bf-b7ad-94022be495ef",
   "metadata": {},
   "source": [
    "### Train\n",
    "Create a loop to train your model"
   ]
  },
  {
   "cell_type": "code",
   "execution_count": null,
   "id": "41e5ee84-736e-4163-8276-53c8e0de752b",
   "metadata": {},
   "outputs": [],
   "source": [
    "def train_model(model, train_loader, val_loader, criterion, optimizer):\n",
    "    history = defaultdict(list)\n",
    "    for epoch in range(num_epochs):\n",
    "        ...\n",
    "        history['train_loss'].append(train_loss)\n",
    "        history['train_acc'].append(train_acc)\n",
    "        history['val_loss'].append(val_loss)\n",
    "        history['val_acc'].append(val_acc)\n",
    "    return history"
   ]
  },
  {
   "cell_type": "code",
   "execution_count": null,
   "id": "61fd0af9-6a7b-4c82-88d5-c99e9dcddd0b",
   "metadata": {},
   "outputs": [],
   "source": [
    "# Create model and training components\n",
    "model, criterion, optimizer = create_model(device)\n",
    "\n",
    "# Train the model\n",
    "history = train_model(\n",
    "    model=model,\n",
    "    train_loader=train_loader,\n",
    "    val_loader=val_loader,\n",
    "    criterion=criterion,\n",
    "    optimizer=optimizer,\n",
    "    num_epochs=10\n",
    ")"
   ]
  },
  {
   "cell_type": "code",
   "execution_count": null,
   "id": "88945c7a-70c4-4ab7-b381-4d0276f94e02",
   "metadata": {},
   "outputs": [],
   "source": [
    "def plot_training_history(history):\n",
    "    \"\"\"\n",
    "    Plot training history\n",
    "    \n",
    "    Parameters:\n",
    "    -----------\n",
    "    history : dict\n",
    "        Training history containing metrics\n",
    "    \"\"\"\n",
    "    fig, ((ax1, ax2), (ax3, ax4)) = plt.subplots(2, 1, figsize=(10, 10))\n",
    "    \n",
    "    # Plot loss\n",
    "    ax1.plot(history['train_loss'], label='Train Loss')\n",
    "    ax1.plot(history['val_loss'], label='Val Loss')\n",
    "    ax1.set_xlabel('Epoch')\n",
    "    ax1.set_ylabel('Loss')\n",
    "    ax1.set_title('Training and Validation Loss')\n",
    "    ax1.legend()\n",
    "    ax1.grid(True)\n",
    "    \n",
    "    # Plot accuracy\n",
    "    ax2.plot(history['train_acc'], label='Train Acc')\n",
    "    ax2.plot(history['val_acc'], label='Val Acc')\n",
    "    ax2.set_xlabel('Epoch')\n",
    "    ax2.set_ylabel('Accuracy (%)')\n",
    "    ax2.set_title('Training and Validation Accuracy')\n",
    "    ax2.legend()\n",
    "    ax2.grid(True)\n",
    "    \n",
    "    plt.tight_layout()\n",
    "    return fig"
   ]
  },
  {
   "cell_type": "code",
   "execution_count": null,
   "id": "60fb283e-1f78-44fa-ae1e-221d9a973df5",
   "metadata": {},
   "outputs": [],
   "source": [
    "# Plot training history\n",
    "plot_training_history(history)\n",
    "plt.show()"
   ]
  },
  {
   "cell_type": "code",
   "execution_count": null,
   "id": "3658a73d-d0c1-41d7-b5c7-a9286f7a22d9",
   "metadata": {},
   "outputs": [],
   "source": [
    "### Improve your model and trainning"
   ]
  },
  {
   "cell_type": "code",
   "execution_count": null,
   "id": "b1d30af7-20a5-44e5-923b-0f320e395e50",
   "metadata": {},
   "outputs": [],
   "source": [
    "### Use Transfer Learning"
   ]
  },
  {
   "cell_type": "code",
   "execution_count": null,
   "id": "b25808b6-7552-4a0a-a6ff-fd83eaefdc88",
   "metadata": {},
   "outputs": [],
   "source": []
  },
  {
   "cell_type": "code",
   "execution_count": null,
   "id": "1315d5dc-7d0f-44ad-95a1-88984834e94c",
   "metadata": {},
   "outputs": [],
   "source": []
  },
  {
   "cell_type": "code",
   "execution_count": null,
   "id": "6c23cfab-39de-431a-94ea-57deadb74009",
   "metadata": {},
   "outputs": [],
   "source": []
  },
  {
   "cell_type": "code",
   "execution_count": null,
   "id": "a18c0246-c2a5-4b82-a007-86b057434b0a",
   "metadata": {},
   "outputs": [],
   "source": []
  },
  {
   "cell_type": "markdown",
   "id": "1e6c1adf-074b-47bf-af5a-e3f0a00e1591",
   "metadata": {},
   "source": [
    "### Generating Submission File"
   ]
  },
  {
   "cell_type": "code",
   "execution_count": 13,
   "id": "3fa5bcef-65cb-446b-96d6-d401bb3a9edc",
   "metadata": {},
   "outputs": [
    {
     "name": "stderr",
     "output_type": "stream",
     "text": [
      "/tmp/ipykernel_28584/3810787237.py:1: FutureWarning: You are using `torch.load` with `weights_only=False` (the current default value), which uses the default pickle module implicitly. It is possible to construct malicious pickle data which will execute arbitrary code during unpickling (See https://github.com/pytorch/pytorch/blob/main/SECURITY.md#untrusted-models for more details). In a future release, the default value for `weights_only` will be flipped to `True`. This limits the functions that could be executed during unpickling. Arbitrary objects will no longer be allowed to be loaded via this mode unless they are explicitly allowlisted by the user via `torch.serialization.add_safe_globals`. We recommend you start setting `weights_only=True` for any use case where you don't have full control of the loaded file. Please open an issue on GitHub for any issues related to this experimental feature.\n",
      "  X_test = torch.load('X_test.pth')\n"
     ]
    }
   ],
   "source": [
    "X_test = torch.load('X_test.pth')"
   ]
  },
  {
   "cell_type": "code",
   "execution_count": 14,
   "id": "99564e5b-0fc8-43fb-ba02-554a7cd87bb0",
   "metadata": {},
   "outputs": [
    {
     "data": {
      "text/plain": [
       "torch.Size([10000, 3, 32, 32])"
      ]
     },
     "execution_count": 14,
     "metadata": {},
     "output_type": "execute_result"
    }
   ],
   "source": [
    "X_test.shape"
   ]
  },
  {
   "cell_type": "code",
   "execution_count": null,
   "id": "c9581f59-2189-42cf-a69f-0d174b2fe7a5",
   "metadata": {},
   "outputs": [],
   "source": [
    "X_test = torch.load('X_test.pth')\n",
    "X_test_scaled = # apply same scale as train"
   ]
  },
  {
   "cell_type": "code",
   "execution_count": null,
   "id": "bb94bdc9-045d-44f5-a425-2a0623d0e994",
   "metadata": {},
   "outputs": [],
   "source": [
    "model.eval()  # Set the model to evaluation mode\n",
    "with torch.no_grad():\n",
    "    predictions = model(X_test_scaled)"
   ]
  },
  {
   "cell_type": "code",
   "execution_count": null,
   "id": "ed9d9fa3-16fc-4a77-8b31-a1e1eb196166",
   "metadata": {},
   "outputs": [],
   "source": [
    "_, predicted_labels = torch.max(predictions, dim=1)"
   ]
  },
  {
   "cell_type": "code",
   "execution_count": null,
   "id": "8f1a3d3e-de05-47f1-8984-1b6f0732f2de",
   "metadata": {},
   "outputs": [],
   "source": [
    "submission = pd.DataFrame({\n",
    "    'index': np.arange(len(X_test)),\n",
    "    'label': 0 # predicted_labels\n",
    "})\n",
    "\n",
    "submission.to_csv('submission.csv', index=False, sep=',')\n",
    "submission.head()"
   ]
  }
 ],
 "metadata": {
  "kernelspec": {
   "display_name": "Python 3 (ipykernel)",
   "language": "python",
   "name": "python3"
  },
  "language_info": {
   "codemirror_mode": {
    "name": "ipython",
    "version": 3
   },
   "file_extension": ".py",
   "mimetype": "text/x-python",
   "name": "python",
   "nbconvert_exporter": "python",
   "pygments_lexer": "ipython3",
   "version": "3.12.3"
  }
 },
 "nbformat": 4,
 "nbformat_minor": 5
}
