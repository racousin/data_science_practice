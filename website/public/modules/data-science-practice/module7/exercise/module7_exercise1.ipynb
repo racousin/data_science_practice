{
  "cells": [
    {
      "cell_type": "markdown",
      "metadata": {},
      "source": [
        "# Boat Object Detection with YOLO\n",
        "\n",
        "In this exercise, you will fine-tune a YOLO model for boat detection in satellite imagery."
      ]
    },
    {
      "cell_type": "code",
      "execution_count": null,
      "metadata": {},
      "outputs": [],
      "source": [
        "import pickle\n",
        "import numpy as np\n",
        "import matplotlib.pyplot as plt\n",
        "import matplotlib.patches as patches\n",
        "import requests\n",
        "import pandas as pd"
      ]
    },
    {
      "cell_type": "markdown",
      "metadata": {},
      "source": [
        "## Data Collection\n",
        "\n",
        "Download the training and test datasets."
      ]
    },
    {
      "cell_type": "code",
      "execution_count": null,
      "metadata": {},
      "outputs": [],
      "source": [
        "# URLs for the dataset files\n",
        "data_train_features_url = 'https://www.raphaelcousin.com/modules/data-science-practice/module7/exercise/X_train.pkl'\n",
        "data_train_labels_url = 'https://www.raphaelcousin.com/modules/data-science-practice/module7/exercise/y_train.pkl'\n",
        "data_test_features_url = 'https://www.raphaelcousin.com/modules/data-science-practice/module7/exercise/X_test.pkl'\n",
        "\n",
        "def download_file(url, file_name):\n",
        "    response = requests.get(url)\n",
        "    response.raise_for_status()\n",
        "    with open(file_name, 'wb') as file:\n",
        "        file.write(response.content)\n",
        "    print(f'Downloaded {file_name}')\n",
        "\n",
        "# Download the files\n",
        "download_file(data_train_features_url, 'X_train.pkl')\n",
        "download_file(data_train_labels_url, 'y_train.pkl')\n",
        "download_file(data_test_features_url, 'X_test.pkl')"
      ]
    },
    {
      "cell_type": "code",
      "execution_count": null,
      "metadata": {},
      "outputs": [],
      "source": [
        "# Load the training data\n",
        "with open('X_train.pkl', 'rb') as f:\n",
        "    X = pickle.load(f)\n",
        "\n",
        "with open('y_train.pkl', 'rb') as f:\n",
        "    y = pickle.load(f)\n",
        "\n",
        "print(f\"Loaded {len(X)} training images\")\n",
        "print(f\"Sample image shape: {X[0].shape}\")\n",
        "print(f\"Sample labels shape: {y[0].shape}\")\n",
        "print(f\"Sample labels (YOLO format - class_id, x_center, y_center, width, height):\\n{y[0]}\")"
      ]
    },
    {
      "cell_type": "markdown",
      "metadata": {},
      "source": [
        "## Data Visualization\n",
        "\n",
        "Display sample images with bounding boxes."
      ]
    },
    {
      "cell_type": "code",
      "execution_count": null,
      "metadata": {},
      "outputs": [],
      "source": [
        "def plot_image_with_boxes(image, boxes, ax=None):\n",
        "    \"\"\"\n",
        "    Plot an image with bounding boxes\n",
        "    boxes: numpy array with shape (n, 5) - [class_id, x_center, y_center, width, height]\n",
        "    All box coordinates are normalized (0-1)\n",
        "    \"\"\"\n",
        "    if ax is None:\n",
        "        fig, ax = plt.subplots(1, 1, figsize=(8, 8))\n",
        "    \n",
        "    ax.imshow(image)\n",
        "    height, width = image.shape[:2]\n",
        "    \n",
        "    # Draw each bounding box\n",
        "    for box in boxes:\n",
        "        class_id, x_center, y_center, box_width, box_height = box\n",
        "        \n",
        "        # Convert from normalized YOLO format to pixel coordinates\n",
        "        x_center_px = x_center * width\n",
        "        y_center_px = y_center * height\n",
        "        box_width_px = box_width * width\n",
        "        box_height_px = box_height * height\n",
        "        \n",
        "        # Calculate top-left corner\n",
        "        x1 = x_center_px - box_width_px / 2\n",
        "        y1 = y_center_px - box_height_px / 2\n",
        "        \n",
        "        # Draw rectangle\n",
        "        rect = patches.Rectangle(\n",
        "            (x1, y1), box_width_px, box_height_px,\n",
        "            linewidth=2, edgecolor='red', facecolor='none'\n",
        "        )\n",
        "        ax.add_patch(rect)\n",
        "        \n",
        "        # Add label\n",
        "        ax.text(x1, y1-5, 'boat', color='red', fontsize=10, \n",
        "                bbox=dict(boxstyle='round', facecolor='white', alpha=0.7))\n",
        "    \n",
        "    ax.axis('off')\n",
        "    return ax"
      ]
    },
    {
      "cell_type": "code",
      "execution_count": null,
      "metadata": {},
      "outputs": [],
      "source": [
        "# Display 5 sample images with bounding boxes\n",
        "fig, axes = plt.subplots(2, 3, figsize=(15, 10))\n",
        "axes = axes.flatten()\n",
        "\n",
        "for i in range(6):\n",
        "    plot_image_with_boxes(X[i], y[i], ax=axes[i])\n",
        "    axes[i].set_title(f'Image {i}: {len(y[i])} boat(s)')\n",
        "\n",
        "plt.tight_layout()\n",
        "plt.show()"
      ]
    },
    {
      "cell_type": "markdown",
      "metadata": {},
      "source": [
        "## Model Setup\n",
        "\n",
        "Load a pre-trained YOLO model and test it on the training images."
      ]
    },
    {
      "cell_type": "code",
      "execution_count": null,
      "metadata": {},
      "outputs": [],
      "source": [
        "from ultralytics import YOLO\n",
        "\n",
        "# Load a pre-trained YOLOv8 model (nano version)\n",
        "model = YOLO('yolov8n.pt')\n",
        "\n",
        "print(\"Model loaded successfully!\")"
      ]
    },
    {
      "cell_type": "code",
      "execution_count": null,
      "metadata": {},
      "outputs": [],
      "source": [
        "# Test the pre-trained model on a sample image\n",
        "# Save a sample image temporarily\n",
        "from PIL import Image\n",
        "sample_img = Image.fromarray(X[0])\n",
        "sample_img.save('temp_sample.png')\n",
        "\n",
        "# Run prediction\n",
        "results = model.predict(source='temp_sample.png', conf=0.25)\n",
        "\n",
        "print(f\"Pre-trained model detected {len(results[0].boxes)} objects\")\n",
        "print(\"Note: The pre-trained model may not detect boats well - you need to fine-tune it!\")"
      ]
    },
    {
      "cell_type": "markdown",
      "metadata": {},
      "source": [
        "## Fine-tune your YOLO model\n",
        "\n",
        "Your task is to fine-tune the YOLO model on the boat detection dataset to achieve a mAP50 score of at least 0.73 on the test set."
      ]
    },
    {
      "cell_type": "code",
      "execution_count": null,
      "metadata": {},
      "outputs": [],
      "source": [
        "# Your code here\n",
        "# Fine-tune the YOLO model\n"
      ]
    },
    {
      "cell_type": "markdown",
      "metadata": {},
      "source": [
        "## Generate Predictions for Test Set\n",
        "\n",
        "Generate predictions on the test set and save them in the required CSV format."
      ]
    },
    {
      "cell_type": "code",
      "execution_count": null,
      "metadata": {},
      "outputs": [],
      "source": [
        "# Load test data\n",
        "with open('X_test.pkl', 'rb') as f:\n",
        "    X_test = pickle.load(f)\n",
        "\n",
        "print(f\"Loaded {len(X_test)} test images\")"
      ]
    },
    {
      "cell_type": "code",
      "execution_count": null,
      "metadata": {},
      "outputs": [],
      "source": [
        "# Generate predictions on test set\n",
        "# Your trained model should be used here\n",
        "# Format: CSV with columns: image_id, box_idx, class_id, confidence, x_center, y_center, width, height\n",
        "\n",
        "predictions = []\n",
        "\n",
        "for img_idx, img in enumerate(X_test):\n",
        "    # Save image temporarily\n",
        "    temp_img = Image.fromarray(img)\n",
        "    temp_img.save('temp_test.png')\n",
        "    \n",
        "    # Run prediction with your fine-tuned model\n",
        "    # Replace 'model' with your fine-tuned model\n",
        "    results = model.predict(source='temp_test.png', conf=0.25, verbose=False)\n",
        "    \n",
        "    # Extract predictions\n",
        "    for box_idx, box in enumerate(results[0].boxes):\n",
        "        # Get box data in YOLO format (normalized coordinates)\n",
        "        x_center, y_center, width, height = box.xywhn[0].cpu().numpy()\n",
        "        confidence = box.conf[0].cpu().numpy()\n",
        "        class_id = int(box.cls[0].cpu().numpy())\n",
        "        \n",
        "        predictions.append({\n",
        "            'image_id': img_idx,\n",
        "            'box_idx': box_idx,\n",
        "            'class_id': 0,  # Always 0 for boat\n",
        "            'confidence': float(confidence),\n",
        "            'x_center': float(x_center),\n",
        "            'y_center': float(y_center),\n",
        "            'width': float(width),\n",
        "            'height': float(height)\n",
        "        })\n",
        "    \n",
        "    if (img_idx + 1) % 10 == 0:\n",
        "        print(f\"Processed {img_idx + 1}/{len(X_test)} images\")\n",
        "\n",
        "print(f\"\\nTotal predictions: {len(predictions)}\")"
      ]
    },
    {
      "cell_type": "code",
      "execution_count": null,
      "metadata": {},
      "outputs": [],
      "source": [
        "# Save predictions to CSV\n",
        "df_predictions = pd.DataFrame(predictions)\n",
        "df_predictions.to_csv('predictions.csv', index=False)\n",
        "\n",
        "print(\"Predictions saved to predictions.csv\")\n",
        "print(\"\\nFirst few predictions:\")\n",
        "print(df_predictions.head(10))"
      ]
    }
  ],
  "metadata": {
    "kernelspec": {
      "display_name": "Python 3",
      "language": "python",
      "name": "python3"
    },
    "language_info": {
      "codemirror_mode": {
        "name": "ipython",
        "version": 3
      },
      "file_extension": ".py",
      "mimetype": "text/x-python",
      "name": "python",
      "nbconvert_exporter": "python",
      "pygments_lexer": "ipython3",
      "version": "3.8.0"
    }
  },
  "nbformat": 4,
  "nbformat_minor": 4
}
