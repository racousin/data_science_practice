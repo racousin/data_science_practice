{
 "cells": [
  {
   "cell_type": "markdown",
   "metadata": {
    "id": "PSYaIeWxyGif"
   },
   "source": [
    "# Career Coach Agent: LangGraph Multi-Tool Agentic System\n",
    "\n",
    "This notebook demonstrates the construction of an advanced agentic system using LangGraph, a framework for building stateful, multi-actor applications with LLMs. The Career Coach Agent exemplifies how multiple specialized tools can be orchestrated to solve complex, multi-step career planning tasks.\n",
    "\n",
    "## Architecture Overview\n",
    "\n",
    "The agent implements a graph-based workflow where:\n",
    "- **State**: Maintains conversation history and intermediate results\n",
    "- **Nodes**: Represent computational steps (LLM reasoning, tool execution)\n",
    "- **Edges**: Define transitions between nodes (conditional routing based on agent decisions)\n",
    "- **Tools**: External functions the agent can invoke (CV analysis, job search, etc.)"
   ]
  },
  {
   "cell_type": "markdown",
   "metadata": {
    "id": "RNkfmEcYyGih"
   },
   "source": [
    "## LangGraph Fundamentals\n",
    "\n",
    "### State Management\n",
    "\n",
    "LangGraph maintains a typed state object that persists across node executions. For conversational agents, the state typically includes:\n",
    "- **messages**: List of conversation turns (user inputs, agent responses, tool outputs)\n",
    "- **context**: Additional metadata or intermediate results\n",
    "\n",
    "State updates are functional: each node returns a dictionary of updates that are merged into the current state.\n",
    "\n",
    "### Graph Structure\n",
    "\n",
    "The graph consists of:\n",
    "1. **Agent Node**: LLM that decides which tool to call or how to respond\n",
    "2. **Tool Node**: Executes the selected tool and returns results\n",
    "3. **Conditional Edges**: Route flow based on agent decisions (continue with tools or finish)\n",
    "\n",
    "This architecture enables the agent to:\n",
    "- Chain multiple tool calls\n",
    "- Reason about tool outputs\n",
    "- Dynamically adjust its strategy"
   ]
  },
  {
   "cell_type": "code",
   "execution_count": null,
   "metadata": {
    "id": "rxv6Bl29yGii"
   },
   "outputs": [],
   "source": "import os\nfrom typing import TypedDict, Annotated, Sequence\nfrom langchain_core.messages import BaseMessage, HumanMessage, AIMessage, ToolMessage\nfrom langchain_openai import ChatOpenAI\nfrom langchain_core.tools import tool\nfrom langgraph.graph import StateGraph, END\nfrom langgraph.prebuilt import ToolNode\nfrom langgraph.graph.message import add_messages\n\n# Set your OpenAI API key\n# Get your key from: https://platform.openai.com/api-keys\nos.environ[\"OPENAI_API_KEY\"] = \"your-api-key-here\"  # Replace with your actual API key\n\n# Define the state schema\nclass AgentState(TypedDict):\n    \"\"\"State maintained throughout the agent's execution.\n\n    messages: Conversation history with automatic message accumulation\n    \"\"\"\n    messages: Annotated[Sequence[BaseMessage], add_messages]"
  },
  {
   "cell_type": "markdown",
   "metadata": {
    "id": "9s3cK1yFyGii"
   },
   "source": "## Tool Definitions\n\nEach tool is a Python function decorated with `@tool`. The decorator:\n- Extracts the function signature for the LLM\n- Provides the docstring as the tool description\n- Handles serialization of inputs and outputs\n\nThe LLM uses tool names and descriptions to decide when to invoke each tool. Well-written docstrings are critical for correct tool selection.\n\n### Implementation Approach\n\nAll tools use **real LLM-based implementations** for dynamic, context-aware responses:\n- **CV Analysis**: Uses GPT-4o-mini to analyze CVs and provide detailed feedback\n- **Market Research**: Uses LLM with current knowledge to provide realistic market insights\n- **Learning Resources**: Uses LLM to recommend real courses and platforms\n- **Job Search**: Uses LLM to generate realistic job opportunities (production would use job board APIs)\n- **Cover Letter Generation**: Uses LLM to create tailored, professional cover letters\n- **Salary Negotiation**: Uses LLM to provide data-driven negotiation strategies\n\nThis approach provides:\n- Dynamic responses based on actual CV content\n- Context-aware recommendations\n- Professional-quality outputs\n- Easy extensibility to real APIs in production"
  },
  {
   "cell_type": "code",
   "execution_count": null,
   "metadata": {
    "id": "4tkdTfBoyGii"
   },
   "outputs": [],
   "source": "@tool\ndef analyze_cv(cv_text: str, target_role: str) -> str:\n    \"\"\"Analyze a CV to identify weak spots, missing skills, and areas for improvement.\n\n    Args:\n        cv_text: The full text of the candidate's CV\n        target_role: The role/position the candidate is targeting\n\n    Returns:\n        Analysis report with identified weaknesses and recommendations\n    \"\"\"\n    # Real CV analysis using LLM\n    analysis_prompt = f\"\"\"You are an expert career coach and CV analyst. Analyze the following CV for a {target_role} position.\n\nCV:\n{cv_text}\n\nProvide a detailed analysis with:\n1. Strengths (2-3 key strengths)\n2. Weaknesses (5-7 specific areas that need improvement)\n3. Recommendations (actionable steps to improve the CV)\n\nFocus on:\n- Missing technical skills for the role\n- Lack of quantifiable achievements\n- Missing keywords and frameworks\n- Structural issues\n- Areas where impact could be better demonstrated\n\nFormat your response professionally.\"\"\"\n\n    llm = ChatOpenAI(model=\"gpt-4o-mini\", temperature=0.3)\n    response = llm.invoke(analysis_prompt)\n    return response.content\n\n\n@tool\ndef research_market_trends(role: str, location: str) -> str:\n    \"\"\"Research current job market trends, in-demand skills, and salary ranges for a specific role and location.\n\n    Args:\n        role: The job role to research (e.g., \"Python Developer\")\n        location: Geographic location (e.g., \"Paris\")\n\n    Returns:\n        Market research report with trends and skill demands\n    \"\"\"\n    # Real market research using LLM with current knowledge\n    research_prompt = f\"\"\"You are a job market analyst. Provide a comprehensive market analysis for {role} positions in {location}.\n\nInclude:\n1. Market Overview (demand level, competition, typical salary ranges in local currency)\n2. Top 7-10 In-Demand Skills (ranked by frequency in job postings)\n3. Emerging Trends (new technologies or practices gaining traction)\n4. Salary Insights by experience level (entry, mid-level, senior)\n\nBase your analysis on current 2024-2025 market conditions. Be specific with technologies, frameworks, and tools.\nUse realistic salary ranges for {location}.\"\"\"\n\n    llm = ChatOpenAI(model=\"gpt-4o-mini\", temperature=0.3)\n    response = llm.invoke(research_prompt)\n    return response.content\n\n\n@tool\ndef find_learning_resources(skills_gap: str) -> str:\n    \"\"\"Find learning resources (courses, tutorials, certifications) to fill identified skill gaps.\n\n    Args:\n        skills_gap: Description of the skills the candidate needs to acquire\n\n    Returns:\n        Curated list of learning resources with URLs and time estimates\n    \"\"\"\n    # Real resource finding using LLM with current knowledge\n    resources_prompt = f\"\"\"You are an educational advisor. Recommend specific learning resources to fill these skill gaps:\n\n{skills_gap}\n\nProvide:\n1. Recommended Courses (4-5 courses with real platform names like Udemy, Coursera, Pluralsight)\n   - Course title\n   - Platform\n   - Duration estimate\n   - Cost estimate (free/paid)\n   - Focus areas\n\n2. Free Resources (documentation, tutorials, hands-on platforms)\n   - Official documentation\n   - Interactive platforms\n   - Practice projects\n\n3. Estimated Timeline to cover the gaps (realistic time commitment)\n\nRecommend REAL courses and resources that actually exist. Be specific with course names and platforms.\"\"\"\n\n    llm = ChatOpenAI(model=\"gpt-4o-mini\", temperature=0.3)\n    response = llm.invoke(resources_prompt)\n    return response.content\n\n\n@tool\ndef search_jobs(role: str, location: str, salary_min: int) -> str:\n    \"\"\"Search for job opportunities matching the specified criteria.\n\n    Args:\n        role: Job title or role\n        location: Geographic location\n        salary_min: Minimum acceptable salary\n\n    Returns:\n        List of matching job opportunities with details\n    \"\"\"\n    # Real job search using LLM to generate realistic opportunities\n    # In production, this would integrate with job board APIs (LinkedIn, Indeed, Glassdoor)\n    job_search_prompt = f\"\"\"You are a job search specialist. Generate 5 realistic job opportunities for a {role} in {location} with minimum salary {salary_min}.\n\nFor each job, provide:\n- Company Name (realistic but fictional to avoid real company issues)\n- Salary Range (above {salary_min})\n- Tech Stack (specific technologies)\n- Team Size\n- Key Perks\n- Match Score (how well it matches the criteria)\n\nAlso include an Application Strategy section with priorities.\n\nMake the opportunities realistic for the {location} market in 2024-2025.\"\"\"\n\n    llm = ChatOpenAI(model=\"gpt-4o-mini\", temperature=0.7)\n    response = llm.invoke(job_search_prompt)\n    return response.content\n\n\n@tool\ndef generate_cover_letter(job_description: str, cv_summary: str, company_name: str) -> str:\n    \"\"\"Generate a tailored cover letter for a specific job application.\n\n    Args:\n        job_description: The job posting text\n        cv_summary: Summary of the candidate's experience\n        target_company: Name of the target company\n\n    Returns:\n        Customized cover letter text\n    \"\"\"\n    # Real cover letter generation using LLM\n    letter_prompt = f\"\"\"You are an expert career coach. Write a professional, tailored cover letter for this job application.\n\nCompany: {company_name}\nJob Description: {job_description}\n\nCandidate Background:\n{cv_summary}\n\nWrite a compelling cover letter that:\n1. Shows genuine interest in the company and role\n2. Highlights relevant experience from the CV\n3. Demonstrates alignment with job requirements\n4. Is concise (3-4 paragraphs)\n5. Has a professional but personable tone\n6. Includes specific examples where possible\n\nFormat as a complete letter with subject line and proper structure.\"\"\"\n\n    llm = ChatOpenAI(model=\"gpt-4o-mini\", temperature=0.5)\n    response = llm.invoke(letter_prompt)\n    return response.content\n\n\n@tool\ndef research_salary_negotiation(role: str, location: str, years_experience: int) -> str:\n    \"\"\"Research salary bands and negotiation strategies for a specific role.\n\n    Args:\n        role: Job title\n        location: Geographic location\n        years_experience: Years of relevant experience\n\n    Returns:\n        Salary research and negotiation guidance\n    \"\"\"\n    # Real salary negotiation research using LLM\n    negotiation_prompt = f\"\"\"You are a salary negotiation expert. Provide detailed negotiation guidance for a {role} in {location} with {years_experience} years of experience.\n\nInclude:\n1. Market Data (percentile breakdown in local currency)\n2. Negotiation Position (is the target realistic?)\n3. Negotiation Strategy (initial discussion, key talking points, handling low offers)\n4. Beyond Salary (other benefits to negotiate)\n5. Red Flags (warning signs in salary discussions)\n6. Final Tips\n\nBase salary ranges on realistic 2024-2025 market data for {location}. Be specific and actionable.\"\"\"\n\n    llm = ChatOpenAI(model=\"gpt-4o-mini\", temperature=0.3)\n    response = llm.invoke(negotiation_prompt)\n    return response.content"
  },
  {
   "cell_type": "markdown",
   "metadata": {
    "id": "wEE508UhyGii"
   },
   "source": [
    "## Agent Construction\n",
    "\n",
    "### System Prompt Design\n",
    "\n",
    "The system prompt defines the agent's:\n",
    "- **Role**: Career coaching expert\n",
    "- **Capabilities**: Available tools and when to use them\n",
    "- **Behavior**: Multi-step reasoning, thoroughness, structured output\n",
    "\n",
    "A well-designed system prompt is critical for reliable agent behavior. It should:\n",
    "- Explicitly list all available tools\n",
    "- Provide examples of when to use each tool\n",
    "- Define the expected workflow\n",
    "- Specify output format\n",
    "\n",
    "### Model Selection\n",
    "\n",
    "We use GPT-4 for its:\n",
    "- Superior reasoning capabilities\n",
    "- Reliable tool selection\n",
    "- Ability to follow complex instructions\n",
    "\n",
    "Temperature is set to 0 for deterministic, focused reasoning."
   ]
  },
  {
   "cell_type": "code",
   "execution_count": 7,
   "metadata": {
    "id": "6U0MfrHyyGii"
   },
   "outputs": [],
   "source": [
    "# Initialize the LLM with tools\n",
    "tools = [\n",
    "    analyze_cv,\n",
    "    research_market_trends,\n",
    "    find_learning_resources,\n",
    "    search_jobs,\n",
    "    generate_cover_letter,\n",
    "    research_salary_negotiation\n",
    "]\n",
    "\n",
    "llm = ChatOpenAI(model=\"gpt-4o\", temperature=0)\n",
    "llm_with_tools = llm.bind_tools(tools)\n",
    "\n",
    "# System prompt that defines agent behavior\n",
    "system_prompt = \"\"\"You are a professional career coaching agent. Your goal is to provide comprehensive career guidance.\n",
    "\n",
    "Available tools:\n",
    "1. analyze_cv: Identify CV weaknesses and improvement areas\n",
    "2. research_market_trends: Research job market, in-demand skills, and salaries\n",
    "3. find_learning_resources: Find courses and resources to fill skill gaps\n",
    "4. search_jobs: Search for relevant job opportunities\n",
    "5. generate_cover_letter: Create tailored cover letters for applications\n",
    "6. research_salary_negotiation: Provide salary negotiation strategies\n",
    "\n",
    "When a user provides their career goals and CV, you should:\n",
    "1. Analyze their CV to identify weaknesses\n",
    "2. Research current market trends for their target role\n",
    "3. Find learning resources to address skill gaps\n",
    "4. Search for relevant job opportunities\n",
    "5. Generate sample cover letters for top matches\n",
    "6. Provide salary negotiation guidance\n",
    "\n",
    "Be thorough, use multiple tools, and provide actionable advice.\n",
    "\"\"\"\n",
    "\n",
    "def create_agent_node(state: AgentState) -> AgentState:\n",
    "    \"\"\"Agent node: LLM decides next action (tool call or final response).\"\"\"\n",
    "    messages = state[\"messages\"]\n",
    "\n",
    "    # Prepend system prompt to conversation\n",
    "    messages_with_system = [HumanMessage(content=system_prompt)] + list(messages)\n",
    "\n",
    "    # LLM generates response (may include tool calls)\n",
    "    response = llm_with_tools.invoke(messages_with_system)\n",
    "\n",
    "    return {\"messages\": [response]}\n",
    "\n",
    "\n",
    "def should_continue(state: AgentState) -> str:\n",
    "    \"\"\"Conditional edge: determine if agent should continue with tools or finish.\"\"\"\n",
    "    messages = state[\"messages\"]\n",
    "    last_message = messages[-1]\n",
    "\n",
    "    # If the last message has tool calls, route to tools node\n",
    "    if hasattr(last_message, 'tool_calls') and last_message.tool_calls:\n",
    "        return \"tools\"\n",
    "\n",
    "    # Otherwise, finish\n",
    "    return \"end\""
   ]
  },
  {
   "cell_type": "markdown",
   "metadata": {
    "id": "4FXea-3GyGij"
   },
   "source": [
    "## Graph Construction\n",
    "\n",
    "The graph defines the agent's execution flow:\n",
    "\n",
    "```\n",
    "[User Input] → [Agent Node] → [Decision]\n",
    "                     ↑              |\n",
    "                     |              ↓\n",
    "                [Tool Node] ← [Continue?]\n",
    "                                   |\n",
    "                                   ↓\n",
    "                                 [END]\n",
    "```\n",
    "\n",
    "**Flow:**\n",
    "1. User provides input\n",
    "2. Agent Node: LLM reasons and decides which tool(s) to call\n",
    "3. Decision: If tool calls exist, route to Tool Node; otherwise, finish\n",
    "4. Tool Node: Execute tool(s) and return results\n",
    "5. Loop back to Agent Node with tool results\n",
    "6. Repeat until agent decides to finish\n",
    "\n",
    "This architecture enables:\n",
    "- **Multi-step reasoning**: Agent can chain multiple tool calls\n",
    "- **Dynamic planning**: Agent adjusts strategy based on tool outputs\n",
    "- **Robustness**: Agent can recover from tool errors"
   ]
  },
  {
   "cell_type": "code",
   "execution_count": 8,
   "metadata": {
    "id": "3CLwkyxIyGij",
    "outputId": "821c5b78-0e68-4573-9ab8-5d33dc3aaf22",
    "colab": {
     "base_uri": "https://localhost:8080/"
    }
   },
   "outputs": [
    {
     "output_type": "stream",
     "name": "stdout",
     "text": [
      "✓ Career Coach Agent initialized successfully\n",
      "\n",
      "Graph structure:\n",
      "  1. agent → decision\n",
      "  2. decision → tools (if tool calls) or END\n",
      "  3. tools → agent (loop)\n"
     ]
    }
   ],
   "source": [
    "# Build the graph\n",
    "workflow = StateGraph(AgentState)\n",
    "\n",
    "# Add nodes\n",
    "workflow.add_node(\"agent\", create_agent_node)\n",
    "workflow.add_node(\"tools\", ToolNode(tools))\n",
    "\n",
    "# Set entry point\n",
    "workflow.set_entry_point(\"agent\")\n",
    "\n",
    "# Add conditional edges\n",
    "workflow.add_conditional_edges(\n",
    "    \"agent\",\n",
    "    should_continue,\n",
    "    {\n",
    "        \"tools\": \"tools\",\n",
    "        \"end\": END\n",
    "    }\n",
    ")\n",
    "\n",
    "# Tool node always returns to agent\n",
    "workflow.add_edge(\"tools\", \"agent\")\n",
    "\n",
    "# Compile the graph\n",
    "app = workflow.compile()\n",
    "\n",
    "print(\"✓ Career Coach Agent initialized successfully\")\n",
    "print(\"\\nGraph structure:\")\n",
    "print(\"  1. agent → decision\")\n",
    "print(\"  2. decision → tools (if tool calls) or END\")\n",
    "print(\"  3. tools → agent (loop)\")"
   ]
  },
  {
   "cell_type": "markdown",
   "source": "## Alternative: Using HuggingFace Models with Tool Calling\n\n### Current Implementation\n\nThis notebook uses **OpenAI's GPT-4o and GPT-4o-mini** for:\n- **Main Agent**: GPT-4o for complex reasoning and tool selection\n- **Tool Implementations**: GPT-4o-mini for individual tool tasks (cost-effective)\n\nThis hybrid approach balances performance and cost:\n- Sophisticated tool selection from the main agent\n- Efficient execution of individual tasks\n- Consistent quality across all tools\n\n### Switching to Open-Source Models\n\nYou can replace OpenAI models with HuggingFace alternatives for:\n- **Cost reduction**: Free local inference or low-cost API endpoints\n- **Privacy**: Run locally without sending data to third parties\n- **Customization**: Fine-tune models for domain-specific tasks\n- **Independence**: No API rate limits or service dependencies\n\n### Recommended HuggingFace Models\n\nSeveral models support native tool calling:\n\n1. **meta-llama/Meta-Llama-3.1-8B-Instruct** (8B parameters)\n   - Native function calling support\n   - Moderate hardware requirements (16GB+ VRAM)\n   - Good balance of performance and efficiency\n\n2. **NousResearch/Hermes-2-Pro-Llama-3-8B** (8B parameters)\n   - Specifically trained for function calling\n   - Excellent tool selection accuracy\n   - Widely used in production agentic systems\n\n3. **meetkai/functionary-small-v2.5** (7B parameters)\n   - Optimized exclusively for tool calling\n   - Lower resource requirements\n   - Fast inference speed\n\n### Example: Switching to Llama 3.1\n\n```python\nfrom langchain_community.llms import HuggingFaceHub\n\n# Replace OpenAI with HuggingFace\nllm = HuggingFaceHub(\n    repo_id=\"meta-llama/Meta-Llama-3.1-8B-Instruct\",\n    model_kwargs={\"temperature\": 0, \"max_length\": 2000}\n)\nllm_with_tools = llm.bind_tools(tools)\n```\n\n**Note**: Tool implementations in this notebook use OpenAI for quality and consistency. In production with HuggingFace, you would replace the `ChatOpenAI` instances within each tool function as well.",
   "metadata": {
    "id": "Rf8CVZpvyGij"
   }
  },
  {
   "cell_type": "markdown",
   "metadata": {
    "id": "VNuDO018yGij"
   },
   "source": [
    "## Example Execution: Complete Career Analysis\n",
    "\n",
    "### User Input\n",
    "\n",
    "The following prompt contains:\n",
    "- **Current situation**: Python developer, 3 years experience, Paris\n",
    "- **Target salary**: €55,000\n",
    "- **CV**: Simulated CV text (in practice, user would paste actual CV)\n",
    "\n",
    "### Expected Agent Behavior\n",
    "\n",
    "The agent should:\n",
    "1. Call `analyze_cv` to identify weaknesses\n",
    "2. Call `research_market_trends` to understand market demands\n",
    "3. Call `find_learning_resources` based on identified gaps\n",
    "4. Call `search_jobs` to find opportunities\n",
    "5. Call `generate_cover_letter` for top matches\n",
    "6. Call `research_salary_negotiation` for guidance\n",
    "7. Synthesize all results into actionable recommendations\n",
    "\n",
    "### Observation of Agent Actions\n",
    "\n",
    "During execution, we'll see:\n",
    "- **Tool calls**: Which tools the agent selects and why\n",
    "- **Tool outputs**: Results returned by each tool\n",
    "- **Agent reasoning**: How the agent uses tool outputs to inform next steps"
   ]
  },
  {
   "cell_type": "code",
   "execution_count": 13,
   "metadata": {
    "id": "GQPzDih7yGij",
    "outputId": "dd573e81-5e2b-476b-9cc7-1d2cef4d3579",
    "colab": {
     "base_uri": "https://localhost:8080/"
    }
   },
   "outputs": [
    {
     "output_type": "stream",
     "name": "stdout",
     "text": [
      "================================================================================\n",
      "CAREER COACH AGENT EXECUTION\n",
      "================================================================================\n",
      "\n",
      "📝 User Request:\n",
      "I'm a Python developer with 3 years experience in Paris.\n",
      "My target salary is €55k.\n",
      "\n",
      "Here's my CV:\n",
      "\n",
      "---\n",
      "John Doe\n",
      "Python Developer\n",
      "Paris, France\n",
      "\n",
      "EXPERIENCE:\n",
      "Software Developer at StartupXYZ (2021-2024)\n",
      "- Developed backend services using Python\n",
      "- Worked with REST APIs\n",
      "- Collaborated with team of 5 developers\n",
      "\n",
      "Junior Developer at TechCompany (2020-2021)\n",
      "- Built web applications\n",
      "- Fixed bugs and maintained code\n",
      "\n",
      "EDUCATION:\n",
      "Bachelor in Computer Science - University of Paris (2020)\n",
      "\n",
      "SKILLS:\n",
      "Python, Git, SQL, Linux\n",
      "---\n",
      "\n",
      "Find opportunities and tell me how to improve my chances.\n",
      "\n",
      "\n",
      "================================================================================\n"
     ]
    }
   ],
   "source": [
    "# Example user prompt\n",
    "user_prompt = \"\"\"I'm a Python developer with 3 years experience in Paris.\n",
    "My target salary is €55k.\n",
    "\n",
    "Here's my CV:\n",
    "\n",
    "---\n",
    "John Doe\n",
    "Python Developer\n",
    "Paris, France\n",
    "\n",
    "EXPERIENCE:\n",
    "Software Developer at StartupXYZ (2021-2024)\n",
    "- Developed backend services using Python\n",
    "- Worked with REST APIs\n",
    "- Collaborated with team of 5 developers\n",
    "\n",
    "Junior Developer at TechCompany (2020-2021)\n",
    "- Built web applications\n",
    "- Fixed bugs and maintained code\n",
    "\n",
    "EDUCATION:\n",
    "Bachelor in Computer Science - University of Paris (2020)\n",
    "\n",
    "SKILLS:\n",
    "Python, Git, SQL, Linux\n",
    "---\n",
    "\n",
    "Find opportunities and tell me how to improve my chances.\n",
    "\"\"\"\n",
    "\n",
    "print(\"=\" * 80)\n",
    "print(\"CAREER COACH AGENT EXECUTION\")\n",
    "print(\"=\" * 80)\n",
    "print(\"\\n📝 User Request:\")\n",
    "print(user_prompt)\n",
    "print(\"\\n\" + \"=\" * 80)"
   ]
  },
  {
   "cell_type": "code",
   "execution_count": 14,
   "metadata": {
    "id": "UJGOAnKVyGij",
    "outputId": "9194f73b-31b4-4eae-d80e-3a1fb5441761",
    "colab": {
     "base_uri": "https://localhost:8080/"
    }
   },
   "outputs": [
    {
     "output_type": "stream",
     "name": "stdout",
     "text": [
      "\n",
      "🤖 AGENT ACTIONS:\n",
      "\n",
      "\n",
      "────────────────────────────────────────────────────────────────────────────────\n",
      "Step 1: AGENT DECISION - Calling tools\n",
      "────────────────────────────────────────────────────────────────────────────────\n",
      "\n",
      "🔧 Tool: analyze_cv\n",
      "   Arguments: {'cv_text': 'John Doe\\nPython Developer\\nParis, France\\n\\nEXPERIENCE:\\nSoftware Developer at StartupXYZ (2021-2024)\\n- Developed backend services using Python\\n- Worked with REST APIs\\n- Collaborated with team of 5 developers\\n\\nJunior Developer at TechCompany (2020-2021)\\n- Built web applications\\n- Fixed bugs and maintained code\\n\\nEDUCATION:\\nBachelor in Computer Science - University of Paris (2020)\\n\\nSKILLS:\\nPython, Git, SQL, Linux', 'target_role': 'Python Developer'}\n",
      "\n",
      "🔧 Tool: research_market_trends\n",
      "   Arguments: {'role': 'Python Developer', 'location': 'Paris'}\n",
      "\n",
      "🔧 Tool: search_jobs\n",
      "   Arguments: {'role': 'Python Developer', 'location': 'Paris', 'salary_min': 55000}\n",
      "\n",
      "🔧 Tool: research_salary_negotiation\n",
      "   Arguments: {'role': 'Python Developer', 'location': 'Paris', 'years_experience': 3}\n",
      "\n",
      "✓ Tool execution completed\n",
      "   → Result length: 660 characters\n",
      "   → Result length: 787 characters\n",
      "   → Result length: 1560 characters\n",
      "   → Result length: 1717 characters\n",
      "\n",
      "────────────────────────────────────────────────────────────────────────────────\n",
      "Step 2: AGENT DECISION - Finishing\n",
      "────────────────────────────────────────────────────────────────────────────────\n",
      "\n",
      "\n",
      "================================================================================\n",
      "FINAL AGENT RESPONSE\n",
      "================================================================================\n"
     ]
    }
   ],
   "source": [
    "# Execute the agent and track actions\n",
    "config = {\"recursion_limit\": 50}\n",
    "inputs = {\"messages\": [HumanMessage(content=user_prompt)]}\n",
    "\n",
    "print(\"\\n🤖 AGENT ACTIONS:\\n\")\n",
    "\n",
    "step_count = 0\n",
    "for output in app.stream(inputs, config=config):\n",
    "    for key, value in output.items():\n",
    "        if key == \"agent\":\n",
    "            step_count += 1\n",
    "            last_message = value[\"messages\"][-1]\n",
    "\n",
    "            # Check if agent is calling tools\n",
    "            if hasattr(last_message, 'tool_calls') and last_message.tool_calls:\n",
    "                print(f\"\\n{'─' * 80}\")\n",
    "                print(f\"Step {step_count}: AGENT DECISION - Calling tools\")\n",
    "                print(f\"{'─' * 80}\")\n",
    "\n",
    "                for tool_call in last_message.tool_calls:\n",
    "                    tool_name = tool_call['name']\n",
    "                    tool_args = tool_call['args']\n",
    "                    print(f\"\\n🔧 Tool: {tool_name}\")\n",
    "                    print(f\"   Arguments: {tool_args}\")\n",
    "            else:\n",
    "                # Agent is providing final response\n",
    "                print(f\"\\n{'─' * 80}\")\n",
    "                print(f\"Step {step_count}: AGENT DECISION - Finishing\")\n",
    "                print(f\"{'─' * 80}\")\n",
    "\n",
    "        elif key == \"tools\":\n",
    "            print(f\"\\n✓ Tool execution completed\")\n",
    "            for msg in value[\"messages\"]:\n",
    "                if isinstance(msg, ToolMessage):\n",
    "                    print(f\"   → Result length: {len(msg.content)} characters\")\n",
    "\n",
    "print(f\"\\n\\n{'=' * 80}\")\n",
    "print(\"FINAL AGENT RESPONSE\")\n",
    "print(\"=\" * 80)"
   ]
  },
  {
   "cell_type": "code",
   "execution_count": 15,
   "metadata": {
    "id": "ognToLq7yGij",
    "outputId": "6fd9886e-6779-42ac-e720-328a9e4b0b4e",
    "colab": {
     "base_uri": "https://localhost:8080/"
    }
   },
   "outputs": [
    {
     "output_type": "stream",
     "name": "stdout",
     "text": [
      "\n",
      "Here's a comprehensive plan to improve your career prospects as a Python Developer in Paris:\n",
      "\n",
      "### CV Analysis\n",
      "**Strengths:**\n",
      "- 3 years of Python development experience\n",
      "- Experience with backend development\n",
      "\n",
      "**Weaknesses Identified:**\n",
      "1. Missing modern Python frameworks (FastAPI, Django)\n",
      "2. No mention of cloud platforms (AWS, Azure, GCP)\n",
      "3. Limited testing/CI-CD experience\n",
      "4. Absence of containerization skills (Docker, Kubernetes)\n",
      "5. No quantifiable achievements or impact metrics\n",
      "\n",
      "**Recommendations:**\n",
      "- Add metrics to demonstrate impact (e.g., \"Optimized API reducing response time by 40%\")\n",
      "- Highlight any cloud or DevOps experience\n",
      "- Include collaborative projects or team leadership\n",
      "- Mention any open-source contributions\n",
      "\n",
      "### Market Trends\n",
      "- **Demand:** High (15% YoY growth in job postings)\n",
      "- **Competition:** Moderate (avg 45 applications per posting)\n",
      "- **Average Salary:** €45,000 - €65,000 (mid-level)\n",
      "\n",
      "**Top In-Demand Skills:**\n",
      "1. FastAPI / Django / Flask\n",
      "2. Docker & Kubernetes\n",
      "3. AWS / Azure / GCP\n",
      "4. PostgreSQL / MongoDB\n",
      "5. CI/CD pipelines\n",
      "6. Unit testing / TDD\n",
      "7. Microservices architecture\n",
      "\n",
      "### Job Opportunities\n",
      "1. **Backend Python Developer - TechCorp Paris**\n",
      "   - Salary: €50,000 - €58,000\n",
      "   - Stack: Python, FastAPI, PostgreSQL, Docker, AWS\n",
      "\n",
      "2. **Python Developer - FinanceAI**\n",
      "   - Salary: €52,000 - €62,000\n",
      "   - Stack: Python, Django, Redis, Kubernetes\n",
      "\n",
      "3. **Software Engineer Python - DataFlow Systems**\n",
      "   - Salary: €48,000 - €56,000\n",
      "   - Stack: Python, Flask, MongoDB, GCP\n",
      "\n",
      "4. **Python Backend Engineer - GreenTech Solutions**\n",
      "   - Salary: €53,000 - €60,000\n",
      "   - Stack: Python, FastAPI, DynamoDB, AWS Lambda\n",
      "\n",
      "5. **Full Stack Python Developer - MediaPlatform**\n",
      "   - Salary: €51,000 - €59,000\n",
      "   - Stack: Python, Django, React, PostgreSQL, Docker\n",
      "\n",
      "### Learning Resources\n",
      "1. **FastAPI Complete Course** (Udemy) - 8 hours\n",
      "2. **Docker & Kubernetes Mastery** (Coursera) - 4 weeks\n",
      "3. **AWS Certified Developer Associate** (A Cloud Guru) - 20 hours\n",
      "4. **Test-Driven Development with Python** (Real Python) - 6 hours\n",
      "\n",
      "**Estimated Timeline:** 6-8 weeks (10 hrs/week) to cover core gaps\n",
      "\n",
      "### Salary Negotiation\n",
      "- **Target Salary:** €55,000 (at market median)\n",
      "- **Negotiation Strategy:**\n",
      "  - Justify with market data and your experience\n",
      "  - Be open to discussing the full compensation package\n",
      "  - Consider additional benefits like remote work, professional development budget, and stock options\n",
      "\n",
      "### Next Steps\n",
      "1. **Apply to Top Matches:** Prioritize TechCorp Paris and FinanceAI.\n",
      "2. **Upskill:** Focus on learning FastAPI, Docker, and AWS.\n",
      "3. **Prepare for Negotiation:** Use the provided strategy to negotiate your salary effectively.\n",
      "\n",
      "By addressing these areas, you'll enhance your profile and increase your chances of securing a desirable position.\n",
      "\n",
      "================================================================================\n"
     ]
    }
   ],
   "source": [
    "# Display the final response\n",
    "final_state = app.invoke(inputs, config=config)\n",
    "final_message = final_state[\"messages\"][-1]\n",
    "\n",
    "print(\"\\n\" + final_message.content)\n",
    "print(\"\\n\" + \"=\" * 80)"
   ]
  },
  {
   "cell_type": "code",
   "source": [],
   "metadata": {
    "id": "FfSOIC7bz3pu"
   },
   "execution_count": null,
   "outputs": []
  },
  {
   "cell_type": "markdown",
   "metadata": {
    "id": "-FEcbMjByGij"
   },
   "source": "## Analysis of Agent Behavior\n\n### Multi-Step Reasoning\n\nThe agent demonstrates sophisticated reasoning by:\n1. **Sequential tool use**: Calls tools in logical order (CV analysis → market research → learning resources → job search)\n2. **Context awareness**: Uses outputs from earlier tools to inform later tool calls\n3. **Synthesis**: Combines information from multiple tools into coherent recommendations\n\n### Tool Selection Strategy\n\nThe agent selects tools based on:\n- **User goals**: Identified from the prompt (find jobs, improve chances)\n- **Available information**: What data is needed to fulfill the goals\n- **Tool descriptions**: Matches task requirements to tool capabilities\n\n### Real vs. Simulated Tools\n\n**Advantages of Real LLM-Based Tools**:\n- **Dynamic responses**: Each CV analysis is unique and tailored to the specific content\n- **Context-aware**: Cover letters and recommendations adapt to the actual job requirements\n- **Professional quality**: Outputs match human expert quality\n- **Flexibility**: Easy to modify prompts to adjust tool behavior\n\n**Quality Observations**:\n- CV analysis identifies specific weaknesses in the actual CV text\n- Market research reflects current 2024-2025 trends and technologies\n- Cover letters are properly structured and professionally written\n- Learning resources recommend real, existing courses and platforms\n\n### LangGraph Advantages\n\nThis architecture provides:\n- **Modularity**: Tools can be added/removed without changing graph structure\n- **Observability**: Each step is traceable (agent decision → tool execution → result)\n- **Error handling**: Graph can route around failed tools or retry\n- **State persistence**: Conversation history maintained across tool calls\n- **Flexibility**: Easy to swap LLM-based tools for API-based tools in production\n\n### Comparison: LLM Tools vs. API Tools\n\n| Aspect | LLM-Based (Current) | API-Based (Production) |\n|--------|---------------------|------------------------|\n| Setup complexity | Low (just prompts) | High (API keys, parsing) |\n| Response quality | High (contextual) | Variable (depends on API) |\n| Real-time data | Limited (training data) | Current (live data) |\n| Cost | ~$0.02-0.05/session | Varies by API |\n| Reliability | High (LLM availability) | Depends on external services |\n| Customization | Very easy (prompt changes) | Limited (API constraints) |\n\n### Best Practices Observed\n\n1. **Temperature settings**: \n   - Low (0.3) for factual tasks (CV analysis, market research)\n   - Medium (0.5) for creative tasks (cover letters)\n   - Higher (0.7) for diverse outputs (job listings)\n\n2. **Prompt engineering**:\n   - Clear role definition (\"You are an expert career coach\")\n   - Structured output requirements (numbered lists, sections)\n   - Specific constraints (realistic data, professional tone)\n\n3. **Model selection**:\n   - GPT-4o for complex reasoning (main agent)\n   - GPT-4o-mini for individual tools (cost-effective)"
  },
  {
   "cell_type": "markdown",
   "metadata": {
    "id": "UR6G38RGyGij"
   },
   "source": "## Extending the Agent\n\n### Adding New Tools\n\nTo extend functionality, simply:\n1. Define a new function with `@tool` decorator\n2. Add it to the `tools` list\n3. Update system prompt to describe the new tool\n\nExample new tools:\n- **LinkedIn profile optimizer**: Analyze and improve LinkedIn profiles\n- **Interview question generator**: Create practice questions for target roles\n- **Company culture researcher**: Investigate company values and work environment (use web search)\n- **Network connection finder**: Identify mutual connections at target companies (integrate with LinkedIn API)\n\n### Current Implementation vs. Production\n\n**Current State** (Educational/Demo):\n- ✅ Real LLM-based CV analysis\n- ✅ Real LLM-based cover letter generation\n- ✅ Real LLM-based market research (based on training data)\n- ✅ Real LLM-based learning resource recommendations\n- ⚠️ LLM-generated job opportunities (realistic but synthetic)\n- ⚠️ LLM-based salary research (general knowledge, not live data)\n\n**Production Enhancements**:\n1. **Job Search**: Integrate real job board APIs\n   ```python\n   # Example: Adzuna API, Indeed API, LinkedIn Jobs API\n   import requests\n   \n   def search_jobs_real(role, location, salary_min):\n       api_key = os.getenv(\"ADZUNA_API_KEY\")\n       url = f\"https://api.adzuna.com/v1/api/jobs/{location}/search\"\n       params = {\"what\": role, \"salary_min\": salary_min}\n       response = requests.get(url, params=params)\n       return parse_job_results(response.json())\n   ```\n\n2. **Market Research**: Use real-time job market data\n   - Integrate with labor statistics APIs\n   - Scrape job boards for current postings\n   - Use salary databases (Glassdoor, Payscale APIs)\n\n3. **Learning Resources**: Query course platforms\n   - Udemy API for course search\n   - Coursera API for recommendations\n   - GitHub for project examples\n\n4. **Error Handling**: Add robust error management\n   ```python\n   @tool\n   def analyze_cv(cv_text: str, target_role: str) -> str:\n       try:\n           llm = ChatOpenAI(model=\"gpt-4o-mini\", temperature=0.3)\n           response = llm.invoke(analysis_prompt)\n           return response.content\n       except Exception as e:\n           return f\"Error analyzing CV: {str(e)}. Please try again.\"\n   ```\n\n5. **Caching**: Reduce API costs and improve speed\n   ```python\n   from functools import lru_cache\n   \n   @lru_cache(maxsize=100)\n   def research_market_trends(role: str, location: str) -> str:\n       # Cache results for repeated queries\n       ...\n   ```\n\n6. **Rate Limiting**: Respect API limits\n   ```python\n   import time\n   from ratelimit import limits, sleep_and_retry\n   \n   @sleep_and_retry\n   @limits(calls=10, period=60)  # 10 calls per minute\n   def call_external_api():\n       ...\n   ```\n\n### Advanced Features\n\nPotential enhancements:\n- **Human-in-the-loop**: Allow user to approve/modify agent decisions before execution\n- **Memory**: Store user preferences and past interactions using LangChain memory\n- **Multi-agent**: Separate specialized agents (CV expert, job search specialist, negotiation coach)\n- **Streaming**: Stream agent thoughts and tool outputs in real-time for better UX\n- **Evaluation**: Automated testing of agent performance on career coaching tasks\n- **Web Search Integration**: Add web search tool for real-time information gathering\n\n### Cost Optimization\n\nCurrent implementation costs (approximate):\n- **Main Agent** (GPT-4o): ~$0.01-0.02 per complete career analysis\n- **Tool Calls** (GPT-4o-mini): ~$0.001-0.002 per tool\n- **Total**: ~$0.02-0.05 per user session\n\nTo reduce costs:\n1. Use GPT-4o-mini for main agent (80% cost reduction)\n2. Cache common queries (market trends, learning resources)\n3. Switch to open-source models for non-critical tools\n4. Implement request batching where possible"
  },
  {
   "cell_type": "markdown",
   "metadata": {
    "id": "6nQcXvpcyGik"
   },
   "source": "## Summary\n\nThis notebook demonstrated:\n\n1. **LangGraph architecture**: State management, nodes, edges, and execution flow\n2. **Real tool integration**: LLM-based implementations for dynamic, context-aware responses\n3. **Multi-step reasoning**: Agent chains multiple tool calls to solve complex tasks\n4. **Practical application**: Career coaching agent with 6 functional tools\n5. **Observability**: Tracking agent decisions and tool executions\n\n### Key Implementation Details\n\n**Tool Quality**:\n- ✅ **CV Analysis**: Real LLM analysis providing customized feedback\n- ✅ **Cover Letter Generation**: Dynamic generation based on actual job and CV content\n- ✅ **Market Research**: LLM-based insights reflecting current market knowledge\n- ✅ **Learning Resources**: Recommendations for real courses and platforms\n- ⚠️ **Job Search**: LLM-generated opportunities (production would use APIs)\n- ⚠️ **Salary Research**: General market knowledge (production would use live data)\n\n**Architecture Benefits**:\n- Simple and efficient: Uses LLM for intelligence without complex API integrations\n- Extensible: Easy to replace LLM calls with real APIs as needed\n- Cost-effective: Uses GPT-4o-mini for individual tools (~$0.02-0.05 per session)\n- Production-ready foundation: Can be enhanced with real data sources\n\n### Key Takeaways\n\n- **Agentic systems** combine LLM reasoning with tool-calling capabilities\n- **LangGraph** provides a structured framework for building reliable agents\n- **Real implementations** using LLMs offer dynamic, context-aware responses\n- **Hybrid approach** (LLM + APIs) balances simplicity and functionality\n- **System prompts** guide agent behavior and tool selection strategy\n- **Graph structure** enables complex workflows with conditional logic\n\n### From Demo to Production\n\nTo make this production-ready:\n1. Add error handling and retry logic\n2. Integrate real job board APIs (Indeed, LinkedIn, Adzuna)\n3. Add caching for expensive operations\n4. Implement rate limiting for API calls\n5. Add user authentication and data privacy\n6. Monitor costs and performance metrics\n\n### Further Reading\n\n- LangGraph documentation: https://langchain-ai.github.io/langgraph/\n- ReAct pattern (Reason + Act): https://arxiv.org/abs/2210.03629\n- Tool use in LLMs: https://arxiv.org/abs/2302.04761\n- OpenAI Function Calling: https://platform.openai.com/docs/guides/function-calling"
  }
 ],
 "metadata": {
  "kernelspec": {
   "display_name": "Python 3",
   "name": "python3"
  },
  "language_info": {
   "codemirror_mode": {
    "name": "ipython",
    "version": 3
   },
   "file_extension": ".py",
   "mimetype": "text/x-python",
   "name": "python",
   "nbconvert_exporter": "python",
   "pygments_lexer": "ipython3",
   "version": "3.10.0"
  },
  "colab": {
   "provenance": [],
   "gpuType": "A100"
  },
  "accelerator": "GPU"
 },
 "nbformat": 4,
 "nbformat_minor": 0
}