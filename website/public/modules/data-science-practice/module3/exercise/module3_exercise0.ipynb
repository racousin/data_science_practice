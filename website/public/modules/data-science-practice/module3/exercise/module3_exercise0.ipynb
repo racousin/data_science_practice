{
 "cells": [
  {
   "cell_type": "code",
   "execution_count": null,
   "id": "32854d75-093f-46c0-8b84-1fe9c6c1bfa5",
   "metadata": {},
   "outputs": [],
   "source": [
    "import pandas as pd"
   ]
  },
  {
   "cell_type": "markdown",
   "id": "623f9a8c-e5e1-46a7-9dd1-1ef0e9cec868",
   "metadata": {},
   "source": [
    "### Data Collection"
   ]
  },
  {
   "cell_type": "code",
   "execution_count": null,
   "id": "cac2bf4b-cce6-4f01-a906-21c6b83ee515",
   "metadata": {},
   "outputs": [],
   "source": [
    "import requests\n",
    "\n",
    "# URLs of the files\n",
    "train_data_url = 'https://www.raphaelcousin.com/modules/data-science-practice/module3/exercise/module3_exercise_train.csv'\n",
    "test_data_url = 'https://www.raphaelcousin.com/modules/data-science-practice/module3/exercise/module3_exercise_test.csv'\n",
    "\n",
    "# Function to download a file\n",
    "def download_file(url, file_name):\n",
    "    response = requests.get(url)\n",
    "    response.raise_for_status()  # Ensure we notice bad responses\n",
    "    with open(file_name, 'wb') as file:\n",
    "        file.write(response.content)\n",
    "    print(f'Downloaded {file_name} from {url}')\n",
    "\n",
    "# Downloading the files\n",
    "download_file(train_data_url, 'module3_exercise_train.csv')\n",
    "download_file(test_data_url, 'module3_exercise_test.csv')"
   ]
  },
  {
   "cell_type": "code",
   "execution_count": null,
   "id": "923f12cb-09c7-4952-b9d3-faf1ff9ada52",
   "metadata": {},
   "outputs": [],
   "source": [
    "df_train =  pd.read_csv(\"module3_exercise_train.csv\", sep=\",\", index_col='id')"
   ]
  },
  {
   "cell_type": "markdown",
   "id": "f5a30503-71a9-44b4-aa3d-9673e52d3491",
   "metadata": {},
   "source": [
    "### Data analysis"
   ]
  },
  {
   "cell_type": "code",
   "execution_count": null,
   "id": "192c41f6-3833-4a77-8a97-8287cda9a79b",
   "metadata": {},
   "outputs": [],
   "source": [
    "import matplotlib.pyplot as plt"
   ]
  }
 ],
 "metadata": {
  "kernelspec": {
   "display_name": "Python 3 (ipykernel)",
   "language": "python",
   "name": "python3"
  },
  "language_info": {
   "codemirror_mode": {
    "name": "ipython",
    "version": 3
   },
   "file_extension": ".py",
   "mimetype": "text/x-python",
   "name": "python",
   "nbconvert_exporter": "python",
   "pygments_lexer": "ipython3",
   "version": "3.12.3"
  }
 },
 "nbformat": 4,
 "nbformat_minor": 5
}
