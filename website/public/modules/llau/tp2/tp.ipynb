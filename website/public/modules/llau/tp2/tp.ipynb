{
 "cells": [
  {
   "cell_type": "markdown",
   "metadata": {
    "slideshow": {
     "slide_type": "slide"
    }
   },
   "source": [
    "# Data Science en pratique\n",
    "Arthur Llau, arthur@flowlity.com\n"
   ]
  },
  {
   "cell_type": "markdown",
   "metadata": {
    "slideshow": {
     "slide_type": "slide"
    }
   },
   "source": [
    "## TP - Kaggle : Bike Sharing Demand\n",
    "Plus d'infos sur https://www.kaggle.com/c/bike-sharing-demand"
   ]
  },
  {
   "cell_type": "code",
   "execution_count": null,
   "metadata": {
    "slideshow": {
     "slide_type": "subslide"
    }
   },
   "outputs": [],
   "source": [
    "import os\n",
    "import pandas as pd\n",
    "import numpy as np\n",
    "import seaborn as sns \n",
    "import matplotlib.pyplot as plt"
   ]
  },
  {
   "cell_type": "markdown",
   "metadata": {
    "slideshow": {
     "slide_type": "subslide"
    }
   },
   "source": [
    "**1** Exploratory Data Analysis\n",
    "\n",
    "Deux jeux de données: le jeu d'apprentissage du 01/01/11 au 31/07/12 et le jeu de test du 1/08/12 au 31/12/12.\n",
    "\n",
    "La variable à prédire est la variable **count** - nombre de vélo disponible à la borne à une date précise.\n",
    "\n",
    "**1.1** Importer les données, parser la variable datetime de manière à obtenir 4 nouvelles variables : year,month,day & hour. \n",
    "Observer un peu le jeu de données, type de données ?\n"
   ]
  },
  {
   "cell_type": "code",
   "execution_count": null,
   "metadata": {
    "slideshow": {
     "slide_type": "subslide"
    }
   },
   "outputs": [],
   "source": [
    "train = pd.read_csv(os.path.join('data', 'train.csv'), parse_dates=['datetime'])\n",
    "\n",
    "train['year'] = train['datetime'].dt.year\n",
    "train['month'] = #TO DO\n",
    "train['day'] = #TO DO\n",
    "train['hour'] = #TO DO\n"
   ]
  },
  {
   "cell_type": "code",
   "execution_count": null,
   "metadata": {
    "slideshow": {
     "slide_type": "subslide"
    }
   },
   "outputs": [],
   "source": [
    "# FAIRE LA MEME CHOSE AVEC LE TEST\n",
    "\n"
   ]
  },
  {
   "cell_type": "markdown",
   "metadata": {
    "slideshow": {
     "slide_type": "subslide"
    }
   },
   "source": [
    "**1.2** Regardez la variable cible **count** en fonction des autres variables pour voir celles qui semblent influer.\n",
    "Pensez à réaliser des boxplots, et autres figures apportant de l'information."
   ]
  },
  {
   "cell_type": "markdown",
   "metadata": {
    "slideshow": {
     "slide_type": "subslide"
    }
   },
   "source": [
    "**1.3** Regardez les valeurs manquantes dans les deux jeux de données en utilisant la fonction du dernier cours."
   ]
  },
  {
   "cell_type": "code",
   "execution_count": null,
   "metadata": {
    "scrolled": true,
    "slideshow": {
     "slide_type": "subslide"
    }
   },
   "outputs": [],
   "source": [
    "# Regardons les NA\n",
    "def compute_missing_values(data):\n",
    "    total = data.isnull().sum().sort_values(ascending=False)\n",
    "    percent = (data.isnull().sum()/data.isnull().count()).sort_values(ascending=False)\n",
    "    missing_data = pd.concat([total,percent], axis=1, keys=['Total', 'Pourcentage'])\n",
    "    #Affiche que les variables avec des na\n",
    "    print (missing_data[(percent>0)],'\\n' )\n",
    "    return missing_data[(percent>0)].index.tolist()\n"
   ]
  },
  {
   "cell_type": "code",
   "execution_count": null,
   "metadata": {
    "slideshow": {
     "slide_type": "subslide"
    }
   },
   "outputs": [],
   "source": [
    "# TO DO"
   ]
  },
  {
   "cell_type": "markdown",
   "metadata": {
    "slideshow": {
     "slide_type": "subslide"
    }
   },
   "source": [
    "** 2 ** Valeurs manquantes, comment les compléter ? (N'oubliez pas de les compléter sur les deux jeux !)"
   ]
  },
  {
   "cell_type": "markdown",
   "metadata": {
    "slideshow": {
     "slide_type": "subslide"
    }
   },
   "source": [
    "** 2.1  ** Trouvez la meilleure méthode pour compléter la variable **season**."
   ]
  },
  {
   "cell_type": "code",
   "execution_count": null,
   "metadata": {
    "slideshow": {
     "slide_type": "subslide"
    }
   },
   "outputs": [],
   "source": []
  },
  {
   "cell_type": "markdown",
   "metadata": {
    "slideshow": {
     "slide_type": "subslide"
    }
   },
   "source": [
    "** 2.2  ** Trouvez la meilleure méthode pour compléter la variable **weather**"
   ]
  },
  {
   "cell_type": "markdown",
   "metadata": {
    "slideshow": {
     "slide_type": "subslide"
    }
   },
   "source": [
    "** 2.3  ** Trouvez la meilleure méthode pour compléter la variable **windspeed** (Commencez par un plot)"
   ]
  },
  {
   "cell_type": "markdown",
   "metadata": {
    "slideshow": {
     "slide_type": "subslide"
    }
   },
   "source": [
    "** 2.4  ** Trouvez la meilleure méthode pour compléter la variable **temp**"
   ]
  },
  {
   "cell_type": "markdown",
   "metadata": {
    "slideshow": {
     "slide_type": "subslide"
    }
   },
   "source": [
    "**3** Variables catégorielles : Evaluer grâce à deux modèles différent, pour la métrique RMSE, la meilleur stratégie a employé pour transformer les variables catégorielles. N'oubliez pas de récuper la variable cible et supprimer la variable inutile...\n",
    "\n",
    "/!\\ Une transformation effectuée sur le jeu d'apprentissage et à effectuer sur le jeu de test."
   ]
  },
  {
   "cell_type": "code",
   "execution_count": null,
   "metadata": {
    "slideshow": {
     "slide_type": "subslide"
    }
   },
   "outputs": [],
   "source": [
    "from sklearn.linear_model import LinearRegression\n",
    "from sklearn.ensemble import RandomForestRegressor\n",
    "from sklearn.preprocessing import LabelEncoder\n",
    "\n",
    "def rmse(predictions, targets):\n",
    "    return np.sqrt(((predictions - targets) ** 2).mean())\n",
    "\n",
    "model_lr = LinearRegression()\n",
    "model_rf = RandomForestRegressor(random_state = 1)\n"
   ]
  },
  {
   "cell_type": "code",
   "execution_count": null,
   "metadata": {
    "scrolled": true,
    "slideshow": {
     "slide_type": "subslide"
    }
   },
   "outputs": [],
   "source": [
    "y_train = train['count']\n",
    "train = train.drop(['datetime','count'],axis=1)\n",
    "\n",
    "y_test = test['count']\n",
    "test = test.drop(['datetime','count'],axis=1)\n"
   ]
  },
  {
   "cell_type": "markdown",
   "metadata": {
    "slideshow": {
     "slide_type": "subslide"
    }
   },
   "source": [
    "**3.1** Only LabelEncoder"
   ]
  },
  {
   "cell_type": "code",
   "execution_count": null,
   "metadata": {
    "scrolled": true,
    "slideshow": {
     "slide_type": "subslide"
    }
   },
   "outputs": [],
   "source": [
    "train_encoder = train.copy()\n",
    "test_encoder = test.copy()\n",
    "\n",
    "for c in train.select_dtypes(object).columns:\n",
    "    labelencoder = LabelEncoder()\n",
    "    # TO DO\n",
    "    # TO DO\n",
    "    # TO DO\n",
    "    \n",
    "\n",
    "# FITTER PUIS PREDIRE POUR NOS DEUX MODELES"
   ]
  },
  {
   "cell_type": "markdown",
   "metadata": {
    "slideshow": {
     "slide_type": "subslide"
    }
   },
   "source": [
    "**3.2** Binarisation"
   ]
  },
  {
   "cell_type": "code",
   "execution_count": null,
   "metadata": {
    "slideshow": {
     "slide_type": "subslide"
    }
   },
   "outputs": [],
   "source": [
    "df = pd.concat([train,test])\n",
    "\n",
    "# Binarizer\n",
    "#...\n",
    "\n",
    "print(df.shape)\n",
    "display(df.head())\n"
   ]
  },
  {
   "cell_type": "code",
   "execution_count": null,
   "metadata": {
    "slideshow": {
     "slide_type": "subslide"
    }
   },
   "outputs": [],
   "source": [
    "train_bin = df.iloc[:train.shape[0]]\n",
    "test_bin = df.iloc[train.shape[0]:]\n",
    "del df"
   ]
  },
  {
   "cell_type": "code",
   "execution_count": null,
   "metadata": {
    "slideshow": {
     "slide_type": "subslide"
    }
   },
   "outputs": [],
   "source": [
    "# FITTER PUIS PREDIRE POUR NOS DEUX MODELES"
   ]
  },
  {
   "cell_type": "markdown",
   "metadata": {
    "slideshow": {
     "slide_type": "subslide"
    }
   },
   "source": [
    "**3.3** En mélangeant les méthodes !"
   ]
  },
  {
   "cell_type": "markdown",
   "metadata": {
    "slideshow": {
     "slide_type": "subslide"
    }
   },
   "source": [
    "** 4.4 ** - Si on a le temps, sinon pour dans deux semaines  : \n",
    "En effectuant des transformations sur les données et en choisissant un bon modèle essayez d'obtenir un score inférieur à 0.73. "
   ]
  }
 ],
 "metadata": {
  "celltoolbar": "Diaporama",
  "kernelspec": {
   "display_name": "Python 3 (ipykernel)",
   "language": "python",
   "name": "python3"
  },
  "language_info": {
   "codemirror_mode": {
    "name": "ipython",
    "version": 3
   },
   "file_extension": ".py",
   "mimetype": "text/x-python",
   "name": "python",
   "nbconvert_exporter": "python",
   "pygments_lexer": "ipython3",
   "version": "3.10.12"
  }
 },
 "nbformat": 4,
 "nbformat_minor": 4
}
