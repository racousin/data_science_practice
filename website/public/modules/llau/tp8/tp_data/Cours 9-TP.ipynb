{
 "cells": [
  {
   "cell_type": "markdown",
   "metadata": {
    "slideshow": {
     "slide_type": "slide"
    }
   },
   "source": [
    "# Cours 9: Introduction à Keras"
   ]
  },
  {
   "cell_type": "markdown",
   "metadata": {
    "slideshow": {
     "slide_type": "-"
    }
   },
   "source": [
    "Arthur Llau, arthur@flowlity.com"
   ]
  },
  {
   "cell_type": "markdown",
   "metadata": {
    "slideshow": {
     "slide_type": "slide"
    }
   },
   "source": [
    "**Plan** : \n",
    "- Benchmark\n",
    "- Définition de l'architecture d'un modèle\n",
    "- Layers, Activation & Optimizer\n",
    "- Callbacks\n",
    "- NLP tricks\n",
    "- Vision tricks\n"
   ]
  },
  {
   "cell_type": "markdown",
   "metadata": {
    "slideshow": {
     "slide_type": "slide"
    }
   },
   "source": [
    "## I - Introduction - Benchmark : classification & régréssion"
   ]
  },
  {
   "cell_type": "code",
   "execution_count": 1,
   "metadata": {
    "slideshow": {
     "slide_type": "slide"
    }
   },
   "outputs": [],
   "source": [
    "import warnings\n",
    "import numpy as np\n",
    "\n",
    "import matplotlib.pyplot as plt\n",
    "\n",
    "from sklearn.metrics import roc_auc_score, mean_absolute_error\n",
    "from sklearn.datasets import make_classification,make_regression\n",
    "from sklearn.linear_model import LogisticRegression, LinearRegression\n",
    "from sklearn.model_selection import train_test_split\n",
    "\n",
    "warnings.filterwarnings('ignore')"
   ]
  },
  {
   "cell_type": "code",
   "execution_count": 2,
   "metadata": {
    "slideshow": {
     "slide_type": "slide"
    }
   },
   "outputs": [],
   "source": [
    "X,y = make_classification(n_samples = 100000, n_features = 100, shuffle = True, random_state = 1234)\n",
    "X_tr,X_te,y_tr,y_te = train_test_split(X, y, random_state = 2019) "
   ]
  },
  {
   "cell_type": "code",
   "execution_count": 3,
   "metadata": {
    "slideshow": {
     "slide_type": "slide"
    }
   },
   "outputs": [],
   "source": [
    "X,y = make_regression(n_samples = 100000, n_features = 100, shuffle = True, random_state = 1234, noise = True)\n",
    "S_tr,S_te,s_tr,s_te = train_test_split(X, y, random_state = 2019) "
   ]
  },
  {
   "cell_type": "markdown",
   "metadata": {
    "slideshow": {
     "slide_type": "slide"
    }
   },
   "source": [
    "**1.1** Evaluer une régréssion logistique avec la métrique AUC sur le jeu de test correspondant."
   ]
  },
  {
   "cell_type": "markdown",
   "metadata": {
    "slideshow": {
     "slide_type": "slide"
    }
   },
   "source": [
    "**1.2** Evaluer une régréssion linéaire avec la métrique MAE sur le jeu de test correspondant."
   ]
  },
  {
   "cell_type": "markdown",
   "metadata": {
    "slideshow": {
     "slide_type": "slide"
    }
   },
   "source": [
    "## Que trouve-t'on dans Keras ?\n"
   ]
  },
  {
   "cell_type": "markdown",
   "metadata": {
    "slideshow": {
     "slide_type": "slide"
    }
   },
   "source": [
    "Keras est une API de deep learning, interfacable avec plusieurs framework comme Tensorflow, CNTK, Theano ou MxNet"
   ]
  },
  {
   "cell_type": "markdown",
   "metadata": {
    "slideshow": {
     "slide_type": "slide"
    }
   },
   "source": [
    "Points positifs :\n",
    "-  Facilité de prise en main, user-friendly, ressemble à sklearn\n",
    "-  Modulaire : on construit le graphe couche par couche ou comme un graphe \n",
    "-  Permet de mettre en place rapidement des tests\n",
    "-  Grosse communauté donc plein de papiers implémentés\n",
    "-  Plus rapide que torch en prédiction"
   ]
  },
  {
   "cell_type": "markdown",
   "metadata": {
    "slideshow": {
     "slide_type": "slide"
    }
   },
   "source": [
    "## II - Définir l'architecture d'un modèle"
   ]
  },
  {
   "cell_type": "markdown",
   "metadata": {
    "slideshow": {
     "slide_type": "slide"
    }
   },
   "source": [
    "![](networkx.png)"
   ]
  },
  {
   "cell_type": "markdown",
   "metadata": {
    "slideshow": {
     "slide_type": "slide"
    }
   },
   "source": [
    "Il existe deux méthodes pour définir un modèle :\n",
    "- Sequential : couche par couche\n",
    "- API : architecture arbitraire\n"
   ]
  },
  {
   "cell_type": "code",
   "execution_count": 6,
   "metadata": {
    "slideshow": {
     "slide_type": "slide"
    }
   },
   "outputs": [
    {
     "name": "stderr",
     "output_type": "stream",
     "text": [
      "Using TensorFlow backend.\n"
     ]
    }
   ],
   "source": [
    "from keras import layers\n",
    "from keras import models\n",
    "\n",
    "## Sequential, la plus simple\n",
    "#input_shape taille d'entrée (nombre de features dans le cas de données tabulaires),\n",
    "#si image (longueur,largeur,nb_couche)\n",
    "model = models.Sequential()\n",
    "model.add(layers.Dense(4, input_shape = (100,)))\n",
    "model.add(layers.Dense(1, activation= 'sigmoid'))\n"
   ]
  },
  {
   "cell_type": "code",
   "execution_count": 7,
   "metadata": {
    "slideshow": {
     "slide_type": "slide"
    }
   },
   "outputs": [],
   "source": [
    "\n",
    "#API qui permet de concatener des layers\n",
    "input_matrix = layers.Input((100,))\n",
    "x = layers.Dense(4)(input_matrix)\n",
    "output = layers.Dense(1)(x)\n",
    "model = models.Model(input_matrix, output)"
   ]
  },
  {
   "cell_type": "markdown",
   "metadata": {
    "slideshow": {
     "slide_type": "slide"
    }
   },
   "source": [
    "![exemple](model.png)"
   ]
  },
  {
   "cell_type": "code",
   "execution_count": 8,
   "metadata": {
    "scrolled": true,
    "slideshow": {
     "slide_type": "slide"
    }
   },
   "outputs": [],
   "source": [
    "object_a = layers.Input(shape=(280, 256))\n",
    "object_b = layers.Input(shape=(280, 256))\n",
    "\n",
    "shared_layer = layers.LSTM(64)\n",
    "#On construit deux layers indépendant\n",
    "layer_a = shared_layer(object_a)\n",
    "layer_b = shared_layer(object_b)\n",
    "#On les concatene\n",
    "merged_vector = layers.concatenate([layer_a, layer_b], axis=-1)\n",
    "#On ajoute l'output\n",
    "predictions = layers.Dense(1, activation='sigmoid')(merged_vector)\n",
    "\n",
    "model_concat = models.Model(inputs=[object_a, object_b], outputs=predictions)\n"
   ]
  },
  {
   "cell_type": "markdown",
   "metadata": {
    "slideshow": {
     "slide_type": "slide"
    }
   },
   "source": [
    "Une fois le modèle construit, il faut compiler. C'est-à-dire lui spécifier la fonction objectif (loss) et l'algorithme d'optimisation permettant de mettre à jour les poids du réseau. (optimizer)\n",
    "\n"
   ]
  },
  {
   "cell_type": "code",
   "execution_count": 9,
   "metadata": {
    "slideshow": {
     "slide_type": "slide"
    }
   },
   "outputs": [],
   "source": [
    "model.compile(loss = 'mean_squared_error', optimizer = 'adam', metrics = ['acc'])\n"
   ]
  },
  {
   "cell_type": "markdown",
   "metadata": {
    "slideshow": {
     "slide_type": "slide"
    }
   },
   "source": [
    "On peut afficher un résumé de l'architecture avec la commande suivante :"
   ]
  },
  {
   "cell_type": "code",
   "execution_count": 10,
   "metadata": {
    "scrolled": true,
    "slideshow": {
     "slide_type": "slide"
    }
   },
   "outputs": [
    {
     "name": "stdout",
     "output_type": "stream",
     "text": [
      "_________________________________________________________________\n",
      "Layer (type)                 Output Shape              Param #   \n",
      "=================================================================\n",
      "input_1 (InputLayer)         (None, 100)               0         \n",
      "_________________________________________________________________\n",
      "dense_3 (Dense)              (None, 4)                 404       \n",
      "_________________________________________________________________\n",
      "dense_4 (Dense)              (None, 1)                 5         \n",
      "=================================================================\n",
      "Total params: 409\n",
      "Trainable params: 409\n",
      "Non-trainable params: 0\n",
      "_________________________________________________________________\n"
     ]
    }
   ],
   "source": [
    "model.summary()"
   ]
  },
  {
   "cell_type": "markdown",
   "metadata": {
    "slideshow": {
     "slide_type": "slide"
    }
   },
   "source": [
    "*Pourquoi a-t'on 404 paramètres dans la couche d'entrée ?*"
   ]
  },
  {
   "cell_type": "markdown",
   "metadata": {
    "slideshow": {
     "slide_type": "slide"
    }
   },
   "source": [
    "On dispose  de 4 neurones, et 100 features, donc le nombre de paramètres est égale à nb neurones * nb features + nb neurones (biais)"
   ]
  },
  {
   "cell_type": "markdown",
   "metadata": {
    "slideshow": {
     "slide_type": "slide"
    }
   },
   "source": [
    "On peut sauvegarder l'architecture comme une image grâce à plot_model : "
   ]
  },
  {
   "cell_type": "code",
   "execution_count": 11,
   "metadata": {
    "slideshow": {
     "slide_type": "slide"
    }
   },
   "outputs": [],
   "source": [
    "\n",
    "from keras.utils import plot_model\n",
    "plot_model(model, to_file='model_init.png', show_shapes=True, show_layer_names=True)"
   ]
  },
  {
   "cell_type": "markdown",
   "metadata": {
    "slideshow": {
     "slide_type": "slide"
    }
   },
   "source": [
    "![](model_init.png)"
   ]
  },
  {
   "cell_type": "markdown",
   "metadata": {
    "slideshow": {
     "slide_type": "slide"
    }
   },
   "source": [
    "Il ne reste plus qu'à lui faire apprendre des données."
   ]
  },
  {
   "cell_type": "code",
   "execution_count": 12,
   "metadata": {
    "slideshow": {
     "slide_type": "slide"
    }
   },
   "outputs": [],
   "source": [
    "%%capture\n",
    "history = model.fit(X_tr,y_tr, epochs = 100, batch_size = 10000)\n",
    "# Batch = nombre d'échantillons que l'on envoie dans le réseau à chaque itération\n",
    "# Epoch = nombre de forward et backward totaux que l'on souhaite réaliser"
   ]
  },
  {
   "cell_type": "markdown",
   "metadata": {
    "slideshow": {
     "slide_type": "slide"
    }
   },
   "source": [
    "On peut récupérer les valeurs de loss et de la métrique durant l'évaluation"
   ]
  },
  {
   "cell_type": "code",
   "execution_count": 13,
   "metadata": {
    "slideshow": {
     "slide_type": "slide"
    }
   },
   "outputs": [
    {
     "data": {
      "text/plain": [
       "Text(0, 0.5, 'metric')"
      ]
     },
     "execution_count": 13,
     "metadata": {},
     "output_type": "execute_result"
    },
    {
     "data": {
      "image/png": "[encoded data removed]",
      "text/plain": [
       "<Figure size 1080x432 with 2 Axes>"
      ]
     },
     "metadata": {},
     "output_type": "display_data"
    }
   ],
   "source": [
    "plt.figure(figsize=(15,6))\n",
    "plt.subplot(121)\n",
    "plt.plot(range(100),history.history['loss'])\n",
    "plt.xlabel('epoch')\n",
    "plt.ylabel('loss')\n",
    "plt.subplot(122)\n",
    "plt.plot(range(100),history.history['acc'])\n",
    "plt.xlabel('epoch')\n",
    "plt.ylabel('metric')\n"
   ]
  },
  {
   "cell_type": "markdown",
   "metadata": {
    "slideshow": {
     "slide_type": "slide"
    }
   },
   "source": [
    "Pour **prédire**, rien de plus simple. model.predict(X)"
   ]
  },
  {
   "cell_type": "markdown",
   "metadata": {
    "slideshow": {
     "slide_type": "slide"
    }
   },
   "source": [
    "## III - Layers, Activations & Optimizer"
   ]
  },
  {
   "cell_type": "code",
   "execution_count": 14,
   "metadata": {
    "slideshow": {
     "slide_type": "skip"
    }
   },
   "outputs": [],
   "source": [
    "from keras.layers import *\n",
    "from keras.models import Sequential\n"
   ]
  },
  {
   "cell_type": "markdown",
   "metadata": {
    "slideshow": {
     "slide_type": "slide"
    }
   },
   "source": [
    "Pour des données tabulaires il y a principalement trois layers importants : Dense, Dropout, Activation."
   ]
  },
  {
   "cell_type": "code",
   "execution_count": 15,
   "metadata": {
    "slideshow": {
     "slide_type": "slide"
    }
   },
   "outputs": [
    {
     "name": "stdout",
     "output_type": "stream",
     "text": [
      "units : nombre de cellules\n",
      "\n",
      "activation : fonction d'activation\n"
     ]
    }
   ],
   "source": [
    "#Dense : Fully connected layer\n",
    "Dense(units = 30, activation=None, use_bias=True, kernel_initializer='glorot_uniform')\n",
    "print(\"\"\"units : nombre de cellules\n",
    "\n",
    "activation : fonction d'activation\"\"\")"
   ]
  },
  {
   "cell_type": "code",
   "execution_count": 16,
   "metadata": {
    "scrolled": true,
    "slideshow": {
     "slide_type": "slide"
    }
   },
   "outputs": [
    {
     "name": "stdout",
     "output_type": "stream",
     "text": [
      "rate : taux de dropout\n"
     ]
    }
   ],
   "source": [
    "#Dropout : Regularization en faisant sauter des neurones pendant l'apprentissage\n",
    "Dropout(rate = 0.3, seed=None)\n",
    "print(\"\"\"rate : taux de dropout\"\"\")"
   ]
  },
  {
   "cell_type": "code",
   "execution_count": 17,
   "metadata": {
    "slideshow": {
     "slide_type": "slide"
    }
   },
   "outputs": [],
   "source": [
    "model = Sequential()\n",
    "\n",
    "#La couche d'activation est équivalente à l'option activation dans une couche\n",
    "model.add(Dense(64, activation = 'relu'))\n",
    "# équivalent à \n",
    "model.add(Dense(64))\n",
    "model.add(Activation(activation='relu'))"
   ]
  },
  {
   "cell_type": "markdown",
   "metadata": {
    "slideshow": {
     "slide_type": "slide"
    }
   },
   "source": [
    "On trouve quatre activations principales :\n",
    "- linear : le signal n'est pas transformé\n",
    "- tanh : $\\frac{e^x−1}{e^x+1}$retourne une valeur entre -1 et 1  \n",
    "- sigmoid :  $ f(x)=\\frac{1}{1 + e^{- x}}$, retourne une valeur entre 0 et 1\n",
    "- relu : $max(0,x)$, on garde uniquement ce qui nous intéresse "
   ]
  },
  {
   "cell_type": "markdown",
   "metadata": {
    "slideshow": {
     "slide_type": "slide"
    }
   },
   "source": [
    "La denière couche du réseau est celle qui nous donne l'output désiré. Sa dimension, ainsi que son activation doivent être choisi pour répondre à la problématique voulu."
   ]
  },
  {
   "cell_type": "markdown",
   "metadata": {
    "slideshow": {
     "slide_type": "slide"
    }
   },
   "source": [
    "**Classification binaire** :\n",
    "\n",
    "- nombre de neurones : 1\n",
    "- activation : sigmoid $ f(x)=\\frac{1}{1 + e^{- x}}$\n",
    "- loss : binary_crossentropy\n",
    "\n"
   ]
  },
  {
   "cell_type": "markdown",
   "metadata": {
    "slideshow": {
     "slide_type": "slide"
    }
   },
   "source": [
    "**Classification multiclasses** :\n",
    "    \n",
    "- nombre de neurones : nombre de classes\n",
    "- activation : softmax\n",
    "- loss : categorical_crossentropy\n",
    "\n",
    "    \n",
    "    "
   ]
  },
  {
   "cell_type": "markdown",
   "metadata": {
    "slideshow": {
     "slide_type": "slide"
    }
   },
   "source": [
    "**Régréssion** :\n",
    "    \n",
    "- nombre de neurones : 1\n",
    "- activation : linéaire\n",
    "- loss : toute loss différentiable\n",
    "\n",
    "    \n",
    "    "
   ]
  },
  {
   "cell_type": "markdown",
   "metadata": {
    "slideshow": {
     "slide_type": "slide"
    }
   },
   "source": [
    "Le choix de l'algorithme d'optimisation est toujours une grande question. L'utilisation de l'algorithme peut être réalisé de deux façons."
   ]
  },
  {
   "cell_type": "code",
   "execution_count": 18,
   "metadata": {
    "slideshow": {
     "slide_type": "slide"
    }
   },
   "outputs": [],
   "source": [
    "from keras.optimizers import SGD\n",
    "#Avec les paramètres par défault\n",
    "model.compile(loss = 'mean_squared_error', optimizer='sgd')\n",
    "\n",
    "## Ou bien pour pouvoir customiser l'algorithme\n",
    "sgd = SGD(lr=0.01, decay=1e-6, momentum=0.9, nesterov=True)\n",
    "model.compile(loss='mean_squared_error', optimizer=sgd)"
   ]
  },
  {
   "cell_type": "markdown",
   "metadata": {
    "slideshow": {
     "slide_type": "slide"
    }
   },
   "source": [
    "Voici un rapide récapitulatif des principaux algorithmes d'optimisation  :\n",
    "-  SGD, le plus classique, fluctue autour du minimum\n",
    "-  RMSprop, bon choix pour les réseaux récurrent\n",
    "-  Adam, efficace dans la majorité des cas (https://arxiv.org/abs/1412.6980v8)\n"
   ]
  },
  {
   "cell_type": "markdown",
   "metadata": {
    "slideshow": {
     "slide_type": "slide"
    }
   },
   "source": [
    "**Question 1** : Dans le cas de la classification binaire construire un modèle permettant d'atteindre la valeur de la régréssion logistique, en l'évaluant sur le jeu de test correspondant. Et afficher les valeurs de loss et de métrique."
   ]
  },
  {
   "cell_type": "code",
   "execution_count": 19,
   "metadata": {
    "slideshow": {
     "slide_type": "slide"
    }
   },
   "outputs": [],
   "source": [
    "from keras.models import *\n",
    "from keras.layers import *\n"
   ]
  },
  {
   "cell_type": "markdown",
   "metadata": {
    "slideshow": {
     "slide_type": "slide"
    }
   },
   "source": [
    "**Question 2** : Dans le cas de la régréssion construire un modèle permettant d'atteindre la valeur de la régréssion linéaire, en l'évaluant sur le jeu de test correspondant. Et faites une figure des valeurs de loss et de métrique."
   ]
  },
  {
   "cell_type": "code",
   "execution_count": 25,
   "metadata": {
    "slideshow": {
     "slide_type": "slide"
    }
   },
   "outputs": [],
   "source": [
    "from keras import backend as K\n",
    "K.clear_session()"
   ]
  },
  {
   "cell_type": "markdown",
   "metadata": {
    "slideshow": {
     "slide_type": "slide"
    }
   },
   "source": [
    "Peut-on affirmer que nos modèles obtiennent réellement ces scores ?"
   ]
  },
  {
   "cell_type": "markdown",
   "metadata": {
    "slideshow": {
     "slide_type": "slide"
    }
   },
   "source": [
    "Absolument pas, on ne les valide pas !\n",
    "Il y a alors deux manière de rajouter un jeu de validation."
   ]
  },
  {
   "cell_type": "markdown",
   "metadata": {
    "slideshow": {
     "slide_type": "slide"
    }
   },
   "source": [
    "N'avons nous pas oublier quelque chose avant de faire nos modèles ? \n"
   ]
  },
  {
   "cell_type": "markdown",
   "metadata": {
    "slideshow": {
     "slide_type": "slide"
    }
   },
   "source": [
    "Normaliser les données ! Avec des scalings de différents type par exemple !"
   ]
  },
  {
   "cell_type": "markdown",
   "metadata": {
    "slideshow": {
     "slide_type": "slide"
    }
   },
   "source": [
    "### IV. Callbacks"
   ]
  },
  {
   "cell_type": "markdown",
   "metadata": {
    "slideshow": {
     "slide_type": "slide"
    }
   },
   "source": [
    "Les callbacks permettent de réaliser des opérations, comme sauver les poids du réseaux, ou utilier un Cycling LR finder."
   ]
  },
  {
   "cell_type": "code",
   "execution_count": 32,
   "metadata": {
    "slideshow": {
     "slide_type": "slide"
    }
   },
   "outputs": [],
   "source": [
    "from keras.callbacks import *\n",
    "\n",
    "checkpoint  = ModelCheckpoint('weights.h5', monitor='val_loss', verbose=1, save_best_only=False, save_weights_only=False, mode='auto', period=1)\n",
    "\n",
    "earlystop = EarlyStopping(monitor='val_loss', min_delta=0, patience=0, verbose=1, mode='auto', baseline=None, restore_best_weights=False)\n",
    "\n",
    "reduce_lr = ReduceLROnPlateau(monitor='val_loss', factor=0.1, patience=10, verbose=1, mode='auto', min_delta=0.0001, cooldown=0, min_lr=0)\n"
   ]
  },
  {
   "cell_type": "code",
   "execution_count": 33,
   "metadata": {
    "slideshow": {
     "slide_type": "slide"
    }
   },
   "outputs": [
    {
     "name": "stdout",
     "output_type": "stream",
     "text": [
      "Train on 75000 samples, validate on 25000 samples\n",
      "Epoch 1/10\n",
      "75000/75000 [==============================] - 0s 2us/step - loss: 88.8715 - mean_absolute_error: 88.8715 - val_loss: 88.3656 - val_mean_absolute_error: 88.3656\n",
      "\n",
      "Epoch 00001: saving model to weights.h5\n",
      "Epoch 2/10\n",
      "75000/75000 [==============================] - 0s 2us/step - loss: 88.8272 - mean_absolute_error: 88.8272 - val_loss: 88.3601 - val_mean_absolute_error: 88.3601\n",
      "\n",
      "Epoch 00002: saving model to weights.h5\n",
      "Epoch 3/10\n",
      "75000/75000 [==============================] - 0s 2us/step - loss: 88.8123 - mean_absolute_error: 88.8123 - val_loss: 88.3741 - val_mean_absolute_error: 88.3741\n",
      "\n",
      "Epoch 00003: saving model to weights.h5\n",
      "Epoch 00003: early stopping\n"
     ]
    }
   ],
   "source": [
    "history = model2.fit(S_tr, s_tr, validation_data=(S_te,s_te), batch_size = 1000, epochs = 10, callbacks=[checkpoint, earlystop, reduce_lr])"
   ]
  },
  {
   "cell_type": "markdown",
   "metadata": {
    "slideshow": {
     "slide_type": "slide"
    }
   },
   "source": [
    "## V. NLP & RNN\n"
   ]
  },
  {
   "cell_type": "markdown",
   "metadata": {
    "slideshow": {
     "slide_type": "slide"
    }
   },
   "source": [
    "Layers utiles pour les RNN : LSTM & GRU (voir cours d'E. Scornet)"
   ]
  },
  {
   "cell_type": "code",
   "execution_count": 11,
   "metadata": {
    "slideshow": {
     "slide_type": "slide"
    }
   },
   "outputs": [
    {
     "name": "stdout",
     "output_type": "stream",
     "text": [
      "input_dim: nombre de mots uniques \n",
      "ouput_dim : taille de l'embedding \n",
      "input_lenght :taille maximale d'une phrase\n"
     ]
    }
   ],
   "source": [
    "#couche d'embedding permettant de vectorizer un ensemble de tokens\n",
    "#Renvoie des entiers positif comme un vecteur dense, ce sont rien de plus que poids mis à jour lors des backprop\n",
    "Embedding(input_dim = 300, output_dim = 10)\n",
    "print('input_dim: nombre de mots uniques', \"\\nouput_dim : taille de l'embedding\", \"\\ninput_lenght :taille maximale d\\'une phrase\")"
   ]
  },
  {
   "cell_type": "code",
   "execution_count": 34,
   "metadata": {
    "scrolled": true,
    "slideshow": {
     "slide_type": "slide"
    }
   },
   "outputs": [
    {
     "name": "stdout",
     "output_type": "stream",
     "text": [
      "return_sequence : retourner le dernier élement de la séquence ou la séquence entière\n"
     ]
    }
   ],
   "source": [
    "#GRU\n",
    "GRU(units = 50, activation='tanh', recurrent_activation='hard_sigmoid', use_bias=True, kernel_initializer='glorot_uniform', recurrent_initializer='orthogonal', bias_initializer='zeros', kernel_regularizer=None, recurrent_regularizer=None, bias_regularizer=None, activity_regularizer=None, kernel_constraint=None, recurrent_constraint=None, bias_constraint=None, dropout=0.0, recurrent_dropout=0.0, implementation=1, return_sequences=False)\n",
    "print(\"return_sequence : retourner le dernier élement de la séquence ou la séquence entière\")"
   ]
  },
  {
   "cell_type": "code",
   "execution_count": 35,
   "metadata": {
    "slideshow": {
     "slide_type": "slide"
    }
   },
   "outputs": [
    {
     "name": "stdout",
     "output_type": "stream",
     "text": [
      "return_sequence : retourner le dernier élement de la séquence ou la séquence entière\n"
     ]
    }
   ],
   "source": [
    "#GRU\n",
    "LSTM(units = 50, activation='tanh', recurrent_activation='hard_sigmoid', use_bias=True, kernel_initializer='glorot_uniform', recurrent_initializer='orthogonal', bias_initializer='zeros', kernel_regularizer=None, recurrent_regularizer=None, bias_regularizer=None, activity_regularizer=None, kernel_constraint=None, recurrent_constraint=None, bias_constraint=None, dropout=0.0, recurrent_dropout=0.0, implementation=1, return_sequences=False)\n",
    "print(\"return_sequence : retourner le dernier élement de la séquence ou la séquence entière\")"
   ]
  },
  {
   "cell_type": "code",
   "execution_count": 36,
   "metadata": {
    "slideshow": {
     "slide_type": "slide"
    }
   },
   "outputs": [
    {
     "data": {
      "text/plain": [
       "<keras.layers.cudnn_recurrent.CuDNNLSTM at 0x7f08185eda58>"
      ]
     },
     "execution_count": 36,
     "metadata": {},
     "output_type": "execute_result"
    }
   ],
   "source": [
    "#Faster si cuda disponible\n",
    "CuDNNGRU(units = 50)\n",
    "CuDNNLSTM(units = 50)"
   ]
  },
  {
   "cell_type": "code",
   "execution_count": 37,
   "metadata": {
    "slideshow": {
     "slide_type": "slide"
    }
   },
   "outputs": [
    {
     "data": {
      "text/plain": [
       "<keras.layers.core.Flatten at 0x7f08185ed470>"
      ]
     },
     "execution_count": 37,
     "metadata": {},
     "output_type": "execute_result"
    }
   ],
   "source": [
    "#Flatten : matrice to vector\n",
    "Flatten()"
   ]
  },
  {
   "cell_type": "code",
   "execution_count": 38,
   "metadata": {
    "slideshow": {
     "slide_type": "slide"
    }
   },
   "outputs": [
    {
     "data": {
      "text/plain": [
       "<keras.layers.normalization.BatchNormalization at 0x7f08185ed550>"
      ]
     },
     "execution_count": 38,
     "metadata": {},
     "output_type": "execute_result"
    }
   ],
   "source": [
    "#BatchNormalization : normalization by each batch to set the feature map mean close to 0\n",
    "BatchNormalization()"
   ]
  },
  {
   "cell_type": "markdown",
   "metadata": {
    "slideshow": {
     "slide_type": "slide"
    }
   },
   "source": [
    "**Comment devons nous transformer des données textuelles ?**"
   ]
  },
  {
   "cell_type": "code",
   "execution_count": 1,
   "metadata": {
    "tags": []
   },
   "outputs": [],
   "source": [
    "## On verra ça plus en détail "
   ]
  },
  {
   "cell_type": "markdown",
   "metadata": {
    "slideshow": {
     "slide_type": "slide"
    }
   },
   "source": [
    "On doit les tokenizer puis les utiliser comme on le souhaite."
   ]
  },
  {
   "cell_type": "code",
   "execution_count": 39,
   "metadata": {
    "slideshow": {
     "slide_type": "slide"
    }
   },
   "outputs": [
    {
     "name": "stdout",
     "output_type": "stream",
     "text": [
      "['il', 'fait', 'beau', 'et', 'chaud']\n"
     ]
    }
   ],
   "source": [
    "from keras.preprocessing.text import text_to_word_sequence\n",
    "# define the document\n",
    "text = 'Il fait beau et chaud.'\n",
    "# tokenize the document\n",
    "result = text_to_word_sequence(text)\n",
    "print(result)"
   ]
  },
  {
   "cell_type": "code",
   "execution_count": 7,
   "metadata": {
    "scrolled": true,
    "slideshow": {
     "slide_type": "slide"
    }
   },
   "outputs": [
    {
     "name": "stdout",
     "output_type": "stream",
     "text": [
      "[[4, 5, 1, 6, 7], [2, 3, 8, 9, 10], [2, 3, 1]]\n",
      "{'beau': 1, 'paris': 2, 'est': 3, 'il': 4, 'fait': 5, 'et': 6, 'chaud': 7, 'une': 8, 'belle': 9, 'ville': 10}\n"
     ]
    }
   ],
   "source": [
    "#Et pour directement transformer un corpus\n",
    "from keras.preprocessing.text import Tokenizer\n",
    "sentences_train = ['il fait beau et chaud','Paris est une belle ville', 'Paris est beau']\n",
    "\n",
    "tokenizer = Tokenizer(num_words = 5000, filters='!\"#$%&()*+,-./:;<=>?@[\\\\]^_`{|}~\\t\\n', lower=True)\n",
    "#nombre maximum de mots\n",
    "tokenizer.fit_on_texts(sentences_train)\n",
    "\n",
    "X_train = tokenizer.texts_to_sequences(sentences_train)\n",
    "print(X_train) # Que se passe-t'il ?\n",
    "print(tokenizer.word_index)"
   ]
  },
  {
   "cell_type": "code",
   "execution_count": 41,
   "metadata": {
    "slideshow": {
     "slide_type": "slide"
    }
   },
   "outputs": [
    {
     "name": "stdout",
     "output_type": "stream",
     "text": [
      "[[4 5 1 6 7]\n",
      " [0 0 2 3 8]\n",
      " [0 0 2 3 1]]\n"
     ]
    }
   ],
   "source": [
    "from keras.preprocessing.sequence import pad_sequences\n",
    "\n",
    "X_train = pad_sequences(X_train)\n",
    "print(X_train) # Que se passe-t'il ?"
   ]
  },
  {
   "cell_type": "markdown",
   "metadata": {
    "slideshow": {
     "slide_type": "slide"
    }
   },
   "source": [
    "La couche d'input change pour être un embedding, c'est-à-dire une couche de vectorization permettant d'utiliser des données textuelles.\n"
   ]
  },
  {
   "cell_type": "markdown",
   "metadata": {
    "slideshow": {
     "slide_type": "slide"
    }
   },
   "source": [
    "Word embedding: technique permettant de représenter chaque mot d'un dictionnaire par un vecteur de nombres réels.\n",
    "\n",
    "2 phrases:\n",
    "- \"Hope to see you soon\"\n",
    "- \"Nice to see you again\"\n",
    "On assigne un entier unique à chaque mot, dans l'ordre d'apparition.\n",
    "- [0, 1, 2, 3, 4]\n",
    "- [5, 1, 2, 3, 6]\n",
    "\n",
    "Si on veut entrainer notre reseau sur cette première couche il faut alors spécifier:\n",
    "__Embedding(7, 2, input_length=5)__\n",
    "7 correspond au nombre de token distincts (vocab size), 2 indique la dimension de l'embedding, et l'input_length la longueur de chaque sequence.\n"
   ]
  },
  {
   "cell_type": "code",
   "execution_count": 42,
   "metadata": {
    "slideshow": {
     "slide_type": "slide"
    }
   },
   "outputs": [],
   "source": [
    "model = Sequential()\n",
    "vocab_size =len(tokenizer.word_index) + 1 #l'index 0 est utilisé par keras, on ne peut pas l'utiliser\n",
    "model.add(Embedding(vocab_size, 16))\n",
    "model.add(LSTM(32))\n",
    "model.add(Dense(1))"
   ]
  },
  {
   "cell_type": "markdown",
   "metadata": {
    "slideshow": {
     "slide_type": "slide"
    }
   },
   "source": [
    "## VI - Exercices"
   ]
  },
  {
   "cell_type": "code",
   "execution_count": 1,
   "metadata": {
    "slideshow": {
     "slide_type": "slide"
    }
   },
   "outputs": [
    {
     "name": "stderr",
     "output_type": "stream",
     "text": [
      "/home/arthur/anaconda3/envs/py36/lib/python3.6/site-packages/h5py/__init__.py:36: FutureWarning: Conversion of the second argument of issubdtype from `float` to `np.floating` is deprecated. In future, it will be treated as `np.float64 == np.dtype(float).type`.\n",
      "  from ._conv import register_converters as _register_converters\n",
      "Using TensorFlow backend.\n"
     ]
    }
   ],
   "source": [
    "import pandas as pd\n",
    "\n",
    "from keras.layers import *\n",
    "from keras.models import *\n",
    "from keras.optimizers import *\n",
    "\n",
    "from sklearn.metrics import *\n",
    "from sklearn.preprocessing import StandardScaler, LabelEncoder\n",
    "from sklearn.model_selection import train_test_split\n"
   ]
  },
  {
   "cell_type": "markdown",
   "metadata": {
    "slideshow": {
     "slide_type": "slide"
    }
   },
   "source": [
    "**Exercice 1** : Avec les données des prix des maisons, construire un nnet permettant de résoudre le problème de régréssion. Evaluer les performances avec la rmse. Tester plusieurs architectures, que constatez-vous ? Comparer les performances avec un autre modèle."
   ]
  },
  {
   "cell_type": "code",
   "execution_count": 44,
   "metadata": {
    "slideshow": {
     "slide_type": "subslide"
    }
   },
   "outputs": [],
   "source": [
    "train = pd.read_csv('train.csv')\n",
    "test = pd.read_csv('test.csv')"
   ]
  },
  {
   "cell_type": "code",
   "execution_count": 45,
   "metadata": {
    "slideshow": {
     "slide_type": "subslide"
    }
   },
   "outputs": [],
   "source": [
    "y_train = train.SalePrice\n",
    "y_test = test.SalePrice\n",
    "\n",
    "train.drop(['Id','SalePrice'], axis = 1, inplace = True)\n",
    "test.drop(['Id','SalePrice'], axis = 1, inplace = True)"
   ]
  },
  {
   "cell_type": "code",
   "execution_count": 46,
   "metadata": {
    "slideshow": {
     "slide_type": "subslide"
    }
   },
   "outputs": [],
   "source": [
    "for c in train.select_dtypes(object):\n",
    "    \n",
    "    train[c] = train[c].fillna('__NC__')\n",
    "    test[c] = test[c].fillna('__NC__')\n",
    "    \n",
    "    enc = LabelEncoder()\n",
    "    enc.fit(list(train[c])+ list(test[c]))\n",
    "    train[c] = enc.transform(train[c])\n",
    "    test[c] = enc.transform(test[c])\n",
    "\n",
    "train.fillna(-9000, inplace = True)\n",
    "test.fillna(-9000, inplace = True)"
   ]
  },
  {
   "cell_type": "code",
   "execution_count": 47,
   "metadata": {
    "scrolled": true,
    "slideshow": {
     "slide_type": "subslide"
    }
   },
   "outputs": [],
   "source": [
    "ss = StandardScaler()\n",
    "ss.fit(list(train.values)+list(test.values))\n",
    "train = ss.transform(train)\n",
    "test = ss.transform(test)"
   ]
  },
  {
   "cell_type": "code",
   "execution_count": 48,
   "metadata": {
    "slideshow": {
     "slide_type": "subslide"
    }
   },
   "outputs": [],
   "source": [
    "#Je définis la métrique pour être utilisable avec Keras\n",
    "from keras import backend as K\n",
    "def root_mean_squared_error(y_true, y_pred):\n",
    "        return K.sqrt(K.mean(K.square(y_pred - y_true), axis=-1)) "
   ]
  },
  {
   "cell_type": "markdown",
   "metadata": {
    "slideshow": {
     "slide_type": "slide"
    }
   },
   "source": [
    "**Exercice 2**: Regarder les layers disponible pour les problématiques de vision. Puis construire le réseau correspondant à l'image suivante (VGG16)."
   ]
  },
  {
   "cell_type": "markdown",
   "metadata": {
    "slideshow": {
     "slide_type": "slide"
    }
   },
   "source": [
    "![](vgg16.png)"
   ]
  }
 ],
 "metadata": {
  "celltoolbar": "Diaporama",
  "kernelspec": {
   "display_name": "Python 3 (ipykernel)",
   "language": "python",
   "name": "python3"
  },
  "language_info": {
   "codemirror_mode": {
    "name": "ipython",
    "version": 3
   },
   "file_extension": ".py",
   "mimetype": "text/x-python",
   "name": "python",
   "nbconvert_exporter": "python",
   "pygments_lexer": "ipython3",
   "version": "3.11.5"
  }
 },
 "nbformat": 4,
 "nbformat_minor": 4
}
