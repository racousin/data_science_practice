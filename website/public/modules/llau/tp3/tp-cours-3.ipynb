{
 "cells": [
  {
   "cell_type": "markdown",
   "metadata": {
    "slideshow": {
     "slide_type": "slide"
    }
   },
   "source": [
    "# Data Science en pratique\n",
    "\n",
    "Arthur Llau, mail : arthur@flowlity.com"
   ]
  },
  {
   "cell_type": "markdown",
   "metadata": {
    "slideshow": {
     "slide_type": "slide"
    }
   },
   "source": [
    "# Pensez à m'envoyer vos CV avant le 24/10"
   ]
  },
  {
   "cell_type": "markdown",
   "metadata": {
    "slideshow": {
     "slide_type": "slide"
    }
   },
   "source": [
    "# Cours 3 : Feature Engineering II"
   ]
  },
  {
   "cell_type": "markdown",
   "metadata": {
    "slideshow": {
     "slide_type": "slide"
    }
   },
   "source": [
    "## Objectif du cours : Création de features, transformations & sampling\n",
    "- Comment scaler les données\n",
    "- Apporter des techniques de création de features et de nettoyage des données\n",
    "- Essayer de résoudre les problèmes de déséquilibre des variables cibles"
   ]
  },
  {
   "cell_type": "code",
   "execution_count": 1,
   "metadata": {
    "slideshow": {
     "slide_type": "skip"
    }
   },
   "outputs": [],
   "source": [
    "import numpy as np\n",
    "import pandas as pd\n",
    "import matplotlib.pyplot as plt\n",
    "import seaborn as sns\n",
    "\n",
    "from sklearn.datasets import load_breast_cancer, load_boston\n",
    "\n",
    "import warnings\n",
    "warnings.filterwarnings('ignore')\n",
    "data = load_breast_cancer()['data']\n",
    "target = load_breast_cancer()['target']\n",
    "plt.rcParams['figure.figsize'] = (10,5)\n",
    "plt.rcParams['figure.figsize'] = (10,5)"
   ]
  },
  {
   "cell_type": "markdown",
   "metadata": {
    "slideshow": {
     "slide_type": "slide"
    }
   },
   "source": [
    "## I - Scaling & Standardisation"
   ]
  },
  {
   "cell_type": "markdown",
   "metadata": {
    "slideshow": {
     "slide_type": "subslide"
    }
   },
   "source": [
    "On a parfois besoin de normaliser ou standardiser les données pour pouvoir les utiliser avec certains algorithmes. Typiquement les SVM (pas invariant par transformation affine) ont pour hypothèse que les données sont centrées autour de 0 et possèdent une variance de même ordre. Si une variable à une variance plus elevée que les autres la fonction objectif peut être alors biaisée et ne pas correctement apprendre les autres variables.\n",
    "Un autre cas : la descente de gradient converge beaucoup plus rapidemment avec des valeurs normalisées.\n",
    "\n",
    "En général c'est obligatoire si il y a une distance dans l'histoire. Pas obligatoire avec les arbres qui sont invariants par transformation affine."
   ]
  },
  {
   "cell_type": "markdown",
   "metadata": {
    "slideshow": {
     "slide_type": "subslide"
    }
   },
   "source": [
    "** Min Max Scaling **\n",
    "\n",
    "Revient à normaliser les données dans l'intervalle [0,1] :\n",
    "\n",
    "$$x'={\\frac {x-{\\text{min}}(x)}{{\\text{max}}(x)-{\\text{min}}(x)}}$$\n"
   ]
  },
  {
   "cell_type": "code",
   "execution_count": 2,
   "metadata": {
    "scrolled": true,
    "slideshow": {
     "slide_type": "subslide"
    }
   },
   "outputs": [
    {
     "data": {
      "image/png": "[encoded data removed]",
      "text/plain": [
       "<matplotlib.figure.Figure at 0x1a094413c8>"
      ]
     },
     "metadata": {},
     "output_type": "display_data"
    }
   ],
   "source": [
    "from sklearn.preprocessing import minmax_scale\n",
    "\n",
    "plt.subplot(121)\n",
    "plt.hist(data[:,3], bins = 50);\n",
    "plt.subplot(122)\n",
    "plt.hist(minmax_scale(data[:,3]), bins = 50);"
   ]
  },
  {
   "cell_type": "markdown",
   "metadata": {
    "slideshow": {
     "slide_type": "subslide"
    }
   },
   "source": [
    "** Mean Max Scaling **\n",
    "\n",
    "Revient à normaliser les données dans l'intervalle [-1,1] :\n",
    "\n",
    "$$x'={\\frac {x-{\\text{mean}}(x)}{{\\text{max}}(x)-{\\text{min}}(x)}}$$\n"
   ]
  },
  {
   "cell_type": "code",
   "execution_count": 3,
   "metadata": {
    "slideshow": {
     "slide_type": "subslide"
    }
   },
   "outputs": [
    {
     "data": {
      "image/png": "[encoded data removed]",
      "text/plain": [
       "<matplotlib.figure.Figure at 0x1a0eeefc18>"
      ]
     },
     "metadata": {},
     "output_type": "display_data"
    }
   ],
   "source": [
    "X = data[:,3]\n",
    "X_std = (X - X.mean(axis=0)) / (X.max(axis=0) - X.min(axis=0))\n",
    "\n",
    "plt.subplot(121)\n",
    "plt.hist(X, bins = 50);\n",
    "plt.subplot(122)\n",
    "plt.hist(X_std, bins = 50);"
   ]
  },
  {
   "cell_type": "markdown",
   "metadata": {
    "slideshow": {
     "slide_type": "subslide"
    }
   },
   "source": [
    "** Standardisation **\n",
    "\n",
    "Grand classique : \n",
    "\n",
    "$$ x' = \\frac{x - \\bar{x}}{\\sigma} $$"
   ]
  },
  {
   "cell_type": "code",
   "execution_count": 4,
   "metadata": {
    "scrolled": true,
    "slideshow": {
     "slide_type": "subslide"
    }
   },
   "outputs": [
    {
     "data": {
      "image/png": "[encoded data removed]",
      "text/plain": [
       "<matplotlib.figure.Figure at 0x103b79128>"
      ]
     },
     "metadata": {},
     "output_type": "display_data"
    }
   ],
   "source": [
    "from sklearn.preprocessing import scale\n",
    "\n",
    "plt.subplot(121)\n",
    "plt.hist(data[:,3], bins = 50);\n",
    "plt.subplot(122)\n",
    "plt.hist(scale(data[:,3]), bins = 50);"
   ]
  },
  {
   "cell_type": "markdown",
   "metadata": {
    "slideshow": {
     "slide_type": "slide"
    }
   },
   "source": [
    "## II - Transformations \n",
    "\n"
   ]
  },
  {
   "cell_type": "markdown",
   "metadata": {
    "slideshow": {
     "slide_type": "subslide"
    }
   },
   "source": [
    "** Power Transformations **\n",
    "\n",
    "\n",
    "C'est une famille de transformation qui permettent de stabiliser la variance d'une distribution.\n",
    "Les transformations à la puissance change la distribution de la variable pour quelle ne soit plus dépendante de la moyenne. (voir Loi de Poisson par ex).\n",
    "\n",
    "On trouve plusieurs transformation de ce type, comme le log ou la transformée de Box-Cox chacune ayant leur propre spécifité.\n",
    "\n",
    "\n",
    "$$ {\\displaystyle B(x,\\lambda )={\\begin{cases}{\\frac {x^{\\lambda }-1}{\\lambda }}&{\\text{si }}\\lambda \\neq 0\\\\\\log(x)&{\\text{si }}\\lambda =0\\end{cases}}} $$"
   ]
  },
  {
   "cell_type": "markdown",
   "metadata": {
    "slideshow": {
     "slide_type": "subslide"
    }
   },
   "source": [
    "\n",
    "La transformation par le log permet de transformer une distribution avec une queue lourde en une distribution avec des queues plus légères. C'est-à-dire que cette méthode compresse les grands écarts et disperse les petits écarts entre les valeurs."
   ]
  },
  {
   "cell_type": "code",
   "execution_count": 5,
   "metadata": {
    "slideshow": {
     "slide_type": "subslide"
    }
   },
   "outputs": [
    {
     "data": {
      "image/png": "[encoded data removed]",
      "text/plain": [
       "<matplotlib.figure.Figure at 0x1a125d6f98>"
      ]
     },
     "metadata": {},
     "output_type": "display_data"
    }
   ],
   "source": [
    "plt.subplot(121)\n",
    "plt.hist(data[:,3], bins = 50);\n",
    "plt.subplot(122)\n",
    "plt.hist(np.log(data[:,3]), bins = 50);"
   ]
  },
  {
   "cell_type": "markdown",
   "metadata": {
    "slideshow": {
     "slide_type": "subslide"
    }
   },
   "source": [
    "Autre cas où c'est utile : on est très concentré autour de 0 mais les écarts sont difficiles à visualiser."
   ]
  },
  {
   "cell_type": "code",
   "execution_count": 6,
   "metadata": {
    "scrolled": true,
    "slideshow": {
     "slide_type": "subslide"
    }
   },
   "outputs": [
    {
     "data": {
      "image/png": "[encoded data removed]",
      "text/plain": [
       "<matplotlib.figure.Figure at 0x1a124e7b70>"
      ]
     },
     "metadata": {},
     "output_type": "display_data"
    }
   ],
   "source": [
    "plt.subplot(121)\n",
    "plt.hist(data[:,5], bins = 50);\n",
    "plt.subplot(122)\n",
    "plt.hist(np.log(data[:,5]), bins = 50);"
   ]
  },
  {
   "cell_type": "markdown",
   "metadata": {
    "slideshow": {
     "slide_type": "subslide"
    }
   },
   "source": [
    "** Lissage, réduction de bruit **\n",
    "\n",
    "Lorsque nos données proviennent de signaux on retrouve régulièrement un bruit, dû par exemple aux capteurs. Une bonne méthode de préprocessing des données des signaux est donc de supprimer ce bruit, c'est-à-dire lisser les signaux, pour cela la littérature régorge de méthodes :\n",
    "- Lissage par moyenne glissante\n",
    "- Les splines de lissage\n",
    "- Lissage par noyaux\n",
    "- Filtre de Kalman\n",
    "- Savitzky-Golay\n",
    "- Douglas-Peucker\n"
   ]
  },
  {
   "cell_type": "code",
   "execution_count": 7,
   "metadata": {
    "slideshow": {
     "slide_type": "subslide"
    }
   },
   "outputs": [
    {
     "data": {
      "text/plain": [
       "<matplotlib.legend.Legend at 0x1c129fe390>"
      ]
     },
     "execution_count": 7,
     "metadata": {},
     "output_type": "execute_result"
    },
    {
     "data": {
      "image/png": "[encoded data removed]",
      "text/plain": [
       "<matplotlib.figure.Figure at 0x1a126b8ba8>"
      ]
     },
     "metadata": {},
     "output_type": "display_data"
    }
   ],
   "source": [
    "from scipy.signal import savgol_filter\n",
    "\n",
    "x = np.linspace(0,3*np.pi, 500)\n",
    "y = np.sin(x)+np.random.rand(500)*0.3\n",
    "\n",
    "plt.plot(x, y, label = 'Signal')\n",
    "plt.plot(x, savgol_filter(y,23,3), label = 'Smoothed signal')\n",
    "plt.legend()"
   ]
  },
  {
   "cell_type": "markdown",
   "metadata": {
    "slideshow": {
     "slide_type": "subslide"
    }
   },
   "source": [
    "Attention, selon l'algorithme utilisé, il existe un paramètre de lissage à calibrer pour ne pas surlisser ou bien sous lisser. (Et oui, on fait de l'apprentissage en fait)\n"
   ]
  },
  {
   "cell_type": "markdown",
   "metadata": {
    "slideshow": {
     "slide_type": "slide"
    }
   },
   "source": [
    "## III - Features inputing"
   ]
  },
  {
   "cell_type": "markdown",
   "metadata": {
    "slideshow": {
     "slide_type": "subslide"
    }
   },
   "source": [
    "À partir des données on peut constuire plusieurs types de nouvelles variables :\n",
    "-  des variables arithmétiques, polynomiales\n",
    "-  des variables issues de statistiques\n",
    "-  des features provenant des expertises métier (ratio, interactions)\n",
    "-  des résultats de non-supervisé\n",
    "-  des lags si on a des données temporelles\n",
    "-  du mean target encoding\n",
    "\n",
    "Comme exemple, on reprend le jeu de données du dernier cours (les vélos)."
   ]
  },
  {
   "cell_type": "code",
   "execution_count": 8,
   "metadata": {
    "slideshow": {
     "slide_type": "skip"
    }
   },
   "outputs": [],
   "source": [
    "data = pd.read_csv('../Cours 2/train.csv')"
   ]
  },
  {
   "cell_type": "markdown",
   "metadata": {
    "slideshow": {
     "slide_type": "subslide"
    }
   },
   "source": [
    "** Statistiques **\n",
    "\n",
    "Il est évident que l'on peut construire des features comme des statistiques provenant des observations.\n",
    "Par exemple, on peut construire la moyenne d'une observation par rapport à une catégorie. On peut dans notre cas choisir d'observer la température moyenne par condition météorologique.\n"
   ]
  },
  {
   "cell_type": "code",
   "execution_count": 9,
   "metadata": {
    "slideshow": {
     "slide_type": "subslide"
    }
   },
   "outputs": [
    {
     "data": {
      "image/png": "[encoded data removed]",
      "text/plain": [
       "<matplotlib.figure.Figure at 0x1a1242f828>"
      ]
     },
     "metadata": {},
     "output_type": "display_data"
    }
   ],
   "source": [
    "sns.boxplot(x='weather', y = 'temp', data = data); # On peut le maper comme une nouvelle variable !"
   ]
  },
  {
   "cell_type": "code",
   "execution_count": 10,
   "metadata": {
    "scrolled": true,
    "slideshow": {
     "slide_type": "subslide"
    }
   },
   "outputs": [
    {
     "name": "stdout",
     "output_type": "stream",
     "text": [
      "weather\n",
      "clear    20.256703\n",
      "mist     19.403129\n",
      "rain      8.200000\n",
      "snow     18.931304\n",
      "Name: temp, dtype: float64\n"
     ]
    },
    {
     "data": {
      "text/html": [
       "<div>\n",
       "<style scoped>\n",
       "    .dataframe tbody tr th:only-of-type {\n",
       "        vertical-align: middle;\n",
       "    }\n",
       "\n",
       "    .dataframe tbody tr th {\n",
       "        vertical-align: top;\n",
       "    }\n",
       "\n",
       "    .dataframe thead th {\n",
       "        text-align: right;\n",
       "    }\n",
       "</style>\n",
       "<table border=\"1\" class=\"dataframe\">\n",
       "  <thead>\n",
       "    <tr style=\"text-align: right;\">\n",
       "      <th></th>\n",
       "      <th>datetime</th>\n",
       "      <th>season</th>\n",
       "      <th>holiday</th>\n",
       "      <th>workingday</th>\n",
       "      <th>weather</th>\n",
       "      <th>temp</th>\n",
       "      <th>atemp</th>\n",
       "      <th>humidity</th>\n",
       "      <th>windspeed</th>\n",
       "      <th>count</th>\n",
       "      <th>weath_tmp_avg</th>\n",
       "      <th>weath_tmp_std</th>\n",
       "    </tr>\n",
       "  </thead>\n",
       "  <tbody>\n",
       "    <tr>\n",
       "      <th>0</th>\n",
       "      <td>2011-01-01 00:00:00</td>\n",
       "      <td>winter</td>\n",
       "      <td>0</td>\n",
       "      <td>0</td>\n",
       "      <td>clear</td>\n",
       "      <td>9.84</td>\n",
       "      <td>14.395</td>\n",
       "      <td>81</td>\n",
       "      <td>5.18</td>\n",
       "      <td>16</td>\n",
       "      <td>20.256703</td>\n",
       "      <td>8.339352</td>\n",
       "    </tr>\n",
       "    <tr>\n",
       "      <th>1</th>\n",
       "      <td>2011-01-01 01:00:00</td>\n",
       "      <td>NaN</td>\n",
       "      <td>0</td>\n",
       "      <td>0</td>\n",
       "      <td>clear</td>\n",
       "      <td>9.02</td>\n",
       "      <td>13.635</td>\n",
       "      <td>80</td>\n",
       "      <td>NaN</td>\n",
       "      <td>40</td>\n",
       "      <td>20.256703</td>\n",
       "      <td>8.339352</td>\n",
       "    </tr>\n",
       "    <tr>\n",
       "      <th>2</th>\n",
       "      <td>2011-01-01 02:00:00</td>\n",
       "      <td>NaN</td>\n",
       "      <td>0</td>\n",
       "      <td>0</td>\n",
       "      <td>clear</td>\n",
       "      <td>9.02</td>\n",
       "      <td>13.635</td>\n",
       "      <td>80</td>\n",
       "      <td>6.32</td>\n",
       "      <td>32</td>\n",
       "      <td>20.256703</td>\n",
       "      <td>8.339352</td>\n",
       "    </tr>\n",
       "    <tr>\n",
       "      <th>3</th>\n",
       "      <td>2011-01-01 03:00:00</td>\n",
       "      <td>winter</td>\n",
       "      <td>0</td>\n",
       "      <td>0</td>\n",
       "      <td>clear</td>\n",
       "      <td>9.84</td>\n",
       "      <td>14.395</td>\n",
       "      <td>75</td>\n",
       "      <td>NaN</td>\n",
       "      <td>13</td>\n",
       "      <td>20.256703</td>\n",
       "      <td>8.339352</td>\n",
       "    </tr>\n",
       "    <tr>\n",
       "      <th>4</th>\n",
       "      <td>2011-01-01 04:00:00</td>\n",
       "      <td>winter</td>\n",
       "      <td>0</td>\n",
       "      <td>0</td>\n",
       "      <td>clear</td>\n",
       "      <td>9.84</td>\n",
       "      <td>14.395</td>\n",
       "      <td>75</td>\n",
       "      <td>NaN</td>\n",
       "      <td>1</td>\n",
       "      <td>20.256703</td>\n",
       "      <td>8.339352</td>\n",
       "    </tr>\n",
       "  </tbody>\n",
       "</table>\n",
       "</div>"
      ],
      "text/plain": [
       "              datetime  season  holiday  workingday weather  temp   atemp  \\\n",
       "0  2011-01-01 00:00:00  winter        0           0   clear  9.84  14.395   \n",
       "1  2011-01-01 01:00:00     NaN        0           0   clear  9.02  13.635   \n",
       "2  2011-01-01 02:00:00     NaN        0           0   clear  9.02  13.635   \n",
       "3  2011-01-01 03:00:00  winter        0           0   clear  9.84  14.395   \n",
       "4  2011-01-01 04:00:00  winter        0           0   clear  9.84  14.395   \n",
       "\n",
       "   humidity  windspeed  count  weath_tmp_avg  weath_tmp_std  \n",
       "0        81       5.18     16      20.256703       8.339352  \n",
       "1        80        NaN     40      20.256703       8.339352  \n",
       "2        80       6.32     32      20.256703       8.339352  \n",
       "3        75        NaN     13      20.256703       8.339352  \n",
       "4        75        NaN      1      20.256703       8.339352  "
      ]
     },
     "execution_count": 10,
     "metadata": {},
     "output_type": "execute_result"
    }
   ],
   "source": [
    "gp = data.groupby('weather')['temp']\n",
    "print (gp.mean())\n",
    "\n",
    "mean = gp.mean()\n",
    "std  = gp.std()\n",
    "data['weath_tmp_avg'] = data['weather'].map(mean)\n",
    "data['weath_tmp_std'] = data['weather'].map(std)\n",
    "data.head()"
   ]
  },
  {
   "cell_type": "markdown",
   "metadata": {
    "slideshow": {
     "slide_type": "subslide"
    }
   },
   "source": [
    "** Features Polynomiaux **"
   ]
  },
  {
   "cell_type": "markdown",
   "metadata": {},
   "source": [
    "Les features polynomiaux sont simplement des interactions, selon le binôme de Newton, des variables du jeux de données :\n",
    "\n",
    "A l'ordre 2 :\n",
    "    [a,b] - > [1,a,b,ab,a²,b²]\n",
    "    \n",
    "C'est utile si on ne sait pas trop où chercher et si les données sont anonymisées.\n",
    "Deux inconvénients majeurs si le degré est grand: \n",
    "- Le nombre de features explose\n",
    "- Les observations créées peuvent ne pas tenir en mémoire.\n"
   ]
  },
  {
   "cell_type": "code",
   "execution_count": 11,
   "metadata": {
    "slideshow": {
     "slide_type": "subslide"
    }
   },
   "outputs": [
    {
     "data": {
      "text/plain": [
       "array([[1., 2., 3., 4., 6., 9.]])"
      ]
     },
     "execution_count": 11,
     "metadata": {},
     "output_type": "execute_result"
    }
   ],
   "source": [
    "from sklearn.preprocessing import PolynomialFeatures\n",
    "poly = PolynomialFeatures(2)\n",
    "poly.fit_transform([[2,3]])"
   ]
  },
  {
   "cell_type": "markdown",
   "metadata": {
    "slideshow": {
     "slide_type": "subslide"
    }
   },
   "source": [
    "**Lags**\n",
    "\n",
    "Cela revient à construire une variable comme étant la target au temps n-1 (ou autre).\n",
    "Très efficace avec les modèles classiques de séries temporelle, ainsi qu'avec les LSTM, GRU et NeuralNet Autoregressif.\n",
    "\n"
   ]
  },
  {
   "cell_type": "code",
   "execution_count": 12,
   "metadata": {
    "scrolled": true,
    "slideshow": {
     "slide_type": "subslide"
    }
   },
   "outputs": [
    {
     "data": {
      "text/html": [
       "<div>\n",
       "<style scoped>\n",
       "    .dataframe tbody tr th:only-of-type {\n",
       "        vertical-align: middle;\n",
       "    }\n",
       "\n",
       "    .dataframe tbody tr th {\n",
       "        vertical-align: top;\n",
       "    }\n",
       "\n",
       "    .dataframe thead th {\n",
       "        text-align: right;\n",
       "    }\n",
       "</style>\n",
       "<table border=\"1\" class=\"dataframe\">\n",
       "  <thead>\n",
       "    <tr style=\"text-align: right;\">\n",
       "      <th></th>\n",
       "      <th>datetime</th>\n",
       "      <th>season</th>\n",
       "      <th>holiday</th>\n",
       "      <th>workingday</th>\n",
       "      <th>weather</th>\n",
       "      <th>temp</th>\n",
       "      <th>atemp</th>\n",
       "      <th>humidity</th>\n",
       "      <th>windspeed</th>\n",
       "      <th>count</th>\n",
       "      <th>weath_tmp_avg</th>\n",
       "      <th>weath_tmp_std</th>\n",
       "      <th>lag1</th>\n",
       "    </tr>\n",
       "  </thead>\n",
       "  <tbody>\n",
       "    <tr>\n",
       "      <th>0</th>\n",
       "      <td>2011-01-01 00:00:00</td>\n",
       "      <td>winter</td>\n",
       "      <td>0</td>\n",
       "      <td>0</td>\n",
       "      <td>clear</td>\n",
       "      <td>9.84</td>\n",
       "      <td>14.395</td>\n",
       "      <td>81</td>\n",
       "      <td>5.18</td>\n",
       "      <td>16</td>\n",
       "      <td>20.256703</td>\n",
       "      <td>8.339352</td>\n",
       "      <td>NaN</td>\n",
       "    </tr>\n",
       "    <tr>\n",
       "      <th>1</th>\n",
       "      <td>2011-01-01 01:00:00</td>\n",
       "      <td>NaN</td>\n",
       "      <td>0</td>\n",
       "      <td>0</td>\n",
       "      <td>clear</td>\n",
       "      <td>9.02</td>\n",
       "      <td>13.635</td>\n",
       "      <td>80</td>\n",
       "      <td>NaN</td>\n",
       "      <td>40</td>\n",
       "      <td>20.256703</td>\n",
       "      <td>8.339352</td>\n",
       "      <td>16.0</td>\n",
       "    </tr>\n",
       "    <tr>\n",
       "      <th>2</th>\n",
       "      <td>2011-01-01 02:00:00</td>\n",
       "      <td>NaN</td>\n",
       "      <td>0</td>\n",
       "      <td>0</td>\n",
       "      <td>clear</td>\n",
       "      <td>9.02</td>\n",
       "      <td>13.635</td>\n",
       "      <td>80</td>\n",
       "      <td>6.32</td>\n",
       "      <td>32</td>\n",
       "      <td>20.256703</td>\n",
       "      <td>8.339352</td>\n",
       "      <td>40.0</td>\n",
       "    </tr>\n",
       "    <tr>\n",
       "      <th>3</th>\n",
       "      <td>2011-01-01 03:00:00</td>\n",
       "      <td>winter</td>\n",
       "      <td>0</td>\n",
       "      <td>0</td>\n",
       "      <td>clear</td>\n",
       "      <td>9.84</td>\n",
       "      <td>14.395</td>\n",
       "      <td>75</td>\n",
       "      <td>NaN</td>\n",
       "      <td>13</td>\n",
       "      <td>20.256703</td>\n",
       "      <td>8.339352</td>\n",
       "      <td>32.0</td>\n",
       "    </tr>\n",
       "    <tr>\n",
       "      <th>4</th>\n",
       "      <td>2011-01-01 04:00:00</td>\n",
       "      <td>winter</td>\n",
       "      <td>0</td>\n",
       "      <td>0</td>\n",
       "      <td>clear</td>\n",
       "      <td>9.84</td>\n",
       "      <td>14.395</td>\n",
       "      <td>75</td>\n",
       "      <td>NaN</td>\n",
       "      <td>1</td>\n",
       "      <td>20.256703</td>\n",
       "      <td>8.339352</td>\n",
       "      <td>13.0</td>\n",
       "    </tr>\n",
       "  </tbody>\n",
       "</table>\n",
       "</div>"
      ],
      "text/plain": [
       "              datetime  season  holiday  workingday weather  temp   atemp  \\\n",
       "0  2011-01-01 00:00:00  winter        0           0   clear  9.84  14.395   \n",
       "1  2011-01-01 01:00:00     NaN        0           0   clear  9.02  13.635   \n",
       "2  2011-01-01 02:00:00     NaN        0           0   clear  9.02  13.635   \n",
       "3  2011-01-01 03:00:00  winter        0           0   clear  9.84  14.395   \n",
       "4  2011-01-01 04:00:00  winter        0           0   clear  9.84  14.395   \n",
       "\n",
       "   humidity  windspeed  count  weath_tmp_avg  weath_tmp_std  lag1  \n",
       "0        81       5.18     16      20.256703       8.339352   NaN  \n",
       "1        80        NaN     40      20.256703       8.339352  16.0  \n",
       "2        80       6.32     32      20.256703       8.339352  40.0  \n",
       "3        75        NaN     13      20.256703       8.339352  32.0  \n",
       "4        75        NaN      1      20.256703       8.339352  13.0  "
      ]
     },
     "execution_count": 12,
     "metadata": {},
     "output_type": "execute_result"
    }
   ],
   "source": [
    "data['lag1'] = data['count'].shift(1)\n",
    "data.head()"
   ]
  },
  {
   "cell_type": "code",
   "execution_count": 13,
   "metadata": {
    "scrolled": true,
    "slideshow": {
     "slide_type": "subslide"
    }
   },
   "outputs": [
    {
     "data": {
      "text/html": [
       "<div>\n",
       "<style scoped>\n",
       "    .dataframe tbody tr th:only-of-type {\n",
       "        vertical-align: middle;\n",
       "    }\n",
       "\n",
       "    .dataframe tbody tr th {\n",
       "        vertical-align: top;\n",
       "    }\n",
       "\n",
       "    .dataframe thead th {\n",
       "        text-align: right;\n",
       "    }\n",
       "</style>\n",
       "<table border=\"1\" class=\"dataframe\">\n",
       "  <thead>\n",
       "    <tr style=\"text-align: right;\">\n",
       "      <th></th>\n",
       "      <th>datetime</th>\n",
       "      <th>season</th>\n",
       "      <th>holiday</th>\n",
       "      <th>workingday</th>\n",
       "      <th>weather</th>\n",
       "      <th>temp</th>\n",
       "      <th>atemp</th>\n",
       "      <th>humidity</th>\n",
       "      <th>windspeed</th>\n",
       "      <th>count</th>\n",
       "      <th>weath_tmp_avg</th>\n",
       "      <th>weath_tmp_std</th>\n",
       "      <th>lag1</th>\n",
       "      <th>lag2</th>\n",
       "    </tr>\n",
       "  </thead>\n",
       "  <tbody>\n",
       "    <tr>\n",
       "      <th>0</th>\n",
       "      <td>2011-01-01 00:00:00</td>\n",
       "      <td>winter</td>\n",
       "      <td>0</td>\n",
       "      <td>0</td>\n",
       "      <td>clear</td>\n",
       "      <td>9.84</td>\n",
       "      <td>14.395</td>\n",
       "      <td>81</td>\n",
       "      <td>5.18</td>\n",
       "      <td>16</td>\n",
       "      <td>20.256703</td>\n",
       "      <td>8.339352</td>\n",
       "      <td>NaN</td>\n",
       "      <td>NaN</td>\n",
       "    </tr>\n",
       "    <tr>\n",
       "      <th>1</th>\n",
       "      <td>2011-01-01 01:00:00</td>\n",
       "      <td>NaN</td>\n",
       "      <td>0</td>\n",
       "      <td>0</td>\n",
       "      <td>clear</td>\n",
       "      <td>9.02</td>\n",
       "      <td>13.635</td>\n",
       "      <td>80</td>\n",
       "      <td>NaN</td>\n",
       "      <td>40</td>\n",
       "      <td>20.256703</td>\n",
       "      <td>8.339352</td>\n",
       "      <td>16.0</td>\n",
       "      <td>NaN</td>\n",
       "    </tr>\n",
       "    <tr>\n",
       "      <th>2</th>\n",
       "      <td>2011-01-01 02:00:00</td>\n",
       "      <td>NaN</td>\n",
       "      <td>0</td>\n",
       "      <td>0</td>\n",
       "      <td>clear</td>\n",
       "      <td>9.02</td>\n",
       "      <td>13.635</td>\n",
       "      <td>80</td>\n",
       "      <td>6.32</td>\n",
       "      <td>32</td>\n",
       "      <td>20.256703</td>\n",
       "      <td>8.339352</td>\n",
       "      <td>40.0</td>\n",
       "      <td>16.0</td>\n",
       "    </tr>\n",
       "    <tr>\n",
       "      <th>3</th>\n",
       "      <td>2011-01-01 03:00:00</td>\n",
       "      <td>winter</td>\n",
       "      <td>0</td>\n",
       "      <td>0</td>\n",
       "      <td>clear</td>\n",
       "      <td>9.84</td>\n",
       "      <td>14.395</td>\n",
       "      <td>75</td>\n",
       "      <td>NaN</td>\n",
       "      <td>13</td>\n",
       "      <td>20.256703</td>\n",
       "      <td>8.339352</td>\n",
       "      <td>32.0</td>\n",
       "      <td>40.0</td>\n",
       "    </tr>\n",
       "    <tr>\n",
       "      <th>4</th>\n",
       "      <td>2011-01-01 04:00:00</td>\n",
       "      <td>winter</td>\n",
       "      <td>0</td>\n",
       "      <td>0</td>\n",
       "      <td>clear</td>\n",
       "      <td>9.84</td>\n",
       "      <td>14.395</td>\n",
       "      <td>75</td>\n",
       "      <td>NaN</td>\n",
       "      <td>1</td>\n",
       "      <td>20.256703</td>\n",
       "      <td>8.339352</td>\n",
       "      <td>13.0</td>\n",
       "      <td>32.0</td>\n",
       "    </tr>\n",
       "  </tbody>\n",
       "</table>\n",
       "</div>"
      ],
      "text/plain": [
       "              datetime  season  holiday  workingday weather  temp   atemp  \\\n",
       "0  2011-01-01 00:00:00  winter        0           0   clear  9.84  14.395   \n",
       "1  2011-01-01 01:00:00     NaN        0           0   clear  9.02  13.635   \n",
       "2  2011-01-01 02:00:00     NaN        0           0   clear  9.02  13.635   \n",
       "3  2011-01-01 03:00:00  winter        0           0   clear  9.84  14.395   \n",
       "4  2011-01-01 04:00:00  winter        0           0   clear  9.84  14.395   \n",
       "\n",
       "   humidity  windspeed  count  weath_tmp_avg  weath_tmp_std  lag1  lag2  \n",
       "0        81       5.18     16      20.256703       8.339352   NaN   NaN  \n",
       "1        80        NaN     40      20.256703       8.339352  16.0   NaN  \n",
       "2        80       6.32     32      20.256703       8.339352  40.0  16.0  \n",
       "3        75        NaN     13      20.256703       8.339352  32.0  40.0  \n",
       "4        75        NaN      1      20.256703       8.339352  13.0  32.0  "
      ]
     },
     "execution_count": 13,
     "metadata": {},
     "output_type": "execute_result"
    }
   ],
   "source": [
    "data['lag2'] = data['count'].shift(2)\n",
    "data.head()"
   ]
  },
  {
   "cell_type": "markdown",
   "metadata": {
    "slideshow": {
     "slide_type": "subslide"
    }
   },
   "source": [
    "** Non supervisé **\n",
    "\n",
    "On connait diverses méthodes d'apprentissage non-supervisé permettant, entre autres, de faire du clustering.\n",
    "Il peut être intéressant de construire une nouvelle variable issue d'une de ces méthodes.\n",
    "Par exemple, pour le jeu de données sur le prix des maisons, ne peut-on pas identifier des clusters de maison ?"
   ]
  },
  {
   "cell_type": "markdown",
   "metadata": {
    "slideshow": {
     "slide_type": "subslide"
    }
   },
   "source": [
    "Evidemment, il est difficile d'identifier le nombre de clusters simplement, on peut alors procéder de plusieurs méthodes :\n",
    "-  Chercher le k optimal grâce à de la validation croisée et une fonction silhouette\n",
    "-  Utiliser un algorithme type dbscan"
   ]
  },
  {
   "cell_type": "markdown",
   "metadata": {
    "slideshow": {
     "slide_type": "subslide"
    }
   },
   "source": [
    "Il est également possible d'utiliser des méthodes de hiérarchisation pour apporter à chaque observation un rang d'importance."
   ]
  },
  {
   "cell_type": "markdown",
   "metadata": {
    "slideshow": {
     "slide_type": "subslide"
    }
   },
   "source": [
    "** Target Mapping **\n",
    "\n",
    "Le target mapping, ou mean target encoding, est une méthode qui consiste à construire une variable dépendant des targets observées dans le jeu d'apprentissage. On va par exemple, pour une catégorie, prend la moyenne de la variable cible.\n"
   ]
  },
  {
   "cell_type": "code",
   "execution_count": 14,
   "metadata": {
    "scrolled": true,
    "slideshow": {
     "slide_type": "subslide"
    }
   },
   "outputs": [
    {
     "name": "stdout",
     "output_type": "stream",
     "text": [
      "weather  season\n",
      "clear    autumn    160.932718\n",
      "         spring    236.756402\n",
      "         summer    212.477640\n",
      "         winter    127.229979\n",
      "mist     autumn    149.740741\n",
      "         spring    191.898625\n",
      "         summer    193.990654\n",
      "         winter    105.375817\n",
      "rain     winter    164.000000\n",
      "snow     autumn     95.366972\n",
      "         spring    124.055249\n",
      "         summer    138.864407\n",
      "         winter     61.194286\n",
      "Name: count, dtype: float64\n"
     ]
    },
    {
     "data": {
      "text/html": [
       "<div>\n",
       "<style scoped>\n",
       "    .dataframe tbody tr th:only-of-type {\n",
       "        vertical-align: middle;\n",
       "    }\n",
       "\n",
       "    .dataframe tbody tr th {\n",
       "        vertical-align: top;\n",
       "    }\n",
       "\n",
       "    .dataframe thead th {\n",
       "        text-align: right;\n",
       "    }\n",
       "</style>\n",
       "<table border=\"1\" class=\"dataframe\">\n",
       "  <thead>\n",
       "    <tr style=\"text-align: right;\">\n",
       "      <th></th>\n",
       "      <th>datetime</th>\n",
       "      <th>season</th>\n",
       "      <th>holiday</th>\n",
       "      <th>workingday</th>\n",
       "      <th>weather</th>\n",
       "      <th>temp</th>\n",
       "      <th>atemp</th>\n",
       "      <th>humidity</th>\n",
       "      <th>windspeed</th>\n",
       "      <th>count</th>\n",
       "      <th>weath_tmp_avg</th>\n",
       "      <th>weath_tmp_std</th>\n",
       "      <th>lag1</th>\n",
       "      <th>lag2</th>\n",
       "      <th>weather_season_count</th>\n",
       "    </tr>\n",
       "  </thead>\n",
       "  <tbody>\n",
       "    <tr>\n",
       "      <th>0</th>\n",
       "      <td>2011-01-01 00:00:00</td>\n",
       "      <td>winter</td>\n",
       "      <td>0</td>\n",
       "      <td>0</td>\n",
       "      <td>clear</td>\n",
       "      <td>9.84</td>\n",
       "      <td>14.395</td>\n",
       "      <td>81</td>\n",
       "      <td>5.18</td>\n",
       "      <td>16</td>\n",
       "      <td>20.256703</td>\n",
       "      <td>8.339352</td>\n",
       "      <td>NaN</td>\n",
       "      <td>NaN</td>\n",
       "      <td>127.229979</td>\n",
       "    </tr>\n",
       "    <tr>\n",
       "      <th>1</th>\n",
       "      <td>2011-01-01 03:00:00</td>\n",
       "      <td>winter</td>\n",
       "      <td>0</td>\n",
       "      <td>0</td>\n",
       "      <td>clear</td>\n",
       "      <td>9.84</td>\n",
       "      <td>14.395</td>\n",
       "      <td>75</td>\n",
       "      <td>NaN</td>\n",
       "      <td>13</td>\n",
       "      <td>20.256703</td>\n",
       "      <td>8.339352</td>\n",
       "      <td>32.0</td>\n",
       "      <td>40.0</td>\n",
       "      <td>127.229979</td>\n",
       "    </tr>\n",
       "    <tr>\n",
       "      <th>2</th>\n",
       "      <td>2011-01-01 04:00:00</td>\n",
       "      <td>winter</td>\n",
       "      <td>0</td>\n",
       "      <td>0</td>\n",
       "      <td>clear</td>\n",
       "      <td>9.84</td>\n",
       "      <td>14.395</td>\n",
       "      <td>75</td>\n",
       "      <td>NaN</td>\n",
       "      <td>1</td>\n",
       "      <td>20.256703</td>\n",
       "      <td>8.339352</td>\n",
       "      <td>13.0</td>\n",
       "      <td>32.0</td>\n",
       "      <td>127.229979</td>\n",
       "    </tr>\n",
       "    <tr>\n",
       "      <th>3</th>\n",
       "      <td>2011-01-01 06:00:00</td>\n",
       "      <td>winter</td>\n",
       "      <td>0</td>\n",
       "      <td>0</td>\n",
       "      <td>clear</td>\n",
       "      <td>9.02</td>\n",
       "      <td>13.635</td>\n",
       "      <td>80</td>\n",
       "      <td>NaN</td>\n",
       "      <td>2</td>\n",
       "      <td>20.256703</td>\n",
       "      <td>8.339352</td>\n",
       "      <td>1.0</td>\n",
       "      <td>1.0</td>\n",
       "      <td>127.229979</td>\n",
       "    </tr>\n",
       "    <tr>\n",
       "      <th>4</th>\n",
       "      <td>2011-01-01 07:00:00</td>\n",
       "      <td>winter</td>\n",
       "      <td>0</td>\n",
       "      <td>0</td>\n",
       "      <td>clear</td>\n",
       "      <td>8.20</td>\n",
       "      <td>12.880</td>\n",
       "      <td>86</td>\n",
       "      <td>NaN</td>\n",
       "      <td>3</td>\n",
       "      <td>20.256703</td>\n",
       "      <td>8.339352</td>\n",
       "      <td>2.0</td>\n",
       "      <td>1.0</td>\n",
       "      <td>127.229979</td>\n",
       "    </tr>\n",
       "  </tbody>\n",
       "</table>\n",
       "</div>"
      ],
      "text/plain": [
       "              datetime  season  holiday  workingday weather  temp   atemp  \\\n",
       "0  2011-01-01 00:00:00  winter        0           0   clear  9.84  14.395   \n",
       "1  2011-01-01 03:00:00  winter        0           0   clear  9.84  14.395   \n",
       "2  2011-01-01 04:00:00  winter        0           0   clear  9.84  14.395   \n",
       "3  2011-01-01 06:00:00  winter        0           0   clear  9.02  13.635   \n",
       "4  2011-01-01 07:00:00  winter        0           0   clear  8.20  12.880   \n",
       "\n",
       "   humidity  windspeed  count  weath_tmp_avg  weath_tmp_std  lag1  lag2  \\\n",
       "0        81       5.18     16      20.256703       8.339352   NaN   NaN   \n",
       "1        75        NaN     13      20.256703       8.339352  32.0  40.0   \n",
       "2        75        NaN      1      20.256703       8.339352  13.0  32.0   \n",
       "3        80        NaN      2      20.256703       8.339352   1.0   1.0   \n",
       "4        86        NaN      3      20.256703       8.339352   2.0   1.0   \n",
       "\n",
       "   weather_season_count  \n",
       "0            127.229979  \n",
       "1            127.229979  \n",
       "2            127.229979  \n",
       "3            127.229979  \n",
       "4            127.229979  "
      ]
     },
     "execution_count": 14,
     "metadata": {},
     "output_type": "execute_result"
    }
   ],
   "source": [
    "gp = data.groupby(['weather','season'])['count']\n",
    "print (gp.mean())\n",
    "\n",
    "mean = gp.mean()\n",
    "means = mean.reset_index(level=['weather','season']).rename(columns={'count':'weather_season_count'})\n",
    "data = pd.merge(data,means, on = ['weather','season'])\n",
    "data.head()"
   ]
  },
  {
   "cell_type": "markdown",
   "metadata": {
    "slideshow": {
     "slide_type": "subslide"
    }
   },
   "source": [
    "Et surtout, on réfléchit !!"
   ]
  },
  {
   "cell_type": "markdown",
   "metadata": {
    "slideshow": {
     "slide_type": "slide"
    }
   },
   "source": [
    "## IV - Réduction de dimension"
   ]
  },
  {
   "cell_type": "markdown",
   "metadata": {
    "slideshow": {
     "slide_type": "subslide"
    }
   },
   "source": [
    "Vous verrez plusieurs méthodes d'apprentissage non-supervisé pour permettre des réductions de dimensions, c'est-à-dire passer d'un espace très grand de variables décorrélées à un espace plus petit de variables corrélées. \n",
    "Vous trouverez les méthodes suivantes :\n",
    "- Principal Component Analysis (PCA)\n",
    "- Non-negative Matrix Factorization (NMF)\n",
    "- Kernel-PCA\n",
    "- Fast Independant Component Analysis (Fast ICA)\n",
    "- AutoEncoder\n",
    "- t-distribued stochastic neighbor embedding (t-SNE)\n",
    "\n",
    "Ces méthodes permettent de réduire grandement le nombre de variable, ce qui est en cas de fléau de la dimension peut s'avérer très efficace (voir le kaggle [Mercedes](https://www.kaggle.com/c/mercedes-benz-greener-manufacturing)."
   ]
  },
  {
   "cell_type": "markdown",
   "metadata": {
    "slideshow": {
     "slide_type": "slide"
    }
   },
   "source": [
    "## V - Resampling & Synthetic sampling"
   ]
  },
  {
   "cell_type": "markdown",
   "metadata": {
    "slideshow": {
     "slide_type": "subslide"
    }
   },
   "source": [
    "Une problématique de l'apprentissage statistique concerne les jeux de données avec une variable cible déséquilibrée à classifier. \n",
    "C'est un problème car la plupart des algorithmes vont apprendre surtout à prédire la valeur qu'ils observent le plus et alors mal prédire la valeur peu représentée.\n",
    "Intuitivement, on dispose alors de deux techniques pour équilibré les données :\n",
    "- L'upsampling\n",
    "- Le downsampling\n",
    "\n",
    "Il existe évidemment une littérature très développée autour de ces techniques avec différents algorithmes, nous en verrons quelques exemples. \n",
    "\n",
    "_Un bon [kernel](https://www.kaggle.com/rafjaa/resampling-strategies-for-imbalanced-datasets) explicatif._"
   ]
  },
  {
   "cell_type": "markdown",
   "metadata": {
    "slideshow": {
     "slide_type": "subslide"
    }
   },
   "source": [
    "** Metric Trap **\n",
    "\n",
    "La métrique utilisée peut être totalement à l'ouest si la variable cible est déséquilibrée."
   ]
  },
  {
   "cell_type": "code",
   "execution_count": 15,
   "metadata": {},
   "outputs": [
    {
     "name": "stdout",
     "output_type": "stream",
     "text": [
      "Performance d'une regression logistique : 0.98\n",
      "Performance d'un vecteur nul : 0.98\n"
     ]
    }
   ],
   "source": [
    "from sklearn.linear_model import LogisticRegression\n",
    "from sklearn.metrics import accuracy_score\n",
    "from sklearn.datasets import make_classification\n",
    "\n",
    "X,y = make_classification(600, weights = [99/100., 1./100], random_state = 123)\n",
    "\n",
    "model = LogisticRegression()\n",
    "model.fit(X[:500],y[:500])\n",
    "\n",
    "print('Performance d\\'une regression logistique : {}'.format(accuracy_score(y[500:],model.predict(X[500:]))))\n",
    "print('Performance d\\'un vecteur nul : {}'.format(accuracy_score(y[500:],np.zeros((100,1)))))\n"
   ]
  },
  {
   "cell_type": "markdown",
   "metadata": {
    "slideshow": {
     "slide_type": "subslide"
    }
   },
   "source": [
    "Métrique invariante pour ce genre de problème : roc auc, F1, matrice de confusion ..."
   ]
  },
  {
   "cell_type": "markdown",
   "metadata": {
    "slideshow": {
     "slide_type": "subslide"
    }
   },
   "source": [
    "![exemple](resampling.png)"
   ]
  },
  {
   "cell_type": "markdown",
   "metadata": {
    "slideshow": {
     "slide_type": "subslide"
    }
   },
   "source": [
    "La technique à utiliser dépend généralement du nombre d'observations et des données."
   ]
  },
  {
   "cell_type": "markdown",
   "metadata": {
    "slideshow": {
     "slide_type": "subslide"
    }
   },
   "source": [
    "** Downsampling de la majorité **\n",
    "\n",
    "On peut tout simplement supprimer des observations trop redondantes pour parvenir à un équilibre dans nos données. Néanmoins, si le volume de données est trop important, il est également possible de choisir aléatoire des observations et de les retirer du jeu d'apprentissage."
   ]
  },
  {
   "cell_type": "markdown",
   "metadata": {
    "slideshow": {
     "slide_type": "subslide"
    }
   },
   "source": [
    "**Upsampling de la minorité**\n",
    "\n",
    "La méthode la plus naïve consiste à construire de nouvelle observation comme un échantillon d'un bootstrap effectué sur chaque variable des observations issues de la minorité. C'est très mauvais si il y a une corrélation entre les variables."
   ]
  },
  {
   "cell_type": "markdown",
   "metadata": {
    "slideshow": {
     "slide_type": "subslide"
    }
   },
   "source": [
    "Une bonne solution consiste alors à créér des observations synthétique, pour cela deux méthodes que je vous invite à lire :\n",
    "- sMOTE : Synthetic Minority Oversampling Technique (A partir d'une observation, on observe les k-plus proche voisin et on construit une nouvelle observation synthétique proche de la première)\n",
    "- ADAWYN : the Adatptive Synthetic sampling method\n"
   ]
  },
  {
   "cell_type": "markdown",
   "metadata": {
    "slideshow": {
     "slide_type": "slide"
    }
   },
   "source": [
    "# TP - Mise en pratique"
   ]
  },
  {
   "cell_type": "code",
   "execution_count": 16,
   "metadata": {
    "slideshow": {
     "slide_type": "subslide"
    }
   },
   "outputs": [],
   "source": [
    "import os\n",
    "import numpy as  np\n",
    "import pandas as pd\n",
    "import seaborn as sns\n",
    "import matplotlib.pyplot as plt\n",
    "plt.rcParams['figure.figsize'] = (10,10)"
   ]
  },
  {
   "cell_type": "markdown",
   "metadata": {
    "slideshow": {
     "slide_type": "subslide"
    }
   },
   "source": [
    "**0** - Question préliminaire : importer les données, quel type de problème est-ce ?"
   ]
  },
  {
   "cell_type": "code",
   "execution_count": 17,
   "metadata": {
    "slideshow": {
     "slide_type": "subslide"
    }
   },
   "outputs": [],
   "source": [
    "train = pd.read_csv('data/train.csv')\n",
    "test = pd.read_csv('data/test.csv')"
   ]
  },
  {
   "cell_type": "markdown",
   "metadata": {
    "slideshow": {
     "slide_type": "subslide"
    }
   },
   "source": [
    "**1** Exploratory Data Analysis"
   ]
  },
  {
   "cell_type": "markdown",
   "metadata": {
    "slideshow": {
     "slide_type": "subslide"
    }
   },
   "source": [
    "**1.1** - Observez les données, quel type de variables trouve-t-on ? Des valeurs manquantes ?"
   ]
  },
  {
   "cell_type": "code",
   "execution_count": 1,
   "metadata": {
    "scrolled": true,
    "slideshow": {
     "slide_type": "subslide"
    }
   },
   "outputs": [],
   "source": [
    "def Missing_values(data):\n",
    "    total = data.isnull().sum().sort_values(ascending=False)\n",
    "    percent = (data.isnull().sum()/data.isnull().count()).sort_values(ascending=False)\n",
    "    missing_data = pd.concat([total,percent], axis=1, keys=['Total', 'Pourcentage'])\n",
    "    print( missing_data[(percent>0)],'\\n' )"
   ]
  },
  {
   "cell_type": "markdown",
   "metadata": {
    "slideshow": {
     "slide_type": "subslide"
    }
   },
   "source": [
    "**1.2** - Quels sont les variables catégorielles ? Combien trouve-t'on d'éléments unique par variable? \n"
   ]
  },
  {
   "cell_type": "markdown",
   "metadata": {
    "slideshow": {
     "slide_type": "subslide"
    }
   },
   "source": [
    "**1.3** -Extrayez les variables catégorielle de type object dans une list nommée cat_object_features"
   ]
  },
  {
   "cell_type": "markdown",
   "metadata": {
    "slideshow": {
     "slide_type": "subslide"
    }
   },
   "source": [
    "**1.4** - Visualisez les variables cibles, y-a t'il quelque chose qui vous semble problématique ?"
   ]
  },
  {
   "cell_type": "markdown",
   "metadata": {
    "slideshow": {
     "slide_type": "subslide"
    }
   },
   "source": [
    "**1.5** - Effectuez un peu de visualisation, que pensez-vous des distributions associées aux variables ?\n"
   ]
  },
  {
   "cell_type": "markdown",
   "metadata": {
    "slideshow": {
     "slide_type": "subslide"
    }
   },
   "source": [
    "**1.6** - Quelles variables semblent influées sur la variables cible ?"
   ]
  },
  {
   "cell_type": "markdown",
   "metadata": {
    "slideshow": {
     "slide_type": "subslide"
    }
   },
   "source": [
    "**2** Feature Engineering & Evaluation des performances"
   ]
  },
  {
   "cell_type": "markdown",
   "metadata": {
    "slideshow": {
     "slide_type": "subslide"
    }
   },
   "source": [
    "**2.1** - Compléter les valeurs manquantes"
   ]
  },
  {
   "cell_type": "markdown",
   "metadata": {
    "slideshow": {
     "slide_type": "subslide"
    }
   },
   "source": [
    "**2.2** - Effectuer une copie de vos jeux de données et transformer les variables catégorielles comme bon vous semble. Puis extrayez les variables cibles et supprimer la variable inutile."
   ]
  },
  {
   "cell_type": "code",
   "execution_count": 30,
   "metadata": {
    "slideshow": {
     "slide_type": "subslide"
    }
   },
   "outputs": [],
   "source": [
    "from sklearn.preprocessing import LabelEncoder"
   ]
  },
  {
   "cell_type": "code",
   "execution_count": 31,
   "metadata": {
    "slideshow": {
     "slide_type": "subslide"
    }
   },
   "outputs": [],
   "source": [
    "new_train = train.copy()\n",
    "new_test = test.copy()"
   ]
  },
  {
   "cell_type": "markdown",
   "metadata": {
    "slideshow": {
     "slide_type": "subslide"
    }
   },
   "source": [
    "**2.3** - La métrique d'évaluation du problème est l'erreur roc auc. Evaluez deux modèles (Régression Logistique et SVM, par exemple) sur le jeu où vous avez transformer les variables catégorielles."
   ]
  },
  {
   "cell_type": "code",
   "execution_count": 33,
   "metadata": {
    "slideshow": {
     "slide_type": "subslide"
    }
   },
   "outputs": [],
   "source": [
    "from sklearn.svm import SVC\n",
    "from sklearn.metrics import roc_auc_score\n",
    "from sklearn.linear_model import LogisticRegression\n"
   ]
  },
  {
   "cell_type": "code",
   "execution_count": 34,
   "metadata": {
    "slideshow": {
     "slide_type": "subslide"
    }
   },
   "outputs": [
    {
     "data": {
      "text/plain": [
       "SVC(C=1.0, cache_size=200, class_weight=None, coef0=0.0,\n",
       "  decision_function_shape='ovr', degree=3, gamma='auto_deprecated',\n",
       "  kernel='rbf', max_iter=-1, probability=True, random_state=None,\n",
       "  shrinking=True, tol=0.001, verbose=False)"
      ]
     },
     "execution_count": 34,
     "metadata": {},
     "output_type": "execute_result"
    }
   ],
   "source": [
    "model_logit = LogisticRegression()\n",
    "model_svm = SVC(probability=True)"
   ]
  },
  {
   "cell_type": "code",
   "execution_count": 1,
   "metadata": {},
   "outputs": [],
   "source": [
    "# fit les modèle et regarder la méthode: model.predict_proba()"
   ]
  },
  {
   "cell_type": "markdown",
   "metadata": {
    "slideshow": {
     "slide_type": "subslide"
    }
   },
   "source": [
    "**2.4** - Que pourrait on construire comme variables apportant de l'information et permettant d'expliquer mieux les variables cibles ?"
   ]
  },
  {
   "cell_type": "markdown",
   "metadata": {
    "slideshow": {
     "slide_type": "subslide"
    }
   },
   "source": [
    "**2.5** - Construisez en certaines ! Help : Concatenez les datasets comme un unique dataframe pour effectuer les transformations.\n"
   ]
  },
  {
   "cell_type": "markdown",
   "metadata": {
    "slideshow": {
     "slide_type": "subslide"
    }
   },
   "source": [
    "**2.6** - Optez pour une stratégie intelligente pour transformer les variables catégorielles. En oubliant pas de découper le jeu concaténé sur lequel vous avez construit les features."
   ]
  },
  {
   "cell_type": "markdown",
   "metadata": {
    "slideshow": {
     "slide_type": "subslide"
    }
   },
   "source": [
    "**2.7** - Observez de nouveau les corrélations. Que constatez vous ?"
   ]
  },
  {
   "cell_type": "markdown",
   "metadata": {
    "slideshow": {
     "slide_type": "subslide"
    }
   },
   "source": [
    "**2.8** - Evaluez vos deux modèles sur ces nouvelles données - en oubliant pas de supprimer les targets et ID, qu'observez-vous ?\n",
    "\n"
   ]
  }
 ],
 "metadata": {
  "kernelspec": {
   "display_name": "Python 3 (ipykernel)",
   "language": "python",
   "name": "python3"
  },
  "language_info": {
   "codemirror_mode": {
    "name": "ipython",
    "version": 3
   },
   "file_extension": ".py",
   "mimetype": "text/x-python",
   "name": "python",
   "nbconvert_exporter": "python",
   "pygments_lexer": "ipython3",
   "version": "3.10.12"
  }
 },
 "nbformat": 4,
 "nbformat_minor": 4
}
