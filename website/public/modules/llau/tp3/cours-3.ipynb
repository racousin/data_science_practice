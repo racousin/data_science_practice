{
 "cells": [
  {
   "cell_type": "markdown",
   "metadata": {
    "slideshow": {
     "slide_type": "slide"
    }
   },
   "source": [
    "# Data Science en pratique\n",
    "\n",
    "Arthur Llau, mail : arthur@flowlity.com"
   ]
  },
  {
   "cell_type": "markdown",
   "metadata": {
    "slideshow": {
     "slide_type": "slide"
    }
   },
   "source": [
    "## Pensez à m'envoyer vos CV avant le 24/10/2023."
   ]
  },
  {
   "cell_type": "markdown",
   "metadata": {
    "slideshow": {
     "slide_type": "slide"
    }
   },
   "source": [
    "# Cours 3 : Feature Engineering II"
   ]
  },
  {
   "cell_type": "markdown",
   "metadata": {
    "slideshow": {
     "slide_type": "slide"
    }
   },
   "source": [
    "## Objectif du cours : Création de features, transformations & sampling\n",
    "- Comment scaler les données\n",
    "- Apporter des techniques de création de features et de nettoyage des données\n",
    "- Essayer de résoudre les problèmes de déséquilibre des variables cibles"
   ]
  },
  {
   "cell_type": "code",
   "execution_count": 2,
   "metadata": {
    "slideshow": {
     "slide_type": "skip"
    }
   },
   "outputs": [],
   "source": [
    "import numpy as np\n",
    "import pandas as pd\n",
    "import matplotlib.pyplot as plt\n",
    "import seaborn as sns\n",
    "\n",
    "from sklearn.datasets import load_breast_cancer, load_boston\n",
    "\n",
    "import warnings\n",
    "\n",
    "warnings.filterwarnings('ignore')\n",
    "data = load_breast_cancer()['data']\n",
    "target = load_breast_cancer()['target']\n",
    "plt.rcParams['figure.figsize'] = (10,5)\n",
    "plt.rcParams['figure.figsize'] = (10,5)"
   ]
  },
  {
   "cell_type": "markdown",
   "metadata": {
    "slideshow": {
     "slide_type": "slide"
    }
   },
   "source": [
    "## I - Scaling & Standardisation"
   ]
  },
  {
   "cell_type": "markdown",
   "metadata": {
    "slideshow": {
     "slide_type": "subslide"
    }
   },
   "source": [
    "On a parfois besoin de normaliser ou standardiser les données pour pouvoir les utiliser avec certains algorithmes. Typiquement les SVM (pas invariant par transformation affine) ont pour hypothèse que les données sont centrées autour de 0 et possèdent une variance de même ordre. Si une variable à une variance plus elevée que les autres la fonction objectif peut être alors biaisée et ne pas correctement apprendre les autres variables.\n",
    "Un autre cas : la descente de gradient converge beaucoup plus rapidemment avec des valeurs normalisées.\n",
    "\n",
    "En général c'est obligatoire si il y a une distance dans l'histoire. Pas obligatoire avec les arbres qui sont invariants par transformation affine."
   ]
  },
  {
   "cell_type": "markdown",
   "metadata": {
    "slideshow": {
     "slide_type": "subslide"
    }
   },
   "source": [
    "** Min Max Scaling **\n",
    "\n",
    "Revient à normaliser les données dans l'intervalle [0,1] :\n",
    "\n",
    "$$x'={\\frac {x-{\\text{min}}(x)}{{\\text{max}}(x)-{\\text{min}}(x)}}$$\n"
   ]
  },
  {
   "cell_type": "code",
   "execution_count": 3,
   "metadata": {
    "scrolled": true,
    "slideshow": {
     "slide_type": "subslide"
    }
   },
   "outputs": [
    {
     "data": {
      "image/png": "[encoded data removed]",
      "text/plain": [
       "<Figure size 720x360 with 2 Axes>"
      ]
     },
     "metadata": {
      "needs_background": "light"
     },
     "output_type": "display_data"
    }
   ],
   "source": [
    "from sklearn.preprocessing import minmax_scale\n",
    "\n",
    "plt.subplot(121)\n",
    "plt.hist(data[:,3], bins = 50);\n",
    "plt.subplot(122)\n",
    "plt.hist(minmax_scale(data[:,3]), bins = 50);"
   ]
  },
  {
   "cell_type": "markdown",
   "metadata": {
    "slideshow": {
     "slide_type": "subslide"
    }
   },
   "source": [
    "** Mean Max Scaling **\n",
    "\n",
    "Revient à normaliser les données dans l'intervalle [-1,1] :\n",
    "\n",
    "$$x'={\\frac {x-{\\text{mean}}(x)}{{\\text{max}}(x)-{\\text{min}}(x)}}$$\n"
   ]
  },
  {
   "cell_type": "code",
   "execution_count": 4,
   "metadata": {
    "slideshow": {
     "slide_type": "subslide"
    }
   },
   "outputs": [
    {
     "data": {
      "image/png": "[encoded data removed]",
      "text/plain": [
       "<Figure size 720x360 with 2 Axes>"
      ]
     },
     "metadata": {
      "needs_background": "light"
     },
     "output_type": "display_data"
    }
   ],
   "source": [
    "X = data[:,3]\n",
    "X_std = (X - X.mean(axis=0)) / (X.max(axis=0) - X.min(axis=0))\n",
    "\n",
    "plt.subplot(121)\n",
    "plt.hist(X, bins = 50);\n",
    "plt.subplot(122)\n",
    "plt.hist(X_std, bins = 50);"
   ]
  },
  {
   "cell_type": "markdown",
   "metadata": {
    "slideshow": {
     "slide_type": "subslide"
    }
   },
   "source": [
    "** Standardisation **\n",
    "\n",
    "Grand classique : \n",
    "\n",
    "$$ x' = \\frac{x - \\bar{x}}{\\sigma} $$"
   ]
  },
  {
   "cell_type": "code",
   "execution_count": 5,
   "metadata": {
    "scrolled": true,
    "slideshow": {
     "slide_type": "subslide"
    }
   },
   "outputs": [
    {
     "data": {
      "image/png": "[encoded data removed]",
      "text/plain": [
       "<Figure size 720x360 with 2 Axes>"
      ]
     },
     "metadata": {
      "needs_background": "light"
     },
     "output_type": "display_data"
    }
   ],
   "source": [
    "from sklearn.preprocessing import scale\n",
    "\n",
    "plt.subplot(121)\n",
    "plt.hist(data[:,3], bins = 50);\n",
    "plt.subplot(122)\n",
    "plt.hist(scale(data[:,3]), bins = 50);"
   ]
  },
  {
   "cell_type": "markdown",
   "metadata": {
    "slideshow": {
     "slide_type": "slide"
    }
   },
   "source": [
    "## II - Transformations \n",
    "\n"
   ]
  },
  {
   "cell_type": "markdown",
   "metadata": {
    "slideshow": {
     "slide_type": "subslide"
    }
   },
   "source": [
    "** Power Transformations **\n",
    "\n",
    "\n",
    "C'est une famille de transformation qui permettent de stabiliser la variance d'une distribution.\n",
    "Les transformations à la puissance change la distribution de la variable pour quelle ne soit plus dépendante de la moyenne. (voir Loi de Poisson par ex).\n",
    "\n",
    "On trouve plusieurs transformation de ce type, comme le log ou la transformée de Box-Cox chacune ayant leur propre spécifité.\n",
    "\n",
    "\n",
    "$$ {\\displaystyle B(x,\\lambda )={\\begin{cases}{\\frac {x^{\\lambda }-1}{\\lambda }}&{\\text{si }}\\lambda \\neq 0\\\\\\log(x)&{\\text{si }}\\lambda =0\\end{cases}}} $$"
   ]
  },
  {
   "cell_type": "markdown",
   "metadata": {
    "slideshow": {
     "slide_type": "subslide"
    }
   },
   "source": [
    "\n",
    "La transformation par le log permet de transformer une distribution avec une queue lourde en une distribution avec des queues plus légères. C'est-à-dire que cette méthode compresse les grands écarts et disperse les petits écarts entre les valeurs."
   ]
  },
  {
   "cell_type": "code",
   "execution_count": 6,
   "metadata": {
    "slideshow": {
     "slide_type": "subslide"
    }
   },
   "outputs": [
    {
     "data": {
      "image/png": "[encoded data removed]",
      "text/plain": [
       "<Figure size 720x360 with 2 Axes>"
      ]
     },
     "metadata": {
      "needs_background": "light"
     },
     "output_type": "display_data"
    }
   ],
   "source": [
    "plt.subplot(121)\n",
    "plt.hist(data[:,3], bins = 50);\n",
    "plt.subplot(122)\n",
    "plt.hist(np.log(data[:,3]), bins = 50);"
   ]
  },
  {
   "cell_type": "markdown",
   "metadata": {
    "slideshow": {
     "slide_type": "subslide"
    }
   },
   "source": [
    "Autre cas où c'est utile : on est très concentré autour de 0 mais les écarts sont difficiles à visualiser."
   ]
  },
  {
   "cell_type": "code",
   "execution_count": 7,
   "metadata": {
    "scrolled": true,
    "slideshow": {
     "slide_type": "subslide"
    }
   },
   "outputs": [
    {
     "data": {
      "image/png": "[encoded data removed]",
      "text/plain": [
       "<Figure size 720x360 with 2 Axes>"
      ]
     },
     "metadata": {
      "needs_background": "light"
     },
     "output_type": "display_data"
    }
   ],
   "source": [
    "plt.subplot(121)\n",
    "plt.hist(data[:,5], bins = 50);\n",
    "plt.subplot(122)\n",
    "plt.hist(np.log(data[:,5]), bins = 50);"
   ]
  },
  {
   "cell_type": "markdown",
   "metadata": {
    "slideshow": {
     "slide_type": "subslide"
    }
   },
   "source": [
    "** Lissage, réduction de bruit **\n",
    "\n",
    "Lorsque nos données proviennent de signaux on retrouve régulièrement un bruit, dû par exemple aux capteurs. Une bonne méthode de préprocessing des données des signaux est donc de supprimer ce bruit, c'est-à-dire lisser les signaux, pour cela la littérature régorge de méthodes :\n",
    "- Lissage par moyenne glissante\n",
    "- Les splines de lissage\n",
    "- Lissage par noyaux\n",
    "- Filtre de Kalman\n",
    "- Savitzky-Golay\n",
    "- Douglas-Peucker\n"
   ]
  },
  {
   "cell_type": "code",
   "execution_count": 8,
   "metadata": {
    "slideshow": {
     "slide_type": "subslide"
    }
   },
   "outputs": [
    {
     "data": {
      "text/plain": [
       "<matplotlib.legend.Legend at 0x7f71063565b0>"
      ]
     },
     "execution_count": 8,
     "metadata": {},
     "output_type": "execute_result"
    },
    {
     "data": {
      "image/png": "[encoded data removed]",
      "text/plain": [
       "<Figure size 720x360 with 1 Axes>"
      ]
     },
     "metadata": {
      "needs_background": "light"
     },
     "output_type": "display_data"
    }
   ],
   "source": [
    "from scipy.signal import savgol_filter\n",
    "\n",
    "x = np.linspace(0,3*np.pi, 500)\n",
    "y = np.sin(x)+np.random.rand(500)*0.3\n",
    "\n",
    "plt.plot(x, y, label = 'Signal')\n",
    "plt.plot(x, savgol_filter(y,23,3), label = 'Smoothed signal')\n",
    "plt.legend()"
   ]
  },
  {
   "cell_type": "markdown",
   "metadata": {
    "slideshow": {
     "slide_type": "subslide"
    }
   },
   "source": [
    "Attention, selon l'algorithme utilisé, il existe un paramètre de lissage à calibrer pour ne pas surlisser ou bien sous lisser. (Et oui, on fait de l'apprentissage en fait)\n"
   ]
  },
  {
   "cell_type": "markdown",
   "metadata": {
    "slideshow": {
     "slide_type": "slide"
    }
   },
   "source": [
    "## III - Features inputing"
   ]
  },
  {
   "cell_type": "markdown",
   "metadata": {
    "slideshow": {
     "slide_type": "subslide"
    }
   },
   "source": [
    "À partir des données on peut constuire plusieurs types de nouvelles variables :\n",
    "-  des variables arithmétiques, polynomiales\n",
    "-  des variables issues de statistiques\n",
    "-  des features provenant des expertises métier (ratio, interactions)\n",
    "-  des résultats de non-supervisé\n",
    "-  des lags si on a des données temporelles\n",
    "-  du mean target encoding\n",
    "\n",
    "Comme exemple, on reprend le jeu de données du dernier cours (les vélos)."
   ]
  },
  {
   "cell_type": "code",
   "execution_count": 14,
   "metadata": {
    "slideshow": {
     "slide_type": "skip"
    }
   },
   "outputs": [],
   "source": [
    "data = pd.read_csv('../cours-2/data/train.csv')"
   ]
  },
  {
   "cell_type": "markdown",
   "metadata": {
    "slideshow": {
     "slide_type": "subslide"
    }
   },
   "source": [
    "** Statistiques **\n",
    "\n",
    "Il est évident que l'on peut construire des features comme des statistiques provenant des observations.\n",
    "Par exemple, on peut construire la moyenne d'une observation par rapport à une catégorie. On peut dans notre cas choisir d'observer la température moyenne par condition météorologique.\n"
   ]
  },
  {
   "cell_type": "code",
   "execution_count": 17,
   "metadata": {
    "slideshow": {
     "slide_type": "subslide"
    }
   },
   "outputs": [
    {
     "data": {
      "image/png": "[encoded data removed]",
      "text/plain": [
       "<Figure size 720x360 with 1 Axes>"
      ]
     },
     "metadata": {
      "needs_background": "light"
     },
     "output_type": "display_data"
    }
   ],
   "source": [
    "sns.boxplot(x='weather', y = 'temp', data = data, palette='Blues'); # On peut le maper comme une nouvelle variable !"
   ]
  },
  {
   "cell_type": "code",
   "execution_count": 18,
   "metadata": {
    "slideshow": {
     "slide_type": "subslide"
    }
   },
   "outputs": [
    {
     "name": "stdout",
     "output_type": "stream",
     "text": [
      "weather\n",
      "clear    20.256703\n",
      "mist     19.403129\n",
      "rain      8.200000\n",
      "snow     18.931304\n",
      "Name: temp, dtype: float64\n"
     ]
    }
   ],
   "source": [
    "gp = data.groupby('weather')['temp']\n",
    "print (gp.mean())\n"
   ]
  },
  {
   "cell_type": "code",
   "execution_count": 19,
   "metadata": {
    "slideshow": {
     "slide_type": "subslide"
    }
   },
   "outputs": [
    {
     "data": {
      "text/html": [
       "<div>\n",
       "<style scoped>\n",
       "    .dataframe tbody tr th:only-of-type {\n",
       "        vertical-align: middle;\n",
       "    }\n",
       "\n",
       "    .dataframe tbody tr th {\n",
       "        vertical-align: top;\n",
       "    }\n",
       "\n",
       "    .dataframe thead th {\n",
       "        text-align: right;\n",
       "    }\n",
       "</style>\n",
       "<table border=\"1\" class=\"dataframe\">\n",
       "  <thead>\n",
       "    <tr style=\"text-align: right;\">\n",
       "      <th></th>\n",
       "      <th>datetime</th>\n",
       "      <th>season</th>\n",
       "      <th>holiday</th>\n",
       "      <th>workingday</th>\n",
       "      <th>weather</th>\n",
       "      <th>temp</th>\n",
       "      <th>atemp</th>\n",
       "      <th>humidity</th>\n",
       "      <th>windspeed</th>\n",
       "      <th>count</th>\n",
       "      <th>weath_tmp_avg</th>\n",
       "      <th>weath_tmp_std</th>\n",
       "    </tr>\n",
       "  </thead>\n",
       "  <tbody>\n",
       "    <tr>\n",
       "      <th>0</th>\n",
       "      <td>2011-01-01 00:00:00</td>\n",
       "      <td>winter</td>\n",
       "      <td>0</td>\n",
       "      <td>0</td>\n",
       "      <td>clear</td>\n",
       "      <td>9.84</td>\n",
       "      <td>14.395</td>\n",
       "      <td>81</td>\n",
       "      <td>5.18</td>\n",
       "      <td>16</td>\n",
       "      <td>20.256703</td>\n",
       "      <td>8.339352</td>\n",
       "    </tr>\n",
       "    <tr>\n",
       "      <th>1</th>\n",
       "      <td>2011-01-01 01:00:00</td>\n",
       "      <td>NaN</td>\n",
       "      <td>0</td>\n",
       "      <td>0</td>\n",
       "      <td>clear</td>\n",
       "      <td>9.02</td>\n",
       "      <td>13.635</td>\n",
       "      <td>80</td>\n",
       "      <td>NaN</td>\n",
       "      <td>40</td>\n",
       "      <td>20.256703</td>\n",
       "      <td>8.339352</td>\n",
       "    </tr>\n",
       "    <tr>\n",
       "      <th>2</th>\n",
       "      <td>2011-01-01 02:00:00</td>\n",
       "      <td>NaN</td>\n",
       "      <td>0</td>\n",
       "      <td>0</td>\n",
       "      <td>clear</td>\n",
       "      <td>9.02</td>\n",
       "      <td>13.635</td>\n",
       "      <td>80</td>\n",
       "      <td>6.32</td>\n",
       "      <td>32</td>\n",
       "      <td>20.256703</td>\n",
       "      <td>8.339352</td>\n",
       "    </tr>\n",
       "    <tr>\n",
       "      <th>3</th>\n",
       "      <td>2011-01-01 03:00:00</td>\n",
       "      <td>winter</td>\n",
       "      <td>0</td>\n",
       "      <td>0</td>\n",
       "      <td>clear</td>\n",
       "      <td>9.84</td>\n",
       "      <td>14.395</td>\n",
       "      <td>75</td>\n",
       "      <td>NaN</td>\n",
       "      <td>13</td>\n",
       "      <td>20.256703</td>\n",
       "      <td>8.339352</td>\n",
       "    </tr>\n",
       "    <tr>\n",
       "      <th>4</th>\n",
       "      <td>2011-01-01 04:00:00</td>\n",
       "      <td>winter</td>\n",
       "      <td>0</td>\n",
       "      <td>0</td>\n",
       "      <td>clear</td>\n",
       "      <td>9.84</td>\n",
       "      <td>14.395</td>\n",
       "      <td>75</td>\n",
       "      <td>NaN</td>\n",
       "      <td>1</td>\n",
       "      <td>20.256703</td>\n",
       "      <td>8.339352</td>\n",
       "    </tr>\n",
       "  </tbody>\n",
       "</table>\n",
       "</div>"
      ],
      "text/plain": [
       "              datetime  season  holiday  workingday weather  temp   atemp  \\\n",
       "0  2011-01-01 00:00:00  winter        0           0   clear  9.84  14.395   \n",
       "1  2011-01-01 01:00:00     NaN        0           0   clear  9.02  13.635   \n",
       "2  2011-01-01 02:00:00     NaN        0           0   clear  9.02  13.635   \n",
       "3  2011-01-01 03:00:00  winter        0           0   clear  9.84  14.395   \n",
       "4  2011-01-01 04:00:00  winter        0           0   clear  9.84  14.395   \n",
       "\n",
       "   humidity  windspeed  count  weath_tmp_avg  weath_tmp_std  \n",
       "0        81       5.18     16      20.256703       8.339352  \n",
       "1        80        NaN     40      20.256703       8.339352  \n",
       "2        80       6.32     32      20.256703       8.339352  \n",
       "3        75        NaN     13      20.256703       8.339352  \n",
       "4        75        NaN      1      20.256703       8.339352  "
      ]
     },
     "execution_count": 19,
     "metadata": {},
     "output_type": "execute_result"
    }
   ],
   "source": [
    "\n",
    "mean = gp.mean()\n",
    "std  = gp.std()\n",
    "data['weath_tmp_avg'] = data['weather'].map(mean)\n",
    "data['weath_tmp_std'] = data['weather'].map(std)\n",
    "data.head()"
   ]
  },
  {
   "cell_type": "markdown",
   "metadata": {
    "slideshow": {
     "slide_type": "subslide"
    }
   },
   "source": [
    "** Features Polynomiaux **"
   ]
  },
  {
   "cell_type": "markdown",
   "metadata": {},
   "source": [
    "Les features polynomiaux sont simplement des interactions, selon le binôme de Newton, des variables du jeux de données :\n",
    "\n",
    "A l'ordre 2 :\n",
    "    [a,b] - > [1,a,b,ab,a²,b²]\n",
    "    \n",
    "C'est utile si on ne sait pas trop où chercher et si les données sont anonymisées.\n",
    "Deux inconvénients majeurs si le degré est grand: \n",
    "- Le nombre de features explose\n",
    "- Les observations créées peuvent ne pas tenir en mémoire.\n"
   ]
  },
  {
   "cell_type": "code",
   "execution_count": 20,
   "metadata": {
    "slideshow": {
     "slide_type": "subslide"
    }
   },
   "outputs": [
    {
     "data": {
      "text/plain": [
       "array([[1., 2., 3., 4., 6., 9.]])"
      ]
     },
     "execution_count": 20,
     "metadata": {},
     "output_type": "execute_result"
    }
   ],
   "source": [
    "from sklearn.preprocessing import PolynomialFeatures\n",
    "poly = PolynomialFeatures(2)\n",
    "poly.fit_transform([[2,3]])"
   ]
  },
  {
   "cell_type": "markdown",
   "metadata": {
    "slideshow": {
     "slide_type": "subslide"
    }
   },
   "source": [
    "**Lags**\n",
    "\n",
    "Cela revient à construire une variable comme étant la target au temps n-1 (ou autre).\n",
    "Très efficace avec les modèles classiques de séries temporelle, ainsi qu'avec les LSTM, GRU et NeuralNet Autoregressif.\n",
    "\n"
   ]
  },
  {
   "cell_type": "code",
   "execution_count": 21,
   "metadata": {
    "scrolled": true,
    "slideshow": {
     "slide_type": "subslide"
    }
   },
   "outputs": [
    {
     "data": {
      "text/html": [
       "<div>\n",
       "<style scoped>\n",
       "    .dataframe tbody tr th:only-of-type {\n",
       "        vertical-align: middle;\n",
       "    }\n",
       "\n",
       "    .dataframe tbody tr th {\n",
       "        vertical-align: top;\n",
       "    }\n",
       "\n",
       "    .dataframe thead th {\n",
       "        text-align: right;\n",
       "    }\n",
       "</style>\n",
       "<table border=\"1\" class=\"dataframe\">\n",
       "  <thead>\n",
       "    <tr style=\"text-align: right;\">\n",
       "      <th></th>\n",
       "      <th>datetime</th>\n",
       "      <th>season</th>\n",
       "      <th>holiday</th>\n",
       "      <th>workingday</th>\n",
       "      <th>weather</th>\n",
       "      <th>temp</th>\n",
       "      <th>atemp</th>\n",
       "      <th>humidity</th>\n",
       "      <th>windspeed</th>\n",
       "      <th>count</th>\n",
       "      <th>weath_tmp_avg</th>\n",
       "      <th>weath_tmp_std</th>\n",
       "      <th>lag1</th>\n",
       "    </tr>\n",
       "  </thead>\n",
       "  <tbody>\n",
       "    <tr>\n",
       "      <th>0</th>\n",
       "      <td>2011-01-01 00:00:00</td>\n",
       "      <td>winter</td>\n",
       "      <td>0</td>\n",
       "      <td>0</td>\n",
       "      <td>clear</td>\n",
       "      <td>9.84</td>\n",
       "      <td>14.395</td>\n",
       "      <td>81</td>\n",
       "      <td>5.18</td>\n",
       "      <td>16</td>\n",
       "      <td>20.256703</td>\n",
       "      <td>8.339352</td>\n",
       "      <td>NaN</td>\n",
       "    </tr>\n",
       "    <tr>\n",
       "      <th>1</th>\n",
       "      <td>2011-01-01 01:00:00</td>\n",
       "      <td>NaN</td>\n",
       "      <td>0</td>\n",
       "      <td>0</td>\n",
       "      <td>clear</td>\n",
       "      <td>9.02</td>\n",
       "      <td>13.635</td>\n",
       "      <td>80</td>\n",
       "      <td>NaN</td>\n",
       "      <td>40</td>\n",
       "      <td>20.256703</td>\n",
       "      <td>8.339352</td>\n",
       "      <td>16.0</td>\n",
       "    </tr>\n",
       "    <tr>\n",
       "      <th>2</th>\n",
       "      <td>2011-01-01 02:00:00</td>\n",
       "      <td>NaN</td>\n",
       "      <td>0</td>\n",
       "      <td>0</td>\n",
       "      <td>clear</td>\n",
       "      <td>9.02</td>\n",
       "      <td>13.635</td>\n",
       "      <td>80</td>\n",
       "      <td>6.32</td>\n",
       "      <td>32</td>\n",
       "      <td>20.256703</td>\n",
       "      <td>8.339352</td>\n",
       "      <td>40.0</td>\n",
       "    </tr>\n",
       "    <tr>\n",
       "      <th>3</th>\n",
       "      <td>2011-01-01 03:00:00</td>\n",
       "      <td>winter</td>\n",
       "      <td>0</td>\n",
       "      <td>0</td>\n",
       "      <td>clear</td>\n",
       "      <td>9.84</td>\n",
       "      <td>14.395</td>\n",
       "      <td>75</td>\n",
       "      <td>NaN</td>\n",
       "      <td>13</td>\n",
       "      <td>20.256703</td>\n",
       "      <td>8.339352</td>\n",
       "      <td>32.0</td>\n",
       "    </tr>\n",
       "    <tr>\n",
       "      <th>4</th>\n",
       "      <td>2011-01-01 04:00:00</td>\n",
       "      <td>winter</td>\n",
       "      <td>0</td>\n",
       "      <td>0</td>\n",
       "      <td>clear</td>\n",
       "      <td>9.84</td>\n",
       "      <td>14.395</td>\n",
       "      <td>75</td>\n",
       "      <td>NaN</td>\n",
       "      <td>1</td>\n",
       "      <td>20.256703</td>\n",
       "      <td>8.339352</td>\n",
       "      <td>13.0</td>\n",
       "    </tr>\n",
       "  </tbody>\n",
       "</table>\n",
       "</div>"
      ],
      "text/plain": [
       "              datetime  season  holiday  workingday weather  temp   atemp  \\\n",
       "0  2011-01-01 00:00:00  winter        0           0   clear  9.84  14.395   \n",
       "1  2011-01-01 01:00:00     NaN        0           0   clear  9.02  13.635   \n",
       "2  2011-01-01 02:00:00     NaN        0           0   clear  9.02  13.635   \n",
       "3  2011-01-01 03:00:00  winter        0           0   clear  9.84  14.395   \n",
       "4  2011-01-01 04:00:00  winter        0           0   clear  9.84  14.395   \n",
       "\n",
       "   humidity  windspeed  count  weath_tmp_avg  weath_tmp_std  lag1  \n",
       "0        81       5.18     16      20.256703       8.339352   NaN  \n",
       "1        80        NaN     40      20.256703       8.339352  16.0  \n",
       "2        80       6.32     32      20.256703       8.339352  40.0  \n",
       "3        75        NaN     13      20.256703       8.339352  32.0  \n",
       "4        75        NaN      1      20.256703       8.339352  13.0  "
      ]
     },
     "execution_count": 21,
     "metadata": {},
     "output_type": "execute_result"
    }
   ],
   "source": [
    "data['lag1'] = data['count'].shift(1)\n",
    "data.head()"
   ]
  },
  {
   "cell_type": "code",
   "execution_count": 22,
   "metadata": {
    "scrolled": true,
    "slideshow": {
     "slide_type": "subslide"
    }
   },
   "outputs": [
    {
     "data": {
      "text/html": [
       "<div>\n",
       "<style scoped>\n",
       "    .dataframe tbody tr th:only-of-type {\n",
       "        vertical-align: middle;\n",
       "    }\n",
       "\n",
       "    .dataframe tbody tr th {\n",
       "        vertical-align: top;\n",
       "    }\n",
       "\n",
       "    .dataframe thead th {\n",
       "        text-align: right;\n",
       "    }\n",
       "</style>\n",
       "<table border=\"1\" class=\"dataframe\">\n",
       "  <thead>\n",
       "    <tr style=\"text-align: right;\">\n",
       "      <th></th>\n",
       "      <th>datetime</th>\n",
       "      <th>season</th>\n",
       "      <th>holiday</th>\n",
       "      <th>workingday</th>\n",
       "      <th>weather</th>\n",
       "      <th>temp</th>\n",
       "      <th>atemp</th>\n",
       "      <th>humidity</th>\n",
       "      <th>windspeed</th>\n",
       "      <th>count</th>\n",
       "      <th>weath_tmp_avg</th>\n",
       "      <th>weath_tmp_std</th>\n",
       "      <th>lag1</th>\n",
       "      <th>lag2</th>\n",
       "    </tr>\n",
       "  </thead>\n",
       "  <tbody>\n",
       "    <tr>\n",
       "      <th>0</th>\n",
       "      <td>2011-01-01 00:00:00</td>\n",
       "      <td>winter</td>\n",
       "      <td>0</td>\n",
       "      <td>0</td>\n",
       "      <td>clear</td>\n",
       "      <td>9.84</td>\n",
       "      <td>14.395</td>\n",
       "      <td>81</td>\n",
       "      <td>5.18</td>\n",
       "      <td>16</td>\n",
       "      <td>20.256703</td>\n",
       "      <td>8.339352</td>\n",
       "      <td>NaN</td>\n",
       "      <td>NaN</td>\n",
       "    </tr>\n",
       "    <tr>\n",
       "      <th>1</th>\n",
       "      <td>2011-01-01 01:00:00</td>\n",
       "      <td>NaN</td>\n",
       "      <td>0</td>\n",
       "      <td>0</td>\n",
       "      <td>clear</td>\n",
       "      <td>9.02</td>\n",
       "      <td>13.635</td>\n",
       "      <td>80</td>\n",
       "      <td>NaN</td>\n",
       "      <td>40</td>\n",
       "      <td>20.256703</td>\n",
       "      <td>8.339352</td>\n",
       "      <td>16.0</td>\n",
       "      <td>NaN</td>\n",
       "    </tr>\n",
       "    <tr>\n",
       "      <th>2</th>\n",
       "      <td>2011-01-01 02:00:00</td>\n",
       "      <td>NaN</td>\n",
       "      <td>0</td>\n",
       "      <td>0</td>\n",
       "      <td>clear</td>\n",
       "      <td>9.02</td>\n",
       "      <td>13.635</td>\n",
       "      <td>80</td>\n",
       "      <td>6.32</td>\n",
       "      <td>32</td>\n",
       "      <td>20.256703</td>\n",
       "      <td>8.339352</td>\n",
       "      <td>40.0</td>\n",
       "      <td>16.0</td>\n",
       "    </tr>\n",
       "    <tr>\n",
       "      <th>3</th>\n",
       "      <td>2011-01-01 03:00:00</td>\n",
       "      <td>winter</td>\n",
       "      <td>0</td>\n",
       "      <td>0</td>\n",
       "      <td>clear</td>\n",
       "      <td>9.84</td>\n",
       "      <td>14.395</td>\n",
       "      <td>75</td>\n",
       "      <td>NaN</td>\n",
       "      <td>13</td>\n",
       "      <td>20.256703</td>\n",
       "      <td>8.339352</td>\n",
       "      <td>32.0</td>\n",
       "      <td>40.0</td>\n",
       "    </tr>\n",
       "    <tr>\n",
       "      <th>4</th>\n",
       "      <td>2011-01-01 04:00:00</td>\n",
       "      <td>winter</td>\n",
       "      <td>0</td>\n",
       "      <td>0</td>\n",
       "      <td>clear</td>\n",
       "      <td>9.84</td>\n",
       "      <td>14.395</td>\n",
       "      <td>75</td>\n",
       "      <td>NaN</td>\n",
       "      <td>1</td>\n",
       "      <td>20.256703</td>\n",
       "      <td>8.339352</td>\n",
       "      <td>13.0</td>\n",
       "      <td>32.0</td>\n",
       "    </tr>\n",
       "  </tbody>\n",
       "</table>\n",
       "</div>"
      ],
      "text/plain": [
       "              datetime  season  holiday  workingday weather  temp   atemp  \\\n",
       "0  2011-01-01 00:00:00  winter        0           0   clear  9.84  14.395   \n",
       "1  2011-01-01 01:00:00     NaN        0           0   clear  9.02  13.635   \n",
       "2  2011-01-01 02:00:00     NaN        0           0   clear  9.02  13.635   \n",
       "3  2011-01-01 03:00:00  winter        0           0   clear  9.84  14.395   \n",
       "4  2011-01-01 04:00:00  winter        0           0   clear  9.84  14.395   \n",
       "\n",
       "   humidity  windspeed  count  weath_tmp_avg  weath_tmp_std  lag1  lag2  \n",
       "0        81       5.18     16      20.256703       8.339352   NaN   NaN  \n",
       "1        80        NaN     40      20.256703       8.339352  16.0   NaN  \n",
       "2        80       6.32     32      20.256703       8.339352  40.0  16.0  \n",
       "3        75        NaN     13      20.256703       8.339352  32.0  40.0  \n",
       "4        75        NaN      1      20.256703       8.339352  13.0  32.0  "
      ]
     },
     "execution_count": 22,
     "metadata": {},
     "output_type": "execute_result"
    }
   ],
   "source": [
    "data['lag2'] = data['count'].shift(2)\n",
    "data.head()"
   ]
  },
  {
   "cell_type": "markdown",
   "metadata": {
    "slideshow": {
     "slide_type": "subslide"
    }
   },
   "source": [
    "** Non supervisé **\n",
    "\n",
    "On connait diverses méthodes d'apprentissage non-supervisé permettant, entre autres, de faire du clustering.\n",
    "Il peut être intéressant de construire une nouvelle variable issue d'une de ces méthodes.\n",
    "Par exemple, pour le jeu de données sur le prix des maisons, ne peut-on pas identifier des clusters de maison ?"
   ]
  },
  {
   "cell_type": "markdown",
   "metadata": {
    "slideshow": {
     "slide_type": "subslide"
    }
   },
   "source": [
    "Evidemment, il est difficile d'identifier le nombre de clusters simplement, on peut alors procéder de plusieurs méthodes :\n",
    "-  Chercher le k optimal grâce à de la validation croisée et une fonction silhouette\n",
    "-  Utiliser un algorithme type dbscan"
   ]
  },
  {
   "cell_type": "markdown",
   "metadata": {
    "slideshow": {
     "slide_type": "subslide"
    }
   },
   "source": [
    "Il est également possible d'utiliser des méthodes de hiérarchisation pour apporter à chaque observation un rang d'importance."
   ]
  },
  {
   "cell_type": "markdown",
   "metadata": {
    "slideshow": {
     "slide_type": "subslide"
    }
   },
   "source": [
    "** Target Encoding **\n",
    "\n",
    "Le target Encoding est une méthode qui consiste à construire une variable dépendant des targets observées dans le jeu d'apprentissage. On va par exemple, pour une catégorie, prend la moyenne de la variable cible.\n"
   ]
  },
  {
   "cell_type": "code",
   "execution_count": 24,
   "metadata": {
    "scrolled": true,
    "slideshow": {
     "slide_type": "subslide"
    }
   },
   "outputs": [
    {
     "name": "stdout",
     "output_type": "stream",
     "text": [
      "weather  season\n",
      "clear    autumn    160.932718\n",
      "         spring    236.756402\n",
      "         summer    212.477640\n",
      "         winter    127.229979\n",
      "mist     autumn    149.740741\n",
      "         spring    191.898625\n",
      "         summer    193.990654\n",
      "         winter    105.375817\n",
      "rain     winter    164.000000\n",
      "snow     autumn     95.366972\n",
      "         spring    124.055249\n",
      "         summer    138.864407\n",
      "         winter     61.194286\n",
      "Name: count, dtype: float64\n"
     ]
    }
   ],
   "source": [
    "gp = data.groupby(['weather','season'])['count']\n",
    "print (gp.mean())\n"
   ]
  },
  {
   "cell_type": "code",
   "execution_count": 25,
   "metadata": {
    "slideshow": {
     "slide_type": "subslide"
    }
   },
   "outputs": [
    {
     "data": {
      "text/html": [
       "<div>\n",
       "<style scoped>\n",
       "    .dataframe tbody tr th:only-of-type {\n",
       "        vertical-align: middle;\n",
       "    }\n",
       "\n",
       "    .dataframe tbody tr th {\n",
       "        vertical-align: top;\n",
       "    }\n",
       "\n",
       "    .dataframe thead th {\n",
       "        text-align: right;\n",
       "    }\n",
       "</style>\n",
       "<table border=\"1\" class=\"dataframe\">\n",
       "  <thead>\n",
       "    <tr style=\"text-align: right;\">\n",
       "      <th></th>\n",
       "      <th>datetime</th>\n",
       "      <th>season</th>\n",
       "      <th>holiday</th>\n",
       "      <th>workingday</th>\n",
       "      <th>weather</th>\n",
       "      <th>temp</th>\n",
       "      <th>atemp</th>\n",
       "      <th>humidity</th>\n",
       "      <th>windspeed</th>\n",
       "      <th>count</th>\n",
       "      <th>weath_tmp_avg</th>\n",
       "      <th>weath_tmp_std</th>\n",
       "      <th>lag1</th>\n",
       "      <th>lag2</th>\n",
       "      <th>weather_season_count</th>\n",
       "    </tr>\n",
       "  </thead>\n",
       "  <tbody>\n",
       "    <tr>\n",
       "      <th>0</th>\n",
       "      <td>2011-01-01 00:00:00</td>\n",
       "      <td>winter</td>\n",
       "      <td>0</td>\n",
       "      <td>0</td>\n",
       "      <td>clear</td>\n",
       "      <td>9.84</td>\n",
       "      <td>14.395</td>\n",
       "      <td>81</td>\n",
       "      <td>5.18</td>\n",
       "      <td>16</td>\n",
       "      <td>20.256703</td>\n",
       "      <td>8.339352</td>\n",
       "      <td>NaN</td>\n",
       "      <td>NaN</td>\n",
       "      <td>127.229979</td>\n",
       "    </tr>\n",
       "    <tr>\n",
       "      <th>1</th>\n",
       "      <td>2011-01-01 03:00:00</td>\n",
       "      <td>winter</td>\n",
       "      <td>0</td>\n",
       "      <td>0</td>\n",
       "      <td>clear</td>\n",
       "      <td>9.84</td>\n",
       "      <td>14.395</td>\n",
       "      <td>75</td>\n",
       "      <td>NaN</td>\n",
       "      <td>13</td>\n",
       "      <td>20.256703</td>\n",
       "      <td>8.339352</td>\n",
       "      <td>32.0</td>\n",
       "      <td>40.0</td>\n",
       "      <td>127.229979</td>\n",
       "    </tr>\n",
       "    <tr>\n",
       "      <th>2</th>\n",
       "      <td>2011-01-01 04:00:00</td>\n",
       "      <td>winter</td>\n",
       "      <td>0</td>\n",
       "      <td>0</td>\n",
       "      <td>clear</td>\n",
       "      <td>9.84</td>\n",
       "      <td>14.395</td>\n",
       "      <td>75</td>\n",
       "      <td>NaN</td>\n",
       "      <td>1</td>\n",
       "      <td>20.256703</td>\n",
       "      <td>8.339352</td>\n",
       "      <td>13.0</td>\n",
       "      <td>32.0</td>\n",
       "      <td>127.229979</td>\n",
       "    </tr>\n",
       "    <tr>\n",
       "      <th>3</th>\n",
       "      <td>2011-01-01 06:00:00</td>\n",
       "      <td>winter</td>\n",
       "      <td>0</td>\n",
       "      <td>0</td>\n",
       "      <td>clear</td>\n",
       "      <td>9.02</td>\n",
       "      <td>13.635</td>\n",
       "      <td>80</td>\n",
       "      <td>NaN</td>\n",
       "      <td>2</td>\n",
       "      <td>20.256703</td>\n",
       "      <td>8.339352</td>\n",
       "      <td>1.0</td>\n",
       "      <td>1.0</td>\n",
       "      <td>127.229979</td>\n",
       "    </tr>\n",
       "    <tr>\n",
       "      <th>4</th>\n",
       "      <td>2011-01-01 07:00:00</td>\n",
       "      <td>winter</td>\n",
       "      <td>0</td>\n",
       "      <td>0</td>\n",
       "      <td>clear</td>\n",
       "      <td>8.20</td>\n",
       "      <td>12.880</td>\n",
       "      <td>86</td>\n",
       "      <td>NaN</td>\n",
       "      <td>3</td>\n",
       "      <td>20.256703</td>\n",
       "      <td>8.339352</td>\n",
       "      <td>2.0</td>\n",
       "      <td>1.0</td>\n",
       "      <td>127.229979</td>\n",
       "    </tr>\n",
       "  </tbody>\n",
       "</table>\n",
       "</div>"
      ],
      "text/plain": [
       "              datetime  season  holiday  workingday weather  temp   atemp  \\\n",
       "0  2011-01-01 00:00:00  winter        0           0   clear  9.84  14.395   \n",
       "1  2011-01-01 03:00:00  winter        0           0   clear  9.84  14.395   \n",
       "2  2011-01-01 04:00:00  winter        0           0   clear  9.84  14.395   \n",
       "3  2011-01-01 06:00:00  winter        0           0   clear  9.02  13.635   \n",
       "4  2011-01-01 07:00:00  winter        0           0   clear  8.20  12.880   \n",
       "\n",
       "   humidity  windspeed  count  weath_tmp_avg  weath_tmp_std  lag1  lag2  \\\n",
       "0        81       5.18     16      20.256703       8.339352   NaN   NaN   \n",
       "1        75        NaN     13      20.256703       8.339352  32.0  40.0   \n",
       "2        75        NaN      1      20.256703       8.339352  13.0  32.0   \n",
       "3        80        NaN      2      20.256703       8.339352   1.0   1.0   \n",
       "4        86        NaN      3      20.256703       8.339352   2.0   1.0   \n",
       "\n",
       "   weather_season_count  \n",
       "0            127.229979  \n",
       "1            127.229979  \n",
       "2            127.229979  \n",
       "3            127.229979  \n",
       "4            127.229979  "
      ]
     },
     "execution_count": 25,
     "metadata": {},
     "output_type": "execute_result"
    }
   ],
   "source": [
    "\n",
    "mean = gp.mean()\n",
    "means = mean.reset_index(level=['weather','season']).rename(columns={'count':'weather_season_count'})\n",
    "data = pd.merge(data,means, on = ['weather','season'])\n",
    "data.head()"
   ]
  },
  {
   "cell_type": "markdown",
   "metadata": {
    "slideshow": {
     "slide_type": "subslide"
    }
   },
   "source": [
    "Dans le cas du target encoding, ou de la création de valeurs par statistiques, il est plus propre de remplacer la colonne sur laquelle on a effectué le groupby par celle crée par les valeurs moyennées pour éviter une redondance d'informations."
   ]
  },
  {
   "cell_type": "markdown",
   "metadata": {
    "slideshow": {
     "slide_type": "subslide"
    }
   },
   "source": [
    "Et surtout, on réfléchit !!"
   ]
  },
  {
   "cell_type": "markdown",
   "metadata": {
    "slideshow": {
     "slide_type": "slide"
    }
   },
   "source": [
    "## IV - Réduction de dimension"
   ]
  },
  {
   "cell_type": "markdown",
   "metadata": {
    "slideshow": {
     "slide_type": "subslide"
    }
   },
   "source": [
    "Vous verrez plusieurs méthodes d'apprentissage non-supervisé pour permettre des réductions de dimensions, c'est-à-dire passer d'un espace très grand de variables décorrélées à un espace plus petit de variables corrélées. \n",
    "Vous trouverez les méthodes suivantes :\n",
    "- Principal Component Analysis (PCA)\n",
    "- Non-negative Matrix Factorization (NMF)\n",
    "- Kernel-PCA\n",
    "- Fast Independant Component Analysis (Fast ICA)\n",
    "- AutoEncoder\n",
    "- t-distribued stochastic neighbor embedding (t-SNE)\n",
    "\n",
    "Ces méthodes permettent de réduire grandement le nombre de variable, ce qui est en cas de fléau de la dimension peut s'avérer très efficace (voir le kaggle [Mercedes](https://www.kaggle.com/c/mercedes-benz-greener-manufacturing)."
   ]
  },
  {
   "cell_type": "markdown",
   "metadata": {
    "slideshow": {
     "slide_type": "slide"
    }
   },
   "source": [
    "## V - Resampling & Synthetic sampling"
   ]
  },
  {
   "cell_type": "markdown",
   "metadata": {
    "slideshow": {
     "slide_type": "subslide"
    }
   },
   "source": [
    "Une problématique de l'apprentissage statistique concerne les jeux de données avec une variable cible déséquilibrée à classifier. \n",
    "C'est un problème car la plupart des algorithmes vont apprendre surtout à prédire la valeur qu'ils observent le plus et alors mal prédire la valeur peu représentée.\n",
    "Intuitivement, on dispose alors de deux techniques pour équilibré les données :\n",
    "- L'upsampling\n",
    "- Le downsampling\n",
    "\n",
    "Il existe évidemment une littérature très développée autour de ces techniques avec différents algorithmes, nous en verrons quelques exemples. En particulier, on pensera à changer sa fonction objectif pour mieux résoudre notre problème.\n",
    "\n",
    "_Un bon [kernel](https://www.kaggle.com/rafjaa/resampling-strategies-for-imbalanced-datasets) explicatif._"
   ]
  },
  {
   "cell_type": "markdown",
   "metadata": {
    "slideshow": {
     "slide_type": "subslide"
    }
   },
   "source": [
    "** Metric Trap **\n",
    "\n",
    "La métrique utilisée peut être totalement à l'ouest si la variable cible est déséquilibrée."
   ]
  },
  {
   "cell_type": "code",
   "execution_count": 15,
   "metadata": {},
   "outputs": [
    {
     "name": "stdout",
     "output_type": "stream",
     "text": [
      "Performance d'une regression logistique : 0.98\n",
      "Performance d'un vecteur nul : 0.98\n"
     ]
    }
   ],
   "source": [
    "from sklearn.linear_model import LogisticRegression\n",
    "from sklearn.metrics import accuracy_score\n",
    "from sklearn.datasets import make_classification\n",
    "\n",
    "X,y = make_classification(600, weights = [99/100., 1./100], random_state = 123)\n",
    "\n",
    "model = LogisticRegression()\n",
    "model.fit(X[:500],y[:500])\n",
    "\n",
    "print('Performance d\\'une regression logistique : {}'.format(accuracy_score(y[500:],model.predict(X[500:]))))\n",
    "print('Performance d\\'un vecteur nul : {}'.format(accuracy_score(y[500:],np.zeros((100,1)))))\n"
   ]
  },
  {
   "cell_type": "markdown",
   "metadata": {
    "slideshow": {
     "slide_type": "subslide"
    }
   },
   "source": [
    "Métrique invariante pour ce genre de problème : roc auc, F1, matrice de confusion ..."
   ]
  },
  {
   "cell_type": "markdown",
   "metadata": {
    "slideshow": {
     "slide_type": "subslide"
    }
   },
   "source": [
    "![exemple](resampling.png)"
   ]
  },
  {
   "cell_type": "markdown",
   "metadata": {
    "slideshow": {
     "slide_type": "subslide"
    }
   },
   "source": [
    "La technique à utiliser dépend généralement du nombre d'observations et des données."
   ]
  },
  {
   "cell_type": "markdown",
   "metadata": {
    "slideshow": {
     "slide_type": "subslide"
    }
   },
   "source": [
    "** Downsampling de la majorité **\n",
    "\n",
    "On peut tout simplement supprimer des observations trop redondantes pour parvenir à un équilibre dans nos données. Néanmoins, si le volume de données est trop important, il est également possible de choisir aléatoire des observations et de les retirer du jeu d'apprentissage."
   ]
  },
  {
   "cell_type": "markdown",
   "metadata": {
    "slideshow": {
     "slide_type": "subslide"
    }
   },
   "source": [
    "**Upsampling de la minorité**\n",
    "\n",
    "La méthode la plus naïve consiste à construire de nouvelle observation comme un échantillon d'un bootstrap effectué sur chaque variable des observations issues de la minorité. C'est très mauvais si il y a une corrélation entre les variables."
   ]
  },
  {
   "cell_type": "markdown",
   "metadata": {
    "slideshow": {
     "slide_type": "subslide"
    }
   },
   "source": [
    "Une bonne solution consiste alors à créér des observations synthétique, pour cela deux méthodes que je vous invite à lire :\n",
    "- sMOTE : Synthetic Minority Oversampling Technique (A partir d'une observation, on observe les k-plus proche voisin et on construit une nouvelle observation synthétique proche de la première)\n",
    "- ADAWYN : the Adatptive Synthetic sampling method\n"
   ]
  },
  {
   "cell_type": "markdown",
   "metadata": {
    "slideshow": {
     "slide_type": "subslide"
    }
   },
   "source": [
    "Une autre méthode existe plutôt que d'utiliser des techniques d'upsampling ou de downsampling revient à pondéré notre fonction objectif pour tenir compte des déséquilibres lorsque l'on utilise des algorithmes adaptés.\n"
   ]
  },
  {
   "cell_type": "markdown",
   "metadata": {
    "slideshow": {
     "slide_type": "slide"
    }
   },
   "source": [
    "# TP - Mise en pratique"
   ]
  },
  {
   "cell_type": "code",
   "execution_count": 16,
   "metadata": {
    "slideshow": {
     "slide_type": "subslide"
    }
   },
   "outputs": [],
   "source": [
    "import os\n",
    "import numpy as  np\n",
    "import pandas as pd\n",
    "import seaborn as sns\n",
    "import matplotlib.pyplot as plt\n",
    "plt.rcParams['figure.figsize'] = (10,10)"
   ]
  },
  {
   "cell_type": "markdown",
   "metadata": {
    "slideshow": {
     "slide_type": "subslide"
    }
   },
   "source": [
    "**0** - Question préliminaire : importer les données, quel type de problème est-ce ?"
   ]
  },
  {
   "cell_type": "code",
   "execution_count": 17,
   "metadata": {
    "slideshow": {
     "slide_type": "subslide"
    }
   },
   "outputs": [],
   "source": [
    "train = pd.read_csv('train.csv')\n",
    "test = pd.read_csv('test.csv')"
   ]
  },
  {
   "cell_type": "code",
   "execution_count": 18,
   "metadata": {
    "scrolled": true,
    "slideshow": {
     "slide_type": "subslide"
    }
   },
   "outputs": [
    {
     "data": {
      "text/html": [
       "<div>\n",
       "<style scoped>\n",
       "    .dataframe tbody tr th:only-of-type {\n",
       "        vertical-align: middle;\n",
       "    }\n",
       "\n",
       "    .dataframe tbody tr th {\n",
       "        vertical-align: top;\n",
       "    }\n",
       "\n",
       "    .dataframe thead th {\n",
       "        text-align: right;\n",
       "    }\n",
       "</style>\n",
       "<table border=\"1\" class=\"dataframe\">\n",
       "  <thead>\n",
       "    <tr style=\"text-align: right;\">\n",
       "      <th></th>\n",
       "      <th>Id</th>\n",
       "      <th>Feature1</th>\n",
       "      <th>Feature2</th>\n",
       "      <th>Feature3</th>\n",
       "      <th>Feature4</th>\n",
       "      <th>Length</th>\n",
       "      <th>YearConstruction</th>\n",
       "      <th>YearLastFailureObserved</th>\n",
       "      <th>target</th>\n",
       "    </tr>\n",
       "  </thead>\n",
       "  <tbody>\n",
       "    <tr>\n",
       "      <th>0</th>\n",
       "      <td>12525</td>\n",
       "      <td>T</td>\n",
       "      <td>IAB</td>\n",
       "      <td>-0.569066</td>\n",
       "      <td>C</td>\n",
       "      <td>3.1786</td>\n",
       "      <td>2005</td>\n",
       "      <td>NaN</td>\n",
       "      <td>0</td>\n",
       "    </tr>\n",
       "    <tr>\n",
       "      <th>1</th>\n",
       "      <td>16342</td>\n",
       "      <td>T</td>\n",
       "      <td>IAB</td>\n",
       "      <td>-0.569066</td>\n",
       "      <td>D</td>\n",
       "      <td>0.5171</td>\n",
       "      <td>2007</td>\n",
       "      <td>NaN</td>\n",
       "      <td>0</td>\n",
       "    </tr>\n",
       "    <tr>\n",
       "      <th>2</th>\n",
       "      <td>13014</td>\n",
       "      <td>P</td>\n",
       "      <td>U</td>\n",
       "      <td>-0.209841</td>\n",
       "      <td>D</td>\n",
       "      <td>136.2045</td>\n",
       "      <td>2006</td>\n",
       "      <td>NaN</td>\n",
       "      <td>0</td>\n",
       "    </tr>\n",
       "  </tbody>\n",
       "</table>\n",
       "</div>"
      ],
      "text/plain": [
       "      Id Feature1 Feature2  Feature3 Feature4    Length  YearConstruction  \\\n",
       "0  12525        T      IAB -0.569066        C    3.1786              2005   \n",
       "1  16342        T      IAB -0.569066        D    0.5171              2007   \n",
       "2  13014        P        U -0.209841        D  136.2045              2006   \n",
       "\n",
       "   YearLastFailureObserved  target  \n",
       "0                      NaN       0  \n",
       "1                      NaN       0  \n",
       "2                      NaN       0  "
      ]
     },
     "execution_count": 18,
     "metadata": {},
     "output_type": "execute_result"
    }
   ],
   "source": [
    "train.head(3)"
   ]
  },
  {
   "cell_type": "markdown",
   "metadata": {
    "slideshow": {
     "slide_type": "subslide"
    }
   },
   "source": [
    "**1** Exploratory Data Analysis"
   ]
  },
  {
   "cell_type": "markdown",
   "metadata": {
    "slideshow": {
     "slide_type": "subslide"
    }
   },
   "source": [
    "**1.1** - Observez les données, quel type de variables trouve-t-on ? Des valeurs manquantes ?"
   ]
  },
  {
   "cell_type": "code",
   "execution_count": 19,
   "metadata": {
    "slideshow": {
     "slide_type": "subslide"
    }
   },
   "outputs": [
    {
     "data": {
      "text/html": [
       "<div>\n",
       "<style scoped>\n",
       "    .dataframe tbody tr th:only-of-type {\n",
       "        vertical-align: middle;\n",
       "    }\n",
       "\n",
       "    .dataframe tbody tr th {\n",
       "        vertical-align: top;\n",
       "    }\n",
       "\n",
       "    .dataframe thead th {\n",
       "        text-align: right;\n",
       "    }\n",
       "</style>\n",
       "<table border=\"1\" class=\"dataframe\">\n",
       "  <thead>\n",
       "    <tr style=\"text-align: right;\">\n",
       "      <th></th>\n",
       "      <th>Id</th>\n",
       "      <th>Feature3</th>\n",
       "      <th>Length</th>\n",
       "      <th>YearConstruction</th>\n",
       "      <th>YearLastFailureObserved</th>\n",
       "      <th>target</th>\n",
       "    </tr>\n",
       "  </thead>\n",
       "  <tbody>\n",
       "    <tr>\n",
       "      <th>count</th>\n",
       "      <td>13016.000000</td>\n",
       "      <td>13016.000000</td>\n",
       "      <td>13016.000000</td>\n",
       "      <td>13016.000000</td>\n",
       "      <td>199.000000</td>\n",
       "      <td>13016.000000</td>\n",
       "    </tr>\n",
       "    <tr>\n",
       "      <th>mean</th>\n",
       "      <td>9697.277428</td>\n",
       "      <td>0.001509</td>\n",
       "      <td>27.437403</td>\n",
       "      <td>1993.146589</td>\n",
       "      <td>2007.180905</td>\n",
       "      <td>0.002766</td>\n",
       "    </tr>\n",
       "    <tr>\n",
       "      <th>std</th>\n",
       "      <td>5608.059273</td>\n",
       "      <td>1.006591</td>\n",
       "      <td>45.198012</td>\n",
       "      <td>12.972717</td>\n",
       "      <td>4.178763</td>\n",
       "      <td>0.052520</td>\n",
       "    </tr>\n",
       "    <tr>\n",
       "      <th>min</th>\n",
       "      <td>1.000000</td>\n",
       "      <td>-0.658872</td>\n",
       "      <td>0.030400</td>\n",
       "      <td>1900.000000</td>\n",
       "      <td>1999.000000</td>\n",
       "      <td>0.000000</td>\n",
       "    </tr>\n",
       "    <tr>\n",
       "      <th>25%</th>\n",
       "      <td>4816.250000</td>\n",
       "      <td>-0.434356</td>\n",
       "      <td>2.997800</td>\n",
       "      <td>1982.000000</td>\n",
       "      <td>2003.500000</td>\n",
       "      <td>0.000000</td>\n",
       "    </tr>\n",
       "    <tr>\n",
       "      <th>50%</th>\n",
       "      <td>9753.000000</td>\n",
       "      <td>-0.322098</td>\n",
       "      <td>11.492350</td>\n",
       "      <td>1996.000000</td>\n",
       "      <td>2007.000000</td>\n",
       "      <td>0.000000</td>\n",
       "    </tr>\n",
       "    <tr>\n",
       "      <th>75%</th>\n",
       "      <td>14536.250000</td>\n",
       "      <td>-0.060164</td>\n",
       "      <td>35.178200</td>\n",
       "      <td>2004.000000</td>\n",
       "      <td>2011.000000</td>\n",
       "      <td>0.000000</td>\n",
       "    </tr>\n",
       "    <tr>\n",
       "      <th>max</th>\n",
       "      <td>19427.000000</td>\n",
       "      <td>6.675303</td>\n",
       "      <td>778.547000</td>\n",
       "      <td>2013.000000</td>\n",
       "      <td>2013.000000</td>\n",
       "      <td>1.000000</td>\n",
       "    </tr>\n",
       "  </tbody>\n",
       "</table>\n",
       "</div>"
      ],
      "text/plain": [
       "                 Id      Feature3        Length  YearConstruction  \\\n",
       "count  13016.000000  13016.000000  13016.000000      13016.000000   \n",
       "mean    9697.277428      0.001509     27.437403       1993.146589   \n",
       "std     5608.059273      1.006591     45.198012         12.972717   \n",
       "min        1.000000     -0.658872      0.030400       1900.000000   \n",
       "25%     4816.250000     -0.434356      2.997800       1982.000000   \n",
       "50%     9753.000000     -0.322098     11.492350       1996.000000   \n",
       "75%    14536.250000     -0.060164     35.178200       2004.000000   \n",
       "max    19427.000000      6.675303    778.547000       2013.000000   \n",
       "\n",
       "       YearLastFailureObserved        target  \n",
       "count               199.000000  13016.000000  \n",
       "mean               2007.180905      0.002766  \n",
       "std                   4.178763      0.052520  \n",
       "min                1999.000000      0.000000  \n",
       "25%                2003.500000      0.000000  \n",
       "50%                2007.000000      0.000000  \n",
       "75%                2011.000000      0.000000  \n",
       "max                2013.000000      1.000000  "
      ]
     },
     "execution_count": 19,
     "metadata": {},
     "output_type": "execute_result"
    }
   ],
   "source": [
    "train.describe()"
   ]
  },
  {
   "cell_type": "code",
   "execution_count": 20,
   "metadata": {
    "scrolled": true,
    "slideshow": {
     "slide_type": "subslide"
    }
   },
   "outputs": [
    {
     "name": "stdout",
     "output_type": "stream",
     "text": [
      "<class 'pandas.core.frame.DataFrame'>\n",
      "RangeIndex: 13016 entries, 0 to 13015\n",
      "Data columns (total 9 columns):\n",
      "Id                         13016 non-null int64\n",
      "Feature1                   13016 non-null object\n",
      "Feature2                   13016 non-null object\n",
      "Feature3                   13016 non-null float64\n",
      "Feature4                   13016 non-null object\n",
      "Length                     13016 non-null float64\n",
      "YearConstruction           13016 non-null int64\n",
      "YearLastFailureObserved    199 non-null float64\n",
      "target                     13016 non-null int64\n",
      "dtypes: float64(3), int64(3), object(3)\n",
      "memory usage: 915.3+ KB\n"
     ]
    }
   ],
   "source": [
    "train.info()"
   ]
  },
  {
   "cell_type": "code",
   "execution_count": 21,
   "metadata": {
    "scrolled": true,
    "slideshow": {
     "slide_type": "subslide"
    }
   },
   "outputs": [
    {
     "name": "stdout",
     "output_type": "stream",
     "text": [
      "                         Total  Pourcentage\n",
      "YearLastFailureObserved  12817     0.984711 \n",
      "\n",
      "                         Total  Pourcentage\n",
      "YearLastFailureObserved   6320     0.985806 \n",
      "\n"
     ]
    }
   ],
   "source": [
    "def Missing_values(data):\n",
    "    total = data.isnull().sum().sort_values(ascending=False)\n",
    "    percent = (data.isnull().sum()/data.isnull().count()).sort_values(ascending=False)\n",
    "    missing_data = pd.concat([total,percent], axis=1, keys=['Total', 'Pourcentage'])\n",
    "    print( missing_data[(percent>0)],'\\n' )\n",
    "Missing_values(train)\n",
    "Missing_values(test)"
   ]
  },
  {
   "cell_type": "markdown",
   "metadata": {
    "slideshow": {
     "slide_type": "subslide"
    }
   },
   "source": [
    "**1.2** - Quels sont les variables catégorielles ? Combien trouve-t'on d'éléments unique par variable? \n"
   ]
  },
  {
   "cell_type": "code",
   "execution_count": 22,
   "metadata": {
    "slideshow": {
     "slide_type": "subslide"
    }
   },
   "outputs": [
    {
     "name": "stdout",
     "output_type": "stream",
     "text": [
      "T    7553\n",
      "P    5463\n",
      "Name: Feature1, dtype: int64 \n",
      "\n",
      "U      8474\n",
      "IAB    4296\n",
      "O       246\n",
      "Name: Feature2, dtype: int64 \n",
      "\n",
      "C     6419\n",
      "D     5695\n",
      "M      899\n",
      "Dr       3\n",
      "Name: Feature4, dtype: int64 \n",
      "\n"
     ]
    },
    {
     "data": {
      "text/plain": [
       "[None, None, None]"
      ]
     },
     "execution_count": 22,
     "metadata": {},
     "output_type": "execute_result"
    }
   ],
   "source": [
    "[print(train[c].value_counts(),'\\n') for c in train.select_dtypes(object).columns] \n",
    "# Trois variables catégorielles mais peut être plus ?"
   ]
  },
  {
   "cell_type": "code",
   "execution_count": 23,
   "metadata": {
    "scrolled": true,
    "slideshow": {
     "slide_type": "subslide"
    }
   },
   "outputs": [
    {
     "name": "stdout",
     "output_type": "stream",
     "text": [
      "Number of unique elements for column \u001b[1m Id \u001b[0m is \u001b[1m 13016\u001b[0m\n",
      "Number of unique elements for column \u001b[1m Feature1 \u001b[0m is \u001b[1m 2\u001b[0m\n",
      "Number of unique elements for column \u001b[1m Feature2 \u001b[0m is \u001b[1m 3\u001b[0m\n",
      "Number of unique elements for column \u001b[1m Feature3 \u001b[0m is \u001b[1m 21\u001b[0m\n",
      "Number of unique elements for column \u001b[1m Feature4 \u001b[0m is \u001b[1m 4\u001b[0m\n",
      "Number of unique elements for column \u001b[1m Length \u001b[0m is \u001b[1m 12271\u001b[0m\n",
      "Number of unique elements for column \u001b[1m YearConstruction \u001b[0m is \u001b[1m 56\u001b[0m\n",
      "Number of unique elements for column \u001b[1m YearLastFailureObserved \u001b[0m is \u001b[1m 16\u001b[0m\n",
      "Number of unique elements for column \u001b[1m target \u001b[0m is \u001b[1m 2\u001b[0m\n"
     ]
    }
   ],
   "source": [
    "for c in train.columns:\n",
    "    print('Number of unique elements for column \\033[1m {} \\033[0m is \\033[1m {}\\033[0m'.format(c,len(train[c].unique())))"
   ]
  },
  {
   "cell_type": "markdown",
   "metadata": {
    "slideshow": {
     "slide_type": "subslide"
    }
   },
   "source": [
    "Extrayez les variables catégorielle de type object dans une list nommée cat_object_features"
   ]
  },
  {
   "cell_type": "code",
   "execution_count": 24,
   "metadata": {
    "slideshow": {
     "slide_type": "subslide"
    }
   },
   "outputs": [],
   "source": [
    "cat_object_features = [c for c in train.select_dtypes(object).columns]"
   ]
  },
  {
   "cell_type": "markdown",
   "metadata": {
    "slideshow": {
     "slide_type": "subslide"
    }
   },
   "source": [
    "**1.3** - Visualisez les variables cibles, y-a t'il quelque chose qui vous semble problématique ?"
   ]
  },
  {
   "cell_type": "code",
   "execution_count": 25,
   "metadata": {
    "slideshow": {
     "slide_type": "subslide"
    }
   },
   "outputs": [
    {
     "name": "stdout",
     "output_type": "stream",
     "text": [
      "0    0.997234\n",
      "1    0.002766\n",
      "Name: target, dtype: float64\n"
     ]
    },
    {
     "data": {
      "image/png": "[encoded data removed]",
      "text/plain": [
       "<matplotlib.figure.Figure at 0x1c14aa4c88>"
      ]
     },
     "metadata": {},
     "output_type": "display_data"
    }
   ],
   "source": [
    "sns.countplot(train.target)\n",
    "print(train.target.value_counts(normalize=True))"
   ]
  },
  {
   "cell_type": "markdown",
   "metadata": {
    "slideshow": {
     "slide_type": "subslide"
    }
   },
   "source": [
    "Le jeu de donnée possède une variable cible qui est fortement déséquilibrée. Quel problème cela pose t'il et quel solution pourrait-on apporter pour pallier à ce problème ?"
   ]
  },
  {
   "cell_type": "markdown",
   "metadata": {
    "slideshow": {
     "slide_type": "subslide"
    }
   },
   "source": [
    "On va difficilement apprendre les cibles sous représentée, on peut avoir un effet de bord qui implique du surapprentissage sur la catégorie oversampled. Plusieurs solutions reposent sur le nombre d'observations à utiliser :\n",
    "\n",
    "\n",
    "- Downsampling de la catégorie trop representée \n",
    "- Upsampling de la catégorie sous representée\n",
    "- Construire des observations synthétiques"
   ]
  },
  {
   "cell_type": "markdown",
   "metadata": {
    "slideshow": {
     "slide_type": "subslide"
    }
   },
   "source": [
    "**1.4** - Effectuez un peu de visualisation, que pensez-vous des distributions associées aux variables ?\n"
   ]
  },
  {
   "cell_type": "code",
   "execution_count": 26,
   "metadata": {
    "scrolled": true,
    "slideshow": {
     "slide_type": "subslide"
    }
   },
   "outputs": [
    {
     "data": {
      "image/png": "[encoded data removed]",
      "text/plain": [
       "<matplotlib.figure.Figure at 0x1c13e4d048>"
      ]
     },
     "metadata": {},
     "output_type": "display_data"
    }
   ],
   "source": [
    "train.hist(figsize=(20, 20), bins=50, layout=(7, 6)); # Variables numériques "
   ]
  },
  {
   "cell_type": "code",
   "execution_count": 27,
   "metadata": {
    "slideshow": {
     "slide_type": "subslide"
    }
   },
   "outputs": [
    {
     "data": {
      "image/png": "[encoded data removed]",
      "text/plain": [
       "<matplotlib.figure.Figure at 0x1c157ce1d0>"
      ]
     },
     "metadata": {},
     "output_type": "display_data"
    },
    {
     "data": {
      "image/png": "[encoded data removed]",
      "text/plain": [
       "<matplotlib.figure.Figure at 0x1c12fd24e0>"
      ]
     },
     "metadata": {},
     "output_type": "display_data"
    },
    {
     "data": {
      "image/png": "[encoded data removed]",
      "text/plain": [
       "<matplotlib.figure.Figure at 0x1c158875c0>"
      ]
     },
     "metadata": {},
     "output_type": "display_data"
    }
   ],
   "source": [
    "for c in cat_object_features:\n",
    "    plt.figure()\n",
    "    sns.countplot(train[c])"
   ]
  },
  {
   "cell_type": "code",
   "execution_count": null,
   "metadata": {
    "scrolled": true
   },
   "outputs": [],
   "source": []
  },
  {
   "cell_type": "markdown",
   "metadata": {
    "slideshow": {
     "slide_type": "subslide"
    }
   },
   "source": [
    "**1.5** - Quelles variables semblent influées sur la variables cible ?"
   ]
  },
  {
   "cell_type": "code",
   "execution_count": 28,
   "metadata": {
    "slideshow": {
     "slide_type": "subslide"
    }
   },
   "outputs": [
    {
     "data": {
      "text/plain": [
       "<matplotlib.axes._subplots.AxesSubplot at 0x1c14fd3240>"
      ]
     },
     "execution_count": 28,
     "metadata": {},
     "output_type": "execute_result"
    },
    {
     "data": {
      "image/png": "[encoded data removed]",
      "text/plain": [
       "<matplotlib.figure.Figure at 0x1a12334438>"
      ]
     },
     "metadata": {},
     "output_type": "display_data"
    }
   ],
   "source": [
    "sns.heatmap(train.corr())"
   ]
  },
  {
   "cell_type": "markdown",
   "metadata": {
    "slideshow": {
     "slide_type": "subslide"
    }
   },
   "source": [
    "**2** Feature Engineering & Evaluation des performances"
   ]
  },
  {
   "cell_type": "markdown",
   "metadata": {
    "slideshow": {
     "slide_type": "subslide"
    }
   },
   "source": [
    "**2.1** - Compléter les valeurs manquantes"
   ]
  },
  {
   "cell_type": "code",
   "execution_count": 29,
   "metadata": {
    "slideshow": {
     "slide_type": "subslide"
    }
   },
   "outputs": [],
   "source": [
    "train['YearLastFailureObserved'] = train['YearLastFailureObserved'].fillna(0)\n",
    "test['YearLastFailureObserved'] = test['YearLastFailureObserved'].fillna(0)\n",
    "\n",
    "# Une valeur manquante dans cette variable implique qu'il n'y a jamais eu de rupture du pipeline. \n",
    "# Une manière cohérente de procéder est de remplir les valeurs manquante par une valeur bien distincte des autres."
   ]
  },
  {
   "cell_type": "markdown",
   "metadata": {
    "slideshow": {
     "slide_type": "subslide"
    }
   },
   "source": [
    "**2.2** - Effectuer une copie de vos jeux de données et transformer les variables catégorielles comme bon vous semble. Puis extrayez les variables cibles et supprimer la variable inutile."
   ]
  },
  {
   "cell_type": "code",
   "execution_count": 30,
   "metadata": {
    "slideshow": {
     "slide_type": "subslide"
    }
   },
   "outputs": [],
   "source": [
    "from sklearn.preprocessing import LabelEncoder"
   ]
  },
  {
   "cell_type": "code",
   "execution_count": 31,
   "metadata": {
    "slideshow": {
     "slide_type": "subslide"
    }
   },
   "outputs": [],
   "source": [
    "new_train = train.copy()\n",
    "new_test = test.copy()\n",
    "\n",
    "for c in cat_object_features :\n",
    "    encoder = LabelEncoder()\n",
    "    encoder.fit(list(new_train[c])+list(new_test[c]))\n",
    "    new_train[c] = encoder.transform(new_train[c])\n",
    "    new_test[c] = encoder.transform(new_test[c])\n",
    "    "
   ]
  },
  {
   "cell_type": "code",
   "execution_count": 32,
   "metadata": {
    "scrolled": true,
    "slideshow": {
     "slide_type": "subslide"
    }
   },
   "outputs": [],
   "source": [
    "y_train = new_train['target']\n",
    "y_test = new_test['target']\n",
    "\n",
    "new_train.drop(['target','Id'], axis = 1, inplace = True)\n",
    "new_test.drop(['target','Id'], axis = 1, inplace = True)"
   ]
  },
  {
   "cell_type": "code",
   "execution_count": 1,
   "metadata": {},
   "outputs": [],
   "source": [
    "from sklearn.metrics import roc_auc_score\n",
    "\n",
    "?roc_auc_score"
   ]
  },
  {
   "cell_type": "markdown",
   "metadata": {
    "slideshow": {
     "slide_type": "subslide"
    }
   },
   "source": [
    "**2.3** - La métrique d'évaluation du problème est l'erreur roc auc. Evaluez deux modèles (Régression Logistique et SVM, par exemple) sur le jeu où vous avez transformer les variables catégorielles."
   ]
  },
  {
   "cell_type": "code",
   "execution_count": 33,
   "metadata": {
    "slideshow": {
     "slide_type": "subslide"
    }
   },
   "outputs": [],
   "source": [
    "from sklearn.metrics import roc_auc_score\n",
    "from sklearn.linear_model import LogisticRegression\n",
    "from sklearn.svm import SVC"
   ]
  },
  {
   "cell_type": "code",
   "execution_count": 34,
   "metadata": {
    "scrolled": true,
    "slideshow": {
     "slide_type": "subslide"
    }
   },
   "outputs": [
    {
     "data": {
      "text/plain": [
       "SVC(C=1.0, cache_size=200, class_weight=None, coef0=0.0,\n",
       "  decision_function_shape='ovr', degree=3, gamma='auto_deprecated',\n",
       "  kernel='rbf', max_iter=-1, probability=True, random_state=None,\n",
       "  shrinking=True, tol=0.001, verbose=False)"
      ]
     },
     "execution_count": 34,
     "metadata": {},
     "output_type": "execute_result"
    }
   ],
   "source": [
    "model_logit = LogisticRegression()\n",
    "model_svm = SVC(probability=True)\n",
    "\n",
    "model_logit.fit(new_train,y_train)\n",
    "model_svm.fit(new_train,y_train)"
   ]
  },
  {
   "cell_type": "code",
   "execution_count": 35,
   "metadata": {
    "slideshow": {
     "slide_type": "subslide"
    }
   },
   "outputs": [
    {
     "name": "stdout",
     "output_type": "stream",
     "text": [
      "Erreur auc pour la régression logistique : 0.9086551730482622\n",
      "Erreur auc pour les svm : 0.657109606432501\n"
     ]
    }
   ],
   "source": [
    "print('Erreur auc pour la régression logistique : {}'.format(roc_auc_score(y_test,model_logit.predict_proba(new_test)[:,1])))\n",
    "print('Erreur auc pour les svm : {}'.format(roc_auc_score(y_test,model_svm.predict_proba(new_test)[:,1])))"
   ]
  },
  {
   "cell_type": "markdown",
   "metadata": {
    "slideshow": {
     "slide_type": "subslide"
    }
   },
   "source": [
    "**2.4** - Que pourrait on construire comme variables apportant de l'information et permettant d'expliquer mieux les variables cibles ?"
   ]
  },
  {
   "cell_type": "markdown",
   "metadata": {
    "slideshow": {
     "slide_type": "subslide"
    }
   },
   "source": [
    "**2.5** - Construisez en certaines ! Help : Concatenez les datasets comme un unique dataframe pour effectuer les transformations.\n"
   ]
  },
  {
   "cell_type": "code",
   "execution_count": 36,
   "metadata": {
    "slideshow": {
     "slide_type": "subslide"
    }
   },
   "outputs": [
    {
     "name": "stdout",
     "output_type": "stream",
     "text": [
      "(19427, 9)\n"
     ]
    }
   ],
   "source": [
    "df = pd.concat([train,test] , axis = 0)\n",
    "print (df.shape)"
   ]
  },
  {
   "cell_type": "code",
   "execution_count": 37,
   "metadata": {
    "slideshow": {
     "slide_type": "subslide"
    }
   },
   "outputs": [],
   "source": [
    "# Les données sont correlées un ratio peut être efficace\n",
    "df['ratio'] = df['Length'] / df['Feature3']"
   ]
  },
  {
   "cell_type": "code",
   "execution_count": 38,
   "metadata": {
    "slideshow": {
     "slide_type": "subslide"
    }
   },
   "outputs": [],
   "source": [
    "for c in cat_object_features:\n",
    "    gp = train.groupby(c)['Length']\n",
    "    mean = gp.mean()\n",
    "    std = gp.std()\n",
    "    df['{}_Length_avg'.format(c)] = df[c].map(mean)\n",
    "    df['{}_Length_std'.format(c)] = df[c].map(std)\n"
   ]
  },
  {
   "cell_type": "code",
   "execution_count": 39,
   "metadata": {
    "slideshow": {
     "slide_type": "subslide"
    }
   },
   "outputs": [],
   "source": [
    "for c in cat_object_features:\n",
    "    gp = train.groupby(c)['Feature3']\n",
    "    mean = gp.mean()\n",
    "    std = gp.std()\n",
    "    df['{}_Feature3_avg'.format(c)] = df[c].map(mean)\n",
    "    df['{}_Feature3_std'.format(c)] = df[c].map(std)\n"
   ]
  },
  {
   "cell_type": "code",
   "execution_count": 40,
   "metadata": {
    "slideshow": {
     "slide_type": "subslide"
    }
   },
   "outputs": [],
   "source": [
    "for c in cat_object_features:\n",
    "    gp = train.groupby(c)['target']\n",
    "\n",
    "    count_ = gp.count()\n",
    "    \n",
    "    df['{}_target_avg'.format(c)] = df[c].map(count_)\n"
   ]
  },
  {
   "cell_type": "markdown",
   "metadata": {
    "slideshow": {
     "slide_type": "subslide"
    }
   },
   "source": [
    "**2.6** - Optez pour une stratégie intelligente pour transformer les variables catégorielles. En oubliant pas de découper le jeu concaténé sur lequel vous avez construit les features."
   ]
  },
  {
   "cell_type": "code",
   "execution_count": 41,
   "metadata": {
    "slideshow": {
     "slide_type": "subslide"
    }
   },
   "outputs": [],
   "source": [
    "df = pd.get_dummies(df, columns = cat_object_features)\n",
    "new_train = df.iloc[:train.shape[0]] # train shape : nombre d'observation du train initial\n",
    "new_test = df.iloc[train.shape[0]:]"
   ]
  },
  {
   "cell_type": "code",
   "execution_count": 42,
   "metadata": {
    "scrolled": true,
    "slideshow": {
     "slide_type": "subslide"
    }
   },
   "outputs": [
    {
     "data": {
      "text/html": [
       "<div>\n",
       "<style scoped>\n",
       "    .dataframe tbody tr th:only-of-type {\n",
       "        vertical-align: middle;\n",
       "    }\n",
       "\n",
       "    .dataframe tbody tr th {\n",
       "        vertical-align: top;\n",
       "    }\n",
       "\n",
       "    .dataframe thead th {\n",
       "        text-align: right;\n",
       "    }\n",
       "</style>\n",
       "<table border=\"1\" class=\"dataframe\">\n",
       "  <thead>\n",
       "    <tr style=\"text-align: right;\">\n",
       "      <th></th>\n",
       "      <th>Id</th>\n",
       "      <th>Feature3</th>\n",
       "      <th>Length</th>\n",
       "      <th>YearConstruction</th>\n",
       "      <th>YearLastFailureObserved</th>\n",
       "      <th>target</th>\n",
       "      <th>ratio</th>\n",
       "      <th>Feature1_Length_avg</th>\n",
       "      <th>Feature1_Length_std</th>\n",
       "      <th>Feature2_Length_avg</th>\n",
       "      <th>...</th>\n",
       "      <th>Feature4_target_avg</th>\n",
       "      <th>Feature1_P</th>\n",
       "      <th>Feature1_T</th>\n",
       "      <th>Feature2_IAB</th>\n",
       "      <th>Feature2_O</th>\n",
       "      <th>Feature2_U</th>\n",
       "      <th>Feature4_C</th>\n",
       "      <th>Feature4_D</th>\n",
       "      <th>Feature4_Dr</th>\n",
       "      <th>Feature4_M</th>\n",
       "    </tr>\n",
       "  </thead>\n",
       "  <tbody>\n",
       "    <tr>\n",
       "      <th>0</th>\n",
       "      <td>12525</td>\n",
       "      <td>-0.569066</td>\n",
       "      <td>3.1786</td>\n",
       "      <td>2005</td>\n",
       "      <td>0.0</td>\n",
       "      <td>0</td>\n",
       "      <td>-5.585649</td>\n",
       "      <td>21.828392</td>\n",
       "      <td>44.488105</td>\n",
       "      <td>6.765323</td>\n",
       "      <td>...</td>\n",
       "      <td>6419</td>\n",
       "      <td>0</td>\n",
       "      <td>1</td>\n",
       "      <td>1</td>\n",
       "      <td>0</td>\n",
       "      <td>0</td>\n",
       "      <td>1</td>\n",
       "      <td>0</td>\n",
       "      <td>0</td>\n",
       "      <td>0</td>\n",
       "    </tr>\n",
       "    <tr>\n",
       "      <th>1</th>\n",
       "      <td>16342</td>\n",
       "      <td>-0.569066</td>\n",
       "      <td>0.5171</td>\n",
       "      <td>2007</td>\n",
       "      <td>0.0</td>\n",
       "      <td>0</td>\n",
       "      <td>-0.908683</td>\n",
       "      <td>21.828392</td>\n",
       "      <td>44.488105</td>\n",
       "      <td>6.765323</td>\n",
       "      <td>...</td>\n",
       "      <td>5695</td>\n",
       "      <td>0</td>\n",
       "      <td>1</td>\n",
       "      <td>1</td>\n",
       "      <td>0</td>\n",
       "      <td>0</td>\n",
       "      <td>0</td>\n",
       "      <td>1</td>\n",
       "      <td>0</td>\n",
       "      <td>0</td>\n",
       "    </tr>\n",
       "    <tr>\n",
       "      <th>2</th>\n",
       "      <td>13014</td>\n",
       "      <td>-0.209841</td>\n",
       "      <td>136.2045</td>\n",
       "      <td>2006</td>\n",
       "      <td>0.0</td>\n",
       "      <td>0</td>\n",
       "      <td>-649.085458</td>\n",
       "      <td>35.192275</td>\n",
       "      <td>45.029006</td>\n",
       "      <td>35.961553</td>\n",
       "      <td>...</td>\n",
       "      <td>5695</td>\n",
       "      <td>1</td>\n",
       "      <td>0</td>\n",
       "      <td>0</td>\n",
       "      <td>0</td>\n",
       "      <td>1</td>\n",
       "      <td>0</td>\n",
       "      <td>1</td>\n",
       "      <td>0</td>\n",
       "      <td>0</td>\n",
       "    </tr>\n",
       "  </tbody>\n",
       "</table>\n",
       "<p>3 rows × 31 columns</p>\n",
       "</div>"
      ],
      "text/plain": [
       "      Id  Feature3    Length  YearConstruction  YearLastFailureObserved  \\\n",
       "0  12525 -0.569066    3.1786              2005                      0.0   \n",
       "1  16342 -0.569066    0.5171              2007                      0.0   \n",
       "2  13014 -0.209841  136.2045              2006                      0.0   \n",
       "\n",
       "   target       ratio  Feature1_Length_avg  Feature1_Length_std  \\\n",
       "0       0   -5.585649            21.828392            44.488105   \n",
       "1       0   -0.908683            21.828392            44.488105   \n",
       "2       0 -649.085458            35.192275            45.029006   \n",
       "\n",
       "   Feature2_Length_avg     ...      Feature4_target_avg  Feature1_P  \\\n",
       "0             6.765323     ...                     6419           0   \n",
       "1             6.765323     ...                     5695           0   \n",
       "2            35.961553     ...                     5695           1   \n",
       "\n",
       "   Feature1_T  Feature2_IAB  Feature2_O  Feature2_U  Feature4_C  Feature4_D  \\\n",
       "0           1             1           0           0           1           0   \n",
       "1           1             1           0           0           0           1   \n",
       "2           0             0           0           1           0           1   \n",
       "\n",
       "   Feature4_Dr  Feature4_M  \n",
       "0            0           0  \n",
       "1            0           0  \n",
       "2            0           0  \n",
       "\n",
       "[3 rows x 31 columns]"
      ]
     },
     "execution_count": 42,
     "metadata": {},
     "output_type": "execute_result"
    }
   ],
   "source": [
    "new_train.head(3)"
   ]
  },
  {
   "cell_type": "markdown",
   "metadata": {
    "slideshow": {
     "slide_type": "subslide"
    }
   },
   "source": [
    "**2.7** - Observez de nouveau les corrélations. Que constatez vous ?"
   ]
  },
  {
   "cell_type": "code",
   "execution_count": 43,
   "metadata": {
    "slideshow": {
     "slide_type": "subslide"
    }
   },
   "outputs": [
    {
     "data": {
      "image/png": "[encoded data removed]",
      "text/plain": [
       "<matplotlib.figure.Figure at 0x1c14a87ac8>"
      ]
     },
     "metadata": {},
     "output_type": "display_data"
    }
   ],
   "source": [
    "sns.heatmap(new_train.corr());"
   ]
  },
  {
   "cell_type": "markdown",
   "metadata": {
    "slideshow": {
     "slide_type": "subslide"
    }
   },
   "source": [
    "**2.8** - Evaluez vos deux modèles sur ces nouvelles données - en oubliant pas de supprimer les targets et ID, qu'observez-vous ?\n",
    "\n"
   ]
  },
  {
   "cell_type": "code",
   "execution_count": 44,
   "metadata": {
    "scrolled": true,
    "slideshow": {
     "slide_type": "subslide"
    }
   },
   "outputs": [],
   "source": [
    "y_train = new_train['target']\n",
    "y_test = new_test['target']\n",
    "\n",
    "new_train.drop(['target','Id'], axis = 1, inplace = True)\n",
    "new_test.drop(['target','Id'], axis = 1, inplace = True)\n"
   ]
  },
  {
   "cell_type": "code",
   "execution_count": 45,
   "metadata": {
    "slideshow": {
     "slide_type": "subslide"
    }
   },
   "outputs": [
    {
     "data": {
      "text/plain": [
       "SVC(C=1.0, cache_size=200, class_weight=None, coef0=0.0,\n",
       "  decision_function_shape='ovr', degree=3, gamma=1, kernel='rbf',\n",
       "  max_iter=-1, probability=True, random_state=None, shrinking=True,\n",
       "  tol=0.001, verbose=False)"
      ]
     },
     "execution_count": 45,
     "metadata": {},
     "output_type": "execute_result"
    }
   ],
   "source": [
    "model_logit = LogisticRegression()\n",
    "model_svm = SVC(gamma = 1, probability=True)\n",
    "\n",
    "model_logit.fit(new_train,y_train)\n",
    "model_svm.fit(new_train,y_train)"
   ]
  },
  {
   "cell_type": "code",
   "execution_count": 46,
   "metadata": {
    "slideshow": {
     "slide_type": "subslide"
    }
   },
   "outputs": [
    {
     "name": "stdout",
     "output_type": "stream",
     "text": [
      "Erreur auc pour la régression logistique : 0.915481425601207\n",
      "Erreur auc pour les svm : 0.7811091280428343\n"
     ]
    }
   ],
   "source": [
    "print('Erreur auc pour la régression logistique : {}'.format(roc_auc_score(y_test,model_logit.predict_proba(new_test)[:,1])))\n",
    "print('Erreur auc pour les svm : {}'.format(roc_auc_score(y_test,model_svm.predict_proba(new_test)[:,1])))"
   ]
  },
  {
   "cell_type": "markdown",
   "metadata": {
    "slideshow": {
     "slide_type": "subslide"
    }
   },
   "source": [
    "__Conclusion__ : Que pensez-vous du nombre de variables ? Quelles sont les pistes envisageables pour améliorer les performances  et réduire le nombre de variables ?\n",
    "\n"
   ]
  }
 ],
 "metadata": {
  "celltoolbar": "Diaporama",
  "kernelspec": {
   "display_name": "Python 3 (ipykernel)",
   "language": "python",
   "name": "python3"
  },
  "language_info": {
   "codemirror_mode": {
    "name": "ipython",
    "version": 3
   },
   "file_extension": ".py",
   "mimetype": "text/x-python",
   "name": "python",
   "nbconvert_exporter": "python",
   "pygments_lexer": "ipython3",
   "version": "3.10.12"
  }
 },
 "nbformat": 4,
 "nbformat_minor": 4
}
