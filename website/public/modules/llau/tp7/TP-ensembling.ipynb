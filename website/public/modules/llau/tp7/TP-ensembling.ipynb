{
 "cells": [
  {
   "cell_type": "markdown",
   "metadata": {
    "slideshow": {
     "slide_type": "slide"
    }
   },
   "source": [
    "# TP 7 - Méthodes d'ensembles "
   ]
  },
  {
   "cell_type": "markdown",
   "metadata": {
    "slideshow": {
     "slide_type": "slide"
    }
   },
   "source": [
    "Les données sont celles des derniers cours (prix des maisons) et sont disponible sur mon site ou sur kaggle, en cas de besoin."
   ]
  },
  {
   "cell_type": "code",
   "execution_count": 1,
   "metadata": {
    "slideshow": {
     "slide_type": "subslide"
    }
   },
   "outputs": [],
   "source": [
    "import numpy as np\n",
    "import pandas as pd\n",
    "\n",
    "from sklearn.preprocessing import LabelEncoder\n",
    "from sklearn.model_selection import train_test_split\n"
   ]
  },
  {
   "cell_type": "markdown",
   "metadata": {
    "slideshow": {
     "slide_type": "subslide"
    }
   },
   "source": [
    "### Fast Preprocessing"
   ]
  },
  {
   "cell_type": "code",
   "execution_count": 2,
   "metadata": {
    "slideshow": {
     "slide_type": "subslide"
    }
   },
   "outputs": [],
   "source": [
    "data = pd.read_csv('data.csv')"
   ]
  },
  {
   "cell_type": "code",
   "execution_count": 3,
   "metadata": {
    "slideshow": {
     "slide_type": "subslide"
    }
   },
   "outputs": [],
   "source": [
    "# Suppression des outliers\n",
    "\n",
    "data = data.drop(data[(data['GrLivArea']>4000) & (data['SalePrice']<300000)].index)"
   ]
  },
  {
   "cell_type": "code",
   "execution_count": 4,
   "metadata": {
    "slideshow": {
     "slide_type": "subslide"
    }
   },
   "outputs": [],
   "source": [
    "# Complétion des valeurs manquantes\n",
    "data[list(data.select_dtypes(object).columns)] = data[list(data.select_dtypes(object).columns)].fillna('__NC__')\n",
    "data[list(data.select_dtypes(float).columns)] = data[list(data.select_dtypes(float).columns)].apply(lambda x: x.fillna(x.mean()),axis=0)\n",
    "data[list(data.select_dtypes(int).columns)] = data[list(data.select_dtypes(int).columns)].apply(lambda x: x.fillna(x.value_counts().index[0]),axis=0)"
   ]
  },
  {
   "cell_type": "code",
   "execution_count": 5,
   "metadata": {
    "slideshow": {
     "slide_type": "subslide"
    }
   },
   "outputs": [],
   "source": [
    "for c in data.select_dtypes(object).columns:\n",
    "    data[c] = LabelEncoder().fit_transform(data[c])"
   ]
  },
  {
   "cell_type": "code",
   "execution_count": 6,
   "metadata": {
    "slideshow": {
     "slide_type": "subslide"
    }
   },
   "outputs": [
    {
     "data": {
      "text/html": [
       "<div>\n",
       "<style scoped>\n",
       "    .dataframe tbody tr th:only-of-type {\n",
       "        vertical-align: middle;\n",
       "    }\n",
       "\n",
       "    .dataframe tbody tr th {\n",
       "        vertical-align: top;\n",
       "    }\n",
       "\n",
       "    .dataframe thead th {\n",
       "        text-align: right;\n",
       "    }\n",
       "</style>\n",
       "<table border=\"1\" class=\"dataframe\">\n",
       "  <thead>\n",
       "    <tr style=\"text-align: right;\">\n",
       "      <th></th>\n",
       "      <th>Id</th>\n",
       "      <th>MSSubClass</th>\n",
       "      <th>MSZoning</th>\n",
       "      <th>LotFrontage</th>\n",
       "      <th>LotArea</th>\n",
       "      <th>Street</th>\n",
       "      <th>Alley</th>\n",
       "      <th>LotShape</th>\n",
       "      <th>LandContour</th>\n",
       "      <th>Utilities</th>\n",
       "      <th>...</th>\n",
       "      <th>PoolArea</th>\n",
       "      <th>PoolQC</th>\n",
       "      <th>Fence</th>\n",
       "      <th>MiscFeature</th>\n",
       "      <th>MiscVal</th>\n",
       "      <th>MoSold</th>\n",
       "      <th>YrSold</th>\n",
       "      <th>SaleType</th>\n",
       "      <th>SaleCondition</th>\n",
       "      <th>SalePrice</th>\n",
       "    </tr>\n",
       "  </thead>\n",
       "  <tbody>\n",
       "    <tr>\n",
       "      <th>0</th>\n",
       "      <td>1</td>\n",
       "      <td>60</td>\n",
       "      <td>3</td>\n",
       "      <td>65.0</td>\n",
       "      <td>8450</td>\n",
       "      <td>1</td>\n",
       "      <td>2</td>\n",
       "      <td>3</td>\n",
       "      <td>3</td>\n",
       "      <td>0</td>\n",
       "      <td>...</td>\n",
       "      <td>0</td>\n",
       "      <td>3</td>\n",
       "      <td>4</td>\n",
       "      <td>4</td>\n",
       "      <td>0</td>\n",
       "      <td>2</td>\n",
       "      <td>2008</td>\n",
       "      <td>8</td>\n",
       "      <td>4</td>\n",
       "      <td>208500</td>\n",
       "    </tr>\n",
       "    <tr>\n",
       "      <th>1</th>\n",
       "      <td>2</td>\n",
       "      <td>20</td>\n",
       "      <td>3</td>\n",
       "      <td>80.0</td>\n",
       "      <td>9600</td>\n",
       "      <td>1</td>\n",
       "      <td>2</td>\n",
       "      <td>3</td>\n",
       "      <td>3</td>\n",
       "      <td>0</td>\n",
       "      <td>...</td>\n",
       "      <td>0</td>\n",
       "      <td>3</td>\n",
       "      <td>4</td>\n",
       "      <td>4</td>\n",
       "      <td>0</td>\n",
       "      <td>5</td>\n",
       "      <td>2007</td>\n",
       "      <td>8</td>\n",
       "      <td>4</td>\n",
       "      <td>181500</td>\n",
       "    </tr>\n",
       "    <tr>\n",
       "      <th>2</th>\n",
       "      <td>3</td>\n",
       "      <td>60</td>\n",
       "      <td>3</td>\n",
       "      <td>68.0</td>\n",
       "      <td>11250</td>\n",
       "      <td>1</td>\n",
       "      <td>2</td>\n",
       "      <td>0</td>\n",
       "      <td>3</td>\n",
       "      <td>0</td>\n",
       "      <td>...</td>\n",
       "      <td>0</td>\n",
       "      <td>3</td>\n",
       "      <td>4</td>\n",
       "      <td>4</td>\n",
       "      <td>0</td>\n",
       "      <td>9</td>\n",
       "      <td>2008</td>\n",
       "      <td>8</td>\n",
       "      <td>4</td>\n",
       "      <td>223500</td>\n",
       "    </tr>\n",
       "    <tr>\n",
       "      <th>3</th>\n",
       "      <td>4</td>\n",
       "      <td>70</td>\n",
       "      <td>3</td>\n",
       "      <td>60.0</td>\n",
       "      <td>9550</td>\n",
       "      <td>1</td>\n",
       "      <td>2</td>\n",
       "      <td>0</td>\n",
       "      <td>3</td>\n",
       "      <td>0</td>\n",
       "      <td>...</td>\n",
       "      <td>0</td>\n",
       "      <td>3</td>\n",
       "      <td>4</td>\n",
       "      <td>4</td>\n",
       "      <td>0</td>\n",
       "      <td>2</td>\n",
       "      <td>2006</td>\n",
       "      <td>8</td>\n",
       "      <td>0</td>\n",
       "      <td>140000</td>\n",
       "    </tr>\n",
       "    <tr>\n",
       "      <th>4</th>\n",
       "      <td>5</td>\n",
       "      <td>60</td>\n",
       "      <td>3</td>\n",
       "      <td>84.0</td>\n",
       "      <td>14260</td>\n",
       "      <td>1</td>\n",
       "      <td>2</td>\n",
       "      <td>0</td>\n",
       "      <td>3</td>\n",
       "      <td>0</td>\n",
       "      <td>...</td>\n",
       "      <td>0</td>\n",
       "      <td>3</td>\n",
       "      <td>4</td>\n",
       "      <td>4</td>\n",
       "      <td>0</td>\n",
       "      <td>12</td>\n",
       "      <td>2008</td>\n",
       "      <td>8</td>\n",
       "      <td>4</td>\n",
       "      <td>250000</td>\n",
       "    </tr>\n",
       "  </tbody>\n",
       "</table>\n",
       "<p>5 rows × 81 columns</p>\n",
       "</div>"
      ],
      "text/plain": [
       "   Id  MSSubClass  MSZoning  LotFrontage  LotArea  Street  Alley  LotShape  \\\n",
       "0   1          60         3         65.0     8450       1      2         3   \n",
       "1   2          20         3         80.0     9600       1      2         3   \n",
       "2   3          60         3         68.0    11250       1      2         0   \n",
       "3   4          70         3         60.0     9550       1      2         0   \n",
       "4   5          60         3         84.0    14260       1      2         0   \n",
       "\n",
       "   LandContour  Utilities  ...  PoolArea  PoolQC  Fence  MiscFeature  MiscVal  \\\n",
       "0            3          0  ...         0       3      4            4        0   \n",
       "1            3          0  ...         0       3      4            4        0   \n",
       "2            3          0  ...         0       3      4            4        0   \n",
       "3            3          0  ...         0       3      4            4        0   \n",
       "4            3          0  ...         0       3      4            4        0   \n",
       "\n",
       "   MoSold  YrSold  SaleType  SaleCondition  SalePrice  \n",
       "0       2    2008         8              4     208500  \n",
       "1       5    2007         8              4     181500  \n",
       "2       9    2008         8              4     223500  \n",
       "3       2    2006         8              0     140000  \n",
       "4      12    2008         8              4     250000  \n",
       "\n",
       "[5 rows x 81 columns]"
      ]
     },
     "execution_count": 6,
     "metadata": {},
     "output_type": "execute_result"
    }
   ],
   "source": [
    "data.head()"
   ]
  },
  {
   "cell_type": "markdown",
   "metadata": {
    "slideshow": {
     "slide_type": "subslide"
    }
   },
   "source": [
    "### Séparation des données"
   ]
  },
  {
   "cell_type": "code",
   "execution_count": 7,
   "metadata": {
    "slideshow": {
     "slide_type": "subslide"
    }
   },
   "outputs": [],
   "source": [
    "y = data.SalePrice\n",
    "data = data.drop(['Id','SalePrice'], axis = 1)"
   ]
  },
  {
   "cell_type": "code",
   "execution_count": 8,
   "metadata": {
    "slideshow": {
     "slide_type": "subslide"
    }
   },
   "outputs": [],
   "source": [
    "# Séparatation en trois jeux de données\n",
    "X_train, X_tmp, y_train, y_tmp = train_test_split(data, y, test_size = 0.4, random_state = 2019)\n",
    "X_val, X_test, y_val, y_test = train_test_split(X_tmp, y_tmp, test_size = 0.5, random_state = 2019)"
   ]
  },
  {
   "cell_type": "code",
   "execution_count": 9,
   "metadata": {
    "slideshow": {
     "slide_type": "subslide"
    }
   },
   "outputs": [
    {
     "name": "stdout",
     "output_type": "stream",
     "text": [
      "Train shape (874, 79)\n",
      "Validation shape (292, 79)\n",
      "Test shape (292, 79)\n"
     ]
    }
   ],
   "source": [
    "print('Train shape {}'.format(X_train.shape))\n",
    "print('Validation shape {}'.format(X_val.shape))\n",
    "print('Test shape {}'.format(X_test.shape))"
   ]
  },
  {
   "cell_type": "code",
   "execution_count": 10,
   "metadata": {
    "slideshow": {
     "slide_type": "subslide"
    }
   },
   "outputs": [],
   "source": [
    "def rmse(preds, targets):\n",
    "    return np.sqrt(((preds - targets) ** 2).mean())"
   ]
  },
  {
   "cell_type": "markdown",
   "metadata": {
    "slideshow": {
     "slide_type": "subslide"
    }
   },
   "source": [
    "**1** Evaluer les performances, avec la rmse, de cinqs modèles différents au choix sur le jeu de test. \n",
    "Stocker les prédictions de chaque modèle dans un dictionnaire \"preds\" de format suivant :\n",
    "\n",
    "preds = dict()\n",
    "\n",
    "preds['model1'] = model1.predict(X_test)"
   ]
  },
  {
   "cell_type": "code",
   "execution_count": 11,
   "metadata": {
    "slideshow": {
     "slide_type": "subslide"
    }
   },
   "outputs": [],
   "source": [
    "from xgboost import XGBRegressor\n",
    "from sklearn.linear_model import Ridge\n",
    "from sklearn.neighbors import KNeighborsRegressor\n",
    "from sklearn.ensemble import ExtraTreesRegressor,RandomForestRegressor,GradientBoostingRegressor\n"
   ]
  },
  {
   "cell_type": "code",
   "execution_count": 19,
   "metadata": {},
   "outputs": [
    {
     "name": "stderr",
     "output_type": "stream",
     "text": [
      "/Users/arthur/anaconda3/lib/python3.7/site-packages/xgboost/core.py:587: FutureWarning: Series.base is deprecated and will be removed in a future version\n",
      "  if getattr(data, 'base', None) is not None and \\\n"
     ]
    },
    {
     "name": "stdout",
     "output_type": "stream",
     "text": [
      "[18:26:55] WARNING: src/objective/regression_obj.cu:152: reg:linear is now deprecated in favor of reg:squarederror.\n"
     ]
    },
    {
     "name": "stderr",
     "output_type": "stream",
     "text": [
      "/Users/arthur/anaconda3/lib/python3.7/site-packages/sklearn/ensemble/forest.py:245: FutureWarning: The default value of n_estimators will change from 10 in version 0.20 to 100 in 0.22.\n",
      "  \"10 in version 0.20 to 100 in 0.22.\", FutureWarning)\n",
      "/Users/arthur/anaconda3/lib/python3.7/site-packages/sklearn/ensemble/forest.py:245: FutureWarning: The default value of n_estimators will change from 10 in version 0.20 to 100 in 0.22.\n",
      "  \"10 in version 0.20 to 100 in 0.22.\", FutureWarning)\n"
     ]
    },
    {
     "data": {
      "text/plain": [
       "Ridge(alpha=1.0, copy_X=True, fit_intercept=True, max_iter=None,\n",
       "      normalize=False, random_state=None, solver='auto', tol=0.001)"
      ]
     },
     "execution_count": 19,
     "metadata": {},
     "output_type": "execute_result"
    }
   ],
   "source": [
    "model1 = XGBRegressor()\n",
    "model1.fit(X_train, y_train)\n",
    "model2 = RandomForestRegressor()\n",
    "model2.fit(X_train, y_train)\n",
    "model3 = ExtraTreesRegressor()\n",
    "model3.fit(X_train, y_train)\n",
    "model4 = GradientBoostingRegressor()\n",
    "model4.fit(X_train, y_train)\n",
    "model5 = Ridge()\n",
    "model5.fit(X_train, y_train)\n"
   ]
  },
  {
   "cell_type": "code",
   "execution_count": 20,
   "metadata": {},
   "outputs": [],
   "source": [
    "preds=dict()\n",
    "preds['model1']=model1.predict(X_test)\n",
    "preds['model2']=model2.predict(X_test)\n",
    "preds['model3']=model3.predict(X_test)\n",
    "preds['model4']=model4.predict(X_test)\n",
    "preds['model5']=model5.predict(X_test)\n"
   ]
  },
  {
   "cell_type": "code",
   "execution_count": 21,
   "metadata": {},
   "outputs": [
    {
     "name": "stdout",
     "output_type": "stream",
     "text": [
      "model1 rmse 25678.725448485853\n",
      "model2 rmse 27538.657587597696\n",
      "model3 rmse 26863.73300773663\n",
      "model4 rmse 24355.13581859164\n",
      "model5 rmse 26723.9404066337\n"
     ]
    }
   ],
   "source": [
    "for key in preds.keys():\n",
    "    print(f'{key} rmse {rmse(y_test, preds[key])}')"
   ]
  },
  {
   "cell_type": "code",
   "execution_count": 12,
   "metadata": {
    "slideshow": {
     "slide_type": "subslide"
    }
   },
   "outputs": [
    {
     "name": "stdout",
     "output_type": "stream",
     "text": [
      "Ridge a une performance de 26723.9404066337\n",
      "[18:23:39] WARNING: src/objective/regression_obj.cu:152: reg:linear is now deprecated in favor of reg:squarederror.\n"
     ]
    },
    {
     "name": "stderr",
     "output_type": "stream",
     "text": [
      "/Users/arthur/anaconda3/lib/python3.7/site-packages/xgboost/core.py:587: FutureWarning: Series.base is deprecated and will be removed in a future version\n",
      "  if getattr(data, 'base', None) is not None and \\\n"
     ]
    },
    {
     "name": "stdout",
     "output_type": "stream",
     "text": [
      "XGBRegressor a une performance de 25267.225442100796\n",
      "ExtraTreesRegressor a une performance de 24964.81789682046\n",
      "RandomForestRegressor a une performance de 26533.167552363208\n",
      "GradientBoostingRegressor a une performance de 24241.46155717974\n"
     ]
    }
   ],
   "source": [
    "regs = {}\n",
    "regs['rdg'] = {'reg':Ridge(),'name':'Ridge'}\n",
    "regs['xgb'] = {'reg':XGBRegressor(n_estimators=150,random_state= 0),'name':'XGBRegressor'}\n",
    "regs['ext'] = {'reg':ExtraTreesRegressor(n_estimators=150,random_state= 0),'name':'ExtraTreesRegressor'}\n",
    "regs['rf'] = {'reg':RandomForestRegressor(n_estimators=150,random_state= 0),'name':'RandomForestRegressor'}\n",
    "regs['gbt'] = {'reg':GradientBoostingRegressor(n_estimators=150,random_state= 0),'name':'GradientBoostingRegressor'}\n",
    "\n",
    "\n",
    "preds = {}\n",
    "\n",
    "for key in regs:\n",
    "    regs[key]['reg'].fit(X_train,y_train)\n",
    "    preds[key] = regs[key]['reg'].predict(X_test)\n",
    "    print ('{} a une performance de {}'.format(regs[key]['name'],rmse(y_test,preds[key])))\n",
    "    "
   ]
  },
  {
   "cell_type": "markdown",
   "metadata": {
    "slideshow": {
     "slide_type": "subslide"
    }
   },
   "source": [
    "**2** Améliorer les performances en aggrégant par moyenne et médiane."
   ]
  },
  {
   "cell_type": "code",
   "execution_count": 13,
   "metadata": {
    "slideshow": {
     "slide_type": "subslide"
    }
   },
   "outputs": [
    {
     "name": "stdout",
     "output_type": "stream",
     "text": [
      "Agregation par moyenne : 23521.703491886074\n",
      "Agregation par mediane : 23995.415588553733\n"
     ]
    }
   ],
   "source": [
    "#Il suffit d'utiliser les prédictions stockées:\n",
    "print ('Agregation par moyenne : {}'.format(rmse(y_test,np.mean(list(preds.values()),axis=0))))\n",
    "print ('Agregation par mediane : {}'.format(rmse(y_test,np.median(list(preds.values()),axis=0))))\n"
   ]
  },
  {
   "cell_type": "markdown",
   "metadata": {
    "slideshow": {
     "slide_type": "subslide"
    }
   },
   "source": [
    "**3** Améliorer les performances en utilisant une agrégation pondérée de vos modèles. Essayez plusieurs poids, et chercher les plus performants.\n",
    "Comment faire pour trouver des poids optimaux ?"
   ]
  },
  {
   "cell_type": "code",
   "execution_count": 14,
   "metadata": {
    "slideshow": {
     "slide_type": "subslide"
    }
   },
   "outputs": [
    {
     "name": "stdout",
     "output_type": "stream",
     "text": [
      "Agregation pondérée : 23788.47737690504\n",
      "Agregation pondérée : 23970.103376916308\n"
     ]
    }
   ],
   "source": [
    "prediction = preds['rf']*0.2 + preds['ext']*0.1 + preds['gbt']*0.2 + preds['xgb']*0.35 + preds['rdg']*0.15\n",
    "print ('Agregation pondérée : {}'.format(rmse(y_test,prediction))) # Je met des poids dans l'ordre de performance\n",
    "\n",
    "prediction = preds['rf']*0.15+ preds['ext']*0.05 + preds['gbt']*0.15 + preds['xgb']*0.5 + preds['rdg']*0.15\n",
    "print ('Agregation pondérée : {}'.format(rmse(y_test,prediction))) #Je favorise le meilleur modèle\n"
   ]
  },
  {
   "cell_type": "markdown",
   "metadata": {
    "slideshow": {
     "slide_type": "subslide"
    }
   },
   "source": [
    "Il suffit de définir une fonction objectif comme l'aggrégation pondéré des erreurs et trouver une manière de la minimiser ! Bayésien, SGD.."
   ]
  },
  {
   "cell_type": "markdown",
   "metadata": {
    "slideshow": {
     "slide_type": "subslide"
    }
   },
   "source": [
    "**4** Améliorer les performances de deux machines grâce la méthode de bagging."
   ]
  },
  {
   "cell_type": "code",
   "execution_count": 15,
   "metadata": {
    "slideshow": {
     "slide_type": "subslide"
    }
   },
   "outputs": [
    {
     "name": "stdout",
     "output_type": "stream",
     "text": [
      "Bagging RF: 26484.10059468568\n"
     ]
    }
   ],
   "source": [
    "bags = 10\n",
    "preds = []\n",
    "for i in range(bags):\n",
    "    model = RandomForestRegressor(n_estimators=200,random_state=10)\n",
    "    model.fit(X_train,y_train)\n",
    "    preds.append(model.predict(X_test))\n",
    "\n",
    "print ('Bagging RF: {}'.format(rmse(y_test,np.mean(preds,axis=0))))\n"
   ]
  },
  {
   "cell_type": "code",
   "execution_count": 16,
   "metadata": {
    "slideshow": {
     "slide_type": "subslide"
    }
   },
   "outputs": [
    {
     "name": "stdout",
     "output_type": "stream",
     "text": [
      "Bagging GBT: 24059.79623011579\n"
     ]
    }
   ],
   "source": [
    "bags = 10\n",
    "preds = []\n",
    "for i in range(bags):\n",
    "    model = GradientBoostingRegressor(n_estimators=200,random_state=10)\n",
    "    model.fit(X_train,y_train)\n",
    "    preds.append(model.predict(X_test))\n",
    "    \n",
    "print ('Bagging GBT: {}'.format(rmse(y_test,np.mean(preds,axis=0))))\n"
   ]
  },
  {
   "cell_type": "markdown",
   "metadata": {
    "slideshow": {
     "slide_type": "subslide"
    }
   },
   "source": [
    "**5** Implémentez une méthode d'apprentissage sur 5 Folds pour un modèle au choix."
   ]
  },
  {
   "cell_type": "code",
   "execution_count": 17,
   "metadata": {
    "slideshow": {
     "slide_type": "subslide"
    }
   },
   "outputs": [
    {
     "name": "stdout",
     "output_type": "stream",
     "text": [
      "[0]\tvalidation_0-rmse:186648\n",
      "Will train until validation_0-rmse hasn't improved in 50 rounds.\n",
      "[100]\tvalidation_0-rmse:22382.9\n",
      "[200]\tvalidation_0-rmse:21993.8\n",
      "[300]\tvalidation_0-rmse:21792.3\n",
      "[400]\tvalidation_0-rmse:21595.2\n",
      "[500]\tvalidation_0-rmse:21426.6\n",
      "[600]\tvalidation_0-rmse:21238.2\n",
      "[700]\tvalidation_0-rmse:21172\n",
      "Stopping. Best iteration:\n",
      "[712]\tvalidation_0-rmse:21167.5\n",
      "\n",
      "[0]\tvalidation_0-rmse:177467\n",
      "Will train until validation_0-rmse hasn't improved in 50 rounds.\n",
      "[100]\tvalidation_0-rmse:27922\n",
      "[200]\tvalidation_0-rmse:26986.3\n",
      "[300]\tvalidation_0-rmse:26787\n",
      "Stopping. Best iteration:\n",
      "[274]\tvalidation_0-rmse:26708.2\n",
      "\n",
      "[0]\tvalidation_0-rmse:177980\n",
      "Will train until validation_0-rmse hasn't improved in 50 rounds.\n",
      "[100]\tvalidation_0-rmse:28563.3\n",
      "[200]\tvalidation_0-rmse:27839.3\n",
      "Stopping. Best iteration:\n",
      "[217]\tvalidation_0-rmse:27764.1\n",
      "\n",
      "[0]\tvalidation_0-rmse:170220\n",
      "Will train until validation_0-rmse hasn't improved in 50 rounds.\n",
      "[100]\tvalidation_0-rmse:27586\n",
      "[200]\tvalidation_0-rmse:26579.5\n",
      "[300]\tvalidation_0-rmse:26301.6\n",
      "[400]\tvalidation_0-rmse:26074.3\n",
      "[500]\tvalidation_0-rmse:25985.8\n",
      "[600]\tvalidation_0-rmse:25820.8\n",
      "[700]\tvalidation_0-rmse:25763.6\n",
      "[800]\tvalidation_0-rmse:25682.6\n",
      "[900]\tvalidation_0-rmse:25611.1\n",
      "Stopping. Best iteration:\n",
      "[909]\tvalidation_0-rmse:25603.2\n",
      "\n",
      "[0]\tvalidation_0-rmse:187674\n",
      "Will train until validation_0-rmse hasn't improved in 50 rounds.\n",
      "[100]\tvalidation_0-rmse:27115.1\n",
      "[200]\tvalidation_0-rmse:25854.6\n",
      "[300]\tvalidation_0-rmse:25409.8\n",
      "[400]\tvalidation_0-rmse:25290.7\n",
      "Stopping. Best iteration:\n",
      "[440]\tvalidation_0-rmse:25251.4\n",
      "\n"
     ]
    }
   ],
   "source": [
    "from sklearn.model_selection import KFold\n",
    "kfold = KFold(n_splits=5, random_state=42)\n",
    "\n",
    "pred = 0\n",
    "for i, (tr_idx, val_idx) in enumerate(kfold.split(X_train)):\n",
    "    model = XGBRegressor(n_estimators=1000)\n",
    "    model.fit(X_train.iloc[tr_idx],y_train.iloc[tr_idx], eval_set = [(X_train.iloc[val_idx],y_train.iloc[val_idx])], early_stopping_rounds= 50, verbose=100)\n",
    "    pred+=model.predict(X_test) / 5."
   ]
  },
  {
   "cell_type": "code",
   "execution_count": 18,
   "metadata": {
    "slideshow": {
     "slide_type": "subslide"
    }
   },
   "outputs": [
    {
     "name": "stdout",
     "output_type": "stream",
     "text": [
      "5 folds xgboost performance 24030.454858888552\n"
     ]
    }
   ],
   "source": [
    "print('5 folds xgboost performance {}'.format(rmse(y_test,pred)))"
   ]
  },
  {
   "cell_type": "markdown",
   "metadata": {
    "slideshow": {
     "slide_type": "subslide"
    }
   },
   "source": [
    "**7** L'objectif de cette question est d'implémenter un stacking simple.\n",
    "-  1 - Commencer par apprendre des modèles sur le jeu d'apprentissage.\n",
    "-  2 - Stocker les prédictions sur le jeu de validation dans une dataframe 'design_couche1', faites de même pour le jeu de test : 'test_couche1'.\n",
    "-  3 - Apprennez un nouveau modèle de votre choix sur la nouvelle matrice d'apprentissage\n",
    "-  4 - Evaluez les performances sur la nouvelle matrice de test."
   ]
  },
  {
   "cell_type": "code",
   "execution_count": 19,
   "metadata": {
    "slideshow": {
     "slide_type": "subslide"
    }
   },
   "outputs": [],
   "source": [
    "m1 = RandomForestRegressor(n_estimators = 300).fit(X_train,y_train)\n",
    "m2 = XGBRegressor(n_estimators = 300).fit(X_train,y_train)\n",
    "m3 = GradientBoostingRegressor(n_estimators = 300).fit(X_train,y_train)\n",
    "m4 = Ridge().fit(X_train,y_train)"
   ]
  },
  {
   "cell_type": "code",
   "execution_count": 20,
   "metadata": {
    "slideshow": {
     "slide_type": "subslide"
    }
   },
   "outputs": [
    {
     "data": {
      "text/html": [
       "<div>\n",
       "<style scoped>\n",
       "    .dataframe tbody tr th:only-of-type {\n",
       "        vertical-align: middle;\n",
       "    }\n",
       "\n",
       "    .dataframe tbody tr th {\n",
       "        vertical-align: top;\n",
       "    }\n",
       "\n",
       "    .dataframe thead th {\n",
       "        text-align: right;\n",
       "    }\n",
       "</style>\n",
       "<table border=\"1\" class=\"dataframe\">\n",
       "  <thead>\n",
       "    <tr style=\"text-align: right;\">\n",
       "      <th></th>\n",
       "      <th>m1</th>\n",
       "      <th>m2</th>\n",
       "      <th>m3</th>\n",
       "      <th>m4</th>\n",
       "    </tr>\n",
       "  </thead>\n",
       "  <tbody>\n",
       "    <tr>\n",
       "      <th>0</th>\n",
       "      <td>265395.626667</td>\n",
       "      <td>265395.626667</td>\n",
       "      <td>268983.652464</td>\n",
       "      <td>242459.096923</td>\n",
       "    </tr>\n",
       "    <tr>\n",
       "      <th>1</th>\n",
       "      <td>235550.946667</td>\n",
       "      <td>235550.946667</td>\n",
       "      <td>224910.936162</td>\n",
       "      <td>235770.689831</td>\n",
       "    </tr>\n",
       "    <tr>\n",
       "      <th>2</th>\n",
       "      <td>150989.683333</td>\n",
       "      <td>150989.683333</td>\n",
       "      <td>142216.118563</td>\n",
       "      <td>148715.756147</td>\n",
       "    </tr>\n",
       "    <tr>\n",
       "      <th>3</th>\n",
       "      <td>152945.690000</td>\n",
       "      <td>152945.690000</td>\n",
       "      <td>157305.405794</td>\n",
       "      <td>152669.094489</td>\n",
       "    </tr>\n",
       "    <tr>\n",
       "      <th>4</th>\n",
       "      <td>168790.920000</td>\n",
       "      <td>168790.920000</td>\n",
       "      <td>177003.893372</td>\n",
       "      <td>176054.153724</td>\n",
       "    </tr>\n",
       "  </tbody>\n",
       "</table>\n",
       "</div>"
      ],
      "text/plain": [
       "              m1             m2             m3             m4\n",
       "0  265395.626667  265395.626667  268983.652464  242459.096923\n",
       "1  235550.946667  235550.946667  224910.936162  235770.689831\n",
       "2  150989.683333  150989.683333  142216.118563  148715.756147\n",
       "3  152945.690000  152945.690000  157305.405794  152669.094489\n",
       "4  168790.920000  168790.920000  177003.893372  176054.153724"
      ]
     },
     "execution_count": 20,
     "metadata": {},
     "output_type": "execute_result"
    }
   ],
   "source": [
    "design_couche1 = pd.DataFrame()\n",
    "design_couche1['m1'] = m1.predict(X_val)\n",
    "design_couche1['m2'] = m1.predict(X_val)\n",
    "design_couche1['m3'] = m3.predict(X_val)\n",
    "design_couche1['m4'] = m4.predict(X_val)\n",
    "design_couche1.head()"
   ]
  },
  {
   "cell_type": "code",
   "execution_count": 21,
   "metadata": {
    "slideshow": {
     "slide_type": "subslide"
    }
   },
   "outputs": [
    {
     "data": {
      "text/html": [
       "<div>\n",
       "<style scoped>\n",
       "    .dataframe tbody tr th:only-of-type {\n",
       "        vertical-align: middle;\n",
       "    }\n",
       "\n",
       "    .dataframe tbody tr th {\n",
       "        vertical-align: top;\n",
       "    }\n",
       "\n",
       "    .dataframe thead th {\n",
       "        text-align: right;\n",
       "    }\n",
       "</style>\n",
       "<table border=\"1\" class=\"dataframe\">\n",
       "  <thead>\n",
       "    <tr style=\"text-align: right;\">\n",
       "      <th></th>\n",
       "      <th>m1</th>\n",
       "      <th>m2</th>\n",
       "      <th>m3</th>\n",
       "      <th>m4</th>\n",
       "    </tr>\n",
       "  </thead>\n",
       "  <tbody>\n",
       "    <tr>\n",
       "      <th>0</th>\n",
       "      <td>150465.803333</td>\n",
       "      <td>150465.803333</td>\n",
       "      <td>140001.976213</td>\n",
       "      <td>147510.976904</td>\n",
       "    </tr>\n",
       "    <tr>\n",
       "      <th>1</th>\n",
       "      <td>167881.260000</td>\n",
       "      <td>167881.260000</td>\n",
       "      <td>170056.446058</td>\n",
       "      <td>163824.931601</td>\n",
       "    </tr>\n",
       "    <tr>\n",
       "      <th>2</th>\n",
       "      <td>116457.360000</td>\n",
       "      <td>116457.360000</td>\n",
       "      <td>100645.492464</td>\n",
       "      <td>92380.755873</td>\n",
       "    </tr>\n",
       "    <tr>\n",
       "      <th>3</th>\n",
       "      <td>165391.066667</td>\n",
       "      <td>165391.066667</td>\n",
       "      <td>155471.393358</td>\n",
       "      <td>138227.256277</td>\n",
       "    </tr>\n",
       "    <tr>\n",
       "      <th>4</th>\n",
       "      <td>188710.123333</td>\n",
       "      <td>188710.123333</td>\n",
       "      <td>191950.683037</td>\n",
       "      <td>231597.483871</td>\n",
       "    </tr>\n",
       "  </tbody>\n",
       "</table>\n",
       "</div>"
      ],
      "text/plain": [
       "              m1             m2             m3             m4\n",
       "0  150465.803333  150465.803333  140001.976213  147510.976904\n",
       "1  167881.260000  167881.260000  170056.446058  163824.931601\n",
       "2  116457.360000  116457.360000  100645.492464   92380.755873\n",
       "3  165391.066667  165391.066667  155471.393358  138227.256277\n",
       "4  188710.123333  188710.123333  191950.683037  231597.483871"
      ]
     },
     "execution_count": 21,
     "metadata": {},
     "output_type": "execute_result"
    }
   ],
   "source": [
    "test_couche1 = pd.DataFrame()\n",
    "test_couche1['m1'] = m1.predict(X_test)\n",
    "test_couche1['m2'] = m1.predict(X_test)\n",
    "test_couche1['m3'] = m3.predict(X_test)\n",
    "test_couche1['m4'] = m4.predict(X_test)\n",
    "test_couche1.head()"
   ]
  },
  {
   "cell_type": "code",
   "execution_count": 22,
   "metadata": {
    "slideshow": {
     "slide_type": "subslide"
    }
   },
   "outputs": [
    {
     "name": "stdout",
     "output_type": "stream",
     "text": [
      "Performance stacking simple avec une LR 23164.947057861402\n"
     ]
    }
   ],
   "source": [
    "from sklearn.linear_model import LinearRegression\n",
    "modele_couche2 = LinearRegression()\n",
    "modele_couche2.fit(design_couche1, y_val)\n",
    "print('Performance stacking simple avec une LR {}'.format(rmse(y_test,modele_couche2.predict(test_couche1))))"
   ]
  }
 ],
 "metadata": {
  "celltoolbar": "Slideshow",
  "kernelspec": {
   "display_name": "Python 3 (ipykernel)",
   "language": "python",
   "name": "python3"
  },
  "language_info": {
   "codemirror_mode": {
    "name": "ipython",
    "version": 3
   },
   "file_extension": ".py",
   "mimetype": "text/x-python",
   "name": "python",
   "nbconvert_exporter": "python",
   "pygments_lexer": "ipython3",
   "version": "3.10.12"
  }
 },
 "nbformat": 4,
 "nbformat_minor": 4
}
