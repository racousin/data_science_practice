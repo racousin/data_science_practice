{
 "cells": [
  {
   "cell_type": "code",
   "execution_count": 1,
   "id": "bd34e83b-3855-452d-8def-d73d76ec2533",
   "metadata": {},
   "outputs": [],
   "source": [
    "import torch \n",
    "t = torch.rand(10,10)\n"
   ]
  },
  {
   "cell_type": "code",
   "execution_count": 2,
   "id": "739b007e-3fa6-4269-bf18-94e43e9b4ee4",
   "metadata": {},
   "outputs": [
    {
     "data": {
      "text/plain": [
       "tensor([[0.2776, 0.6691, 0.4291, 0.3166, 0.0617, 0.7021, 0.8151, 0.4221, 0.9327,\n",
       "         0.5457],\n",
       "        [0.4115, 0.7872, 0.0257, 0.3078, 0.7475, 0.1392, 0.5409, 0.7967, 0.7675,\n",
       "         0.1682],\n",
       "        [0.9518, 0.3156, 0.8015, 0.2899, 0.1476, 0.2084, 0.3205, 0.6246, 0.2519,\n",
       "         0.3053],\n",
       "        [0.8411, 0.5078, 0.4455, 0.7947, 0.9708, 0.7219, 0.4843, 0.6106, 0.4460,\n",
       "         0.9895],\n",
       "        [0.2929, 0.3615, 0.7573, 0.6075, 0.8674, 0.1822, 0.5162, 0.7289, 0.4134,\n",
       "         0.8039],\n",
       "        [0.6208, 0.1301, 0.1192, 0.5072, 0.4292, 0.8866, 0.2988, 0.2664, 0.2458,\n",
       "         0.2376],\n",
       "        [0.1680, 0.5376, 0.8585, 0.1879, 0.2799, 0.0141, 0.2389, 0.4234, 0.0102,\n",
       "         0.7932],\n",
       "        [0.5382, 0.3401, 0.7114, 0.4416, 0.6056, 0.0989, 0.6833, 0.3188, 0.8629,\n",
       "         0.9943],\n",
       "        [0.8134, 0.1886, 0.7003, 0.3178, 0.3492, 0.9671, 0.7847, 0.1919, 0.0214,\n",
       "         0.3078],\n",
       "        [0.8933, 0.7240, 0.9914, 0.3144, 0.1922, 0.3605, 0.5818, 0.7721, 0.7861,\n",
       "         0.6969]])"
      ]
     },
     "execution_count": 2,
     "metadata": {},
     "output_type": "execute_result"
    }
   ],
   "source": [
    "t"
   ]
  },
  {
   "cell_type": "code",
   "execution_count": 4,
   "id": "554d58ad-f910-4015-8556-3fb0c010a444",
   "metadata": {},
   "outputs": [
    {
     "data": {
      "text/plain": [
       "torch.Size([10, 5])"
      ]
     },
     "execution_count": 4,
     "metadata": {},
     "output_type": "execute_result"
    }
   ],
   "source": [
    "t[:, ::2].shape"
   ]
  },
  {
   "cell_type": "code",
   "execution_count": null,
   "id": "4ecf9613-42cf-4676-99c1-792987d16a5a",
   "metadata": {},
   "outputs": [],
   "source": []
  }
 ],
 "metadata": {
  "kernelspec": {
   "display_name": "Python 3 (ipykernel)",
   "language": "python",
   "name": "python3"
  },
  "language_info": {
   "codemirror_mode": {
    "name": "ipython",
    "version": 3
   },
   "file_extension": ".py",
   "mimetype": "text/x-python",
   "name": "python",
   "nbconvert_exporter": "python",
   "pygments_lexer": "ipython3",
   "version": "3.13.6"
  }
 },
 "nbformat": 4,
 "nbformat_minor": 5
}
