{
 "cells": [
  {
   "cell_type": "markdown",
   "metadata": {},
   "source": [
    "# Module 2 - Exercise 3: Optimizer\n",
    "\n",
    "## Learning Objectives\n",
    "- Implement custom SGD optimizer\n",
    "- Build momentum and Adam optimizers\n",
    "- Compare different optimization strategies\n",
    "- Implement learning rate scheduling\n",
    "- Analyze hyperparameter sensitivity\n",
    "\n",
    "*Comprehensive exercise with step-by-step optimizer implementations and comparisons.*"
   ]
  }
 ],
 "metadata": {
  "kernelspec": {
   "display_name": "Python 3 (ipykernel)",
   "language": "python",
   "name": "python3"
  },
  "language_info": {
   "codemirror_mode": {
    "name": "ipython",
    "version": 3
   },
   "file_extension": ".py",
   "mimetype": "text/x-python",
   "name": "python",
   "nbconvert_exporter": "python",
   "pygments_lexer": "ipython3",
   "version": "3.13.6"
  }
 },
 "nbformat": 4,
 "nbformat_minor": 4
}
