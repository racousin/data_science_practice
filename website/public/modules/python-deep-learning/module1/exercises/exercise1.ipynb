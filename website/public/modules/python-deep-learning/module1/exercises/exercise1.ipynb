{
 "cells": [
  {
   "cell_type": "markdown",
   "metadata": {},
   "source": [
    "# Exercise 1: Tensor Basics\n",
    "\n",
    "This exercise will help you master the fundamental concepts of PyTorch tensors, including creation, manipulation, and basic operations."
   ]
  },
  {
   "cell_type": "markdown",
   "metadata": {},
   "source": [
    "## Setup\n",
    "\n",
    "First, let's import PyTorch and set up our environment."
   ]
  },
  {
   "cell_type": "code",
   "execution_count": null,
   "metadata": {},
   "outputs": [],
   "source": [
    "import torch\n",
    "import numpy as np\n",
    "\n",
    "# Check PyTorch version\n",
    "print(f\"PyTorch version: {torch.__version__}\")\n",
    "\n",
    "# Set random seed for reproducibility\n",
    "torch.manual_seed(42)\n",
    "np.random.seed(42)"
   ]
  },
  {
   "cell_type": "markdown",
   "metadata": {},
   "source": [
    "## Part 1: Tensor Creation\n",
    "\n",
    "Create tensors using different methods and understand their properties."
   ]
  },
  {
   "cell_type": "code",
   "execution_count": null,
   "metadata": {},
   "outputs": [],
   "source": [
    "# TODO: Create a 3x3 tensor filled with zeros\n",
    "tensor_zeros = None\n",
    "\n",
    "# TODO: Create a 2x4 tensor filled with ones\n",
    "tensor_ones = None\n",
    "\n",
    "# TODO: Create a 3x3 identity matrix\n",
    "tensor_identity = None\n",
    "\n",
    "# TODO: Create a tensor with random values between 0 and 1, shape (2, 3, 4)\n",
    "tensor_random = None\n",
    "\n",
    "# TODO: Create a tensor from a Python list [[1, 2, 3], [4, 5, 6]]\n",
    "tensor_from_list = None\n",
    "\n",
    "# TODO: Create a tensor with values from 0 to 9\n",
    "tensor_range = None"
   ]
  },
  {
   "cell_type": "markdown",
   "metadata": {},
   "source": [
    "## Part 2: Tensor Attributes\n",
    "\n",
    "Explore tensor properties and metadata."
   ]
  },
  {
   "cell_type": "code",
   "execution_count": null,
   "metadata": {},
   "outputs": [],
   "source": [
    "# Create a sample tensor\n",
    "sample_tensor = torch.randn(3, 4, 5)\n",
    "\n",
    "# TODO: Get the shape of the tensor\n",
    "tensor_shape = None\n",
    "\n",
    "# TODO: Get the data type of the tensor\n",
    "tensor_dtype = None\n",
    "\n",
    "# TODO: Get the device the tensor is stored on\n",
    "tensor_device = None\n",
    "\n",
    "# TODO: Get the number of dimensions\n",
    "tensor_ndim = None\n",
    "\n",
    "# TODO: Get the total number of elements\n",
    "tensor_numel = None"
   ]
  },
  {
   "cell_type": "markdown",
   "metadata": {},
   "source": [
    "## Part 3: Tensor Indexing and Slicing\n",
    "\n",
    "Practice accessing and modifying tensor elements."
   ]
  },
  {
   "cell_type": "code",
   "execution_count": null,
   "metadata": {},
   "outputs": [],
   "source": [
    "# Create a sample tensor\n",
    "tensor = torch.arange(24).reshape(4, 6)\n",
    "print(\"Original tensor:\")\n",
    "print(tensor)\n",
    "\n",
    "# TODO: Get the element at position (1, 3)\n",
    "element = None\n",
    "\n",
    "# TODO: Get the second row\n",
    "second_row = None\n",
    "\n",
    "# TODO: Get the last column\n",
    "last_column = None\n",
    "\n",
    "# TODO: Get a 2x2 submatrix from the top-left corner\n",
    "submatrix = None\n",
    "\n",
    "# TODO: Get every other element from the first row\n",
    "alternating_elements = None"
   ]
  },
  {
   "cell_type": "markdown",
   "metadata": {},
   "source": [
    "## Part 4: Tensor Reshaping\n",
    "\n",
    "Learn to manipulate tensor dimensions."
   ]
  },
  {
   "cell_type": "code",
   "execution_count": null,
   "metadata": {},
   "outputs": [],
   "source": [
    "# Create a sample tensor\n",
    "original = torch.arange(12)\n",
    "\n",
    "# TODO: Reshape to 3x4\n",
    "reshaped_3x4 = None\n",
    "\n",
    "# TODO: Reshape to 2x2x3\n",
    "reshaped_2x2x3 = None\n",
    "\n",
    "# TODO: Flatten the 2x2x3 tensor\n",
    "flattened = None\n",
    "\n",
    "# TODO: Add a new dimension at position 0 (unsqueeze)\n",
    "unsqueezed = None\n",
    "\n",
    "# TODO: Remove single-dimensional entries (squeeze)\n",
    "tensor_with_singles = torch.randn(1, 3, 1, 4)\n",
    "squeezed = None"
   ]
  },
  {
   "cell_type": "markdown",
   "metadata": {},
   "source": [
    "## Part 5: Tensor Data Types\n",
    "\n",
    "Work with different tensor data types and conversions."
   ]
  },
  {
   "cell_type": "code",
   "execution_count": null,
   "metadata": {},
   "outputs": [],
   "source": [
    "# TODO: Create a float32 tensor\n",
    "float32_tensor = None\n",
    "\n",
    "# TODO: Convert it to float64\n",
    "float64_tensor = None\n",
    "\n",
    "# TODO: Create an integer tensor and convert to float\n",
    "int_tensor = None\n",
    "int_to_float = None\n",
    "\n",
    "# TODO: Create a boolean tensor from a condition\n",
    "comparison_tensor = torch.tensor([1, 2, 3, 4, 5])\n",
    "bool_tensor = None  # Elements greater than 3"
   ]
  },
  {
   "cell_type": "markdown",
   "metadata": {},
   "source": [
    "## Part 6: NumPy Interoperability\n",
    "\n",
    "Convert between PyTorch tensors and NumPy arrays."
   ]
  },
  {
   "cell_type": "code",
   "execution_count": null,
   "metadata": {},
   "outputs": [],
   "source": [
    "# TODO: Create a NumPy array and convert to tensor\n",
    "numpy_array = np.array([[1, 2, 3], [4, 5, 6]])\n",
    "tensor_from_numpy = None\n",
    "\n",
    "# TODO: Create a tensor and convert to NumPy array\n",
    "pytorch_tensor = torch.randn(2, 3)\n",
    "numpy_from_tensor = None\n",
    "\n",
    "# TODO: Demonstrate that they share memory (for CPU tensors)\n",
    "# Modify the numpy array and show the tensor changes\n",
    "shared_numpy = np.ones((2, 2))\n",
    "shared_tensor = None\n",
    "# Modify shared_numpy and verify shared_tensor changes"
   ]
  },
  {
   "cell_type": "markdown",
   "metadata": {},
   "source": [
    "## Validation\n",
    "\n",
    "Run this cell to validate your solutions."
   ]
  },
  {
   "cell_type": "code",
   "execution_count": null,
   "metadata": {},
   "outputs": [],
   "source": [
    "# This cell will be used for automatic validation\n",
    "# Clone and run tests from the repository\n",
    "!git clone https://github.com/raphaelcousin/data_science_practice.git /tmp/tests 2>/dev/null || true\n",
    "!cd /tmp/tests && python tests/python-deep-learning/module1/test_exercise1.py"
   ]
  }
 ],
 "metadata": {
  "kernelspec": {
   "display_name": "Python 3",
   "language": "python",
   "name": "python3"
  },
  "language_info": {
   "codemirror_mode": {
    "name": "ipython",
    "version": 3
   },
   "file_extension": ".py",
   "mimetype": "text/x-python",
   "name": "python",
   "nbconvert_exporter": "python",
   "pygments_lexer": "ipython3",
   "version": "3.8.0"
  }
 },
 "nbformat": 4,
 "nbformat_minor": 4
}