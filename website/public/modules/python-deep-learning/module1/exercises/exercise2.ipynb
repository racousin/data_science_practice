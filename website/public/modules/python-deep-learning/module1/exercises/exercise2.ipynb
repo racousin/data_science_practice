{
 "cells": [
  {
   "cell_type": "markdown",
   "metadata": {},
   "source": [
    "# Exercise 2: PyTorch Operations\n",
    "\n",
    "Master tensor operations including mathematical operations, broadcasting, and advanced tensor manipulations."
   ]
  },
  {
   "cell_type": "markdown",
   "metadata": {},
   "source": [
    "## Setup"
   ]
  },
  {
   "cell_type": "code",
   "source": "# Clone the test repository\n!git clone https://github.com/racousin/data_science_practice.git /tmp/tests 2>/dev/null || true\n!cd /tmp/tests && pwd && ls -la tests/python-deep-learning/module1/\n\n# Import the test module\nimport sys\nsys.path.append('/tmp/tests')\nprint(\"Test repository setup complete!\")",
   "metadata": {},
   "execution_count": null,
   "outputs": []
  },
  {
   "cell_type": "markdown",
   "source": "## Test Setup\n\nFirst, let's clone the test repository to validate our solutions step by step.",
   "metadata": {}
  },
  {
   "cell_type": "code",
   "execution_count": null,
   "metadata": {},
   "outputs": [],
   "source": [
    "import torch\n",
    "import numpy as np\n",
    "\n",
    "# Set random seed for reproducibility\n",
    "torch.manual_seed(42)\n",
    "np.random.seed(42)\n",
    "\n",
    "print(f\"PyTorch version: {torch.__version__}\")"
   ]
  },
  {
   "cell_type": "markdown",
   "metadata": {},
   "source": [
    "## Part 1: Element-wise Operations\n",
    "\n",
    "Perform basic mathematical operations on tensors."
   ]
  },
  {
   "cell_type": "code",
   "execution_count": null,
   "metadata": {},
   "outputs": [],
   "source": [
    "# Create sample tensors\n",
    "tensor_a = torch.tensor([[1, 2, 3], [4, 5, 6]], dtype=torch.float32)\n",
    "tensor_b = torch.tensor([[7, 8, 9], [10, 11, 12]], dtype=torch.float32)\n",
    "\n",
    "# TODO: Add the two tensors\n",
    "tensor_sum = None\n",
    "\n",
    "# TODO: Subtract tensor_b from tensor_a\n",
    "tensor_diff = None\n",
    "\n",
    "# TODO: Multiply tensors element-wise\n",
    "tensor_mul = None\n",
    "\n",
    "# TODO: Divide tensor_a by tensor_b\n",
    "tensor_div = None\n",
    "\n",
    "# TODO: Compute tensor_a to the power of 2\n",
    "tensor_pow = None\n",
    "\n",
    "# TODO: Compute the square root of tensor_a\n",
    "tensor_sqrt = None"
   ]
  },
  {
   "cell_type": "markdown",
   "metadata": {},
   "source": [
    "## Part 2: Reduction Operations\n",
    "\n",
    "Apply operations that reduce tensor dimensions."
   ]
  },
  {
   "cell_type": "code",
   "source": "# Test Part 1: Element-wise Operations\ntry:\n    from tests.python_deep_learning.module1.test_exercise2 import test_element_wise_ops\n    test_element_wise_ops(locals())\n    print(\"✅ Part 1: Element-wise Operations - All tests passed!\")\nexcept Exception as e:\n    print(f\"❌ Part 1: Element-wise Operations - Tests failed: {e}\")\n    print(\"Complete the element-wise operations tasks above before proceeding.\")",
   "metadata": {},
   "execution_count": null,
   "outputs": []
  },
  {
   "cell_type": "markdown",
   "source": "### Validate Part 1: Element-wise Operations\n\nLet's validate your element-wise operations solutions.",
   "metadata": {}
  },
  {
   "cell_type": "code",
   "execution_count": null,
   "metadata": {},
   "outputs": [],
   "source": [
    "# Create a sample tensor\n",
    "tensor = torch.randn(3, 4, 5)\n",
    "\n",
    "# TODO: Compute the sum of all elements\n",
    "total_sum = None\n",
    "\n",
    "# TODO: Compute the mean along dimension 1\n",
    "mean_dim1 = None\n",
    "\n",
    "# TODO: Find the maximum value and its index along dimension 2\n",
    "max_values = None\n",
    "max_indices = None\n",
    "\n",
    "# TODO: Compute the standard deviation along dimension 0\n",
    "std_dim0 = None\n",
    "\n",
    "# TODO: Compute the product of all elements\n",
    "total_product = None"
   ]
  },
  {
   "cell_type": "markdown",
   "metadata": {},
   "source": [
    "## Part 3: Matrix Operations\n",
    "\n",
    "Perform linear algebra operations on tensors."
   ]
  },
  {
   "cell_type": "code",
   "source": "# Test Part 2: Reduction Operations\ntry:\n    from tests.python_deep_learning.module1.test_exercise2 import test_reduction_ops\n    test_reduction_ops(locals())\n    print(\"✅ Part 2: Reduction Operations - All tests passed!\")\nexcept Exception as e:\n    print(f\"❌ Part 2: Reduction Operations - Tests failed: {e}\")\n    print(\"Complete the reduction operations tasks above before proceeding.\")",
   "metadata": {},
   "execution_count": null,
   "outputs": []
  },
  {
   "cell_type": "markdown",
   "source": "### Validate Part 2: Reduction Operations\n\nLet's validate your reduction operations solutions.",
   "metadata": {}
  },
  {
   "cell_type": "code",
   "execution_count": null,
   "metadata": {},
   "outputs": [],
   "source": [
    "# Create sample matrices\n",
    "matrix_a = torch.randn(3, 4)\n",
    "matrix_b = torch.randn(4, 5)\n",
    "square_matrix = torch.randn(3, 3)\n",
    "\n",
    "# TODO: Perform matrix multiplication of matrix_a and matrix_b\n",
    "matmul_result = None\n",
    "\n",
    "# TODO: Compute the transpose of matrix_a\n",
    "transpose_a = None\n",
    "\n",
    "# TODO: Compute the inverse of square_matrix\n",
    "inverse_matrix = None\n",
    "\n",
    "# TODO: Compute the determinant of square_matrix\n",
    "determinant = None\n",
    "\n",
    "# TODO: Compute eigenvalues and eigenvectors of square_matrix\n",
    "eigenvalues = None\n",
    "eigenvectors = None"
   ]
  },
  {
   "cell_type": "markdown",
   "metadata": {},
   "source": [
    "## Part 4: Broadcasting\n",
    "\n",
    "Understand and apply broadcasting rules in tensor operations."
   ]
  },
  {
   "cell_type": "code",
   "source": "# Test Part 3: Matrix Operations\ntry:\n    from tests.python_deep_learning.module1.test_exercise2 import test_matrix_ops\n    test_matrix_ops(locals())\n    print(\"✅ Part 3: Matrix Operations - All tests passed!\")\nexcept Exception as e:\n    print(f\"❌ Part 3: Matrix Operations - Tests failed: {e}\")\n    print(\"Complete the matrix operations tasks above before proceeding.\")",
   "metadata": {},
   "execution_count": null,
   "outputs": []
  },
  {
   "cell_type": "markdown",
   "source": "### Validate Part 3: Matrix Operations\n\nLet's validate your matrix operations solutions.",
   "metadata": {}
  },
  {
   "cell_type": "code",
   "execution_count": null,
   "metadata": {},
   "outputs": [],
   "source": [
    "# Create tensors of different shapes\n",
    "tensor_3x4 = torch.randn(3, 4)\n",
    "tensor_1x4 = torch.randn(1, 4)\n",
    "tensor_3x1 = torch.randn(3, 1)\n",
    "scalar = torch.tensor(2.0)\n",
    "\n",
    "# TODO: Add tensor_1x4 to tensor_3x4 (broadcasting along dim 0)\n",
    "broadcast_add_dim0 = None\n",
    "\n",
    "# TODO: Multiply tensor_3x1 with tensor_3x4 (broadcasting along dim 1)\n",
    "broadcast_mul_dim1 = None\n",
    "\n",
    "# TODO: Add scalar to tensor_3x4 (scalar broadcasting)\n",
    "scalar_broadcast = None\n",
    "\n",
    "# TODO: Create two tensors that can be broadcast together and perform an operation\n",
    "tensor_custom1 = None  # Shape: (2, 1, 3)\n",
    "tensor_custom2 = None  # Shape: (1, 3, 1)\n",
    "broadcast_custom = None  # Result of tensor_custom1 + tensor_custom2"
   ]
  },
  {
   "cell_type": "markdown",
   "metadata": {},
   "source": [
    "## Part 5: Advanced Indexing\n",
    "\n",
    "Use advanced indexing techniques including boolean masks and gather operations."
   ]
  },
  {
   "cell_type": "code",
   "source": "# Test Part 4: Broadcasting\ntry:\n    from tests.python_deep_learning.module1.test_exercise2 import test_broadcasting\n    test_broadcasting(locals())\n    print(\"✅ Part 4: Broadcasting - All tests passed!\")\nexcept Exception as e:\n    print(f\"❌ Part 4: Broadcasting - Tests failed: {e}\")\n    print(\"Complete the broadcasting tasks above before proceeding.\")",
   "metadata": {},
   "execution_count": null,
   "outputs": []
  },
  {
   "cell_type": "markdown",
   "source": "### Validate Part 4: Broadcasting\n\nLet's validate your broadcasting solutions.",
   "metadata": {}
  },
  {
   "cell_type": "code",
   "execution_count": null,
   "metadata": {},
   "outputs": [],
   "source": [
    "# Create a sample tensor\n",
    "tensor = torch.randn(4, 5)\n",
    "\n",
    "# TODO: Create a boolean mask for elements greater than 0\n",
    "mask = None\n",
    "\n",
    "# TODO: Select elements using the boolean mask\n",
    "masked_elements = None\n",
    "\n",
    "# TODO: Set all negative values to 0 using boolean indexing\n",
    "tensor_relu = tensor.clone()\n",
    "# Apply ReLU using boolean indexing\n",
    "\n",
    "# TODO: Use torch.gather to select specific elements\n",
    "# Select elements at positions (0,1), (1,2), (2,0), (3,4)\n",
    "indices = torch.tensor([[1], [2], [0], [4]])\n",
    "gathered = None\n",
    "\n",
    "# TODO: Use torch.scatter to place values at specific positions\n",
    "scattered = torch.zeros(3, 5)\n",
    "src = torch.tensor([[1, 2, 3], [4, 5, 6], [7, 8, 9]], dtype=torch.float32)\n",
    "index = torch.tensor([[0, 1, 2], [2, 0, 1], [1, 2, 0]])\n",
    "# Scatter src values into scattered tensor"
   ]
  },
  {
   "cell_type": "markdown",
   "metadata": {},
   "source": [
    "## Part 6: Tensor Concatenation and Stacking\n",
    "\n",
    "Combine multiple tensors into larger tensors."
   ]
  },
  {
   "cell_type": "code",
   "source": "# Test Part 5: Advanced Indexing\ntry:\n    from tests.python_deep_learning.module1.test_exercise2 import test_advanced_indexing\n    test_advanced_indexing(locals())\n    print(\"✅ Part 5: Advanced Indexing - All tests passed!\")\nexcept Exception as e:\n    print(f\"❌ Part 5: Advanced Indexing - Tests failed: {e}\")\n    print(\"Complete the advanced indexing tasks above before proceeding.\")",
   "metadata": {},
   "execution_count": null,
   "outputs": []
  },
  {
   "cell_type": "markdown",
   "source": "### Validate Part 5: Advanced Indexing\n\nLet's validate your advanced indexing solutions.",
   "metadata": {}
  },
  {
   "cell_type": "code",
   "execution_count": null,
   "metadata": {},
   "outputs": [],
   "source": [
    "# Create sample tensors\n",
    "tensor1 = torch.randn(2, 3)\n",
    "tensor2 = torch.randn(2, 3)\n",
    "tensor3 = torch.randn(2, 3)\n",
    "\n",
    "# TODO: Concatenate tensors along dimension 0\n",
    "concat_dim0 = None\n",
    "\n",
    "# TODO: Concatenate tensors along dimension 1\n",
    "concat_dim1 = None\n",
    "\n",
    "# TODO: Stack tensors along a new dimension 0\n",
    "stacked_dim0 = None\n",
    "\n",
    "# TODO: Stack tensors along a new dimension 2\n",
    "stacked_dim2 = None\n",
    "\n",
    "# TODO: Split a tensor into multiple chunks\n",
    "large_tensor = torch.randn(10, 4)\n",
    "chunks = None  # Split into 5 chunks along dimension 0"
   ]
  },
  {
   "cell_type": "markdown",
   "metadata": {},
   "source": [
    "## Part 7: In-place Operations\n",
    "\n",
    "Understand memory-efficient in-place operations."
   ]
  },
  {
   "cell_type": "code",
   "source": "# Test Part 6: Tensor Concatenation and Stacking\ntry:\n    from tests.python_deep_learning.module1.test_exercise2 import test_concat_stack\n    test_concat_stack(locals())\n    print(\"✅ Part 6: Tensor Concatenation and Stacking - All tests passed!\")\nexcept Exception as e:\n    print(f\"❌ Part 6: Tensor Concatenation and Stacking - Tests failed: {e}\")\n    print(\"Complete the concatenation and stacking tasks above before proceeding.\")",
   "metadata": {},
   "execution_count": null,
   "outputs": []
  },
  {
   "cell_type": "markdown",
   "source": "### Validate Part 6: Tensor Concatenation and Stacking\n\nLet's validate your concatenation and stacking solutions.",
   "metadata": {}
  },
  {
   "cell_type": "code",
   "execution_count": null,
   "metadata": {},
   "outputs": [],
   "source": [
    "# Create sample tensors\n",
    "tensor = torch.randn(3, 3)\n",
    "original_id = id(tensor)\n",
    "\n",
    "# TODO: Add 1 to tensor in-place\n",
    "# tensor in-place addition\n",
    "\n",
    "# TODO: Multiply tensor by 2 in-place\n",
    "# tensor in-place multiplication\n",
    "\n",
    "# TODO: Apply ReLU in-place\n",
    "# tensor in-place ReLU\n",
    "\n",
    "# Verify that the tensor ID hasn't changed\n",
    "assert id(tensor) == original_id, \"Tensor ID changed - not an in-place operation!\"\n",
    "\n",
    "# TODO: Demonstrate the difference between in-place and regular operations\n",
    "tensor_copy = torch.randn(2, 2)\n",
    "# Regular operation (creates new tensor)\n",
    "regular_result = None\n",
    "# In-place operation (modifies existing tensor)\n",
    "inplace_result = None"
   ]
  },
  {
   "cell_type": "markdown",
   "metadata": {},
   "source": [
    "## Validation\n",
    "\n",
    "Run this cell to validate your solutions."
   ]
  },
  {
   "cell_type": "code",
   "source": "# Test Part 7: In-place Operations\ntry:\n    from tests.python_deep_learning.module1.test_exercise2 import test_inplace_ops\n    test_inplace_ops(locals())\n    print(\"✅ Part 7: In-place Operations - All tests passed!\")\nexcept Exception as e:\n    print(f\"❌ Part 7: In-place Operations - Tests failed: {e}\")\n    print(\"Complete the in-place operations tasks above before proceeding.\")",
   "metadata": {},
   "execution_count": null,
   "outputs": []
  },
  {
   "cell_type": "markdown",
   "source": "# Run complete test suite\n!cd /tmp/tests && python tests/python-deep-learning/module1/test_exercise2.py",
   "metadata": {}
  },
  {
   "cell_type": "code",
   "execution_count": null,
   "metadata": {},
   "outputs": [],
   "source": "## Final Validation\n\nRun this cell to validate all your solutions at once."
  }
 ],
 "metadata": {
  "kernelspec": {
   "display_name": "Python 3",
   "language": "python",
   "name": "python3"
  },
  "language_info": {
   "codemirror_mode": {
    "name": "ipython",
    "version": 3
   },
   "file_extension": ".py",
   "mimetype": "text/x-python",
   "name": "python",
   "nbconvert_exporter": "python",
   "pygments_lexer": "ipython3",
   "version": "3.8.0"
  }
 },
 "nbformat": 4,
 "nbformat_minor": 4
}